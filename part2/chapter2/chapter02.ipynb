{
  "nbformat": 4,
  "nbformat_minor": 0,
  "metadata": {
    "kernelspec": {
      "display_name": "Python 3",
      "language": "python",
      "name": "python3"
    },
    "language_info": {
      "codemirror_mode": {
        "name": "ipython",
        "version": 3
      },
      "file_extension": ".py",
      "mimetype": "text/x-python",
      "name": "python",
      "nbconvert_exporter": "python",
      "pygments_lexer": "ipython3",
      "version": "3.7.7"
    },
    "colab": {
      "name": "Chapter 2 - 뉴욕에서 방이 둘 딸린 집을 에어비엔비에 내놓으려 한다, 이 때 적당한 숙박료를 구하시오(문제).ipynb",
      "provenance": [],
      "collapsed_sections": [
        "ODJVmYvIP3x-",
        "c0iKTnLNsraM",
        "cxZwPnfms0-9",
        "IRssoNrgP7So",
        "paInbv8Ys-Qy",
        "zvbeoB_WtBi-",
        "aJ34SovLtFI8",
        "9L3BNVM7tHN5",
        "HyFm33tNtVn7",
        "HGHvPwkNtXgj",
        "amkU5Y6g7Dp4",
        "Ga7Lzcw8TH0G",
        "izztXKpllMss",
        "KywGh9sjtYl9",
        "CXLd43EZ9EgS",
        "2Z62otW9lgtX",
        "FRfd7ABjepBS",
        "sWIF67-8lr4C",
        "Dev2yLeMta85",
        "x93Tb6lptcA2",
        "RrWrE8Z4exup",
        "NypEtNhdfCow",
        "gUo8NmHkfIpf",
        "xTRTOLTNto3h"
      ]
    }
  },
  "cells": [
    {
      "cell_type": "markdown",
      "metadata": {
        "id": "NqqLNJZjfi8U"
      },
      "source": [
        "# 주제 : 뉴욕에서 방이 둘 딸린 집을 에어비엔비에 내놓으려 한다. 이 때 적당한 숙박료를 구하시오. (5점)\n",
        "----------\n",
        "\n",
        "## 실습 가이드\n",
        "    1. 데이터를 다운로드하여 Colab에 불러옵니다.\n",
        "    2. 필요한 라이브러리는 모두 코드로 작성되어 있습니다.\n",
        "    3. 코드는 위에서부터 아래로 순서대로 실행합니다.\n",
        "    \n",
        "    \n",
        "## 데이터 소개\n",
        "    - 이번 주제는 New York City Airbnb Open Data를 사용합니다.\n",
        "    \n",
        "    - 다음 1개의 csv 파일을 사용합니다.\n",
        "    AB_NYC_2019.csv\n",
        "    \n",
        "    - 각 파일의 컬럼은 아래와 같습니다.\n",
        "    id: 항목의 ID\n",
        "    name: 항목의 이름 (타이틀)\n",
        "    host_id: 호스트 ID\n",
        "    host_name: 호스트의 이름\n",
        "    neighbourhood_group: 방이 있는 구역 그룹\n",
        "    neighbourhood: 방이 있는 구역\n",
        "    latitude: 방이 위치한 위도\n",
        "    longitude: 방이 위치한 경도\n",
        "    room_type: 방의 종류\n",
        "    price: 가격 (미 달러)\n",
        "    minimum_nights: 최소 숙박 일수\n",
        "    number_of_reviews: 리뷰의 개수\n",
        "    last_review: 마지막 리뷰 일자\n",
        "    reviews_per_month: 월별 리뷰 개수\n",
        "    calculated_host_listings_count: 호스트가 올린 방 개수\n",
        "    availability_365: 365일 중 가능한 일수\n",
        "\n",
        "    \n",
        "- 데이터 출처: https://www.kaggle.com/dgomonov/new-york-city-airbnb-open-data\n",
        "\n",
        "## 최종 목표\n",
        "    - 스크래핑된 dirty 데이터 클리닝 방법 이해\n",
        "    - 다양한 종류의 데이터 정규화 방법 습득\n",
        "    - 데이터 시각화를 통한 인사이트 습득 방법의 이해\n",
        "    - Scikit-learn 기반의 모델 학습 방법 습득\n",
        "    - 학습된 모델로 부터의 인사이트 획득 방법 습득\n",
        "\n",
        "- 출제자 : 신제용 강사\n",
        "---"
      ]
    },
    {
      "cell_type": "markdown",
      "metadata": {
        "id": "ODJVmYvIP3x-"
      },
      "source": [
        "## Step 0. Regression에 대하여"
      ]
    },
    {
      "cell_type": "markdown",
      "metadata": {
        "id": "c0iKTnLNsraM"
      },
      "source": [
        "### 선형 회귀에 대하여\n",
        "Linear Regression: 하나의 값을 추정할때 \n",
        "여러개 입력된 값 (M개의 feature vector)의 각각의 weight을 곱해 하나의 값을 얻어내려함\n"
      ]
    },
    {
      "cell_type": "markdown",
      "metadata": {
        "id": "cxZwPnfms0-9"
      },
      "source": [
        "### 그 외의 회귀 방법\n",
        "노트필기"
      ]
    },
    {
      "cell_type": "markdown",
      "metadata": {
        "id": "IRssoNrgP7So"
      },
      "source": [
        "## Step 1. 데이터셋 준비하기"
      ]
    },
    {
      "cell_type": "code",
      "metadata": {
        "id": "g49RuFGrBvt7"
      },
      "source": [
        "import pandas as pd\n",
        "import numpy as np\n",
        "import matplotlib.pyplot as plt\n",
        "import seaborn as sns"
      ],
      "execution_count": 14,
      "outputs": []
    },
    {
      "cell_type": "markdown",
      "metadata": {
        "id": "paInbv8Ys-Qy"
      },
      "source": [
        "### 문제 1. Colab Notebook에 Kaggle API 세팅하기\n"
      ]
    },
    {
      "cell_type": "code",
      "metadata": {
        "id": "RRXGYV60B7FX"
      },
      "source": [
        "import os"
      ],
      "execution_count": 15,
      "outputs": []
    },
    {
      "cell_type": "code",
      "metadata": {
        "id": "mMKFOC0OBtHO"
      },
      "source": [
        "# os.environ을 이용하여 Kaggle API Username, Key 세팅하기\n",
        "# os.environ을 이용하여 Kaggle API Username, Key 세팅하기\n",
        "os.environ['KAGGLE_USERNAME'] = 'samjinwang'\n",
        "os.environ['KAGGLE_KEY'] = '50f59f3ee7398d8b54738b567b005831'\n",
        "\n"
      ],
      "execution_count": 18,
      "outputs": []
    },
    {
      "cell_type": "markdown",
      "metadata": {
        "id": "zvbeoB_WtBi-"
      },
      "source": [
        "### 문제 2. 데이터 다운로드 및 압축 해제하기\n"
      ]
    },
    {
      "cell_type": "code",
      "metadata": {
        "id": "JSblp2NsCGbh",
        "colab": {
          "base_uri": "https://localhost:8080/"
        },
        "outputId": "172531a0-f7ae-457f-cf0e-92ba79c627b3"
      },
      "source": [
        "# Linux 명령어로 Kaggle API를 이용하여 데이터셋 다운로드하기 (!kaggle ~)\n",
        "# Linux 명령어로 압축 해제하기\n",
        "!rm *.*\n",
        "!kaggle datasets download -d dgomonov/new-york-city-airbnb-open-data\n",
        "!unzip '*.zip'\n"
      ],
      "execution_count": 19,
      "outputs": [
        {
          "output_type": "stream",
          "name": "stdout",
          "text": [
            "rm: cannot remove '*.*': No such file or directory\n",
            "404 - Not Found\n",
            "unzip:  cannot find or open *.zip, *.zip.zip or *.zip.ZIP.\n",
            "\n",
            "No zipfiles found.\n"
          ]
        }
      ]
    },
    {
      "cell_type": "markdown",
      "metadata": {
        "id": "aJ34SovLtFI8"
      },
      "source": [
        "### 문제 3. Pandas 라이브러리로 csv파일 읽어들이기\n"
      ]
    },
    {
      "cell_type": "code",
      "metadata": {
        "id": "RnJv-4YwCMSx",
        "colab": {
          "base_uri": "https://localhost:8080/",
          "height": 386
        },
        "outputId": "27a6ab8c-4a3b-4885-8755-cceeaf65538e"
      },
      "source": [
        "df = pd.read_csv('AB_NYC_2019.csv')"
      ],
      "execution_count": 6,
      "outputs": [
        {
          "output_type": "error",
          "ename": "FileNotFoundError",
          "evalue": "ignored",
          "traceback": [
            "\u001b[0;31m---------------------------------------------------------------------------\u001b[0m",
            "\u001b[0;31mFileNotFoundError\u001b[0m                         Traceback (most recent call last)",
            "\u001b[0;32m<ipython-input-6-eb3e2576eced>\u001b[0m in \u001b[0;36m<module>\u001b[0;34m()\u001b[0m\n\u001b[0;32m----> 1\u001b[0;31m \u001b[0mdf\u001b[0m \u001b[0;34m=\u001b[0m \u001b[0mpd\u001b[0m\u001b[0;34m.\u001b[0m\u001b[0mread_csv\u001b[0m\u001b[0;34m(\u001b[0m\u001b[0;34m'AB_NYC_2019.csv'\u001b[0m\u001b[0;34m)\u001b[0m\u001b[0;34m\u001b[0m\u001b[0;34m\u001b[0m\u001b[0m\n\u001b[0m",
            "\u001b[0;32m/usr/local/lib/python3.7/dist-packages/pandas/io/parsers.py\u001b[0m in \u001b[0;36mread_csv\u001b[0;34m(filepath_or_buffer, sep, delimiter, header, names, index_col, usecols, squeeze, prefix, mangle_dupe_cols, dtype, engine, converters, true_values, false_values, skipinitialspace, skiprows, skipfooter, nrows, na_values, keep_default_na, na_filter, verbose, skip_blank_lines, parse_dates, infer_datetime_format, keep_date_col, date_parser, dayfirst, cache_dates, iterator, chunksize, compression, thousands, decimal, lineterminator, quotechar, quoting, doublequote, escapechar, comment, encoding, dialect, error_bad_lines, warn_bad_lines, delim_whitespace, low_memory, memory_map, float_precision)\u001b[0m\n\u001b[1;32m    686\u001b[0m     )\n\u001b[1;32m    687\u001b[0m \u001b[0;34m\u001b[0m\u001b[0m\n\u001b[0;32m--> 688\u001b[0;31m     \u001b[0;32mreturn\u001b[0m \u001b[0m_read\u001b[0m\u001b[0;34m(\u001b[0m\u001b[0mfilepath_or_buffer\u001b[0m\u001b[0;34m,\u001b[0m \u001b[0mkwds\u001b[0m\u001b[0;34m)\u001b[0m\u001b[0;34m\u001b[0m\u001b[0;34m\u001b[0m\u001b[0m\n\u001b[0m\u001b[1;32m    689\u001b[0m \u001b[0;34m\u001b[0m\u001b[0m\n\u001b[1;32m    690\u001b[0m \u001b[0;34m\u001b[0m\u001b[0m\n",
            "\u001b[0;32m/usr/local/lib/python3.7/dist-packages/pandas/io/parsers.py\u001b[0m in \u001b[0;36m_read\u001b[0;34m(filepath_or_buffer, kwds)\u001b[0m\n\u001b[1;32m    452\u001b[0m \u001b[0;34m\u001b[0m\u001b[0m\n\u001b[1;32m    453\u001b[0m     \u001b[0;31m# Create the parser.\u001b[0m\u001b[0;34m\u001b[0m\u001b[0;34m\u001b[0m\u001b[0;34m\u001b[0m\u001b[0m\n\u001b[0;32m--> 454\u001b[0;31m     \u001b[0mparser\u001b[0m \u001b[0;34m=\u001b[0m \u001b[0mTextFileReader\u001b[0m\u001b[0;34m(\u001b[0m\u001b[0mfp_or_buf\u001b[0m\u001b[0;34m,\u001b[0m \u001b[0;34m**\u001b[0m\u001b[0mkwds\u001b[0m\u001b[0;34m)\u001b[0m\u001b[0;34m\u001b[0m\u001b[0;34m\u001b[0m\u001b[0m\n\u001b[0m\u001b[1;32m    455\u001b[0m \u001b[0;34m\u001b[0m\u001b[0m\n\u001b[1;32m    456\u001b[0m     \u001b[0;32mif\u001b[0m \u001b[0mchunksize\u001b[0m \u001b[0;32mor\u001b[0m \u001b[0miterator\u001b[0m\u001b[0;34m:\u001b[0m\u001b[0;34m\u001b[0m\u001b[0;34m\u001b[0m\u001b[0m\n",
            "\u001b[0;32m/usr/local/lib/python3.7/dist-packages/pandas/io/parsers.py\u001b[0m in \u001b[0;36m__init__\u001b[0;34m(self, f, engine, **kwds)\u001b[0m\n\u001b[1;32m    946\u001b[0m             \u001b[0mself\u001b[0m\u001b[0;34m.\u001b[0m\u001b[0moptions\u001b[0m\u001b[0;34m[\u001b[0m\u001b[0;34m\"has_index_names\"\u001b[0m\u001b[0;34m]\u001b[0m \u001b[0;34m=\u001b[0m \u001b[0mkwds\u001b[0m\u001b[0;34m[\u001b[0m\u001b[0;34m\"has_index_names\"\u001b[0m\u001b[0;34m]\u001b[0m\u001b[0;34m\u001b[0m\u001b[0;34m\u001b[0m\u001b[0m\n\u001b[1;32m    947\u001b[0m \u001b[0;34m\u001b[0m\u001b[0m\n\u001b[0;32m--> 948\u001b[0;31m         \u001b[0mself\u001b[0m\u001b[0;34m.\u001b[0m\u001b[0m_make_engine\u001b[0m\u001b[0;34m(\u001b[0m\u001b[0mself\u001b[0m\u001b[0;34m.\u001b[0m\u001b[0mengine\u001b[0m\u001b[0;34m)\u001b[0m\u001b[0;34m\u001b[0m\u001b[0;34m\u001b[0m\u001b[0m\n\u001b[0m\u001b[1;32m    949\u001b[0m \u001b[0;34m\u001b[0m\u001b[0m\n\u001b[1;32m    950\u001b[0m     \u001b[0;32mdef\u001b[0m \u001b[0mclose\u001b[0m\u001b[0;34m(\u001b[0m\u001b[0mself\u001b[0m\u001b[0;34m)\u001b[0m\u001b[0;34m:\u001b[0m\u001b[0;34m\u001b[0m\u001b[0;34m\u001b[0m\u001b[0m\n",
            "\u001b[0;32m/usr/local/lib/python3.7/dist-packages/pandas/io/parsers.py\u001b[0m in \u001b[0;36m_make_engine\u001b[0;34m(self, engine)\u001b[0m\n\u001b[1;32m   1178\u001b[0m     \u001b[0;32mdef\u001b[0m \u001b[0m_make_engine\u001b[0m\u001b[0;34m(\u001b[0m\u001b[0mself\u001b[0m\u001b[0;34m,\u001b[0m \u001b[0mengine\u001b[0m\u001b[0;34m=\u001b[0m\u001b[0;34m\"c\"\u001b[0m\u001b[0;34m)\u001b[0m\u001b[0;34m:\u001b[0m\u001b[0;34m\u001b[0m\u001b[0;34m\u001b[0m\u001b[0m\n\u001b[1;32m   1179\u001b[0m         \u001b[0;32mif\u001b[0m \u001b[0mengine\u001b[0m \u001b[0;34m==\u001b[0m \u001b[0;34m\"c\"\u001b[0m\u001b[0;34m:\u001b[0m\u001b[0;34m\u001b[0m\u001b[0;34m\u001b[0m\u001b[0m\n\u001b[0;32m-> 1180\u001b[0;31m             \u001b[0mself\u001b[0m\u001b[0;34m.\u001b[0m\u001b[0m_engine\u001b[0m \u001b[0;34m=\u001b[0m \u001b[0mCParserWrapper\u001b[0m\u001b[0;34m(\u001b[0m\u001b[0mself\u001b[0m\u001b[0;34m.\u001b[0m\u001b[0mf\u001b[0m\u001b[0;34m,\u001b[0m \u001b[0;34m**\u001b[0m\u001b[0mself\u001b[0m\u001b[0;34m.\u001b[0m\u001b[0moptions\u001b[0m\u001b[0;34m)\u001b[0m\u001b[0;34m\u001b[0m\u001b[0;34m\u001b[0m\u001b[0m\n\u001b[0m\u001b[1;32m   1181\u001b[0m         \u001b[0;32melse\u001b[0m\u001b[0;34m:\u001b[0m\u001b[0;34m\u001b[0m\u001b[0;34m\u001b[0m\u001b[0m\n\u001b[1;32m   1182\u001b[0m             \u001b[0;32mif\u001b[0m \u001b[0mengine\u001b[0m \u001b[0;34m==\u001b[0m \u001b[0;34m\"python\"\u001b[0m\u001b[0;34m:\u001b[0m\u001b[0;34m\u001b[0m\u001b[0;34m\u001b[0m\u001b[0m\n",
            "\u001b[0;32m/usr/local/lib/python3.7/dist-packages/pandas/io/parsers.py\u001b[0m in \u001b[0;36m__init__\u001b[0;34m(self, src, **kwds)\u001b[0m\n\u001b[1;32m   2008\u001b[0m         \u001b[0mkwds\u001b[0m\u001b[0;34m[\u001b[0m\u001b[0;34m\"usecols\"\u001b[0m\u001b[0;34m]\u001b[0m \u001b[0;34m=\u001b[0m \u001b[0mself\u001b[0m\u001b[0;34m.\u001b[0m\u001b[0musecols\u001b[0m\u001b[0;34m\u001b[0m\u001b[0;34m\u001b[0m\u001b[0m\n\u001b[1;32m   2009\u001b[0m \u001b[0;34m\u001b[0m\u001b[0m\n\u001b[0;32m-> 2010\u001b[0;31m         \u001b[0mself\u001b[0m\u001b[0;34m.\u001b[0m\u001b[0m_reader\u001b[0m \u001b[0;34m=\u001b[0m \u001b[0mparsers\u001b[0m\u001b[0;34m.\u001b[0m\u001b[0mTextReader\u001b[0m\u001b[0;34m(\u001b[0m\u001b[0msrc\u001b[0m\u001b[0;34m,\u001b[0m \u001b[0;34m**\u001b[0m\u001b[0mkwds\u001b[0m\u001b[0;34m)\u001b[0m\u001b[0;34m\u001b[0m\u001b[0;34m\u001b[0m\u001b[0m\n\u001b[0m\u001b[1;32m   2011\u001b[0m         \u001b[0mself\u001b[0m\u001b[0;34m.\u001b[0m\u001b[0munnamed_cols\u001b[0m \u001b[0;34m=\u001b[0m \u001b[0mself\u001b[0m\u001b[0;34m.\u001b[0m\u001b[0m_reader\u001b[0m\u001b[0;34m.\u001b[0m\u001b[0munnamed_cols\u001b[0m\u001b[0;34m\u001b[0m\u001b[0;34m\u001b[0m\u001b[0m\n\u001b[1;32m   2012\u001b[0m \u001b[0;34m\u001b[0m\u001b[0m\n",
            "\u001b[0;32mpandas/_libs/parsers.pyx\u001b[0m in \u001b[0;36mpandas._libs.parsers.TextReader.__cinit__\u001b[0;34m()\u001b[0m\n",
            "\u001b[0;32mpandas/_libs/parsers.pyx\u001b[0m in \u001b[0;36mpandas._libs.parsers.TextReader._setup_parser_source\u001b[0;34m()\u001b[0m\n",
            "\u001b[0;31mFileNotFoundError\u001b[0m: [Errno 2] No such file or directory: 'AB_NYC_2019.csv'"
          ]
        }
      ]
    },
    {
      "cell_type": "code",
      "metadata": {
        "id": "H86JPz4asnO8"
      },
      "source": [
        "df.head()"
      ],
      "execution_count": null,
      "outputs": []
    },
    {
      "cell_type": "markdown",
      "metadata": {
        "id": "9L3BNVM7tHN5"
      },
      "source": [
        "## Step 2. EDA 및 데이터 기초 통계 분석\n"
      ]
    },
    {
      "cell_type": "markdown",
      "metadata": {
        "id": "HyFm33tNtVn7"
      },
      "source": [
        "### 문제 4. 불필요한 데이터 데이터프레임에서 제거하기\n"
      ]
    },
    {
      "cell_type": "code",
      "metadata": {
        "id": "YcR9BX23DIFW"
      },
      "source": [
        "# DataFrame에서 제공하는 메소드를 이용하여 각 데이터프레임의 구조 분석하기 (head(), info(), describe())\n",
        "# 데이터프레임에서 불필요한 컬럼 제거하기\n",
        "df.head()\n",
        "#name: 각 집마다 키워드을 잘 적어놓으려고 하고있다 -> 현재는 자연어 처리를 하지 않기 때문에 빼고간다\n",
        "#host_id : 낮을수록 값이 집의 값이 커짐\n",
        "#host_name: 크게 의미 없음\n",
        "#neighbourhodd: 의밍ㅆ음\n",
        "#latitude, longtitude: neighbourhood 값이 있기때문에 빼고 진행\n",
        "#\n",
        "\n"
      ],
      "execution_count": null,
      "outputs": []
    },
    {
      "cell_type": "code",
      "metadata": {
        "id": "nIuqjTbQtxvA"
      },
      "source": [
        "df['room_type'].value_counts() #의미 있어 보임"
      ],
      "execution_count": null,
      "outputs": []
    },
    {
      "cell_type": "code",
      "metadata": {
        "id": "H_pujrTTt6_S"
      },
      "source": [
        "df.info() #last review와 review per month의 숫자가 같다 \n",
        "#calculated_host_listings_count 숫자 값이니 그냥 남겨둠"
      ],
      "execution_count": null,
      "outputs": []
    },
    {
      "cell_type": "code",
      "metadata": {
        "id": "mLDzq8_QuB-5"
      },
      "source": [
        "(df['reviews_per_month'].isna() & df['last_review'].isna()).sum() #두개다 True 여야 True"
      ],
      "execution_count": null,
      "outputs": []
    },
    {
      "cell_type": "code",
      "metadata": {
        "id": "04Lh4MenuS5C"
      },
      "source": [
        "df['reviews_per_month'].isna().sum() #위에랑 결측값이 같은걸 보니 완전히 겹친다고 본다"
      ],
      "execution_count": null,
      "outputs": []
    },
    {
      "cell_type": "code",
      "metadata": {
        "id": "lY1aTPJ-uoP0"
      },
      "source": [
        "df['availability_365'].hist()"
      ],
      "execution_count": null,
      "outputs": []
    },
    {
      "cell_type": "code",
      "metadata": {
        "id": "L-qvfNOwuupt"
      },
      "source": [
        "(df['availability_365'] == 0).sum() #365일중 총 0일 숙박 가능한곳의 숫자 -> 17000개나됨 -> 결측값들임"
      ],
      "execution_count": null,
      "outputs": []
    },
    {
      "cell_type": "code",
      "metadata": {
        "id": "wi3tPgQWvGYN"
      },
      "source": [
        "df.isna().sum() #review가 있는 경우랑 없는경우로 나눠서 쓰기로 함"
      ],
      "execution_count": null,
      "outputs": []
    },
    {
      "cell_type": "code",
      "metadata": {
        "id": "SCmMBHZnvO2S"
      },
      "source": [
        "df.describe()\n",
        "#host_id 값들의 차이가 많이 남\n",
        "#price의 경우 min 이 0 max 10000 잘못 들어간 값으로 추정됨\n",
        "#minimum_night : max가 1250인게 좀 이상함\n",
        "#number of review : min이 0이다\n",
        "#availability: max가 365인건 말이 되지만 min이 0인건 값이 입력 안됐다고 보여짐"
      ],
      "execution_count": null,
      "outputs": []
    },
    {
      "cell_type": "code",
      "metadata": {
        "id": "hPKwPVoVvkMW"
      },
      "source": [
        "(df['number_of_reviews']==0).sum() # 다른 review 데이터랑 겹치는듯"
      ],
      "execution_count": null,
      "outputs": []
    },
    {
      "cell_type": "code",
      "metadata": {
        "id": "LtjFJE5Fv4bc"
      },
      "source": [
        "df.columns"
      ],
      "execution_count": null,
      "outputs": []
    },
    {
      "cell_type": "code",
      "metadata": {
        "id": "NP9-LH-6v6vU"
      },
      "source": [
        "df.drop(['id', 'name', 'host_name', 'latitude', 'longitude'], axis = 1, inplace = True)"
      ],
      "execution_count": null,
      "outputs": []
    },
    {
      "cell_type": "code",
      "metadata": {
        "id": "88lF4c83wO71"
      },
      "source": [
        "df.head()"
      ],
      "execution_count": null,
      "outputs": []
    },
    {
      "cell_type": "markdown",
      "metadata": {
        "id": "HGHvPwkNtXgj"
      },
      "source": [
        "### 문제 5. 수치형 데이터와 Price의 Jointplot 분석하기\n"
      ]
    },
    {
      "cell_type": "code",
      "metadata": {
        "id": "b_zcrUDF7khF"
      },
      "source": [
        "df.columns"
      ],
      "execution_count": null,
      "outputs": []
    },
    {
      "cell_type": "code",
      "metadata": {
        "id": "9K9PS8oS0tCK"
      },
      "source": [
        "sns.jointplot(x='host_id', y = 'price',data =df, kind = 'hex') #상관성이 매우 적음! -> 수치형 데이터 클리닝후 다시 볼 필요가 있다 "
      ],
      "execution_count": null,
      "outputs": []
    },
    {
      "cell_type": "code",
      "metadata": {
        "id": "IB_NSe2Y0tTP"
      },
      "source": [
        "sns.jointplot(x='reviews_per_month', y = 'price',data =df, kind = 'hex') #이것도 아래에 몰려있음 -> price가 아웃라이어가 많기 때문일듯 -> 데이터 클리닝 해야할듯"
      ],
      "execution_count": null,
      "outputs": []
    },
    {
      "cell_type": "code",
      "metadata": {
        "id": "S957LGhn0tc9"
      },
      "source": [
        ""
      ],
      "execution_count": null,
      "outputs": []
    },
    {
      "cell_type": "markdown",
      "metadata": {
        "id": "amkU5Y6g7Dp4"
      },
      "source": [
        "### 문제 6. 수치형 데이터와 Price의 상관성 분석하기"
      ]
    },
    {
      "cell_type": "code",
      "metadata": {
        "id": "GZXSBFPyDh6R"
      },
      "source": [
        "sns.heatmap(df.corr(),annot = True, cmap = 'YlOrRd')\n",
        "#price와의 상관성이 모든 컬럼에서 매우 낮게 나타남\n",
        "\n",
        "#host_id와 review per month의 상관성이 높음 -> 숫자가 높은 호스트 (최근호스트)일 수록 월별평이 많다는것\n",
        "#그에 비해 number of reviews는 상관관계가 낮음 -> 숫자가 높은 호스트가 전체 리뷰수는 적을수 밖에 없기 때문\n",
        "#host_id와 calculated_host_listing_count -> 상관성이 있는편 -> 나중에 들어온 호스트가 집을 더 가진 확률이 높다"
      ],
      "execution_count": null,
      "outputs": []
    },
    {
      "cell_type": "markdown",
      "metadata": {
        "id": "Ga7Lzcw8TH0G"
      },
      "source": [
        "### 문제 7. 범주형 데이터와 Price의 Boxplot 계열 및 Histogram 분석하기"
      ]
    },
    {
      "cell_type": "code",
      "metadata": {
        "id": "MPmzv61vTFiw"
      },
      "source": [
        "sns.boxplot(x = 'neighbourhood_group', y = 'price', data = df) #아웃라이어가 많아 보기 힘듬"
      ],
      "execution_count": null,
      "outputs": []
    },
    {
      "cell_type": "code",
      "metadata": {
        "id": "nLsvt7Gm3xkE",
        "colab": {
          "base_uri": "https://localhost:8080/",
          "height": 169
        },
        "outputId": "756d47e0-7d98-4b72-d6ee-9475ec868df2"
      },
      "source": [
        "sns.boxplot(x = 'room_type', y = 'price', data = df) #마찬가지"
      ],
      "execution_count": 7,
      "outputs": [
        {
          "output_type": "error",
          "ename": "NameError",
          "evalue": "ignored",
          "traceback": [
            "\u001b[0;31m---------------------------------------------------------------------------\u001b[0m",
            "\u001b[0;31mNameError\u001b[0m                                 Traceback (most recent call last)",
            "\u001b[0;32m<ipython-input-7-14b04634f406>\u001b[0m in \u001b[0;36m<module>\u001b[0;34m()\u001b[0m\n\u001b[0;32m----> 1\u001b[0;31m \u001b[0msns\u001b[0m\u001b[0;34m.\u001b[0m\u001b[0mboxplot\u001b[0m\u001b[0;34m(\u001b[0m\u001b[0mx\u001b[0m \u001b[0;34m=\u001b[0m \u001b[0;34m'room_type'\u001b[0m\u001b[0;34m,\u001b[0m \u001b[0my\u001b[0m \u001b[0;34m=\u001b[0m \u001b[0;34m'price'\u001b[0m\u001b[0;34m,\u001b[0m \u001b[0mdata\u001b[0m \u001b[0;34m=\u001b[0m \u001b[0mdf\u001b[0m\u001b[0;34m)\u001b[0m \u001b[0;31m#마찬가지\u001b[0m\u001b[0;34m\u001b[0m\u001b[0;34m\u001b[0m\u001b[0m\n\u001b[0m",
            "\u001b[0;31mNameError\u001b[0m: name 'df' is not defined"
          ]
        }
      ]
    },
    {
      "cell_type": "markdown",
      "metadata": {
        "id": "izztXKpllMss"
      },
      "source": [
        "## Step 3. 데이터 클리닝 수행하기"
      ]
    },
    {
      "cell_type": "markdown",
      "metadata": {
        "id": "KywGh9sjtYl9"
      },
      "source": [
        "### 문제 8. 미기입, 오기입 데이터 확인하기"
      ]
    },
    {
      "cell_type": "code",
      "metadata": {
        "colab": {
          "base_uri": "https://localhost:8080/",
          "height": 204
        },
        "id": "iB8BugCpnic6",
        "outputId": "dd863cb7-9c35-4c87-fda8-0bb4f08e8adc"
      },
      "source": [
        "# 각 컬럼을 분석하여 미기입/오기입된 데이터 확인하기\n",
        "# Hint) 수치형 데이터는 통계를 이용해서, 범주형 데이터는 unique(), value_counts()등으로 확인\n",
        "df.columns"
      ],
      "execution_count": 8,
      "outputs": [
        {
          "output_type": "error",
          "ename": "NameError",
          "evalue": "ignored",
          "traceback": [
            "\u001b[0;31m---------------------------------------------------------------------------\u001b[0m",
            "\u001b[0;31mNameError\u001b[0m                                 Traceback (most recent call last)",
            "\u001b[0;32m<ipython-input-8-2cff11e81349>\u001b[0m in \u001b[0;36m<module>\u001b[0;34m()\u001b[0m\n\u001b[1;32m      1\u001b[0m \u001b[0;31m# 각 컬럼을 분석하여 미기입/오기입된 데이터 확인하기\u001b[0m\u001b[0;34m\u001b[0m\u001b[0;34m\u001b[0m\u001b[0;34m\u001b[0m\u001b[0m\n\u001b[1;32m      2\u001b[0m \u001b[0;31m# Hint) 수치형 데이터는 통계를 이용해서, 범주형 데이터는 unique(), value_counts()등으로 확인\u001b[0m\u001b[0;34m\u001b[0m\u001b[0;34m\u001b[0m\u001b[0;34m\u001b[0m\u001b[0m\n\u001b[0;32m----> 3\u001b[0;31m \u001b[0mdf\u001b[0m\u001b[0;34m.\u001b[0m\u001b[0mcolumns\u001b[0m\u001b[0;34m\u001b[0m\u001b[0;34m\u001b[0m\u001b[0m\n\u001b[0m",
            "\u001b[0;31mNameError\u001b[0m: name 'df' is not defined"
          ]
        }
      ]
    },
    {
      "cell_type": "code",
      "metadata": {
        "id": "lGALir4xnkyq"
      },
      "source": [
        "df.isna().sum() #미기입 데이터 확인"
      ],
      "execution_count": null,
      "outputs": []
    },
    {
      "cell_type": "code",
      "metadata": {
        "colab": {
          "base_uri": "https://localhost:8080/",
          "height": 169
        },
        "id": "o53MfRVtnwnq",
        "outputId": "aa2ebb4a-1239-420a-c100-2649f42e85ab"
      },
      "source": [
        "df['neighbourhood_group'].value_counts() #5개의 클래스"
      ],
      "execution_count": 9,
      "outputs": [
        {
          "output_type": "error",
          "ename": "NameError",
          "evalue": "ignored",
          "traceback": [
            "\u001b[0;31m---------------------------------------------------------------------------\u001b[0m",
            "\u001b[0;31mNameError\u001b[0m                                 Traceback (most recent call last)",
            "\u001b[0;32m<ipython-input-9-02c93dde8816>\u001b[0m in \u001b[0;36m<module>\u001b[0;34m()\u001b[0m\n\u001b[0;32m----> 1\u001b[0;31m \u001b[0mdf\u001b[0m\u001b[0;34m[\u001b[0m\u001b[0;34m'neighbourhood_group'\u001b[0m\u001b[0;34m]\u001b[0m\u001b[0;34m.\u001b[0m\u001b[0mvalue_counts\u001b[0m\u001b[0;34m(\u001b[0m\u001b[0;34m)\u001b[0m \u001b[0;31m#5개의 클래스\u001b[0m\u001b[0;34m\u001b[0m\u001b[0;34m\u001b[0m\u001b[0m\n\u001b[0m",
            "\u001b[0;31mNameError\u001b[0m: name 'df' is not defined"
          ]
        }
      ]
    },
    {
      "cell_type": "code",
      "metadata": {
        "id": "TqXkwW8JDxhH",
        "colab": {
          "base_uri": "https://localhost:8080/",
          "height": 186
        },
        "outputId": "79a78090-b3fb-4f29-9668-05b9c35a4f20"
      },
      "source": [
        "neigh = df['neighbourhood'].value_counts()\n",
        "plt.plot(range(len(neigh)),neigh)  #50개 기준으로 끊어주면 좋을 것 같다"
      ],
      "execution_count": 10,
      "outputs": [
        {
          "output_type": "error",
          "ename": "NameError",
          "evalue": "ignored",
          "traceback": [
            "\u001b[0;31m---------------------------------------------------------------------------\u001b[0m",
            "\u001b[0;31mNameError\u001b[0m                                 Traceback (most recent call last)",
            "\u001b[0;32m<ipython-input-10-22127795ed95>\u001b[0m in \u001b[0;36m<module>\u001b[0;34m()\u001b[0m\n\u001b[0;32m----> 1\u001b[0;31m \u001b[0mneigh\u001b[0m \u001b[0;34m=\u001b[0m \u001b[0mdf\u001b[0m\u001b[0;34m[\u001b[0m\u001b[0;34m'neighbourhood'\u001b[0m\u001b[0;34m]\u001b[0m\u001b[0;34m.\u001b[0m\u001b[0mvalue_counts\u001b[0m\u001b[0;34m(\u001b[0m\u001b[0;34m)\u001b[0m\u001b[0;34m\u001b[0m\u001b[0;34m\u001b[0m\u001b[0m\n\u001b[0m\u001b[1;32m      2\u001b[0m \u001b[0mplt\u001b[0m\u001b[0;34m.\u001b[0m\u001b[0mplot\u001b[0m\u001b[0;34m(\u001b[0m\u001b[0mrange\u001b[0m\u001b[0;34m(\u001b[0m\u001b[0mlen\u001b[0m\u001b[0;34m(\u001b[0m\u001b[0mneigh\u001b[0m\u001b[0;34m)\u001b[0m\u001b[0;34m)\u001b[0m\u001b[0;34m,\u001b[0m\u001b[0mneigh\u001b[0m\u001b[0;34m)\u001b[0m  \u001b[0;31m#50개 기준으로 끊어주면 좋을 것 같다\u001b[0m\u001b[0;34m\u001b[0m\u001b[0;34m\u001b[0m\u001b[0m\n",
            "\u001b[0;31mNameError\u001b[0m: name 'df' is not defined"
          ]
        }
      ]
    },
    {
      "cell_type": "code",
      "metadata": {
        "id": "nSkl7NSioQy2"
      },
      "source": [
        "df['neighbourhood'] = df['neighbourhood'].apply(lambda s:s if str(s) not in neigh[50:] else 'others') #50개기준으로 기타와 네이버로 나눠줌"
      ],
      "execution_count": null,
      "outputs": []
    },
    {
      "cell_type": "code",
      "metadata": {
        "colab": {
          "base_uri": "https://localhost:8080/"
        },
        "id": "B4uUkzH4or8i",
        "outputId": "b4bd58ad-d9a5-4876-f493-ac7021709a8d"
      },
      "source": [
        "df['neighbourhood'].value_counts() #50개이상인 범주만 남게되었다 -> 많은편이긴하지만 갯수가 많은 범주형데이터가 이것뿐이고 중요한 요소라 판단되어 가져간다"
      ],
      "execution_count": null,
      "outputs": [
        {
          "output_type": "execute_result",
          "data": {
            "text/plain": [
              "others                       6248\n",
              "Williamsburg                 3920\n",
              "Bedford-Stuyvesant           3714\n",
              "Harlem                       2658\n",
              "Bushwick                     2465\n",
              "Upper West Side              1971\n",
              "Hell's Kitchen               1958\n",
              "East Village                 1853\n",
              "Upper East Side              1798\n",
              "Crown Heights                1564\n",
              "Midtown                      1545\n",
              "East Harlem                  1117\n",
              "Greenpoint                   1115\n",
              "Chelsea                      1113\n",
              "Lower East Side               911\n",
              "Astoria                       900\n",
              "Washington Heights            899\n",
              "West Village                  768\n",
              "Financial District            744\n",
              "Flatbush                      621\n",
              "Clinton Hill                  572\n",
              "Long Island City              537\n",
              "Prospect-Lefferts Gardens     535\n",
              "Park Slope                    506\n",
              "East Flatbush                 500\n",
              "Fort Greene                   489\n",
              "Murray Hill                   485\n",
              "Kips Bay                      470\n",
              "Flushing                      426\n",
              "Ridgewood                     423\n",
              "Greenwich Village             392\n",
              "Sunset Park                   390\n",
              "Chinatown                     368\n",
              "Sunnyside                     363\n",
              "SoHo                          358\n",
              "Prospect Heights              357\n",
              "Morningside Heights           346\n",
              "Gramercy                      338\n",
              "Ditmars Steinway              309\n",
              "Theater District              288\n",
              "South Slope                   284\n",
              "Nolita                        253\n",
              "Inwood                        252\n",
              "Gowanus                       247\n",
              "Elmhurst                      237\n",
              "Woodside                      235\n",
              "Carroll Gardens               233\n",
              "Jamaica                       231\n",
              "East New York                 218\n",
              "Jackson Heights               186\n",
              "East Elmhurst                 185\n",
              "Name: neighbourhood, dtype: int64"
            ]
          },
          "metadata": {},
          "execution_count": 89
        }
      ]
    },
    {
      "cell_type": "code",
      "metadata": {
        "colab": {
          "base_uri": "https://localhost:8080/"
        },
        "id": "36IuUFMDpEWT",
        "outputId": "2b484ba1-a7ea-4875-b4d9-5fc48d9f882b"
      },
      "source": [
        "df['room_type'].value_counts() #종류가 별로 없어서 일단 놔둔다"
      ],
      "execution_count": null,
      "outputs": [
        {
          "output_type": "execute_result",
          "data": {
            "text/plain": [
              "Entire home/apt    25409\n",
              "Private room       22326\n",
              "Shared room         1160\n",
              "Name: room_type, dtype: int64"
            ]
          },
          "metadata": {},
          "execution_count": 90
        }
      ]
    },
    {
      "cell_type": "code",
      "metadata": {
        "colab": {
          "base_uri": "https://localhost:8080/",
          "height": 297
        },
        "id": "F0nGODvgpIoM",
        "outputId": "2ceb24d4-cb59-4430-b31c-2550ec18c58c"
      },
      "source": [
        "############수치형#################\n",
        "sns.rugplot(x = 'price',data = df, height = 1) #2000에 많이 몰려있지만, 6000 이상에도 꽤 값들이 있다"
      ],
      "execution_count": null,
      "outputs": [
        {
          "output_type": "execute_result",
          "data": {
            "text/plain": [
              "<matplotlib.axes._subplots.AxesSubplot at 0x7f873444b190>"
            ]
          },
          "metadata": {},
          "execution_count": 91
        },
        {
          "output_type": "display_data",
          "data": {
            "image/png": "[encoded data removed]",
            "text/plain": [
              "<Figure size 432x288 with 1 Axes>"
            ]
          },
          "metadata": {
            "needs_background": "light"
          }
        }
      ]
    },
    {
      "cell_type": "code",
      "metadata": {
        "colab": {
          "base_uri": "https://localhost:8080/"
        },
        "id": "SyY3g_Eypr82",
        "outputId": "9d3a3043-a26e-470b-e31c-89b26f516383"
      },
      "source": [
        "df['price'].quantile(0.95) # 상위 1프로 값이 355불임 -> 사실상 800이상인 값들은 러그플랏에서 보이는거와 달리 극소수 갯수일뿐임\n",
        "df['price'].quantile(0.005) # 하위 0.5프로 값 26불 -> 잘라준다 -> 통계를 통해 본 min 값이 0인것도 있어서 제거해줘야함 (숙박비가 0원인게 말이안됨)"
      ],
      "execution_count": null,
      "outputs": [
        {
          "output_type": "execute_result",
          "data": {
            "text/plain": [
              "26.0"
            ]
          },
          "metadata": {},
          "execution_count": 92
        }
      ]
    },
    {
      "cell_type": "code",
      "metadata": {
        "colab": {
          "base_uri": "https://localhost:8080/",
          "height": 298
        },
        "id": "y1SdhvR1qS74",
        "outputId": "d4ce826a-a485-4997-f894-08c4b87915a0"
      },
      "source": [
        "sns.rugplot(x = 'minimum_nights',data = df, height = 1)"
      ],
      "execution_count": null,
      "outputs": [
        {
          "output_type": "execute_result",
          "data": {
            "text/plain": [
              "<matplotlib.axes._subplots.AxesSubplot at 0x7f8735ad0dd0>"
            ]
          },
          "metadata": {},
          "execution_count": 93
        },
        {
          "output_type": "display_data",
          "data": {
            "image/png": "[encoded data removed]",
            "text/plain": [
              "<Figure size 432x288 with 1 Axes>"
            ]
          },
          "metadata": {
            "needs_background": "light"
          }
        }
      ]
    },
    {
      "cell_type": "code",
      "metadata": {
        "colab": {
          "base_uri": "https://localhost:8080/"
        },
        "id": "iId-nBegqkcV",
        "outputId": "61518537-9a45-4c24-d0d0-da843fb30102"
      },
      "source": [
        "df['minimum_nights'].quantile(0.98) # 상위 5프로, 상위 2프로 다 30일 -> 상위 2프로 날려버린다\n",
        "df['minimum_nights'].quantile(0.005) # 하위 0.5프로 1일 -> 어차피 min값이 1이니까 하위값은 자를필요 없어보임"
      ],
      "execution_count": null,
      "outputs": [
        {
          "output_type": "execute_result",
          "data": {
            "text/plain": [
              "1.0"
            ]
          },
          "metadata": {},
          "execution_count": 94
        }
      ]
    },
    {
      "cell_type": "code",
      "metadata": {
        "colab": {
          "base_uri": "https://localhost:8080/",
          "height": 298
        },
        "id": "ITnKoFItrX7y",
        "outputId": "6fd05d9c-843f-4126-a0c3-8498b64e6203"
      },
      "source": [
        "sns.rugplot(x = 'availability_365',data = df, height = 1)"
      ],
      "execution_count": null,
      "outputs": [
        {
          "output_type": "execute_result",
          "data": {
            "text/plain": [
              "<matplotlib.axes._subplots.AxesSubplot at 0x7f87310eb190>"
            ]
          },
          "metadata": {},
          "execution_count": 95
        },
        {
          "output_type": "display_data",
          "data": {
            "image/png": "[encoded data removed]",
            "text/plain": [
              "<Figure size 432x288 with 1 Axes>"
            ]
          },
          "metadata": {
            "needs_background": "light"
          }
        }
      ]
    },
    {
      "cell_type": "code",
      "metadata": {
        "colab": {
          "base_uri": "https://localhost:8080/"
        },
        "id": "eLGEXGY8r3Fv",
        "outputId": "6e0db802-c765-48aa-8b55-21321d8f20be"
      },
      "source": [
        "df['availability_365'].quantile(0.98) #365일 -> 365일 다되는 집이 많은편이라 안잘라도 될듯\n",
        "df['availability_365'].quantile(0.30) #상위 30프로까지도 0일임 -> 그냥 그대로 0으로 두고 이게 0인지 아닌지를 표기하는 추가적인 범주형 데이터를 만들면 좋을것같다"
      ],
      "execution_count": null,
      "outputs": [
        {
          "output_type": "execute_result",
          "data": {
            "text/plain": [
              "0.0"
            ]
          },
          "metadata": {},
          "execution_count": 96
        }
      ]
    },
    {
      "cell_type": "markdown",
      "metadata": {
        "id": "CXLd43EZ9EgS"
      },
      "source": [
        "### 문제 9. 아웃라이어를 제거하고 통계 재분석하기"
      ]
    },
    {
      "cell_type": "code",
      "metadata": {
        "id": "8HbUtvqs9C-C",
        "colab": {
          "base_uri": "https://localhost:8080/"
        },
        "outputId": "c2423f58-32f2-42ad-c617-ac7a487f7b8a"
      },
      "source": [
        "# quantile(), drop() 등 메소드를 이용하여 outlier 제거하고 통계 재분석하기\n",
        "p1 = df['price'].quantile(0.95)\n",
        "p2 = df['price'].quantile(0.005)\n",
        "print(p1,p2)\n",
        "\n",
        "df = df[(df['price']<p1)&(df['price']>p2)]\n",
        "\n"
      ],
      "execution_count": null,
      "outputs": [
        {
          "output_type": "stream",
          "name": "stdout",
          "text": [
            "355.0 26.0\n"
          ]
        }
      ]
    },
    {
      "cell_type": "code",
      "metadata": {
        "colab": {
          "base_uri": "https://localhost:8080/",
          "height": 282
        },
        "id": "8IaWZCiryoQZ",
        "outputId": "0cdd9151-2fb3-40a6-a583-d4a7d94ee6e0"
      },
      "source": [
        "df['price'].hist() #완전 가우시안 형태는 아니지만 그래도 나름 용이하게 쓸수있는 모양\n"
      ],
      "execution_count": null,
      "outputs": [
        {
          "output_type": "execute_result",
          "data": {
            "text/plain": [
              "<matplotlib.axes._subplots.AxesSubplot at 0x7f872f6bbcd0>"
            ]
          },
          "metadata": {},
          "execution_count": 98
        },
        {
          "output_type": "display_data",
          "data": {
            "image/png": "[encoded data removed]",
            "text/plain": [
              "<Figure size 432x288 with 1 Axes>"
            ]
          },
          "metadata": {
            "needs_background": "light"
          }
        }
      ]
    },
    {
      "cell_type": "code",
      "metadata": {
        "colab": {
          "base_uri": "https://localhost:8080/",
          "height": 282
        },
        "id": "yUhN0ecry6_i",
        "outputId": "783c4a9f-2184-41db-9138-9f53310ea75f"
      },
      "source": [
        "m1 = df['minimum_nights'].quantile(0.95)\n",
        "print(m1) #위에 price에서 제거되는과정에서 변경됏을수도 있으니 확인해본다\n",
        "df = df[df['minimum_nights']<m1]\n",
        "df['minimum_nights'].hist() #값이 큰것들을 날려준것이 확인됨"
      ],
      "execution_count": null,
      "outputs": [
        {
          "output_type": "execute_result",
          "data": {
            "text/plain": [
              "<matplotlib.axes._subplots.AxesSubplot at 0x7f872f67fa90>"
            ]
          },
          "metadata": {},
          "execution_count": 99
        },
        {
          "output_type": "display_data",
          "data": {
            "image/png": "[encoded data removed]",
            "text/plain": [
              "<Figure size 432x288 with 1 Axes>"
            ]
          },
          "metadata": {
            "needs_background": "light"
          }
        }
      ]
    },
    {
      "cell_type": "code",
      "metadata": {
        "id": "9KlL5G73z4vT"
      },
      "source": [
        "df['is_avail_zero'] = df['availability_365'].apply(lambda x: 'Zero' if x ==0 else 'Nonzero') #카테고리컬 데이터 생성"
      ],
      "execution_count": null,
      "outputs": []
    },
    {
      "cell_type": "code",
      "metadata": {
        "id": "hBhQY-sq0J_D"
      },
      "source": [
        ""
      ],
      "execution_count": null,
      "outputs": []
    },
    {
      "cell_type": "markdown",
      "metadata": {
        "id": "2Z62otW9lgtX"
      },
      "source": [
        "### 문제 10. 미기입 데이터 처리하기"
      ]
    },
    {
      "cell_type": "code",
      "metadata": {
        "id": "NW-QEym6lgtX"
      },
      "source": [
        "# fill(), dropna() 등으로 미기입된 데이터를 처리하기\n",
        "df['review_exists'] = df['reviews_per_month'].isna().apply(lambda x : 'New' if x is True else 'Old')\n",
        "# 값이 있으면(달별 리뷰가 있으면) True -> 'New' 호스트로 명명해줌 반대는 'Old'\n",
        "\n"
      ],
      "execution_count": null,
      "outputs": []
    },
    {
      "cell_type": "code",
      "metadata": {
        "id": "lSUYxJPj1Ao2"
      },
      "source": [
        "df.fillna(0,inplace = True) #review_per_month에 여전히 결측값이 존재 -> 리뷰 0건으로 세팅"
      ],
      "execution_count": null,
      "outputs": []
    },
    {
      "cell_type": "code",
      "metadata": {
        "id": "InI9u20n1KLg",
        "colab": {
          "base_uri": "https://localhost:8080/"
        },
        "outputId": "f2da0cfe-cc2c-4bf4-eada-6b25cd258f25"
      },
      "source": [
        "df.isna().sum()"
      ],
      "execution_count": null,
      "outputs": [
        {
          "output_type": "execute_result",
          "data": {
            "text/plain": [
              "host_id                           0\n",
              "neighbourhood_group               0\n",
              "neighbourhood                     0\n",
              "room_type                         0\n",
              "price                             0\n",
              "minimum_nights                    0\n",
              "number_of_reviews                 0\n",
              "last_review                       0\n",
              "reviews_per_month                 0\n",
              "calculated_host_listings_count    0\n",
              "availability_365                  0\n",
              "is_avail_zero                     0\n",
              "review_exists                     0\n",
              "dtype: int64"
            ]
          },
          "metadata": {},
          "execution_count": 103
        }
      ]
    },
    {
      "cell_type": "markdown",
      "metadata": {
        "id": "FRfd7ABjepBS"
      },
      "source": [
        "## Step 4. 모델 학습을 위한 데이터 전처리 "
      ]
    },
    {
      "cell_type": "markdown",
      "metadata": {
        "id": "sWIF67-8lr4C"
      },
      "source": [
        "### 문제 11. get_dummies를 이용한 범주형 데이터 전처리"
      ]
    },
    {
      "cell_type": "code",
      "metadata": {
        "colab": {
          "base_uri": "https://localhost:8080/",
          "height": 169
        },
        "id": "FlhS8fH5pXSr",
        "outputId": "7fe541e9-f10f-4313-85e1-1089a13b2d2e"
      },
      "source": [
        "df.columns"
      ],
      "execution_count": 1,
      "outputs": [
        {
          "output_type": "error",
          "ename": "NameError",
          "evalue": "ignored",
          "traceback": [
            "\u001b[0;31m---------------------------------------------------------------------------\u001b[0m",
            "\u001b[0;31mNameError\u001b[0m                                 Traceback (most recent call last)",
            "\u001b[0;32m<ipython-input-1-b666bf274d0a>\u001b[0m in \u001b[0;36m<module>\u001b[0;34m()\u001b[0m\n\u001b[0;32m----> 1\u001b[0;31m \u001b[0mdf\u001b[0m\u001b[0;34m.\u001b[0m\u001b[0mcolumns\u001b[0m\u001b[0;34m\u001b[0m\u001b[0;34m\u001b[0m\u001b[0m\n\u001b[0m",
            "\u001b[0;31mNameError\u001b[0m: name 'df' is not defined"
          ]
        }
      ]
    },
    {
      "cell_type": "code",
      "metadata": {
        "id": "wVmEa1ChlrTc"
      },
      "source": [
        "X_cat = df[['neighbourhood_group','neighbourhood','room_type','is_avail_zero','review_exists']]\n",
        "X_cat = pd.get_dummies(X_cat) #ohe hot vector 화 하기\n",
        "\n",
        "\n",
        "\n"
      ],
      "execution_count": null,
      "outputs": []
    },
    {
      "cell_type": "markdown",
      "metadata": {
        "id": "Dev2yLeMta85"
      },
      "source": [
        "### 문제 12. StandardScaler를 이용해 수치형 데이터 표준화하기\n"
      ]
    },
    {
      "cell_type": "code",
      "metadata": {
        "id": "_k_SDCh5xMgD"
      },
      "source": [
        "from sklearn.preprocessing import StandardScaler"
      ],
      "execution_count": null,
      "outputs": []
    },
    {
      "cell_type": "code",
      "metadata": {
        "id": "W3EO22NCE3wG"
      },
      "source": [
        "# StandardScaler를 이용해 수치형 데이터를 표준화하기\n",
        "scaler = StandardScaler()\n",
        "X_num = df.drop(['price','neighbourhood_group','neighbourhood','room_type','last_reivew','is_avail_zero','review_exists'], axis = 1)\n",
        "\n",
        "scaler.fit(X_num)\n",
        "X_scaled = scaler.transform(X_num)\n",
        "X_scaled = pd.DataFrame(X_scaled, index = X_num.index, columns = X_num.columns)\n",
        "\n",
        "X = pd.concat([X_scaled,X_cat], axis = 1)\n",
        "y = df['price']"
      ],
      "execution_count": null,
      "outputs": []
    },
    {
      "cell_type": "code",
      "metadata": {
        "id": "xSV958jkr8Mj"
      },
      "source": [
        "X.head()"
      ],
      "execution_count": null,
      "outputs": []
    },
    {
      "cell_type": "markdown",
      "metadata": {
        "id": "x93Tb6lptcA2"
      },
      "source": [
        "### 문제 13. 학습데이터와 테스트데이터 분리하기\n"
      ]
    },
    {
      "cell_type": "code",
      "metadata": {
        "id": "C9kMQI8SEche"
      },
      "source": [
        "from sklearn.model_selection import train_test_split"
      ],
      "execution_count": null,
      "outputs": []
    },
    {
      "cell_type": "code",
      "metadata": {
        "id": "F07QjOFwFNEw"
      },
      "source": [
        "# train_test_split() 함수로 학습 데이터와 테스트 데이터 분리하기\n",
        "X_train, X_test, y_train, y_test = train_test_split(X, y, test_size = 0.3, random_state = 1)"
      ],
      "execution_count": null,
      "outputs": []
    },
    {
      "cell_type": "markdown",
      "metadata": {
        "id": "RrWrE8Z4exup"
      },
      "source": [
        "## Step 5. Regression 모델 학습하기"
      ]
    },
    {
      "cell_type": "markdown",
      "metadata": {
        "id": "NypEtNhdfCow"
      },
      "source": [
        "### 문제 14. XGBoost Regression 모델 학습하기"
      ]
    },
    {
      "cell_type": "code",
      "metadata": {
        "id": "ow28ZRL4F7D5"
      },
      "source": [
        "from xgboost import XGBRegressor"
      ],
      "execution_count": null,
      "outputs": []
    },
    {
      "cell_type": "code",
      "metadata": {
        "id": "LSSNqFUrGM6R"
      },
      "source": [
        "# XGBRegressor 모델 생성/학습\n",
        "model_reg = XGBRegressor()\n",
        "model_reg.fit(X_train, y_train)\n",
        "\n",
        "\n"
      ],
      "execution_count": null,
      "outputs": []
    },
    {
      "cell_type": "markdown",
      "metadata": {
        "id": "gUo8NmHkfIpf"
      },
      "source": [
        "### 문제 15. 모델 학습 결과 평가하기"
      ]
    },
    {
      "cell_type": "code",
      "metadata": {
        "id": "rxvf1vgmfLs-"
      },
      "source": [
        "from sklearn.metrics import mean_absolute_error, mean_squared_error"
      ],
      "execution_count": null,
      "outputs": []
    },
    {
      "cell_type": "code",
      "metadata": {
        "id": "KDVy7fFGfUP1"
      },
      "source": [
        "# Predict를 수행하고 mean_absolute_error, rmse 결과 출력하기\n",
        "# Predict를 수행하고 mean_absolute_error, rmse 결과 출력하기\n",
        "pred = model_reg.predict(X_test)\n",
        "print(mean_absolute_error(y_test, pred)) # 35.37 \n",
        "print(sqrt(mean_squared_error(y_test, pred))) # 49.39"
      ],
      "execution_count": null,
      "outputs": []
    },
    {
      "cell_type": "markdown",
      "metadata": {
        "id": "DTqb-HqPtc4I"
      },
      "source": [
        "## Step 6. 모델 학습 결과 심화 분석하기\n"
      ]
    },
    {
      "cell_type": "markdown",
      "metadata": {
        "id": "xTRTOLTNto3h"
      },
      "source": [
        "### 문제 16. 실제 값과 추측 값의 Scatter plot 시각화하기\n"
      ]
    },
    {
      "cell_type": "code",
      "metadata": {
        "id": "kKEP06-OmrBs",
        "colab": {
          "base_uri": "https://localhost:8080/",
          "height": 239
        },
        "outputId": "068d4dfb-3e2e-4f65-fd96-e24fe2239ebf"
      },
      "source": [
        "# y_test vs. pred Scatter 플랏으로 시각적으로 분석하기\n",
        "\n",
        "plt.scatter(x=y_test, y=pred)\n",
        "plt.plot([0,350],[0,350], 'r-')\n",
        "#일정구간마다 세로로 일자인 데이터들이있다 -> 수치형데이터가 상관성이 적어 범주형 데이터에 의존해서 그런듯\n",
        "#값이 낮은집을 좀 고평가하는 경향\n",
        "\n"
      ],
      "execution_count": 20,
      "outputs": [
        {
          "output_type": "error",
          "ename": "NameError",
          "evalue": "ignored",
          "traceback": [
            "\u001b[0;31m---------------------------------------------------------------------------\u001b[0m",
            "\u001b[0;31mNameError\u001b[0m                                 Traceback (most recent call last)",
            "\u001b[0;32m<ipython-input-20-72a7b397670e>\u001b[0m in \u001b[0;36m<module>\u001b[0;34m()\u001b[0m\n\u001b[1;32m      1\u001b[0m \u001b[0;31m# y_test vs. pred Scatter 플랏으로 시각적으로 분석하기\u001b[0m\u001b[0;34m\u001b[0m\u001b[0;34m\u001b[0m\u001b[0;34m\u001b[0m\u001b[0m\n\u001b[1;32m      2\u001b[0m \u001b[0;34m\u001b[0m\u001b[0m\n\u001b[0;32m----> 3\u001b[0;31m \u001b[0mplt\u001b[0m\u001b[0;34m.\u001b[0m\u001b[0mscatter\u001b[0m\u001b[0;34m(\u001b[0m\u001b[0mx\u001b[0m\u001b[0;34m=\u001b[0m\u001b[0my_test\u001b[0m\u001b[0;34m,\u001b[0m \u001b[0my\u001b[0m\u001b[0;34m=\u001b[0m\u001b[0mpred\u001b[0m\u001b[0;34m)\u001b[0m\u001b[0;34m\u001b[0m\u001b[0;34m\u001b[0m\u001b[0m\n\u001b[0m\u001b[1;32m      4\u001b[0m \u001b[0mplt\u001b[0m\u001b[0;34m.\u001b[0m\u001b[0mplot\u001b[0m\u001b[0;34m(\u001b[0m\u001b[0;34m[\u001b[0m\u001b[0;36m0\u001b[0m\u001b[0;34m,\u001b[0m\u001b[0;36m350\u001b[0m\u001b[0;34m]\u001b[0m\u001b[0;34m,\u001b[0m\u001b[0;34m[\u001b[0m\u001b[0;36m0\u001b[0m\u001b[0;34m,\u001b[0m\u001b[0;36m350\u001b[0m\u001b[0;34m]\u001b[0m\u001b[0;34m,\u001b[0m \u001b[0;34m'r-'\u001b[0m\u001b[0;34m)\u001b[0m\u001b[0;34m\u001b[0m\u001b[0;34m\u001b[0m\u001b[0m\n\u001b[1;32m      5\u001b[0m \u001b[0;31m#일정구간마다 세로로 일자인 데이터들이있다 -> 수치형데이터가 상관성이 적어 범주형 데이터에 의존해서 그런듯\u001b[0m\u001b[0;34m\u001b[0m\u001b[0;34m\u001b[0m\u001b[0;34m\u001b[0m\u001b[0m\n",
            "\u001b[0;31mNameError\u001b[0m: name 'y_test' is not defined"
          ]
        }
      ]
    },
    {
      "cell_type": "markdown",
      "metadata": {
        "id": "kAisZoSEtp35"
      },
      "source": [
        "### 문제 17. 에러 값의 히스토그램 확인하기\n"
      ]
    },
    {
      "cell_type": "code",
      "metadata": {
        "id": "WLnyYNJwGRgd"
      },
      "source": [
        "# err의 히스토그램으로 에러율 히스토그램 확인하기\n",
        "err = (pred - y_test) / y_test #에러율\n",
        "sns.histplot(err)\n",
        "plt.grid() #0보다 낮게 치우치지만 오른쪽으로 길게 늘어져 있음 -> 최소한 값을 양으로 뽑기때메 에러가 100프로는 갈수가 없다\n",
        "\n",
        "\n"
      ],
      "execution_count": null,
      "outputs": []
    },
    {
      "cell_type": "code",
      "metadata": {
        "id": "42mi0IQWvE4a"
      },
      "source": [
        "err = (pred - y_test)#에러율\n",
        "sns.histplot(err)\n",
        "plt.grid() #많은 값이 50불 이내로 overestimated 함\n",
        "\n",
        "#쓸법한 정보들 -> airbnb에 등록된 이름 -> 특이한 단어들이 많이쓰임 -> 이름을 분석하여 하면 좋을듯\n",
        "#-> 위도/경도를 지도에 뿌려보고 neighbour랑 잘 엮어서 써보기도 하면 좋을듯"
      ],
      "execution_count": null,
      "outputs": []
    }
  ]
}