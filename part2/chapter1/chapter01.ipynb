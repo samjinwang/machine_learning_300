{
  "nbformat": 4,
  "nbformat_minor": 0,
  "metadata": {
    "kernelspec": {
      "display_name": "Python 3",
      "language": "python",
      "name": "python3"
    },
    "language_info": {
      "codemirror_mode": {
        "name": "ipython",
        "version": 3
      },
      "file_extension": ".py",
      "mimetype": "text/x-python",
      "name": "python",
      "nbconvert_exporter": "python",
      "pygments_lexer": "ipython3",
      "version": "3.7.7"
    },
    "colab": {
      "name": "Chapter 1 - 자동으로 모은 데이터는 분석하기 어렵다면서_ 자동으로 모은 중고 자동차 데이터를 분석해보자!(문제).ipynb",
      "provenance": [],
      "collapsed_sections": []
    }
  },
  "cells": [
    {
      "cell_type": "markdown",
      "metadata": {
        "id": "NqqLNJZjfi8U"
      },
      "source": [
        "# 주제 : 자동으로 모은 데이터는 분석하기 어렵다면서? 자동으로 모은 중고 자동차 데이터를 분석해보자!\n",
        "----------\n",
        "\n",
        "## 실습 가이드\n",
        "    1. 데이터를 다운로드하여 Colab에 불러옵니다.\n",
        "    2. 필요한 라이브러리는 모두 코드로 작성되어 있습니다.\n",
        "    3. 코드는 위에서부터 아래로 순서대로 실행합니다.\n",
        "    \n",
        "    \n",
        "## 데이터 소개\n",
        "    - 이번 주제는 Used Cars Dataset을 사용합니다.\n",
        "    - 파일은 한 개이며, 각각의 컬럼은 아래와 같습니다.\n",
        "    \n",
        "    - vehicles.csv\n",
        "    id : 중고차 거래의 아이디\n",
        "    url : 중고차 거래 페이지\n",
        "    region : 해당 거래의 관리 지점\n",
        "    region_url : 거래 관리 지점의 홈페이지\n",
        "    price : 기입된 자동차의 거래가\n",
        "    year : 거래가 기입된 년도\n",
        "    manufacturer : 자동차를 생산한 회사\n",
        "    model : 자동차 모델명\n",
        "    condition : 자동차의 상태\n",
        "    cylinders : 자동차의 기통 수\n",
        "    fuel : 자동차의 연료 타입\n",
        "    odometer : 자동차의 운행 마일 수\n",
        "    title_status : 자동차의 타이틀 상태 (소유주 등록 상태)\n",
        "    transmission : 자동차의 트랜스미션 종류\n",
        "    vin : 자동차의 식별 번호 (vehicle identification number)\n",
        "    drive : 자동차의 구동 타입\n",
        "    size : 자동차 크기\n",
        "    type : 자동차의 일반 타입 (세단, ...)\n",
        "    paint_color : 자동차 색상\n",
        "    image_url : 자동차 이미지\n",
        "    description : 세부 설명\n",
        "    county : 실수로 생성된 미사용 컬럼\n",
        "    state : 거래가 업로드된 미 주\n",
        "    lat : 거래가 업로드된 곳의 위도\n",
        "    long : 거래가 업로드된 곳의 경도\n",
        "    \n",
        "    \n",
        "- 데이터 출처: https://www.kaggle.com/austinreese/craigslist-carstrucks-data\n",
        "\n",
        "## 최종 목표\n",
        "    - 스크래핑된 dirty 데이터 클리닝 방법 이해\n",
        "    - 다양한 종류의 데이터 정규화 방법 습득\n",
        "    - 데이터 시각화를 통한 인사이트 습득 방법의 이해\n",
        "    - Scikit-learn 기반의 모델 학습 방법 습득\n",
        "    - XGBoost, LightGBM 기반의 모델 학습 방법 습득\n",
        "    - 학습된 모델의 평가 방법 및 시각화 방법 습득\n",
        "\n",
        "- 출제자 : 신제용 강사\n",
        "---"
      ]
    },
    {
      "cell_type": "markdown",
      "metadata": {
        "id": "ODJVmYvIP3x-"
      },
      "source": [
        "## Step 0. 데이터 스크래핑이 대하여"
      ]
    },
    {
      "cell_type": "markdown",
      "metadata": {
        "id": "c0iKTnLNsraM"
      },
      "source": [
        "### 스크래핑을 이용한 자동 데이터 습득\n",
        "\n",
        "*   데이터의 형식을 예측 후 그대로 고정적으로 지정해서 가져옴 (데이터 구성이 예측이 벗어난 경우 (리뉴얼이나, 팝업창때메 평소랑 다름)는 동작이 잘 안될수 도 있다)\n",
        "* 고로 스크래핑 데이터는 오류가 많을 수 밖에 없다 -> 데이터가 비어있거나 형식이 틀리고, 아웃라이어가 많다\n",
        "(문자열 같은경우 앞뒤 공백이 많고, html 태그가 같이 포함되는경우가 많다, 인코딩에 의해 깨진 문자도 많다.)\n",
        "(숫자같은 경우는 최대값이나 최소값으로 잘못기입되는 경우가 많다. 숫자대신 문자열이 들어가 분석에 차질이 생김)\n",
        "\n"
      ]
    },
    {
      "cell_type": "markdown",
      "metadata": {
        "id": "cxZwPnfms0-9"
      },
      "source": [
        "### 스크래핑된 데이터에서 아웃라이어의 특징\n"
      ]
    },
    {
      "cell_type": "markdown",
      "metadata": {
        "id": "IRssoNrgP7So"
      },
      "source": [
        "## Step 1. 데이터셋 준비하기"
      ]
    },
    {
      "cell_type": "code",
      "metadata": {
        "id": "g49RuFGrBvt7"
      },
      "source": [
        "import pandas as pd\n",
        "import numpy as np\n",
        "import matplotlib.pyplot as plt\n",
        "import seaborn as sns"
      ],
      "execution_count": null,
      "outputs": []
    },
    {
      "cell_type": "markdown",
      "metadata": {
        "id": "paInbv8Ys-Qy"
      },
      "source": [
        "### 문제 1. Colab Notebook에 Kaggle API 세팅하기\n"
      ]
    },
    {
      "cell_type": "code",
      "metadata": {
        "id": "RRXGYV60B7FX"
      },
      "source": [
        "import os"
      ],
      "execution_count": null,
      "outputs": []
    },
    {
      "cell_type": "code",
      "metadata": {
        "id": "mMKFOC0OBtHO"
      },
      "source": [
        "# os.environ을 이용하여 Kaggle API Username, Key 세팅하기\n",
        "# os.environ을 이용하여 Kaggle API Username, Key 세팅하기\n",
        "os.environ['KAGGLE_USERNAME'] = 'samjinwang'\n",
        "os.environ['KAGGLE_KEY'] = 'e808743bea20e4a89b105256b9d5941b'\n",
        "\n"
      ],
      "execution_count": null,
      "outputs": []
    },
    {
      "cell_type": "markdown",
      "metadata": {
        "id": "zvbeoB_WtBi-"
      },
      "source": [
        "### 문제 2. 데이터 다운로드 및 압축 해제하기\n"
      ]
    },
    {
      "cell_type": "code",
      "metadata": {
        "id": "JSblp2NsCGbh",
        "colab": {
          "base_uri": "https://localhost:8080/"
        },
        "outputId": "06191fcb-b428-4e4a-91bf-32504dbe0670"
      },
      "source": [
        "# Li# Linux 명령어로 Kaggle API를 이용하여 데이터셋 다운로드하기 (!kaggle ~)\n",
        "# Linux 명령어로 압축 해제하기\n",
        "!rm *.* #모든 파일 삭제 추후 다시 실행시 파일을 엎어쓰는지 선택을 안해도 됨\n",
        "!kaggle datasets download -d austinreese/craigslist-carstrucks-data\n",
        "!unzip '*.zip'\n",
        "\n",
        "\n",
        "\n"
      ],
      "execution_count": null,
      "outputs": [
        {
          "output_type": "stream",
          "name": "stdout",
          "text": [
            "rm: cannot remove '*.*': No such file or directory\n",
            "Downloading craigslist-carstrucks-data.zip to /content\n",
            " 97% 254M/262M [00:01<00:00, 130MB/s]\n",
            "100% 262M/262M [00:02<00:00, 133MB/s]\n",
            "Archive:  craigslist-carstrucks-data.zip\n",
            "  inflating: vehicles.csv            \n",
            "\n",
            "\n"
          ]
        }
      ]
    },
    {
      "cell_type": "markdown",
      "metadata": {
        "id": "aJ34SovLtFI8"
      },
      "source": [
        "### 문제 3. Pandas 라이브러리로 csv파일 읽어들이기\n"
      ]
    },
    {
      "cell_type": "code",
      "metadata": {
        "id": "RnJv-4YwCMSx"
      },
      "source": [
        "df = pd.read_csv('vehicles.csv')"
      ],
      "execution_count": null,
      "outputs": []
    },
    {
      "cell_type": "markdown",
      "metadata": {
        "id": "Jm317zPG-pjz"
      },
      "source": [
        ""
      ]
    },
    {
      "cell_type": "markdown",
      "metadata": {
        "id": "9L3BNVM7tHN5"
      },
      "source": [
        "## Step 2. EDA 및 데이터 기초 통계 분석\n"
      ]
    },
    {
      "cell_type": "markdown",
      "metadata": {
        "id": "HyFm33tNtVn7"
      },
      "source": [
        "### 문제 4. 불필요한 데이터 데이터프레임에서 제거하기\n"
      ]
    },
    {
      "cell_type": "code",
      "metadata": {
        "id": "YcR9BX23DIFW",
        "colab": {
          "base_uri": "https://localhost:8080/",
          "height": 504
        },
        "outputId": "3d8bdac8-b646-438f-bd7c-53dd91a205f9"
      },
      "source": [
        "# DataFrame에서 제공하는 메소드를 이용하여 각 데이터프레임의 구조 분석하기 (head(), info(), describe())\n",
        "# 데이터프레임에서 불필요한 컬럼 제거하기\n",
        "\n",
        "df.head()\n",
        "#year을 age로환산해서 만든다\n",
        "#범주형 데이터 cylinder fuel 은 누락된 데이터가 있을 확률이 높아보임\n",
        "#odometer은 정확히 적혀잇는 정도가 다 다를것같아보임\n",
        "#VIN 은 별로 안중요해보임"
      ],
      "execution_count": 68,
      "outputs": [
        {
          "output_type": "execute_result",
          "data": {
            "text/html": [
              "<div>\n",
              "<style scoped>\n",
              "    .dataframe tbody tr th:only-of-type {\n",
              "        vertical-align: middle;\n",
              "    }\n",
              "\n",
              "    .dataframe tbody tr th {\n",
              "        vertical-align: top;\n",
              "    }\n",
              "\n",
              "    .dataframe thead th {\n",
              "        text-align: right;\n",
              "    }\n",
              "</style>\n",
              "<table border=\"1\" class=\"dataframe\">\n",
              "  <thead>\n",
              "    <tr style=\"text-align: right;\">\n",
              "      <th></th>\n",
              "      <th>id</th>\n",
              "      <th>url</th>\n",
              "      <th>region</th>\n",
              "      <th>region_url</th>\n",
              "      <th>price</th>\n",
              "      <th>manufacturer</th>\n",
              "      <th>model</th>\n",
              "      <th>condition</th>\n",
              "      <th>cylinders</th>\n",
              "      <th>fuel</th>\n",
              "      <th>odometer</th>\n",
              "      <th>transmission</th>\n",
              "      <th>VIN</th>\n",
              "      <th>drive</th>\n",
              "      <th>size</th>\n",
              "      <th>type</th>\n",
              "      <th>paint_color</th>\n",
              "      <th>image_url</th>\n",
              "      <th>description</th>\n",
              "      <th>county</th>\n",
              "      <th>state</th>\n",
              "      <th>lat</th>\n",
              "      <th>long</th>\n",
              "      <th>posting_date</th>\n",
              "      <th>age</th>\n",
              "    </tr>\n",
              "  </thead>\n",
              "  <tbody>\n",
              "    <tr>\n",
              "      <th>27</th>\n",
              "      <td>7316814884</td>\n",
              "      <td>https://auburn.craigslist.org/ctd/d/auburn-uni...</td>\n",
              "      <td>others</td>\n",
              "      <td>https://auburn.craigslist.org</td>\n",
              "      <td>33590</td>\n",
              "      <td>gmc</td>\n",
              "      <td>others</td>\n",
              "      <td>good</td>\n",
              "      <td>8 cylinders</td>\n",
              "      <td>gas</td>\n",
              "      <td>57923.0</td>\n",
              "      <td>other</td>\n",
              "      <td>3GTP1VEC4EG551563</td>\n",
              "      <td>NaN</td>\n",
              "      <td>NaN</td>\n",
              "      <td>pickup</td>\n",
              "      <td>white</td>\n",
              "      <td>https://images.craigslist.org/00R0R_lwWjXSEWNa...</td>\n",
              "      <td>Carvana is the safer way to buy a car During t...</td>\n",
              "      <td>NaN</td>\n",
              "      <td>al</td>\n",
              "      <td>32.590</td>\n",
              "      <td>-85.4800</td>\n",
              "      <td>2021-05-04T12:31:18-0500</td>\n",
              "      <td>7.0</td>\n",
              "    </tr>\n",
              "    <tr>\n",
              "      <th>28</th>\n",
              "      <td>7316814758</td>\n",
              "      <td>https://auburn.craigslist.org/ctd/d/auburn-uni...</td>\n",
              "      <td>others</td>\n",
              "      <td>https://auburn.craigslist.org</td>\n",
              "      <td>22590</td>\n",
              "      <td>chevrolet</td>\n",
              "      <td>silverado 1500</td>\n",
              "      <td>good</td>\n",
              "      <td>8 cylinders</td>\n",
              "      <td>gas</td>\n",
              "      <td>71229.0</td>\n",
              "      <td>other</td>\n",
              "      <td>1GCSCSE06AZ123805</td>\n",
              "      <td>NaN</td>\n",
              "      <td>NaN</td>\n",
              "      <td>pickup</td>\n",
              "      <td>blue</td>\n",
              "      <td>https://images.craigslist.org/00R0R_lwWjXSEWNa...</td>\n",
              "      <td>Carvana is the safer way to buy a car During t...</td>\n",
              "      <td>NaN</td>\n",
              "      <td>al</td>\n",
              "      <td>32.590</td>\n",
              "      <td>-85.4800</td>\n",
              "      <td>2021-05-04T12:31:08-0500</td>\n",
              "      <td>11.0</td>\n",
              "    </tr>\n",
              "    <tr>\n",
              "      <th>29</th>\n",
              "      <td>7316814989</td>\n",
              "      <td>https://auburn.craigslist.org/ctd/d/auburn-uni...</td>\n",
              "      <td>others</td>\n",
              "      <td>https://auburn.craigslist.org</td>\n",
              "      <td>39590</td>\n",
              "      <td>chevrolet</td>\n",
              "      <td>others</td>\n",
              "      <td>good</td>\n",
              "      <td>8 cylinders</td>\n",
              "      <td>gas</td>\n",
              "      <td>19160.0</td>\n",
              "      <td>other</td>\n",
              "      <td>3GCPWCED5LG130317</td>\n",
              "      <td>NaN</td>\n",
              "      <td>NaN</td>\n",
              "      <td>pickup</td>\n",
              "      <td>red</td>\n",
              "      <td>https://images.craigslist.org/01212_jjirIWa0y0...</td>\n",
              "      <td>Carvana is the safer way to buy a car During t...</td>\n",
              "      <td>NaN</td>\n",
              "      <td>al</td>\n",
              "      <td>32.590</td>\n",
              "      <td>-85.4800</td>\n",
              "      <td>2021-05-04T12:31:25-0500</td>\n",
              "      <td>1.0</td>\n",
              "    </tr>\n",
              "    <tr>\n",
              "      <th>30</th>\n",
              "      <td>7316743432</td>\n",
              "      <td>https://auburn.craigslist.org/ctd/d/auburn-uni...</td>\n",
              "      <td>others</td>\n",
              "      <td>https://auburn.craigslist.org</td>\n",
              "      <td>30990</td>\n",
              "      <td>toyota</td>\n",
              "      <td>others</td>\n",
              "      <td>good</td>\n",
              "      <td>8 cylinders</td>\n",
              "      <td>gas</td>\n",
              "      <td>41124.0</td>\n",
              "      <td>other</td>\n",
              "      <td>5TFRM5F17HX120972</td>\n",
              "      <td>NaN</td>\n",
              "      <td>NaN</td>\n",
              "      <td>pickup</td>\n",
              "      <td>red</td>\n",
              "      <td>https://images.craigslist.org/00x0x_1y9kIOzGCF...</td>\n",
              "      <td>Carvana is the safer way to buy a car During t...</td>\n",
              "      <td>NaN</td>\n",
              "      <td>al</td>\n",
              "      <td>32.590</td>\n",
              "      <td>-85.4800</td>\n",
              "      <td>2021-05-04T10:41:31-0500</td>\n",
              "      <td>4.0</td>\n",
              "    </tr>\n",
              "    <tr>\n",
              "      <th>31</th>\n",
              "      <td>7316356412</td>\n",
              "      <td>https://auburn.craigslist.org/cto/d/auburn-uni...</td>\n",
              "      <td>others</td>\n",
              "      <td>https://auburn.craigslist.org</td>\n",
              "      <td>15000</td>\n",
              "      <td>ford</td>\n",
              "      <td>others</td>\n",
              "      <td>excellent</td>\n",
              "      <td>6 cylinders</td>\n",
              "      <td>gas</td>\n",
              "      <td>128000.0</td>\n",
              "      <td>automatic</td>\n",
              "      <td>NaN</td>\n",
              "      <td>rwd</td>\n",
              "      <td>full-size</td>\n",
              "      <td>truck</td>\n",
              "      <td>black</td>\n",
              "      <td>https://images.craigslist.org/00404_l4loxHvdQe...</td>\n",
              "      <td>2013 F-150 XLT V6 4 Door. Good condition. Leve...</td>\n",
              "      <td>NaN</td>\n",
              "      <td>al</td>\n",
              "      <td>32.592</td>\n",
              "      <td>-85.5189</td>\n",
              "      <td>2021-05-03T14:02:03-0500</td>\n",
              "      <td>8.0</td>\n",
              "    </tr>\n",
              "  </tbody>\n",
              "</table>\n",
              "</div>"
            ],
            "text/plain": [
              "            id  ...   age\n",
              "27  7316814884  ...   7.0\n",
              "28  7316814758  ...  11.0\n",
              "29  7316814989  ...   1.0\n",
              "30  7316743432  ...   4.0\n",
              "31  7316356412  ...   8.0\n",
              "\n",
              "[5 rows x 25 columns]"
            ]
          },
          "metadata": {},
          "execution_count": 68
        }
      ]
    },
    {
      "cell_type": "code",
      "metadata": {
        "colab": {
          "base_uri": "https://localhost:8080/"
        },
        "id": "fB6qE2poK7GX",
        "outputId": "311e7ba7-2deb-4a51-cfa2-58765cbdf2d4"
      },
      "source": [
        "df.info() #"
      ],
      "execution_count": 69,
      "outputs": [
        {
          "output_type": "stream",
          "name": "stdout",
          "text": [
            "<class 'pandas.core.frame.DataFrame'>\n",
            "Int64Index: 338073 entries, 27 to 426879\n",
            "Data columns (total 25 columns):\n",
            " #   Column        Non-Null Count   Dtype  \n",
            "---  ------        --------------   -----  \n",
            " 0   id            338073 non-null  int64  \n",
            " 1   url           338073 non-null  object \n",
            " 2   region        338073 non-null  object \n",
            " 3   region_url    338073 non-null  object \n",
            " 4   price         338073 non-null  int64  \n",
            " 5   manufacturer  326281 non-null  object \n",
            " 6   model         334649 non-null  object \n",
            " 7   condition     207497 non-null  object \n",
            " 8   cylinders     206012 non-null  object \n",
            " 9   fuel          336031 non-null  object \n",
            " 10  odometer      338073 non-null  float64\n",
            " 11  transmission  336747 non-null  object \n",
            " 12  VIN           203801 non-null  object \n",
            " 13  drive         237979 non-null  object \n",
            " 14  size          100787 non-null  object \n",
            " 15  type          264518 non-null  object \n",
            " 16  paint_color   241032 non-null  object \n",
            " 17  image_url     338073 non-null  object \n",
            " 18  description   338072 non-null  object \n",
            " 19  county        0 non-null       float64\n",
            " 20  state         338073 non-null  object \n",
            " 21  lat           334931 non-null  float64\n",
            " 22  long          334931 non-null  float64\n",
            " 23  posting_date  338073 non-null  object \n",
            " 24  age           337457 non-null  float64\n",
            "dtypes: float64(5), int64(2), object(18)\n",
            "memory usage: 77.1+ MB\n"
          ]
        }
      ]
    },
    {
      "cell_type": "code",
      "metadata": {
        "id": "9FdmT-3LM_W1"
      },
      "source": [
        ""
      ],
      "execution_count": 69,
      "outputs": []
    },
    {
      "cell_type": "code",
      "metadata": {
        "colab": {
          "base_uri": "https://localhost:8080/"
        },
        "id": "1zqNZeMAK7pU",
        "outputId": "5732c827-49c4-4289-85c3-a2fb779ad29c"
      },
      "source": [
        "df.isna().sum() #null이 빠져있는 값들이 많아보인다\n",
        "#condition은 중요한정보인데 많이 빠져있다\n",
        "#주요한 요소들로 예상되는데 비어있는 값들이 많다"
      ],
      "execution_count": 70,
      "outputs": [
        {
          "output_type": "execute_result",
          "data": {
            "text/plain": [
              "id                   0\n",
              "url                  0\n",
              "region               0\n",
              "region_url           0\n",
              "price                0\n",
              "manufacturer     11792\n",
              "model             3424\n",
              "condition       130576\n",
              "cylinders       132061\n",
              "fuel              2042\n",
              "odometer             0\n",
              "transmission      1326\n",
              "VIN             134272\n",
              "drive           100094\n",
              "size            237286\n",
              "type             73555\n",
              "paint_color      97041\n",
              "image_url            0\n",
              "description          1\n",
              "county          338073\n",
              "state                0\n",
              "lat               3142\n",
              "long              3142\n",
              "posting_date         0\n",
              "age                616\n",
              "dtype: int64"
            ]
          },
          "metadata": {},
          "execution_count": 70
        }
      ]
    },
    {
      "cell_type": "code",
      "metadata": {
        "colab": {
          "base_uri": "https://localhost:8080/",
          "height": 300
        },
        "id": "ubNejtxZNAhY",
        "outputId": "2ee4b357-f8cd-44b2-8958-8dab474768fe"
      },
      "source": [
        "df.describe()"
      ],
      "execution_count": 71,
      "outputs": [
        {
          "output_type": "execute_result",
          "data": {
            "text/html": [
              "<div>\n",
              "<style scoped>\n",
              "    .dataframe tbody tr th:only-of-type {\n",
              "        vertical-align: middle;\n",
              "    }\n",
              "\n",
              "    .dataframe tbody tr th {\n",
              "        vertical-align: top;\n",
              "    }\n",
              "\n",
              "    .dataframe thead th {\n",
              "        text-align: right;\n",
              "    }\n",
              "</style>\n",
              "<table border=\"1\" class=\"dataframe\">\n",
              "  <thead>\n",
              "    <tr style=\"text-align: right;\">\n",
              "      <th></th>\n",
              "      <th>id</th>\n",
              "      <th>price</th>\n",
              "      <th>odometer</th>\n",
              "      <th>county</th>\n",
              "      <th>lat</th>\n",
              "      <th>long</th>\n",
              "      <th>age</th>\n",
              "    </tr>\n",
              "  </thead>\n",
              "  <tbody>\n",
              "    <tr>\n",
              "      <th>count</th>\n",
              "      <td>3.380730e+05</td>\n",
              "      <td>338073.000000</td>\n",
              "      <td>338073.000000</td>\n",
              "      <td>0.0</td>\n",
              "      <td>334931.000000</td>\n",
              "      <td>334931.000000</td>\n",
              "      <td>337457.000000</td>\n",
              "    </tr>\n",
              "    <tr>\n",
              "      <th>mean</th>\n",
              "      <td>7.311505e+09</td>\n",
              "      <td>17618.115265</td>\n",
              "      <td>100771.015355</td>\n",
              "      <td>NaN</td>\n",
              "      <td>38.584679</td>\n",
              "      <td>-94.208897</td>\n",
              "      <td>10.204921</td>\n",
              "    </tr>\n",
              "    <tr>\n",
              "      <th>std</th>\n",
              "      <td>4.371019e+06</td>\n",
              "      <td>12678.374523</td>\n",
              "      <td>57120.746792</td>\n",
              "      <td>NaN</td>\n",
              "      <td>5.808196</td>\n",
              "      <td>18.062098</td>\n",
              "      <td>8.489158</td>\n",
              "    </tr>\n",
              "    <tr>\n",
              "      <th>min</th>\n",
              "      <td>7.301583e+09</td>\n",
              "      <td>501.000000</td>\n",
              "      <td>14940.000000</td>\n",
              "      <td>NaN</td>\n",
              "      <td>-81.838232</td>\n",
              "      <td>-159.719900</td>\n",
              "      <td>-1.000000</td>\n",
              "    </tr>\n",
              "    <tr>\n",
              "      <th>25%</th>\n",
              "      <td>7.308148e+09</td>\n",
              "      <td>7495.000000</td>\n",
              "      <td>51933.000000</td>\n",
              "      <td>NaN</td>\n",
              "      <td>34.903460</td>\n",
              "      <td>-110.882900</td>\n",
              "      <td>5.000000</td>\n",
              "    </tr>\n",
              "    <tr>\n",
              "      <th>50%</th>\n",
              "      <td>7.312643e+09</td>\n",
              "      <td>14599.000000</td>\n",
              "      <td>96281.000000</td>\n",
              "      <td>NaN</td>\n",
              "      <td>39.337094</td>\n",
              "      <td>-88.018940</td>\n",
              "      <td>8.000000</td>\n",
              "    </tr>\n",
              "    <tr>\n",
              "      <th>75%</th>\n",
              "      <td>7.315247e+09</td>\n",
              "      <td>25590.000000</td>\n",
              "      <td>140000.000000</td>\n",
              "      <td>NaN</td>\n",
              "      <td>42.408600</td>\n",
              "      <td>-80.705457</td>\n",
              "      <td>13.000000</td>\n",
              "    </tr>\n",
              "    <tr>\n",
              "      <th>max</th>\n",
              "      <td>7.317101e+09</td>\n",
              "      <td>66992.000000</td>\n",
              "      <td>279974.000000</td>\n",
              "      <td>NaN</td>\n",
              "      <td>82.390818</td>\n",
              "      <td>167.629911</td>\n",
              "      <td>121.000000</td>\n",
              "    </tr>\n",
              "  </tbody>\n",
              "</table>\n",
              "</div>"
            ],
            "text/plain": [
              "                 id          price  ...           long            age\n",
              "count  3.380730e+05  338073.000000  ...  334931.000000  337457.000000\n",
              "mean   7.311505e+09   17618.115265  ...     -94.208897      10.204921\n",
              "std    4.371019e+06   12678.374523  ...      18.062098       8.489158\n",
              "min    7.301583e+09     501.000000  ...    -159.719900      -1.000000\n",
              "25%    7.308148e+09    7495.000000  ...    -110.882900       5.000000\n",
              "50%    7.312643e+09   14599.000000  ...     -88.018940       8.000000\n",
              "75%    7.315247e+09   25590.000000  ...     -80.705457      13.000000\n",
              "max    7.317101e+09   66992.000000  ...     167.629911     121.000000\n",
              "\n",
              "[8 rows x 7 columns]"
            ]
          },
          "metadata": {},
          "execution_count": 71
        }
      ]
    },
    {
      "cell_type": "code",
      "metadata": {
        "id": "NtfpUZIyLE-n"
      },
      "source": [
        "df.columns"
      ],
      "execution_count": 93,
      "outputs": []
    },
    {
      "cell_type": "code",
      "metadata": {
        "id": "0u4nECpkLFZU"
      },
      "source": [
        "df.drop([ 'id', 'url', 'region_url', 'VIN',\n",
        "         'image_url', 'description', 'state', 'lat','county' \n",
        "         'long', 'posting_date'], axis=1, inplace=True) #머신러닝에 분석이 어렵거나 비어있는 값이 많은 경우는 빼버림"
      ],
      "execution_count": 73,
      "outputs": []
    },
    {
      "cell_type": "code",
      "metadata": {
        "id": "Y5-ZJoRqLFgW",
        "colab": {
          "base_uri": "https://localhost:8080/",
          "height": 596
        },
        "outputId": "f25535ba-3656-4c84-c3ea-e3ed914d076d"
      },
      "source": [
        "df['age'] = 2021 - df['year']\n",
        "df.drop('year', axis=1, inplace=True) #year를 age(차의 나이)로 바꾼다 _> 분석에 더 적합"
      ],
      "execution_count": 74,
      "outputs": [
        {
          "output_type": "error",
          "ename": "KeyError",
          "evalue": "ignored",
          "traceback": [
            "\u001b[0;31m---------------------------------------------------------------------------\u001b[0m",
            "\u001b[0;31mKeyError\u001b[0m                                  Traceback (most recent call last)",
            "\u001b[0;32m/usr/local/lib/python3.7/dist-packages/pandas/core/indexes/base.py\u001b[0m in \u001b[0;36mget_loc\u001b[0;34m(self, key, method, tolerance)\u001b[0m\n\u001b[1;32m   2897\u001b[0m             \u001b[0;32mtry\u001b[0m\u001b[0;34m:\u001b[0m\u001b[0;34m\u001b[0m\u001b[0;34m\u001b[0m\u001b[0m\n\u001b[0;32m-> 2898\u001b[0;31m                 \u001b[0;32mreturn\u001b[0m \u001b[0mself\u001b[0m\u001b[0;34m.\u001b[0m\u001b[0m_engine\u001b[0m\u001b[0;34m.\u001b[0m\u001b[0mget_loc\u001b[0m\u001b[0;34m(\u001b[0m\u001b[0mcasted_key\u001b[0m\u001b[0;34m)\u001b[0m\u001b[0;34m\u001b[0m\u001b[0;34m\u001b[0m\u001b[0m\n\u001b[0m\u001b[1;32m   2899\u001b[0m             \u001b[0;32mexcept\u001b[0m \u001b[0mKeyError\u001b[0m \u001b[0;32mas\u001b[0m \u001b[0merr\u001b[0m\u001b[0;34m:\u001b[0m\u001b[0;34m\u001b[0m\u001b[0;34m\u001b[0m\u001b[0m\n",
            "\u001b[0;32mpandas/_libs/index.pyx\u001b[0m in \u001b[0;36mpandas._libs.index.IndexEngine.get_loc\u001b[0;34m()\u001b[0m\n",
            "\u001b[0;32mpandas/_libs/index.pyx\u001b[0m in \u001b[0;36mpandas._libs.index.IndexEngine.get_loc\u001b[0;34m()\u001b[0m\n",
            "\u001b[0;32mpandas/_libs/hashtable_class_helper.pxi\u001b[0m in \u001b[0;36mpandas._libs.hashtable.PyObjectHashTable.get_item\u001b[0;34m()\u001b[0m\n",
            "\u001b[0;32mpandas/_libs/hashtable_class_helper.pxi\u001b[0m in \u001b[0;36mpandas._libs.hashtable.PyObjectHashTable.get_item\u001b[0;34m()\u001b[0m\n",
            "\u001b[0;31mKeyError\u001b[0m: 'year'",
            "\nThe above exception was the direct cause of the following exception:\n",
            "\u001b[0;31mKeyError\u001b[0m                                  Traceback (most recent call last)",
            "\u001b[0;32m<ipython-input-74-d6e22a4d67d5>\u001b[0m in \u001b[0;36m<module>\u001b[0;34m()\u001b[0m\n\u001b[0;32m----> 1\u001b[0;31m \u001b[0mdf\u001b[0m\u001b[0;34m[\u001b[0m\u001b[0;34m'age'\u001b[0m\u001b[0;34m]\u001b[0m \u001b[0;34m=\u001b[0m \u001b[0;36m2021\u001b[0m \u001b[0;34m-\u001b[0m \u001b[0mdf\u001b[0m\u001b[0;34m[\u001b[0m\u001b[0;34m'year'\u001b[0m\u001b[0;34m]\u001b[0m\u001b[0;34m\u001b[0m\u001b[0;34m\u001b[0m\u001b[0m\n\u001b[0m\u001b[1;32m      2\u001b[0m \u001b[0mdf\u001b[0m\u001b[0;34m.\u001b[0m\u001b[0mdrop\u001b[0m\u001b[0;34m(\u001b[0m\u001b[0;34m'year'\u001b[0m\u001b[0;34m,\u001b[0m \u001b[0maxis\u001b[0m\u001b[0;34m=\u001b[0m\u001b[0;36m1\u001b[0m\u001b[0;34m,\u001b[0m \u001b[0minplace\u001b[0m\u001b[0;34m=\u001b[0m\u001b[0;32mTrue\u001b[0m\u001b[0;34m)\u001b[0m \u001b[0;31m#year를 age(차의 나이)로 바꾼다 _> 분석에 더 적합\u001b[0m\u001b[0;34m\u001b[0m\u001b[0;34m\u001b[0m\u001b[0m\n",
            "\u001b[0;32m/usr/local/lib/python3.7/dist-packages/pandas/core/frame.py\u001b[0m in \u001b[0;36m__getitem__\u001b[0;34m(self, key)\u001b[0m\n\u001b[1;32m   2904\u001b[0m             \u001b[0;32mif\u001b[0m \u001b[0mself\u001b[0m\u001b[0;34m.\u001b[0m\u001b[0mcolumns\u001b[0m\u001b[0;34m.\u001b[0m\u001b[0mnlevels\u001b[0m \u001b[0;34m>\u001b[0m \u001b[0;36m1\u001b[0m\u001b[0;34m:\u001b[0m\u001b[0;34m\u001b[0m\u001b[0;34m\u001b[0m\u001b[0m\n\u001b[1;32m   2905\u001b[0m                 \u001b[0;32mreturn\u001b[0m \u001b[0mself\u001b[0m\u001b[0;34m.\u001b[0m\u001b[0m_getitem_multilevel\u001b[0m\u001b[0;34m(\u001b[0m\u001b[0mkey\u001b[0m\u001b[0;34m)\u001b[0m\u001b[0;34m\u001b[0m\u001b[0;34m\u001b[0m\u001b[0m\n\u001b[0;32m-> 2906\u001b[0;31m             \u001b[0mindexer\u001b[0m \u001b[0;34m=\u001b[0m \u001b[0mself\u001b[0m\u001b[0;34m.\u001b[0m\u001b[0mcolumns\u001b[0m\u001b[0;34m.\u001b[0m\u001b[0mget_loc\u001b[0m\u001b[0;34m(\u001b[0m\u001b[0mkey\u001b[0m\u001b[0;34m)\u001b[0m\u001b[0;34m\u001b[0m\u001b[0;34m\u001b[0m\u001b[0m\n\u001b[0m\u001b[1;32m   2907\u001b[0m             \u001b[0;32mif\u001b[0m \u001b[0mis_integer\u001b[0m\u001b[0;34m(\u001b[0m\u001b[0mindexer\u001b[0m\u001b[0;34m)\u001b[0m\u001b[0;34m:\u001b[0m\u001b[0;34m\u001b[0m\u001b[0;34m\u001b[0m\u001b[0m\n\u001b[1;32m   2908\u001b[0m                 \u001b[0mindexer\u001b[0m \u001b[0;34m=\u001b[0m \u001b[0;34m[\u001b[0m\u001b[0mindexer\u001b[0m\u001b[0;34m]\u001b[0m\u001b[0;34m\u001b[0m\u001b[0;34m\u001b[0m\u001b[0m\n",
            "\u001b[0;32m/usr/local/lib/python3.7/dist-packages/pandas/core/indexes/base.py\u001b[0m in \u001b[0;36mget_loc\u001b[0;34m(self, key, method, tolerance)\u001b[0m\n\u001b[1;32m   2898\u001b[0m                 \u001b[0;32mreturn\u001b[0m \u001b[0mself\u001b[0m\u001b[0;34m.\u001b[0m\u001b[0m_engine\u001b[0m\u001b[0;34m.\u001b[0m\u001b[0mget_loc\u001b[0m\u001b[0;34m(\u001b[0m\u001b[0mcasted_key\u001b[0m\u001b[0;34m)\u001b[0m\u001b[0;34m\u001b[0m\u001b[0;34m\u001b[0m\u001b[0m\n\u001b[1;32m   2899\u001b[0m             \u001b[0;32mexcept\u001b[0m \u001b[0mKeyError\u001b[0m \u001b[0;32mas\u001b[0m \u001b[0merr\u001b[0m\u001b[0;34m:\u001b[0m\u001b[0;34m\u001b[0m\u001b[0;34m\u001b[0m\u001b[0m\n\u001b[0;32m-> 2900\u001b[0;31m                 \u001b[0;32mraise\u001b[0m \u001b[0mKeyError\u001b[0m\u001b[0;34m(\u001b[0m\u001b[0mkey\u001b[0m\u001b[0;34m)\u001b[0m \u001b[0;32mfrom\u001b[0m \u001b[0merr\u001b[0m\u001b[0;34m\u001b[0m\u001b[0;34m\u001b[0m\u001b[0m\n\u001b[0m\u001b[1;32m   2901\u001b[0m \u001b[0;34m\u001b[0m\u001b[0m\n\u001b[1;32m   2902\u001b[0m         \u001b[0;32mif\u001b[0m \u001b[0mtolerance\u001b[0m \u001b[0;32mis\u001b[0m \u001b[0;32mnot\u001b[0m \u001b[0;32mNone\u001b[0m\u001b[0;34m:\u001b[0m\u001b[0;34m\u001b[0m\u001b[0;34m\u001b[0m\u001b[0m\n",
            "\u001b[0;31mKeyError\u001b[0m: 'year'"
          ]
        }
      ]
    },
    {
      "cell_type": "code",
      "metadata": {
        "colab": {
          "base_uri": "https://localhost:8080/"
        },
        "id": "AdYxlcFkLFmo",
        "outputId": "b811df97-f75c-4ed1-cf9b-52a56e2cb398"
      },
      "source": [
        "df.columns"
      ],
      "execution_count": 75,
      "outputs": [
        {
          "output_type": "execute_result",
          "data": {
            "text/plain": [
              "Index(['region', 'price', 'manufacturer', 'model', 'condition', 'cylinders',\n",
              "       'fuel', 'odometer', 'transmission', 'drive', 'size', 'type',\n",
              "       'paint_color', 'county', 'age'],\n",
              "      dtype='object')"
            ]
          },
          "metadata": {},
          "execution_count": 75
        }
      ]
    },
    {
      "cell_type": "code",
      "metadata": {
        "id": "ta62Cc0MLFrc"
      },
      "source": [
        ""
      ],
      "execution_count": 75,
      "outputs": []
    },
    {
      "cell_type": "markdown",
      "metadata": {
        "id": "HGHvPwkNtXgj"
      },
      "source": [
        "### 문제 5. 범주형 데이터의 통계 분석하기\n"
      ]
    },
    {
      "cell_type": "code",
      "metadata": {
        "id": "YlXywOBGNqjN",
        "colab": {
          "base_uri": "https://localhost:8080/"
        },
        "outputId": "3a4e8ae9-e3ad-4f07-b66c-bcb5090b4330"
      },
      "source": [
        "df.columns"
      ],
      "execution_count": 76,
      "outputs": [
        {
          "output_type": "execute_result",
          "data": {
            "text/plain": [
              "Index(['region', 'price', 'manufacturer', 'model', 'condition', 'cylinders',\n",
              "       'fuel', 'odometer', 'transmission', 'drive', 'size', 'type',\n",
              "       'paint_color', 'county', 'age'],\n",
              "      dtype='object')"
            ]
          },
          "metadata": {},
          "execution_count": 76
        }
      ]
    },
    {
      "cell_type": "code",
      "metadata": {
        "id": "b_zcrUDF7khF",
        "colab": {
          "base_uri": "https://localhost:8080/"
        },
        "outputId": "3f95c3cc-7e54-4970-c4d4-b4ba0d400258"
      },
      "source": [
        "# 범주형 데이터의 값의 범위, 기초 통계 분석하기\n",
        "\n",
        "\n",
        "len(df['manufacturer'].value_counts()) #총 43개의 종류\n",
        "df['manufacturer'].value_counts()\n"
      ],
      "execution_count": 77,
      "outputs": [
        {
          "output_type": "execute_result",
          "data": {
            "text/plain": [
              "others       110393\n",
              "ford          55994\n",
              "chevrolet     42932\n",
              "toyota        28105\n",
              "honda         17846\n",
              "nissan        15513\n",
              "jeep          15042\n",
              "ram           14307\n",
              "gmc           13701\n",
              "bmw           12448\n",
              "Name: manufacturer, dtype: int64"
            ]
          },
          "metadata": {},
          "execution_count": 77
        }
      ]
    },
    {
      "cell_type": "code",
      "metadata": {
        "colab": {
          "base_uri": "https://localhost:8080/",
          "height": 624
        },
        "id": "fNfGlOvwN_hX",
        "outputId": "78184002-3d53-4a23-8308-faaab55a3413"
      },
      "source": [
        "fig = plt.figure(figsize=(8, 10))\n",
        "#팔린 차의 제조사 별로 팔린횟수 기준으로 내림차순한다\n",
        "sns.countplot(y='manufacturer', data=df.fillna('n/a'), order=df.fillna('n/a')['manufacturer'].value_counts().index)"
      ],
      "execution_count": 78,
      "outputs": [
        {
          "output_type": "execute_result",
          "data": {
            "text/plain": [
              "<matplotlib.axes._subplots.AxesSubplot at 0x7fab64a52c50>"
            ]
          },
          "metadata": {},
          "execution_count": 78
        },
        {
          "output_type": "display_data",
          "data": {
            "image/png": "[encoded data removed]",
            "text/plain": [
              "<Figure size 576x720 with 1 Axes>"
            ]
          },
          "metadata": {
            "needs_background": "light"
          }
        }
      ]
    },
    {
      "cell_type": "code",
      "metadata": {
        "id": "5ouxpSIoOAKN",
        "colab": {
          "base_uri": "https://localhost:8080/"
        },
        "outputId": "27a600b7-1cb6-43ec-b7b8-440ef00392a3"
      },
      "source": [
        "#모든 차의 모델을 다 출력해본다 ->굉장히 많음\n",
        "for model, num in zip(df['model'].value_counts().index, df['model'].value_counts()):\n",
        "  print(model, num)\n",
        "\n",
        "  # num 이 1인 값 즉 한번밖에 안된값은 제대로 스크랩된 데이터가 대부분 아니다"
      ],
      "execution_count": 79,
      "outputs": [
        {
          "output_type": "stream",
          "name": "stdout",
          "text": [
            "others 306099\n",
            "f-150 6499\n",
            "silverado 1500 4061\n",
            "1500 3494\n",
            "camry 2593\n",
            "accord 2512\n",
            "silverado 2510\n",
            "civic 2381\n",
            "wrangler 2312\n",
            "altima 2188\n"
          ]
        }
      ]
    },
    {
      "cell_type": "code",
      "metadata": {
        "colab": {
          "base_uri": "https://localhost:8080/",
          "height": 297
        },
        "id": "6fZuBt0HOAwI",
        "outputId": "00b0137f-5cb1-4457-9a1a-60e23f7786cc"
      },
      "source": [
        "# new 도 na에 포함할지 생각해 봐야함\n",
        "sns.countplot(y='condition', data=df.fillna('n/a'), order=df.fillna('n/a')['condition'].value_counts().index)"
      ],
      "execution_count": 80,
      "outputs": [
        {
          "output_type": "execute_result",
          "data": {
            "text/plain": [
              "<matplotlib.axes._subplots.AxesSubplot at 0x7fab615ef610>"
            ]
          },
          "metadata": {},
          "execution_count": 80
        },
        {
          "output_type": "display_data",
          "data": {
            "image/png": "[encoded data removed]",
            "text/plain": [
              "<Figure size 432x288 with 1 Axes>"
            ]
          },
          "metadata": {
            "needs_background": "light"
          }
        }
      ]
    },
    {
      "cell_type": "code",
      "metadata": {
        "colab": {
          "base_uri": "https://localhost:8080/",
          "height": 297
        },
        "id": "oHj9YLosOA3p",
        "outputId": "2fc17ade-94a8-42bd-9f79-44a5142f3361"
      },
      "source": [
        "# \n",
        "sns.countplot(y='cylinders', data=df.fillna('n/a'), order=df.fillna('n/a')['cylinders'].value_counts().index)"
      ],
      "execution_count": 81,
      "outputs": [
        {
          "output_type": "execute_result",
          "data": {
            "text/plain": [
              "<matplotlib.axes._subplots.AxesSubplot at 0x7fab62bd6510>"
            ]
          },
          "metadata": {},
          "execution_count": 81
        },
        {
          "output_type": "display_data",
          "data": {
            "image/png": "[encoded data removed]",
            "text/plain": [
              "<Figure size 432x288 with 1 Axes>"
            ]
          },
          "metadata": {
            "needs_background": "light"
          }
        }
      ]
    },
    {
      "cell_type": "code",
      "metadata": {
        "colab": {
          "base_uri": "https://localhost:8080/",
          "height": 297
        },
        "id": "iFIK3ijMOBz_",
        "outputId": "9e3a1291-5e3e-4b37-be90-ce88671cc31a"
      },
      "source": [
        "#웬만하면 gas 차 휘발유\n",
        "sns.countplot(y='fuel', data=df.fillna('n/a'), order=df.fillna('n/a')['fuel'].value_counts().index)"
      ],
      "execution_count": 82,
      "outputs": [
        {
          "output_type": "execute_result",
          "data": {
            "text/plain": [
              "<matplotlib.axes._subplots.AxesSubplot at 0x7fab62d1cad0>"
            ]
          },
          "metadata": {},
          "execution_count": 82
        },
        {
          "output_type": "display_data",
          "data": {
            "image/png": "[encoded data removed]",
            "text/plain": [
              "<Figure size 432x288 with 1 Axes>"
            ]
          },
          "metadata": {
            "needs_background": "light"
          }
        }
      ]
    },
    {
      "cell_type": "code",
      "metadata": {
        "colab": {
          "base_uri": "https://localhost:8080/",
          "height": 297
        },
        "id": "1l2_CkrEOCN4",
        "outputId": "890fd96b-b726-4783-ba4f-8c75b4b3ec59"
      },
      "source": [
        "# 자동기어인 애들이 주로다\n",
        "\n",
        "sns.countplot(y='transmission', data=df.fillna('n/a'), order=df.fillna('n/a')['transmission'].value_counts().index)"
      ],
      "execution_count": 83,
      "outputs": [
        {
          "output_type": "execute_result",
          "data": {
            "text/plain": [
              "<matplotlib.axes._subplots.AxesSubplot at 0x7fab621ed750>"
            ]
          },
          "metadata": {},
          "execution_count": 83
        },
        {
          "output_type": "display_data",
          "data": {
            "image/png": "[encoded data removed]",
            "text/plain": [
              "<Figure size 432x288 with 1 Axes>"
            ]
          },
          "metadata": {
            "needs_background": "light"
          }
        }
      ]
    },
    {
      "cell_type": "code",
      "metadata": {
        "colab": {
          "base_uri": "https://localhost:8080/",
          "height": 297
        },
        "id": "Y_veksB7OCZb",
        "outputId": "5f46f8fd-c877-4b3f-b39e-5507e2730e86"
      },
      "source": [
        "#4개가 다 비슷해서 그대로 써도 무난할듯\n",
        "sns.countplot(y='drive', data=df.fillna('n/a'), order=df.fillna('n/a')['drive'].value_counts().index)"
      ],
      "execution_count": 84,
      "outputs": [
        {
          "output_type": "execute_result",
          "data": {
            "text/plain": [
              "<matplotlib.axes._subplots.AxesSubplot at 0x7fab62f1ba50>"
            ]
          },
          "metadata": {},
          "execution_count": 84
        },
        {
          "output_type": "display_data",
          "data": {
            "image/png": "[encoded data removed]",
            "text/plain": [
              "<Figure size 432x288 with 1 Axes>"
            ]
          },
          "metadata": {
            "needs_background": "light"
          }
        }
      ]
    },
    {
      "cell_type": "code",
      "metadata": {
        "colab": {
          "base_uri": "https://localhost:8080/",
          "height": 297
        },
        "id": "Rql1jz5AOCkd",
        "outputId": "753b63f5-0a26-4cd8-e21b-51ada850670d"
      },
      "source": [
        "sns.countplot(y='size', data=df.fillna('n/a'), order=df.fillna('n/a')['size'].value_counts().index)"
      ],
      "execution_count": 85,
      "outputs": [
        {
          "output_type": "execute_result",
          "data": {
            "text/plain": [
              "<matplotlib.axes._subplots.AxesSubplot at 0x7fab6301bd10>"
            ]
          },
          "metadata": {},
          "execution_count": 85
        },
        {
          "output_type": "display_data",
          "data": {
            "image/png": "[encoded data removed]",
            "text/plain": [
              "<Figure size 432x288 with 1 Axes>"
            ]
          },
          "metadata": {
            "needs_background": "light"
          }
        }
      ]
    },
    {
      "cell_type": "code",
      "metadata": {
        "colab": {
          "base_uri": "https://localhost:8080/",
          "height": 297
        },
        "id": "PlG35HYdPDSj",
        "outputId": "46436a4c-82e6-4720-f8f1-01bdd6c39dc0"
      },
      "source": [
        "\n",
        "sns.countplot(y='type', data=df.fillna('n/a'), order=df.fillna('n/a')['type'].value_counts().index)"
      ],
      "execution_count": 86,
      "outputs": [
        {
          "output_type": "execute_result",
          "data": {
            "text/plain": [
              "<matplotlib.axes._subplots.AxesSubplot at 0x7fab630e1090>"
            ]
          },
          "metadata": {},
          "execution_count": 86
        },
        {
          "output_type": "display_data",
          "data": {
            "image/png": "[encoded data removed]",
            "text/plain": [
              "<Figure size 432x288 with 1 Axes>"
            ]
          },
          "metadata": {
            "needs_background": "light"
          }
        }
      ]
    },
    {
      "cell_type": "code",
      "metadata": {
        "colab": {
          "base_uri": "https://localhost:8080/",
          "height": 297
        },
        "id": "guSsfuroPHJr",
        "outputId": "a000b690-598e-4181-b584-8bb36cab05ff"
      },
      "source": [
        "sns.countplot(y='paint_color', data=df.fillna('n/a'), order=df.fillna('n/a')['paint_color'].value_counts().index)"
      ],
      "execution_count": 87,
      "outputs": [
        {
          "output_type": "execute_result",
          "data": {
            "text/plain": [
              "<matplotlib.axes._subplots.AxesSubplot at 0x7fab6320f2d0>"
            ]
          },
          "metadata": {},
          "execution_count": 87
        },
        {
          "output_type": "display_data",
          "data": {
            "image/png": "[encoded data removed]",
            "text/plain": [
              "<Figure size 432x288 with 1 Axes>"
            ]
          },
          "metadata": {
            "needs_background": "light"
          }
        }
      ]
    },
    {
      "cell_type": "markdown",
      "metadata": {
        "id": "amkU5Y6g7Dp4"
      },
      "source": [
        "### 문제 6. 수치형 데이터의 통계 분석하기"
      ]
    },
    {
      "cell_type": "code",
      "metadata": {
        "id": "GZXSBFPyDh6R",
        "colab": {
          "base_uri": "https://localhost:8080/",
          "height": 189
        },
        "outputId": "d7787464-7e52-4947-c6a4-55e7367353df"
      },
      "source": [
        "# 수치형 데이터의 값의 범위, 기초 통계 분석하기\n",
        "# 수치형 데이터의 값의 범위, 기초 통계 분석하기\n",
        "#box플랏으로 봣을때 좋은 결과가 안나옴\n",
        "#\n",
        "fig = plt.figure(figsize=(8, 2))\n",
        "sns.rugplot(x='price', data=df, height=1)\n",
        "\n",
        "\n",
        "\n"
      ],
      "execution_count": 88,
      "outputs": [
        {
          "output_type": "execute_result",
          "data": {
            "text/plain": [
              "<matplotlib.axes._subplots.AxesSubplot at 0x7fab632e7750>"
            ]
          },
          "metadata": {},
          "execution_count": 88
        },
        {
          "output_type": "display_data",
          "data": {
            "image/png": "[encoded data removed]",
            "text/plain": [
              "<Figure size 576x144 with 1 Axes>"
            ]
          },
          "metadata": {
            "needs_background": "light"
          }
        }
      ]
    },
    {
      "cell_type": "code",
      "metadata": {
        "colab": {
          "base_uri": "https://localhost:8080/",
          "height": 189
        },
        "id": "9Ap0WbURPuYO",
        "outputId": "38d8b73b-265c-4a3a-e19a-525046a81664"
      },
      "source": [
        "fig = plt.figure(figsize=(8, 2))\n",
        "#outlier가 많아서 rugplot으로 해본다\n",
        "sns.rugplot(x='odometer', data=df, height=1)"
      ],
      "execution_count": 89,
      "outputs": [
        {
          "output_type": "execute_result",
          "data": {
            "text/plain": [
              "<matplotlib.axes._subplots.AxesSubplot at 0x7fab594a8810>"
            ]
          },
          "metadata": {},
          "execution_count": 89
        },
        {
          "output_type": "display_data",
          "data": {
            "image/png": "[encoded data removed]",
            "text/plain": [
              "<Figure size 576x144 with 1 Axes>"
            ]
          },
          "metadata": {
            "needs_background": "light"
          }
        }
      ]
    },
    {
      "cell_type": "code",
      "metadata": {
        "colab": {
          "base_uri": "https://localhost:8080/",
          "height": 297
        },
        "id": "IZodCtFOPu0e",
        "outputId": "a8ef7cc3-8878-45ca-eb4f-66f316c061a3"
      },
      "source": [
        "sns.histplot(x='age', data=df, bins=18, kde=True) #이건 무난하게 시각화가 됨"
      ],
      "execution_count": 90,
      "outputs": [
        {
          "output_type": "execute_result",
          "data": {
            "text/plain": [
              "<matplotlib.axes._subplots.AxesSubplot at 0x7fab4e563a50>"
            ]
          },
          "metadata": {},
          "execution_count": 90
        },
        {
          "output_type": "display_data",
          "data": {
            "image/png": "[encoded data removed]",
            "text/plain": [
              "<Figure size 432x288 with 1 Axes>"
            ]
          },
          "metadata": {
            "needs_background": "light"
          }
        }
      ]
    },
    {
      "cell_type": "code",
      "metadata": {
        "id": "6QcXWDuwPvAd"
      },
      "source": [
        ""
      ],
      "execution_count": null,
      "outputs": []
    },
    {
      "cell_type": "markdown",
      "metadata": {
        "id": "izztXKpllMss"
      },
      "source": [
        "## Step 3. 데이터 클리닝 수행하기"
      ]
    },
    {
      "cell_type": "markdown",
      "metadata": {
        "id": "KywGh9sjtYl9"
      },
      "source": [
        "### 문제 7. 범주형 데이터 시각화하여 분석하기"
      ]
    },
    {
      "cell_type": "code",
      "metadata": {
        "id": "TqXkwW8JDxhH",
        "colab": {
          "base_uri": "https://localhost:8080/"
        },
        "outputId": "b96099be-3e00-4f8e-d643-c0f6d9fcab22"
      },
      "source": [
        "# Boxplot 계열로 범주형 데이터를 시각화하여 분석하기\n",
        "df.columns\n",
        "\n",
        "\n"
      ],
      "execution_count": null,
      "outputs": [
        {
          "output_type": "execute_result",
          "data": {
            "text/plain": [
              "Index(['region', 'price', 'manufacturer', 'model', 'condition', 'cylinders',\n",
              "       'fuel', 'odometer', 'title_status', 'transmission', 'drive', 'size',\n",
              "       'type', 'paint_color', 'county', 'age'],\n",
              "      dtype='object')"
            ]
          },
          "metadata": {},
          "execution_count": 29
        }
      ]
    },
    {
      "cell_type": "code",
      "metadata": {
        "colab": {
          "base_uri": "https://localhost:8080/",
          "height": 308
        },
        "id": "dJPkdSS5eg4G",
        "outputId": "8edb3ed4-de3e-47eb-d09f-a5d1e8c1aef2"
      },
      "source": [
        "sns.boxplot(x='manufacturer', y = 'price', data=df.fillna('n/a')) #알아보기 힘듬\n"
      ],
      "execution_count": null,
      "outputs": [
        {
          "output_type": "execute_result",
          "data": {
            "text/plain": [
              "<matplotlib.axes._subplots.AxesSubplot at 0x7f3911e19e90>"
            ]
          },
          "metadata": {},
          "execution_count": 30
        },
        {
          "output_type": "display_data",
          "data": {
            "image/png": "[encoded data removed]",
            "text/plain": [
              "<Figure size 432x288 with 1 Axes>"
            ]
          },
          "metadata": {
            "needs_background": "light"
          }
        }
      ]
    },
    {
      "cell_type": "code",
      "metadata": {
        "colab": {
          "base_uri": "https://localhost:8080/",
          "height": 308
        },
        "id": "fvl_Fw4fxeL0",
        "outputId": "47c79141-e184-420f-fe1b-d701768870ac"
      },
      "source": [
        "sns.boxplot(x='fuel', y = 'price', data=df.fillna('n/a')) #아웃라이어가 너무 많음"
      ],
      "execution_count": null,
      "outputs": [
        {
          "output_type": "execute_result",
          "data": {
            "text/plain": [
              "<matplotlib.axes._subplots.AxesSubplot at 0x7f3941eadc10>"
            ]
          },
          "metadata": {},
          "execution_count": 31
        },
        {
          "output_type": "display_data",
          "data": {
            "image/png": "[encoded data removed]",
            "text/plain": [
              "<Figure size 432x288 with 1 Axes>"
            ]
          },
          "metadata": {
            "needs_background": "light"
          }
        }
      ]
    },
    {
      "cell_type": "markdown",
      "metadata": {
        "id": "CXLd43EZ9EgS"
      },
      "source": [
        "### 문제 8. 범주형 데이터 클리닝하기"
      ]
    },
    {
      "cell_type": "code",
      "metadata": {
        "id": "8HbUtvqs9C-C",
        "colab": {
          "base_uri": "https://localhost:8080/"
        },
        "outputId": "8b4a4eb2-f04b-4af3-a32c-6f7826f65fd1"
      },
      "source": [
        "# 범주형 데이터를 아래 방법 중 적절히 판단하여 처리하기\n",
        "df.columns"
      ],
      "execution_count": null,
      "outputs": [
        {
          "output_type": "execute_result",
          "data": {
            "text/plain": [
              "Index(['id', 'url', 'region', 'region_url', 'price', 'year', 'manufacturer',\n",
              "       'model', 'condition', 'cylinders', 'fuel', 'odometer', 'title_status',\n",
              "       'transmission', 'VIN', 'drive', 'size', 'type', 'paint_color',\n",
              "       'image_url', 'description', 'county', 'state', 'lat', 'long',\n",
              "       'posting_date'],\n",
              "      dtype='object')"
            ]
          },
          "metadata": {},
          "execution_count": 10
        }
      ]
    },
    {
      "cell_type": "code",
      "metadata": {
        "id": "kGPKx3Ifxqty",
        "colab": {
          "base_uri": "https://localhost:8080/"
        },
        "outputId": "12040b6b-4a0d-4fd3-8967-4e22e132e949"
      },
      "source": [
        "# 1. 결손 데이터가 포함된 Row를 제거\n",
        "df['manufacturer'].fillna('others').value_counts() # 전체 기준을 제조사로 함"
      ],
      "execution_count": null,
      "outputs": [
        {
          "output_type": "execute_result",
          "data": {
            "text/plain": [
              "ford               70985\n",
              "chevrolet          55064\n",
              "toyota             34202\n",
              "honda              21269\n",
              "nissan             19067\n",
              "jeep               19014\n",
              "ram                18342\n",
              "others             17646\n",
              "gmc                16785\n",
              "bmw                14699\n",
              "dodge              13707\n",
              "mercedes-benz      11817\n",
              "hyundai            10338\n",
              "subaru              9495\n",
              "volkswagen          9345\n",
              "kia                 8457\n",
              "lexus               8200\n",
              "audi                7573\n",
              "cadillac            6953\n",
              "chrysler            6031\n",
              "acura               5978\n",
              "buick               5501\n",
              "mazda               5427\n",
              "infiniti            4802\n",
              "lincoln             4220\n",
              "volvo               3374\n",
              "mitsubishi          3292\n",
              "mini                2376\n",
              "pontiac             2288\n",
              "rover               2113\n",
              "jaguar              1946\n",
              "porsche             1384\n",
              "mercury             1184\n",
              "saturn              1090\n",
              "alfa-romeo           897\n",
              "tesla                868\n",
              "fiat                 792\n",
              "harley-davidson      153\n",
              "ferrari               95\n",
              "datsun                63\n",
              "aston-martin          24\n",
              "land rover            21\n",
              "morgan                 3\n",
              "Name: manufacturer, dtype: int64"
            ]
          },
          "metadata": {},
          "execution_count": 11
        }
      ]
    },
    {
      "cell_type": "code",
      "metadata": {
        "id": "CCJVFGW70M8V",
        "colab": {
          "base_uri": "https://localhost:8080/",
          "height": 283
        },
        "outputId": "456a2464-d676-4ee0-cc99-060d8eb41a7f"
      },
      "source": [
        "col = 'manufacturer'\n",
        "counts = df[col].fillna('others').value_counts() #결손값을 기타로 채운후 '제조사' 컬럼의 요소들 갯수를 파악\n",
        "plt.plot(range(len(counts)),counts) #차가 많이 팔린 제조사로 내림 차운으로 선그래프가 나타남 (x축은 많이팔린 순위),(y축은 팔린 댓수)"
      ],
      "execution_count": null,
      "outputs": [
        {
          "output_type": "execute_result",
          "data": {
            "text/plain": [
              "[<matplotlib.lines.Line2D at 0x7fab9be93950>]"
            ]
          },
          "metadata": {},
          "execution_count": 12
        },
        {
          "output_type": "display_data",
          "data": {
            "image/png": "[encoded data removed]",
            "text/plain": [
              "<Figure size 432x288 with 1 Axes>"
            ]
          },
          "metadata": {
            "needs_background": "light"
          }
        }
      ]
    },
    {
      "cell_type": "code",
      "metadata": {
        "id": "-xLAEu6L0uQK"
      },
      "source": [
        "n_categorical = 10\n",
        "counts.index[n_categorical:] #많이 팔린 상위 n개 그룹을 제외한 나머지\n",
        "df[col] = df[col].apply(lambda s : s if str(s) not in counts.index[n_categorical:] else 'others')"
      ],
      "execution_count": null,
      "outputs": []
    },
    {
      "cell_type": "code",
      "metadata": {
        "id": "2GHihUv01rRL",
        "colab": {
          "base_uri": "https://localhost:8080/"
        },
        "outputId": "7e9cf268-1b5f-445b-8664-dbb4e6b78f03"
      },
      "source": [
        "df[col].value_counts()"
      ],
      "execution_count": null,
      "outputs": [
        {
          "output_type": "execute_result",
          "data": {
            "text/plain": [
              "others       139807\n",
              "ford          70985\n",
              "chevrolet     55064\n",
              "toyota        34202\n",
              "honda         21269\n",
              "nissan        19067\n",
              "jeep          19014\n",
              "ram           18342\n",
              "gmc           16785\n",
              "bmw           14699\n",
              "Name: manufacturer, dtype: int64"
            ]
          },
          "metadata": {},
          "execution_count": 14
        }
      ]
    },
    {
      "cell_type": "code",
      "metadata": {
        "id": "21N70HAL15Vg",
        "colab": {
          "base_uri": "https://localhost:8080/",
          "height": 283
        },
        "outputId": "e11ae8c1-fd95-4ecd-cde5-d668149038b2"
      },
      "source": [
        "#같은 방식\n",
        "col = 'region'\n",
        "counts = df[col].fillna('others').value_counts()\n",
        "plt.plot(range(len(counts)),counts) #5부터 급격한 감소"
      ],
      "execution_count": null,
      "outputs": [
        {
          "output_type": "execute_result",
          "data": {
            "text/plain": [
              "[<matplotlib.lines.Line2D at 0x7fab9be0aad0>]"
            ]
          },
          "metadata": {},
          "execution_count": 15
        },
        {
          "output_type": "display_data",
          "data": {
            "image/png": "[encoded data removed]",
            "text/plain": [
              "<Figure size 432x288 with 1 Axes>"
            ]
          },
          "metadata": {
            "needs_background": "light"
          }
        }
      ]
    },
    {
      "cell_type": "code",
      "metadata": {
        "id": "_CKOdBs516lv"
      },
      "source": [
        "n_categorical = 5\n",
        "df[col] = df[col].apply(lambda s : s if str(s) not in counts.index[n_categorical:] else 'others')"
      ],
      "execution_count": null,
      "outputs": []
    },
    {
      "cell_type": "code",
      "metadata": {
        "id": "pwloxDjB2R6o",
        "colab": {
          "base_uri": "https://localhost:8080/"
        },
        "outputId": "d68fba84-30f7-404a-f1ce-aedee6003405"
      },
      "source": [
        "df[col].value_counts()"
      ],
      "execution_count": null,
      "outputs": [
        {
          "output_type": "execute_result",
          "data": {
            "text/plain": [
              "others                     410754\n",
              "columbus                     3608\n",
              "jacksonville                 3562\n",
              "spokane / coeur d'alene      2988\n",
              "eugene                       2985\n",
              "orlando                      2983\n",
              "Name: region, dtype: int64"
            ]
          },
          "metadata": {},
          "execution_count": 17
        }
      ]
    },
    {
      "cell_type": "code",
      "metadata": {
        "id": "Gm0C4hNI24iS",
        "colab": {
          "base_uri": "https://localhost:8080/",
          "height": 283
        },
        "outputId": "e377c05c-4b10-4f75-9799-8c7c12ae302c"
      },
      "source": [
        "col = 'model'\n",
        "counts = df[col].fillna('others').value_counts()\n",
        "plt.plot(range(len(counts[:20])),counts[:20]) #상위 10개만 해도 될듯"
      ],
      "execution_count": null,
      "outputs": [
        {
          "output_type": "execute_result",
          "data": {
            "text/plain": [
              "[<matplotlib.lines.Line2D at 0x7fab9b970750>]"
            ]
          },
          "metadata": {},
          "execution_count": 18
        },
        {
          "output_type": "display_data",
          "data": {
            "image/png": "[encoded data removed]",
            "text/plain": [
              "<Figure size 432x288 with 1 Axes>"
            ]
          },
          "metadata": {
            "needs_background": "light"
          }
        }
      ]
    },
    {
      "cell_type": "code",
      "metadata": {
        "id": "DAlglvGl5egP"
      },
      "source": [
        "n_categorical = 10\n",
        "others =  counts.index[n_categorical:]\n",
        "df[col] = df[col].apply(lambda s : s if str(s) not in others else 'others') #30000개를 일일이 처리하려면 힘드니 others를 따로 만들어서 한다"
      ],
      "execution_count": null,
      "outputs": []
    },
    {
      "cell_type": "code",
      "metadata": {
        "id": "8xykxulE6pqt",
        "colab": {
          "base_uri": "https://localhost:8080/"
        },
        "outputId": "e5707bf3-1db5-48ab-ab45-b2698fa1bac2"
      },
      "source": [
        "df[col].value_counts()"
      ],
      "execution_count": null,
      "outputs": [
        {
          "output_type": "execute_result",
          "data": {
            "text/plain": [
              "others            386690\n",
              "f-150               8009\n",
              "silverado 1500      5140\n",
              "1500                4211\n",
              "camry               3135\n",
              "silverado           3023\n",
              "accord              2969\n",
              "wrangler            2848\n",
              "civic               2799\n",
              "altima              2779\n",
              "Name: model, dtype: int64"
            ]
          },
          "metadata": {},
          "execution_count": 20
        }
      ]
    },
    {
      "cell_type": "code",
      "metadata": {
        "id": "2HIh6b-3642_",
        "colab": {
          "base_uri": "https://localhost:8080/",
          "height": 283
        },
        "outputId": "983d96a4-fe56-4231-c33d-f817e4479cd6"
      },
      "source": [
        "col = 'condition'\n",
        "counts = df[col].fillna('others').value_counts()\n",
        "plt.plot(range(len(counts)),counts) #5부터 급격한 감소"
      ],
      "execution_count": null,
      "outputs": [
        {
          "output_type": "execute_result",
          "data": {
            "text/plain": [
              "[<matplotlib.lines.Line2D at 0x7fab9c74de50>]"
            ]
          },
          "metadata": {},
          "execution_count": 22
        },
        {
          "output_type": "display_data",
          "data": {
            "image/png": "[encoded data removed]",
            "text/plain": [
              "<Figure size 432x288 with 1 Axes>"
            ]
          },
          "metadata": {
            "needs_background": "light"
          }
        }
      ]
    },
    {
      "cell_type": "code",
      "metadata": {
        "id": "ham3oGw__OIr"
      },
      "source": [
        "n_categorical = 3\n",
        "others =  counts.index[n_categorical:]\n",
        "df[col] = df[col].apply(lambda s : s if str(s) not in others else 'others')"
      ],
      "execution_count": null,
      "outputs": []
    },
    {
      "cell_type": "code",
      "metadata": {
        "colab": {
          "base_uri": "https://localhost:8080/",
          "height": 265
        },
        "id": "1NSzRJbL_TYK",
        "outputId": "9e8059f4-4314-4e44-c3e0-a23c171f1aad"
      },
      "source": [
        "col = 'cylinders'\n",
        "counts = df[col].fillna('others').value_counts()\n",
        "plt.plot(range(len(counts)),counts)\n",
        "n_categorical = 4\n",
        "others =  counts.index[n_categorical:]\n",
        "df[col] = df[col].apply(lambda s : s if str(s) not in others else 'others')"
      ],
      "execution_count": null,
      "outputs": [
        {
          "output_type": "display_data",
          "data": {
            "image/png": "[encoded data removed]",
            "text/plain": [
              "<Figure size 432x288 with 1 Axes>"
            ]
          },
          "metadata": {
            "needs_background": "light"
          }
        }
      ]
    },
    {
      "cell_type": "code",
      "metadata": {
        "colab": {
          "base_uri": "https://localhost:8080/",
          "height": 265
        },
        "id": "BxE12KQL_akA",
        "outputId": "24cb8efe-5c32-4b7c-f161-f3d3244e026a"
      },
      "source": [
        "col = 'fuel'\n",
        "counts = df[col].fillna('others').value_counts()\n",
        "plt.plot(range(len(counts)),counts)\n",
        "n_categorical = 2\n",
        "others =  counts.index[n_categorical:]\n",
        "df[col] = df[col].apply(lambda s : s if str(s) not in others else 'others')"
      ],
      "execution_count": null,
      "outputs": [
        {
          "output_type": "display_data",
          "data": {
            "image/png": "[encoded data removed]",
            "text/plain": [
              "<Figure size 432x288 with 1 Axes>"
            ]
          },
          "metadata": {
            "needs_background": "light"
          }
        }
      ]
    },
    {
      "cell_type": "code",
      "metadata": {
        "id": "WeO-yuyD_pHw"
      },
      "source": [
        "# col = 'title_status'\n",
        "# counts = df[col].fillna('others').value_counts()\n",
        "# plt.plot(range(len(counts)),counts)\n",
        "# n_categorical = 2\n",
        "# others =  counts.index[n_categorical:]\n",
        "df.drop('title_status',axis = 1, inplace = True)"
      ],
      "execution_count": null,
      "outputs": []
    },
    {
      "cell_type": "code",
      "metadata": {
        "colab": {
          "base_uri": "https://localhost:8080/",
          "height": 285
        },
        "id": "VrveTkdZAIL1",
        "outputId": "15d77937-b3dc-48e1-933b-82745cf91adb"
      },
      "source": [
        "col = 'transmission'\n",
        "counts = df[col].fillna('others').value_counts()\n",
        "plt.plot(range(len(counts)),counts)\n"
      ],
      "execution_count": null,
      "outputs": [
        {
          "output_type": "execute_result",
          "data": {
            "text/plain": [
              "[<matplotlib.lines.Line2D at 0x7fab97873f90>]"
            ]
          },
          "metadata": {},
          "execution_count": 31
        },
        {
          "output_type": "display_data",
          "data": {
            "image/png": "[encoded data removed]",
            "text/plain": [
              "<Figure size 432x288 with 1 Axes>"
            ]
          },
          "metadata": {
            "needs_background": "light"
          }
        }
      ]
    },
    {
      "cell_type": "code",
      "metadata": {
        "id": "TMN6eEc_AI2h"
      },
      "source": [
        "n_categorical = 2\n",
        "others =  counts.index[n_categorical:]\n",
        "df[col] = df[col].apply(lambda s : s if str(s) not in others else 'others')"
      ],
      "execution_count": null,
      "outputs": []
    },
    {
      "cell_type": "code",
      "metadata": {
        "colab": {
          "base_uri": "https://localhost:8080/",
          "height": 356
        },
        "id": "ihvVxN7CAJH_",
        "outputId": "9e9b57f0-7e74-44d5-cfe9-4c0ed7ade3a0"
      },
      "source": [
        "col = 'drive'\n",
        "counts = df[col].fillna('others').value_counts()\n",
        "plt.plot(range(len(counts)),counts)\n",
        "#수정할 필요 없어보임\n",
        "df[col].fillna('others').value_counts() #그래도 결측값은 확실히 추가해 놓는다"
      ],
      "execution_count": null,
      "outputs": [
        {
          "output_type": "execute_result",
          "data": {
            "text/plain": [
              "4wd       131904\n",
              "others    130567\n",
              "fwd       105517\n",
              "rwd        58892\n",
              "Name: drive, dtype: int64"
            ]
          },
          "metadata": {},
          "execution_count": 35
        },
        {
          "output_type": "display_data",
          "data": {
            "image/png": "[encoded data removed]",
            "text/plain": [
              "<Figure size 432x288 with 1 Axes>"
            ]
          },
          "metadata": {
            "needs_background": "light"
          }
        }
      ]
    },
    {
      "cell_type": "code",
      "metadata": {
        "colab": {
          "base_uri": "https://localhost:8080/",
          "height": 283
        },
        "id": "Xi-y2zJkAdPt",
        "outputId": "f25f12a8-be13-460b-e860-5492010a6815"
      },
      "source": [
        "col = 'size'\n",
        "counts = df[col].fillna('others').value_counts()\n",
        "plt.plot(range(len(counts)),counts)\n"
      ],
      "execution_count": null,
      "outputs": [
        {
          "output_type": "execute_result",
          "data": {
            "text/plain": [
              "[<matplotlib.lines.Line2D at 0x7fab977e4a50>]"
            ]
          },
          "metadata": {},
          "execution_count": 36
        },
        {
          "output_type": "display_data",
          "data": {
            "image/png": "[encoded data removed]",
            "text/plain": [
              "<Figure size 432x288 with 1 Axes>"
            ]
          },
          "metadata": {
            "needs_background": "light"
          }
        }
      ]
    },
    {
      "cell_type": "code",
      "metadata": {
        "id": "RZHWbNuyAU32"
      },
      "source": [
        "n_categorical = 2\n",
        "others =  counts.index[n_categorical:]\n",
        "df[col] = df[col].apply(lambda s : s if str(s) not in others else 'others')"
      ],
      "execution_count": null,
      "outputs": []
    },
    {
      "cell_type": "code",
      "metadata": {
        "colab": {
          "base_uri": "https://localhost:8080/",
          "height": 265
        },
        "id": "uqaxjeVXCQ-T",
        "outputId": "0819bf58-2b0e-4f04-8168-783d2a95b789"
      },
      "source": [
        "col = 'type'\n",
        "counts = df[col].fillna('others').value_counts()\n",
        "plt.plot(range(len(counts)),counts)\n",
        "n_categorical = 8\n",
        "others =  counts.index[n_categorical:]"
      ],
      "execution_count": null,
      "outputs": [
        {
          "output_type": "display_data",
          "data": {
            "image/png": "[encoded data removed]",
            "text/plain": [
              "<Figure size 432x288 with 1 Axes>"
            ]
          },
          "metadata": {
            "needs_background": "light"
          }
        }
      ]
    },
    {
      "cell_type": "code",
      "metadata": {
        "id": "uwKpIRucCSnr"
      },
      "source": [
        "df[col] = df[col].apply(lambda s : s if str(s) not in others else 'others')"
      ],
      "execution_count": null,
      "outputs": []
    },
    {
      "cell_type": "code",
      "metadata": {
        "colab": {
          "base_uri": "https://localhost:8080/"
        },
        "id": "4W6N3sy1CgHB",
        "outputId": "1c7d7685-da55-4219-d1ce-d03d5b16418f"
      },
      "source": [
        "\n",
        "df.loc[df[col]=='other',col] = 'others'\n",
        "df[col].value_counts() #other과 others를 합쳐준다"
      ],
      "execution_count": null,
      "outputs": [
        {
          "output_type": "execute_result",
          "data": {
            "text/plain": [
              "sedan        87056\n",
              "SUV          77284\n",
              "others       55091\n",
              "pickup       43510\n",
              "truck        35279\n",
              "coupe        19204\n",
              "hatchback    16598\n",
              "Name: type, dtype: int64"
            ]
          },
          "metadata": {},
          "execution_count": 42
        }
      ]
    },
    {
      "cell_type": "code",
      "metadata": {
        "colab": {
          "base_uri": "https://localhost:8080/",
          "height": 265
        },
        "id": "ojE_KTZ8DtPO",
        "outputId": "05765a87-edd2-49d1-aa12-c9838cecad01"
      },
      "source": [
        "col = 'paint_color'\n",
        "counts = df[col].fillna('others').value_counts()\n",
        "plt.plot(range(len(counts)),counts)\n",
        "n_categorical = 7\n",
        "others =  counts.index[n_categorical:]\n",
        "df[col] = df[col].apply(lambda s : s if str(s) not in others else 'others')"
      ],
      "execution_count": null,
      "outputs": [
        {
          "output_type": "display_data",
          "data": {
            "image/png": "[encoded data removed]",
            "text/plain": [
              "<Figure size 432x288 with 1 Axes>"
            ]
          },
          "metadata": {
            "needs_background": "light"
          }
        }
      ]
    },
    {
      "cell_type": "code",
      "metadata": {
        "id": "pkuBMm56xsxz"
      },
      "source": [
        "# 2. 결손 데이터를 others 범주로 변경하기"
      ],
      "execution_count": null,
      "outputs": []
    },
    {
      "cell_type": "code",
      "metadata": {
        "id": "f0E5c7N6xtI4"
      },
      "source": [
        "# 3. 지나치게 소수로 이루어진 범주를 others 범주로 변경하기"
      ],
      "execution_count": null,
      "outputs": []
    },
    {
      "cell_type": "code",
      "metadata": {
        "id": "NNpCnXIyxvld"
      },
      "source": [
        "#(4. Classifier를 학습해서 결손 데이터 추정하여 채워넣기)"
      ],
      "execution_count": null,
      "outputs": []
    },
    {
      "cell_type": "markdown",
      "metadata": {
        "id": "2Z62otW9lgtX"
      },
      "source": [
        "### 문제 9. 수치형 데이터 시각화하여 분석하기"
      ]
    },
    {
      "cell_type": "code",
      "metadata": {
        "id": "NW-QEym6lgtX",
        "colab": {
          "base_uri": "https://localhost:8080/",
          "height": 189
        },
        "outputId": "187f430a-dac9-4c27-941e-13af181d7550"
      },
      "source": [
        "# Seaborn을 이용하여 범주형 데이터를 시각화하여 분석하기\n",
        "# Hint) 값의 범위가 너무 넓을 경우 histplot() 등이 잘 동작하지 않으므로, rugplot을 활용\n",
        "fig = plt.figure(figsize=(8, 2))\n",
        "sns.rugplot(x='price', data=df, height=1)\n",
        "\n"
      ],
      "execution_count": null,
      "outputs": [
        {
          "output_type": "execute_result",
          "data": {
            "text/plain": [
              "<matplotlib.axes._subplots.AxesSubplot at 0x7fab9769d8d0>"
            ]
          },
          "metadata": {},
          "execution_count": 44
        },
        {
          "output_type": "display_data",
          "data": {
            "image/png": "[encoded data removed]",
            "text/plain": [
              "<Figure size 576x144 with 1 Axes>"
            ]
          },
          "metadata": {
            "needs_background": "light"
          }
        }
      ]
    },
    {
      "cell_type": "code",
      "metadata": {
        "colab": {
          "base_uri": "https://localhost:8080/",
          "height": 189
        },
        "id": "-zHTehQ4bE-4",
        "outputId": "59d7dc1a-8436-4217-ec77-b02f9396a721"
      },
      "source": [
        "fig = plt.figure(figsize=(8, 2))\n",
        "sns.rugplot(x='odometer', data=df, height=1)"
      ],
      "execution_count": null,
      "outputs": [
        {
          "output_type": "execute_result",
          "data": {
            "text/plain": [
              "<matplotlib.axes._subplots.AxesSubplot at 0x7fab976ddbd0>"
            ]
          },
          "metadata": {},
          "execution_count": 45
        },
        {
          "output_type": "display_data",
          "data": {
            "image/png": "[encoded data removed]",
            "text/plain": [
              "<Figure size 576x144 with 1 Axes>"
            ]
          },
          "metadata": {
            "needs_background": "light"
          }
        }
      ]
    },
    {
      "cell_type": "code",
      "metadata": {
        "colab": {
          "base_uri": "https://localhost:8080/",
          "height": 189
        },
        "id": "7_FZ0z7LbFyl",
        "outputId": "bc5cdb60-d896-4627-e6fd-82a026924292"
      },
      "source": [
        "fig = plt.figure(figsize=(8, 2))\n",
        "sns.histplot(x='age', data=df, bins = 18,kde = True)"
      ],
      "execution_count": null,
      "outputs": [
        {
          "output_type": "execute_result",
          "data": {
            "text/plain": [
              "<matplotlib.axes._subplots.AxesSubplot at 0x7fab64ae8690>"
            ]
          },
          "metadata": {},
          "execution_count": 49
        },
        {
          "output_type": "display_data",
          "data": {
            "image/png": "[encoded data removed]",
            "text/plain": [
              "<Figure size 576x144 with 1 Axes>"
            ]
          },
          "metadata": {
            "needs_background": "light"
          }
        }
      ]
    },
    {
      "cell_type": "markdown",
      "metadata": {
        "id": "xsd_T_h_lgtY"
      },
      "source": [
        "### 문제 10. 수치형 데이터 클리닝하기"
      ]
    },
    {
      "cell_type": "code",
      "metadata": {
        "id": "PRYiAxnKlgtY",
        "colab": {
          "base_uri": "https://localhost:8080/"
        },
        "outputId": "476b7dcc-f727-4e87-95c3-33339de34465"
      },
      "source": [
        "# quantile() 메소드를 이용하여 outlier 제거하고 시각화하여 확인하기\n",
        "\n",
        "p1 = df['price'].quantile(0.99) #상위  1퍼센트 수치값 66995\n",
        " \n",
        "p2 = df['price'].quantile(0.1) #하위 10퍼센트 500\n",
        "p1,p2"
      ],
      "execution_count": null,
      "outputs": [
        {
          "output_type": "execute_result",
          "data": {
            "text/plain": [
              "(66995.0, 500.0)"
            ]
          },
          "metadata": {},
          "execution_count": 57
        }
      ]
    },
    {
      "cell_type": "code",
      "metadata": {
        "id": "Vsa_CvJldYV3"
      },
      "source": [
        "df = df[(p1 >df['price']) &(p2 <df['price'])]"
      ],
      "execution_count": null,
      "outputs": []
    },
    {
      "cell_type": "code",
      "metadata": {
        "colab": {
          "base_uri": "https://localhost:8080/"
        },
        "id": "ciCffkOzc_Rp",
        "outputId": "13e359c5-8b40-4d44-e40b-db3e93efe488"
      },
      "source": [
        "o1 = df['odometer'].quantile(0.99) #상위  1퍼센트 수치값 280000\n",
        " \n",
        "o2 = df['odometer'].quantile(0.1) #하위 10퍼센트 14939\n",
        "\n",
        "o1,o2"
      ],
      "execution_count": null,
      "outputs": [
        {
          "output_type": "execute_result",
          "data": {
            "text/plain": [
              "(280000.0, 14939.0)"
            ]
          },
          "metadata": {},
          "execution_count": 58
        }
      ]
    },
    {
      "cell_type": "code",
      "metadata": {
        "id": "2wuP5vrYdjzq"
      },
      "source": [
        "df = df[(o1 >df['odometer']) &(o2 <df['odometer'])]"
      ],
      "execution_count": null,
      "outputs": []
    },
    {
      "cell_type": "code",
      "metadata": {
        "colab": {
          "base_uri": "https://localhost:8080/",
          "height": 300
        },
        "id": "JkRDGEnOdrCd",
        "outputId": "26e98b8c-0187-4361-e0a8-0f19ff081971"
      },
      "source": [
        "df.describe()"
      ],
      "execution_count": null,
      "outputs": [
        {
          "output_type": "execute_result",
          "data": {
            "text/html": [
              "<div>\n",
              "<style scoped>\n",
              "    .dataframe tbody tr th:only-of-type {\n",
              "        vertical-align: middle;\n",
              "    }\n",
              "\n",
              "    .dataframe tbody tr th {\n",
              "        vertical-align: top;\n",
              "    }\n",
              "\n",
              "    .dataframe thead th {\n",
              "        text-align: right;\n",
              "    }\n",
              "</style>\n",
              "<table border=\"1\" class=\"dataframe\">\n",
              "  <thead>\n",
              "    <tr style=\"text-align: right;\">\n",
              "      <th></th>\n",
              "      <th>id</th>\n",
              "      <th>price</th>\n",
              "      <th>odometer</th>\n",
              "      <th>county</th>\n",
              "      <th>lat</th>\n",
              "      <th>long</th>\n",
              "      <th>age</th>\n",
              "    </tr>\n",
              "  </thead>\n",
              "  <tbody>\n",
              "    <tr>\n",
              "      <th>count</th>\n",
              "      <td>3.380730e+05</td>\n",
              "      <td>338073.000000</td>\n",
              "      <td>338073.000000</td>\n",
              "      <td>0.0</td>\n",
              "      <td>334931.000000</td>\n",
              "      <td>334931.000000</td>\n",
              "      <td>337457.000000</td>\n",
              "    </tr>\n",
              "    <tr>\n",
              "      <th>mean</th>\n",
              "      <td>7.311505e+09</td>\n",
              "      <td>17618.115265</td>\n",
              "      <td>100771.015355</td>\n",
              "      <td>NaN</td>\n",
              "      <td>38.584679</td>\n",
              "      <td>-94.208897</td>\n",
              "      <td>10.204921</td>\n",
              "    </tr>\n",
              "    <tr>\n",
              "      <th>std</th>\n",
              "      <td>4.371019e+06</td>\n",
              "      <td>12678.374523</td>\n",
              "      <td>57120.746792</td>\n",
              "      <td>NaN</td>\n",
              "      <td>5.808196</td>\n",
              "      <td>18.062098</td>\n",
              "      <td>8.489158</td>\n",
              "    </tr>\n",
              "    <tr>\n",
              "      <th>min</th>\n",
              "      <td>7.301583e+09</td>\n",
              "      <td>501.000000</td>\n",
              "      <td>14940.000000</td>\n",
              "      <td>NaN</td>\n",
              "      <td>-81.838232</td>\n",
              "      <td>-159.719900</td>\n",
              "      <td>-1.000000</td>\n",
              "    </tr>\n",
              "    <tr>\n",
              "      <th>25%</th>\n",
              "      <td>7.308148e+09</td>\n",
              "      <td>7495.000000</td>\n",
              "      <td>51933.000000</td>\n",
              "      <td>NaN</td>\n",
              "      <td>34.903460</td>\n",
              "      <td>-110.882900</td>\n",
              "      <td>5.000000</td>\n",
              "    </tr>\n",
              "    <tr>\n",
              "      <th>50%</th>\n",
              "      <td>7.312643e+09</td>\n",
              "      <td>14599.000000</td>\n",
              "      <td>96281.000000</td>\n",
              "      <td>NaN</td>\n",
              "      <td>39.337094</td>\n",
              "      <td>-88.018940</td>\n",
              "      <td>8.000000</td>\n",
              "    </tr>\n",
              "    <tr>\n",
              "      <th>75%</th>\n",
              "      <td>7.315247e+09</td>\n",
              "      <td>25590.000000</td>\n",
              "      <td>140000.000000</td>\n",
              "      <td>NaN</td>\n",
              "      <td>42.408600</td>\n",
              "      <td>-80.705457</td>\n",
              "      <td>13.000000</td>\n",
              "    </tr>\n",
              "    <tr>\n",
              "      <th>max</th>\n",
              "      <td>7.317101e+09</td>\n",
              "      <td>66992.000000</td>\n",
              "      <td>279974.000000</td>\n",
              "      <td>NaN</td>\n",
              "      <td>82.390818</td>\n",
              "      <td>167.629911</td>\n",
              "      <td>121.000000</td>\n",
              "    </tr>\n",
              "  </tbody>\n",
              "</table>\n",
              "</div>"
            ],
            "text/plain": [
              "                 id          price  ...           long            age\n",
              "count  3.380730e+05  338073.000000  ...  334931.000000  337457.000000\n",
              "mean   7.311505e+09   17618.115265  ...     -94.208897      10.204921\n",
              "std    4.371019e+06   12678.374523  ...      18.062098       8.489158\n",
              "min    7.301583e+09     501.000000  ...    -159.719900      -1.000000\n",
              "25%    7.308148e+09    7495.000000  ...    -110.882900       5.000000\n",
              "50%    7.312643e+09   14599.000000  ...     -88.018940       8.000000\n",
              "75%    7.315247e+09   25590.000000  ...     -80.705457      13.000000\n",
              "max    7.317101e+09   66992.000000  ...     167.629911     121.000000\n",
              "\n",
              "[8 rows x 7 columns]"
            ]
          },
          "metadata": {},
          "execution_count": 61
        }
      ]
    },
    {
      "cell_type": "code",
      "metadata": {
        "colab": {
          "base_uri": "https://localhost:8080/",
          "height": 355
        },
        "id": "lI53oKz7eESx",
        "outputId": "1d9a2083-ae3d-4466-f37f-95a2c4e2e1b6"
      },
      "source": [
        "plt.figure(figsize = (10,5))\n",
        "sns.boxplot(x='manufacturer', y = 'price', data=df) #더 잘보임\n",
        "# 값의 범위가 비슷함 (아웃라이어 포함) -> 얼마나 유용할지는 두고봐야할듯\n",
        "# 그래도 상/하위 25프로(박스자체)만 볼때는 유용해 보이기도 함 통계적으로는"
      ],
      "execution_count": null,
      "outputs": [
        {
          "output_type": "execute_result",
          "data": {
            "text/plain": [
              "<matplotlib.axes._subplots.AxesSubplot at 0x7fab64217ad0>"
            ]
          },
          "metadata": {},
          "execution_count": 66
        },
        {
          "output_type": "display_data",
          "data": {
            "image/png": "[encoded data removed]",
            "text/plain": [
              "<Figure size 720x360 with 1 Axes>"
            ]
          },
          "metadata": {
            "needs_background": "light"
          }
        }
      ]
    },
    {
      "cell_type": "code",
      "metadata": {
        "colab": {
          "base_uri": "https://localhost:8080/",
          "height": 355
        },
        "id": "CsGJ2omZeOSp",
        "outputId": "97c56678-8ab1-4a95-b8f8-4bb9846bc278"
      },
      "source": [
        "plt.figure(figsize = (10,5))\n",
        "sns.boxplot(x='model', y = 'price', data=df) #제조사보다 좀더 다이내믹함\n",
        "#비싼보델일수록 확실히 높은 구간에 있음"
      ],
      "execution_count": null,
      "outputs": [
        {
          "output_type": "execute_result",
          "data": {
            "text/plain": [
              "<matplotlib.axes._subplots.AxesSubplot at 0x7fab642f4ed0>"
            ]
          },
          "metadata": {},
          "execution_count": 67
        },
        {
          "output_type": "display_data",
          "data": {
            "image/png": "[encoded data removed]",
            "text/plain": [
              "<Figure size 720x360 with 1 Axes>"
            ]
          },
          "metadata": {
            "needs_background": "light"
          }
        }
      ]
    },
    {
      "cell_type": "markdown",
      "metadata": {
        "id": "sWIF67-8lr4C"
      },
      "source": [
        "### 문제 11. 컬럼간의 Correlation Heatmap으로 시각화하기"
      ]
    },
    {
      "cell_type": "code",
      "metadata": {
        "id": "wVmEa1ChlrTc",
        "colab": {
          "base_uri": "https://localhost:8080/",
          "height": 287
        },
        "outputId": "a231fabf-151a-430f-ce00-62ee9d365e69"
      },
      "source": [
        "\n",
        "sns.heatmap(df.corr(), annot = True, cmap= 'YlOrRd') \n",
        "#odometer 와 차의 나이가 값에 악영향을 줌을 알 수 있다 \n",
        "#odometer 와 age가 상관관계가 있어보임 -> 둘의 콜라보는 좋지 않을지 몰라도 좋은 feature로서의 역할은 하긴할듯\n",
        "\n",
        "\n",
        "\n"
      ],
      "execution_count": 94,
      "outputs": [
        {
          "output_type": "execute_result",
          "data": {
            "text/plain": [
              "<matplotlib.axes._subplots.AxesSubplot at 0x7fab4e37b9d0>"
            ]
          },
          "metadata": {},
          "execution_count": 94
        },
        {
          "output_type": "display_data",
          "data": {
            "image/png": "[encoded data removed]",
            "text/plain": [
              "<Figure size 432x288 with 2 Axes>"
            ]
          },
          "metadata": {
            "needs_background": "light"
          }
        }
      ]
    },
    {
      "cell_type": "markdown",
      "metadata": {
        "id": "FRfd7ABjepBS"
      },
      "source": [
        "## Step 4. 모델 학습을 위한 데이터 전처리 "
      ]
    },
    {
      "cell_type": "markdown",
      "metadata": {
        "id": "Dev2yLeMta85"
      },
      "source": [
        "### 문제 12. StandardScaler를 이용해 수치형 데이터 표준화하기\n"
      ]
    },
    {
      "cell_type": "code",
      "metadata": {
        "id": "_k_SDCh5xMgD"
      },
      "source": [
        "from sklearn.preprocessing import StandardScaler"
      ],
      "execution_count": 99,
      "outputs": []
    },
    {
      "cell_type": "code",
      "metadata": {
        "id": "W3EO22NCE3wG"
      },
      "source": [
        "# StandardScaler를 이용해 수치형 데이터를 표준화하기\n",
        "X_num = df[['odometer','age']]\n",
        "scalar = StandardScaler()\n",
        "scalar.fit(X_num)\n",
        "X_scaled = scalar.transform(X_num)\n",
        "X_scaled = pd.DataFrame(X_scaled, index = X_num.index, columns=X_num.columns)\n",
        "\n",
        "\n",
        "# get_dummies를 이용해 범주형 데이터를 one-hot 벡터로 변경하기\n",
        "X_cat = df.drop(['price','odometer','age'],axis = 1)\n",
        "X_cat = pd.get_dummies(X_cat) #linear regression은 안하므로 drop first는 안한다\n",
        "\n",
        "# 입출력 데이터 통합하기\n",
        "X = pd.concat([X_scaled, X_cat],axis =1 )\n",
        "y = df['price']"
      ],
      "execution_count": 102,
      "outputs": []
    },
    {
      "cell_type": "code",
      "metadata": {
        "colab": {
          "base_uri": "https://localhost:8080/"
        },
        "id": "-fMw3Ri9kIH2",
        "outputId": "a3d419fd-a1ec-4418-a9e6-126904f18299"
      },
      "source": [
        "X.head()\n"
      ],
      "execution_count": 105,
      "outputs": [
        {
          "output_type": "execute_result",
          "data": {
            "text/plain": [
              "(338073, 60)"
            ]
          },
          "metadata": {},
          "execution_count": 105
        }
      ]
    },
    {
      "cell_type": "code",
      "metadata": {
        "id": "MjVT0qL_kSiK"
      },
      "source": [
        "X.shape"
      ],
      "execution_count": null,
      "outputs": []
    },
    {
      "cell_type": "code",
      "metadata": {
        "id": "IkqsX-exkUj4"
      },
      "source": [
        "X.isna().sum()\n",
        "#age가 결측값이 있음\n",
        "X.fillna(0.0,inplace=True) #age가 이미 표준화된 값이라 굳이 평균값을 안집어넣어도됨"
      ],
      "execution_count": 107,
      "outputs": []
    },
    {
      "cell_type": "markdown",
      "metadata": {
        "id": "x93Tb6lptcA2"
      },
      "source": [
        "### 문제 13. 학습데이터와 테스트데이터 분리하기\n"
      ]
    },
    {
      "cell_type": "code",
      "metadata": {
        "id": "C9kMQI8SEche"
      },
      "source": [
        "from sklearn.model_selection import train_test_split"
      ],
      "execution_count": 109,
      "outputs": []
    },
    {
      "cell_type": "code",
      "metadata": {
        "id": "F07QjOFwFNEw"
      },
      "source": [
        "# train_test_split() 함수로 학습 데이터와 테스트 데이터 분리하기\n",
        "X_train, X_test, y_train, y_test = train_test_split(X,y,test_size=0.3,random_state = 1)"
      ],
      "execution_count": 110,
      "outputs": []
    },
    {
      "cell_type": "markdown",
      "metadata": {
        "id": "RrWrE8Z4exup"
      },
      "source": [
        "## Step 5. Regression 모델 학습하기"
      ]
    },
    {
      "cell_type": "markdown",
      "metadata": {
        "id": "NypEtNhdfCow"
      },
      "source": [
        "### 문제 14. XGBoost Regression 모델 학습하기"
      ]
    },
    {
      "cell_type": "code",
      "metadata": {
        "id": "ow28ZRL4F7D5"
      },
      "source": [
        "from xgboost import XGBRegressor"
      ],
      "execution_count": 112,
      "outputs": []
    },
    {
      "cell_type": "code",
      "metadata": {
        "id": "LSSNqFUrGM6R",
        "colab": {
          "base_uri": "https://localhost:8080/"
        },
        "outputId": "93a4e434-bc4b-41fd-9367-1b888fe73c1d"
      },
      "source": [
        "# XGBRegressor 모델 생성/학습\n",
        "model_reg = XGBRegressor()\n",
        "model_reg.fit(X_train, y_train)\n",
        "\n",
        "\n"
      ],
      "execution_count": 114,
      "outputs": [
        {
          "output_type": "stream",
          "name": "stdout",
          "text": [
            "[11:55:01] WARNING: /workspace/src/objective/regression_obj.cu:152: reg:linear is now deprecated in favor of reg:squarederror.\n"
          ]
        },
        {
          "output_type": "execute_result",
          "data": {
            "text/plain": [
              "XGBRegressor(base_score=0.5, booster='gbtree', colsample_bylevel=1,\n",
              "             colsample_bynode=1, colsample_bytree=1, gamma=0,\n",
              "             importance_type='gain', learning_rate=0.1, max_delta_step=0,\n",
              "             max_depth=3, min_child_weight=1, missing=None, n_estimators=100,\n",
              "             n_jobs=1, nthread=None, objective='reg:linear', random_state=0,\n",
              "             reg_alpha=0, reg_lambda=1, scale_pos_weight=1, seed=None,\n",
              "             silent=None, subsample=1, verbosity=1)"
            ]
          },
          "metadata": {},
          "execution_count": 114
        }
      ]
    },
    {
      "cell_type": "markdown",
      "metadata": {
        "id": "gUo8NmHkfIpf"
      },
      "source": [
        "### 문제 15. 모델 학습 결과 평가하기"
      ]
    },
    {
      "cell_type": "code",
      "metadata": {
        "id": "rxvf1vgmfLs-"
      },
      "source": [
        "from sklearn.metrics import mean_absolute_error, mean_squared_error\n",
        "from math import sqrt"
      ],
      "execution_count": 115,
      "outputs": []
    },
    {
      "cell_type": "code",
      "metadata": {
        "id": "KDVy7fFGfUP1",
        "colab": {
          "base_uri": "https://localhost:8080/"
        },
        "outputId": "df824253-3478-46bd-ca18-6f8810a2d4ae"
      },
      "source": [
        "# Predict를 수행하고 mean_absolute_error, rmse 결과 출력하기\n",
        "pred = model_reg.predict(X_test)\n",
        "print(mean_absolute_error(y_test,pred)) \n",
        "print(sqrt(mean_squared_error(y_test,pred))) #에러값 제곱하고 평균을 낸후 루트를 씌움 (rmse)\n",
        "#에러값들이 상당히 크다\n",
        "\n",
        "\n"
      ],
      "execution_count": 116,
      "outputs": [
        {
          "output_type": "stream",
          "name": "stdout",
          "text": [
            "4534.66922119133\n",
            "6705.960062660244\n"
          ]
        }
      ]
    },
    {
      "cell_type": "markdown",
      "metadata": {
        "id": "DTqb-HqPtc4I"
      },
      "source": [
        "## Step 6. 모델 학습 결과 심화 분석하기\n"
      ]
    },
    {
      "cell_type": "markdown",
      "metadata": {
        "id": "xTRTOLTNto3h"
      },
      "source": [
        "### 문제 16. 실제 값과 추측 값의 Scatter plot 시각화하기\n"
      ]
    },
    {
      "cell_type": "code",
      "metadata": {
        "id": "kKEP06-OmrBs",
        "colab": {
          "base_uri": "https://localhost:8080/",
          "height": 283
        },
        "outputId": "89e7ebea-9449-4dbe-f2fb-0d5349d65885"
      },
      "source": [
        "# y_test vs. pred Scatter 플랏으로 시각적으로 분석하기\n",
        "# Hint) Scatter로 시각적 확인이 어려울 경우, histplot 등 활용\n",
        "\n",
        "plt.scatter(x=y_test,y=pred,alpha = 0.005) #alpha를 조절해서 겹치는게 적은 부분을 옅게표현\n",
        "plt.plot([0,60000],[0,60000],'r-')\n",
        "\n",
        "#값이 낮은 차들은 y = x축에 잘 형성된걸보니 잘 분석이 되었다\n",
        "#근데 실제로 아주 값이 작은 차는 학습모델에선 매우 비싸게 예측됨\n",
        "#그리고 차가 비쌀때 (4만불이상)은 실제보다 가격이 낮다고 측정됨\n",
        "\n"
      ],
      "execution_count": 120,
      "outputs": [
        {
          "output_type": "execute_result",
          "data": {
            "text/plain": [
              "[<matplotlib.lines.Line2D at 0x7fab41ef4c90>]"
            ]
          },
          "metadata": {},
          "execution_count": 120
        },
        {
          "output_type": "display_data",
          "data": {
            "image/png": "[encoded data removed]",
            "text/plain": [
              "<Figure size 432x288 with 1 Axes>"
            ]
          },
          "metadata": {
            "needs_background": "light"
          }
        }
      ]
    },
    {
      "cell_type": "code",
      "metadata": {
        "colab": {
          "base_uri": "https://localhost:8080/",
          "height": 297
        },
        "id": "2PNbXXyDpz6D",
        "outputId": "3eafaadc-9d49-4160-e005-a83d3d606ba7"
      },
      "source": [
        "sns.histplot(x=y_test,y=pred)\n",
        "plt.plot([0,60000],[0,60000],'r-')"
      ],
      "execution_count": 129,
      "outputs": [
        {
          "output_type": "execute_result",
          "data": {
            "text/plain": [
              "[<matplotlib.lines.Line2D at 0x7fab408c2150>]"
            ]
          },
          "metadata": {},
          "execution_count": 129
        },
        {
          "output_type": "display_data",
          "data": {
            "image/png": "[encoded data removed]",
            "text/plain": [
              "<Figure size 432x288 with 1 Axes>"
            ]
          },
          "metadata": {
            "needs_background": "light"
          }
        }
      ]
    },
    {
      "cell_type": "markdown",
      "metadata": {
        "id": "kAisZoSEtp35"
      },
      "source": [
        "### 문제 17. 에러 값의 히스토그램 확인하기\n"
      ]
    },
    {
      "cell_type": "code",
      "metadata": {
        "id": "WLnyYNJwGRgd",
        "colab": {
          "base_uri": "https://localhost:8080/",
          "height": 282
        },
        "outputId": "d8c6eada-5ed8-46bf-ae75-94fae9988311"
      },
      "source": [
        "# err의 히스토그램으로 에러율 히스토그램 확인하기\n",
        "err = (pred - y_test) / y_test *100\n",
        "sns.histplot(err[err<600]) #에러율이 6보다 작은애들\n",
        "plt.xlabel('error(%)')\n",
        "plt.xlim(-100,100)\n",
        "plt.grid()\n",
        "\n",
        "#값이 0보다 약간 왼쪽으로 치우져져있다 -> underestimated 되어있다\n",
        "#예상 보다 낮게 측정될때는 -100%까지 가진 않는다\n",
        "#예상 보다 높게 측정될때는 +100%를 웃도는 경우도 있다 -> 에러율이 아주높은 애들이 있다\n",
        "\n",
        "plt.show()\n",
        "\n",
        "#에러율 0근처에 값이 몰려있을수록 잘학습된 모델이다\n",
        "#안좋을수록 좌우로 퍼짐"
      ],
      "execution_count": 127,
      "outputs": [
        {
          "output_type": "display_data",
          "data": {
            "image/png": "[encoded data removed]",
            "text/plain": [
              "<Figure size 432x288 with 1 Axes>"
            ]
          },
          "metadata": {
            "needs_background": "light"
          }
        }
      ]
    },
    {
      "cell_type": "code",
      "metadata": {
        "id": "neCHPne_LFyg",
        "colab": {
          "base_uri": "https://localhost:8080/",
          "height": 279
        },
        "outputId": "d74e8570-eb87-4d13-9226-1204c2e9d7b9"
      },
      "source": [
        "err = (pred - y_test)\n",
        "sns.histplot(err) #에러율이 6보다 작은애들\n",
        "plt.xlabel('error($)')\n",
        "\n",
        "plt.grid()\n",
        "\n",
        "#에러값 자체로만 봤을 땐 0기준으로 정돈되어 나타나 있다"
      ],
      "execution_count": 130,
      "outputs": [
        {
          "output_type": "display_data",
          "data": {
            "image/png": "[encoded data removed]",
            "text/plain": [
              "<Figure size 432x288 with 1 Axes>"
            ]
          },
          "metadata": {
            "needs_background": "light"
          }
        }
      ]
    },
    {
      "cell_type": "code",
      "metadata": {
        "id": "ZS65-iWaqTAU"
      },
      "source": [
        "#성능개선 아이디어\n",
        "# 범주형 데이터 클리닝시 \n",
        "# model의 경우 이름이 다양하니까 대문자,소문자 둘중하나로 다 맞춘후 other로 빠지는 값을 최대한 줄여본다\n",
        "# 또는 model명을 표준화해서 조금씩 다르게 표현된 모델명을 하나로 맞춰주는 작업을 해줘도 좋을듯\n",
        "# 가격을 표준화를 많이 시켜서 저가,고가로 나누는게 아니라 좀더 잘 나눴으면 좋앗을지도"
      ],
      "execution_count": null,
      "outputs": []
    }
  ]
}