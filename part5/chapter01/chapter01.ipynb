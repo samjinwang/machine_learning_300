{
  "nbformat": 4,
  "nbformat_minor": 0,
  "metadata": {
    "kernelspec": {
      "display_name": "Python 3",
      "language": "python",
      "name": "python3"
    },
    "language_info": {
      "codemirror_mode": {
        "name": "ipython",
        "version": 3
      },
      "file_extension": ".py",
      "mimetype": "text/x-python",
      "name": "python",
      "nbconvert_exporter": "python",
      "pygments_lexer": "ipython3",
      "version": "3.7.7"
    },
    "colab": {
      "name": "[실습]Chapter 01_Rating Matrix를 활용한 영화 추천 모델.ipynb",
      "provenance": [],
      "collapsed_sections": []
    }
  },
  "cells": [
    {
      "cell_type": "markdown",
      "metadata": {
        "id": "NqqLNJZjfi8U"
      },
      "source": [
        "# 주제 : 추천 시스템 - 영화 데이터셋과 Rating Matrix를 활용하여 추천 모델 학습하기\n",
        "----------\n",
        "\n",
        "## 실습 가이드\n",
        "    1. 데이터를 다운로드하여 Colab에 불러옵니다.\n",
        "    2. 필요한 라이브러리는 모두 코드로 작성되어 있습니다.\n",
        "    3. 코드는 위에서부터 아래로 순서대로 실행합니다.\n",
        "    4. 전체 문제 구성은 좌측 첫 번째 아이콘을 통해 확인할 수 있습니다.\n",
        "    \n",
        "    \n",
        "## 데이터 소개\n",
        "    - 이번 주제는 MovieLens Dataset을 사용합니다.\n",
        "    - 파일은 두 개 이며, 각각의 컬럼은 아래와 같습니다.\n",
        "    \n",
        "    1. ratings.dat\n",
        "    user_id : 영화를 시청한 사용자 아이디\n",
        "    movie_id : 영화의 아이디\n",
        "    rating : 사용자가 영화를 평가한 점수\n",
        "    time : 사용자가 영화를 시청한 시간\n",
        "    \n",
        "    2. movies.dat\n",
        "    movie_id : 영화의 아이디\n",
        "    title : 영화 제목\n",
        "    genre : 영화 장르\n",
        "\n",
        "    \n",
        "- 데이터 출처: https://grouplens.org/datasets/movielens/\n",
        "\n",
        "\n",
        "## 최종 목표\n",
        "    - CF(Collaborative Filtering) 기반 추천 모델의 이해\n",
        "    - Matrix Factorization 기반 추천 모델의 이해\n",
        "    - KNN, SVD 알고리즘에 대한 이해\n",
        "    - 훈련된 모델의 결과를 해석하는 방법 습득\n",
        "    - 모델의 추천 결과를 평가하는 방법 습득\n",
        "\n",
        "- 출제자 : 윤기태 강사\n",
        "---"
      ]
    },
    {
      "cell_type": "markdown",
      "metadata": {
        "id": "z3ImE3b9W1bu"
      },
      "source": [
        "## Step 1. 데이터 전처리 과정"
      ]
    },
    {
      "cell_type": "markdown",
      "metadata": {
        "id": "OxCZryRrfi8Y"
      },
      "source": [
        "### 문제 1. 데이터 불러오기"
      ]
    },
    {
      "cell_type": "code",
      "metadata": {
        "id": "anUepBeJfi8V",
        "colab": {
          "base_uri": "https://localhost:8080/",
          "height": 203
        },
        "outputId": "613e287d-726a-45cd-e777-c68f3d229b33"
      },
      "source": [
        "import pandas as pd\n",
        "\n",
        "rating_url = 'https://raw.githubusercontent.com/yoonkt200/python-data-analysis/master/data/ml-1m/ratings.dat'\n",
        "rating_df = pd.io.parsers.read_csv(rating_url, names=['user_id', 'movie_id', 'rating', 'time'], delimiter='::', engine ='python')\n",
        "rating_df.head()"
      ],
      "execution_count": 3,
      "outputs": [
        {
          "output_type": "execute_result",
          "data": {
            "text/html": [
              "<div>\n",
              "<style scoped>\n",
              "    .dataframe tbody tr th:only-of-type {\n",
              "        vertical-align: middle;\n",
              "    }\n",
              "\n",
              "    .dataframe tbody tr th {\n",
              "        vertical-align: top;\n",
              "    }\n",
              "\n",
              "    .dataframe thead th {\n",
              "        text-align: right;\n",
              "    }\n",
              "</style>\n",
              "<table border=\"1\" class=\"dataframe\">\n",
              "  <thead>\n",
              "    <tr style=\"text-align: right;\">\n",
              "      <th></th>\n",
              "      <th>user_id</th>\n",
              "      <th>movie_id</th>\n",
              "      <th>rating</th>\n",
              "      <th>time</th>\n",
              "    </tr>\n",
              "  </thead>\n",
              "  <tbody>\n",
              "    <tr>\n",
              "      <th>0</th>\n",
              "      <td>1</td>\n",
              "      <td>1193</td>\n",
              "      <td>5</td>\n",
              "      <td>978300760</td>\n",
              "    </tr>\n",
              "    <tr>\n",
              "      <th>1</th>\n",
              "      <td>1</td>\n",
              "      <td>661</td>\n",
              "      <td>3</td>\n",
              "      <td>978302109</td>\n",
              "    </tr>\n",
              "    <tr>\n",
              "      <th>2</th>\n",
              "      <td>1</td>\n",
              "      <td>914</td>\n",
              "      <td>3</td>\n",
              "      <td>978301968</td>\n",
              "    </tr>\n",
              "    <tr>\n",
              "      <th>3</th>\n",
              "      <td>1</td>\n",
              "      <td>3408</td>\n",
              "      <td>4</td>\n",
              "      <td>978300275</td>\n",
              "    </tr>\n",
              "    <tr>\n",
              "      <th>4</th>\n",
              "      <td>1</td>\n",
              "      <td>2355</td>\n",
              "      <td>5</td>\n",
              "      <td>978824291</td>\n",
              "    </tr>\n",
              "  </tbody>\n",
              "</table>\n",
              "</div>"
            ],
            "text/plain": [
              "   user_id  movie_id  rating       time\n",
              "0        1      1193       5  978300760\n",
              "1        1       661       3  978302109\n",
              "2        1       914       3  978301968\n",
              "3        1      3408       4  978300275\n",
              "4        1      2355       5  978824291"
            ]
          },
          "metadata": {},
          "execution_count": 3
        }
      ]
    },
    {
      "cell_type": "code",
      "metadata": {
        "colab": {
          "base_uri": "https://localhost:8080/",
          "height": 203
        },
        "id": "JypFr1jFErsf",
        "outputId": "aaa19b71-2740-45e3-c55c-cad3349b48cf"
      },
      "source": [
        "movie_url = 'https://raw.githubusercontent.com/yoonkt200/python-data-analysis/master/data/ml-1m/movies.dat'\n",
        "movie_df = pd.io.parsers.read_csv(movie_url, names=['movie_id', 'title', 'genre'], delimiter='::', engine ='python', encoding='ISO-8859-1')\n",
        "movie_df.head()"
      ],
      "execution_count": 7,
      "outputs": [
        {
          "output_type": "execute_result",
          "data": {
            "text/html": [
              "<div>\n",
              "<style scoped>\n",
              "    .dataframe tbody tr th:only-of-type {\n",
              "        vertical-align: middle;\n",
              "    }\n",
              "\n",
              "    .dataframe tbody tr th {\n",
              "        vertical-align: top;\n",
              "    }\n",
              "\n",
              "    .dataframe thead th {\n",
              "        text-align: right;\n",
              "    }\n",
              "</style>\n",
              "<table border=\"1\" class=\"dataframe\">\n",
              "  <thead>\n",
              "    <tr style=\"text-align: right;\">\n",
              "      <th></th>\n",
              "      <th>movie_id</th>\n",
              "      <th>title</th>\n",
              "      <th>genre</th>\n",
              "    </tr>\n",
              "  </thead>\n",
              "  <tbody>\n",
              "    <tr>\n",
              "      <th>0</th>\n",
              "      <td>1</td>\n",
              "      <td>Toy Story (1995)</td>\n",
              "      <td>Animation|Children's|Comedy</td>\n",
              "    </tr>\n",
              "    <tr>\n",
              "      <th>1</th>\n",
              "      <td>2</td>\n",
              "      <td>Jumanji (1995)</td>\n",
              "      <td>Adventure|Children's|Fantasy</td>\n",
              "    </tr>\n",
              "    <tr>\n",
              "      <th>2</th>\n",
              "      <td>3</td>\n",
              "      <td>Grumpier Old Men (1995)</td>\n",
              "      <td>Comedy|Romance</td>\n",
              "    </tr>\n",
              "    <tr>\n",
              "      <th>3</th>\n",
              "      <td>4</td>\n",
              "      <td>Waiting to Exhale (1995)</td>\n",
              "      <td>Comedy|Drama</td>\n",
              "    </tr>\n",
              "    <tr>\n",
              "      <th>4</th>\n",
              "      <td>5</td>\n",
              "      <td>Father of the Bride Part II (1995)</td>\n",
              "      <td>Comedy</td>\n",
              "    </tr>\n",
              "  </tbody>\n",
              "</table>\n",
              "</div>"
            ],
            "text/plain": [
              "   movie_id                               title                         genre\n",
              "0         1                    Toy Story (1995)   Animation|Children's|Comedy\n",
              "1         2                      Jumanji (1995)  Adventure|Children's|Fantasy\n",
              "2         3             Grumpier Old Men (1995)                Comedy|Romance\n",
              "3         4            Waiting to Exhale (1995)                  Comedy|Drama\n",
              "4         5  Father of the Bride Part II (1995)                        Comedy"
            ]
          },
          "metadata": {},
          "execution_count": 7
        }
      ]
    },
    {
      "cell_type": "markdown",
      "metadata": {
        "id": "O6EUoRG3fi8Z"
      },
      "source": [
        "### 문제 2. EDA - 사용자 수와 영화의 수 탐색"
      ]
    },
    {
      "cell_type": "code",
      "metadata": {
        "id": "MexH85N3fi8a",
        "colab": {
          "base_uri": "https://localhost:8080/"
        },
        "outputId": "f7e3b748-e8a4-4652-ac63-e3c556e88cde"
      },
      "source": [
        "# unique() 함수로 사용자 수와 영화 수 탐색\n",
        "len(rating_df['user_id'].unique())"
      ],
      "execution_count": 5,
      "outputs": [
        {
          "output_type": "execute_result",
          "data": {
            "text/plain": [
              "6040"
            ]
          },
          "metadata": {},
          "execution_count": 5
        }
      ]
    },
    {
      "cell_type": "code",
      "metadata": {
        "id": "XvHzcyACGTe1",
        "colab": {
          "base_uri": "https://localhost:8080/"
        },
        "outputId": "a6dd7e49-d6fa-400d-92d0-dd6a53330ada"
      },
      "source": [
        "len(movie_df['movie_id'].unique())"
      ],
      "execution_count": 9,
      "outputs": [
        {
          "output_type": "execute_result",
          "data": {
            "text/plain": [
              "3883"
            ]
          },
          "metadata": {},
          "execution_count": 9
        }
      ]
    },
    {
      "cell_type": "markdown",
      "metadata": {
        "id": "VMdnS_mJfi8i"
      },
      "source": [
        "### 문제 3. EDA - 영화 평가 점수의 분포 탐색"
      ]
    },
    {
      "cell_type": "code",
      "metadata": {
        "id": "_IWsz3v1fi8g",
        "colab": {
          "base_uri": "https://localhost:8080/",
          "height": 282
        },
        "outputId": "00c565b7-9084-47da-dcff-056903e3a495"
      },
      "source": [
        "# hist() 함수로 히스토그램 그래프 생성'\n",
        "import matplotlib.pyplot as plt\n",
        "rating_df['rating'].hist()"
      ],
      "execution_count": 10,
      "outputs": [
        {
          "output_type": "execute_result",
          "data": {
            "text/plain": [
              "<matplotlib.axes._subplots.AxesSubplot at 0x7fe7fce79810>"
            ]
          },
          "metadata": {},
          "execution_count": 10
        },
        {
          "output_type": "display_data",
          "data": {
            "image/png": "[encoded data removed]",
            "text/plain": [
              "<Figure size 432x288 with 1 Axes>"
            ]
          },
          "metadata": {
            "needs_background": "light"
          }
        }
      ]
    },
    {
      "cell_type": "code",
      "metadata": {
        "id": "5rLTyy_jHX7E"
      },
      "source": [
        ""
      ],
      "execution_count": null,
      "outputs": []
    },
    {
      "cell_type": "markdown",
      "metadata": {
        "id": "73JbBkvIW8GC"
      },
      "source": [
        "## Step 2. CF-based 모델링 (KNN)"
      ]
    },
    {
      "cell_type": "markdown",
      "metadata": {
        "id": "6xlaJbO8NapY"
      },
      "source": [
        "### Rating Matrix와 Colaborative Filtering (CF)\n",
        "----------\n",
        "\n",
        "#### Rating Matrix\n",
        "\n",
        "![rating matrix](https://www.researchgate.net/profile/Giuseppe_Manco3/publication/220907096/figure/fig1/AS:305570830667776@1449865171054/An-example-of-rating-matrix.png)\n",
        "\n",
        "    1. User를 Row, Item을 Column으로 하며 Value를 Rating으로 하는 행렬\n",
        "    2. Rating의 종류\n",
        "      - Explicit Feedback : 영화 점수, 리뷰 점수, 좋아요 표시...\n",
        "      - Implicit Feedback : 조회, 시청, 구매, 찜 표시...\n",
        "    3. Rating Matrix를 추천 모델로 활용하는 방법\n",
        "      - Colaborative Filtering (CF)\n",
        "      - Matrix Factorization (MF)\n",
        "\n",
        "-----\n",
        "\n",
        "#### Colaborative Filtering (CF)\n",
        "\n",
        "![CF](https://t1.daumcdn.net/cfile/tistory/9970CE495AF71C0C06)\n",
        "\n",
        "> 고객들의 선호도와 관심 표현을 바탕으로 선호도, 관심에서 비슷한 패턴을 가진 고객들을 식별해 내는 기법이다. 비슷한 취향을 가진 고객들에게 서로 아직 구매하지 않은 상품들은 교차 추천하거나 분류된 고객의 취향이나 생활 형태에 따라 관련 상품을 추천하는 형태의 서비스를 제공하기 위해 사용된다.\n",
        "    \n",
        "    1. User-based\n",
        "    2. Item-based\n",
        "\n",
        "-----"
      ]
    },
    {
      "cell_type": "markdown",
      "metadata": {
        "id": "VZRzhB4vUVAp"
      },
      "source": [
        "### 문제 4. 모델링 - Train/Test 데이터 분리"
      ]
    },
    {
      "cell_type": "code",
      "metadata": {
        "colab": {
          "base_uri": "https://localhost:8080/"
        },
        "id": "gD2d2ziMJoAY",
        "outputId": "7a77ccc4-d17a-4a7b-a62e-4a6194cecf15"
      },
      "source": [
        "!pip install surprise"
      ],
      "execution_count": 11,
      "outputs": [
        {
          "output_type": "stream",
          "name": "stdout",
          "text": [
            "Collecting surprise\n",
            "  Downloading surprise-0.1-py2.py3-none-any.whl (1.8 kB)\n",
            "Collecting scikit-surprise\n",
            "  Downloading scikit-surprise-1.1.1.tar.gz (11.8 MB)\n",
            "\u001b[K     |████████████████████████████████| 11.8 MB 30.1 MB/s \n",
            "\u001b[?25hRequirement already satisfied: joblib>=0.11 in /usr/local/lib/python3.7/dist-packages (from scikit-surprise->surprise) (1.1.0)\n",
            "Requirement already satisfied: numpy>=1.11.2 in /usr/local/lib/python3.7/dist-packages (from scikit-surprise->surprise) (1.19.5)\n",
            "Requirement already satisfied: scipy>=1.0.0 in /usr/local/lib/python3.7/dist-packages (from scikit-surprise->surprise) (1.4.1)\n",
            "Requirement already satisfied: six>=1.10.0 in /usr/local/lib/python3.7/dist-packages (from scikit-surprise->surprise) (1.15.0)\n",
            "Building wheels for collected packages: scikit-surprise\n",
            "  Building wheel for scikit-surprise (setup.py) ... \u001b[?25l\u001b[?25hdone\n",
            "  Created wheel for scikit-surprise: filename=scikit_surprise-1.1.1-cp37-cp37m-linux_x86_64.whl size=1619433 sha256=a5f2f76329a2f27fd4fac7bdf64d738afd049fdf8cd38d5b1d07b8eb411402cd\n",
            "  Stored in directory: /root/.cache/pip/wheels/76/44/74/b498c42be47b2406bd27994e16c5188e337c657025ab400c1c\n",
            "Successfully built scikit-surprise\n",
            "Installing collected packages: scikit-surprise, surprise\n",
            "Successfully installed scikit-surprise-1.1.1 surprise-0.1\n"
          ]
        }
      ]
    },
    {
      "cell_type": "code",
      "metadata": {
        "id": "gOGSYW5SUic6"
      },
      "source": [
        "from surprise import Dataset, Reader\n",
        "from surprise.model_selection import train_test_split\n",
        "\n",
        "# Reader, Dataset 오브젝트로 학습용 데이터셋 생성 및 분리\n",
        "reader = Reader(rating_scale = (1,5)) #평가 점수 범위\n",
        "data = Dataset.load_from_df(rating_df[['user_id', 'movie_id', 'rating']], reader) #불러온 평가데이터를 읽음\n",
        "trainset, testset = train_test_split(data, test_size = 0.25) #학습,테스트 데이터로 분리"
      ],
      "execution_count": 14,
      "outputs": []
    },
    {
      "cell_type": "markdown",
      "metadata": {
        "id": "LsrXLeWVUVnk"
      },
      "source": [
        "### 문제 5. 모델링 - KNN 모델 학습\n",
        "\n",
        "-----\n",
        "\n",
        "#### KNN (K-Nearest Neighbor) 알고리즘\n",
        "\n",
        "![knn](http://i.imgur.com/gLBo1gX.png)\n",
        "\n",
        "    [KNN의 대략적인 이해]\n",
        "    1. 새로운(혹은 특정한) 데이터 포인트 X가 있을 때, X와 가장 유사한 k개를 이용하여 데이터 포인트 X의 위치를 찾는 알고리즘\n",
        "    2. euclidean distance, cosine similarity 등을 기준으로 유사한 k개를 계산\n",
        "    3. 분류(classification) 문제의 경우는 k개의 포인트에서 가장 많이 등장한 class로 할당\n",
        "    4. 예측(regression) 문제의 경우는 k개 포인트의 평균 값, 혹은 가중치 값 등으로 X의 값을 예측\n",
        "\n",
        "#### Surprise의 KNN\n",
        "\n",
        "> A basic collaborative filtering algorithm. The prediction 𝑟̂ 𝑢𝑖 is set as\n",
        "\n",
        "![suprise knn](https://raw.githubusercontent.com/yoonkt200/FastCampusDataset/master/images/knn.png)\n",
        "\n",
        "###### (https://surprise.readthedocs.io/en/stable/knn_inspired.html)\n",
        "    \n",
        "    [라이브러리의 대략적인 학습 과정]\n",
        "    1. User-based CF\n",
        "    2. 유저 A와 가장 영화를 유사하게 평가한 유저 k명을 선정\n",
        "    3. k명의 유저가 영화 a를 평가한 점수를 활용하여 위의 식대로 점수를 계산함\n",
        "    4. 이와 같은 방식으로 Rating Matrix를 완성\n",
        "-----\n",
        "    [Similarity]\n",
        "    1. 가장 일반적인 Similarity 계산 방식은 cosine similarity\n",
        "    2. 다른 방식은 euclidean distance, jaccard index, pearson correlation 등이 있음\n",
        "\n",
        "![cosine](https://raw.githubusercontent.com/yoonkt200/FastCampusDataset/master/images/cosine.png)\n",
        "-----"
      ]
    },
    {
      "cell_type": "code",
      "metadata": {
        "colab": {
          "base_uri": "https://localhost:8080/"
        },
        "id": "z0QQ6k2fnJIh",
        "outputId": "14621ccd-b34b-4949-9131-bded36254cd9"
      },
      "source": [
        "# KNN 이해를 돕기 위한 참고 코드\n",
        "ab = (0.9 * 4) + (0.8 * 3) + (0.7 * 5) + (0.6 * 1)\n",
        "bb = (0.9) + 0.8 + 0.7 + 0.6\n",
        "\n",
        "ab/bb"
      ],
      "execution_count": 15,
      "outputs": [
        {
          "output_type": "execute_result",
          "data": {
            "text/plain": [
              "3.3666666666666663"
            ]
          },
          "metadata": {},
          "execution_count": 15
        }
      ]
    },
    {
      "cell_type": "code",
      "metadata": {
        "id": "ebfTXN7nUlp1",
        "colab": {
          "base_uri": "https://localhost:8080/"
        },
        "outputId": "b96d6565-3320-46ce-d1b2-264bba4ffbae"
      },
      "source": [
        "from surprise import KNNBasic #모델 완성시켜주는 클래스\n",
        "\n",
        "# KNNBasic 모델 학습\n",
        "algo = KNNBasic(k = 40, min_k = 1, sim_options={'user_based': True, 'name':'cosine'}) #sim_options. itembase 또는 user base, 어떤 방식으로 유사도 찾을지\n",
        "algo.fit(trainset)\n",
        "predictions = algo.test(testset)\n",
        "predictions"
      ],
      "execution_count": 16,
      "outputs": [
        {
          "output_type": "stream",
          "name": "stdout",
          "text": [
            "Computing the cosine similarity matrix...\n",
            "Done computing similarity matrix.\n"
          ]
        },
        {
          "output_type": "execute_result",
          "data": {
            "text/plain": [
              "[Prediction(uid=1314, iid=260, r_ui=4.0, est=4.025, details={'actual_k': 40, 'was_impossible': False}),\n",
              " Prediction(uid=2537, iid=1266, r_ui=4.0, est=4.325525587699437, details={'actual_k': 40, 'was_impossible': False}),\n",
              " Prediction(uid=5109, iid=1262, r_ui=5.0, est=4.499637175855886, details={'actual_k': 40, 'was_impossible': False}),\n",
              " Prediction(uid=1658, iid=1479, r_ui=2.0, est=3.575837376267055, details={'actual_k': 40, 'was_impossible': False}),\n",
              " Prediction(uid=480, iid=150, r_ui=4.0, est=4.0996925016318695, details={'actual_k': 40, 'was_impossible': False}),\n",
              " Prediction(uid=963, iid=296, r_ui=5.0, est=4.349098325151665, details={'actual_k': 40, 'was_impossible': False}),\n",
              " Prediction(uid=1758, iid=1597, r_ui=3.0, est=3.4748904200329136, details={'actual_k': 40, 'was_impossible': False}),\n",
              " Prediction(uid=2502, iid=3183, r_ui=4.0, est=3.58036583743453, details={'actual_k': 29, 'was_impossible': False}),\n",
              " Prediction(uid=4522, iid=3515, r_ui=2.0, est=3.1251860374312557, details={'actual_k': 40, 'was_impossible': False}),\n",
              " Prediction(uid=4704, iid=3397, r_ui=3.0, est=3.699564462580203, details={'actual_k': 40, 'was_impossible': False}),\n",
              " Prediction(uid=5248, iid=2243, r_ui=3.0, est=3.8732564909448866, details={'actual_k': 40, 'was_impossible': False}),\n",
              " Prediction(uid=245, iid=168, r_ui=2.0, est=3.126059202143149, details={'actual_k': 40, 'was_impossible': False}),\n",
              " Prediction(uid=5385, iid=3408, r_ui=4.0, est=4.025, details={'actual_k': 40, 'was_impossible': False}),\n",
              " Prediction(uid=1064, iid=3555, r_ui=4.0, est=3.7741105780004984, details={'actual_k': 40, 'was_impossible': False}),\n",
              " Prediction(uid=3744, iid=1127, r_ui=1.0, est=4.025, details={'actual_k': 40, 'was_impossible': False}),\n",
              " Prediction(uid=4954, iid=3752, r_ui=1.0, est=2.9000161503449595, details={'actual_k': 40, 'was_impossible': False}),\n",
              " Prediction(uid=1962, iid=222, r_ui=4.0, est=3.826222463946741, details={'actual_k': 40, 'was_impossible': False}),\n",
              " Prediction(uid=1796, iid=1294, r_ui=5.0, est=4.298590929179315, details={'actual_k': 40, 'was_impossible': False}),\n",
              " Prediction(uid=5519, iid=2150, r_ui=4.0, est=4.02468239791232, details={'actual_k': 40, 'was_impossible': False}),\n",
              " Prediction(uid=392, iid=3258, r_ui=2.0, est=3.0007528393396568, details={'actual_k': 40, 'was_impossible': False}),\n",
              " Prediction(uid=3519, iid=2104, r_ui=2.0, est=3.328738582341013, details={'actual_k': 40, 'was_impossible': False}),\n",
              " Prediction(uid=3067, iid=3253, r_ui=4.0, est=3.6991830417552714, details={'actual_k': 40, 'was_impossible': False}),\n",
              " Prediction(uid=169, iid=1263, r_ui=3.0, est=4.199194008806767, details={'actual_k': 40, 'was_impossible': False}),\n",
              " Prediction(uid=4523, iid=969, r_ui=4.0, est=4.424161760768349, details={'actual_k': 40, 'was_impossible': False}),\n",
              " Prediction(uid=1337, iid=3926, r_ui=4.0, est=3.249807544326058, details={'actual_k': 40, 'was_impossible': False}),\n",
              " Prediction(uid=3473, iid=1096, r_ui=4.0, est=4.299187965738577, details={'actual_k': 40, 'was_impossible': False}),\n",
              " Prediction(uid=3729, iid=2329, r_ui=5.0, est=4.1750032474231675, details={'actual_k': 40, 'was_impossible': False}),\n",
              " Prediction(uid=3298, iid=3273, r_ui=5.0, est=2.75, details={'actual_k': 40, 'was_impossible': False}),\n",
              " Prediction(uid=5792, iid=3793, r_ui=4.0, est=3.849868529027199, details={'actual_k': 40, 'was_impossible': False}),\n",
              " Prediction(uid=3271, iid=539, r_ui=5.0, est=4.225403187027455, details={'actual_k': 40, 'was_impossible': False}),\n",
              " Prediction(uid=439, iid=3513, r_ui=4.0, est=3.6997368165912157, details={'actual_k': 40, 'was_impossible': False}),\n",
              " Prediction(uid=450, iid=527, r_ui=4.0, est=4.475, details={'actual_k': 40, 'was_impossible': False}),\n",
              " Prediction(uid=2419, iid=1640, r_ui=1.0, est=2.652193932972751, details={'actual_k': 40, 'was_impossible': False}),\n",
              " Prediction(uid=4823, iid=2529, r_ui=4.0, est=3.7752725503033004, details={'actual_k': 40, 'was_impossible': False}),\n",
              " Prediction(uid=2116, iid=852, r_ui=3.0, est=3.525371111856825, details={'actual_k': 40, 'was_impossible': False}),\n",
              " Prediction(uid=2418, iid=372, r_ui=4.0, est=3.2761830929900335, details={'actual_k': 40, 'was_impossible': False}),\n",
              " Prediction(uid=5260, iid=1299, r_ui=4.0, est=4.399644008424921, details={'actual_k': 40, 'was_impossible': False}),\n",
              " Prediction(uid=1803, iid=1261, r_ui=4.0, est=4.000531539081275, details={'actual_k': 40, 'was_impossible': False}),\n",
              " Prediction(uid=5005, iid=2439, r_ui=3.0, est=3.6489322838190312, details={'actual_k': 40, 'was_impossible': False}),\n",
              " Prediction(uid=177, iid=2762, r_ui=5.0, est=4.375, details={'actual_k': 40, 'was_impossible': False}),\n",
              " Prediction(uid=5268, iid=1683, r_ui=3.0, est=3.6506899884551984, details={'actual_k': 40, 'was_impossible': False}),\n",
              " Prediction(uid=4523, iid=2353, r_ui=3.0, est=4.025059492818569, details={'actual_k': 40, 'was_impossible': False}),\n",
              " Prediction(uid=5780, iid=788, r_ui=4.0, est=3.1488322803780693, details={'actual_k': 40, 'was_impossible': False}),\n",
              " Prediction(uid=2041, iid=1288, r_ui=4.0, est=4.499559591362698, details={'actual_k': 40, 'was_impossible': False}),\n",
              " Prediction(uid=2891, iid=2690, r_ui=3.0, est=3.776292875741319, details={'actual_k': 40, 'was_impossible': False}),\n",
              " Prediction(uid=4425, iid=3421, r_ui=3.0, est=4.250616351643623, details={'actual_k': 40, 'was_impossible': False}),\n",
              " Prediction(uid=5831, iid=2345, r_ui=4.0, est=3.4659155859584567, details={'actual_k': 26, 'was_impossible': False}),\n",
              " Prediction(uid=2907, iid=3040, r_ui=4.0, est=3.8246369305279453, details={'actual_k': 40, 'was_impossible': False}),\n",
              " Prediction(uid=3246, iid=538, r_ui=3.0, est=3.849879404460118, details={'actual_k': 40, 'was_impossible': False}),\n",
              " Prediction(uid=5331, iid=1296, r_ui=3.0, est=3.9759608841121676, details={'actual_k': 40, 'was_impossible': False}),\n",
              " Prediction(uid=549, iid=3701, r_ui=4.0, est=3.6988255880483734, details={'actual_k': 40, 'was_impossible': False}),\n",
              " Prediction(uid=75, iid=1367, r_ui=3.0, est=3.447352274860587, details={'actual_k': 40, 'was_impossible': False}),\n",
              " Prediction(uid=1676, iid=1091, r_ui=5.0, est=2.998447768511462, details={'actual_k': 40, 'was_impossible': False}),\n",
              " Prediction(uid=652, iid=2571, r_ui=5.0, est=4.125, details={'actual_k': 40, 'was_impossible': False}),\n",
              " Prediction(uid=3796, iid=1, r_ui=4.0, est=4.249826803294285, details={'actual_k': 40, 'was_impossible': False}),\n",
              " Prediction(uid=4169, iid=2212, r_ui=4.0, est=4.200525912882271, details={'actual_k': 40, 'was_impossible': False}),\n",
              " Prediction(uid=4404, iid=377, r_ui=2.0, est=3.6499789777369545, details={'actual_k': 40, 'was_impossible': False}),\n",
              " Prediction(uid=1778, iid=3052, r_ui=4.0, est=3.6747906524490466, details={'actual_k': 40, 'was_impossible': False}),\n",
              " Prediction(uid=1737, iid=2325, r_ui=4.0, est=3.4013119903199365, details={'actual_k': 40, 'was_impossible': False}),\n",
              " Prediction(uid=820, iid=2951, r_ui=4.0, est=4.075304058538952, details={'actual_k': 40, 'was_impossible': False}),\n",
              " Prediction(uid=4608, iid=3386, r_ui=4.0, est=3.875186101054407, details={'actual_k': 40, 'was_impossible': False}),\n",
              " Prediction(uid=5643, iid=161, r_ui=3.0, est=3.9989648603091767, details={'actual_k': 40, 'was_impossible': False}),\n",
              " Prediction(uid=2258, iid=2863, r_ui=4.0, est=4.300021587198902, details={'actual_k': 40, 'was_impossible': False}),\n",
              " Prediction(uid=3624, iid=1639, r_ui=5.0, est=3.974495600814552, details={'actual_k': 40, 'was_impossible': False}),\n",
              " Prediction(uid=3247, iid=459, r_ui=3.0, est=2.8999141337781746, details={'actual_k': 40, 'was_impossible': False}),\n",
              " Prediction(uid=2870, iid=1249, r_ui=3.0, est=3.976092285573396, details={'actual_k': 40, 'was_impossible': False}),\n",
              " Prediction(uid=3390, iid=2720, r_ui=3.0, est=2.299274035063809, details={'actual_k': 40, 'was_impossible': False}),\n",
              " Prediction(uid=1873, iid=1220, r_ui=3.0, est=4.2751422931003, details={'actual_k': 40, 'was_impossible': False}),\n",
              " Prediction(uid=5778, iid=924, r_ui=4.0, est=4.0, details={'actual_k': 40, 'was_impossible': False}),\n",
              " Prediction(uid=3391, iid=514, r_ui=4.0, est=3.6995790381891225, details={'actual_k': 40, 'was_impossible': False}),\n",
              " Prediction(uid=3434, iid=1606, r_ui=5.0, est=2.525041927838616, details={'actual_k': 40, 'was_impossible': False}),\n",
              " Prediction(uid=2875, iid=1221, r_ui=5.0, est=4.225, details={'actual_k': 40, 'was_impossible': False}),\n",
              " Prediction(uid=461, iid=1783, r_ui=2.0, est=3.1963900685667404, details={'actual_k': 40, 'was_impossible': False}),\n",
              " Prediction(uid=1266, iid=1673, r_ui=3.0, est=3.7989459764812956, details={'actual_k': 40, 'was_impossible': False}),\n",
              " Prediction(uid=4362, iid=850, r_ui=5.0, est=3.636562506240745, details={'actual_k': 19, 'was_impossible': False}),\n",
              " Prediction(uid=652, iid=2167, r_ui=2.0, est=3.5484396676295504, details={'actual_k': 40, 'was_impossible': False}),\n",
              " Prediction(uid=339, iid=1247, r_ui=5.0, est=4.274752087323974, details={'actual_k': 40, 'was_impossible': False}),\n",
              " Prediction(uid=1206, iid=246, r_ui=4.0, est=4.325, details={'actual_k': 40, 'was_impossible': False}),\n",
              " Prediction(uid=1634, iid=2059, r_ui=4.0, est=3.5755181950481645, details={'actual_k': 40, 'was_impossible': False}),\n",
              " Prediction(uid=2457, iid=2137, r_ui=4.0, est=4.0746234914963955, details={'actual_k': 40, 'was_impossible': False}),\n",
              " Prediction(uid=887, iid=3809, r_ui=4.0, est=3.7495792725745587, details={'actual_k': 40, 'was_impossible': False}),\n",
              " Prediction(uid=2694, iid=3942, r_ui=4.0, est=1.8601617184215835, details={'actual_k': 21, 'was_impossible': False}),\n",
              " Prediction(uid=5671, iid=2640, r_ui=4.0, est=4.000192678953198, details={'actual_k': 40, 'was_impossible': False}),\n",
              " Prediction(uid=301, iid=586, r_ui=3.0, est=3.4494938352333264, details={'actual_k': 40, 'was_impossible': False}),\n",
              " Prediction(uid=2131, iid=2455, r_ui=4.0, est=3.7249625852610584, details={'actual_k': 40, 'was_impossible': False}),\n",
              " Prediction(uid=2901, iid=1219, r_ui=4.0, est=4.449718394452081, details={'actual_k': 40, 'was_impossible': False}),\n",
              " Prediction(uid=4303, iid=1580, r_ui=4.0, est=3.8751070237242327, details={'actual_k': 40, 'was_impossible': False}),\n",
              " Prediction(uid=5881, iid=2558, r_ui=2.0, est=3.351333757605634, details={'actual_k': 40, 'was_impossible': False}),\n",
              " Prediction(uid=919, iid=377, r_ui=3.0, est=4.0999787693974605, details={'actual_k': 40, 'was_impossible': False}),\n",
              " Prediction(uid=4352, iid=2115, r_ui=5.0, est=3.70156372457711, details={'actual_k': 40, 'was_impossible': False}),\n",
              " Prediction(uid=3308, iid=3175, r_ui=4.0, est=3.8011909925571588, details={'actual_k': 40, 'was_impossible': False}),\n",
              " Prediction(uid=1266, iid=1292, r_ui=3.0, est=4.200018117332422, details={'actual_k': 40, 'was_impossible': False}),\n",
              " Prediction(uid=935, iid=1161, r_ui=4.0, est=3.976404122572402, details={'actual_k': 40, 'was_impossible': False}),\n",
              " Prediction(uid=11, iid=47, r_ui=3.0, est=4.349220681344456, details={'actual_k': 40, 'was_impossible': False}),\n",
              " Prediction(uid=2926, iid=122, r_ui=1.0, est=3.001680926304344, details={'actual_k': 40, 'was_impossible': False}),\n",
              " Prediction(uid=3028, iid=1876, r_ui=3.0, est=3.273371842503506, details={'actual_k': 40, 'was_impossible': False}),\n",
              " Prediction(uid=1146, iid=2160, r_ui=2.0, est=4.122747917364222, details={'actual_k': 40, 'was_impossible': False}),\n",
              " Prediction(uid=1001, iid=2539, r_ui=2.0, est=3.6498872361331895, details={'actual_k': 40, 'was_impossible': False}),\n",
              " Prediction(uid=3391, iid=2439, r_ui=5.0, est=3.850181662635508, details={'actual_k': 40, 'was_impossible': False}),\n",
              " Prediction(uid=3884, iid=1824, r_ui=2.0, est=3.47286619178116, details={'actual_k': 40, 'was_impossible': False}),\n",
              " Prediction(uid=4034, iid=1036, r_ui=4.0, est=4.450203442052211, details={'actual_k': 40, 'was_impossible': False}),\n",
              " Prediction(uid=2237, iid=1417, r_ui=4.0, est=2.6776037198792175, details={'actual_k': 33, 'was_impossible': False}),\n",
              " Prediction(uid=767, iid=2916, r_ui=4.0, est=4.125328358339907, details={'actual_k': 40, 'was_impossible': False}),\n",
              " Prediction(uid=1807, iid=1097, r_ui=4.0, est=4.100221444157869, details={'actual_k': 40, 'was_impossible': False}),\n",
              " Prediction(uid=2109, iid=1848, r_ui=2.0, est=3.5270939442476457, details={'actual_k': 40, 'was_impossible': False}),\n",
              " Prediction(uid=5482, iid=105, r_ui=4.0, est=3.8003805863977185, details={'actual_k': 40, 'was_impossible': False}),\n",
              " Prediction(uid=5706, iid=2384, r_ui=5.0, est=3.2513734905639105, details={'actual_k': 40, 'was_impossible': False}),\n",
              " Prediction(uid=5890, iid=3506, r_ui=3.0, est=3.423163745883438, details={'actual_k': 40, 'was_impossible': False}),\n",
              " Prediction(uid=765, iid=3004, r_ui=2.0, est=2.7981934762977496, details={'actual_k': 40, 'was_impossible': False}),\n",
              " Prediction(uid=727, iid=113, r_ui=3.0, est=3.006713173113, details={'actual_k': 40, 'was_impossible': False}),\n",
              " Prediction(uid=1963, iid=261, r_ui=5.0, est=3.874129601675591, details={'actual_k': 40, 'was_impossible': False}),\n",
              " Prediction(uid=4161, iid=1587, r_ui=2.0, est=3.546599453122221, details={'actual_k': 40, 'was_impossible': False}),\n",
              " Prediction(uid=1842, iid=2889, r_ui=3.0, est=3.5500561862877205, details={'actual_k': 40, 'was_impossible': False}),\n",
              " Prediction(uid=869, iid=2976, r_ui=4.0, est=3.198482245752304, details={'actual_k': 40, 'was_impossible': False}),\n",
              " Prediction(uid=5705, iid=2791, r_ui=4.0, est=3.9747778600652586, details={'actual_k': 40, 'was_impossible': False}),\n",
              " Prediction(uid=1694, iid=3793, r_ui=4.0, est=3.8995896385551543, details={'actual_k': 40, 'was_impossible': False}),\n",
              " Prediction(uid=2907, iid=442, r_ui=5.0, est=3.7010497019267357, details={'actual_k': 40, 'was_impossible': False}),\n",
              " Prediction(uid=195, iid=1092, r_ui=2.0, est=3.8243515561714063, details={'actual_k': 40, 'was_impossible': False}),\n",
              " Prediction(uid=1998, iid=2804, r_ui=4.0, est=4.525486053604038, details={'actual_k': 40, 'was_impossible': False}),\n",
              " Prediction(uid=4826, iid=1210, r_ui=4.0, est=3.750043648009332, details={'actual_k': 40, 'was_impossible': False}),\n",
              " Prediction(uid=3934, iid=3361, r_ui=2.0, est=4.074524216443909, details={'actual_k': 40, 'was_impossible': False}),\n",
              " Prediction(uid=3681, iid=173, r_ui=4.0, est=2.84968828581631, details={'actual_k': 40, 'was_impossible': False}),\n",
              " Prediction(uid=5635, iid=2859, r_ui=3.0, est=4.40025279593083, details={'actual_k': 40, 'was_impossible': False}),\n",
              " Prediction(uid=5293, iid=1198, r_ui=5.0, est=4.1, details={'actual_k': 40, 'was_impossible': False}),\n",
              " Prediction(uid=4510, iid=2377, r_ui=1.0, est=3.123066343594666, details={'actual_k': 40, 'was_impossible': False}),\n",
              " Prediction(uid=2807, iid=1247, r_ui=3.0, est=4.3752922517897215, details={'actual_k': 40, 'was_impossible': False}),\n",
              " Prediction(uid=1340, iid=71, r_ui=1.0, est=2.0491077758081997, details={'actual_k': 40, 'was_impossible': False}),\n",
              " Prediction(uid=208, iid=3494, r_ui=2.0, est=3.8736064228291016, details={'actual_k': 40, 'was_impossible': False}),\n",
              " Prediction(uid=2041, iid=3688, r_ui=1.0, est=2.9247845330136615, details={'actual_k': 40, 'was_impossible': False}),\n",
              " Prediction(uid=566, iid=3045, r_ui=2.0, est=3.3007271384129764, details={'actual_k': 40, 'was_impossible': False}),\n",
              " Prediction(uid=3224, iid=3505, r_ui=4.0, est=4.1997187082795415, details={'actual_k': 40, 'was_impossible': False}),\n",
              " Prediction(uid=3292, iid=2657, r_ui=5.0, est=4.150486742542227, details={'actual_k': 40, 'was_impossible': False}),\n",
              " Prediction(uid=2556, iid=665, r_ui=5.0, est=3.624015686445864, details={'actual_k': 27, 'was_impossible': False}),\n",
              " Prediction(uid=2508, iid=2718, r_ui=5.0, est=3.34972746306287, details={'actual_k': 40, 'was_impossible': False}),\n",
              " Prediction(uid=1354, iid=994, r_ui=4.0, est=4.19880400486805, details={'actual_k': 40, 'was_impossible': False}),\n",
              " Prediction(uid=1767, iid=2395, r_ui=4.0, est=4.100073463901154, details={'actual_k': 40, 'was_impossible': False}),\n",
              " Prediction(uid=2885, iid=1079, r_ui=5.0, est=3.7491695334487796, details={'actual_k': 40, 'was_impossible': False}),\n",
              " Prediction(uid=2857, iid=291, r_ui=2.0, est=2.1954337156071904, details={'actual_k': 36, 'was_impossible': False}),\n",
              " Prediction(uid=5249, iid=3249, r_ui=2.0, est=3.7752309042787666, details={'actual_k': 40, 'was_impossible': False}),\n",
              " Prediction(uid=1509, iid=292, r_ui=2.0, est=3.301254018803659, details={'actual_k': 40, 'was_impossible': False}),\n",
              " Prediction(uid=4305, iid=2163, r_ui=4.0, est=2.7760314970456794, details={'actual_k': 40, 'was_impossible': False}),\n",
              " Prediction(uid=4587, iid=593, r_ui=4.0, est=4.3, details={'actual_k': 40, 'was_impossible': False}),\n",
              " Prediction(uid=5046, iid=2178, r_ui=4.0, est=3.8253310510726437, details={'actual_k': 40, 'was_impossible': False}),\n",
              " Prediction(uid=3170, iid=2000, r_ui=4.0, est=4.025558381659411, details={'actual_k': 40, 'was_impossible': False}),\n",
              " Prediction(uid=6013, iid=349, r_ui=1.0, est=3.999992411016844, details={'actual_k': 40, 'was_impossible': False}),\n",
              " Prediction(uid=3827, iid=293, r_ui=5.0, est=4.449952380379243, details={'actual_k': 40, 'was_impossible': False}),\n",
              " Prediction(uid=5024, iid=1256, r_ui=5.0, est=4.175098164151961, details={'actual_k': 40, 'was_impossible': False}),\n",
              " Prediction(uid=3913, iid=1552, r_ui=3.0, est=3.8246716497653592, details={'actual_k': 40, 'was_impossible': False}),\n",
              " Prediction(uid=1451, iid=1186, r_ui=4.0, est=3.975161159613671, details={'actual_k': 40, 'was_impossible': False}),\n",
              " Prediction(uid=1680, iid=2347, r_ui=4.0, est=3.8249684507413373, details={'actual_k': 40, 'was_impossible': False}),\n",
              " Prediction(uid=2909, iid=830, r_ui=3.0, est=3.099810020958082, details={'actual_k': 40, 'was_impossible': False}),\n",
              " Prediction(uid=3921, iid=3386, r_ui=4.0, est=3.9250139907956716, details={'actual_k': 40, 'was_impossible': False}),\n",
              " Prediction(uid=3118, iid=3550, r_ui=4.0, est=3.525428936491112, details={'actual_k': 40, 'was_impossible': False}),\n",
              " Prediction(uid=3280, iid=1960, r_ui=3.0, est=4.199241416825099, details={'actual_k': 40, 'was_impossible': False}),\n",
              " Prediction(uid=4315, iid=3052, r_ui=5.0, est=3.5997506340378713, details={'actual_k': 40, 'was_impossible': False}),\n",
              " Prediction(uid=4552, iid=3082, r_ui=3.0, est=3.526426802139885, details={'actual_k': 40, 'was_impossible': False}),\n",
              " Prediction(uid=4728, iid=2406, r_ui=4.0, est=3.9499946839243445, details={'actual_k': 40, 'was_impossible': False}),\n",
              " Prediction(uid=1574, iid=1079, r_ui=4.0, est=3.725, details={'actual_k': 40, 'was_impossible': False}),\n",
              " Prediction(uid=1120, iid=2194, r_ui=4.0, est=4.2990211155203575, details={'actual_k': 40, 'was_impossible': False}),\n",
              " Prediction(uid=4478, iid=2171, r_ui=4.0, est=3.624960717332612, details={'actual_k': 40, 'was_impossible': False}),\n",
              " Prediction(uid=2054, iid=736, r_ui=4.0, est=3.299829203321335, details={'actual_k': 40, 'was_impossible': False}),\n",
              " Prediction(uid=2509, iid=1214, r_ui=4.0, est=3.825, details={'actual_k': 40, 'was_impossible': False}),\n",
              " Prediction(uid=1924, iid=2506, r_ui=4.0, est=3.650547092987253, details={'actual_k': 40, 'was_impossible': False}),\n",
              " Prediction(uid=1177, iid=1580, r_ui=4.0, est=3.675, details={'actual_k': 40, 'was_impossible': False}),\n",
              " Prediction(uid=3705, iid=2289, r_ui=4.0, est=4.249897006574652, details={'actual_k': 40, 'was_impossible': False}),\n",
              " Prediction(uid=3644, iid=1179, r_ui=3.0, est=3.8249814159329176, details={'actual_k': 40, 'was_impossible': False}),\n",
              " Prediction(uid=3850, iid=2106, r_ui=4.0, est=3.6747422802558196, details={'actual_k': 40, 'was_impossible': False}),\n",
              " Prediction(uid=4566, iid=2469, r_ui=4.0, est=3.199831807105138, details={'actual_k': 40, 'was_impossible': False}),\n",
              " Prediction(uid=846, iid=3699, r_ui=3.0, est=3.7249519798033313, details={'actual_k': 40, 'was_impossible': False}),\n",
              " Prediction(uid=1607, iid=25, r_ui=2.0, est=3.623134260482562, details={'actual_k': 40, 'was_impossible': False}),\n",
              " Prediction(uid=3823, iid=3100, r_ui=4.0, est=4.024943249719679, details={'actual_k': 40, 'was_impossible': False}),\n",
              " Prediction(uid=518, iid=3699, r_ui=4.0, est=3.525504320255401, details={'actual_k': 40, 'was_impossible': False}),\n",
              " Prediction(uid=4813, iid=1148, r_ui=5.0, est=4.524759446228616, details={'actual_k': 40, 'was_impossible': False}),\n",
              " Prediction(uid=996, iid=1207, r_ui=5.0, est=4.7997515686897945, details={'actual_k': 40, 'was_impossible': False}),\n",
              " Prediction(uid=5088, iid=1748, r_ui=4.0, est=4.000291444655631, details={'actual_k': 40, 'was_impossible': False}),\n",
              " Prediction(uid=2231, iid=3404, r_ui=4.0, est=3.52451993760334, details={'actual_k': 40, 'was_impossible': False}),\n",
              " Prediction(uid=533, iid=235, r_ui=5.0, est=3.8990809521839656, details={'actual_k': 40, 'was_impossible': False}),\n",
              " Prediction(uid=1928, iid=485, r_ui=3.0, est=3.026176140807679, details={'actual_k': 40, 'was_impossible': False}),\n",
              " Prediction(uid=4381, iid=1658, r_ui=1.0, est=3.27377782047696, details={'actual_k': 40, 'was_impossible': False}),\n",
              " Prediction(uid=3539, iid=307, r_ui=5.0, est=4.300266070190975, details={'actual_k': 40, 'was_impossible': False}),\n",
              " Prediction(uid=957, iid=1228, r_ui=5.0, est=4.60012818500461, details={'actual_k': 40, 'was_impossible': False}),\n",
              " Prediction(uid=1465, iid=1983, r_ui=2.0, est=2.7749202192948568, details={'actual_k': 40, 'was_impossible': False}),\n",
              " Prediction(uid=4169, iid=3736, r_ui=5.0, est=3.780141392143124, details={'actual_k': 33, 'was_impossible': False}),\n",
              " Prediction(uid=5886, iid=1025, r_ui=3.0, est=3.748676840502915, details={'actual_k': 40, 'was_impossible': False}),\n",
              " Prediction(uid=1015, iid=1171, r_ui=2.0, est=3.799646485423579, details={'actual_k': 40, 'was_impossible': False}),\n",
              " Prediction(uid=188, iid=3946, r_ui=3.0, est=2.350798784505085, details={'actual_k': 40, 'was_impossible': False}),\n",
              " Prediction(uid=1637, iid=24, r_ui=4.0, est=3.2748715725320054, details={'actual_k': 40, 'was_impossible': False}),\n",
              " Prediction(uid=2092, iid=915, r_ui=4.0, est=4.100527649785256, details={'actual_k': 40, 'was_impossible': False}),\n",
              " Prediction(uid=5054, iid=2247, r_ui=3.0, est=3.7496287343350656, details={'actual_k': 40, 'was_impossible': False}),\n",
              " Prediction(uid=5954, iid=3258, r_ui=3.0, est=2.5245284756429136, details={'actual_k': 40, 'was_impossible': False}),\n",
              " Prediction(uid=4760, iid=2976, r_ui=4.0, est=3.0250334041105242, details={'actual_k': 40, 'was_impossible': False}),\n",
              " Prediction(uid=3996, iid=379, r_ui=5.0, est=3.4235103245944543, details={'actual_k': 40, 'was_impossible': False}),\n",
              " Prediction(uid=743, iid=455, r_ui=1.0, est=2.850045344415088, details={'actual_k': 40, 'was_impossible': False}),\n",
              " Prediction(uid=3195, iid=3387, r_ui=1.0, est=2.9256121333093232, details={'actual_k': 40, 'was_impossible': False}),\n",
              " Prediction(uid=5749, iid=1616, r_ui=1.0, est=2.9490531087827017, details={'actual_k': 40, 'was_impossible': False}),\n",
              " Prediction(uid=1246, iid=1923, r_ui=4.0, est=3.949093938763982, details={'actual_k': 40, 'was_impossible': False}),\n",
              " Prediction(uid=1639, iid=1027, r_ui=4.0, est=3.5757228504035337, details={'actual_k': 40, 'was_impossible': False}),\n",
              " Prediction(uid=2265, iid=3384, r_ui=3.0, est=3.9486380219739354, details={'actual_k': 40, 'was_impossible': False}),\n",
              " Prediction(uid=1660, iid=2329, r_ui=5.0, est=4.100513739730985, details={'actual_k': 40, 'was_impossible': False}),\n",
              " Prediction(uid=802, iid=2580, r_ui=5.0, est=4.099540329878898, details={'actual_k': 40, 'was_impossible': False}),\n",
              " Prediction(uid=2575, iid=1221, r_ui=5.0, est=4.14958724013585, details={'actual_k': 40, 'was_impossible': False}),\n",
              " Prediction(uid=3428, iid=3451, r_ui=5.0, est=4.0257668649794285, details={'actual_k': 40, 'was_impossible': False}),\n",
              " Prediction(uid=3422, iid=480, r_ui=3.0, est=3.5253468290038135, details={'actual_k': 40, 'was_impossible': False}),\n",
              " Prediction(uid=5524, iid=3404, r_ui=3.0, est=3.4716679080065536, details={'actual_k': 40, 'was_impossible': False}),\n",
              " Prediction(uid=1384, iid=1617, r_ui=4.0, est=4.025, details={'actual_k': 40, 'was_impossible': False}),\n",
              " Prediction(uid=3441, iid=2890, r_ui=1.0, est=3.672875980514084, details={'actual_k': 40, 'was_impossible': False}),\n",
              " Prediction(uid=2621, iid=725, r_ui=2.0, est=3.0004379735809112, details={'actual_k': 40, 'was_impossible': False}),\n",
              " Prediction(uid=4650, iid=737, r_ui=1.0, est=2.3205231146921954, details={'actual_k': 40, 'was_impossible': False}),\n",
              " Prediction(uid=1383, iid=471, r_ui=4.0, est=3.6747470393531585, details={'actual_k': 40, 'was_impossible': False}),\n",
              " Prediction(uid=2012, iid=2322, r_ui=3.0, est=3.124856515440982, details={'actual_k': 40, 'was_impossible': False}),\n",
              " Prediction(uid=4780, iid=1189, r_ui=4.0, est=4.40024864696434, details={'actual_k': 40, 'was_impossible': False}),\n",
              " Prediction(uid=2011, iid=1035, r_ui=5.0, est=4.000152277655899, details={'actual_k': 40, 'was_impossible': False}),\n",
              " Prediction(uid=5659, iid=2297, r_ui=3.0, est=3.774469788125824, details={'actual_k': 40, 'was_impossible': False}),\n",
              " Prediction(uid=4675, iid=47, r_ui=3.0, est=4.250432622585296, details={'actual_k': 40, 'was_impossible': False}),\n",
              " Prediction(uid=3914, iid=2532, r_ui=5.0, est=3.076119720218253, details={'actual_k': 40, 'was_impossible': False}),\n",
              " Prediction(uid=5428, iid=1370, r_ui=4.0, est=3.8759246548796313, details={'actual_k': 40, 'was_impossible': False}),\n",
              " Prediction(uid=2109, iid=2866, r_ui=3.0, est=3.8746921093417193, details={'actual_k': 40, 'was_impossible': False}),\n",
              " Prediction(uid=3922, iid=1468, r_ui=3.0, est=2.6024939292037095, details={'actual_k': 40, 'was_impossible': False}),\n",
              " Prediction(uid=3311, iid=3660, r_ui=2.0, est=3.1252812335081326, details={'actual_k': 40, 'was_impossible': False}),\n",
              " Prediction(uid=2376, iid=3101, r_ui=4.0, est=3.8268716307901207, details={'actual_k': 40, 'was_impossible': False}),\n",
              " Prediction(uid=53, iid=1921, r_ui=5.0, est=3.924755073861523, details={'actual_k': 40, 'was_impossible': False}),\n",
              " Prediction(uid=3512, iid=2174, r_ui=4.0, est=3.850528682450301, details={'actual_k': 40, 'was_impossible': False}),\n",
              " Prediction(uid=5389, iid=2600, r_ui=3.0, est=3.30321182931745, details={'actual_k': 40, 'was_impossible': False}),\n",
              " Prediction(uid=3483, iid=3145, r_ui=3.0, est=3.6744953843557715, details={'actual_k': 40, 'was_impossible': False}),\n",
              " Prediction(uid=3885, iid=2529, r_ui=4.0, est=3.749671661693767, details={'actual_k': 40, 'was_impossible': False}),\n",
              " Prediction(uid=2718, iid=1302, r_ui=5.0, est=3.9994342304732347, details={'actual_k': 40, 'was_impossible': False}),\n",
              " Prediction(uid=5699, iid=1653, r_ui=4.0, est=3.897775982781084, details={'actual_k': 40, 'was_impossible': False}),\n",
              " Prediction(uid=2409, iid=1124, r_ui=4.0, est=4.149945984599049, details={'actual_k': 40, 'was_impossible': False}),\n",
              " Prediction(uid=151, iid=2001, r_ui=3.0, est=3.775099470406069, details={'actual_k': 40, 'was_impossible': False}),\n",
              " Prediction(uid=2946, iid=1459, r_ui=3.0, est=3.5262438937742075, details={'actual_k': 40, 'was_impossible': False}),\n",
              " Prediction(uid=4130, iid=2334, r_ui=3.0, est=3.3250313937519964, details={'actual_k': 40, 'was_impossible': False}),\n",
              " Prediction(uid=99, iid=1073, r_ui=3.0, est=4.024900171985812, details={'actual_k': 40, 'was_impossible': False}),\n",
              " Prediction(uid=4272, iid=2116, r_ui=3.0, est=3.4760660396977707, details={'actual_k': 40, 'was_impossible': False}),\n",
              " Prediction(uid=4322, iid=3015, r_ui=3.0, est=3.7030318363974684, details={'actual_k': 40, 'was_impossible': False}),\n",
              " Prediction(uid=3044, iid=3712, r_ui=4.0, est=3.2741656569656237, details={'actual_k': 40, 'was_impossible': False}),\n",
              " Prediction(uid=3850, iid=2826, r_ui=3.0, est=3.524798127433553, details={'actual_k': 40, 'was_impossible': False}),\n",
              " Prediction(uid=5087, iid=1911, r_ui=2.0, est=2.9748134996453524, details={'actual_k': 40, 'was_impossible': False}),\n",
              " Prediction(uid=4258, iid=2396, r_ui=4.0, est=4.349993323352677, details={'actual_k': 40, 'was_impossible': False}),\n",
              " Prediction(uid=2073, iid=1276, r_ui=4.0, est=4.349203181907964, details={'actual_k': 40, 'was_impossible': False}),\n",
              " Prediction(uid=3961, iid=3052, r_ui=3.0, est=3.524814084632432, details={'actual_k': 40, 'was_impossible': False}),\n",
              " Prediction(uid=956, iid=1951, r_ui=4.0, est=3.7996235752460916, details={'actual_k': 40, 'was_impossible': False}),\n",
              " Prediction(uid=5614, iid=1690, r_ui=3.0, est=3.3744384110877927, details={'actual_k': 40, 'was_impossible': False}),\n",
              " Prediction(uid=4440, iid=3510, r_ui=3.0, est=3.724848398860378, details={'actual_k': 40, 'was_impossible': False}),\n",
              " Prediction(uid=4287, iid=3464, r_ui=3.0, est=2.163390296444611, details={'actual_k': 12, 'was_impossible': False}),\n",
              " Prediction(uid=4647, iid=2184, r_ui=3.0, est=3.625017897227801, details={'actual_k': 40, 'was_impossible': False}),\n",
              " Prediction(uid=5153, iid=2473, r_ui=3.0, est=2.549194466659943, details={'actual_k': 40, 'was_impossible': False}),\n",
              " Prediction(uid=1312, iid=3697, r_ui=2.0, est=3.0497429951298254, details={'actual_k': 40, 'was_impossible': False}),\n",
              " Prediction(uid=2634, iid=515, r_ui=5.0, est=4.150544539050324, details={'actual_k': 40, 'was_impossible': False}),\n",
              " Prediction(uid=1383, iid=1203, r_ui=5.0, est=4.2484702397128755, details={'actual_k': 40, 'was_impossible': False}),\n",
              " Prediction(uid=5949, iid=1060, r_ui=5.0, est=3.773608229168288, details={'actual_k': 40, 'was_impossible': False}),\n",
              " Prediction(uid=5742, iid=1204, r_ui=4.0, est=4.524974798478362, details={'actual_k': 40, 'was_impossible': False}),\n",
              " Prediction(uid=570, iid=2485, r_ui=4.0, est=3.3235387815042206, details={'actual_k': 40, 'was_impossible': False}),\n",
              " Prediction(uid=5472, iid=3265, r_ui=3.0, est=4.180243578167609, details={'actual_k': 40, 'was_impossible': False}),\n",
              " Prediction(uid=3280, iid=420, r_ui=1.0, est=2.3985161789735057, details={'actual_k': 40, 'was_impossible': False}),\n",
              " Prediction(uid=656, iid=3543, r_ui=3.0, est=3.9996685068412066, details={'actual_k': 40, 'was_impossible': False}),\n",
              " Prediction(uid=864, iid=3075, r_ui=5.0, est=4.15424108400537, details={'actual_k': 40, 'was_impossible': False}),\n",
              " Prediction(uid=3590, iid=3671, r_ui=5.0, est=4.449957282055337, details={'actual_k': 40, 'was_impossible': False}),\n",
              " Prediction(uid=2073, iid=2806, r_ui=1.0, est=2.727987239866367, details={'actual_k': 40, 'was_impossible': False}),\n",
              " Prediction(uid=1527, iid=1206, r_ui=4.0, est=4.025725604208069, details={'actual_k': 40, 'was_impossible': False}),\n",
              " Prediction(uid=4663, iid=3105, r_ui=3.0, est=4.099931621226726, details={'actual_k': 40, 'was_impossible': False}),\n",
              " Prediction(uid=5026, iid=3526, r_ui=4.0, est=4.075224912857927, details={'actual_k': 40, 'was_impossible': False}),\n",
              " Prediction(uid=5678, iid=1292, r_ui=5.0, est=4.200011005637224, details={'actual_k': 40, 'was_impossible': False}),\n",
              " Prediction(uid=2380, iid=3809, r_ui=5.0, est=3.5002267217949146, details={'actual_k': 40, 'was_impossible': False}),\n",
              " Prediction(uid=225, iid=3004, r_ui=1.0, est=2.5994207491767525, details={'actual_k': 40, 'was_impossible': False}),\n",
              " Prediction(uid=543, iid=193, r_ui=2.0, est=2.2002390319785365, details={'actual_k': 40, 'was_impossible': False}),\n",
              " Prediction(uid=166, iid=2846, r_ui=4.0, est=3.525835733304947, details={'actual_k': 40, 'was_impossible': False}),\n",
              " Prediction(uid=877, iid=16, r_ui=3.0, est=3.849839425825481, details={'actual_k': 40, 'was_impossible': False}),\n",
              " Prediction(uid=2154, iid=337, r_ui=3.0, est=3.974903254498597, details={'actual_k': 40, 'was_impossible': False}),\n",
              " Prediction(uid=5916, iid=52, r_ui=2.0, est=3.7747468743675463, details={'actual_k': 40, 'was_impossible': False}),\n",
              " Prediction(uid=4800, iid=2710, r_ui=4.0, est=2.775339307825902, details={'actual_k': 40, 'was_impossible': False}),\n",
              " Prediction(uid=1101, iid=2324, r_ui=2.0, est=4.52520779038381, details={'actual_k': 40, 'was_impossible': False}),\n",
              " Prediction(uid=5458, iid=1791, r_ui=3.0, est=2.9778084346939777, details={'actual_k': 38, 'was_impossible': False}),\n",
              " Prediction(uid=1589, iid=1233, r_ui=5.0, est=4.049774472542347, details={'actual_k': 40, 'was_impossible': False}),\n",
              " Prediction(uid=3824, iid=1616, r_ui=3.0, est=3.524212044290066, details={'actual_k': 40, 'was_impossible': False}),\n",
              " Prediction(uid=5172, iid=515, r_ui=4.0, est=4.375360651196554, details={'actual_k': 40, 'was_impossible': False}),\n",
              " Prediction(uid=4043, iid=2571, r_ui=5.0, est=4.425233082331319, details={'actual_k': 40, 'was_impossible': False}),\n",
              " Prediction(uid=5000, iid=912, r_ui=5.0, est=4.424502571522051, details={'actual_k': 40, 'was_impossible': False}),\n",
              " Prediction(uid=3499, iid=1291, r_ui=5.0, est=4.199710079152097, details={'actual_k': 40, 'was_impossible': False}),\n",
              " Prediction(uid=948, iid=1676, r_ui=3.0, est=3.1514409690548053, details={'actual_k': 40, 'was_impossible': False}),\n",
              " Prediction(uid=2124, iid=1824, r_ui=5.0, est=3.374733277192264, details={'actual_k': 40, 'was_impossible': False}),\n",
              " Prediction(uid=1501, iid=274, r_ui=3.0, est=2.2594848756279955, details={'actual_k': 16, 'was_impossible': False}),\n",
              " Prediction(uid=3727, iid=866, r_ui=4.0, est=3.8725270990267977, details={'actual_k': 40, 'was_impossible': False}),\n",
              " Prediction(uid=6010, iid=1262, r_ui=5.0, est=4.450075709297257, details={'actual_k': 40, 'was_impossible': False}),\n",
              " Prediction(uid=5957, iid=610, r_ui=3.0, est=3.724265516519323, details={'actual_k': 40, 'was_impossible': False}),\n",
              " Prediction(uid=1957, iid=904, r_ui=4.0, est=4.424994686699936, details={'actual_k': 40, 'was_impossible': False}),\n",
              " Prediction(uid=3125, iid=2289, r_ui=4.0, est=4.07582582082039, details={'actual_k': 40, 'was_impossible': False}),\n",
              " Prediction(uid=4524, iid=1920, r_ui=2.0, est=3.2478714330724943, details={'actual_k': 40, 'was_impossible': False}),\n",
              " Prediction(uid=4140, iid=3360, r_ui=3.0, est=4.174081407276953, details={'actual_k': 40, 'was_impossible': False}),\n",
              " Prediction(uid=3946, iid=3893, r_ui=3.0, est=3.749438398524382, details={'actual_k': 40, 'was_impossible': False}),\n",
              " Prediction(uid=2748, iid=1500, r_ui=5.0, est=4.125182068414692, details={'actual_k': 40, 'was_impossible': False}),\n",
              " Prediction(uid=2333, iid=527, r_ui=5.0, est=4.7, details={'actual_k': 40, 'was_impossible': False}),\n",
              " Prediction(uid=4007, iid=1965, r_ui=2.0, est=3.7001788257333996, details={'actual_k': 40, 'was_impossible': False}),\n",
              " Prediction(uid=3769, iid=2706, r_ui=4.0, est=3.9749224836721373, details={'actual_k': 40, 'was_impossible': False}),\n",
              " Prediction(uid=3632, iid=1292, r_ui=4.0, est=4.175, details={'actual_k': 40, 'was_impossible': False}),\n",
              " Prediction(uid=1449, iid=707, r_ui=2.0, est=3.249516588698747, details={'actual_k': 40, 'was_impossible': False}),\n",
              " Prediction(uid=4888, iid=2100, r_ui=4.0, est=3.3997929503650903, details={'actual_k': 40, 'was_impossible': False}),\n",
              " Prediction(uid=5995, iid=3155, r_ui=5.0, est=3.774270430912951, details={'actual_k': 40, 'was_impossible': False}),\n",
              " Prediction(uid=2496, iid=2922, r_ui=4.0, est=3.772817928567526, details={'actual_k': 40, 'was_impossible': False}),\n",
              " Prediction(uid=3721, iid=2352, r_ui=3.0, est=3.876170287523545, details={'actual_k': 40, 'was_impossible': False}),\n",
              " Prediction(uid=3487, iid=3424, r_ui=3.0, est=4.175189916254462, details={'actual_k': 40, 'was_impossible': False}),\n",
              " Prediction(uid=5234, iid=2369, r_ui=4.0, est=3.3238582000669266, details={'actual_k': 40, 'was_impossible': False}),\n",
              " Prediction(uid=36, iid=1573, r_ui=5.0, est=3.699194934312763, details={'actual_k': 40, 'was_impossible': False}),\n",
              " Prediction(uid=2100, iid=586, r_ui=4.0, est=3.7756370973609714, details={'actual_k': 40, 'was_impossible': False}),\n",
              " Prediction(uid=1335, iid=593, r_ui=5.0, est=4.499824186333814, details={'actual_k': 40, 'was_impossible': False}),\n",
              " Prediction(uid=4591, iid=2376, r_ui=4.0, est=3.775102194194486, details={'actual_k': 40, 'was_impossible': False}),\n",
              " Prediction(uid=5841, iid=1099, r_ui=4.0, est=4.249279407662469, details={'actual_k': 40, 'was_impossible': False}),\n",
              " Prediction(uid=2796, iid=1296, r_ui=2.0, est=4.049180995656327, details={'actual_k': 40, 'was_impossible': False}),\n",
              " Prediction(uid=298, iid=551, r_ui=4.0, est=3.65, details={'actual_k': 40, 'was_impossible': False}),\n",
              " Prediction(uid=1147, iid=2925, r_ui=3.0, est=4.165747235506205, details={'actual_k': 40, 'was_impossible': False}),\n",
              " Prediction(uid=753, iid=1753, r_ui=2.0, est=3.3729010192020477, details={'actual_k': 40, 'was_impossible': False}),\n",
              " Prediction(uid=3878, iid=2716, r_ui=4.0, est=3.8252451187667535, details={'actual_k': 40, 'was_impossible': False}),\n",
              " Prediction(uid=3507, iid=1701, r_ui=5.0, est=3.5745403634581265, details={'actual_k': 40, 'was_impossible': False}),\n",
              " Prediction(uid=4242, iid=1356, r_ui=5.0, est=3.8489628784262906, details={'actual_k': 40, 'was_impossible': False}),\n",
              " Prediction(uid=3024, iid=2528, r_ui=3.0, est=3.5244901740800945, details={'actual_k': 40, 'was_impossible': False}),\n",
              " Prediction(uid=5916, iid=956, r_ui=3.0, est=3.5863157974805464, details={'actual_k': 29, 'was_impossible': False}),\n",
              " Prediction(uid=5924, iid=1193, r_ui=5.0, est=4.325, details={'actual_k': 40, 'was_impossible': False}),\n",
              " Prediction(uid=1117, iid=2506, r_ui=1.0, est=3.376491461449708, details={'actual_k': 40, 'was_impossible': False}),\n",
              " Prediction(uid=5682, iid=1059, r_ui=2.0, est=3.8997693633683466, details={'actual_k': 40, 'was_impossible': False}),\n",
              " Prediction(uid=314, iid=3159, r_ui=4.0, est=4.101175786884844, details={'actual_k': 40, 'was_impossible': False}),\n",
              " Prediction(uid=312, iid=3307, r_ui=4.0, est=4.550346770336273, details={'actual_k': 40, 'was_impossible': False}),\n",
              " Prediction(uid=2432, iid=1214, r_ui=4.0, est=3.9, details={'actual_k': 40, 'was_impossible': False}),\n",
              " Prediction(uid=466, iid=1885, r_ui=4.0, est=4.149958874787944, details={'actual_k': 40, 'was_impossible': False}),\n",
              " Prediction(uid=822, iid=596, r_ui=3.0, est=4.200466875216512, details={'actual_k': 40, 'was_impossible': False}),\n",
              " Prediction(uid=2903, iid=2394, r_ui=3.0, est=3.925494207822031, details={'actual_k': 40, 'was_impossible': False}),\n",
              " Prediction(uid=299, iid=1537, r_ui=5.0, est=4.298229634882003, details={'actual_k': 40, 'was_impossible': False}),\n",
              " Prediction(uid=1922, iid=2613, r_ui=4.0, est=3.499777877431093, details={'actual_k': 40, 'was_impossible': False}),\n",
              " Prediction(uid=1982, iid=318, r_ui=5.0, est=4.375, details={'actual_k': 40, 'was_impossible': False}),\n",
              " Prediction(uid=855, iid=2997, r_ui=5.0, est=4.450172968170634, details={'actual_k': 40, 'was_impossible': False}),\n",
              " Prediction(uid=3773, iid=2858, r_ui=4.0, est=4.424013662555967, details={'actual_k': 40, 'was_impossible': False}),\n",
              " Prediction(uid=2504, iid=3671, r_ui=5.0, est=4.225193424096256, details={'actual_k': 40, 'was_impossible': False}),\n",
              " Prediction(uid=4401, iid=1284, r_ui=3.0, est=4.400074914687051, details={'actual_k': 40, 'was_impossible': False}),\n",
              " Prediction(uid=3471, iid=464, r_ui=2.0, est=3.3501787651877315, details={'actual_k': 40, 'was_impossible': False}),\n",
              " Prediction(uid=15, iid=3499, r_ui=4.0, est=3.824148591367277, details={'actual_k': 40, 'was_impossible': False}),\n",
              " Prediction(uid=4022, iid=2365, r_ui=1.0, est=2.8229790925904643, details={'actual_k': 40, 'was_impossible': False}),\n",
              " Prediction(uid=1897, iid=1196, r_ui=4.0, est=4.3000211559648935, details={'actual_k': 40, 'was_impossible': False}),\n",
              " Prediction(uid=1837, iid=1641, r_ui=5.0, est=4.350192187403143, details={'actual_k': 40, 'was_impossible': False}),\n",
              " Prediction(uid=629, iid=1033, r_ui=3.0, est=3.7730697400276174, details={'actual_k': 40, 'was_impossible': False}),\n",
              " Prediction(uid=34, iid=2795, r_ui=5.0, est=3.9509655292237267, details={'actual_k': 40, 'was_impossible': False}),\n",
              " Prediction(uid=2594, iid=3793, r_ui=3.0, est=4.024796757890636, details={'actual_k': 40, 'was_impossible': False}),\n",
              " Prediction(uid=1015, iid=436, r_ui=1.0, est=2.7752320503152603, details={'actual_k': 40, 'was_impossible': False}),\n",
              " Prediction(uid=2047, iid=2329, r_ui=5.0, est=4.325082071614068, details={'actual_k': 40, 'was_impossible': False}),\n",
              " Prediction(uid=281, iid=2276, r_ui=3.0, est=3.7265698676027106, details={'actual_k': 40, 'was_impossible': False}),\n",
              " Prediction(uid=5424, iid=1680, r_ui=4.0, est=3.94976624773824, details={'actual_k': 40, 'was_impossible': False}),\n",
              " Prediction(uid=3792, iid=3225, r_ui=3.0, est=2.8281092101657452, details={'actual_k': 40, 'was_impossible': False}),\n",
              " Prediction(uid=1611, iid=1025, r_ui=4.0, est=3.7996930855959636, details={'actual_k': 40, 'was_impossible': False}),\n",
              " Prediction(uid=2764, iid=3386, r_ui=3.0, est=3.974238081834115, details={'actual_k': 40, 'was_impossible': False}),\n",
              " Prediction(uid=38, iid=361, r_ui=3.0, est=3.600894217255127, details={'actual_k': 40, 'was_impossible': False}),\n",
              " Prediction(uid=4312, iid=2167, r_ui=3.0, est=3.574374693182453, details={'actual_k': 40, 'was_impossible': False}),\n",
              " Prediction(uid=216, iid=2558, r_ui=4.0, est=3.0744533254012962, details={'actual_k': 40, 'was_impossible': False}),\n",
              " Prediction(uid=3762, iid=541, r_ui=5.0, est=4.448770491889844, details={'actual_k': 40, 'was_impossible': False}),\n",
              " Prediction(uid=4565, iid=3481, r_ui=5.0, est=3.825, details={'actual_k': 40, 'was_impossible': False}),\n",
              " Prediction(uid=2735, iid=1959, r_ui=4.0, est=3.65, details={'actual_k': 40, 'was_impossible': False}),\n",
              " Prediction(uid=634, iid=586, r_ui=3.0, est=3.3245728464284374, details={'actual_k': 40, 'was_impossible': False}),\n",
              " Prediction(uid=825, iid=2732, r_ui=1.0, est=4.1254182428191575, details={'actual_k': 40, 'was_impossible': False}),\n",
              " Prediction(uid=3892, iid=1266, r_ui=4.0, est=4.400192607115777, details={'actual_k': 40, 'was_impossible': False}),\n",
              " Prediction(uid=2909, iid=3441, r_ui=4.0, est=3.8991356631340204, details={'actual_k': 40, 'was_impossible': False}),\n",
              " Prediction(uid=3066, iid=1060, r_ui=4.0, est=4.474529623407922, details={'actual_k': 40, 'was_impossible': False}),\n",
              " Prediction(uid=5039, iid=2692, r_ui=4.0, est=4.153066367880399, details={'actual_k': 40, 'was_impossible': False}),\n",
              " Prediction(uid=2592, iid=934, r_ui=4.0, est=3.9990806525866858, details={'actual_k': 40, 'was_impossible': False}),\n",
              " Prediction(uid=824, iid=1266, r_ui=3.0, est=4.499602056199201, details={'actual_k': 40, 'was_impossible': False}),\n",
              " Prediction(uid=3301, iid=1392, r_ui=4.0, est=4.075409004322005, details={'actual_k': 40, 'was_impossible': False}),\n",
              " Prediction(uid=3726, iid=2989, r_ui=3.0, est=3.8469355707536352, details={'actual_k': 40, 'was_impossible': False}),\n",
              " Prediction(uid=235, iid=2797, r_ui=3.0, est=4.375197553358727, details={'actual_k': 40, 'was_impossible': False}),\n",
              " Prediction(uid=3285, iid=800, r_ui=4.0, est=4.300211807330091, details={'actual_k': 40, 'was_impossible': False}),\n",
              " Prediction(uid=801, iid=2577, r_ui=4.0, est=3.16749543029093, details={'actual_k': 18, 'was_impossible': False}),\n",
              " Prediction(uid=2237, iid=2915, r_ui=4.0, est=3.7739272838708304, details={'actual_k': 40, 'was_impossible': False}),\n",
              " Prediction(uid=461, iid=2376, r_ui=2.0, est=3.47419736999694, details={'actual_k': 40, 'was_impossible': False}),\n",
              " Prediction(uid=577, iid=349, r_ui=5.0, est=3.799864926884496, details={'actual_k': 40, 'was_impossible': False}),\n",
              " Prediction(uid=2273, iid=1375, r_ui=4.0, est=3.6748903435121676, details={'actual_k': 40, 'was_impossible': False}),\n",
              " Prediction(uid=4717, iid=1294, r_ui=4.0, est=4.024146087736259, details={'actual_k': 40, 'was_impossible': False}),\n",
              " Prediction(uid=2589, iid=32, r_ui=4.0, est=3.924430225931844, details={'actual_k': 40, 'was_impossible': False}),\n",
              " Prediction(uid=3807, iid=1336, r_ui=3.0, est=2.2551294925200667, details={'actual_k': 40, 'was_impossible': False}),\n",
              " Prediction(uid=155, iid=2471, r_ui=1.0, est=2.4982284158979855, details={'actual_k': 40, 'was_impossible': False}),\n",
              " Prediction(uid=3646, iid=1179, r_ui=5.0, est=3.75031623269277, details={'actual_k': 40, 'was_impossible': False}),\n",
              " Prediction(uid=5795, iid=6, r_ui=4.0, est=3.9000602696619793, details={'actual_k': 40, 'was_impossible': False}),\n",
              " Prediction(uid=319, iid=1834, r_ui=3.0, est=3.9495020107875614, details={'actual_k': 40, 'was_impossible': False}),\n",
              " Prediction(uid=3420, iid=838, r_ui=4.0, est=4.1991464103213625, details={'actual_k': 40, 'was_impossible': False}),\n",
              " Prediction(uid=549, iid=3379, r_ui=5.0, est=4.051397711845828, details={'actual_k': 40, 'was_impossible': False}),\n",
              " Prediction(uid=3847, iid=605, r_ui=2.0, est=3.4004217145246263, details={'actual_k': 40, 'was_impossible': False}),\n",
              " Prediction(uid=2785, iid=1959, r_ui=5.0, est=3.74995287236294, details={'actual_k': 40, 'was_impossible': False}),\n",
              " Prediction(uid=765, iid=247, r_ui=2.0, est=4.052059492671358, details={'actual_k': 40, 'was_impossible': False}),\n",
              " Prediction(uid=4041, iid=2968, r_ui=5.0, est=3.799564159543782, details={'actual_k': 40, 'was_impossible': False}),\n",
              " Prediction(uid=2745, iid=1459, r_ui=4.0, est=3.6481268654553287, details={'actual_k': 40, 'was_impossible': False}),\n",
              " Prediction(uid=6006, iid=2006, r_ui=4.0, est=3.526265487460979, details={'actual_k': 40, 'was_impossible': False}),\n",
              " Prediction(uid=4706, iid=788, r_ui=2.0, est=3.0250183275688007, details={'actual_k': 40, 'was_impossible': False}),\n",
              " Prediction(uid=1586, iid=2946, r_ui=5.0, est=4.1255629727039365, details={'actual_k': 40, 'was_impossible': False}),\n",
              " Prediction(uid=3717, iid=150, r_ui=4.0, est=4.375226778331784, details={'actual_k': 40, 'was_impossible': False}),\n",
              " Prediction(uid=4342, iid=2723, r_ui=4.0, est=3.02566527097332, details={'actual_k': 40, 'was_impossible': False}),\n",
              " Prediction(uid=3281, iid=42, r_ui=3.0, est=3.0508089794309594, details={'actual_k': 40, 'was_impossible': False}),\n",
              " Prediction(uid=2073, iid=1722, r_ui=1.0, est=3.3494850619120125, details={'actual_k': 40, 'was_impossible': False}),\n",
              " Prediction(uid=3265, iid=737, r_ui=2.0, est=1.9735465154296978, details={'actual_k': 40, 'was_impossible': False}),\n",
              " Prediction(uid=5826, iid=1261, r_ui=3.0, est=4.1259476100497015, details={'actual_k': 40, 'was_impossible': False}),\n",
              " Prediction(uid=4535, iid=1210, r_ui=5.0, est=3.975, details={'actual_k': 40, 'was_impossible': False}),\n",
              " Prediction(uid=963, iid=231, r_ui=1.0, est=3.400869779740364, details={'actual_k': 40, 'was_impossible': False}),\n",
              " Prediction(uid=1680, iid=2038, r_ui=4.0, est=3.0501402526802663, details={'actual_k': 40, 'was_impossible': False}),\n",
              " Prediction(uid=1297, iid=2317, r_ui=4.0, est=2.181854924043493, details={'actual_k': 6, 'was_impossible': False}),\n",
              " Prediction(uid=385, iid=1214, r_ui=3.0, est=4.1746593864445, details={'actual_k': 40, 'was_impossible': False}),\n",
              " Prediction(uid=1980, iid=2454, r_ui=3.0, est=3.624394153634224, details={'actual_k': 40, 'was_impossible': False}),\n",
              " Prediction(uid=6, iid=1947, r_ui=5.0, est=4.324567618514205, details={'actual_k': 40, 'was_impossible': False}),\n",
              " Prediction(uid=3499, iid=1302, r_ui=4.0, est=4.076527778555351, details={'actual_k': 40, 'was_impossible': False}),\n",
              " Prediction(uid=5301, iid=2080, r_ui=3.0, est=3.998512554676672, details={'actual_k': 40, 'was_impossible': False}),\n",
              " Prediction(uid=1390, iid=318, r_ui=5.0, est=4.699844239020109, details={'actual_k': 40, 'was_impossible': False}),\n",
              " Prediction(uid=1780, iid=1631, r_ui=3.0, est=3.657649338404608, details={'actual_k': 32, 'was_impossible': False}),\n",
              " Prediction(uid=6003, iid=1028, r_ui=5.0, est=4.073876578622367, details={'actual_k': 40, 'was_impossible': False}),\n",
              " Prediction(uid=4886, iid=2288, r_ui=3.0, est=4.0993851861272015, details={'actual_k': 40, 'was_impossible': False}),\n",
              " Prediction(uid=4448, iid=1231, r_ui=4.0, est=4.2749029071063385, details={'actual_k': 40, 'was_impossible': False}),\n",
              " Prediction(uid=3778, iid=1447, r_ui=3.0, est=3.423536671466734, details={'actual_k': 38, 'was_impossible': False}),\n",
              " Prediction(uid=2272, iid=3753, r_ui=5.0, est=3.9746647965703685, details={'actual_k': 40, 'was_impossible': False}),\n",
              " Prediction(uid=4335, iid=1952, r_ui=3.0, est=4.099235308971986, details={'actual_k': 40, 'was_impossible': False}),\n",
              " Prediction(uid=2232, iid=1035, r_ui=4.0, est=3.8242914185945116, details={'actual_k': 40, 'was_impossible': False}),\n",
              " Prediction(uid=5749, iid=3219, r_ui=2.0, est=3.2755689044861884, details={'actual_k': 40, 'was_impossible': False}),\n",
              " Prediction(uid=1586, iid=1967, r_ui=3.0, est=3.8753530053422676, details={'actual_k': 40, 'was_impossible': False}),\n",
              " Prediction(uid=5915, iid=3578, r_ui=4.0, est=4.000254180098558, details={'actual_k': 40, 'was_impossible': False}),\n",
              " Prediction(uid=419, iid=1250, r_ui=5.0, est=4.725006216480205, details={'actual_k': 40, 'was_impossible': False}),\n",
              " Prediction(uid=2959, iid=3175, r_ui=4.0, est=3.825, details={'actual_k': 40, 'was_impossible': False}),\n",
              " Prediction(uid=610, iid=2011, r_ui=1.0, est=3.2735942906295343, details={'actual_k': 40, 'was_impossible': False}),\n",
              " Prediction(uid=2559, iid=1610, r_ui=5.0, est=4.574681677571651, details={'actual_k': 40, 'was_impossible': False}),\n",
              " Prediction(uid=75, iid=1967, r_ui=4.0, est=3.7762666595616277, details={'actual_k': 40, 'was_impossible': False}),\n",
              " Prediction(uid=5614, iid=527, r_ui=5.0, est=4.548802081009055, details={'actual_k': 40, 'was_impossible': False}),\n",
              " Prediction(uid=4888, iid=933, r_ui=5.0, est=4.550370382923579, details={'actual_k': 40, 'was_impossible': False}),\n",
              " Prediction(uid=4449, iid=223, r_ui=5.0, est=4.074752907968147, details={'actual_k': 40, 'was_impossible': False}),\n",
              " Prediction(uid=1104, iid=593, r_ui=5.0, est=4.225, details={'actual_k': 40, 'was_impossible': False}),\n",
              " Prediction(uid=1726, iid=2409, r_ui=1.0, est=3.2996226994945985, details={'actual_k': 40, 'was_impossible': False}),\n",
              " Prediction(uid=5931, iid=1387, r_ui=3.0, est=4.124690781976232, details={'actual_k': 40, 'was_impossible': False}),\n",
              " Prediction(uid=5182, iid=3210, r_ui=5.0, est=4.174481024036596, details={'actual_k': 40, 'was_impossible': False}),\n",
              " Prediction(uid=5956, iid=2761, r_ui=3.0, est=4.124424647834232, details={'actual_k': 40, 'was_impossible': False}),\n",
              " Prediction(uid=1264, iid=2019, r_ui=5.0, est=4.700372006129227, details={'actual_k': 40, 'was_impossible': False}),\n",
              " Prediction(uid=1851, iid=3662, r_ui=1.0, est=2.4497265862786484, details={'actual_k': 40, 'was_impossible': False}),\n",
              " Prediction(uid=692, iid=262, r_ui=3.0, est=4.224736089843427, details={'actual_k': 40, 'was_impossible': False}),\n",
              " Prediction(uid=716, iid=1799, r_ui=5.0, est=3.8253294767990047, details={'actual_k': 40, 'was_impossible': False}),\n",
              " Prediction(uid=3283, iid=2526, r_ui=1.0, est=2.1746690983110994, details={'actual_k': 40, 'was_impossible': False}),\n",
              " Prediction(uid=2010, iid=2540, r_ui=3.0, est=2.9496139819112943, details={'actual_k': 40, 'was_impossible': False}),\n",
              " Prediction(uid=5643, iid=1007, r_ui=2.0, est=3.0762311345533853, details={'actual_k': 40, 'was_impossible': False}),\n",
              " Prediction(uid=2073, iid=3148, r_ui=4.0, est=4.200045437163765, details={'actual_k': 40, 'was_impossible': False}),\n",
              " Prediction(uid=1421, iid=2571, r_ui=2.0, est=4.575154311278745, details={'actual_k': 40, 'was_impossible': False}),\n",
              " Prediction(uid=2073, iid=1645, r_ui=3.0, est=3.354684179690771, details={'actual_k': 40, 'was_impossible': False}),\n",
              " Prediction(uid=5798, iid=3421, r_ui=5.0, est=4.1484233338649235, details={'actual_k': 40, 'was_impossible': False}),\n",
              " Prediction(uid=4085, iid=1975, r_ui=3.0, est=2.625434517131477, details={'actual_k': 40, 'was_impossible': False}),\n",
              " Prediction(uid=1097, iid=1476, r_ui=3.0, est=3.6985408744511674, details={'actual_k': 40, 'was_impossible': False}),\n",
              " Prediction(uid=4384, iid=2028, r_ui=5.0, est=4.299465591049952, details={'actual_k': 40, 'was_impossible': False}),\n",
              " Prediction(uid=5862, iid=11, r_ui=5.0, est=4.024370897638622, details={'actual_k': 40, 'was_impossible': False}),\n",
              " Prediction(uid=5631, iid=2686, r_ui=4.0, est=4.07500723351216, details={'actual_k': 40, 'was_impossible': False}),\n",
              " Prediction(uid=2507, iid=3741, r_ui=5.0, est=4.3744664809663965, details={'actual_k': 40, 'was_impossible': False}),\n",
              " Prediction(uid=3524, iid=318, r_ui=5.0, est=4.450141950290393, details={'actual_k': 40, 'was_impossible': False}),\n",
              " Prediction(uid=859, iid=3024, r_ui=4.0, est=2.4995218137468895, details={'actual_k': 40, 'was_impossible': False}),\n",
              " Prediction(uid=1383, iid=21, r_ui=3.0, est=3.974891092918979, details={'actual_k': 40, 'was_impossible': False}),\n",
              " Prediction(uid=2918, iid=3264, r_ui=4.0, est=3.449472586738315, details={'actual_k': 40, 'was_impossible': False}),\n",
              " Prediction(uid=2244, iid=2312, r_ui=4.0, est=3.900153358629497, details={'actual_k': 40, 'was_impossible': False}),\n",
              " Prediction(uid=6006, iid=1029, r_ui=3.0, est=3.921950787754041, details={'actual_k': 40, 'was_impossible': False}),\n",
              " Prediction(uid=3836, iid=1304, r_ui=5.0, est=4.099074524817987, details={'actual_k': 40, 'was_impossible': False}),\n",
              " Prediction(uid=5916, iid=1620, r_ui=3.0, est=3.575620918733354, details={'actual_k': 40, 'was_impossible': False}),\n",
              " Prediction(uid=4224, iid=2872, r_ui=4.0, est=4.024410722801685, details={'actual_k': 40, 'was_impossible': False}),\n",
              " Prediction(uid=5826, iid=1356, r_ui=3.0, est=3.749329177205068, details={'actual_k': 40, 'was_impossible': False}),\n",
              " Prediction(uid=1547, iid=911, r_ui=4.0, est=4.449548009344772, details={'actual_k': 40, 'was_impossible': False}),\n",
              " Prediction(uid=4510, iid=253, r_ui=3.0, est=3.5750668132826156, details={'actual_k': 40, 'was_impossible': False}),\n",
              " Prediction(uid=2747, iid=1213, r_ui=4.0, est=4.350340967904569, details={'actual_k': 40, 'was_impossible': False}),\n",
              " Prediction(uid=818, iid=3596, r_ui=1.0, est=2.49663678750155, details={'actual_k': 40, 'was_impossible': False}),\n",
              " Prediction(uid=2881, iid=2762, r_ui=5.0, est=4.6, details={'actual_k': 40, 'was_impossible': False}),\n",
              " Prediction(uid=352, iid=301, r_ui=4.0, est=3.226505184863374, details={'actual_k': 32, 'was_impossible': False}),\n",
              " Prediction(uid=4253, iid=1183, r_ui=4.0, est=3.4484539278351005, details={'actual_k': 40, 'was_impossible': False}),\n",
              " Prediction(uid=4107, iid=1275, r_ui=4.0, est=3.950336890685251, details={'actual_k': 40, 'was_impossible': False}),\n",
              " Prediction(uid=4647, iid=2640, r_ui=3.0, est=3.4488476178655594, details={'actual_k': 40, 'was_impossible': False}),\n",
              " Prediction(uid=1796, iid=3424, r_ui=4.0, est=3.876103637377263, details={'actual_k': 40, 'was_impossible': False}),\n",
              " Prediction(uid=2195, iid=546, r_ui=4.0, est=2.349412296753553, details={'actual_k': 40, 'was_impossible': False}),\n",
              " Prediction(uid=1451, iid=1358, r_ui=4.0, est=4.400244445962033, details={'actual_k': 40, 'was_impossible': False}),\n",
              " Prediction(uid=5047, iid=231, r_ui=2.0, est=2.751306704598189, details={'actual_k': 40, 'was_impossible': False}),\n",
              " Prediction(uid=5312, iid=1175, r_ui=5.0, est=4.100785913930726, details={'actual_k': 40, 'was_impossible': False}),\n",
              " Prediction(uid=1128, iid=2409, r_ui=3.0, est=2.799479228026343, details={'actual_k': 40, 'was_impossible': False}),\n",
              " Prediction(uid=3227, iid=1834, r_ui=5.0, est=4.099683903290502, details={'actual_k': 40, 'was_impossible': False}),\n",
              " Prediction(uid=5824, iid=1389, r_ui=1.0, est=1.8491044586658982, details={'actual_k': 40, 'was_impossible': False}),\n",
              " Prediction(uid=660, iid=2407, r_ui=3.0, est=4.074094334172282, details={'actual_k': 40, 'was_impossible': False}),\n",
              " Prediction(uid=3014, iid=1354, r_ui=4.0, est=3.6256818566052016, details={'actual_k': 40, 'was_impossible': False}),\n",
              " Prediction(uid=338, iid=1136, r_ui=3.0, est=4.424983237654568, details={'actual_k': 40, 'was_impossible': False}),\n",
              " Prediction(uid=2114, iid=2450, r_ui=3.0, est=2.199733621107756, details={'actual_k': 40, 'was_impossible': False}),\n",
              " Prediction(uid=2173, iid=3359, r_ui=4.0, est=4.251286977814049, details={'actual_k': 40, 'was_impossible': False}),\n",
              " Prediction(uid=1329, iid=2338, r_ui=2.0, est=2.650850617015528, details={'actual_k': 40, 'was_impossible': False}),\n",
              " Prediction(uid=1357, iid=1973, r_ui=2.0, est=1.9725905351607693, details={'actual_k': 40, 'was_impossible': False}),\n",
              " Prediction(uid=5059, iid=70, r_ui=4.0, est=3.3252369864445246, details={'actual_k': 40, 'was_impossible': False}),\n",
              " Prediction(uid=5922, iid=955, r_ui=4.0, est=4.52583723826393, details={'actual_k': 40, 'was_impossible': False}),\n",
              " Prediction(uid=4784, iid=590, r_ui=3.0, est=4.298429232115004, details={'actual_k': 40, 'was_impossible': False}),\n",
              " Prediction(uid=3110, iid=3578, r_ui=3.0, est=4.124842298015353, details={'actual_k': 40, 'was_impossible': False}),\n",
              " Prediction(uid=4901, iid=1200, r_ui=5.0, est=4.074916477933307, details={'actual_k': 40, 'was_impossible': False}),\n",
              " Prediction(uid=2063, iid=2617, r_ui=2.0, est=3.372077635340048, details={'actual_k': 40, 'was_impossible': False}),\n",
              " Prediction(uid=5046, iid=2612, r_ui=5.0, est=4.300540916116781, details={'actual_k': 40, 'was_impossible': False}),\n",
              " Prediction(uid=6007, iid=1947, r_ui=3.0, est=4.324204555596742, details={'actual_k': 40, 'was_impossible': False}),\n",
              " Prediction(uid=2525, iid=909, r_ui=4.0, est=4.249632434665599, details={'actual_k': 40, 'was_impossible': False}),\n",
              " Prediction(uid=5956, iid=1507, r_ui=4.0, est=3.3651531274335915, details={'actual_k': 32, 'was_impossible': False}),\n",
              " Prediction(uid=5636, iid=3176, r_ui=4.0, est=3.748878084907343, details={'actual_k': 40, 'was_impossible': False}),\n",
              " Prediction(uid=866, iid=239, r_ui=3.0, est=2.9018744078378185, details={'actual_k': 40, 'was_impossible': False}),\n",
              " Prediction(uid=3609, iid=2052, r_ui=1.0, est=2.9768155902285547, details={'actual_k': 40, 'was_impossible': False}),\n",
              " Prediction(uid=5351, iid=2115, r_ui=4.0, est=3.75, details={'actual_k': 40, 'was_impossible': False}),\n",
              " Prediction(uid=5605, iid=2863, r_ui=3.0, est=4.200381017546023, details={'actual_k': 40, 'was_impossible': False}),\n",
              " Prediction(uid=627, iid=2193, r_ui=3.0, est=3.15, details={'actual_k': 40, 'was_impossible': False}),\n",
              " Prediction(uid=2380, iid=428, r_ui=4.0, est=4.175726377113987, details={'actual_k': 40, 'was_impossible': False}),\n",
              " Prediction(uid=534, iid=2396, r_ui=4.0, est=4.175, details={'actual_k': 40, 'was_impossible': False}),\n",
              " Prediction(uid=3081, iid=543, r_ui=2.0, est=3.674329485705394, details={'actual_k': 40, 'was_impossible': False}),\n",
              " Prediction(uid=5600, iid=3148, r_ui=4.0, est=4.123890685752878, details={'actual_k': 40, 'was_impossible': False}),\n",
              " Prediction(uid=1260, iid=1297, r_ui=3.0, est=3.925330440910354, details={'actual_k': 40, 'was_impossible': False}),\n",
              " Prediction(uid=5393, iid=2877, r_ui=3.0, est=3.274360391060007, details={'actual_k': 40, 'was_impossible': False}),\n",
              " Prediction(uid=377, iid=1408, r_ui=4.0, est=3.8002844655925503, details={'actual_k': 40, 'was_impossible': False}),\n",
              " Prediction(uid=2232, iid=3107, r_ui=4.0, est=3.6751650863488075, details={'actual_k': 40, 'was_impossible': False}),\n",
              " Prediction(uid=2627, iid=3360, r_ui=3.0, est=3.8481785672414035, details={'actual_k': 40, 'was_impossible': False}),\n",
              " Prediction(uid=146, iid=1939, r_ui=5.0, est=4.400164990796056, details={'actual_k': 40, 'was_impossible': False}),\n",
              " Prediction(uid=644, iid=1200, r_ui=5.0, est=4.09947539337584, details={'actual_k': 40, 'was_impossible': False}),\n",
              " Prediction(uid=6031, iid=765, r_ui=2.0, est=3.024564044300107, details={'actual_k': 40, 'was_impossible': False}),\n",
              " Prediction(uid=5699, iid=1320, r_ui=2.0, est=3.1502752727888543, details={'actual_k': 40, 'was_impossible': False}),\n",
              " Prediction(uid=587, iid=356, r_ui=3.0, est=4.077775843665336, details={'actual_k': 40, 'was_impossible': False}),\n",
              " Prediction(uid=1348, iid=1592, r_ui=2.0, est=2.849179217466102, details={'actual_k': 40, 'was_impossible': False}),\n",
              " Prediction(uid=2185, iid=1249, r_ui=3.0, est=4.124680400571822, details={'actual_k': 40, 'was_impossible': False}),\n",
              " Prediction(uid=1447, iid=733, r_ui=5.0, est=3.9244253519028662, details={'actual_k': 40, 'was_impossible': False}),\n",
              " Prediction(uid=4291, iid=3633, r_ui=3.0, est=3.673391236916265, details={'actual_k': 40, 'was_impossible': False}),\n",
              " Prediction(uid=352, iid=1263, r_ui=4.0, est=4.375473093452866, details={'actual_k': 40, 'was_impossible': False}),\n",
              " Prediction(uid=1389, iid=1050, r_ui=4.0, est=4.250291919135171, details={'actual_k': 40, 'was_impossible': False}),\n",
              " Prediction(uid=4916, iid=3114, r_ui=3.0, est=4.45, details={'actual_k': 40, 'was_impossible': False}),\n",
              " Prediction(uid=1572, iid=1611, r_ui=2.0, est=3.4523815226220322, details={'actual_k': 40, 'was_impossible': False}),\n",
              " Prediction(uid=1344, iid=2455, r_ui=3.0, est=3.600003543188564, details={'actual_k': 40, 'was_impossible': False}),\n",
              " Prediction(uid=3520, iid=1982, r_ui=4.0, est=4.076104702858222, details={'actual_k': 40, 'was_impossible': False}),\n",
              " Prediction(uid=3833, iid=780, r_ui=4.0, est=3.6749747840222224, details={'actual_k': 40, 'was_impossible': False}),\n",
              " Prediction(uid=4016, iid=1242, r_ui=2.0, est=4.22540264173954, details={'actual_k': 40, 'was_impossible': False}),\n",
              " Prediction(uid=5811, iid=1968, r_ui=3.0, est=3.8743355769112675, details={'actual_k': 40, 'was_impossible': False}),\n",
              " Prediction(uid=3323, iid=3812, r_ui=5.0, est=3.7739097782819977, details={'actual_k': 40, 'was_impossible': False}),\n",
              " Prediction(uid=2975, iid=1136, r_ui=5.0, est=4.225010763550581, details={'actual_k': 40, 'was_impossible': False}),\n",
              " Prediction(uid=4064, iid=1242, r_ui=4.0, est=4.2495953128269415, details={'actual_k': 40, 'was_impossible': False}),\n",
              " Prediction(uid=3483, iid=1608, r_ui=4.0, est=4.049500754801511, details={'actual_k': 40, 'was_impossible': False}),\n",
              " Prediction(uid=4981, iid=1850, r_ui=4.0, est=2.664580755806722, details={'actual_k': 9, 'was_impossible': False}),\n",
              " Prediction(uid=5981, iid=952, r_ui=4.0, est=3.72412756915444, details={'actual_k': 40, 'was_impossible': False}),\n",
              " Prediction(uid=817, iid=2918, r_ui=5.0, est=4.35071323180695, details={'actual_k': 40, 'was_impossible': False}),\n",
              " Prediction(uid=4028, iid=1294, r_ui=4.0, est=4.071685201852801, details={'actual_k': 40, 'was_impossible': False}),\n",
              " Prediction(uid=5112, iid=1097, r_ui=3.0, est=3.90039110445172, details={'actual_k': 40, 'was_impossible': False}),\n",
              " Prediction(uid=1496, iid=88, r_ui=2.0, est=2.8759009700304494, details={'actual_k': 40, 'was_impossible': False}),\n",
              " Prediction(uid=3592, iid=3169, r_ui=4.0, est=3.9253142035490676, details={'actual_k': 40, 'was_impossible': False}),\n",
              " Prediction(uid=5631, iid=1674, r_ui=4.0, est=4.350198209967178, details={'actual_k': 40, 'was_impossible': False}),\n",
              " Prediction(uid=855, iid=457, r_ui=4.0, est=4.275040972481671, details={'actual_k': 40, 'was_impossible': False}),\n",
              " Prediction(uid=5153, iid=3526, r_ui=3.0, est=3.9988125637603398, details={'actual_k': 40, 'was_impossible': False}),\n",
              " Prediction(uid=5582, iid=1162, r_ui=5.0, est=4.049315743918118, details={'actual_k': 40, 'was_impossible': False}),\n",
              " Prediction(uid=2590, iid=2722, r_ui=4.0, est=2.8747168880808527, details={'actual_k': 40, 'was_impossible': False}),\n",
              " Prediction(uid=1015, iid=2746, r_ui=5.0, est=3.699950391000706, details={'actual_k': 40, 'was_impossible': False}),\n",
              " Prediction(uid=514, iid=1965, r_ui=5.0, est=3.6989080894387785, details={'actual_k': 40, 'was_impossible': False}),\n",
              " Prediction(uid=1748, iid=2336, r_ui=3.0, est=4.350668808533211, details={'actual_k': 40, 'was_impossible': False}),\n",
              " Prediction(uid=2212, iid=2490, r_ui=4.0, est=3.2237839228123137, details={'actual_k': 40, 'was_impossible': False}),\n",
              " Prediction(uid=4042, iid=2993, r_ui=3.0, est=3.725258189514252, details={'actual_k': 40, 'was_impossible': False}),\n",
              " Prediction(uid=2077, iid=2174, r_ui=5.0, est=3.625345525395126, details={'actual_k': 40, 'was_impossible': False}),\n",
              " Prediction(uid=3460, iid=450, r_ui=3.0, est=3.6000750129594277, details={'actual_k': 40, 'was_impossible': False}),\n",
              " Prediction(uid=2334, iid=937, r_ui=4.0, est=3.8352677579433294, details={'actual_k': 28, 'was_impossible': False}),\n",
              " Prediction(uid=4961, iid=852, r_ui=5.0, est=3.551053083593752, details={'actual_k': 40, 'was_impossible': False}),\n",
              " Prediction(uid=3336, iid=410, r_ui=2.0, est=3.0472834849350066, details={'actual_k': 40, 'was_impossible': False}),\n",
              " Prediction(uid=4620, iid=2329, r_ui=5.0, est=4.099649386579721, details={'actual_k': 40, 'was_impossible': False}),\n",
              " Prediction(uid=198, iid=3948, r_ui=5.0, est=3.9484307014908997, details={'actual_k': 40, 'was_impossible': False}),\n",
              " Prediction(uid=457, iid=1673, r_ui=4.0, est=3.5495003594018573, details={'actual_k': 40, 'was_impossible': False}),\n",
              " Prediction(uid=2032, iid=1036, r_ui=5.0, est=4.05, details={'actual_k': 40, 'was_impossible': False}),\n",
              " Prediction(uid=3197, iid=1541, r_ui=1.0, est=3.104368261324684, details={'actual_k': 40, 'was_impossible': False}),\n",
              " Prediction(uid=5605, iid=168, r_ui=4.0, est=3.3512607540359673, details={'actual_k': 40, 'was_impossible': False}),\n",
              " Prediction(uid=2907, iid=3926, r_ui=3.0, est=3.3732701675041694, details={'actual_k': 40, 'was_impossible': False}),\n",
              " Prediction(uid=4115, iid=494, r_ui=4.0, est=3.7268680122491453, details={'actual_k': 40, 'was_impossible': False}),\n",
              " Prediction(uid=517, iid=2950, r_ui=3.0, est=2.5245340070963915, details={'actual_k': 40, 'was_impossible': False}),\n",
              " Prediction(uid=5980, iid=2109, r_ui=3.0, est=3.800954975277812, details={'actual_k': 40, 'was_impossible': False}),\n",
              " Prediction(uid=3532, iid=2324, r_ui=5.0, est=4.275614279777613, details={'actual_k': 40, 'was_impossible': False}),\n",
              " Prediction(uid=2042, iid=3698, r_ui=3.0, est=3.3250500468635367, details={'actual_k': 40, 'was_impossible': False}),\n",
              " Prediction(uid=22, iid=173, r_ui=3.0, est=2.0989802477628956, details={'actual_k': 40, 'was_impossible': False}),\n",
              " Prediction(uid=3734, iid=1863, r_ui=2.0, est=2.276890596017764, details={'actual_k': 40, 'was_impossible': False}),\n",
              " Prediction(uid=4956, iid=3363, r_ui=3.0, est=4.05001142903248, details={'actual_k': 40, 'was_impossible': False}),\n",
              " Prediction(uid=306, iid=3916, r_ui=4.0, est=3.897957253214433, details={'actual_k': 40, 'was_impossible': False}),\n",
              " Prediction(uid=5492, iid=1097, r_ui=5.0, est=3.948854451038578, details={'actual_k': 40, 'was_impossible': False}),\n",
              " Prediction(uid=5765, iid=1215, r_ui=5.0, est=3.92642796056158, details={'actual_k': 40, 'was_impossible': False}),\n",
              " Prediction(uid=1635, iid=3788, r_ui=5.0, est=3.8490584009860696, details={'actual_k': 40, 'was_impossible': False}),\n",
              " Prediction(uid=3401, iid=3088, r_ui=5.0, est=4.376217094791301, details={'actual_k': 40, 'was_impossible': False}),\n",
              " Prediction(uid=929, iid=1200, r_ui=5.0, est=4.325371576288714, details={'actual_k': 40, 'was_impossible': False}),\n",
              " Prediction(uid=4261, iid=2078, r_ui=5.0, est=3.7495225541222967, details={'actual_k': 40, 'was_impossible': False}),\n",
              " Prediction(uid=4379, iid=781, r_ui=2.0, est=3.5764779637417474, details={'actual_k': 40, 'was_impossible': False}),\n",
              " Prediction(uid=4532, iid=1518, r_ui=5.0, est=3.850630618823614, details={'actual_k': 40, 'was_impossible': False}),\n",
              " Prediction(uid=935, iid=2712, r_ui=3.0, est=3.174432904592617, details={'actual_k': 40, 'was_impossible': False}),\n",
              " Prediction(uid=5831, iid=2797, r_ui=5.0, est=4.475049048951198, details={'actual_k': 40, 'was_impossible': False}),\n",
              " Prediction(uid=817, iid=1378, r_ui=3.0, est=3.8012914947786434, details={'actual_k': 40, 'was_impossible': False}),\n",
              " Prediction(uid=53, iid=2407, r_ui=4.0, est=3.924909729963165, details={'actual_k': 40, 'was_impossible': False}),\n",
              " Prediction(uid=2529, iid=1210, r_ui=5.0, est=4.199675774789041, details={'actual_k': 40, 'was_impossible': False}),\n",
              " Prediction(uid=4754, iid=2739, r_ui=5.0, est=4.449032521837092, details={'actual_k': 40, 'was_impossible': False}),\n",
              " Prediction(uid=780, iid=1405, r_ui=1.0, est=3.2502864045635853, details={'actual_k': 40, 'was_impossible': False}),\n",
              " Prediction(uid=4765, iid=800, r_ui=5.0, est=4.450187051744645, details={'actual_k': 40, 'was_impossible': False}),\n",
              " Prediction(uid=5795, iid=3426, r_ui=4.0, est=3.4983783671718025, details={'actual_k': 40, 'was_impossible': False}),\n",
              " Prediction(uid=3193, iid=780, r_ui=4.0, est=3.24983640033391, details={'actual_k': 40, 'was_impossible': False}),\n",
              " Prediction(uid=5905, iid=2530, r_ui=5.0, est=2.9962638122935754, details={'actual_k': 40, 'was_impossible': False}),\n",
              " Prediction(uid=2337, iid=1377, r_ui=3.0, est=3.0741786559146806, details={'actual_k': 40, 'was_impossible': False}),\n",
              " Prediction(uid=1383, iid=515, r_ui=3.0, est=4.151238160841922, details={'actual_k': 40, 'was_impossible': False}),\n",
              " Prediction(uid=2251, iid=2616, r_ui=3.0, est=2.950472364857664, details={'actual_k': 40, 'was_impossible': False}),\n",
              " Prediction(uid=4977, iid=1320, r_ui=2.0, est=3.1515079183092936, details={'actual_k': 40, 'was_impossible': False}),\n",
              " Prediction(uid=4354, iid=1124, r_ui=1.0, est=4.225625715925996, details={'actual_k': 40, 'was_impossible': False}),\n",
              " Prediction(uid=904, iid=590, r_ui=5.0, est=3.9241589216496955, details={'actual_k': 40, 'was_impossible': False}),\n",
              " Prediction(uid=3958, iid=1265, r_ui=5.0, est=3.8245484664602083, details={'actual_k': 40, 'was_impossible': False}),\n",
              " Prediction(uid=2229, iid=2628, r_ui=3.0, est=3.275, details={'actual_k': 40, 'was_impossible': False}),\n",
              " Prediction(uid=3578, iid=317, r_ui=2.0, est=3.5502490410871386, details={'actual_k': 40, 'was_impossible': False}),\n",
              " Prediction(uid=2944, iid=1513, r_ui=4.0, est=3.3742037015371142, details={'actual_k': 40, 'was_impossible': False}),\n",
              " Prediction(uid=5434, iid=2797, r_ui=4.0, est=4.324538546804315, details={'actual_k': 40, 'was_impossible': False}),\n",
              " Prediction(uid=2752, iid=2072, r_ui=2.0, est=3.1503777292926767, details={'actual_k': 40, 'was_impossible': False}),\n",
              " Prediction(uid=2844, iid=3266, r_ui=2.0, est=4.001903616496961, details={'actual_k': 40, 'was_impossible': False}),\n",
              " Prediction(uid=855, iid=57, r_ui=4.0, est=3.70161848351811, details={'actual_k': 40, 'was_impossible': False}),\n",
              " Prediction(uid=5575, iid=1806, r_ui=3.0, est=3.1511463155579547, details={'actual_k': 40, 'was_impossible': False}),\n",
              " Prediction(uid=3341, iid=194, r_ui=1.0, est=3.9261923977947064, details={'actual_k': 40, 'was_impossible': False}),\n",
              " Prediction(uid=1744, iid=858, r_ui=5.0, est=4.3, details={'actual_k': 40, 'was_impossible': False}),\n",
              " Prediction(uid=1611, iid=3409, r_ui=4.0, est=3.5004028169400194, details={'actual_k': 40, 'was_impossible': False}),\n",
              " Prediction(uid=570, iid=1033, r_ui=3.0, est=3.7753041680302344, details={'actual_k': 40, 'was_impossible': False}),\n",
              " Prediction(uid=2777, iid=2552, r_ui=2.0, est=2.199563027418067, details={'actual_k': 27, 'was_impossible': False}),\n",
              " Prediction(uid=3124, iid=1387, r_ui=4.0, est=3.75, details={'actual_k': 40, 'was_impossible': False}),\n",
              " Prediction(uid=1941, iid=2687, r_ui=3.0, est=3.898547641563604, details={'actual_k': 40, 'was_impossible': False}),\n",
              " Prediction(uid=3513, iid=2701, r_ui=1.0, est=2.1267072481176053, details={'actual_k': 40, 'was_impossible': False}),\n",
              " Prediction(uid=3834, iid=3578, r_ui=4.0, est=4.399609200951596, details={'actual_k': 40, 'was_impossible': False}),\n",
              " Prediction(uid=5138, iid=3246, r_ui=3.0, est=4.073571672946908, details={'actual_k': 40, 'was_impossible': False}),\n",
              " Prediction(uid=2624, iid=1103, r_ui=4.0, est=4.349869108300502, details={'actual_k': 40, 'was_impossible': False}),\n",
              " Prediction(uid=3727, iid=36, r_ui=4.0, est=3.998602046774316, details={'actual_k': 40, 'was_impossible': False}),\n",
              " Prediction(uid=3356, iid=164, r_ui=4.0, est=3.7746180182772244, details={'actual_k': 40, 'was_impossible': False}),\n",
              " Prediction(uid=1434, iid=260, r_ui=1.0, est=4.100053281988264, details={'actual_k': 40, 'was_impossible': False}),\n",
              " Prediction(uid=2063, iid=1231, r_ui=3.0, est=4.251290927589313, details={'actual_k': 40, 'was_impossible': False}),\n",
              " Prediction(uid=6019, iid=2995, r_ui=3.0, est=2.2254044031396356, details={'actual_k': 40, 'was_impossible': False}),\n",
              " Prediction(uid=3894, iid=592, r_ui=3.0, est=3.6743205474075458, details={'actual_k': 40, 'was_impossible': False}),\n",
              " Prediction(uid=5111, iid=3604, r_ui=4.0, est=4.051416216992077, details={'actual_k': 40, 'was_impossible': False}),\n",
              " Prediction(uid=946, iid=2455, r_ui=3.0, est=3.55, details={'actual_k': 40, 'was_impossible': False}),\n",
              " Prediction(uid=3741, iid=1291, r_ui=4.0, est=4.274968475826889, details={'actual_k': 40, 'was_impossible': False}),\n",
              " Prediction(uid=5240, iid=1188, r_ui=5.0, est=4.025, details={'actual_k': 40, 'was_impossible': False}),\n",
              " Prediction(uid=5886, iid=616, r_ui=2.0, est=3.6240030562428927, details={'actual_k': 40, 'was_impossible': False}),\n",
              " Prediction(uid=412, iid=2885, r_ui=3.0, est=3.277206605204444, details={'actual_k': 40, 'was_impossible': False}),\n",
              " Prediction(uid=5579, iid=2710, r_ui=3.0, est=3.45, details={'actual_k': 40, 'was_impossible': False}),\n",
              " Prediction(uid=5767, iid=2471, r_ui=4.0, est=3.1754881155533563, details={'actual_k': 40, 'was_impossible': False}),\n",
              " Prediction(uid=838, iid=2628, r_ui=3.0, est=3.4, details={'actual_k': 40, 'was_impossible': False}),\n",
              " Prediction(uid=5709, iid=3764, r_ui=2.0, est=2.9970383723381513, details={'actual_k': 40, 'was_impossible': False}),\n",
              " Prediction(uid=1224, iid=3304, r_ui=4.0, est=3.7323167056469755, details={'actual_k': 40, 'was_impossible': False}),\n",
              " Prediction(uid=2231, iid=2000, r_ui=3.0, est=4.050707343360957, details={'actual_k': 40, 'was_impossible': False}),\n",
              " Prediction(uid=4059, iid=2791, r_ui=3.0, est=4.075, details={'actual_k': 40, 'was_impossible': False}),\n",
              " Prediction(uid=3516, iid=3479, r_ui=3.0, est=3.750911249878867, details={'actual_k': 40, 'was_impossible': False}),\n",
              " Prediction(uid=3380, iid=2670, r_ui=4.0, est=3.8749912039887877, details={'actual_k': 40, 'was_impossible': False}),\n",
              " Prediction(uid=1014, iid=1556, r_ui=3.0, est=2.1247225651730437, details={'actual_k': 40, 'was_impossible': False}),\n",
              " Prediction(uid=1112, iid=2770, r_ui=4.0, est=3.250370403281928, details={'actual_k': 40, 'was_impossible': False}),\n",
              " Prediction(uid=1972, iid=858, r_ui=4.0, est=4.350017205587696, details={'actual_k': 40, 'was_impossible': False}),\n",
              " Prediction(uid=2753, iid=3198, r_ui=4.0, est=4.200557735769724, details={'actual_k': 40, 'was_impossible': False}),\n",
              " Prediction(uid=5580, iid=3197, r_ui=5.0, est=3.2233675590602107, details={'actual_k': 40, 'was_impossible': False}),\n",
              " Prediction(uid=411, iid=2390, r_ui=2.0, est=3.8006986850821067, details={'actual_k': 40, 'was_impossible': False}),\n",
              " Prediction(uid=2820, iid=541, r_ui=5.0, est=4.600148812772037, details={'actual_k': 40, 'was_impossible': False}),\n",
              " Prediction(uid=3315, iid=1343, r_ui=2.0, est=3.9754909961983835, details={'actual_k': 40, 'was_impossible': False}),\n",
              " Prediction(uid=5557, iid=1199, r_ui=5.0, est=4.300957425671862, details={'actual_k': 40, 'was_impossible': False}),\n",
              " Prediction(uid=3469, iid=2717, r_ui=4.0, est=3.1251068450823194, details={'actual_k': 40, 'was_impossible': False}),\n",
              " Prediction(uid=169, iid=2709, r_ui=2.0, est=3.4241645003646735, details={'actual_k': 40, 'was_impossible': False}),\n",
              " Prediction(uid=2484, iid=2392, r_ui=3.0, est=2.8265417405082522, details={'actual_k': 40, 'was_impossible': False}),\n",
              " Prediction(uid=1448, iid=2472, r_ui=3.0, est=3.1504529055775063, details={'actual_k': 40, 'was_impossible': False}),\n",
              " Prediction(uid=4085, iid=2762, r_ui=5.0, est=4.77470909298028, details={'actual_k': 40, 'was_impossible': False}),\n",
              " Prediction(uid=4060, iid=2366, r_ui=3.0, est=4.200207047506457, details={'actual_k': 40, 'was_impossible': False}),\n",
              " Prediction(uid=3163, iid=1591, r_ui=4.0, est=3.073404352783466, details={'actual_k': 40, 'was_impossible': False}),\n",
              " Prediction(uid=4220, iid=2836, r_ui=4.0, est=3.6253884679799446, details={'actual_k': 40, 'was_impossible': False}),\n",
              " Prediction(uid=26, iid=1246, r_ui=3.0, est=4.250068818231299, details={'actual_k': 40, 'was_impossible': False}),\n",
              " Prediction(uid=3905, iid=3108, r_ui=4.0, est=3.7753712068834053, details={'actual_k': 40, 'was_impossible': False}),\n",
              " Prediction(uid=126, iid=2369, r_ui=5.0, est=2.65, details={'actual_k': 40, 'was_impossible': False}),\n",
              " Prediction(uid=1015, iid=3448, r_ui=2.0, est=3.9996089762064813, details={'actual_k': 40, 'was_impossible': False}),\n",
              " Prediction(uid=5753, iid=1036, r_ui=5.0, est=4.0993873844699085, details={'actual_k': 40, 'was_impossible': False}),\n",
              " Prediction(uid=3621, iid=2194, r_ui=4.0, est=4.151695193268885, details={'actual_k': 40, 'was_impossible': False}),\n",
              " Prediction(uid=2536, iid=2496, r_ui=3.0, est=3.4492687716272834, details={'actual_k': 40, 'was_impossible': False}),\n",
              " Prediction(uid=5667, iid=1097, r_ui=4.0, est=3.924863256369378, details={'actual_k': 40, 'was_impossible': False}),\n",
              " Prediction(uid=5574, iid=1093, r_ui=3.0, est=3.6510004273309007, details={'actual_k': 40, 'was_impossible': False}),\n",
              " Prediction(uid=4508, iid=2890, r_ui=4.0, est=4.2997202063589315, details={'actual_k': 40, 'was_impossible': False}),\n",
              " Prediction(uid=3299, iid=3671, r_ui=4.0, est=4.149731283569319, details={'actual_k': 40, 'was_impossible': False}),\n",
              " Prediction(uid=4375, iid=292, r_ui=4.0, est=3.6747828279173724, details={'actual_k': 40, 'was_impossible': False}),\n",
              " Prediction(uid=5061, iid=1911, r_ui=3.0, est=3.1005702471679126, details={'actual_k': 40, 'was_impossible': False}),\n",
              " Prediction(uid=5543, iid=3699, r_ui=3.0, est=3.7751412509629896, details={'actual_k': 40, 'was_impossible': False}),\n",
              " Prediction(uid=4033, iid=216, r_ui=3.0, est=3.6251663771412033, details={'actual_k': 40, 'was_impossible': False}),\n",
              " Prediction(uid=4535, iid=3628, r_ui=4.0, est=3.475785569028501, details={'actual_k': 40, 'was_impossible': False}),\n",
              " Prediction(uid=528, iid=588, r_ui=4.0, est=3.923744279755135, details={'actual_k': 40, 'was_impossible': False}),\n",
              " Prediction(uid=3032, iid=586, r_ui=4.0, est=3.649313324128965, details={'actual_k': 40, 'was_impossible': False}),\n",
              " Prediction(uid=4277, iid=3763, r_ui=5.0, est=4.1749338911208165, details={'actual_k': 40, 'was_impossible': False}),\n",
              " Prediction(uid=1019, iid=2925, r_ui=5.0, est=4.159536404640361, details={'actual_k': 40, 'was_impossible': False}),\n",
              " Prediction(uid=5023, iid=3776, r_ui=4.0, est=3.416482718407271, details={'actual_k': 18, 'was_impossible': False}),\n",
              " Prediction(uid=1279, iid=344, r_ui=3.0, est=3.048023677260128, details={'actual_k': 40, 'was_impossible': False}),\n",
              " Prediction(uid=778, iid=3153, r_ui=3.0, est=3.6752345390318766, details={'actual_k': 40, 'was_impossible': False}),\n",
              " Prediction(uid=1350, iid=2599, r_ui=2.0, est=3.9503375676464865, details={'actual_k': 40, 'was_impossible': False}),\n",
              " Prediction(uid=1749, iid=1131, r_ui=3.0, est=4.42530473328836, details={'actual_k': 40, 'was_impossible': False}),\n",
              " Prediction(uid=1432, iid=858, r_ui=3.0, est=4.575, details={'actual_k': 40, 'was_impossible': False}),\n",
              " Prediction(uid=3603, iid=1686, r_ui=3.0, est=3.322319771024157, details={'actual_k': 40, 'was_impossible': False}),\n",
              " Prediction(uid=596, iid=587, r_ui=3.0, est=3.825, details={'actual_k': 40, 'was_impossible': False}),\n",
              " Prediction(uid=2589, iid=457, r_ui=4.0, est=4.350308297954443, details={'actual_k': 40, 'was_impossible': False}),\n",
              " Prediction(uid=2290, iid=329, r_ui=3.0, est=3.6749783139648824, details={'actual_k': 40, 'was_impossible': False}),\n",
              " Prediction(uid=1383, iid=5, r_ui=3.0, est=2.747209016655931, details={'actual_k': 40, 'was_impossible': False}),\n",
              " Prediction(uid=2398, iid=1271, r_ui=4.0, est=3.9998084335524555, details={'actual_k': 40, 'was_impossible': False}),\n",
              " Prediction(uid=3017, iid=195, r_ui=2.0, est=3.001722547332848, details={'actual_k': 40, 'was_impossible': False}),\n",
              " Prediction(uid=1941, iid=2379, r_ui=2.0, est=2.624781430667425, details={'actual_k': 40, 'was_impossible': False}),\n",
              " Prediction(uid=4384, iid=2378, r_ui=4.0, est=3.524626369508944, details={'actual_k': 40, 'was_impossible': False}),\n",
              " Prediction(uid=5539, iid=2080, r_ui=2.0, est=4.19984715730909, details={'actual_k': 40, 'was_impossible': False}),\n",
              " Prediction(uid=1611, iid=2455, r_ui=4.0, est=3.6996779095652985, details={'actual_k': 40, 'was_impossible': False}),\n",
              " Prediction(uid=785, iid=173, r_ui=3.0, est=2.420039548200671, details={'actual_k': 40, 'was_impossible': False}),\n",
              " Prediction(uid=1597, iid=1222, r_ui=5.0, est=4.1981249392409214, details={'actual_k': 40, 'was_impossible': False}),\n",
              " Prediction(uid=4505, iid=3529, r_ui=4.0, est=3.92290697548929, details={'actual_k': 40, 'was_impossible': False}),\n",
              " Prediction(uid=5763, iid=1760, r_ui=3.0, est=2.2748811364192183, details={'actual_k': 40, 'was_impossible': False}),\n",
              " Prediction(uid=2745, iid=329, r_ui=4.0, est=3.825981976515913, details={'actual_k': 40, 'was_impossible': False}),\n",
              " Prediction(uid=163, iid=544, r_ui=2.0, est=2.899028615043759, details={'actual_k': 40, 'was_impossible': False}),\n",
              " Prediction(uid=5763, iid=1517, r_ui=3.0, est=3.8518364398100093, details={'actual_k': 40, 'was_impossible': False}),\n",
              " Prediction(uid=2649, iid=765, r_ui=1.0, est=3.0248292573333404, details={'actual_k': 40, 'was_impossible': False}),\n",
              " Prediction(uid=3415, iid=3751, r_ui=4.0, est=4.2247466546369425, details={'actual_k': 40, 'was_impossible': False}),\n",
              " Prediction(uid=2941, iid=3070, r_ui=4.0, est=3.776172709373838, details={'actual_k': 40, 'was_impossible': False}),\n",
              " Prediction(uid=3250, iid=2700, r_ui=3.0, est=3.94849018999945, details={'actual_k': 40, 'was_impossible': False}),\n",
              " Prediction(uid=3471, iid=1661, r_ui=3.0, est=3.25006622463219, details={'actual_k': 40, 'was_impossible': False}),\n",
              " Prediction(uid=323, iid=3053, r_ui=3.0, est=3.1232082517356097, details={'actual_k': 40, 'was_impossible': False}),\n",
              " Prediction(uid=1125, iid=1126, r_ui=4.0, est=2.697592783262437, details={'actual_k': 40, 'was_impossible': False}),\n",
              " Prediction(uid=1941, iid=1680, r_ui=4.0, est=4.024109811834652, details={'actual_k': 40, 'was_impossible': False}),\n",
              " Prediction(uid=4607, iid=2890, r_ui=4.0, est=4.250260930907765, details={'actual_k': 40, 'was_impossible': False}),\n",
              " Prediction(uid=3713, iid=474, r_ui=4.0, est=4.1496414058402165, details={'actual_k': 40, 'was_impossible': False}),\n",
              " Prediction(uid=945, iid=17, r_ui=3.0, est=4.023597144950023, details={'actual_k': 40, 'was_impossible': False}),\n",
              " Prediction(uid=1899, iid=1810, r_ui=4.0, est=3.750510538330356, details={'actual_k': 40, 'was_impossible': False}),\n",
              " Prediction(uid=15, iid=587, r_ui=3.0, est=4.175273151687408, details={'actual_k': 40, 'was_impossible': False}),\n",
              " Prediction(uid=5842, iid=1374, r_ui=3.0, est=3.949474981745954, details={'actual_k': 40, 'was_impossible': False}),\n",
              " Prediction(uid=3837, iid=1302, r_ui=3.0, est=4.124613750335154, details={'actual_k': 40, 'was_impossible': False}),\n",
              " Prediction(uid=3044, iid=1136, r_ui=4.0, est=4.299394094161933, details={'actual_k': 40, 'was_impossible': False}),\n",
              " Prediction(uid=1447, iid=904, r_ui=4.0, est=4.5502282542070525, details={'actual_k': 40, 'was_impossible': False}),\n",
              " Prediction(uid=2428, iid=3341, r_ui=5.0, est=4.024206683538751, details={'actual_k': 40, 'was_impossible': False}),\n",
              " Prediction(uid=2566, iid=2803, r_ui=3.0, est=3.697671804434842, details={'actual_k': 40, 'was_impossible': False}),\n",
              " Prediction(uid=2781, iid=1207, r_ui=4.0, est=4.600881052636144, details={'actual_k': 40, 'was_impossible': False}),\n",
              " Prediction(uid=1483, iid=3108, r_ui=4.0, est=3.7782795047078443, details={'actual_k': 40, 'was_impossible': False}),\n",
              " Prediction(uid=1687, iid=2468, r_ui=3.0, est=3.2246787308204614, details={'actual_k': 40, 'was_impossible': False}),\n",
              " Prediction(uid=4004, iid=1049, r_ui=3.0, est=3.3067318042112324, details={'actual_k': 40, 'was_impossible': False}),\n",
              " Prediction(uid=3930, iid=900, r_ui=4.0, est=4.425064276743038, details={'actual_k': 40, 'was_impossible': False}),\n",
              " Prediction(uid=1701, iid=3115, r_ui=4.0, est=3.4767057000868644, details={'actual_k': 40, 'was_impossible': False}),\n",
              " Prediction(uid=4533, iid=1198, r_ui=3.0, est=4.25, details={'actual_k': 40, 'was_impossible': False}),\n",
              " Prediction(uid=331, iid=1366, r_ui=2.0, est=3.376733386067903, details={'actual_k': 40, 'was_impossible': False}),\n",
              " Prediction(uid=4291, iid=2115, r_ui=5.0, est=4.023520043343559, details={'actual_k': 40, 'was_impossible': False}),\n",
              " Prediction(uid=1698, iid=3435, r_ui=4.0, est=4.699834439415842, details={'actual_k': 40, 'was_impossible': False}),\n",
              " Prediction(uid=31, iid=1235, r_ui=3.0, est=4.075650936712012, details={'actual_k': 40, 'was_impossible': False}),\n",
              " Prediction(uid=3913, iid=3578, r_ui=4.0, est=4.075229677657033, details={'actual_k': 40, 'was_impossible': False}),\n",
              " Prediction(uid=4223, iid=1584, r_ui=3.0, est=4.150813676143705, details={'actual_k': 40, 'was_impossible': False}),\n",
              " Prediction(uid=4607, iid=2599, r_ui=5.0, est=4.300456705154206, details={'actual_k': 40, 'was_impossible': False}),\n",
              " Prediction(uid=869, iid=1441, r_ui=3.0, est=3.549331882833519, details={'actual_k': 40, 'was_impossible': False}),\n",
              " Prediction(uid=2088, iid=2681, r_ui=3.0, est=3.6337912377431003, details={'actual_k': 32, 'was_impossible': False}),\n",
              " Prediction(uid=5111, iid=3219, r_ui=3.0, est=3.450156099658954, details={'actual_k': 40, 'was_impossible': False}),\n",
              " Prediction(uid=4009, iid=1623, r_ui=3.0, est=2.023006348303046, details={'actual_k': 40, 'was_impossible': False}),\n",
              " Prediction(uid=4615, iid=2000, r_ui=3.0, est=4.049560378240237, details={'actual_k': 40, 'was_impossible': False}),\n",
              " Prediction(uid=5134, iid=2132, r_ui=5.0, est=4.170257738538733, details={'actual_k': 40, 'was_impossible': False}),\n",
              " Prediction(uid=4579, iid=1237, r_ui=5.0, est=4.474211083270127, details={'actual_k': 40, 'was_impossible': False}),\n",
              " Prediction(uid=3603, iid=1198, r_ui=5.0, est=4.373996550675381, details={'actual_k': 40, 'was_impossible': False}),\n",
              " Prediction(uid=3618, iid=765, r_ui=3.0, est=3.0760110650839736, details={'actual_k': 40, 'was_impossible': False}),\n",
              " Prediction(uid=577, iid=1358, r_ui=5.0, est=4.32428307406195, details={'actual_k': 40, 'was_impossible': False}),\n",
              " Prediction(uid=2029, iid=1029, r_ui=2.0, est=3.576578900833061, details={'actual_k': 40, 'was_impossible': False}),\n",
              " Prediction(uid=5603, iid=1997, r_ui=1.0, est=3.7987082890709725, details={'actual_k': 40, 'was_impossible': False}),\n",
              " Prediction(uid=2482, iid=410, r_ui=1.0, est=2.8226929609780935, details={'actual_k': 40, 'was_impossible': False}),\n",
              " Prediction(uid=1242, iid=999, r_ui=4.0, est=3.4759436871113283, details={'actual_k': 40, 'was_impossible': False}),\n",
              " Prediction(uid=2995, iid=3927, r_ui=4.0, est=3.826337976094226, details={'actual_k': 40, 'was_impossible': False}),\n",
              " Prediction(uid=608, iid=3454, r_ui=4.0, est=2.4980013719606298, details={'actual_k': 29, 'was_impossible': False}),\n",
              " Prediction(uid=4508, iid=3024, r_ui=2.0, est=2.351566773725096, details={'actual_k': 40, 'was_impossible': False}),\n",
              " Prediction(uid=53, iid=296, r_ui=5.0, est=4.7501191492531225, details={'actual_k': 40, 'was_impossible': False}),\n",
              " Prediction(uid=698, iid=532, r_ui=5.0, est=3.227954691124054, details={'actual_k': 40, 'was_impossible': False}),\n",
              " Prediction(uid=4277, iid=223, r_ui=5.0, est=4.400135059582885, details={'actual_k': 40, 'was_impossible': False}),\n",
              " Prediction(uid=4957, iid=2289, r_ui=5.0, est=4.225101965738455, details={'actual_k': 40, 'was_impossible': False}),\n",
              " Prediction(uid=358, iid=912, r_ui=3.0, est=4.325, details={'actual_k': 40, 'was_impossible': False}),\n",
              " Prediction(uid=1457, iid=2150, r_ui=4.0, est=4.073878048655219, details={'actual_k': 40, 'was_impossible': False}),\n",
              " Prediction(uid=1631, iid=2496, r_ui=4.0, est=3.7256124101982855, details={'actual_k': 40, 'was_impossible': False}),\n",
              " Prediction(uid=5378, iid=466, r_ui=2.0, est=2.9249755619060958, details={'actual_k': 40, 'was_impossible': False}),\n",
              " Prediction(uid=5972, iid=2816, r_ui=2.0, est=2.2258723569241434, details={'actual_k': 40, 'was_impossible': False}),\n",
              " Prediction(uid=4512, iid=3441, r_ui=4.0, est=3.8007923224427262, details={'actual_k': 40, 'was_impossible': False}),\n",
              " Prediction(uid=4779, iid=1272, r_ui=5.0, est=4.6001332574476566, details={'actual_k': 40, 'was_impossible': False}),\n",
              " Prediction(uid=202, iid=3471, r_ui=4.0, est=4.0487281007450555, details={'actual_k': 40, 'was_impossible': False}),\n",
              " Prediction(uid=3401, iid=2078, r_ui=4.0, est=4.025743261218943, details={'actual_k': 40, 'was_impossible': False}),\n",
              " Prediction(uid=4351, iid=3717, r_ui=4.0, est=3.474213737988042, details={'actual_k': 40, 'was_impossible': False}),\n",
              " Prediction(uid=2030, iid=2017, r_ui=3.0, est=3.299567754950168, details={'actual_k': 40, 'was_impossible': False}),\n",
              " Prediction(uid=4460, iid=2628, r_ui=4.0, est=3.25, details={'actual_k': 40, 'was_impossible': False}),\n",
              " Prediction(uid=5234, iid=3019, r_ui=4.0, est=4.299922648084216, details={'actual_k': 40, 'was_impossible': False}),\n",
              " Prediction(uid=2465, iid=2819, r_ui=4.0, est=4.400347415097141, details={'actual_k': 40, 'was_impossible': False}),\n",
              " Prediction(uid=1215, iid=306, r_ui=5.0, est=4.3994840423183135, details={'actual_k': 40, 'was_impossible': False}),\n",
              " Prediction(uid=4508, iid=2947, r_ui=5.0, est=4.050086670413676, details={'actual_k': 40, 'was_impossible': False}),\n",
              " Prediction(uid=5350, iid=1126, r_ui=2.0, est=2.276791545658852, details={'actual_k': 40, 'was_impossible': False}),\n",
              " Prediction(uid=1078, iid=2146, r_ui=4.0, est=3.573895635766773, details={'actual_k': 40, 'was_impossible': False}),\n",
              " Prediction(uid=1264, iid=317, r_ui=2.0, est=3.225558872510119, details={'actual_k': 40, 'was_impossible': False}),\n",
              " Prediction(uid=618, iid=2291, r_ui=3.0, est=3.45, details={'actual_k': 40, 'was_impossible': False}),\n",
              " Prediction(uid=5645, iid=2294, r_ui=5.0, est=3.8499175182226564, details={'actual_k': 40, 'was_impossible': False}),\n",
              " Prediction(uid=5239, iid=2340, r_ui=4.0, est=3.3741437609334595, details={'actual_k': 40, 'was_impossible': False}),\n",
              " Prediction(uid=1207, iid=1894, r_ui=3.0, est=3.099497965819662, details={'actual_k': 40, 'was_impossible': False}),\n",
              " Prediction(uid=2223, iid=881, r_ui=2.0, est=2.7304551968447592, details={'actual_k': 40, 'was_impossible': False}),\n",
              " Prediction(uid=3378, iid=1200, r_ui=4.0, est=3.99985225896301, details={'actual_k': 40, 'was_impossible': False}),\n",
              " Prediction(uid=2015, iid=66, r_ui=2.0, est=1.8763037575500872, details={'actual_k': 40, 'was_impossible': False}),\n",
              " Prediction(uid=952, iid=1544, r_ui=3.0, est=3.1751701047153658, details={'actual_k': 40, 'was_impossible': False}),\n",
              " Prediction(uid=4648, iid=520, r_ui=4.0, est=2.7997781163589517, details={'actual_k': 40, 'was_impossible': False}),\n",
              " Prediction(uid=3208, iid=1210, r_ui=5.0, est=3.699546539478704, details={'actual_k': 40, 'was_impossible': False}),\n",
              " Prediction(uid=157, iid=910, r_ui=3.0, est=4.6254278144269545, details={'actual_k': 40, 'was_impossible': False}),\n",
              " Prediction(uid=3902, iid=3434, r_ui=5.0, est=2.1338356967364174, details={'actual_k': 28, 'was_impossible': False}),\n",
              " Prediction(uid=3377, iid=1179, r_ui=3.0, est=3.9, details={'actual_k': 40, 'was_impossible': False}),\n",
              " Prediction(uid=1244, iid=170, r_ui=3.0, est=2.8247448138424724, details={'actual_k': 40, 'was_impossible': False}),\n",
              " Prediction(uid=1825, iid=3148, r_ui=2.0, est=3.9730603236428235, details={'actual_k': 40, 'was_impossible': False}),\n",
              " Prediction(uid=176, iid=3087, r_ui=5.0, est=3.3748629098590617, details={'actual_k': 40, 'was_impossible': False}),\n",
              " Prediction(uid=770, iid=2447, r_ui=1.0, est=3.3503008496591646, details={'actual_k': 40, 'was_impossible': False}),\n",
              " Prediction(uid=601, iid=111, r_ui=4.0, est=4.224542785010847, details={'actual_k': 40, 'was_impossible': False}),\n",
              " Prediction(uid=5585, iid=800, r_ui=4.0, est=4.1499376598160715, details={'actual_k': 40, 'was_impossible': False}),\n",
              " Prediction(uid=3299, iid=1196, r_ui=5.0, est=4.073952856681936, details={'actual_k': 40, 'was_impossible': False}),\n",
              " Prediction(uid=3499, iid=2692, r_ui=5.0, est=4.47472711163997, details={'actual_k': 40, 'was_impossible': False}),\n",
              " Prediction(uid=2592, iid=517, r_ui=4.0, est=3.674865568475279, details={'actual_k': 40, 'was_impossible': False}),\n",
              " Prediction(uid=2777, iid=866, r_ui=4.0, est=3.97203725170517, details={'actual_k': 40, 'was_impossible': False}),\n",
              " Prediction(uid=4682, iid=3114, r_ui=4.0, est=4.250580503440876, details={'actual_k': 40, 'was_impossible': False}),\n",
              " Prediction(uid=2339, iid=933, r_ui=5.0, est=4.15, details={'actual_k': 40, 'was_impossible': False}),\n",
              " Prediction(uid=5443, iid=2617, r_ui=5.0, est=3.500253301693379, details={'actual_k': 40, 'was_impossible': False}),\n",
              " Prediction(uid=2174, iid=1513, r_ui=2.0, est=3.150766584458602, details={'actual_k': 40, 'was_impossible': False}),\n",
              " Prediction(uid=3489, iid=1259, r_ui=4.0, est=4.123423450084234, details={'actual_k': 40, 'was_impossible': False}),\n",
              " Prediction(uid=2108, iid=2762, r_ui=5.0, est=4.475, details={'actual_k': 40, 'was_impossible': False}),\n",
              " Prediction(uid=3394, iid=3068, r_ui=5.0, est=4.124643796565601, details={'actual_k': 40, 'was_impossible': False}),\n",
              " Prediction(uid=3705, iid=288, r_ui=4.0, est=3.699272955594864, details={'actual_k': 40, 'was_impossible': False}),\n",
              " Prediction(uid=3345, iid=1084, r_ui=3.0, est=4.2242540232693555, details={'actual_k': 40, 'was_impossible': False}),\n",
              " Prediction(uid=5312, iid=1562, r_ui=3.0, est=2.8239513076662806, details={'actual_k': 40, 'was_impossible': False}),\n",
              " Prediction(uid=4186, iid=1269, r_ui=4.0, est=4.299409016681411, details={'actual_k': 40, 'was_impossible': False}),\n",
              " Prediction(uid=5545, iid=1372, r_ui=4.0, est=3.6739548891905276, details={'actual_k': 40, 'was_impossible': False}),\n",
              " Prediction(uid=5310, iid=3739, r_ui=5.0, est=3.875423827300555, details={'actual_k': 27, 'was_impossible': False}),\n",
              " Prediction(uid=4169, iid=1569, r_ui=4.0, est=3.4996910887748913, details={'actual_k': 40, 'was_impossible': False}),\n",
              " Prediction(uid=5201, iid=3203, r_ui=4.0, est=3.550005870215617, details={'actual_k': 40, 'was_impossible': False}),\n",
              " Prediction(uid=1019, iid=1772, r_ui=2.0, est=2.051871710550493, details={'actual_k': 40, 'was_impossible': False}),\n",
              " Prediction(uid=2306, iid=2502, r_ui=1.0, est=3.675, details={'actual_k': 40, 'was_impossible': False}),\n",
              " Prediction(uid=4466, iid=3342, r_ui=4.0, est=4.150950945846058, details={'actual_k': 40, 'was_impossible': False}),\n",
              " Prediction(uid=4292, iid=2710, r_ui=2.0, est=3.2005414203730753, details={'actual_k': 40, 'was_impossible': False}),\n",
              " Prediction(uid=1244, iid=3911, r_ui=3.0, est=4.250626162944755, details={'actual_k': 40, 'was_impossible': False}),\n",
              " Prediction(uid=1050, iid=2841, r_ui=2.0, est=3.8515266258975625, details={'actual_k': 40, 'was_impossible': False}),\n",
              " Prediction(uid=5233, iid=3753, r_ui=3.0, est=4.15, details={'actual_k': 40, 'was_impossible': False}),\n",
              " Prediction(uid=5868, iid=1272, r_ui=4.0, est=4.375256171007004, details={'actual_k': 40, 'was_impossible': False}),\n",
              " Prediction(uid=4505, iid=3708, r_ui=4.0, est=3.6005252387996767, details={'actual_k': 40, 'was_impossible': False}),\n",
              " Prediction(uid=1642, iid=3359, r_ui=5.0, est=4.050311709452535, details={'actual_k': 40, 'was_impossible': False}),\n",
              " Prediction(uid=4265, iid=1321, r_ui=4.0, est=4.1276949435726875, details={'actual_k': 40, 'was_impossible': False}),\n",
              " Prediction(uid=5801, iid=329, r_ui=3.0, est=3.6752170403633375, details={'actual_k': 40, 'was_impossible': False}),\n",
              " Prediction(uid=2015, iid=2431, r_ui=2.0, est=3.172454889711185, details={'actual_k': 40, 'was_impossible': False}),\n",
              " Prediction(uid=1880, iid=3040, r_ui=3.0, est=3.599670564316637, details={'actual_k': 40, 'was_impossible': False}),\n",
              " Prediction(uid=1781, iid=2713, r_ui=4.0, est=2.2254625178319554, details={'actual_k': 40, 'was_impossible': False}),\n",
              " Prediction(uid=5625, iid=2599, r_ui=4.0, est=3.8501076355595303, details={'actual_k': 40, 'was_impossible': False}),\n",
              " Prediction(uid=4511, iid=3145, r_ui=3.0, est=3.2993372513097756, details={'actual_k': 40, 'was_impossible': False}),\n",
              " Prediction(uid=147, iid=459, r_ui=3.0, est=3.225387803047038, details={'actual_k': 40, 'was_impossible': False}),\n",
              " Prediction(uid=2427, iid=2687, r_ui=3.0, est=4.124387033851008, details={'actual_k': 40, 'was_impossible': False}),\n",
              " Prediction(uid=4910, iid=2826, r_ui=4.0, est=3.350915994742862, details={'actual_k': 40, 'was_impossible': False}),\n",
              " Prediction(uid=4161, iid=454, r_ui=2.0, est=3.17805667214272, details={'actual_k': 40, 'was_impossible': False}),\n",
              " Prediction(uid=329, iid=2405, r_ui=3.0, est=3.2733118798266414, details={'actual_k': 40, 'was_impossible': False}),\n",
              " Prediction(uid=2178, iid=3684, r_ui=4.0, est=3.6250521518554453, details={'actual_k': 40, 'was_impossible': False}),\n",
              " Prediction(uid=4995, iid=1660, r_ui=5.0, est=3.7004425971496246, details={'actual_k': 40, 'was_impossible': False}),\n",
              " Prediction(uid=1775, iid=3016, r_ui=3.0, est=2.9986486354011554, details={'actual_k': 40, 'was_impossible': False}),\n",
              " Prediction(uid=4379, iid=1994, r_ui=3.0, est=3.9989234434243186, details={'actual_k': 40, 'was_impossible': False}),\n",
              " Prediction(uid=1527, iid=541, r_ui=4.0, est=4.475051100424968, details={'actual_k': 40, 'was_impossible': False}),\n",
              " Prediction(uid=5698, iid=3394, r_ui=3.0, est=3.09774979445888, details={'actual_k': 40, 'was_impossible': False}),\n",
              " Prediction(uid=4691, iid=1177, r_ui=5.0, est=4.201342034666554, details={'actual_k': 40, 'was_impossible': False}),\n",
              " Prediction(uid=6025, iid=3273, r_ui=3.0, est=2.802022257513871, details={'actual_k': 40, 'was_impossible': False}),\n",
              " Prediction(uid=2010, iid=663, r_ui=3.0, est=3.3237562195577515, details={'actual_k': 40, 'was_impossible': False}),\n",
              " Prediction(uid=1491, iid=497, r_ui=5.0, est=4.1506283995167585, details={'actual_k': 40, 'was_impossible': False}),\n",
              " Prediction(uid=4073, iid=1250, r_ui=4.0, est=4.3, details={'actual_k': 40, 'was_impossible': False}),\n",
              " Prediction(uid=4497, iid=3706, r_ui=3.0, est=3.450653960040339, details={'actual_k': 40, 'was_impossible': False}),\n",
              " Prediction(uid=2077, iid=1120, r_ui=4.0, est=3.7506679237294893, details={'actual_k': 40, 'was_impossible': False}),\n",
              " Prediction(uid=4322, iid=1994, r_ui=4.0, est=3.721323729070941, details={'actual_k': 40, 'was_impossible': False}),\n",
              " Prediction(uid=1390, iid=2720, r_ui=2.0, est=2.300819763013436, details={'actual_k': 40, 'was_impossible': False}),\n",
              " Prediction(uid=922, iid=2803, r_ui=3.0, est=3.477833050983333, details={'actual_k': 40, 'was_impossible': False}),\n",
              " Prediction(uid=3667, iid=1104, r_ui=5.0, est=4.375, details={'actual_k': 40, 'was_impossible': False}),\n",
              " Prediction(uid=3934, iid=921, r_ui=3.0, est=4.048239035633164, details={'actual_k': 40, 'was_impossible': False}),\n",
              " Prediction(uid=3349, iid=2803, r_ui=5.0, est=3.699106161620267, details={'actual_k': 40, 'was_impossible': False}),\n",
              " Prediction(uid=5880, iid=3671, r_ui=3.0, est=4.075266641031654, details={'actual_k': 40, 'was_impossible': False}),\n",
              " Prediction(uid=3582, iid=2051, r_ui=4.0, est=2.853341917906594, details={'actual_k': 40, 'was_impossible': False}),\n",
              " Prediction(uid=4841, iid=1261, r_ui=4.0, est=3.873186082342453, details={'actual_k': 40, 'was_impossible': False}),\n",
              " Prediction(uid=3576, iid=2422, r_ui=3.0, est=2.85020228434614, details={'actual_k': 40, 'was_impossible': False}),\n",
              " Prediction(uid=3620, iid=778, r_ui=2.0, est=4.300218036473124, details={'actual_k': 40, 'was_impossible': False}),\n",
              " Prediction(uid=1059, iid=3809, r_ui=2.0, est=3.500151475981549, details={'actual_k': 40, 'was_impossible': False}),\n",
              " Prediction(uid=3621, iid=1747, r_ui=3.0, est=3.7500777509560326, details={'actual_k': 40, 'was_impossible': False}),\n",
              " Prediction(uid=2986, iid=1358, r_ui=4.0, est=4.574592195696964, details={'actual_k': 40, 'was_impossible': False}),\n",
              " Prediction(uid=3400, iid=1518, r_ui=3.0, est=3.5996966215693256, details={'actual_k': 40, 'was_impossible': False}),\n",
              " Prediction(uid=2252, iid=2505, r_ui=3.0, est=3.2002096371217523, details={'actual_k': 40, 'was_impossible': False}),\n",
              " Prediction(uid=4118, iid=2313, r_ui=4.0, est=4.275061358508986, details={'actual_k': 40, 'was_impossible': False}),\n",
              " Prediction(uid=5424, iid=2724, r_ui=3.0, est=3.4251966287633895, details={'actual_k': 40, 'was_impossible': False}),\n",
              " Prediction(uid=2129, iid=3418, r_ui=4.0, est=4.050933432463044, details={'actual_k': 40, 'was_impossible': False}),\n",
              " Prediction(uid=3546, iid=457, r_ui=3.0, est=4.175352709665005, details={'actual_k': 40, 'was_impossible': False}),\n",
              " Prediction(uid=5874, iid=3006, r_ui=4.0, est=4.300748187394207, details={'actual_k': 40, 'was_impossible': False}),\n",
              " Prediction(uid=4465, iid=2712, r_ui=4.0, est=3.15, details={'actual_k': 40, 'was_impossible': False}),\n",
              " Prediction(uid=3158, iid=3751, r_ui=4.0, est=4.125046411107789, details={'actual_k': 40, 'was_impossible': False}),\n",
              " Prediction(uid=4238, iid=1287, r_ui=4.0, est=4.600380630292793, details={'actual_k': 40, 'was_impossible': False}),\n",
              " Prediction(uid=2400, iid=858, r_ui=3.0, est=4.35, details={'actual_k': 40, 'was_impossible': False}),\n",
              " Prediction(uid=1377, iid=2987, r_ui=3.0, est=3.776165916455926, details={'actual_k': 40, 'was_impossible': False}),\n",
              " Prediction(uid=656, iid=903, r_ui=5.0, est=4.600281305769145, details={'actual_k': 40, 'was_impossible': False}),\n",
              " Prediction(uid=193, iid=1446, r_ui=4.0, est=4.25065463587703, details={'actual_k': 40, 'was_impossible': False}),\n",
              " Prediction(uid=4491, iid=1869, r_ui=3.0, est=2.264026096271542, details={'actual_k': 38, 'was_impossible': False}),\n",
              " Prediction(uid=713, iid=1028, r_ui=5.0, est=4.175348176601558, details={'actual_k': 40, 'was_impossible': False}),\n",
              " Prediction(uid=2807, iid=1961, r_ui=3.0, est=4.276193558456466, details={'actual_k': 40, 'was_impossible': False}),\n",
              " Prediction(uid=3555, iid=2950, r_ui=1.0, est=2.647739800605064, details={'actual_k': 40, 'was_impossible': False}),\n",
              " Prediction(uid=620, iid=592, r_ui=4.0, est=3.5501107726514576, details={'actual_k': 40, 'was_impossible': False}),\n",
              " Prediction(uid=5112, iid=2144, r_ui=3.0, est=3.9517218619766155, details={'actual_k': 40, 'was_impossible': False}),\n",
              " Prediction(uid=4390, iid=2447, r_ui=3.0, est=3.473778782784665, details={'actual_k': 40, 'was_impossible': False}),\n",
              " Prediction(uid=3560, iid=527, r_ui=4.0, est=4.574994815745187, details={'actual_k': 40, 'was_impossible': False}),\n",
              " Prediction(uid=4467, iid=2987, r_ui=4.0, est=3.65, details={'actual_k': 40, 'was_impossible': False}),\n",
              " Prediction(uid=3951, iid=2450, r_ui=1.0, est=2.2989921605407226, details={'actual_k': 40, 'was_impossible': False}),\n",
              " Prediction(uid=2020, iid=2921, r_ui=3.0, est=4.099210730174338, details={'actual_k': 40, 'was_impossible': False}),\n",
              " Prediction(uid=4647, iid=32, r_ui=5.0, est=4.025369389563214, details={'actual_k': 40, 'was_impossible': False}),\n",
              " Prediction(uid=5638, iid=527, r_ui=5.0, est=4.625, details={'actual_k': 40, 'was_impossible': False}),\n",
              " Prediction(uid=3129, iid=2699, r_ui=3.0, est=3.1745608461477444, details={'actual_k': 40, 'was_impossible': False}),\n",
              " Prediction(uid=978, iid=2700, r_ui=4.0, est=3.8, details={'actual_k': 40, 'was_impossible': False}),\n",
              " Prediction(uid=195, iid=329, r_ui=2.0, est=3.4752533235504486, details={'actual_k': 40, 'was_impossible': False}),\n",
              " Prediction(uid=1160, iid=2707, r_ui=2.0, est=3.8012621367599366, details={'actual_k': 40, 'was_impossible': False}),\n",
              " Prediction(uid=1265, iid=3160, r_ui=5.0, est=3.674433955892753, details={'actual_k': 40, 'was_impossible': False}),\n",
              " Prediction(uid=1835, iid=415, r_ui=3.0, est=2.700385850102684, details={'actual_k': 40, 'was_impossible': False}),\n",
              " Prediction(uid=3320, iid=1379, r_ui=2.0, est=3.074642280941881, details={'actual_k': 40, 'was_impossible': False}),\n",
              " Prediction(uid=2874, iid=1262, r_ui=4.0, est=4.425071681911561, details={'actual_k': 40, 'was_impossible': False}),\n",
              " Prediction(uid=410, iid=2804, r_ui=5.0, est=4.35, details={'actual_k': 40, 'was_impossible': False}),\n",
              " Prediction(uid=6008, iid=110, r_ui=5.0, est=3.8, details={'actual_k': 40, 'was_impossible': False}),\n",
              " Prediction(uid=4193, iid=1841, r_ui=3.0, est=3.2003129812335476, details={'actual_k': 40, 'was_impossible': False}),\n",
              " Prediction(uid=4315, iid=750, r_ui=5.0, est=4.35, details={'actual_k': 40, 'was_impossible': False}),\n",
              " Prediction(uid=1733, iid=1346, r_ui=3.0, est=3.4751131081647433, details={'actual_k': 40, 'was_impossible': False}),\n",
              " Prediction(uid=5387, iid=549, r_ui=3.0, est=4.249080461740048, details={'actual_k': 40, 'was_impossible': False}),\n",
              " Prediction(uid=1202, iid=2391, r_ui=4.0, est=3.8753651526373254, details={'actual_k': 40, 'was_impossible': False}),\n",
              " Prediction(uid=1184, iid=3264, r_ui=2.0, est=3.4496770306874347, details={'actual_k': 40, 'was_impossible': False}),\n",
              " Prediction(uid=202, iid=1894, r_ui=3.0, est=3.1985633086001997, details={'actual_k': 40, 'was_impossible': False}),\n",
              " Prediction(uid=2419, iid=852, r_ui=3.0, est=3.599955448617665, details={'actual_k': 40, 'was_impossible': False}),\n",
              " Prediction(uid=3331, iid=296, r_ui=4.0, est=4.224412210599938, details={'actual_k': 40, 'was_impossible': False}),\n",
              " Prediction(uid=2665, iid=2959, r_ui=2.0, est=4.273933750537244, details={'actual_k': 40, 'was_impossible': False}),\n",
              " Prediction(uid=2754, iid=2997, r_ui=2.0, est=4.275, details={'actual_k': 40, 'was_impossible': False}),\n",
              " Prediction(uid=5750, iid=2289, r_ui=2.0, est=4.024949822507283, details={'actual_k': 40, 'was_impossible': False}),\n",
              " Prediction(uid=1203, iid=2279, r_ui=3.0, est=2.7508982995233624, details={'actual_k': 40, 'was_impossible': False}),\n",
              " Prediction(uid=2085, iid=1848, r_ui=3.0, est=3.4483751806362006, details={'actual_k': 40, 'was_impossible': False}),\n",
              " Prediction(uid=352, iid=588, r_ui=4.0, est=4.101446067003515, details={'actual_k': 40, 'was_impossible': False}),\n",
              " Prediction(uid=5432, iid=1186, r_ui=4.0, est=3.949983548810219, details={'actual_k': 40, 'was_impossible': False}),\n",
              " Prediction(uid=1609, iid=1246, r_ui=3.0, est=4.200597064565303, details={'actual_k': 40, 'was_impossible': False}),\n",
              " Prediction(uid=5079, iid=3082, r_ui=4.0, est=3.6003162450358612, details={'actual_k': 40, 'was_impossible': False}),\n",
              " Prediction(uid=1051, iid=3512, r_ui=4.0, est=3.9006130359340108, details={'actual_k': 40, 'was_impossible': False}),\n",
              " Prediction(uid=2230, iid=2829, r_ui=3.0, est=3.0004354876157, details={'actual_k': 40, 'was_impossible': False}),\n",
              " Prediction(uid=1778, iid=3597, r_ui=2.0, est=2.935792318328333, details={'actual_k': 28, 'was_impossible': False}),\n",
              " Prediction(uid=3518, iid=347, r_ui=4.0, est=3.003147342087453, details={'actual_k': 37, 'was_impossible': False}),\n",
              " Prediction(uid=5220, iid=1380, r_ui=3.0, est=3.750082619007127, details={'actual_k': 40, 'was_impossible': False}),\n",
              " Prediction(uid=5582, iid=1953, r_ui=4.0, est=4.399681421724375, details={'actual_k': 40, 'was_impossible': False}),\n",
              " Prediction(uid=6025, iid=1983, r_ui=2.0, est=2.449034552042867, details={'actual_k': 40, 'was_impossible': False}),\n",
              " Prediction(uid=3227, iid=2883, r_ui=5.0, est=3.599261760451038, details={'actual_k': 40, 'was_impossible': False}),\n",
              " Prediction(uid=4659, iid=914, r_ui=5.0, est=4.424576388186662, details={'actual_k': 40, 'was_impossible': False}),\n",
              " Prediction(uid=3780, iid=1210, r_ui=5.0, est=3.9500274103066104, details={'actual_k': 40, 'was_impossible': False}),\n",
              " Prediction(uid=2771, iid=2329, r_ui=5.0, est=4.1770080431275245, details={'actual_k': 40, 'was_impossible': False}),\n",
              " Prediction(uid=3771, iid=70, r_ui=4.0, est=3.049800475609788, details={'actual_k': 40, 'was_impossible': False}),\n",
              " Prediction(uid=1980, iid=2687, r_ui=3.0, est=3.800527020425287, details={'actual_k': 40, 'was_impossible': False}),\n",
              " Prediction(uid=4612, iid=838, r_ui=4.0, est=4.099994234117333, details={'actual_k': 40, 'was_impossible': False}),\n",
              " Prediction(uid=4834, iid=3886, r_ui=3.0, est=2.9152842929738254, details={'actual_k': 30, 'was_impossible': False}),\n",
              " Prediction(uid=5918, iid=2791, r_ui=4.0, est=4.075, details={'actual_k': 40, 'was_impossible': False}),\n",
              " Prediction(uid=5812, iid=1616, r_ui=3.0, est=3.2755924090387767, details={'actual_k': 40, 'was_impossible': False}),\n",
              " Prediction(uid=3426, iid=2019, r_ui=5.0, est=4.675093939660804, details={'actual_k': 40, 'was_impossible': False}),\n",
              " Prediction(uid=5317, iid=902, r_ui=5.0, est=3.8988247885932643, details={'actual_k': 40, 'was_impossible': False}),\n",
              " Prediction(uid=3757, iid=474, r_ui=5.0, est=4.150223317532548, details={'actual_k': 40, 'was_impossible': False}),\n",
              " Prediction(uid=1755, iid=3448, r_ui=4.0, est=3.9480456654068186, details={'actual_k': 40, 'was_impossible': False}),\n",
              " Prediction(uid=3768, iid=163, r_ui=3.0, est=3.5501749051162923, details={'actual_k': 40, 'was_impossible': False}),\n",
              " Prediction(uid=2343, iid=364, r_ui=4.0, est=4.075, details={'actual_k': 40, 'was_impossible': False}),\n",
              " Prediction(uid=3425, iid=2353, r_ui=3.0, est=3.6744946310838857, details={'actual_k': 40, 'was_impossible': False}),\n",
              " Prediction(uid=4828, iid=2572, r_ui=5.0, est=3.325, details={'actual_k': 40, 'was_impossible': False}),\n",
              " Prediction(uid=4471, iid=260, r_ui=4.0, est=4.299997107694916, details={'actual_k': 40, 'was_impossible': False}),\n",
              " Prediction(uid=1410, iid=3930, r_ui=3.0, est=3.2253423163858574, details={'actual_k': 40, 'was_impossible': False}),\n",
              " Prediction(uid=3272, iid=1619, r_ui=4.0, est=3.6002355031042286, details={'actual_k': 40, 'was_impossible': False}),\n",
              " Prediction(uid=3182, iid=3846, r_ui=4.0, est=3.42347542427024, details={'actual_k': 40, 'was_impossible': False}),\n",
              " Prediction(uid=1896, iid=3341, r_ui=3.0, est=4.225164183498062, details={'actual_k': 40, 'was_impossible': False}),\n",
              " Prediction(uid=4780, iid=1343, r_ui=4.0, est=3.7755880186996276, details={'actual_k': 40, 'was_impossible': False}),\n",
              " Prediction(uid=1423, iid=2706, r_ui=5.0, est=4.1, details={'actual_k': 40, 'was_impossible': False}),\n",
              " Prediction(uid=2964, iid=524, r_ui=4.0, est=3.249995495374383, details={'actual_k': 40, 'was_impossible': False}),\n",
              " Prediction(uid=4735, iid=350, r_ui=4.0, est=3.5499169951569884, details={'actual_k': 40, 'was_impossible': False}),\n",
              " Prediction(uid=1229, iid=3481, r_ui=3.0, est=3.875, details={'actual_k': 40, 'was_impossible': False}),\n",
              " Prediction(uid=3315, iid=1370, r_ui=4.0, est=4.074578416971421, details={'actual_k': 40, 'was_impossible': False}),\n",
              " Prediction(uid=2205, iid=2918, r_ui=3.0, est=4.225234587550462, details={'actual_k': 40, 'was_impossible': False}),\n",
              " Prediction(uid=3292, iid=964, r_ui=5.0, est=3.526257368099581, details={'actual_k': 40, 'was_impossible': False}),\n",
              " Prediction(uid=2059, iid=2471, r_ui=4.0, est=2.6499890230826906, details={'actual_k': 40, 'was_impossible': False}),\n",
              " Prediction(uid=3067, iid=2406, r_ui=3.0, est=3.7490074634014667, details={'actual_k': 40, 'was_impossible': False}),\n",
              " Prediction(uid=1243, iid=3893, r_ui=3.0, est=3.6747581334500388, details={'actual_k': 40, 'was_impossible': False}),\n",
              " Prediction(uid=69, iid=1810, r_ui=5.0, est=3.875293454035251, details={'actual_k': 40, 'was_impossible': False}),\n",
              " Prediction(uid=4116, iid=3145, r_ui=4.0, est=3.600442280912414, details={'actual_k': 40, 'was_impossible': False}),\n",
              " Prediction(uid=2854, iid=2990, r_ui=1.0, est=2.799275655451127, details={'actual_k': 40, 'was_impossible': False}),\n",
              " Prediction(uid=987, iid=3701, r_ui=4.0, est=3.4253786439898892, details={'actual_k': 40, 'was_impossible': False}),\n",
              " Prediction(uid=4042, iid=1747, r_ui=4.0, est=4.05014570911652, details={'actual_k': 40, 'was_impossible': False}),\n",
              " Prediction(uid=2955, iid=2459, r_ui=5.0, est=3.4007258973071472, details={'actual_k': 40, 'was_impossible': False}),\n",
              " Prediction(uid=3900, iid=237, r_ui=3.0, est=3.15090936617334, details={'actual_k': 40, 'was_impossible': False}),\n",
              " Prediction(uid=4682, iid=1032, r_ui=5.0, est=3.8993234895799693, details={'actual_k': 40, 'was_impossible': False}),\n",
              " Prediction(uid=4867, iid=2289, r_ui=4.0, est=4.3498221724124795, details={'actual_k': 40, 'was_impossible': False}),\n",
              " Prediction(uid=4911, iid=1721, r_ui=5.0, est=3.625, details={'actual_k': 40, 'was_impossible': False}),\n",
              " Prediction(uid=3624, iid=172, r_ui=4.0, est=3.250129281794164, details={'actual_k': 40, 'was_impossible': False}),\n",
              " Prediction(uid=4620, iid=541, r_ui=5.0, est=4.45, details={'actual_k': 40, 'was_impossible': False}),\n",
              " Prediction(uid=5272, iid=329, r_ui=4.0, est=3.4250590398085423, details={'actual_k': 40, 'was_impossible': False}),\n",
              " Prediction(uid=4765, iid=2018, r_ui=4.0, est=4.449808836436522, details={'actual_k': 40, 'was_impossible': False}),\n",
              " Prediction(uid=1988, iid=3851, r_ui=3.0, est=3.8550350344279525, details={'actual_k': 32, 'was_impossible': False}),\n",
              " Prediction(uid=293, iid=538, r_ui=4.0, est=3.9262694324169525, details={'actual_k': 40, 'was_impossible': False}),\n",
              " Prediction(uid=3148, iid=2976, r_ui=4.0, est=3.048398188357211, details={'actual_k': 40, 'was_impossible': False}),\n",
              " Prediction(uid=5996, iid=3798, r_ui=4.0, est=3.8485505075168382, details={'actual_k': 40, 'was_impossible': False}),\n",
              " Prediction(uid=1495, iid=3054, r_ui=2.0, est=2.098636165559249, details={'actual_k': 40, 'was_impossible': False}),\n",
              " Prediction(uid=5557, iid=3897, r_ui=4.0, est=4.274907141068101, details={'actual_k': 40, 'was_impossible': False}),\n",
              " Prediction(uid=3807, iid=849, r_ui=3.0, est=2.8734269689328866, details={'actual_k': 40, 'was_impossible': False}),\n",
              " Prediction(uid=4645, iid=902, r_ui=4.0, est=3.7248158856241713, details={'actual_k': 40, 'was_impossible': False}),\n",
              " Prediction(uid=284, iid=2525, r_ui=1.0, est=2.275141746627088, details={'actual_k': 40, 'was_impossible': False}),\n",
              " Prediction(uid=2383, iid=1304, r_ui=3.0, est=4.450773618426879, details={'actual_k': 40, 'was_impossible': False}),\n",
              " Prediction(uid=1477, iid=903, r_ui=5.0, est=4.35, details={'actual_k': 40, 'was_impossible': False}),\n",
              " Prediction(uid=2438, iid=2410, r_ui=4.0, est=3.023417793833077, details={'actual_k': 40, 'was_impossible': False}),\n",
              " Prediction(uid=2116, iid=1869, r_ui=3.0, est=2.2185588542478976, details={'actual_k': 39, 'was_impossible': False}),\n",
              " Prediction(uid=4901, iid=3578, r_ui=4.0, est=4.074976540170944, details={'actual_k': 40, 'was_impossible': False}),\n",
              " Prediction(uid=2670, iid=1178, r_ui=5.0, est=4.625137298411192, details={'actual_k': 40, 'was_impossible': False}),\n",
              " Prediction(uid=1605, iid=1760, r_ui=3.0, est=2.124893732548378, details={'actual_k': 40, 'was_impossible': False}),\n",
              " Prediction(uid=4112, iid=3476, r_ui=4.0, est=3.9990742419636236, details={'actual_k': 40, 'was_impossible': False}),\n",
              " Prediction(uid=2040, iid=3948, r_ui=5.0, est=3.5, details={'actual_k': 40, 'was_impossible': False}),\n",
              " Prediction(uid=5046, iid=247, r_ui=4.0, est=4.149867113019035, details={'actual_k': 40, 'was_impossible': False}),\n",
              " Prediction(uid=2181, iid=2640, r_ui=5.0, est=4.001026308395314, details={'actual_k': 40, 'was_impossible': False}),\n",
              " Prediction(uid=1442, iid=3948, r_ui=1.0, est=3.999998793483705, details={'actual_k': 40, 'was_impossible': False}),\n",
              " Prediction(uid=5378, iid=1937, r_ui=4.0, est=3.8800097962141598, details={'actual_k': 40, 'was_impossible': False}),\n",
              " Prediction(uid=3393, iid=3168, r_ui=5.0, est=4.075242729105899, details={'actual_k': 40, 'was_impossible': False}),\n",
              " Prediction(uid=3896, iid=1584, r_ui=3.0, est=4.025291932289609, details={'actual_k': 40, 'was_impossible': False}),\n",
              " Prediction(uid=4645, iid=2671, r_ui=4.0, est=3.8504836212080003, details={'actual_k': 40, 'was_impossible': False}),\n",
              " Prediction(uid=1010, iid=410, r_ui=1.0, est=2.8498080072123466, details={'actual_k': 40, 'was_impossible': False}),\n",
              " Prediction(uid=1885, iid=2858, r_ui=5.0, est=4.25, details={'actual_k': 40, 'was_impossible': False}),\n",
              " Prediction(uid=4810, iid=3113, r_ui=2.0, est=2.6999732294476964, details={'actual_k': 40, 'was_impossible': False}),\n",
              " Prediction(uid=5812, iid=2571, r_ui=5.0, est=4.399683728324535, details={'actual_k': 40, 'was_impossible': False}),\n",
              " Prediction(uid=4796, iid=1372, r_ui=4.0, est=3.5744186446394783, details={'actual_k': 40, 'was_impossible': False}),\n",
              " Prediction(uid=2402, iid=1694, r_ui=4.0, est=3.874919992871046, details={'actual_k': 40, 'was_impossible': False}),\n",
              " Prediction(uid=5996, iid=2467, r_ui=5.0, est=4.12458782262701, details={'actual_k': 40, 'was_impossible': False}),\n",
              " Prediction(uid=3308, iid=2090, r_ui=4.0, est=3.724338042941297, details={'actual_k': 40, 'was_impossible': False}),\n",
              " Prediction(uid=2226, iid=2858, r_ui=5.0, est=4.45, details={'actual_k': 40, 'was_impossible': False}),\n",
              " Prediction(uid=4707, iid=3261, r_ui=4.0, est=3.599320829046195, details={'actual_k': 40, 'was_impossible': False}),\n",
              " Prediction(uid=5785, iid=2890, r_ui=5.0, est=4.050019222487188, details={'actual_k': 40, 'was_impossible': False}),\n",
              " Prediction(uid=5555, iid=2005, r_ui=4.0, est=3.526462111301892, details={'actual_k': 40, 'was_impossible': False}),\n",
              " Prediction(uid=4388, iid=2490, r_ui=4.0, est=3.6248162518002003, details={'actual_k': 40, 'was_impossible': False}),\n",
              " Prediction(uid=5246, iid=2568, r_ui=4.0, est=2.304609952422892, details={'actual_k': 40, 'was_impossible': False}),\n",
              " Prediction(uid=3619, iid=2840, r_ui=3.0, est=3.3504498656709223, details={'actual_k': 40, 'was_impossible': False}),\n",
              " Prediction(uid=4685, iid=1279, r_ui=5.0, est=4.002299600576106, details={'actual_k': 40, 'was_impossible': False}),\n",
              " ...]"
            ]
          },
          "metadata": {},
          "execution_count": 16
        }
      ]
    },
    {
      "cell_type": "markdown",
      "metadata": {
        "id": "b7sO7lrxUV9l"
      },
      "source": [
        "### 문제 6. 모델링 - RMSE 평가"
      ]
    },
    {
      "cell_type": "code",
      "metadata": {
        "id": "kT2o73OC4TUZ",
        "colab": {
          "base_uri": "https://localhost:8080/"
        },
        "outputId": "f003ec32-67c2-4718-8c9b-6cc849476193"
      },
      "source": [
        "from surprise import accuracy #모델 평가 함수\n",
        "accuracy.rmse(predictions)\n",
        "# accuracy로 rmse 평가"
      ],
      "execution_count": 17,
      "outputs": [
        {
          "output_type": "stream",
          "name": "stdout",
          "text": [
            "RMSE: 0.9778\n"
          ]
        },
        {
          "output_type": "execute_result",
          "data": {
            "text/plain": [
              "0.9778345593996658"
            ]
          },
          "metadata": {},
          "execution_count": 17
        }
      ]
    },
    {
      "cell_type": "markdown",
      "metadata": {
        "id": "G6gHR0e84PLO"
      },
      "source": [
        "### 문제 7. 모델 평가 - 테스트 데이터셋에서 일부 결과 확인"
      ]
    },
    {
      "cell_type": "code",
      "metadata": {
        "id": "Ky6--iu74To0"
      },
      "source": [
        "# test 함수의 결과를 활용하여 모델을 정성적으로 평가\n",
        "predictions = algo.test(testset[:20])"
      ],
      "execution_count": 18,
      "outputs": []
    },
    {
      "cell_type": "code",
      "metadata": {
        "colab": {
          "base_uri": "https://localhost:8080/"
        },
        "id": "UgTjBoVla2kG",
        "outputId": "c5ea7a67-1105-4554-de4d-f6b86cf5eec6"
      },
      "source": [
        "predictions"
      ],
      "execution_count": 19,
      "outputs": [
        {
          "output_type": "execute_result",
          "data": {
            "text/plain": [
              "[Prediction(uid=1314, iid=260, r_ui=4.0, est=4.025, details={'actual_k': 40, 'was_impossible': False}),\n",
              " Prediction(uid=2537, iid=1266, r_ui=4.0, est=4.325525587699437, details={'actual_k': 40, 'was_impossible': False}),\n",
              " Prediction(uid=5109, iid=1262, r_ui=5.0, est=4.499637175855886, details={'actual_k': 40, 'was_impossible': False}),\n",
              " Prediction(uid=1658, iid=1479, r_ui=2.0, est=3.575837376267055, details={'actual_k': 40, 'was_impossible': False}),\n",
              " Prediction(uid=480, iid=150, r_ui=4.0, est=4.0996925016318695, details={'actual_k': 40, 'was_impossible': False}),\n",
              " Prediction(uid=963, iid=296, r_ui=5.0, est=4.349098325151665, details={'actual_k': 40, 'was_impossible': False}),\n",
              " Prediction(uid=1758, iid=1597, r_ui=3.0, est=3.4748904200329136, details={'actual_k': 40, 'was_impossible': False}),\n",
              " Prediction(uid=2502, iid=3183, r_ui=4.0, est=3.58036583743453, details={'actual_k': 29, 'was_impossible': False}),\n",
              " Prediction(uid=4522, iid=3515, r_ui=2.0, est=3.1251860374312557, details={'actual_k': 40, 'was_impossible': False}),\n",
              " Prediction(uid=4704, iid=3397, r_ui=3.0, est=3.699564462580203, details={'actual_k': 40, 'was_impossible': False}),\n",
              " Prediction(uid=5248, iid=2243, r_ui=3.0, est=3.8732564909448866, details={'actual_k': 40, 'was_impossible': False}),\n",
              " Prediction(uid=245, iid=168, r_ui=2.0, est=3.126059202143149, details={'actual_k': 40, 'was_impossible': False}),\n",
              " Prediction(uid=5385, iid=3408, r_ui=4.0, est=4.025, details={'actual_k': 40, 'was_impossible': False}),\n",
              " Prediction(uid=1064, iid=3555, r_ui=4.0, est=3.7741105780004984, details={'actual_k': 40, 'was_impossible': False}),\n",
              " Prediction(uid=3744, iid=1127, r_ui=1.0, est=4.025, details={'actual_k': 40, 'was_impossible': False}),\n",
              " Prediction(uid=4954, iid=3752, r_ui=1.0, est=2.9000161503449595, details={'actual_k': 40, 'was_impossible': False}),\n",
              " Prediction(uid=1962, iid=222, r_ui=4.0, est=3.826222463946741, details={'actual_k': 40, 'was_impossible': False}),\n",
              " Prediction(uid=1796, iid=1294, r_ui=5.0, est=4.298590929179315, details={'actual_k': 40, 'was_impossible': False}),\n",
              " Prediction(uid=5519, iid=2150, r_ui=4.0, est=4.02468239791232, details={'actual_k': 40, 'was_impossible': False}),\n",
              " Prediction(uid=392, iid=3258, r_ui=2.0, est=3.0007528393396568, details={'actual_k': 40, 'was_impossible': False})]"
            ]
          },
          "metadata": {},
          "execution_count": 19
        }
      ]
    },
    {
      "cell_type": "markdown",
      "metadata": {
        "id": "iUhZJkZP4LNk"
      },
      "source": [
        "## Step 3. MF-based 모델링 (SVD)"
      ]
    },
    {
      "cell_type": "markdown",
      "metadata": {
        "id": "Sj-VeyE84dMi"
      },
      "source": [
        "### 문제 8. 모델링 - Train/Test 데이터 분리"
      ]
    },
    {
      "cell_type": "code",
      "metadata": {
        "id": "-UQuUxH_4iwU"
      },
      "source": [
        "# Reader, Dataset 오브젝트로 학습용 데이터셋 생성 및 분리\n",
        "from surprise import Dataset, Reader\n",
        "from surprise.model_selection import train_test_split\n",
        "\n",
        "# Reader, Dataset 오브젝트로 학습용 데이터셋 생성 및 분리\n",
        "reader = Reader(rating_scale = (1,5)) #평가 점수 범위\n",
        "data = Dataset.load_from_df(rating_df[['user_id', 'movie_id', 'rating']], reader) #불러온 평가데이터를 읽음\n",
        "trainset, testset = train_test_split(data, test_size = 0.25) #학습,테스트 데이터로 분리"
      ],
      "execution_count": 20,
      "outputs": []
    },
    {
      "cell_type": "markdown",
      "metadata": {
        "id": "Yw3se_iT4ho7"
      },
      "source": [
        "### 문제 9. 모델링 - SVD 모델 학습\n",
        "\n",
        "-----\n",
        "\n",
        "#### Matrix Factorization의 개념\n",
        "\n",
        "![MF](https://t1.daumcdn.net/cfile/tistory/99EAC1455AF71F3E31)\n",
        "\n",
        "![MF2](https://media.springernature.com/lw785/springer-static/image/chp%3A10.1007%2F978-3-319-65930-5_47/MediaObjects/455696_1_En_47_Fig3_HTML.gif)\n",
        "\n",
        "    [MF의 대략적인 이해]\n",
        "    1. 원래의 행렬을 다른 2개 행렬로 분해하고, 이를 다시 원래 모양으로 만드는 과정을 Factorization 이라고 함.\n",
        "    2. 그 과정에서 Latent Factor 라는 것을 활용하여, 행과 열의 성질을 만들어낼 수 있음.\n",
        "    3. latent factor를 충분히 많이 만들게 되면, 유저와 아이템의 성질을 벡터로 표현 가능.\n",
        "    4. 일반적으로 지도 학습을 통해 P와 Q를 찾게 되고, 이를 Model-based CF 라고 하기도 함.\n",
        "\n",
        "#### Surprise의 SVD\n",
        "\n",
        "> The famous SVD algorithm, as popularized by Simon Funk during the Netflix Prize. When baselines are not used, this is equivalent to Probabilistic Matrix Factorization\n",
        "\n",
        "> The prediction 𝑟̂ 𝑢𝑖 is set as:\n",
        "\n",
        "![r_ui](https://raw.githubusercontent.com/yoonkt200/FastCampusDataset/master/images/r_ui_1.png)\n",
        "\n",
        "###### (https://surprise.readthedocs.io/en/stable/matrix_factorization.html)\n",
        "    \n",
        "    [라이브러리의 대략적인 학습 과정]\n",
        "    1. Model-based MF\n",
        "    2. 이미 점수가 존재하는 r_ui를 기준으로 P, Q를 학습.\n",
        "    3. 특정 epoch, 혹은 수렴 조건에 달할 때 까지 학습 (Gradient Descent)\n",
        "\n",
        "![r_ui](https://raw.githubusercontent.com/yoonkt200/FastCampusDataset/master/images/r_ui_2.png)\n",
        "\n",
        "![r_ui](https://raw.githubusercontent.com/yoonkt200/FastCampusDataset/master/images/r_ui_3.png)\n",
        "\n",
        "-----"
      ]
    },
    {
      "cell_type": "code",
      "metadata": {
        "id": "HU_AHIOPUqoB"
      },
      "source": [
        "from surprise import SVD\n",
        "\n",
        "# SVD 모델 학습\n",
        "algo = SVD()\n",
        "algo.fit(trainset)\n",
        "predictions = algo.test(testset)"
      ],
      "execution_count": 21,
      "outputs": []
    },
    {
      "cell_type": "markdown",
      "metadata": {
        "id": "9N31dT7z4slf"
      },
      "source": [
        "### 문제 10. 모델링 - RMSE 평가"
      ]
    },
    {
      "cell_type": "code",
      "metadata": {
        "id": "plh_0p6p4tuc",
        "colab": {
          "base_uri": "https://localhost:8080/"
        },
        "outputId": "a7823012-e0a2-4c00-957a-a77ff579a13e"
      },
      "source": [
        "# 앞에서와 동일하게 accuracy 함수로 rmse 평가\n",
        "accuracy.rmse(predictions)"
      ],
      "execution_count": 23,
      "outputs": [
        {
          "output_type": "stream",
          "name": "stdout",
          "text": [
            "RMSE: 0.8760\n"
          ]
        },
        {
          "output_type": "execute_result",
          "data": {
            "text/plain": [
              "0.8760399981648638"
            ]
          },
          "metadata": {},
          "execution_count": 23
        }
      ]
    },
    {
      "cell_type": "markdown",
      "metadata": {
        "id": "Mj0JntmrUWPQ"
      },
      "source": [
        "### 문제 11. 모델링 & 시각화 - RMSE를 개선하는 파라미터 튜닝 자동화"
      ]
    },
    {
      "cell_type": "code",
      "metadata": {
        "id": "aw2FxLy7UtyX",
        "colab": {
          "base_uri": "https://localhost:8080/"
        },
        "outputId": "adc9a630-bfdb-43fa-a118-a788e3f1a62f"
      },
      "source": [
        "import time\n",
        "\n",
        "param_list = [10, 50, 100, 150, 200]\n",
        "rmse_list_by_factors = []\n",
        "ttime_list_by_factors = []\n",
        "for n in param_list:    \n",
        "    train_start = time.time()\n",
        "    algo = SVD(n_factors=n)\n",
        "    algo.fit(trainset)\n",
        "    train_end = time.time()\n",
        "    print(\"training time of model: %.2f seconds\" % (train_end - train_start))\n",
        "    print(\"RMSE of test dataset in SVD model, n_factors=\" + str(n))\n",
        "    predictions = algo.test(testset)\n",
        "    rmse_result = accuracy.rmse(predictions)\n",
        "    rmse_list_by_factors.append(rmse_result)\n",
        "    ttime_list_by_factors.append((train_end - train_start))\n",
        "    print(\"------------------------------------\")\n",
        "print(\"searching n_factors is finish.\")"
      ],
      "execution_count": 24,
      "outputs": [
        {
          "output_type": "stream",
          "name": "stdout",
          "text": [
            "training time of model: 14.71 seconds\n",
            "RMSE of test dataset in SVD model, n_factors=10\n",
            "RMSE: 0.8779\n",
            "------------------------------------\n",
            "training time of model: 25.95 seconds\n",
            "RMSE of test dataset in SVD model, n_factors=50\n",
            "RMSE: 0.8740\n",
            "------------------------------------\n",
            "training time of model: 40.14 seconds\n",
            "RMSE of test dataset in SVD model, n_factors=100\n",
            "RMSE: 0.8763\n",
            "------------------------------------\n",
            "training time of model: 54.68 seconds\n",
            "RMSE of test dataset in SVD model, n_factors=150\n",
            "RMSE: 0.8800\n",
            "------------------------------------\n",
            "training time of model: 68.23 seconds\n",
            "RMSE of test dataset in SVD model, n_factors=200\n",
            "RMSE: 0.8824\n",
            "------------------------------------\n",
            "searching n_factors is finish.\n"
          ]
        }
      ]
    },
    {
      "cell_type": "code",
      "metadata": {
        "id": "kt10tMKIwgnG",
        "colab": {
          "base_uri": "https://localhost:8080/",
          "height": 298
        },
        "outputId": "7dba9068-51b2-4ac8-ed34-34d42702a620"
      },
      "source": [
        "# plt의 plot 함수로 결과 시각화\n",
        "plt.plot(param_list, rmse_list_by_factors)\n",
        "plt.title('RMSE by n_factors of SVD')\n",
        "plt.ylabel('RMSE', fontsize=12)\n",
        "plt.xlabel('n_factors', fontsize=12)\n",
        "plt.show()"
      ],
      "execution_count": 25,
      "outputs": [
        {
          "output_type": "display_data",
          "data": {
            "image/png": "[encoded data removed]",
            "text/plain": [
              "<Figure size 432x288 with 1 Axes>"
            ]
          },
          "metadata": {
            "needs_background": "light"
          }
        }
      ]
    },
    {
      "cell_type": "markdown",
      "metadata": {
        "id": "zRZWztHgUWfx"
      },
      "source": [
        "### 문제 12. 모델 평가 - 최종 RMSE 평가"
      ]
    },
    {
      "cell_type": "code",
      "metadata": {
        "id": "Dl4rS2pHUw2Y",
        "colab": {
          "base_uri": "https://localhost:8080/"
        },
        "outputId": "db575219-a9da-4b5d-da9a-f0a4418f6f66"
      },
      "source": [
        "# accuracy로 rmse 평가\n",
        "algo = SVD(n_factors=50)\n",
        "algo.fit(trainset)\n",
        "predictions = algo.test(testset)\n",
        "accuracy.rmse(predictions)"
      ],
      "execution_count": 26,
      "outputs": [
        {
          "output_type": "stream",
          "name": "stdout",
          "text": [
            "RMSE: 0.8740\n"
          ]
        },
        {
          "output_type": "execute_result",
          "data": {
            "text/plain": [
              "0.8739528856318446"
            ]
          },
          "metadata": {},
          "execution_count": 26
        }
      ]
    },
    {
      "cell_type": "markdown",
      "metadata": {
        "id": "ehw9UI3CUWwW"
      },
      "source": [
        "### 문제 13. 모델 평가 - 테스트 데이터셋에서 일부 결과 확인"
      ]
    },
    {
      "cell_type": "code",
      "metadata": {
        "id": "VhrNSOuZxCrJ",
        "colab": {
          "base_uri": "https://localhost:8080/"
        },
        "outputId": "2f960bdc-3337-4406-f3ff-beb2b5a94262"
      },
      "source": [
        "predictions = algo.test(testset[:20])\n",
        "\n",
        "for _, iid, r_ui, predicted_rating, _ in predictions:\n",
        "    print(\"Item id\", iid, \"|\", \"real rating :\", r_ui, \"|\", \"predicted rating :\", predicted_rating)"
      ],
      "execution_count": 27,
      "outputs": [
        {
          "output_type": "stream",
          "name": "stdout",
          "text": [
            "Item id 2302 | real rating : 3.0 | predicted rating : 3.634004639105315\n",
            "Item id 169 | real rating : 1.0 | predicted rating : 1.7280200450379413\n",
            "Item id 2346 | real rating : 3.0 | predicted rating : 3.1099662302744955\n",
            "Item id 235 | real rating : 4.0 | predicted rating : 3.23997860921928\n",
            "Item id 2406 | real rating : 5.0 | predicted rating : 3.976561690922336\n",
            "Item id 2736 | real rating : 3.0 | predicted rating : 2.913372202607742\n",
            "Item id 1406 | real rating : 3.0 | predicted rating : 2.8413365644494513\n",
            "Item id 2713 | real rating : 2.0 | predicted rating : 2.455936861651438\n",
            "Item id 2761 | real rating : 4.0 | predicted rating : 4.195743833142595\n",
            "Item id 1552 | real rating : 1.0 | predicted rating : 2.520453368689896\n",
            "Item id 1095 | real rating : 4.0 | predicted rating : 3.737334406470013\n",
            "Item id 3764 | real rating : 3.0 | predicted rating : 2.30280487737721\n",
            "Item id 1972 | real rating : 3.0 | predicted rating : 2.4004027342543783\n",
            "Item id 3602 | real rating : 3.0 | predicted rating : 3.313973976825882\n",
            "Item id 2762 | real rating : 5.0 | predicted rating : 4.253227532362434\n",
            "Item id 1270 | real rating : 3.0 | predicted rating : 3.744619671556788\n",
            "Item id 1580 | real rating : 3.0 | predicted rating : 3.9066837128230287\n",
            "Item id 3179 | real rating : 2.0 | predicted rating : 3.4900191463205164\n",
            "Item id 750 | real rating : 3.0 | predicted rating : 3.9120327335649887\n",
            "Item id 1461 | real rating : 3.0 | predicted rating : 2.6427223705402136\n"
          ]
        }
      ]
    },
    {
      "cell_type": "markdown",
      "metadata": {
        "id": "O8HR6_qZXC3Q"
      },
      "source": [
        "## Step 4. 추천 결과 평가\n",
        "\n",
        "-----\n",
        "\n",
        "#### CF, MF 기반 추천시스템의 가정(한계)\n",
        "\n",
        "    [가정 : 사용자의 과거 Preference는 미래에서도 동일하다]\n",
        "    1. Time Series로 추정된 선호도가 아닌, Estimate 되거나 Factorized 된 점수\n",
        "    2. A시점에 평가한 선호도와, B시점에 평가한 선호도가 동일 선에서 학습됨\n",
        "    3. Test 데이터에 대한 평가 역시, 시간이 고려되지 않은 \"랜덤한 빈공간 찾기\" 식으로 평가됨\n",
        "\n",
        "- 이번 챕터의 목표\n",
        "  - `학습은 그렇다 치고, 평가라도 시간을 고려해서 해보자`"
      ]
    },
    {
      "cell_type": "markdown",
      "metadata": {
        "id": "QzKVcaHcUXBs"
      },
      "source": [
        "### 문제 14. 추천 결과 평가 - 사용자별 전체 시청리스트 추출"
      ]
    },
    {
      "cell_type": "code",
      "metadata": {
        "id": "sMFYmCNsLakq"
      },
      "source": [
        "# groupby와 apply 함수를 이용하여 사용자별 시청리스트 추출"
      ],
      "execution_count": null,
      "outputs": []
    },
    {
      "cell_type": "code",
      "metadata": {
        "id": "ThE4TVoe0VlB"
      },
      "source": [
        ""
      ],
      "execution_count": null,
      "outputs": []
    },
    {
      "cell_type": "markdown",
      "metadata": {
        "id": "9cFSVpqMUXRk"
      },
      "source": [
        "### 문제 15. 추천 결과 평가 - 특정 시간 기준 사용자별 Train/Test 시청리스트 추출\n",
        "추천 결과 평가 - 특정 시간 기준 유저별 시청 목록 추출 (Train/Test과 동일 기준)"
      ]
    },
    {
      "cell_type": "code",
      "metadata": {
        "id": "6lWJouuvXDGr"
      },
      "source": [
        "# 시간별 시청 분포 탐색\n",
        "rating_df['time'].hist(bins=100)"
      ],
      "execution_count": null,
      "outputs": []
    },
    {
      "cell_type": "code",
      "metadata": {
        "id": "bSJW9IPhXSsb"
      },
      "source": [
        "# 8:2 로 분할할 수 있는 시간 지정\n",
        "rating_df['time'].quantile(q=0.8, interpolation='nearest')"
      ],
      "execution_count": null,
      "outputs": []
    },
    {
      "cell_type": "code",
      "metadata": {
        "id": "Afp0BQ39XqKk"
      },
      "source": [
        "# 지정된 시간으로 데이터셋 분리"
      ],
      "execution_count": null,
      "outputs": []
    },
    {
      "cell_type": "code",
      "metadata": {
        "id": "cPaMAkT7X5zy"
      },
      "source": [
        "# 특정 시간 이후를 대상으로 다시 한 번 사용자별 시청리스트 추출"
      ],
      "execution_count": null,
      "outputs": []
    },
    {
      "cell_type": "markdown",
      "metadata": {
        "id": "eKYA0QAKUXfP"
      },
      "source": [
        "### 문제 16. 추천 결과 평가 - 모델 기반 사용자별 선호 시청리스트 추출"
      ]
    },
    {
      "cell_type": "code",
      "metadata": {
        "id": "nJ0JAW2tU9L7"
      },
      "source": [
        "# 위에서 추출한 학습 데이터셋으로 SVD 모델 다시 학습"
      ],
      "execution_count": null,
      "outputs": []
    },
    {
      "cell_type": "code",
      "metadata": {
        "id": "RWV-AsIzbJe8"
      },
      "source": [
        "# anti dataset 생성\n",
        "test_data = train_data.build_anti_testset()"
      ],
      "execution_count": null,
      "outputs": []
    },
    {
      "cell_type": "code",
      "metadata": {
        "id": "k-Fy8k5qdOLX"
      },
      "source": [
        "# test 함수의 결과를 활용하여 모델을 정성적으로 평가\n",
        "predictions = algo.test(testset[:20])"
      ],
      "execution_count": null,
      "outputs": []
    },
    {
      "cell_type": "code",
      "metadata": {
        "id": "5ny3UTc6er-j"
      },
      "source": [
        "# 모델에 의해 다음을 생성 : 시청하지 않은 영화의 예상 점수\n",
        "predictions = algo.test(test_data)\n",
        "estimated_unwatched_dict = {}\n",
        "\n",
        "for uid, iid, _, predicted_rating, _ in predictions:\n",
        "  pass  # 시청하지 않은 영화의 예상 점수 추출"
      ],
      "execution_count": null,
      "outputs": []
    },
    {
      "cell_type": "markdown",
      "metadata": {
        "id": "m-yLXYyOUXuA"
      },
      "source": [
        "### 문제 17. 추천 결과 평가 - 예상 선호 리스트와 실제 시청리스트로 MAP@K 계산\n",
        "\n",
        "-----\n",
        "\n",
        "![confusion_matrix](https://raw.githubusercontent.com/yoonkt200/FastCampusDataset/master/images/confusion_matrix.png)\n",
        "\n",
        "    [Confusion Matrix와 Recall]\n",
        "    1. 분류 문제에서 사용하는 대표적인 평가 기준\n",
        "    2. 무언가의 실제 클래스(binary), 그리고 예상한 클래스(binary)를 비교하기 위한 매트릭스\n",
        "    3. 이 중 Precision은 흔히 \"정확도\" 이라고 불리는 지표로, 맞다고 예측한 것 중에 실제로 맞는 것의 비율을 의미함.\n",
        "\n",
        "-----\n",
        "\n",
        "    [추천시스템과 Precision, Recall]\n",
        "    1. 추천시스템에 이를 대입해보자\n",
        "    2. 유저A가 실제로 시청한 영화들을 a, 모델이 유저 A가 볼 것이라고 예측한 영화들을 b라고 가정\n",
        "    3. 이 때 모델이 10개의 영화를 예측 했다면 Top 10 Precision 계산할 수 있음.\n",
        "    4. Recall 역시 마찬가지의 방법으로 구할 수 있음.\n",
        "    5. Precision과 Recall에 대한 선택 기준은 상황마다 다르지만, 추천시스템에서 일반적으로 사용하는 지표는 \"MAP\"\n",
        "    6. MAP(Mean Average Precision) : 추천시스템에서는 각 유저마다의 Precision을 계산한 뒤, 이것을 모든 추천 대상 유저로 확장하여 평균적인 지표를 계산한 것이라고 볼 수 있음."
      ]
    },
    {
      "cell_type": "code",
      "metadata": {
        "id": "niAfdiveU_8r"
      },
      "source": [
        "# 4점 이상을 준 test 시청리스트만 추출"
      ],
      "execution_count": null,
      "outputs": []
    },
    {
      "cell_type": "code",
      "metadata": {
        "id": "OdTQhBxNfGtd"
      },
      "source": [
        "user_metric = []\n",
        "\n",
        "# 유저별 k개의 선호 리스트 추출\n",
        "k = 3\n",
        "for user in estimated_unwatched_dict:\n",
        "  pass  # 선호 리스트 추출"
      ],
      "execution_count": null,
      "outputs": []
    },
    {
      "cell_type": "code",
      "metadata": {
        "id": "ZWB5e4l-Wty0"
      },
      "source": [
        "# 유저 한 명의 Precision 계산\n",
        "predictive_values = ??\n",
        "actual_values = ??\n",
        "tp = [pv for pv in predictive_values if pv in actual_values]\n",
        "len(tp) / len(predictive_values)"
      ],
      "execution_count": null,
      "outputs": []
    },
    {
      "cell_type": "code",
      "metadata": {
        "id": "EWKsOkHLURnq"
      },
      "source": [
        "# user metric를 인자로 받는 일반화된 Precision 계산 함수 정의\n",
        "def get_map(user_list):\n",
        "  pass\n",
        "\n",
        "get_map(user_metric)"
      ],
      "execution_count": null,
      "outputs": []
    },
    {
      "cell_type": "markdown",
      "metadata": {
        "id": "173B_mtnUX7d"
      },
      "source": [
        "### 문제 18. 추천 결과 평가 & 시각화 - K 파라미터 별 추천 결과 시각화"
      ]
    },
    {
      "cell_type": "code",
      "metadata": {
        "id": "K5oQnh3XVYdb"
      },
      "source": [
        "# user metric를 인자로 받는 일반화된 Precision 계산 함수 정의\n",
        "def get_map_topk(k):\n",
        "  pass"
      ],
      "execution_count": null,
      "outputs": []
    },
    {
      "cell_type": "code",
      "metadata": {
        "id": "lUd0YOe2fFUn"
      },
      "source": [
        "# 반복문, plot 함수를 활용하여 k 파라미터 튜닝 관찰 및 자동화"
      ],
      "execution_count": null,
      "outputs": []
    },
    {
      "cell_type": "code",
      "metadata": {
        "id": "sF0D73o6-U9x"
      },
      "source": [
        ""
      ],
      "execution_count": null,
      "outputs": []
    }
  ]
}