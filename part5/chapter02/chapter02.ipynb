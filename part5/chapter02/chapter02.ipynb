{
  "nbformat": 4,
  "nbformat_minor": 0,
  "metadata": {
    "colab": {
      "name": "[실습] Chapter 02_Embedding _ Ranking 기반 영화 추천 모델.ipynb",
      "provenance": [],
      "collapsed_sections": []
    },
    "kernelspec": {
      "display_name": "Python 3",
      "language": "python",
      "name": "python3"
    },
    "language_info": {
      "codemirror_mode": {
        "name": "ipython",
        "version": 3
      },
      "file_extension": ".py",
      "mimetype": "text/x-python",
      "name": "python",
      "nbconvert_exporter": "python",
      "pygments_lexer": "ipython3",
      "version": "3.7.7"
    }
  },
  "cells": [
    {
      "cell_type": "markdown",
      "metadata": {
        "id": "NqqLNJZjfi8U"
      },
      "source": [
        "# 주제 : 추천 시스템 - 영화 데이터셋과 Embedding & Ranking 알고리즘으로 추천시스템 만들기\n",
        "----------\n",
        "\n",
        "## 실습 가이드\n",
        "    1. 데이터를 다운로드하여 Colab에 불러옵니다.\n",
        "    2. 필요한 라이브러리는 모두 코드로 작성되어 있습니다.\n",
        "    3. 코드는 위에서부터 아래로 순서대로 실행합니다.\n",
        "    4. 전체 문제 구성은 좌측 첫 번째 아이콘을 통해 확인할 수 있습니다.\n",
        "    \n",
        "    \n",
        "## 데이터 소개\n",
        "    - 이번 주제도 마찬가지로 MovieLens Dataset을 사용합니다.\n",
        "    - 같은 데이터라도 상황과 데이터의 크기에 따라 다양한 추천 방법을 활용할 수 있어야 합니다.\n",
        "    - 파일은 세 개 이며, 각각의 컬럼은 아래와 같습니다.\n",
        "    \n",
        "    1. ratings.dat\n",
        "    user_id : 영화를 시청한 사용자 아이디\n",
        "    movie_id : 영화의 아이디\n",
        "    rating : 사용자가 영화를 평가한 점수\n",
        "    time : 사용자가 영화를 시청한 시간\n",
        "    \n",
        "    2. movies.dat\n",
        "    movie_id : 영화의 아이디\n",
        "    title : 영화 제목\n",
        "    genre : 영화 장르\n",
        "\n",
        "    3. users.dat\n",
        "    user_id : 사용자 아이디\n",
        "    gender : 사용자 성별\n",
        "    age : 사용자 나이\n",
        "    occupation : 사용자 직업코드\n",
        "    zipcode : 사용자 거주코드\n",
        "\n",
        "    \n",
        "- 데이터 출처: https://grouplens.org/datasets/movielens/\n",
        "\n",
        "\n",
        "## 최종 목표\n",
        "    - Large-Scale 에서 적용 가능한 추천시스템 구조 이해\n",
        "    - Word2Vec 기반의 임베딩 모델 이해\n",
        "    - EDA로 수행할 수 있는 다양한 인사이트 활용\n",
        "    - Point-wise 모델링에 대한 이해\n",
        "    - Factorization Machine 알고리즘에 대한 이해\n",
        "    - ML에 활용할 수 있는 데이터 변환 능력 습득\n",
        "    - 모델의 추천 결과를 평가하는 방법에 대한 연습\n",
        "\n",
        "- 출제자 : 윤기태 강사\n",
        "---"
      ]
    },
    {
      "cell_type": "markdown",
      "metadata": {
        "id": "z3ImE3b9W1bu"
      },
      "source": [
        "## Step 1. Word2Vec 알고리즘 기반 추천 후보군 생성"
      ]
    },
    {
      "cell_type": "markdown",
      "metadata": {
        "id": "80IuPq2yozGm"
      },
      "source": [
        "#### Rating Matrix 기반 추천시스템의 한계\n",
        "\n",
        "    [Memory Based Recommendations]\n",
        "    1. 만약 유저, 영화의 수가 3000이 아니라 3천만 개 라면?\n",
        "    2. Matrix의 크기는 30,000,000 X 30,000,000\n",
        "    3. 연산량 자체도 문제가 되지만, Extreme Sparse 벡터가 되면서 정확도 역시 현저하게 떨어지게 됨\n",
        "    4. 차원축소, ALS 등의 방법으로 어느정도 극복할 수 있지만, 근본적인 해결책이 되지는 못함\n",
        "\n",
        "- Recommendation in Large Scale System\n",
        "  - Architecture\n",
        "  ![recsys_architecture](https://img1.daumcdn.net/thumb/R1280x0/?scode=mtistory2&fname=https%3A%2F%2Fblog.kakaocdn.net%2Fdn%2F30pCp%2Fbtqv7PV6365%2FCkl5dwvSoQF3RdneCIzGr1%2Fimg.png)\n",
        "  - 데이터 수집과 처리 단계를 제외하면, 추천시스템은 다음과 같은 레이어로 구분되는 추세\n",
        "    - `Generate Candidates` : 수백, 수천만개의 Item 중, 후보가 될 만한 Item을 추출. 여기에 CF 등의 방법을 사용할 수도 있지만, 일반적으로는 연산량이 작은 여러 개의 전략(시나리오)들을 합쳐서 coverage 자체를 확보하는 역할을 함. 예를 들면 인기도가 높은 Item, 연관성이 높은 Item 등을 별개의 전략으로 추출하는 것.\n",
        "    - `Intention Predict` : User의 Context에 기반하여 Candidates를 한 번 더 좁혀주는 역할. 반드시 필요한 단계는 아니며, Candidates를 추렸음에도 여전히 Large Scale 문제를 가지고 있는 경우에 필터링의 역할로 사용할 수 있음.\n",
        "    - `Personalized Ranking` : 일반적으로 추천시스템에서 추천이 잘 되었는지를 평가하는 지표는 CTR, CVR 같은 지표. 이 지표들을 Maximize 할 수 있는 방법으로 개인화 모델을 학습. 일반적인 Classifier를 생각해도 무방하며, 학습 데이터셋을 잘 구축하는 것이 좋은 추천 랭킹모델을 만드는 것.\n",
        "\n",
        "![recsys_architecture2](https://img1.daumcdn.net/thumb/R1280x0/?scode=mtistory2&fname=https%3A%2F%2Fblog.kakaocdn.net%2Fdn%2FUsbKo%2Fbtqv7PBN46z%2Fd4m5pf7lrKs1CqxzkROY81%2Fimg.png)\n",
        "\n",
        "\n",
        "-----"
      ]
    },
    {
      "cell_type": "markdown",
      "metadata": {
        "id": "fP3kOoWly9U4"
      },
      "source": [
        "#### Word2Vec 기반의 Movie2Vec 만들기\n",
        "\n",
        "    [Word2Vec]\n",
        "    1. 임베딩(Embedding) 방법론 중 가장 대중적이고 성능이 좋은 방법\n",
        "    2. 같은 문장 내, 혹은 비슷한 위치에 등장하는 단어들은 유사한 의미를 가지고 있을 것이라는 가정.\n",
        "    3. 원래는 단어를 벡터로 표현하는 방법으로 고안되었지만, word2vec의 메커니즘을 다양하게 활용할 수 있음\n",
        "    4. Word2Vec은 중심 단어와 주변 단어와의 연관성을 학습하여 벡터로 표현함.\n",
        "      - 예시 문장 : \"역시 성공은 고난을 동반 말없이 등산을 등반하는 것처럼\"\n",
        "      - 만약 \"성공\"이라는 단어를 중심 단어로 활용한다면, [역시, _, 고난을, 동반] 이러한 주변 단어를 가지고 중심에 있는 단어의 벡터를 학습할 수 있게 됨. (Skip-gram 방식. CBOW는 반대)\n",
        "\n",
        "![skipgram](http://i.imgur.com/TupGxMl.png)\n",
        "\n",
        "    [학습 원리]\n",
        "    1. 단어셋의 크기를 dim으로 하는 input/output 벡터를 활용하여 softmax classification\n",
        "    2. 따라서 아래 함수를 최소화 하는 것을 목표로 하는 network를 학습하게 됨\n",
        "\n",
        "![function](https://raw.githubusercontent.com/yoonkt200/FastCampusDataset/master/images/function.png)\n",
        "\n",
        "    [벡터 표현]\n",
        "    1. 학습된 네트워크의 hidden layer (projection layer)에 단어의 벡터가 표현됨\n",
        "    2. 이를 lookup 이라고 함\n",
        "\n",
        "![lookup](https://raw.githubusercontent.com/yoonkt200/FastCampusDataset/master/images/lookup.png)\n",
        "\n",
        "-----\n",
        "\n",
        "    [영화의 벡터 표현]\n",
        "    1. word2vec 방법에서 word를 item으로 치환하면, item2vec으로 활용할 수 있음 (많은 추천시스템에서 활용하는 방법)\n",
        "    2. 단, 이 방법은 데이터의 meta-data가 하나의 축으로 이루어진 단어에서와 달리, 영화처럼 multi-axis meta-data를 가진 데이터에서는 완전한 표현이라고 볼 수 없음 (ex. 장르, 감독 등등의 정보)\n",
        "    3. 또한 item2vec 메커니즘을 추천시스템에 활용하면 필연적으로 cold-start 문제가 발생할 수 있음\n",
        "    4. `Cold-start Problem` : 새로운 유저나 새로운 아이템을 대상으로 추천하게 될 때, 기존 학습모델에서는 등장한 적 없는 데이터이기 때문에 추천 대상으로 포함되기 어려운 현상\n",
        "    5. 임베딩 기반 추천에서 cold-start를 극복하는 방법은 여러가지가 있지만, 그 중에서 가장 적용하기 간단하면서도 중요한 개념을 담고 있는 meta-prod2vec을 활용\n",
        "    6. 자세한 내용 : https://arxiv.org/pdf/1607.07326.pdf\n",
        "\n",
        "![meta-prod2vec](https://image.slidesharecdn.com/metaprod2vec-161007133531/95/metaprod2vec-simple-product-embeddings-with-sideinformation-36-638.jpg?cb=1475847427)"
      ]
    },
    {
      "cell_type": "markdown",
      "metadata": {
        "id": "OxCZryRrfi8Y"
      },
      "source": [
        "### 문제 1. 데이터 불러오기"
      ]
    },
    {
      "cell_type": "code",
      "metadata": {
        "id": "anUepBeJfi8V"
      },
      "source": [
        "import pandas as pd\n",
        "\n",
        "rating_url = 'https://raw.githubusercontent.com/yoonkt200/python-data-analysis/master/data/ml-1m/ratings.dat'\n",
        "rating_df = pd.io.parsers.read_csv(rating_url, names=['user_id', 'movie_id', 'rating', 'time'], delimiter='::', engine ='python')\n",
        "\n",
        "movie_url = 'https://raw.githubusercontent.com/yoonkt200/python-data-analysis/master/data/ml-1m/movies.dat'\n",
        "movie_df = pd.io.parsers.read_csv(movie_url, names=['movie_id', 'title', 'genre'], delimiter='::', engine ='python', encoding='ISO-8859-1')\n",
        "\n",
        "user_url = 'https://raw.githubusercontent.com/yoonkt200/python-data-analysis/master/data/ml-1m/users.dat'\n",
        "user_df = pd.io.parsers.read_csv(user_url, names=['user_id', 'gender', 'age', 'occupation', 'zipcode'], delimiter='::', engine ='python')"
      ],
      "execution_count": 1,
      "outputs": []
    },
    {
      "cell_type": "markdown",
      "metadata": {
        "id": "O6EUoRG3fi8Z"
      },
      "source": [
        "### 문제 2. EDA & 전처리 - 사용자별 시청 목록 추출"
      ]
    },
    {
      "cell_type": "code",
      "metadata": {
        "id": "q_thuiGNlQ0e"
      },
      "source": [
        "# groupby, apply 함수로 사용자별 시청 목록 추출\n",
        "def get_recent_movie_list_sort_by_time(x):\n",
        "  return x.sort_values(['time'])['movie_id'].tolist() #시청 시간별로 사용자별 시청목록 추출\n",
        "\n",
        "user_watch_list = rating_df.groupby('user_id')[['movie_id','time']].apply(lambda x: get_recent_movie_list_sort_by_time(x))"
      ],
      "execution_count": 2,
      "outputs": []
    },
    {
      "cell_type": "code",
      "metadata": {
        "colab": {
          "base_uri": "https://localhost:8080/"
        },
        "id": "CzMwlyeBNO4Y",
        "outputId": "d61447c8-b0e7-4737-c865-f053d45b92d7"
      },
      "source": [
        "user_watch_list"
      ],
      "execution_count": 3,
      "outputs": [
        {
          "output_type": "execute_result",
          "data": {
            "text/plain": [
              "user_id\n",
              "1       [3186, 1721, 1022, 1270, 2340, 1836, 3408, 120...\n",
              "2       [1198, 1217, 1210, 2717, 1293, 2943, 1225, 119...\n",
              "3       [593, 2858, 3534, 1968, 1961, 1431, 1266, 1378...\n",
              "4       [1210, 1097, 3468, 3527, 480, 260, 1196, 1198,...\n",
              "5       [2717, 919, 908, 356, 1250, 2188, 2858, 1127, ...\n",
              "                              ...                        \n",
              "6036    [1721, 2376, 3438, 2428, 1883, 2492, 2827, 268...\n",
              "6037    [1882, 2028, 1267, 702, 3508, 562, 3148, 858, ...\n",
              "6038    [920, 3396, 1210, 2146, 356, 1387, 1079, 1148,...\n",
              "6039    [111, 282, 2067, 930, 1230, 3133, 3022, 947, 3...\n",
              "6040    [858, 2384, 593, 1961, 2019, 573, 3111, 3505, ...\n",
              "Length: 6040, dtype: object"
            ]
          },
          "metadata": {},
          "execution_count": 3
        }
      ]
    },
    {
      "cell_type": "code",
      "metadata": {
        "colab": {
          "base_uri": "https://localhost:8080/"
        },
        "id": "s0Qfmy0iNTKh",
        "outputId": "fac3ed80-4d47-48ca-8fe2-d6112a91e9ff"
      },
      "source": [
        "rating_df['movie_id'].value_counts()"
      ],
      "execution_count": 4,
      "outputs": [
        {
          "output_type": "execute_result",
          "data": {
            "text/plain": [
              "2858    3428\n",
              "260     2991\n",
              "1196    2990\n",
              "1210    2883\n",
              "480     2672\n",
              "        ... \n",
              "3323       1\n",
              "624        1\n",
              "763        1\n",
              "2484       1\n",
              "133        1\n",
              "Name: movie_id, Length: 3706, dtype: int64"
            ]
          },
          "metadata": {},
          "execution_count": 4
        }
      ]
    },
    {
      "cell_type": "code",
      "metadata": {
        "colab": {
          "base_uri": "https://localhost:8080/",
          "height": 283
        },
        "id": "rhPtLzj2NbH6",
        "outputId": "e439f443-7dbe-4b33-d2d5-758ffb9b4722"
      },
      "source": [
        "rating_df['movie_id'].value_counts().hist(bins = 100)"
      ],
      "execution_count": 5,
      "outputs": [
        {
          "output_type": "execute_result",
          "data": {
            "text/plain": [
              "<matplotlib.axes._subplots.AxesSubplot at 0x7f66010d78d0>"
            ]
          },
          "metadata": {},
          "execution_count": 5
        },
        {
          "output_type": "display_data",
          "data": {
            "image/png": "[encoded data removed]",
            "text/plain": [
              "<Figure size 432x288 with 1 Axes>"
            ]
          },
          "metadata": {
            "needs_background": "light"
          }
        }
      ]
    },
    {
      "cell_type": "markdown",
      "metadata": {
        "id": "VMdnS_mJfi8i"
      },
      "source": [
        "### 문제 3. EDA & 전처리 - 영화 개봉년도 피쳐 생성"
      ]
    },
    {
      "cell_type": "code",
      "metadata": {
        "colab": {
          "base_uri": "https://localhost:8080/",
          "height": 206
        },
        "id": "_IWsz3v1fi8g",
        "outputId": "36ecf450-7292-4b7c-b097-99de1be4a317"
      },
      "source": [
        "movie_df.head()"
      ],
      "execution_count": 6,
      "outputs": [
        {
          "output_type": "execute_result",
          "data": {
            "text/html": [
              "<div>\n",
              "<style scoped>\n",
              "    .dataframe tbody tr th:only-of-type {\n",
              "        vertical-align: middle;\n",
              "    }\n",
              "\n",
              "    .dataframe tbody tr th {\n",
              "        vertical-align: top;\n",
              "    }\n",
              "\n",
              "    .dataframe thead th {\n",
              "        text-align: right;\n",
              "    }\n",
              "</style>\n",
              "<table border=\"1\" class=\"dataframe\">\n",
              "  <thead>\n",
              "    <tr style=\"text-align: right;\">\n",
              "      <th></th>\n",
              "      <th>movie_id</th>\n",
              "      <th>title</th>\n",
              "      <th>genre</th>\n",
              "    </tr>\n",
              "  </thead>\n",
              "  <tbody>\n",
              "    <tr>\n",
              "      <th>0</th>\n",
              "      <td>1</td>\n",
              "      <td>Toy Story (1995)</td>\n",
              "      <td>Animation|Children's|Comedy</td>\n",
              "    </tr>\n",
              "    <tr>\n",
              "      <th>1</th>\n",
              "      <td>2</td>\n",
              "      <td>Jumanji (1995)</td>\n",
              "      <td>Adventure|Children's|Fantasy</td>\n",
              "    </tr>\n",
              "    <tr>\n",
              "      <th>2</th>\n",
              "      <td>3</td>\n",
              "      <td>Grumpier Old Men (1995)</td>\n",
              "      <td>Comedy|Romance</td>\n",
              "    </tr>\n",
              "    <tr>\n",
              "      <th>3</th>\n",
              "      <td>4</td>\n",
              "      <td>Waiting to Exhale (1995)</td>\n",
              "      <td>Comedy|Drama</td>\n",
              "    </tr>\n",
              "    <tr>\n",
              "      <th>4</th>\n",
              "      <td>5</td>\n",
              "      <td>Father of the Bride Part II (1995)</td>\n",
              "      <td>Comedy</td>\n",
              "    </tr>\n",
              "  </tbody>\n",
              "</table>\n",
              "</div>"
            ],
            "text/plain": [
              "   movie_id                               title                         genre\n",
              "0         1                    Toy Story (1995)   Animation|Children's|Comedy\n",
              "1         2                      Jumanji (1995)  Adventure|Children's|Fantasy\n",
              "2         3             Grumpier Old Men (1995)                Comedy|Romance\n",
              "3         4            Waiting to Exhale (1995)                  Comedy|Drama\n",
              "4         5  Father of the Bride Part II (1995)                        Comedy"
            ]
          },
          "metadata": {},
          "execution_count": 6
        }
      ]
    },
    {
      "cell_type": "code",
      "metadata": {
        "id": "XZkIJUvWqraa"
      },
      "source": [
        "# title 피처에서 개봉 년도 (ex. 1990, 2000...) 분리\n",
        "movie_df['decade'] = movie_df['title'].apply(lambda x : x[-5:-2] + '0')"
      ],
      "execution_count": 7,
      "outputs": []
    },
    {
      "cell_type": "code",
      "metadata": {
        "colab": {
          "base_uri": "https://localhost:8080/",
          "height": 206
        },
        "id": "kpiOrdaeNxip",
        "outputId": "8c1c5677-a085-4c22-e198-58182e6f9688"
      },
      "source": [
        "movie_df.head()"
      ],
      "execution_count": 8,
      "outputs": [
        {
          "output_type": "execute_result",
          "data": {
            "text/html": [
              "<div>\n",
              "<style scoped>\n",
              "    .dataframe tbody tr th:only-of-type {\n",
              "        vertical-align: middle;\n",
              "    }\n",
              "\n",
              "    .dataframe tbody tr th {\n",
              "        vertical-align: top;\n",
              "    }\n",
              "\n",
              "    .dataframe thead th {\n",
              "        text-align: right;\n",
              "    }\n",
              "</style>\n",
              "<table border=\"1\" class=\"dataframe\">\n",
              "  <thead>\n",
              "    <tr style=\"text-align: right;\">\n",
              "      <th></th>\n",
              "      <th>movie_id</th>\n",
              "      <th>title</th>\n",
              "      <th>genre</th>\n",
              "      <th>decade</th>\n",
              "    </tr>\n",
              "  </thead>\n",
              "  <tbody>\n",
              "    <tr>\n",
              "      <th>0</th>\n",
              "      <td>1</td>\n",
              "      <td>Toy Story (1995)</td>\n",
              "      <td>Animation|Children's|Comedy</td>\n",
              "      <td>1990</td>\n",
              "    </tr>\n",
              "    <tr>\n",
              "      <th>1</th>\n",
              "      <td>2</td>\n",
              "      <td>Jumanji (1995)</td>\n",
              "      <td>Adventure|Children's|Fantasy</td>\n",
              "      <td>1990</td>\n",
              "    </tr>\n",
              "    <tr>\n",
              "      <th>2</th>\n",
              "      <td>3</td>\n",
              "      <td>Grumpier Old Men (1995)</td>\n",
              "      <td>Comedy|Romance</td>\n",
              "      <td>1990</td>\n",
              "    </tr>\n",
              "    <tr>\n",
              "      <th>3</th>\n",
              "      <td>4</td>\n",
              "      <td>Waiting to Exhale (1995)</td>\n",
              "      <td>Comedy|Drama</td>\n",
              "      <td>1990</td>\n",
              "    </tr>\n",
              "    <tr>\n",
              "      <th>4</th>\n",
              "      <td>5</td>\n",
              "      <td>Father of the Bride Part II (1995)</td>\n",
              "      <td>Comedy</td>\n",
              "      <td>1990</td>\n",
              "    </tr>\n",
              "  </tbody>\n",
              "</table>\n",
              "</div>"
            ],
            "text/plain": [
              "   movie_id  ... decade\n",
              "0         1  ...   1990\n",
              "1         2  ...   1990\n",
              "2         3  ...   1990\n",
              "3         4  ...   1990\n",
              "4         5  ...   1990\n",
              "\n",
              "[5 rows x 4 columns]"
            ]
          },
          "metadata": {},
          "execution_count": 8
        }
      ]
    },
    {
      "cell_type": "code",
      "metadata": {
        "id": "2Os1pLHsPJY_"
      },
      "source": [
        ""
      ],
      "execution_count": 8,
      "outputs": []
    },
    {
      "cell_type": "code",
      "metadata": {
        "id": "gOi0_th5smr8"
      },
      "source": [
        "import seaborn as sns\n",
        "\n",
        "# sns.barplot으로 개봉 년도별 영화 갯수 시각화\n",
        "released_year_area = movie_df['decade'].value_counts().sort_index()"
      ],
      "execution_count": 9,
      "outputs": []
    },
    {
      "cell_type": "code",
      "metadata": {
        "colab": {
          "base_uri": "https://localhost:8080/",
          "height": 339
        },
        "id": "GR_t9VaZWsUM",
        "outputId": "42008b83-f454-4928-c417-d231524a500f"
      },
      "source": [
        "sns.barplot(released_year_area.index, released_year_area.values)"
      ],
      "execution_count": 10,
      "outputs": [
        {
          "output_type": "stream",
          "name": "stderr",
          "text": [
            "/usr/local/lib/python3.7/dist-packages/seaborn/_decorators.py:43: FutureWarning: Pass the following variables as keyword args: x, y. From version 0.12, the only valid positional argument will be `data`, and passing other arguments without an explicit keyword will result in an error or misinterpretation.\n",
            "  FutureWarning\n"
          ]
        },
        {
          "output_type": "execute_result",
          "data": {
            "text/plain": [
              "<matplotlib.axes._subplots.AxesSubplot at 0x7f65f63f9590>"
            ]
          },
          "metadata": {},
          "execution_count": 10
        },
        {
          "output_type": "display_data",
          "data": {
            "image/png": "[encoded data removed]",
            "text/plain": [
              "<Figure size 432x288 with 1 Axes>"
            ]
          },
          "metadata": {
            "needs_background": "light"
          }
        }
      ]
    },
    {
      "cell_type": "markdown",
      "metadata": {
        "id": "kU-ADcR81zRo"
      },
      "source": [
        "### 문제 4. EDA & 전처리 - 영화 장르 피쳐 생성"
      ]
    },
    {
      "cell_type": "code",
      "metadata": {
        "colab": {
          "base_uri": "https://localhost:8080/"
        },
        "id": "DcLGYDO6134D",
        "outputId": "7c3fd314-194b-461b-d312-43dcecc6fd21"
      },
      "source": [
        "movie_df['genre'].value_counts()"
      ],
      "execution_count": 11,
      "outputs": [
        {
          "output_type": "execute_result",
          "data": {
            "text/plain": [
              "Drama                                  843\n",
              "Comedy                                 521\n",
              "Horror                                 178\n",
              "Comedy|Drama                           162\n",
              "Comedy|Romance                         142\n",
              "                                      ... \n",
              "Action|Adventure|Romance|Sci-Fi|War      1\n",
              "Sci-Fi|Thriller|War                      1\n",
              "Fantasy                                  1\n",
              "Action|Adventure|Comedy|Horror           1\n",
              "Action|Adventure|Comedy|War              1\n",
              "Name: genre, Length: 301, dtype: int64"
            ]
          },
          "metadata": {},
          "execution_count": 11
        }
      ]
    },
    {
      "cell_type": "code",
      "metadata": {
        "colab": {
          "base_uri": "https://localhost:8080/",
          "height": 283
        },
        "id": "WLanYnuGXFnc",
        "outputId": "daa11e53-2b81-4dbd-eeb2-3861b527e007"
      },
      "source": [
        "movie_df['genre'].value_counts().hist(bins = 100)"
      ],
      "execution_count": 12,
      "outputs": [
        {
          "output_type": "execute_result",
          "data": {
            "text/plain": [
              "<matplotlib.axes._subplots.AxesSubplot at 0x7f65f62dcb50>"
            ]
          },
          "metadata": {},
          "execution_count": 12
        },
        {
          "output_type": "display_data",
          "data": {
            "image/png": "[encoded data removed]",
            "text/plain": [
              "<Figure size 432x288 with 1 Axes>"
            ]
          },
          "metadata": {
            "needs_background": "light"
          }
        }
      ]
    },
    {
      "cell_type": "code",
      "metadata": {
        "id": "8_A_F15zuTgo"
      },
      "source": [
        "# genre 피처에서 영화의 대표 장르 추출\n",
        "movie_df['main_genre'] = movie_df['genre'].apply(lambda x: x.split('|')[0])"
      ],
      "execution_count": 13,
      "outputs": []
    },
    {
      "cell_type": "code",
      "metadata": {
        "colab": {
          "base_uri": "https://localhost:8080/",
          "height": 423
        },
        "id": "Sfk21FGxcc_P",
        "outputId": "2951fbca-5cc8-4d31-d262-62e5bae843fe"
      },
      "source": [
        "movie_df"
      ],
      "execution_count": 14,
      "outputs": [
        {
          "output_type": "execute_result",
          "data": {
            "text/html": [
              "<div>\n",
              "<style scoped>\n",
              "    .dataframe tbody tr th:only-of-type {\n",
              "        vertical-align: middle;\n",
              "    }\n",
              "\n",
              "    .dataframe tbody tr th {\n",
              "        vertical-align: top;\n",
              "    }\n",
              "\n",
              "    .dataframe thead th {\n",
              "        text-align: right;\n",
              "    }\n",
              "</style>\n",
              "<table border=\"1\" class=\"dataframe\">\n",
              "  <thead>\n",
              "    <tr style=\"text-align: right;\">\n",
              "      <th></th>\n",
              "      <th>movie_id</th>\n",
              "      <th>title</th>\n",
              "      <th>genre</th>\n",
              "      <th>decade</th>\n",
              "      <th>main_genre</th>\n",
              "    </tr>\n",
              "  </thead>\n",
              "  <tbody>\n",
              "    <tr>\n",
              "      <th>0</th>\n",
              "      <td>1</td>\n",
              "      <td>Toy Story (1995)</td>\n",
              "      <td>Animation|Children's|Comedy</td>\n",
              "      <td>1990</td>\n",
              "      <td>Animation</td>\n",
              "    </tr>\n",
              "    <tr>\n",
              "      <th>1</th>\n",
              "      <td>2</td>\n",
              "      <td>Jumanji (1995)</td>\n",
              "      <td>Adventure|Children's|Fantasy</td>\n",
              "      <td>1990</td>\n",
              "      <td>Adventure</td>\n",
              "    </tr>\n",
              "    <tr>\n",
              "      <th>2</th>\n",
              "      <td>3</td>\n",
              "      <td>Grumpier Old Men (1995)</td>\n",
              "      <td>Comedy|Romance</td>\n",
              "      <td>1990</td>\n",
              "      <td>Comedy</td>\n",
              "    </tr>\n",
              "    <tr>\n",
              "      <th>3</th>\n",
              "      <td>4</td>\n",
              "      <td>Waiting to Exhale (1995)</td>\n",
              "      <td>Comedy|Drama</td>\n",
              "      <td>1990</td>\n",
              "      <td>Comedy</td>\n",
              "    </tr>\n",
              "    <tr>\n",
              "      <th>4</th>\n",
              "      <td>5</td>\n",
              "      <td>Father of the Bride Part II (1995)</td>\n",
              "      <td>Comedy</td>\n",
              "      <td>1990</td>\n",
              "      <td>Comedy</td>\n",
              "    </tr>\n",
              "    <tr>\n",
              "      <th>...</th>\n",
              "      <td>...</td>\n",
              "      <td>...</td>\n",
              "      <td>...</td>\n",
              "      <td>...</td>\n",
              "      <td>...</td>\n",
              "    </tr>\n",
              "    <tr>\n",
              "      <th>3878</th>\n",
              "      <td>3948</td>\n",
              "      <td>Meet the Parents (2000)</td>\n",
              "      <td>Comedy</td>\n",
              "      <td>2000</td>\n",
              "      <td>Comedy</td>\n",
              "    </tr>\n",
              "    <tr>\n",
              "      <th>3879</th>\n",
              "      <td>3949</td>\n",
              "      <td>Requiem for a Dream (2000)</td>\n",
              "      <td>Drama</td>\n",
              "      <td>2000</td>\n",
              "      <td>Drama</td>\n",
              "    </tr>\n",
              "    <tr>\n",
              "      <th>3880</th>\n",
              "      <td>3950</td>\n",
              "      <td>Tigerland (2000)</td>\n",
              "      <td>Drama</td>\n",
              "      <td>2000</td>\n",
              "      <td>Drama</td>\n",
              "    </tr>\n",
              "    <tr>\n",
              "      <th>3881</th>\n",
              "      <td>3951</td>\n",
              "      <td>Two Family House (2000)</td>\n",
              "      <td>Drama</td>\n",
              "      <td>2000</td>\n",
              "      <td>Drama</td>\n",
              "    </tr>\n",
              "    <tr>\n",
              "      <th>3882</th>\n",
              "      <td>3952</td>\n",
              "      <td>Contender, The (2000)</td>\n",
              "      <td>Drama|Thriller</td>\n",
              "      <td>2000</td>\n",
              "      <td>Drama</td>\n",
              "    </tr>\n",
              "  </tbody>\n",
              "</table>\n",
              "<p>3883 rows × 5 columns</p>\n",
              "</div>"
            ],
            "text/plain": [
              "      movie_id                               title  ... decade main_genre\n",
              "0            1                    Toy Story (1995)  ...   1990  Animation\n",
              "1            2                      Jumanji (1995)  ...   1990  Adventure\n",
              "2            3             Grumpier Old Men (1995)  ...   1990     Comedy\n",
              "3            4            Waiting to Exhale (1995)  ...   1990     Comedy\n",
              "4            5  Father of the Bride Part II (1995)  ...   1990     Comedy\n",
              "...        ...                                 ...  ...    ...        ...\n",
              "3878      3948             Meet the Parents (2000)  ...   2000     Comedy\n",
              "3879      3949          Requiem for a Dream (2000)  ...   2000      Drama\n",
              "3880      3950                    Tigerland (2000)  ...   2000      Drama\n",
              "3881      3951             Two Family House (2000)  ...   2000      Drama\n",
              "3882      3952               Contender, The (2000)  ...   2000      Drama\n",
              "\n",
              "[3883 rows x 5 columns]"
            ]
          },
          "metadata": {},
          "execution_count": 14
        }
      ]
    },
    {
      "cell_type": "code",
      "metadata": {
        "id": "vufDlDEeub0A",
        "colab": {
          "base_uri": "https://localhost:8080/"
        },
        "outputId": "bbdcc366-b269-4ed1-efb7-fa39ea2c0d1f"
      },
      "source": [
        "movie_df['main_genre'].value_counts()"
      ],
      "execution_count": 15,
      "outputs": [
        {
          "output_type": "execute_result",
          "data": {
            "text/plain": [
              "Drama          1176\n",
              "Comedy         1024\n",
              "Action          503\n",
              "Horror          262\n",
              "Adventure       155\n",
              "Crime           131\n",
              "Documentary     123\n",
              "Thriller        101\n",
              "Animation        90\n",
              "Children's       89\n",
              "Romance          50\n",
              "Sci-Fi           46\n",
              "Mystery          36\n",
              "Western          33\n",
              "Musical          25\n",
              "Film-Noir        25\n",
              "War              12\n",
              "Fantasy           2\n",
              "Name: main_genre, dtype: int64"
            ]
          },
          "metadata": {},
          "execution_count": 15
        }
      ]
    },
    {
      "cell_type": "markdown",
      "metadata": {
        "id": "nFu61UX8UI_Y"
      },
      "source": [
        "### 문제 5. Embedding - EDA 결과를 활용하여 Movie2Vec 학습"
      ]
    },
    {
      "cell_type": "code",
      "metadata": {
        "colab": {
          "base_uri": "https://localhost:8080/",
          "height": 206
        },
        "id": "XzK3cR10zJ5S",
        "outputId": "2c5c2737-7ddb-444e-fbec-9b5c7ebc8545"
      },
      "source": [
        "movie_df.head()"
      ],
      "execution_count": 16,
      "outputs": [
        {
          "output_type": "execute_result",
          "data": {
            "text/html": [
              "<div>\n",
              "<style scoped>\n",
              "    .dataframe tbody tr th:only-of-type {\n",
              "        vertical-align: middle;\n",
              "    }\n",
              "\n",
              "    .dataframe tbody tr th {\n",
              "        vertical-align: top;\n",
              "    }\n",
              "\n",
              "    .dataframe thead th {\n",
              "        text-align: right;\n",
              "    }\n",
              "</style>\n",
              "<table border=\"1\" class=\"dataframe\">\n",
              "  <thead>\n",
              "    <tr style=\"text-align: right;\">\n",
              "      <th></th>\n",
              "      <th>movie_id</th>\n",
              "      <th>title</th>\n",
              "      <th>genre</th>\n",
              "      <th>decade</th>\n",
              "      <th>main_genre</th>\n",
              "    </tr>\n",
              "  </thead>\n",
              "  <tbody>\n",
              "    <tr>\n",
              "      <th>0</th>\n",
              "      <td>1</td>\n",
              "      <td>Toy Story (1995)</td>\n",
              "      <td>Animation|Children's|Comedy</td>\n",
              "      <td>1990</td>\n",
              "      <td>Animation</td>\n",
              "    </tr>\n",
              "    <tr>\n",
              "      <th>1</th>\n",
              "      <td>2</td>\n",
              "      <td>Jumanji (1995)</td>\n",
              "      <td>Adventure|Children's|Fantasy</td>\n",
              "      <td>1990</td>\n",
              "      <td>Adventure</td>\n",
              "    </tr>\n",
              "    <tr>\n",
              "      <th>2</th>\n",
              "      <td>3</td>\n",
              "      <td>Grumpier Old Men (1995)</td>\n",
              "      <td>Comedy|Romance</td>\n",
              "      <td>1990</td>\n",
              "      <td>Comedy</td>\n",
              "    </tr>\n",
              "    <tr>\n",
              "      <th>3</th>\n",
              "      <td>4</td>\n",
              "      <td>Waiting to Exhale (1995)</td>\n",
              "      <td>Comedy|Drama</td>\n",
              "      <td>1990</td>\n",
              "      <td>Comedy</td>\n",
              "    </tr>\n",
              "    <tr>\n",
              "      <th>4</th>\n",
              "      <td>5</td>\n",
              "      <td>Father of the Bride Part II (1995)</td>\n",
              "      <td>Comedy</td>\n",
              "      <td>1990</td>\n",
              "      <td>Comedy</td>\n",
              "    </tr>\n",
              "  </tbody>\n",
              "</table>\n",
              "</div>"
            ],
            "text/plain": [
              "   movie_id                               title  ... decade main_genre\n",
              "0         1                    Toy Story (1995)  ...   1990  Animation\n",
              "1         2                      Jumanji (1995)  ...   1990  Adventure\n",
              "2         3             Grumpier Old Men (1995)  ...   1990     Comedy\n",
              "3         4            Waiting to Exhale (1995)  ...   1990     Comedy\n",
              "4         5  Father of the Bride Part II (1995)  ...   1990     Comedy\n",
              "\n",
              "[5 rows x 5 columns]"
            ]
          },
          "metadata": {},
          "execution_count": 16
        }
      ]
    },
    {
      "cell_type": "code",
      "metadata": {
        "id": "fYa5fBjQUTP5"
      },
      "source": [
        "movie_meta_dict = movie_df.set_index('movie_id')[['decade', 'main_genre']].to_dict()\n",
        "\n",
        "# ex.\n",
        "# {'main_genre': {1: 'Animation',\n",
        "#   2: 'Adventure',\n",
        "#   3: 'Comedy',\n",
        "#   4: 'Comedy',\n",
        "#   5: 'Comedy',\n",
        "#   ...\n",
        "#   'released_year_area': {...},\n",
        "#   ...\n",
        "# }"
      ],
      "execution_count": 17,
      "outputs": []
    },
    {
      "cell_type": "code",
      "metadata": {
        "colab": {
          "base_uri": "https://localhost:8080/"
        },
        "id": "SlHaDHHSXyFz",
        "outputId": "fde12af8-7978-4edd-cb5f-43f28dac0c49"
      },
      "source": [
        "movie_meta_dict"
      ],
      "execution_count": 18,
      "outputs": [
        {
          "output_type": "execute_result",
          "data": {
            "text/plain": [
              "{'decade': {1: '1990',\n",
              "  2: '1990',\n",
              "  3: '1990',\n",
              "  4: '1990',\n",
              "  5: '1990',\n",
              "  6: '1990',\n",
              "  7: '1990',\n",
              "  8: '1990',\n",
              "  9: '1990',\n",
              "  10: '1990',\n",
              "  11: '1990',\n",
              "  12: '1990',\n",
              "  13: '1990',\n",
              "  14: '1990',\n",
              "  15: '1990',\n",
              "  16: '1990',\n",
              "  17: '1990',\n",
              "  18: '1990',\n",
              "  19: '1990',\n",
              "  20: '1990',\n",
              "  21: '1990',\n",
              "  22: '1990',\n",
              "  23: '1990',\n",
              "  24: '1990',\n",
              "  25: '1990',\n",
              "  26: '1990',\n",
              "  27: '1990',\n",
              "  28: '1990',\n",
              "  29: '1990',\n",
              "  30: '1990',\n",
              "  31: '1990',\n",
              "  32: '1990',\n",
              "  33: '1990',\n",
              "  34: '1990',\n",
              "  35: '1990',\n",
              "  36: '1990',\n",
              "  37: '1990',\n",
              "  38: '1990',\n",
              "  39: '1990',\n",
              "  40: '1990',\n",
              "  41: '1990',\n",
              "  42: '1990',\n",
              "  43: '1990',\n",
              "  44: '1990',\n",
              "  45: '1990',\n",
              "  46: '1990',\n",
              "  47: '1990',\n",
              "  48: '1990',\n",
              "  49: '1990',\n",
              "  50: '1990',\n",
              "  51: '1990',\n",
              "  52: '1990',\n",
              "  53: '1990',\n",
              "  54: '1990',\n",
              "  55: '1990',\n",
              "  56: '1990',\n",
              "  57: '1990',\n",
              "  58: '1990',\n",
              "  59: '1990',\n",
              "  60: '1990',\n",
              "  61: '1990',\n",
              "  62: '1990',\n",
              "  63: '1990',\n",
              "  64: '1990',\n",
              "  65: '1990',\n",
              "  66: '1990',\n",
              "  67: '1990',\n",
              "  68: '1990',\n",
              "  69: '1990',\n",
              "  70: '1990',\n",
              "  71: '1990',\n",
              "  72: '1990',\n",
              "  73: '1990',\n",
              "  74: '1990',\n",
              "  75: '1990',\n",
              "  76: '1990',\n",
              "  77: '1990',\n",
              "  78: '1990',\n",
              "  79: '1990',\n",
              "  80: '1990',\n",
              "  81: '1990',\n",
              "  82: '1990',\n",
              "  83: '1990',\n",
              "  84: '1990',\n",
              "  85: '1990',\n",
              "  86: '1990',\n",
              "  87: '1990',\n",
              "  88: '1990',\n",
              "  89: '1990',\n",
              "  90: '1990',\n",
              "  92: '1990',\n",
              "  93: '1990',\n",
              "  94: '1990',\n",
              "  95: '1990',\n",
              "  96: '1990',\n",
              "  97: '1990',\n",
              "  98: '1990',\n",
              "  99: '1990',\n",
              "  100: '1990',\n",
              "  101: '1990',\n",
              "  102: '1990',\n",
              "  103: '1990',\n",
              "  104: '1990',\n",
              "  105: '1990',\n",
              "  106: '1990',\n",
              "  107: '1990',\n",
              "  108: '1990',\n",
              "  109: '1990',\n",
              "  110: '1990',\n",
              "  111: '1970',\n",
              "  112: '1990',\n",
              "  113: '1990',\n",
              "  114: '1990',\n",
              "  115: '1990',\n",
              "  116: '1990',\n",
              "  117: '1990',\n",
              "  118: '1990',\n",
              "  119: '1990',\n",
              "  120: '1990',\n",
              "  121: '1990',\n",
              "  122: '1990',\n",
              "  123: '1990',\n",
              "  124: '1990',\n",
              "  125: '1990',\n",
              "  126: '1990',\n",
              "  127: '1990',\n",
              "  128: '1990',\n",
              "  129: '1990',\n",
              "  130: '1990',\n",
              "  131: '1990',\n",
              "  132: '1990',\n",
              "  133: '1990',\n",
              "  134: '1990',\n",
              "  135: '1990',\n",
              "  136: '1990',\n",
              "  137: '1990',\n",
              "  138: '1990',\n",
              "  139: '1990',\n",
              "  140: '1990',\n",
              "  141: '1990',\n",
              "  142: '1980',\n",
              "  143: '1990',\n",
              "  144: '1990',\n",
              "  145: '1990',\n",
              "  146: '1990',\n",
              "  147: '1990',\n",
              "  148: '1990',\n",
              "  149: '1990',\n",
              "  150: '1990',\n",
              "  151: '1990',\n",
              "  152: '1990',\n",
              "  153: '1990',\n",
              "  154: '1960',\n",
              "  155: '1990',\n",
              "  156: '1990',\n",
              "  157: '1990',\n",
              "  158: '1990',\n",
              "  159: '1990',\n",
              "  160: '1990',\n",
              "  161: '1990',\n",
              "  162: '1990',\n",
              "  163: '1990',\n",
              "  164: '1990',\n",
              "  165: '1990',\n",
              "  166: '1990',\n",
              "  167: '1990',\n",
              "  168: '1990',\n",
              "  169: '1990',\n",
              "  170: '1990',\n",
              "  171: '1990',\n",
              "  172: '1990',\n",
              "  173: '1990',\n",
              "  174: '1990',\n",
              "  175: '1990',\n",
              "  176: '1990',\n",
              "  177: '1990',\n",
              "  178: '1990',\n",
              "  179: '1990',\n",
              "  180: '1990',\n",
              "  181: '1990',\n",
              "  182: '1990',\n",
              "  183: '1990',\n",
              "  184: '1990',\n",
              "  185: '1990',\n",
              "  186: '1990',\n",
              "  187: '1990',\n",
              "  188: '1990',\n",
              "  189: '1990',\n",
              "  190: '1990',\n",
              "  191: '1990',\n",
              "  192: '1990',\n",
              "  193: '1990',\n",
              "  194: '1990',\n",
              "  195: '1990',\n",
              "  196: '1990',\n",
              "  197: '1990',\n",
              "  198: '1990',\n",
              "  199: '1960',\n",
              "  200: '1990',\n",
              "  201: '1990',\n",
              "  202: '1990',\n",
              "  203: '1990',\n",
              "  204: '1990',\n",
              "  205: '1990',\n",
              "  206: '1990',\n",
              "  207: '1990',\n",
              "  208: '1990',\n",
              "  209: '1990',\n",
              "  210: '1990',\n",
              "  211: '1990',\n",
              "  212: '1990',\n",
              "  213: '1990',\n",
              "  214: '1990',\n",
              "  215: '1990',\n",
              "  216: '1990',\n",
              "  217: '1990',\n",
              "  218: '1990',\n",
              "  219: '1990',\n",
              "  220: '1990',\n",
              "  222: '1990',\n",
              "  223: '1990',\n",
              "  224: '1990',\n",
              "  225: '1990',\n",
              "  226: '1990',\n",
              "  227: '1990',\n",
              "  228: '1990',\n",
              "  229: '1990',\n",
              "  230: '1990',\n",
              "  231: '1990',\n",
              "  232: '1990',\n",
              "  233: '1990',\n",
              "  234: '1990',\n",
              "  235: '1990',\n",
              "  236: '1990',\n",
              "  237: '1990',\n",
              "  238: '1990',\n",
              "  239: '1990',\n",
              "  240: '1990',\n",
              "  241: '1990',\n",
              "  242: '1990',\n",
              "  243: '1990',\n",
              "  244: '1990',\n",
              "  245: '1990',\n",
              "  246: '1990',\n",
              "  247: '1990',\n",
              "  248: '1990',\n",
              "  249: '1990',\n",
              "  250: '1990',\n",
              "  251: '1990',\n",
              "  252: '1990',\n",
              "  253: '1990',\n",
              "  254: '1990',\n",
              "  255: '1990',\n",
              "  256: '1990',\n",
              "  257: '1990',\n",
              "  258: '1990',\n",
              "  259: '1990',\n",
              "  260: '1970',\n",
              "  261: '1990',\n",
              "  262: '1990',\n",
              "  263: '1990',\n",
              "  264: '1990',\n",
              "  265: '1990',\n",
              "  266: '1990',\n",
              "  267: '1990',\n",
              "  268: '1990',\n",
              "  269: '1990',\n",
              "  270: '1990',\n",
              "  271: '1990',\n",
              "  272: '1990',\n",
              "  273: '1990',\n",
              "  274: '1990',\n",
              "  275: '1990',\n",
              "  276: '1990',\n",
              "  277: '1990',\n",
              "  278: '1990',\n",
              "  279: '1990',\n",
              "  280: '1990',\n",
              "  281: '1990',\n",
              "  282: '1990',\n",
              "  283: '1990',\n",
              "  284: '1990',\n",
              "  285: '1990',\n",
              "  286: '1990',\n",
              "  287: '1990',\n",
              "  288: '1990',\n",
              "  289: '1990',\n",
              "  290: '1990',\n",
              "  291: '1990',\n",
              "  292: '1990',\n",
              "  293: '1990',\n",
              "  294: '1990',\n",
              "  295: '1990',\n",
              "  296: '1990',\n",
              "  297: '1990',\n",
              "  298: '1990',\n",
              "  299: '1990',\n",
              "  300: '1990',\n",
              "  301: '1990',\n",
              "  302: '1990',\n",
              "  303: '1990',\n",
              "  304: '1990',\n",
              "  305: '1990',\n",
              "  306: '1990',\n",
              "  307: '1990',\n",
              "  308: '1990',\n",
              "  309: '1990',\n",
              "  310: '1990',\n",
              "  311: '1990',\n",
              "  312: '1990',\n",
              "  313: '1990',\n",
              "  314: '1990',\n",
              "  315: '1990',\n",
              "  316: '1990',\n",
              "  317: '1990',\n",
              "  318: '1990',\n",
              "  319: '1990',\n",
              "  320: '1990',\n",
              "  321: '1990',\n",
              "  322: '1990',\n",
              "  324: '1990',\n",
              "  325: '1990',\n",
              "  326: '1990',\n",
              "  327: '1990',\n",
              "  328: '1990',\n",
              "  329: '1990',\n",
              "  330: '1990',\n",
              "  331: '1990',\n",
              "  332: '1990',\n",
              "  333: '1990',\n",
              "  334: '1990',\n",
              "  335: '1990',\n",
              "  336: '1990',\n",
              "  337: '1990',\n",
              "  338: '1990',\n",
              "  339: '1990',\n",
              "  340: '1990',\n",
              "  341: '1990',\n",
              "  342: '1990',\n",
              "  343: '1990',\n",
              "  344: '1990',\n",
              "  345: '1990',\n",
              "  346: '1990',\n",
              "  347: '1990',\n",
              "  348: '1990',\n",
              "  349: '1990',\n",
              "  350: '1990',\n",
              "  351: '1990',\n",
              "  352: '1990',\n",
              "  353: '1990',\n",
              "  354: '1990',\n",
              "  355: '1990',\n",
              "  356: '1990',\n",
              "  357: '1990',\n",
              "  358: '1990',\n",
              "  359: '1990',\n",
              "  360: '1990',\n",
              "  361: '1990',\n",
              "  362: '1990',\n",
              "  363: '1990',\n",
              "  364: '1990',\n",
              "  365: '1990',\n",
              "  366: '1990',\n",
              "  367: '1990',\n",
              "  368: '1990',\n",
              "  369: '1990',\n",
              "  370: '1990',\n",
              "  371: '1990',\n",
              "  372: '1990',\n",
              "  373: '1990',\n",
              "  374: '1990',\n",
              "  375: '1990',\n",
              "  376: '1990',\n",
              "  377: '1990',\n",
              "  378: '1990',\n",
              "  379: '1990',\n",
              "  380: '1990',\n",
              "  381: '1990',\n",
              "  382: '1990',\n",
              "  383: '1990',\n",
              "  384: '1990',\n",
              "  385: '1990',\n",
              "  386: '1990',\n",
              "  387: '1990',\n",
              "  388: '1990',\n",
              "  389: '1990',\n",
              "  390: '1960',\n",
              "  391: '1990',\n",
              "  392: '1990',\n",
              "  393: '1990',\n",
              "  394: '1990',\n",
              "  395: '1990',\n",
              "  396: '1990',\n",
              "  397: '1990',\n",
              "  398: '1990',\n",
              "  399: '1990',\n",
              "  400: '1990',\n",
              "  401: '1990',\n",
              "  402: '1990',\n",
              "  403: '1990',\n",
              "  404: '1990',\n",
              "  405: '1990',\n",
              "  406: '1990',\n",
              "  407: '1990',\n",
              "  408: '1990',\n",
              "  409: '1990',\n",
              "  410: '1990',\n",
              "  411: '1990',\n",
              "  412: '1990',\n",
              "  413: '1990',\n",
              "  414: '1990',\n",
              "  415: '1990',\n",
              "  416: '1990',\n",
              "  417: '1990',\n",
              "  418: '1990',\n",
              "  419: '1990',\n",
              "  420: '1990',\n",
              "  421: '1990',\n",
              "  422: '1990',\n",
              "  423: '1990',\n",
              "  424: '1990',\n",
              "  425: '1990',\n",
              "  426: '1990',\n",
              "  427: '1990',\n",
              "  428: '1990',\n",
              "  429: '1990',\n",
              "  430: '1990',\n",
              "  431: '1990',\n",
              "  432: '1990',\n",
              "  433: '1990',\n",
              "  434: '1990',\n",
              "  435: '1990',\n",
              "  436: '1990',\n",
              "  437: '1990',\n",
              "  438: '1990',\n",
              "  439: '1990',\n",
              "  440: '1990',\n",
              "  441: '1990',\n",
              "  442: '1990',\n",
              "  443: '1990',\n",
              "  444: '1990',\n",
              "  445: '1990',\n",
              "  446: '1990',\n",
              "  447: '1990',\n",
              "  448: '1990',\n",
              "  449: '1990',\n",
              "  450: '1990',\n",
              "  451: '1990',\n",
              "  452: '1990',\n",
              "  453: '1990',\n",
              "  454: '1990',\n",
              "  455: '1990',\n",
              "  456: '1990',\n",
              "  457: '1990',\n",
              "  458: '1990',\n",
              "  459: '1990',\n",
              "  460: '1990',\n",
              "  461: '1990',\n",
              "  462: '1990',\n",
              "  463: '1990',\n",
              "  464: '1990',\n",
              "  465: '1990',\n",
              "  466: '1990',\n",
              "  467: '1990',\n",
              "  468: '1990',\n",
              "  469: '1990',\n",
              "  470: '1990',\n",
              "  471: '1990',\n",
              "  472: '1990',\n",
              "  473: '1990',\n",
              "  474: '1990',\n",
              "  475: '1990',\n",
              "  476: '1990',\n",
              "  477: '1990',\n",
              "  478: '1990',\n",
              "  479: '1990',\n",
              "  480: '1990',\n",
              "  481: '1990',\n",
              "  482: '1990',\n",
              "  483: '1990',\n",
              "  484: '1990',\n",
              "  485: '1990',\n",
              "  486: '1990',\n",
              "  487: '1990',\n",
              "  488: '1990',\n",
              "  489: '1990',\n",
              "  490: '1990',\n",
              "  491: '1990',\n",
              "  492: '1990',\n",
              "  493: '1990',\n",
              "  494: '1990',\n",
              "  495: '1970',\n",
              "  496: '1990',\n",
              "  497: '1990',\n",
              "  498: '1990',\n",
              "  499: '1990',\n",
              "  500: '1990',\n",
              "  501: '1990',\n",
              "  502: '1990',\n",
              "  503: '1990',\n",
              "  504: '1990',\n",
              "  505: '1990',\n",
              "  506: '1990',\n",
              "  507: '1990',\n",
              "  508: '1990',\n",
              "  509: '1990',\n",
              "  510: '1990',\n",
              "  511: '1990',\n",
              "  512: '1990',\n",
              "  513: '1990',\n",
              "  514: '1990',\n",
              "  515: '1990',\n",
              "  516: '1990',\n",
              "  517: '1990',\n",
              "  518: '1990',\n",
              "  519: '1990',\n",
              "  520: '1990',\n",
              "  521: '1990',\n",
              "  522: '1990',\n",
              "  523: '1990',\n",
              "  524: '1990',\n",
              "  525: '1990',\n",
              "  526: '1990',\n",
              "  527: '1990',\n",
              "  528: '1990',\n",
              "  529: '1990',\n",
              "  530: '1990',\n",
              "  531: '1990',\n",
              "  532: '1990',\n",
              "  533: '1990',\n",
              "  534: '1990',\n",
              "  535: '1990',\n",
              "  536: '1990',\n",
              "  537: '1990',\n",
              "  538: '1990',\n",
              "  539: '1990',\n",
              "  540: '1990',\n",
              "  541: '1980',\n",
              "  542: '1990',\n",
              "  543: '1990',\n",
              "  544: '1990',\n",
              "  545: '1990',\n",
              "  546: '1990',\n",
              "  547: '1990',\n",
              "  548: '1990',\n",
              "  549: '1990',\n",
              "  550: '1990',\n",
              "  551: '1990',\n",
              "  552: '1990',\n",
              "  553: '1990',\n",
              "  554: '1990',\n",
              "  555: '1990',\n",
              "  556: '1990',\n",
              "  557: '1960',\n",
              "  558: '1990',\n",
              "  559: '1990',\n",
              "  560: '1990',\n",
              "  561: '1990',\n",
              "  562: '1990',\n",
              "  563: '1990',\n",
              "  564: '1990',\n",
              "  565: '1990',\n",
              "  566: '1990',\n",
              "  567: '1990',\n",
              "  568: '1990',\n",
              "  569: '1990',\n",
              "  570: '1990',\n",
              "  571: '1990',\n",
              "  572: '1990',\n",
              "  573: '1990',\n",
              "  574: '1990',\n",
              "  575: '1990',\n",
              "  576: '1990',\n",
              "  577: '1990',\n",
              "  578: '1990',\n",
              "  579: '1990',\n",
              "  580: '1990',\n",
              "  581: '1990',\n",
              "  582: '1990',\n",
              "  583: '1990',\n",
              "  584: '1990',\n",
              "  585: '1990',\n",
              "  586: '1990',\n",
              "  587: '1990',\n",
              "  588: '1990',\n",
              "  589: '1990',\n",
              "  590: '1990',\n",
              "  591: '1990',\n",
              "  592: '1980',\n",
              "  593: '1990',\n",
              "  594: '1930',\n",
              "  595: '1990',\n",
              "  596: '1940',\n",
              "  597: '1990',\n",
              "  598: '1990',\n",
              "  599: '1960',\n",
              "  600: '1990',\n",
              "  601: '1990',\n",
              "  602: '1990',\n",
              "  603: '1990',\n",
              "  604: '1990',\n",
              "  605: '1990',\n",
              "  606: '1990',\n",
              "  607: '1990',\n",
              "  608: '1990',\n",
              "  609: '1990',\n",
              "  610: '1980',\n",
              "  611: '1990',\n",
              "  612: '1990',\n",
              "  613: '1990',\n",
              "  614: '1990',\n",
              "  615: '1970',\n",
              "  616: '1970',\n",
              "  617: '1990',\n",
              "  618: '1990',\n",
              "  619: '1990',\n",
              "  620: '1990',\n",
              "  621: '1990',\n",
              "  623: '1990',\n",
              "  624: '1990',\n",
              "  625: '1990',\n",
              "  626: '1990',\n",
              "  627: '1990',\n",
              "  628: '1990',\n",
              "  629: '1990',\n",
              "  630: '1990',\n",
              "  631: '1990',\n",
              "  632: '1990',\n",
              "  633: '1990',\n",
              "  634: '1990',\n",
              "  635: '1990',\n",
              "  636: '1990',\n",
              "  637: '1990',\n",
              "  638: '1990',\n",
              "  639: '1990',\n",
              "  640: '1990',\n",
              "  641: '1990',\n",
              "  642: '1990',\n",
              "  643: '1990',\n",
              "  644: '1990',\n",
              "  645: '1990',\n",
              "  647: '1990',\n",
              "  648: '1990',\n",
              "  649: '1990',\n",
              "  650: '1990',\n",
              "  651: '1990',\n",
              "  652: '1990',\n",
              "  653: '1990',\n",
              "  654: '1990',\n",
              "  655: '1990',\n",
              "  656: '1990',\n",
              "  657: '1990',\n",
              "  658: '1990',\n",
              "  659: '1960',\n",
              "  660: '1990',\n",
              "  661: '1990',\n",
              "  662: '1990',\n",
              "  663: '1990',\n",
              "  664: '1990',\n",
              "  665: '1990',\n",
              "  666: '1990',\n",
              "  667: '1990',\n",
              "  668: '1950',\n",
              "  669: '1950',\n",
              "  670: '1950',\n",
              "  671: '1990',\n",
              "  672: '1990',\n",
              "  673: '1990',\n",
              "  674: '1960',\n",
              "  675: '1990',\n",
              "  676: '1990',\n",
              "  678: '1990',\n",
              "  679: '1990',\n",
              "  680: '1960',\n",
              "  681: '1980',\n",
              "  682: '1990',\n",
              "  683: '1990',\n",
              "  684: '1980',\n",
              "  685: '1990',\n",
              "  687: '1990',\n",
              "  688: '1990',\n",
              "  690: '1990',\n",
              "  691: '1990',\n",
              "  692: '1990',\n",
              "  693: '1990',\n",
              "  694: '1990',\n",
              "  695: '1990',\n",
              "  696: '1990',\n",
              "  697: '1990',\n",
              "  698: '1990',\n",
              "  699: '1990',\n",
              "  700: '1990',\n",
              "  701: '1990',\n",
              "  702: '1960',\n",
              "  703: '1990',\n",
              "  704: '1990',\n",
              "  705: '1990',\n",
              "  706: '1990',\n",
              "  707: '1990',\n",
              "  708: '1990',\n",
              "  709: '1980',\n",
              "  710: '1990',\n",
              "  711: '1990',\n",
              "  712: '1990',\n",
              "  713: '1990',\n",
              "  714: '1990',\n",
              "  715: '1990',\n",
              "  716: '1970',\n",
              "  717: '1990',\n",
              "  718: '1990',\n",
              "  719: '1990',\n",
              "  720: '1990',\n",
              "  721: '1990',\n",
              "  722: '1990',\n",
              "  723: '1980',\n",
              "  724: '1990',\n",
              "  725: '1990',\n",
              "  726: '1990',\n",
              "  727: '1990',\n",
              "  728: '1990',\n",
              "  729: '1990',\n",
              "  730: '1990',\n",
              "  731: '1990',\n",
              "  732: '1990',\n",
              "  733: '1990',\n",
              "  734: '1990',\n",
              "  735: '1990',\n",
              "  736: '1990',\n",
              "  737: '1990',\n",
              "  738: '1990',\n",
              "  739: '1990',\n",
              "  741: '1990',\n",
              "  742: '1990',\n",
              "  743: '1990',\n",
              "  744: '1990',\n",
              "  745: '1990',\n",
              "  746: '1940',\n",
              "  747: '1990',\n",
              "  748: '1990',\n",
              "  749: '1940',\n",
              "  750: '1960',\n",
              "  751: '1990',\n",
              "  752: '1990',\n",
              "  753: '1990',\n",
              "  754: '1990',\n",
              "  755: '1950',\n",
              "  756: '1990',\n",
              "  757: '1990',\n",
              "  758: '1990',\n",
              "  759: '1990',\n",
              "  760: '1990',\n",
              "  761: '1990',\n",
              "  762: '1990',\n",
              "  763: '1990',\n",
              "  764: '1990',\n",
              "  765: '1990',\n",
              "  766: '1990',\n",
              "  767: '1990',\n",
              "  768: '1990',\n",
              "  769: '1990',\n",
              "  770: '1940',\n",
              "  771: '1980',\n",
              "  772: '1990',\n",
              "  773: '1970',\n",
              "  774: '1980',\n",
              "  775: '1960',\n",
              "  776: '1990',\n",
              "  777: '1990',\n",
              "  778: '1990',\n",
              "  779: '1990',\n",
              "  780: '1990',\n",
              "  781: '1990',\n",
              "  782: '1990',\n",
              "  783: '1990',\n",
              "  784: '1990',\n",
              "  785: '1990',\n",
              "  786: '1990',\n",
              "  787: '1990',\n",
              "  788: '1990',\n",
              "  789: '1990',\n",
              "  790: '1990',\n",
              "  791: '1990',\n",
              "  792: '1980',\n",
              "  793: '1990',\n",
              "  794: '1990',\n",
              "  795: '1990',\n",
              "  796: '1970',\n",
              "  797: '1990',\n",
              "  798: '1990',\n",
              "  799: '1990',\n",
              "  800: '1990',\n",
              "  801: '1990',\n",
              "  802: '1990',\n",
              "  803: '1990',\n",
              "  804: '1990',\n",
              "  805: '1990',\n",
              "  806: '1990',\n",
              "  807: '1990',\n",
              "  808: '1990',\n",
              "  809: '1990',\n",
              "  810: '1990',\n",
              "  811: '1990',\n",
              "  812: '1990',\n",
              "  813: '1990',\n",
              "  814: '1990',\n",
              "  815: '1990',\n",
              "  816: '1990',\n",
              "  818: '1990',\n",
              "  819: '1990',\n",
              "  820: '1950',\n",
              "  821: '1990',\n",
              "  822: '1990',\n",
              "  823: '1960',\n",
              "  824: '1990',\n",
              "  825: '1990',\n",
              "  826: '1990',\n",
              "  827: '1990',\n",
              "  828: '1990',\n",
              "  829: '1990',\n",
              "  830: '1990',\n",
              "  831: '1990',\n",
              "  832: '1990',\n",
              "  833: '1990',\n",
              "  834: '1990',\n",
              "  835: '1990',\n",
              "  836: '1990',\n",
              "  837: '1990',\n",
              "  838: '1990',\n",
              "  839: '1990',\n",
              "  840: '1990',\n",
              "  841: '1950',\n",
              "  842: '1990',\n",
              "  843: '1990',\n",
              "  844: '1990',\n",
              "  845: '1990',\n",
              "  846: '1990',\n",
              "  847: '1990',\n",
              "  848: '1990',\n",
              "  849: '1990',\n",
              "  850: '1990',\n",
              "  851: '1990',\n",
              "  852: '1990',\n",
              "  853: '1990',\n",
              "  854: '1950',\n",
              "  855: '1990',\n",
              "  856: '1990',\n",
              "  857: '1940',\n",
              "  858: '1970',\n",
              "  859: '1990',\n",
              "  860: '1990',\n",
              "  861: '1990',\n",
              "  862: '1990',\n",
              "  863: '1990',\n",
              "  864: '1990',\n",
              "  865: '1990',\n",
              "  866: '1990',\n",
              "  867: '1990',\n",
              "  868: '1990',\n",
              "  869: '1990',\n",
              "  870: '1990',\n",
              "  871: '1990',\n",
              "  872: '1990',\n",
              "  873: '1970',\n",
              "  874: '1990',\n",
              "  875: '1990',\n",
              "  876: '1990',\n",
              "  877: '1990',\n",
              "  878: '1990',\n",
              "  879: '1990',\n",
              "  880: '1990',\n",
              "  881: '1990',\n",
              "  882: '1990',\n",
              "  884: '1990',\n",
              "  885: '1990',\n",
              "  886: '1990',\n",
              "  887: '1990',\n",
              "  888: '1990',\n",
              "  889: '1990',\n",
              "  890: '1980',\n",
              "  891: '1990',\n",
              "  892: '1990',\n",
              "  893: '1990',\n",
              "  894: '1930',\n",
              "  895: '1990',\n",
              "  896: '1990',\n",
              "  897: '1940',\n",
              "  898: '1940',\n",
              "  899: '1950',\n",
              "  900: '1950',\n",
              "  901: '1950',\n",
              "  902: '1960',\n",
              "  903: '1950',\n",
              "  904: '1950',\n",
              "  905: '1930',\n",
              "  906: '1940',\n",
              "  907: '1930',\n",
              "  908: '1950',\n",
              "  909: '1960',\n",
              "  910: '1950',\n",
              "  911: '1960',\n",
              "  912: '1940',\n",
              "  913: '1940',\n",
              "  914: '1960',\n",
              "  915: '1950',\n",
              "  916: '1950',\n",
              "  917: '1930',\n",
              "  918: '1940',\n",
              "  919: '1930',\n",
              "  920: '1930',\n",
              "  921: '1980',\n",
              "  922: '1950',\n",
              "  923: '1940',\n",
              "  924: '1960',\n",
              "  925: '1940',\n",
              "  926: '1950',\n",
              "  927: '1930',\n",
              "  928: '1940',\n",
              "  929: '1940',\n",
              "  930: '1940',\n",
              "  931: '1940',\n",
              "  932: '1950',\n",
              "  933: '1950',\n",
              "  934: '1950',\n",
              "  935: '1950',\n",
              "  936: '1930',\n",
              "  937: '1950',\n",
              "  938: '1950',\n",
              "  939: '1950',\n",
              "  940: '1930',\n",
              "  941: '1940',\n",
              "  942: '1940',\n",
              "  943: '1940',\n",
              "  944: '1930',\n",
              "  945: '1930',\n",
              "  946: '1940',\n",
              "  947: '1930',\n",
              "  948: '1950',\n",
              "  949: '1950',\n",
              "  950: '1930',\n",
              "  951: '1940',\n",
              "  952: '1950',\n",
              "  953: '1940',\n",
              "  954: '1930',\n",
              "  955: '1930',\n",
              "  956: '1940',\n",
              "  957: '1920',\n",
              "  958: '1940',\n",
              "  959: '1930',\n",
              "  960: '1940',\n",
              "  961: '1930',\n",
              "  962: '1930',\n",
              "  963: '1940',\n",
              "  964: '1940',\n",
              "  965: '1930',\n",
              "  966: '1940',\n",
              "  967: '1940',\n",
              "  968: '1960',\n",
              "  969: '1950',\n",
              "  970: '1950',\n",
              "  971: '1950',\n",
              "  972: '1950',\n",
              "  973: '1940',\n",
              "  974: '1930',\n",
              "  975: '1930',\n",
              "  976: '1930',\n",
              "  977: '1930',\n",
              "  978: '1930',\n",
              "  979: '1990',\n",
              "  980: '1980',\n",
              "  981: '1990',\n",
              "  982: '1950',\n",
              "  983: '1990',\n",
              "  984: '1990',\n",
              "  985: '1990',\n",
              "  986: '1990',\n",
              "  987: '1990',\n",
              "  988: '1990',\n",
              "  989: '1990',\n",
              "  990: '1990',\n",
              "  991: '1990',\n",
              "  992: '1990',\n",
              "  993: '1990',\n",
              "  994: '1990',\n",
              "  996: '1990',\n",
              "  997: '1990',\n",
              "  998: '1990',\n",
              "  999: '1990',\n",
              "  1000: '1990',\n",
              "  1001: '1980',\n",
              "  1002: '1990',\n",
              "  1003: '1990',\n",
              "  1004: '1990',\n",
              "  1005: '1990',\n",
              "  1006: '1990',\n",
              "  1007: '1970',\n",
              "  1008: '1950',\n",
              "  1009: '1970',\n",
              "  1010: '1960',\n",
              "  1011: '1970',\n",
              "  1012: '1950',\n",
              "  ...},\n",
              " 'main_genre': {1: 'Animation',\n",
              "  2: 'Adventure',\n",
              "  3: 'Comedy',\n",
              "  4: 'Comedy',\n",
              "  5: 'Comedy',\n",
              "  6: 'Action',\n",
              "  7: 'Comedy',\n",
              "  8: 'Adventure',\n",
              "  9: 'Action',\n",
              "  10: 'Action',\n",
              "  11: 'Comedy',\n",
              "  12: 'Comedy',\n",
              "  13: 'Animation',\n",
              "  14: 'Drama',\n",
              "  15: 'Action',\n",
              "  16: 'Drama',\n",
              "  17: 'Drama',\n",
              "  18: 'Thriller',\n",
              "  19: 'Comedy',\n",
              "  20: 'Action',\n",
              "  21: 'Action',\n",
              "  22: 'Crime',\n",
              "  23: 'Thriller',\n",
              "  24: 'Drama',\n",
              "  25: 'Drama',\n",
              "  26: 'Drama',\n",
              "  27: 'Drama',\n",
              "  28: 'Romance',\n",
              "  29: 'Adventure',\n",
              "  30: 'Drama',\n",
              "  31: 'Drama',\n",
              "  32: 'Drama',\n",
              "  33: 'Adventure',\n",
              "  34: \"Children's\",\n",
              "  35: 'Drama',\n",
              "  36: 'Drama',\n",
              "  37: 'Documentary',\n",
              "  38: 'Comedy',\n",
              "  39: 'Comedy',\n",
              "  40: 'Drama',\n",
              "  41: 'Drama',\n",
              "  42: 'Action',\n",
              "  43: 'Drama',\n",
              "  44: 'Action',\n",
              "  45: 'Comedy',\n",
              "  46: 'Drama',\n",
              "  47: 'Crime',\n",
              "  48: 'Animation',\n",
              "  49: 'Drama',\n",
              "  50: 'Crime',\n",
              "  51: 'Action',\n",
              "  52: 'Comedy',\n",
              "  53: 'Drama',\n",
              "  54: \"Children's\",\n",
              "  55: 'Drama',\n",
              "  56: 'Adventure',\n",
              "  57: 'Drama',\n",
              "  58: 'Drama',\n",
              "  59: 'Drama',\n",
              "  60: 'Adventure',\n",
              "  61: 'Drama',\n",
              "  62: 'Drama',\n",
              "  63: 'Comedy',\n",
              "  64: 'Comedy',\n",
              "  65: 'Comedy',\n",
              "  66: 'Sci-Fi',\n",
              "  67: 'Drama',\n",
              "  68: 'Comedy',\n",
              "  69: 'Comedy',\n",
              "  70: 'Action',\n",
              "  71: 'Action',\n",
              "  72: 'Comedy',\n",
              "  73: 'Drama',\n",
              "  74: 'Drama',\n",
              "  75: 'Comedy',\n",
              "  76: 'Sci-Fi',\n",
              "  77: 'Documentary',\n",
              "  78: 'Drama',\n",
              "  79: 'Drama',\n",
              "  80: 'Drama',\n",
              "  81: 'Crime',\n",
              "  82: 'Drama',\n",
              "  83: 'Drama',\n",
              "  84: 'Comedy',\n",
              "  85: 'Drama',\n",
              "  86: 'Adventure',\n",
              "  87: \"Children's\",\n",
              "  88: 'Comedy',\n",
              "  89: 'Action',\n",
              "  90: 'Drama',\n",
              "  92: 'Drama',\n",
              "  93: 'Comedy',\n",
              "  94: 'Drama',\n",
              "  95: 'Action',\n",
              "  96: 'Comedy',\n",
              "  97: 'Drama',\n",
              "  98: 'Action',\n",
              "  99: 'Documentary',\n",
              "  100: 'Drama',\n",
              "  101: 'Comedy',\n",
              "  102: 'Comedy',\n",
              "  103: 'Thriller',\n",
              "  104: 'Comedy',\n",
              "  105: 'Drama',\n",
              "  106: 'Comedy',\n",
              "  107: 'Adventure',\n",
              "  108: 'Documentary',\n",
              "  109: 'Comedy',\n",
              "  110: 'Action',\n",
              "  111: 'Drama',\n",
              "  112: 'Action',\n",
              "  113: 'Drama',\n",
              "  114: 'Drama',\n",
              "  115: 'Comedy',\n",
              "  116: 'Documentary',\n",
              "  117: 'Crime',\n",
              "  118: 'Comedy',\n",
              "  119: 'Comedy',\n",
              "  120: 'Drama',\n",
              "  121: 'Drama',\n",
              "  122: 'Comedy',\n",
              "  123: 'Drama',\n",
              "  124: 'Drama',\n",
              "  125: 'Comedy',\n",
              "  126: 'Adventure',\n",
              "  127: 'Drama',\n",
              "  128: 'Documentary',\n",
              "  129: 'Comedy',\n",
              "  130: 'Drama',\n",
              "  131: 'Drama',\n",
              "  132: 'Thriller',\n",
              "  133: 'Comedy',\n",
              "  134: 'Documentary',\n",
              "  135: 'Comedy',\n",
              "  136: 'Documentary',\n",
              "  137: 'Documentary',\n",
              "  138: 'Drama',\n",
              "  139: 'Action',\n",
              "  140: 'Drama',\n",
              "  141: 'Comedy',\n",
              "  142: 'Drama',\n",
              "  143: 'Drama',\n",
              "  144: 'Comedy',\n",
              "  145: 'Action',\n",
              "  146: 'Adventure',\n",
              "  147: 'Drama',\n",
              "  148: 'Drama',\n",
              "  149: 'Crime',\n",
              "  150: 'Drama',\n",
              "  151: 'Drama',\n",
              "  152: 'Horror',\n",
              "  153: 'Action',\n",
              "  154: 'Drama',\n",
              "  155: 'Drama',\n",
              "  156: 'Comedy',\n",
              "  157: 'Comedy',\n",
              "  158: 'Adventure',\n",
              "  159: 'Drama',\n",
              "  160: 'Action',\n",
              "  161: 'Drama',\n",
              "  162: 'Documentary',\n",
              "  163: 'Action',\n",
              "  164: 'Crime',\n",
              "  165: 'Action',\n",
              "  166: 'Comedy',\n",
              "  167: 'Drama',\n",
              "  168: 'Action',\n",
              "  169: 'Adventure',\n",
              "  170: 'Action',\n",
              "  171: 'Comedy',\n",
              "  172: 'Action',\n",
              "  173: 'Action',\n",
              "  174: 'Comedy',\n",
              "  175: 'Drama',\n",
              "  176: 'Comedy',\n",
              "  177: 'Horror',\n",
              "  178: 'Comedy',\n",
              "  179: 'Drama',\n",
              "  180: 'Comedy',\n",
              "  181: 'Action',\n",
              "  182: 'Drama',\n",
              "  183: 'Thriller',\n",
              "  184: 'Drama',\n",
              "  185: 'Sci-Fi',\n",
              "  186: 'Comedy',\n",
              "  187: 'Comedy',\n",
              "  188: 'Horror',\n",
              "  189: 'Comedy',\n",
              "  190: 'Thriller',\n",
              "  191: 'Drama',\n",
              "  192: 'Documentary',\n",
              "  193: 'Drama',\n",
              "  194: 'Drama',\n",
              "  195: 'Comedy',\n",
              "  196: 'Horror',\n",
              "  197: 'Drama',\n",
              "  198: 'Action',\n",
              "  199: 'Drama',\n",
              "  200: 'Thriller',\n",
              "  201: 'Drama',\n",
              "  202: 'Drama',\n",
              "  203: 'Comedy',\n",
              "  204: 'Action',\n",
              "  205: 'Comedy',\n",
              "  206: 'Documentary',\n",
              "  207: 'Drama',\n",
              "  208: 'Action',\n",
              "  209: 'Drama',\n",
              "  210: 'Western',\n",
              "  211: 'Drama',\n",
              "  212: 'Comedy',\n",
              "  213: 'Drama',\n",
              "  214: 'Drama',\n",
              "  215: 'Drama',\n",
              "  216: 'Comedy',\n",
              "  217: 'Drama',\n",
              "  218: 'Comedy',\n",
              "  219: 'Drama',\n",
              "  220: 'Horror',\n",
              "  222: 'Drama',\n",
              "  223: 'Comedy',\n",
              "  224: 'Comedy',\n",
              "  225: 'Drama',\n",
              "  226: 'Thriller',\n",
              "  227: 'Action',\n",
              "  228: 'Comedy',\n",
              "  229: 'Drama',\n",
              "  230: 'Drama',\n",
              "  231: 'Comedy',\n",
              "  232: 'Comedy',\n",
              "  233: 'Drama',\n",
              "  234: 'Comedy',\n",
              "  235: 'Comedy',\n",
              "  236: 'Comedy',\n",
              "  237: 'Comedy',\n",
              "  238: 'Adventure',\n",
              "  239: 'Animation',\n",
              "  240: 'Thriller',\n",
              "  241: \"Children's\",\n",
              "  242: 'Drama',\n",
              "  243: 'Comedy',\n",
              "  244: 'Animation',\n",
              "  245: 'Crime',\n",
              "  246: 'Documentary',\n",
              "  247: 'Drama',\n",
              "  248: 'Comedy',\n",
              "  249: 'Drama',\n",
              "  250: \"Children's\",\n",
              "  251: 'Action',\n",
              "  252: 'Comedy',\n",
              "  253: 'Drama',\n",
              "  254: 'Drama',\n",
              "  255: 'Comedy',\n",
              "  256: 'Comedy',\n",
              "  257: 'Mystery',\n",
              "  258: 'Adventure',\n",
              "  259: 'Crime',\n",
              "  260: 'Action',\n",
              "  261: 'Drama',\n",
              "  262: \"Children's\",\n",
              "  263: 'Drama',\n",
              "  264: 'Drama',\n",
              "  265: 'Drama',\n",
              "  266: 'Drama',\n",
              "  267: 'Comedy',\n",
              "  268: 'Drama',\n",
              "  269: 'Drama',\n",
              "  270: 'Drama',\n",
              "  271: 'Drama',\n",
              "  272: 'Drama',\n",
              "  273: 'Drama',\n",
              "  274: 'Comedy',\n",
              "  275: 'Comedy',\n",
              "  276: 'Comedy',\n",
              "  277: 'Drama',\n",
              "  278: 'Comedy',\n",
              "  279: 'Drama',\n",
              "  280: 'Drama',\n",
              "  281: 'Drama',\n",
              "  282: 'Drama',\n",
              "  283: 'Crime',\n",
              "  284: 'Action',\n",
              "  285: 'Drama',\n",
              "  286: 'Action',\n",
              "  287: 'Comedy',\n",
              "  288: 'Action',\n",
              "  289: 'Comedy',\n",
              "  290: 'Crime',\n",
              "  291: 'Thriller',\n",
              "  292: 'Action',\n",
              "  293: 'Crime',\n",
              "  294: 'Comedy',\n",
              "  295: 'Comedy',\n",
              "  296: 'Crime',\n",
              "  297: 'Drama',\n",
              "  298: 'Comedy',\n",
              "  299: 'Drama',\n",
              "  300: 'Drama',\n",
              "  301: 'Drama',\n",
              "  302: 'Drama',\n",
              "  303: 'Action',\n",
              "  304: 'Comedy',\n",
              "  305: 'Comedy',\n",
              "  306: 'Drama',\n",
              "  307: 'Drama',\n",
              "  308: 'Drama',\n",
              "  309: 'Drama',\n",
              "  310: 'Comedy',\n",
              "  311: 'Horror',\n",
              "  312: 'Comedy',\n",
              "  313: 'Animation',\n",
              "  314: 'Drama',\n",
              "  315: 'Action',\n",
              "  316: 'Action',\n",
              "  317: \"Children's\",\n",
              "  318: 'Drama',\n",
              "  319: 'Thriller',\n",
              "  320: 'Film-Noir',\n",
              "  321: 'Drama',\n",
              "  322: 'Comedy',\n",
              "  324: 'Comedy',\n",
              "  325: 'Comedy',\n",
              "  326: 'Drama',\n",
              "  327: 'Action',\n",
              "  328: 'Horror',\n",
              "  329: 'Action',\n",
              "  330: 'Comedy',\n",
              "  331: 'Drama',\n",
              "  332: 'Horror',\n",
              "  333: 'Comedy',\n",
              "  334: 'Drama',\n",
              "  335: 'Mystery',\n",
              "  336: 'Drama',\n",
              "  337: 'Drama',\n",
              "  338: 'Sci-Fi',\n",
              "  339: 'Comedy',\n",
              "  340: 'Adventure',\n",
              "  341: 'Drama',\n",
              "  342: 'Comedy',\n",
              "  343: \"Children's\",\n",
              "  344: 'Comedy',\n",
              "  345: 'Comedy',\n",
              "  346: 'Drama',\n",
              "  347: 'Drama',\n",
              "  348: 'Comedy',\n",
              "  349: 'Action',\n",
              "  350: 'Drama',\n",
              "  351: 'Comedy',\n",
              "  352: 'Comedy',\n",
              "  353: 'Action',\n",
              "  354: 'Drama',\n",
              "  355: \"Children's\",\n",
              "  356: 'Comedy',\n",
              "  357: 'Comedy',\n",
              "  358: 'Drama',\n",
              "  359: 'Comedy',\n",
              "  360: 'Action',\n",
              "  361: 'Drama',\n",
              "  362: 'Adventure',\n",
              "  363: 'Documentary',\n",
              "  364: 'Animation',\n",
              "  365: 'Drama',\n",
              "  366: 'Horror',\n",
              "  367: 'Comedy',\n",
              "  368: 'Action',\n",
              "  369: 'Drama',\n",
              "  370: 'Comedy',\n",
              "  371: 'Comedy',\n",
              "  372: 'Comedy',\n",
              "  373: 'Thriller',\n",
              "  374: \"Children's\",\n",
              "  375: 'Drama',\n",
              "  376: 'Action',\n",
              "  377: 'Action',\n",
              "  378: 'Comedy',\n",
              "  379: 'Action',\n",
              "  380: 'Action',\n",
              "  381: 'Drama',\n",
              "  382: 'Drama',\n",
              "  383: 'Western',\n",
              "  384: 'Action',\n",
              "  385: 'Drama',\n",
              "  386: 'Drama',\n",
              "  387: 'Action',\n",
              "  388: 'Drama',\n",
              "  389: 'Drama',\n",
              "  390: 'Action',\n",
              "  391: 'Crime',\n",
              "  392: 'Adventure',\n",
              "  393: 'Action',\n",
              "  394: 'Action',\n",
              "  395: 'Drama',\n",
              "  396: 'Drama',\n",
              "  397: 'Horror',\n",
              "  398: 'Documentary',\n",
              "  399: 'Drama',\n",
              "  400: 'Drama',\n",
              "  401: 'Action',\n",
              "  402: 'Comedy',\n",
              "  403: 'Comedy',\n",
              "  404: 'Documentary',\n",
              "  405: 'Action',\n",
              "  406: 'Drama',\n",
              "  407: 'Horror',\n",
              "  408: 'Drama',\n",
              "  409: 'Drama',\n",
              "  410: 'Comedy',\n",
              "  411: 'Comedy',\n",
              "  412: 'Drama',\n",
              "  413: 'Comedy',\n",
              "  414: 'Comedy',\n",
              "  415: 'Comedy',\n",
              "  416: 'Western',\n",
              "  417: 'Comedy',\n",
              "  418: 'Drama',\n",
              "  419: 'Comedy',\n",
              "  420: 'Action',\n",
              "  421: 'Adventure',\n",
              "  422: 'Thriller',\n",
              "  423: 'Action',\n",
              "  424: 'Drama',\n",
              "  425: 'Drama',\n",
              "  426: 'Horror',\n",
              "  427: 'Mystery',\n",
              "  428: 'Drama',\n",
              "  429: 'Comedy',\n",
              "  430: 'Drama',\n",
              "  431: 'Crime',\n",
              "  432: 'Comedy',\n",
              "  433: 'Comedy',\n",
              "  434: 'Action',\n",
              "  435: 'Comedy',\n",
              "  436: 'Drama',\n",
              "  437: 'Comedy',\n",
              "  438: 'Action',\n",
              "  439: 'Drama',\n",
              "  440: 'Comedy',\n",
              "  441: 'Comedy',\n",
              "  442: 'Action',\n",
              "  443: 'Documentary',\n",
              "  444: 'Comedy',\n",
              "  445: 'Comedy',\n",
              "  446: 'Drama',\n",
              "  447: 'Comedy',\n",
              "  448: 'Drama',\n",
              "  449: 'Comedy',\n",
              "  450: 'Comedy',\n",
              "  451: 'Drama',\n",
              "  452: 'Drama',\n",
              "  453: 'Comedy',\n",
              "  454: 'Drama',\n",
              "  455: 'Adventure',\n",
              "  456: 'Drama',\n",
              "  457: 'Action',\n",
              "  458: 'Drama',\n",
              "  459: 'Action',\n",
              "  460: 'Comedy',\n",
              "  461: 'Drama',\n",
              "  462: 'Action',\n",
              "  463: 'Crime',\n",
              "  464: 'Action',\n",
              "  465: 'Action',\n",
              "  466: 'Action',\n",
              "  467: 'Comedy',\n",
              "  468: 'Comedy',\n",
              "  469: 'Drama',\n",
              "  470: 'Comedy',\n",
              "  471: 'Comedy',\n",
              "  472: 'Comedy',\n",
              "  473: 'Comedy',\n",
              "  474: 'Action',\n",
              "  475: 'Drama',\n",
              "  476: 'Comedy',\n",
              "  477: 'Drama',\n",
              "  478: 'Comedy',\n",
              "  479: 'Action',\n",
              "  480: 'Action',\n",
              "  481: 'Drama',\n",
              "  482: 'Thriller',\n",
              "  483: 'Drama',\n",
              "  484: 'Adventure',\n",
              "  485: 'Action',\n",
              "  486: 'Comedy',\n",
              "  487: 'Comedy',\n",
              "  488: 'Drama',\n",
              "  489: 'Comedy',\n",
              "  490: 'Thriller',\n",
              "  491: 'Drama',\n",
              "  492: 'Comedy',\n",
              "  493: 'Action',\n",
              "  494: 'Action',\n",
              "  495: 'Drama',\n",
              "  496: 'Comedy',\n",
              "  497: 'Comedy',\n",
              "  498: 'Drama',\n",
              "  499: 'Comedy',\n",
              "  500: 'Comedy',\n",
              "  501: 'Drama',\n",
              "  502: 'Action',\n",
              "  503: 'Drama',\n",
              "  504: 'Action',\n",
              "  505: 'Comedy',\n",
              "  506: 'Drama',\n",
              "  507: 'Action',\n",
              "  508: 'Drama',\n",
              "  509: 'Drama',\n",
              "  510: 'Drama',\n",
              "  511: 'Action',\n",
              "  512: 'Horror',\n",
              "  513: 'Comedy',\n",
              "  514: 'Comedy',\n",
              "  515: 'Drama',\n",
              "  516: 'Comedy',\n",
              "  517: 'Action',\n",
              "  518: 'Comedy',\n",
              "  519: 'Sci-Fi',\n",
              "  520: 'Comedy',\n",
              "  521: 'Crime',\n",
              "  522: 'Action',\n",
              "  523: 'Drama',\n",
              "  524: 'Drama',\n",
              "  525: 'Drama',\n",
              "  526: 'Drama',\n",
              "  527: 'Drama',\n",
              "  528: 'Drama',\n",
              "  529: 'Drama',\n",
              "  530: 'Drama',\n",
              "  531: \"Children's\",\n",
              "  532: 'Comedy',\n",
              "  533: 'Action',\n",
              "  534: 'Drama',\n",
              "  535: 'Drama',\n",
              "  536: 'Drama',\n",
              "  537: 'Comedy',\n",
              "  538: 'Drama',\n",
              "  539: 'Comedy',\n",
              "  540: 'Thriller',\n",
              "  541: 'Film-Noir',\n",
              "  542: 'Comedy',\n",
              "  543: 'Comedy',\n",
              "  544: 'Action',\n",
              "  545: 'Drama',\n",
              "  546: 'Action',\n",
              "  547: 'Action',\n",
              "  548: 'Action',\n",
              "  549: 'Documentary',\n",
              "  550: 'Comedy',\n",
              "  551: \"Children's\",\n",
              "  552: 'Action',\n",
              "  553: 'Western',\n",
              "  554: 'Thriller',\n",
              "  555: 'Action',\n",
              "  556: 'Documentary',\n",
              "  557: 'Drama',\n",
              "  558: 'Action',\n",
              "  559: 'Comedy',\n",
              "  560: 'Drama',\n",
              "  561: 'Thriller',\n",
              "  562: 'Comedy',\n",
              "  563: 'Drama',\n",
              "  564: 'Comedy',\n",
              "  565: 'Horror',\n",
              "  566: 'Comedy',\n",
              "  567: 'Drama',\n",
              "  568: 'Comedy',\n",
              "  569: \"Children's\",\n",
              "  570: 'Comedy',\n",
              "  571: 'Drama',\n",
              "  572: 'Drama',\n",
              "  573: 'Drama',\n",
              "  574: 'Comedy',\n",
              "  575: \"Children's\",\n",
              "  576: 'Comedy',\n",
              "  577: 'Adventure',\n",
              "  578: 'Drama',\n",
              "  579: 'Thriller',\n",
              "  580: 'Drama',\n",
              "  581: 'Documentary',\n",
              "  582: 'Comedy',\n",
              "  583: 'Comedy',\n",
              "  584: 'Drama',\n",
              "  585: 'Comedy',\n",
              "  586: \"Children's\",\n",
              "  587: 'Comedy',\n",
              "  588: 'Animation',\n",
              "  589: 'Action',\n",
              "  590: 'Adventure',\n",
              "  591: 'Action',\n",
              "  592: 'Action',\n",
              "  593: 'Drama',\n",
              "  594: 'Animation',\n",
              "  595: 'Animation',\n",
              "  596: 'Animation',\n",
              "  597: 'Comedy',\n",
              "  598: 'Comedy',\n",
              "  599: 'Western',\n",
              "  600: 'Thriller',\n",
              "  601: 'Drama',\n",
              "  602: 'Documentary',\n",
              "  603: 'Comedy',\n",
              "  604: 'Documentary',\n",
              "  605: 'Drama',\n",
              "  606: 'Horror',\n",
              "  607: 'Drama',\n",
              "  608: 'Crime',\n",
              "  609: 'Adventure',\n",
              "  610: 'Action',\n",
              "  611: 'Action',\n",
              "  612: 'Comedy',\n",
              "  613: 'Drama',\n",
              "  614: 'Drama',\n",
              "  615: 'Drama',\n",
              "  616: 'Animation',\n",
              "  617: 'Drama',\n",
              "  618: 'Comedy',\n",
              "  619: 'Comedy',\n",
              "  620: 'Drama',\n",
              "  621: 'Drama',\n",
              "  623: 'Romance',\n",
              "  624: 'Action',\n",
              "  625: 'Drama',\n",
              "  626: 'Comedy',\n",
              "  627: 'Drama',\n",
              "  628: 'Drama',\n",
              "  629: 'Drama',\n",
              "  630: 'Drama',\n",
              "  631: 'Animation',\n",
              "  632: 'War',\n",
              "  633: 'Comedy',\n",
              "  634: 'Comedy',\n",
              "  635: 'Comedy',\n",
              "  636: 'Drama',\n",
              "  637: 'Comedy',\n",
              "  638: 'Romance',\n",
              "  639: 'Comedy',\n",
              "  640: 'Drama',\n",
              "  641: 'Comedy',\n",
              "  642: 'Drama',\n",
              "  643: 'Comedy',\n",
              "  644: 'Comedy',\n",
              "  645: 'Drama',\n",
              "  647: 'Drama',\n",
              "  648: 'Action',\n",
              "  649: 'Comedy',\n",
              "  650: 'Drama',\n",
              "  651: 'Comedy',\n",
              "  652: 'Mystery',\n",
              "  653: 'Action',\n",
              "  654: 'Drama',\n",
              "  655: 'Comedy',\n",
              "  656: 'Comedy',\n",
              "  657: 'Comedy',\n",
              "  658: 'Drama',\n",
              "  659: 'Crime',\n",
              "  660: 'Drama',\n",
              "  661: 'Animation',\n",
              "  662: 'Thriller',\n",
              "  663: 'Comedy',\n",
              "  664: 'Comedy',\n",
              "  665: 'War',\n",
              "  666: 'Drama',\n",
              "  667: 'Action',\n",
              "  668: 'Drama',\n",
              "  669: 'Drama',\n",
              "  670: 'Drama',\n",
              "  671: 'Comedy',\n",
              "  672: 'Drama',\n",
              "  673: 'Adventure',\n",
              "  674: 'Adventure',\n",
              "  675: 'Action',\n",
              "  676: 'Drama',\n",
              "  678: 'Drama',\n",
              "  679: 'Drama',\n",
              "  680: 'Sci-Fi',\n",
              "  681: 'Crime',\n",
              "  682: 'Documentary',\n",
              "  683: 'Documentary',\n",
              "  684: 'Drama',\n",
              "  685: 'Drama',\n",
              "  687: 'Drama',\n",
              "  688: 'Action',\n",
              "  690: 'Romance',\n",
              "  691: 'Comedy',\n",
              "  692: 'Action',\n",
              "  693: 'Drama',\n",
              "  694: 'Action',\n",
              "  695: 'Mystery',\n",
              "  696: 'Thriller',\n",
              "  697: 'Drama',\n",
              "  698: 'Drama',\n",
              "  699: 'Drama',\n",
              "  700: 'Comedy',\n",
              "  701: 'Drama',\n",
              "  702: 'Drama',\n",
              "  703: 'Drama',\n",
              "  704: 'Action',\n",
              "  705: 'Comedy',\n",
              "  706: 'Drama',\n",
              "  707: 'Crime',\n",
              "  708: 'Comedy',\n",
              "  709: 'Animation',\n",
              "  710: 'Comedy',\n",
              "  711: 'Adventure',\n",
              "  712: 'Drama',\n",
              "  713: 'Drama',\n",
              "  714: 'Western',\n",
              "  715: 'Drama',\n",
              "  716: 'Crime',\n",
              "  717: 'Comedy',\n",
              "  718: 'Comedy',\n",
              "  719: 'Comedy',\n",
              "  720: 'Animation',\n",
              "  721: 'Drama',\n",
              "  722: 'Documentary',\n",
              "  723: 'Drama',\n",
              "  724: 'Drama',\n",
              "  725: 'Comedy',\n",
              "  726: 'Drama',\n",
              "  727: 'Documentary',\n",
              "  728: 'Comedy',\n",
              "  729: 'Drama',\n",
              "  730: 'Drama',\n",
              "  731: 'Mystery',\n",
              "  732: 'Crime',\n",
              "  733: 'Action',\n",
              "  734: 'Comedy',\n",
              "  735: 'Comedy',\n",
              "  736: 'Action',\n",
              "  737: 'Action',\n",
              "  738: 'Drama',\n",
              "  739: 'Comedy',\n",
              "  741: 'Animation',\n",
              "  742: 'Horror',\n",
              "  743: 'Comedy',\n",
              "  744: 'Drama',\n",
              "  745: 'Animation',\n",
              "  746: 'Film-Noir',\n",
              "  747: 'Comedy',\n",
              "  748: 'Action',\n",
              "  749: 'Drama',\n",
              "  750: 'Sci-Fi',\n",
              "  751: 'Comedy',\n",
              "  752: 'Comedy',\n",
              "  753: 'Comedy',\n",
              "  754: 'Adventure',\n",
              "  755: \"Children's\",\n",
              "  756: 'Documentary',\n",
              "  757: 'Drama',\n",
              "  758: 'Drama',\n",
              "  759: 'Documentary',\n",
              "  760: 'War',\n",
              "  761: 'Adventure',\n",
              "  762: 'Comedy',\n",
              "  763: 'Drama',\n",
              "  764: 'Drama',\n",
              "  765: 'Comedy',\n",
              "  766: 'Drama',\n",
              "  767: 'Drama',\n",
              "  768: 'Drama',\n",
              "  769: 'Documentary',\n",
              "  770: 'Drama',\n",
              "  771: 'Comedy',\n",
              "  772: 'Comedy',\n",
              "  773: 'Drama',\n",
              "  774: 'Drama',\n",
              "  775: 'Horror',\n",
              "  776: 'Comedy',\n",
              "  777: 'War',\n",
              "  778: 'Drama',\n",
              "  779: 'Drama',\n",
              "  780: 'Action',\n",
              "  781: 'Drama',\n",
              "  782: 'Thriller',\n",
              "  783: 'Animation',\n",
              "  784: 'Comedy',\n",
              "  785: 'Comedy',\n",
              "  786: 'Action',\n",
              "  787: 'Documentary',\n",
              "  788: 'Comedy',\n",
              "  789: 'Drama',\n",
              "  790: 'Drama',\n",
              "  791: 'Documentary',\n",
              "  792: 'Fantasy',\n",
              "  793: 'Drama',\n",
              "  794: 'Comedy',\n",
              "  795: 'Drama',\n",
              "  796: 'Drama',\n",
              "  797: 'Comedy',\n",
              "  798: 'Action',\n",
              "  799: 'Comedy',\n",
              "  800: 'Drama',\n",
              "  801: \"Children's\",\n",
              "  802: 'Drama',\n",
              "  803: 'Romance',\n",
              "  804: 'Comedy',\n",
              "  805: 'Drama',\n",
              "  806: 'Drama',\n",
              "  807: 'Comedy',\n",
              "  808: 'Adventure',\n",
              "  809: 'Action',\n",
              "  810: \"Children's\",\n",
              "  811: 'Comedy',\n",
              "  812: 'Drama',\n",
              "  813: 'Comedy',\n",
              "  814: 'Drama',\n",
              "  815: 'Action',\n",
              "  816: 'Drama',\n",
              "  818: 'Comedy',\n",
              "  819: 'Comedy',\n",
              "  820: 'Drama',\n",
              "  821: 'Romance',\n",
              "  822: 'Drama',\n",
              "  823: 'Drama',\n",
              "  824: 'Drama',\n",
              "  825: 'Comedy',\n",
              "  826: 'Drama',\n",
              "  827: 'Drama',\n",
              "  828: 'Adventure',\n",
              "  829: 'Comedy',\n",
              "  830: 'Comedy',\n",
              "  831: 'Drama',\n",
              "  832: 'Drama',\n",
              "  833: 'Comedy',\n",
              "  834: 'Comedy',\n",
              "  835: 'Drama',\n",
              "  836: 'Action',\n",
              "  837: \"Children's\",\n",
              "  838: 'Comedy',\n",
              "  839: 'Action',\n",
              "  840: 'Comedy',\n",
              "  841: 'Horror',\n",
              "  842: 'Horror',\n",
              "  843: 'Drama',\n",
              "  844: 'Drama',\n",
              "  845: 'Drama',\n",
              "  846: 'Drama',\n",
              "  847: 'Comedy',\n",
              "  848: 'Drama',\n",
              "  849: 'Action',\n",
              "  850: 'Crime',\n",
              "  851: 'Drama',\n",
              "  852: 'Comedy',\n",
              "  853: 'Drama',\n",
              "  854: 'Drama',\n",
              "  855: 'Drama',\n",
              "  856: 'Comedy',\n",
              "  857: 'Drama',\n",
              "  858: 'Action',\n",
              "  859: 'Documentary',\n",
              "  860: 'Comedy',\n",
              "  861: 'Action',\n",
              "  862: 'Drama',\n",
              "  863: 'Comedy',\n",
              "  864: 'Comedy',\n",
              "  865: 'Drama',\n",
              "  866: 'Crime',\n",
              "  867: 'Comedy',\n",
              "  868: 'Comedy',\n",
              "  869: 'Crime',\n",
              "  870: 'Comedy',\n",
              "  871: 'Comedy',\n",
              "  872: 'Drama',\n",
              "  873: 'Drama',\n",
              "  874: 'Crime',\n",
              "  875: 'Drama',\n",
              "  876: 'Action',\n",
              "  877: 'Drama',\n",
              "  878: 'Drama',\n",
              "  879: 'Horror',\n",
              "  880: 'Sci-Fi',\n",
              "  881: \"Children's\",\n",
              "  882: 'Drama',\n",
              "  884: 'Drama',\n",
              "  885: \"Children's\",\n",
              "  886: 'Action',\n",
              "  887: 'Drama',\n",
              "  888: 'Animation',\n",
              "  889: 'Romance',\n",
              "  890: 'Thriller',\n",
              "  891: 'Horror',\n",
              "  892: 'Comedy',\n",
              "  893: 'Drama',\n",
              "  894: 'Romance',\n",
              "  895: 'Drama',\n",
              "  896: 'Drama',\n",
              "  897: 'Adventure',\n",
              "  898: 'Comedy',\n",
              "  899: 'Musical',\n",
              "  900: 'Musical',\n",
              "  901: 'Comedy',\n",
              "  902: 'Drama',\n",
              "  903: 'Mystery',\n",
              "  904: 'Mystery',\n",
              "  905: 'Comedy',\n",
              "  906: 'Mystery',\n",
              "  907: 'Comedy',\n",
              "  908: 'Drama',\n",
              "  909: 'Comedy',\n",
              "  910: 'Comedy',\n",
              "  911: 'Comedy',\n",
              "  912: 'Drama',\n",
              "  913: 'Film-Noir',\n",
              "  914: 'Musical',\n",
              "  915: 'Comedy',\n",
              "  916: 'Comedy',\n",
              "  917: \"Children's\",\n",
              "  918: 'Musical',\n",
              "  919: 'Adventure',\n",
              "  920: 'Drama',\n",
              "  921: 'Comedy',\n",
              "  922: 'Film-Noir',\n",
              "  923: 'Drama',\n",
              "  924: 'Drama',\n",
              "  925: 'Adventure',\n",
              "  926: 'Drama',\n",
              "  927: 'Comedy',\n",
              "  928: 'Romance',\n",
              "  929: 'Thriller',\n",
              "  930: 'Film-Noir',\n",
              "  931: 'Mystery',\n",
              "  932: 'Romance',\n",
              "  933: 'Comedy',\n",
              "  934: 'Comedy',\n",
              "  935: 'Comedy',\n",
              "  936: 'Comedy',\n",
              "  937: 'Comedy',\n",
              "  938: 'Musical',\n",
              "  939: 'Comedy',\n",
              "  940: 'Action',\n",
              "  941: 'Adventure',\n",
              "  942: 'Crime',\n",
              "  943: 'Drama',\n",
              "  944: 'Drama',\n",
              "  945: 'Comedy',\n",
              "  946: 'Comedy',\n",
              "  947: 'Comedy',\n",
              "  948: 'Drama',\n",
              "  949: 'Drama',\n",
              "  950: 'Mystery',\n",
              "  951: 'Comedy',\n",
              "  952: 'Adventure',\n",
              "  953: 'Drama',\n",
              "  954: 'Drama',\n",
              "  955: 'Comedy',\n",
              "  956: 'Drama',\n",
              "  957: 'Drama',\n",
              "  958: 'Comedy',\n",
              "  959: 'Drama',\n",
              "  960: 'Crime',\n",
              "  961: 'Drama',\n",
              "  962: 'Crime',\n",
              "  963: 'Musical',\n",
              "  964: 'Western',\n",
              "  965: 'Thriller',\n",
              "  966: 'Drama',\n",
              "  967: 'Western',\n",
              "  968: 'Horror',\n",
              "  969: 'Action',\n",
              "  970: 'Comedy',\n",
              "  971: 'Drama',\n",
              "  972: 'Drama',\n",
              "  973: 'Drama',\n",
              "  974: 'Drama',\n",
              "  975: 'Comedy',\n",
              "  976: 'Romance',\n",
              "  977: 'Mystery',\n",
              "  978: 'Drama',\n",
              "  979: 'Drama',\n",
              "  980: 'Action',\n",
              "  981: 'Drama',\n",
              "  982: 'Drama',\n",
              "  983: 'Romance',\n",
              "  984: 'Comedy',\n",
              "  985: 'Documentary',\n",
              "  986: 'Adventure',\n",
              "  987: 'Drama',\n",
              "  988: 'Comedy',\n",
              "  989: 'Drama',\n",
              "  990: 'Action',\n",
              "  991: 'Drama',\n",
              "  992: 'Thriller',\n",
              "  993: 'Drama',\n",
              "  994: 'Drama',\n",
              "  996: 'Action',\n",
              "  997: 'Drama',\n",
              "  998: 'Action',\n",
              "  999: 'Crime',\n",
              "  1000: 'Crime',\n",
              "  1001: 'Comedy',\n",
              "  1002: 'Comedy',\n",
              "  1003: 'Drama',\n",
              "  1004: 'Action',\n",
              "  1005: \"Children's\",\n",
              "  1006: 'Drama',\n",
              "  1007: \"Children's\",\n",
              "  1008: 'Western',\n",
              "  1009: 'Adventure',\n",
              "  1010: \"Children's\",\n",
              "  1011: 'Adventure',\n",
              "  1012: \"Children's\",\n",
              "  ...}}"
            ]
          },
          "metadata": {},
          "execution_count": 18
        }
      ]
    },
    {
      "cell_type": "code",
      "metadata": {
        "id": "4TEgooeckYOz"
      },
      "source": [
        "# Gensim을 활용한 meta-prod2vec을 학습할 수 있는 데이터셋 생성\n",
        "\n",
        "# ex. [['movie_id:3186', 'year:1990', 'genre:Drama', 'movie_id:1721', \n",
        "#       'year:1990', 'genre:Drama', 'movie_id:1022', 'year:1950', \n",
        "#       'genre:Animation', 'movie_id:1270', 'year:1980', 'genre:Comedy', 'movie_id:2340'...]]\n",
        "movie2vec_dataset = []\n",
        "for movie_list in user_watch_list:\n",
        "  meta_list = []\n",
        "  for movie_id in movie_list:\n",
        "    word_meta_1 = \"movie_id:\" + str(movie_id)\n",
        "    word_meta_2 = \"year:\" + movie_meta_dict['decade'][movie_id]\n",
        "    word_meta_3 = \"genre:\" + movie_meta_dict['main_genre'][movie_id]\n",
        "    meta_list.append(word_meta_1)\n",
        "    meta_list.append(word_meta_2)\n",
        "    meta_list.append(word_meta_3)\n",
        "  movie2vec_dataset.append(meta_list)"
      ],
      "execution_count": 19,
      "outputs": []
    },
    {
      "cell_type": "code",
      "metadata": {
        "id": "f4mZho05X_3P"
      },
      "source": [
        "# '역시 성공은 고난을 동반' -> ['역시','성공','고난','동반']\n",
        "# [movide_id: 1, genre:drama, ....]"
      ],
      "execution_count": 20,
      "outputs": []
    },
    {
      "cell_type": "code",
      "metadata": {
        "colab": {
          "base_uri": "https://localhost:8080/"
        },
        "id": "00y5G6p4YQ0v",
        "outputId": "dc1eab45-ffdb-493a-d366-7d6319f475e7"
      },
      "source": [
        "movie2vec_dataset[1] #원래는 movie id로만 할걸, year와 genre라는 메타 정보를 더 활용하게 된다"
      ],
      "execution_count": 21,
      "outputs": [
        {
          "output_type": "execute_result",
          "data": {
            "text/plain": [
              "['movie_id:1198',\n",
              " 'year:1980',\n",
              " 'genre:Action',\n",
              " 'movie_id:1217',\n",
              " 'year:1980',\n",
              " 'genre:Drama',\n",
              " 'movie_id:1210',\n",
              " 'year:1980',\n",
              " 'genre:Action',\n",
              " 'movie_id:2717',\n",
              " 'year:1980',\n",
              " 'genre:Comedy',\n",
              " 'movie_id:1293',\n",
              " 'year:1980',\n",
              " 'genre:Drama',\n",
              " 'movie_id:2943',\n",
              " 'year:1990',\n",
              " 'genre:Drama',\n",
              " 'movie_id:1225',\n",
              " 'year:1980',\n",
              " 'genre:Drama',\n",
              " 'movie_id:1193',\n",
              " 'year:1970',\n",
              " 'genre:Drama',\n",
              " 'movie_id:318',\n",
              " 'year:1990',\n",
              " 'genre:Drama',\n",
              " 'movie_id:3030',\n",
              " 'year:1960',\n",
              " 'genre:Comedy',\n",
              " 'movie_id:2858',\n",
              " 'year:1990',\n",
              " 'genre:Comedy',\n",
              " 'movie_id:1213',\n",
              " 'year:1990',\n",
              " 'genre:Crime',\n",
              " 'movie_id:1945',\n",
              " 'year:1950',\n",
              " 'genre:Crime',\n",
              " 'movie_id:1207',\n",
              " 'year:1960',\n",
              " 'genre:Drama',\n",
              " 'movie_id:593',\n",
              " 'year:1990',\n",
              " 'genre:Drama',\n",
              " 'movie_id:3095',\n",
              " 'year:1940',\n",
              " 'genre:Drama',\n",
              " 'movie_id:515',\n",
              " 'year:1990',\n",
              " 'genre:Drama',\n",
              " 'movie_id:1873',\n",
              " 'year:1990',\n",
              " 'genre:Drama',\n",
              " 'movie_id:3468',\n",
              " 'year:1960',\n",
              " 'genre:Drama',\n",
              " 'movie_id:1090',\n",
              " 'year:1980',\n",
              " 'genre:Drama',\n",
              " 'movie_id:2501',\n",
              " 'year:1990',\n",
              " 'genre:Drama',\n",
              " 'movie_id:2067',\n",
              " 'year:1960',\n",
              " 'genre:Drama',\n",
              " 'movie_id:110',\n",
              " 'year:1990',\n",
              " 'genre:Action',\n",
              " 'movie_id:3035',\n",
              " 'year:1950',\n",
              " 'genre:Comedy',\n",
              " 'movie_id:3147',\n",
              " 'year:1990',\n",
              " 'genre:Drama',\n",
              " 'movie_id:1247',\n",
              " 'year:1960',\n",
              " 'genre:Drama',\n",
              " 'movie_id:3105',\n",
              " 'year:1990',\n",
              " 'genre:Drama',\n",
              " 'movie_id:1357',\n",
              " 'year:1990',\n",
              " 'genre:Drama',\n",
              " 'movie_id:1196',\n",
              " 'year:1980',\n",
              " 'genre:Action',\n",
              " 'movie_id:1957',\n",
              " 'year:1980',\n",
              " 'genre:Drama',\n",
              " 'movie_id:920',\n",
              " 'year:1930',\n",
              " 'genre:Drama',\n",
              " 'movie_id:1953',\n",
              " 'year:1970',\n",
              " 'genre:Action',\n",
              " 'movie_id:1084',\n",
              " 'year:1960',\n",
              " 'genre:Crime',\n",
              " 'movie_id:1962',\n",
              " 'year:1980',\n",
              " 'genre:Drama',\n",
              " 'movie_id:1834',\n",
              " 'year:1990',\n",
              " 'genre:Drama',\n",
              " 'movie_id:3735',\n",
              " 'year:1970',\n",
              " 'genre:Crime',\n",
              " 'movie_id:3654',\n",
              " 'year:1960',\n",
              " 'genre:Action',\n",
              " 'movie_id:3471',\n",
              " 'year:1970',\n",
              " 'genre:Drama',\n",
              " 'movie_id:1784',\n",
              " 'year:1990',\n",
              " 'genre:Comedy',\n",
              " 'movie_id:1259',\n",
              " 'year:1980',\n",
              " 'genre:Adventure',\n",
              " 'movie_id:1954',\n",
              " 'year:1970',\n",
              " 'genre:Action',\n",
              " 'movie_id:2728',\n",
              " 'year:1960',\n",
              " 'genre:Drama',\n",
              " 'movie_id:1968',\n",
              " 'year:1980',\n",
              " 'genre:Comedy',\n",
              " 'movie_id:902',\n",
              " 'year:1960',\n",
              " 'genre:Drama',\n",
              " 'movie_id:1103',\n",
              " 'year:1950',\n",
              " 'genre:Drama',\n",
              " 'movie_id:3451',\n",
              " 'year:1960',\n",
              " 'genre:Comedy',\n",
              " 'movie_id:3334',\n",
              " 'year:1940',\n",
              " 'genre:Crime',\n",
              " 'movie_id:2852',\n",
              " 'year:1980',\n",
              " 'genre:Drama',\n",
              " 'movie_id:3578',\n",
              " 'year:2000',\n",
              " 'genre:Action',\n",
              " 'movie_id:3068',\n",
              " 'year:1980',\n",
              " 'genre:Drama',\n",
              " 'movie_id:265',\n",
              " 'year:1990',\n",
              " 'genre:Drama',\n",
              " 'movie_id:2312',\n",
              " 'year:1980',\n",
              " 'genre:Drama',\n",
              " 'movie_id:590',\n",
              " 'year:1990',\n",
              " 'genre:Adventure',\n",
              " 'movie_id:3071',\n",
              " 'year:1980',\n",
              " 'genre:Drama',\n",
              " 'movie_id:1253',\n",
              " 'year:1950',\n",
              " 'genre:Drama',\n",
              " 'movie_id:1244',\n",
              " 'year:1970',\n",
              " 'genre:Comedy',\n",
              " 'movie_id:3699',\n",
              " 'year:1980',\n",
              " 'genre:Adventure',\n",
              " 'movie_id:1245',\n",
              " 'year:1990',\n",
              " 'genre:Drama',\n",
              " 'movie_id:1955',\n",
              " 'year:1970',\n",
              " 'genre:Drama',\n",
              " 'movie_id:2236',\n",
              " 'year:1990',\n",
              " 'genre:Drama',\n",
              " 'movie_id:3678',\n",
              " 'year:1950',\n",
              " 'genre:Drama',\n",
              " 'movie_id:982',\n",
              " 'year:1950',\n",
              " 'genre:Drama',\n",
              " 'movie_id:1442',\n",
              " 'year:1990',\n",
              " 'genre:Drama',\n",
              " 'movie_id:2268',\n",
              " 'year:1990',\n",
              " 'genre:Crime',\n",
              " 'movie_id:2194',\n",
              " 'year:1980',\n",
              " 'genre:Action',\n",
              " 'movie_id:3255',\n",
              " 'year:1990',\n",
              " 'genre:Comedy',\n",
              " 'movie_id:235',\n",
              " 'year:1990',\n",
              " 'genre:Comedy',\n",
              " 'movie_id:647',\n",
              " 'year:1990',\n",
              " 'genre:Drama',\n",
              " 'movie_id:1096',\n",
              " 'year:1980',\n",
              " 'genre:Drama',\n",
              " 'movie_id:498',\n",
              " 'year:1990',\n",
              " 'genre:Drama',\n",
              " 'movie_id:1246',\n",
              " 'year:1980',\n",
              " 'genre:Drama',\n",
              " 'movie_id:1124',\n",
              " 'year:1980',\n",
              " 'genre:Drama',\n",
              " 'movie_id:3893',\n",
              " 'year:2000',\n",
              " 'genre:Comedy',\n",
              " 'movie_id:1537',\n",
              " 'year:1990',\n",
              " 'genre:Comedy',\n",
              " 'movie_id:1188',\n",
              " 'year:1990',\n",
              " 'genre:Comedy',\n",
              " 'movie_id:2396',\n",
              " 'year:1990',\n",
              " 'genre:Comedy',\n",
              " 'movie_id:2321',\n",
              " 'year:1990',\n",
              " 'genre:Comedy',\n",
              " 'movie_id:2359',\n",
              " 'year:1990',\n",
              " 'genre:Comedy',\n",
              " 'movie_id:356',\n",
              " 'year:1990',\n",
              " 'genre:Comedy',\n",
              " 'movie_id:3809',\n",
              " 'year:1990',\n",
              " 'genre:Comedy',\n",
              " 'movie_id:3108',\n",
              " 'year:1990',\n",
              " 'genre:Comedy',\n",
              " 'movie_id:1265',\n",
              " 'year:1990',\n",
              " 'genre:Comedy',\n",
              " 'movie_id:2571',\n",
              " 'year:1990',\n",
              " 'genre:Action',\n",
              " 'movie_id:457',\n",
              " 'year:1990',\n",
              " 'genre:Action',\n",
              " 'movie_id:2028',\n",
              " 'year:1990',\n",
              " 'genre:Action',\n",
              " 'movie_id:589',\n",
              " 'year:1990',\n",
              " 'genre:Action',\n",
              " 'movie_id:380',\n",
              " 'year:1990',\n",
              " 'genre:Action',\n",
              " 'movie_id:3418',\n",
              " 'year:1990',\n",
              " 'genre:Action',\n",
              " 'movie_id:163',\n",
              " 'year:1990',\n",
              " 'genre:Action',\n",
              " 'movie_id:1610',\n",
              " 'year:1990',\n",
              " 'genre:Action',\n",
              " 'movie_id:2916',\n",
              " 'year:1990',\n",
              " 'genre:Action',\n",
              " 'movie_id:480',\n",
              " 'year:1990',\n",
              " 'genre:Action',\n",
              " 'movie_id:3256',\n",
              " 'year:1990',\n",
              " 'genre:Action',\n",
              " 'movie_id:1527',\n",
              " 'year:1990',\n",
              " 'genre:Action',\n",
              " 'movie_id:349',\n",
              " 'year:1990',\n",
              " 'genre:Action',\n",
              " 'movie_id:1408',\n",
              " 'year:1990',\n",
              " 'genre:Action',\n",
              " 'movie_id:21',\n",
              " 'year:1990',\n",
              " 'genre:Action',\n",
              " 'movie_id:2353',\n",
              " 'year:1990',\n",
              " 'genre:Action',\n",
              " 'movie_id:2006',\n",
              " 'year:1990',\n",
              " 'genre:Action',\n",
              " 'movie_id:2278',\n",
              " 'year:1990',\n",
              " 'genre:Action',\n",
              " 'movie_id:1370',\n",
              " 'year:1990',\n",
              " 'genre:Action',\n",
              " 'movie_id:2427',\n",
              " 'year:1990',\n",
              " 'genre:Action',\n",
              " 'movie_id:648',\n",
              " 'year:1990',\n",
              " 'genre:Action',\n",
              " 'movie_id:1372',\n",
              " 'year:1990',\n",
              " 'genre:Action',\n",
              " 'movie_id:1552',\n",
              " 'year:1990',\n",
              " 'genre:Action',\n",
              " 'movie_id:1792',\n",
              " 'year:1990',\n",
              " 'genre:Action',\n",
              " 'movie_id:2490',\n",
              " 'year:1990',\n",
              " 'genre:Action',\n",
              " 'movie_id:1385',\n",
              " 'year:1990',\n",
              " 'genre:Action',\n",
              " 'movie_id:780',\n",
              " 'year:1990',\n",
              " 'genre:Action',\n",
              " 'movie_id:165',\n",
              " 'year:1990',\n",
              " 'genre:Action',\n",
              " 'movie_id:2881',\n",
              " 'year:1990',\n",
              " 'genre:Action',\n",
              " 'movie_id:368',\n",
              " 'year:1990',\n",
              " 'genre:Action',\n",
              " 'movie_id:459',\n",
              " 'year:1990',\n",
              " 'genre:Action',\n",
              " 'movie_id:1801',\n",
              " 'year:1990',\n",
              " 'genre:Action',\n",
              " 'movie_id:3107',\n",
              " 'year:1990',\n",
              " 'genre:Action',\n",
              " 'movie_id:1597',\n",
              " 'year:1990',\n",
              " 'genre:Action',\n",
              " 'movie_id:442',\n",
              " 'year:1990',\n",
              " 'genre:Action',\n",
              " 'movie_id:1690',\n",
              " 'year:1990',\n",
              " 'genre:Action',\n",
              " 'movie_id:2628',\n",
              " 'year:1990',\n",
              " 'genre:Action',\n",
              " 'movie_id:3257',\n",
              " 'year:1990',\n",
              " 'genre:Action',\n",
              " 'movie_id:2002',\n",
              " 'year:1990',\n",
              " 'genre:Action',\n",
              " 'movie_id:736',\n",
              " 'year:1990',\n",
              " 'genre:Action',\n",
              " 'movie_id:292',\n",
              " 'year:1990',\n",
              " 'genre:Action',\n",
              " 'movie_id:2126',\n",
              " 'year:1990',\n",
              " 'genre:Action',\n",
              " 'movie_id:95',\n",
              " 'year:1990',\n",
              " 'genre:Action',\n",
              " 'movie_id:1687',\n",
              " 'year:1990',\n",
              " 'genre:Action',\n",
              " 'movie_id:434',\n",
              " 'year:1990',\n",
              " 'genre:Action',\n",
              " 'movie_id:1544',\n",
              " 'year:1990',\n",
              " 'genre:Action',\n",
              " 'movie_id:1917',\n",
              " 'year:1990',\n",
              " 'genre:Action']"
            ]
          },
          "metadata": {},
          "execution_count": 21
        }
      ]
    },
    {
      "cell_type": "code",
      "metadata": {
        "colab": {
          "base_uri": "https://localhost:8080/"
        },
        "id": "1bPzDPI-3v_D",
        "outputId": "131b825d-fd4c-4f33-85ec-997855404d33"
      },
      "source": [
        "!pip install gensim"
      ],
      "execution_count": 22,
      "outputs": [
        {
          "output_type": "stream",
          "name": "stdout",
          "text": [
            "Requirement already satisfied: gensim in /usr/local/lib/python3.7/dist-packages (3.6.0)\n",
            "Requirement already satisfied: numpy>=1.11.3 in /usr/local/lib/python3.7/dist-packages (from gensim) (1.19.5)\n",
            "Requirement already satisfied: scipy>=0.18.1 in /usr/local/lib/python3.7/dist-packages (from gensim) (1.4.1)\n",
            "Requirement already satisfied: six>=1.5.0 in /usr/local/lib/python3.7/dist-packages (from gensim) (1.15.0)\n",
            "Requirement already satisfied: smart-open>=1.2.1 in /usr/local/lib/python3.7/dist-packages (from gensim) (5.2.1)\n"
          ]
        }
      ]
    },
    {
      "cell_type": "code",
      "metadata": {
        "id": "AqEsApb-1wXe"
      },
      "source": [
        "from gensim.models import Word2Vec\n",
        "\n",
        "model = Word2Vec(movie2vec_dataset,\n",
        "                 size=100,\n",
        "                 window=6,  # 주변 word의 윈도우\n",
        "                 sg=1,  # skip-gram OR cbow\n",
        "                 hs=0,  # hierarchical softmax OR negative sampling\n",
        "                 negative=20,  # negative sampling 파라미터\n",
        "                 min_count=1,  # word의 등장 최소 횟수\n",
        "                 iter=1) #20"
      ],
      "execution_count": 23,
      "outputs": []
    },
    {
      "cell_type": "markdown",
      "metadata": {
        "id": "6SCUvPciUUpj"
      },
      "source": [
        "### 문제 6. Embedding - 일부 데이터로 Movie2Vec 학습 결과 확인"
      ]
    },
    {
      "cell_type": "code",
      "metadata": {
        "id": "-jubUDxCRi7r",
        "colab": {
          "base_uri": "https://localhost:8080/"
        },
        "outputId": "4106f47d-2755-4374-9d4f-8360302b43cc"
      },
      "source": [
        "# most_similar 함수로 학습 결과 확인\n",
        "model.wv.most_similar(\"movie_id:1\", topn=5) #1번영화 -> 토이스토리와 가장 유사한 벡터"
      ],
      "execution_count": 24,
      "outputs": [
        {
          "output_type": "execute_result",
          "data": {
            "text/plain": [
              "[('movie_id:1223', 0.8991047143936157),\n",
              " ('movie_id:3429', 0.8901386857032776),\n",
              " ('movie_id:745', 0.8399741649627686),\n",
              " ('movie_id:3114', 0.8349689841270447),\n",
              " ('movie_id:34', 0.8343400955200195)]"
            ]
          },
          "metadata": {},
          "execution_count": 24
        }
      ]
    },
    {
      "cell_type": "code",
      "metadata": {
        "id": "MP-rjcVd9Typ",
        "colab": {
          "base_uri": "https://localhost:8080/",
          "height": 206
        },
        "outputId": "76e24cf0-07d9-48e0-9b7e-883b9d80fc3a"
      },
      "source": [
        "movie_df[movie_df['movie_id'].isin([1223,3429,2324,2289,1537])] #비교적 잘 embedding이 되었음"
      ],
      "execution_count": 25,
      "outputs": [
        {
          "output_type": "execute_result",
          "data": {
            "text/html": [
              "<div>\n",
              "<style scoped>\n",
              "    .dataframe tbody tr th:only-of-type {\n",
              "        vertical-align: middle;\n",
              "    }\n",
              "\n",
              "    .dataframe tbody tr th {\n",
              "        vertical-align: top;\n",
              "    }\n",
              "\n",
              "    .dataframe thead th {\n",
              "        text-align: right;\n",
              "    }\n",
              "</style>\n",
              "<table border=\"1\" class=\"dataframe\">\n",
              "  <thead>\n",
              "    <tr style=\"text-align: right;\">\n",
              "      <th></th>\n",
              "      <th>movie_id</th>\n",
              "      <th>title</th>\n",
              "      <th>genre</th>\n",
              "      <th>decade</th>\n",
              "      <th>main_genre</th>\n",
              "    </tr>\n",
              "  </thead>\n",
              "  <tbody>\n",
              "    <tr>\n",
              "      <th>1205</th>\n",
              "      <td>1223</td>\n",
              "      <td>Grand Day Out, A (1992)</td>\n",
              "      <td>Animation|Comedy</td>\n",
              "      <td>1990</td>\n",
              "      <td>Animation</td>\n",
              "    </tr>\n",
              "    <tr>\n",
              "      <th>1499</th>\n",
              "      <td>1537</td>\n",
              "      <td>Shall We Dance? (Shall We Dansu?) (1996)</td>\n",
              "      <td>Comedy</td>\n",
              "      <td>1990</td>\n",
              "      <td>Comedy</td>\n",
              "    </tr>\n",
              "    <tr>\n",
              "      <th>2220</th>\n",
              "      <td>2289</td>\n",
              "      <td>Player, The (1992)</td>\n",
              "      <td>Comedy|Drama</td>\n",
              "      <td>1990</td>\n",
              "      <td>Comedy</td>\n",
              "    </tr>\n",
              "    <tr>\n",
              "      <th>2255</th>\n",
              "      <td>2324</td>\n",
              "      <td>Life Is Beautiful (La Vita è bella) (1997)</td>\n",
              "      <td>Comedy|Drama</td>\n",
              "      <td>1990</td>\n",
              "      <td>Comedy</td>\n",
              "    </tr>\n",
              "    <tr>\n",
              "      <th>3360</th>\n",
              "      <td>3429</td>\n",
              "      <td>Creature Comforts (1990)</td>\n",
              "      <td>Animation|Comedy</td>\n",
              "      <td>1990</td>\n",
              "      <td>Animation</td>\n",
              "    </tr>\n",
              "  </tbody>\n",
              "</table>\n",
              "</div>"
            ],
            "text/plain": [
              "      movie_id                                       title  ... decade main_genre\n",
              "1205      1223                     Grand Day Out, A (1992)  ...   1990  Animation\n",
              "1499      1537    Shall We Dance? (Shall We Dansu?) (1996)  ...   1990     Comedy\n",
              "2220      2289                          Player, The (1992)  ...   1990     Comedy\n",
              "2255      2324  Life Is Beautiful (La Vita è bella) (1997)  ...   1990     Comedy\n",
              "3360      3429                    Creature Comforts (1990)  ...   1990  Animation\n",
              "\n",
              "[5 rows x 5 columns]"
            ]
          },
          "metadata": {},
          "execution_count": 25
        }
      ]
    },
    {
      "cell_type": "markdown",
      "metadata": {
        "id": "sdgJnK6iRjm6"
      },
      "source": [
        "### 문제 7. EDA & 전처리 - Movie2Vec 모델로 Item2Item 후보군 생성"
      ]
    },
    {
      "cell_type": "code",
      "metadata": {
        "id": "IGxmZFbyRoBX",
        "colab": {
          "base_uri": "https://localhost:8080/"
        },
        "outputId": "3bd176d8-0694-42d9-bf9d-c8fd1d1ebb0c"
      },
      "source": [
        "item2item = {}\n",
        "\n",
        "# 영화별 연관 영화 k개씩 추출\n",
        "k = 10\n",
        "not_in_count = 0\n",
        "for movie_id in movie_df['movie_id'].values:\n",
        "  item2item[movie_id] = []\n",
        "  try:\n",
        "    sim_list = model.wv.most_similar(\"movie_id:\" + str(movie_id), topn=k+10) #+10 후보군이 10개가 안될때 채워줌(최소10개 채움)\n",
        "    for movie_tup in sim_list:\n",
        "      tup_info = movie_tup[0].split(\":\")\n",
        "      if (tup_info[0] == \"movie_id\") and (len(item2item[movie_id]) < 10):\n",
        "        item2item[movie_id].append(tup_info[1])\n",
        "  except: #word 2 vec 학습시 등장하지 않은 단어가 나올때 대비하기 위함\n",
        "    not_in_count += 1\n",
        "    print(\"word\", str(movie_id) ,\"not in vocabulary\")"
      ],
      "execution_count": 26,
      "outputs": [
        {
          "output_type": "stream",
          "name": "stdout",
          "text": [
            "word 51 not in vocabulary\n",
            "word 109 not in vocabulary\n",
            "word 115 not in vocabulary\n",
            "word 143 not in vocabulary\n",
            "word 284 not in vocabulary\n",
            "word 285 not in vocabulary\n",
            "word 395 not in vocabulary\n",
            "word 399 not in vocabulary\n",
            "word 400 not in vocabulary\n",
            "word 403 not in vocabulary\n",
            "word 604 not in vocabulary\n",
            "word 620 not in vocabulary\n",
            "word 625 not in vocabulary\n",
            "word 629 not in vocabulary\n",
            "word 636 not in vocabulary\n",
            "word 654 not in vocabulary\n",
            "word 675 not in vocabulary\n",
            "word 676 not in vocabulary\n",
            "word 683 not in vocabulary\n",
            "word 693 not in vocabulary\n",
            "word 699 not in vocabulary\n",
            "word 713 not in vocabulary\n",
            "word 721 not in vocabulary\n",
            "word 723 not in vocabulary\n",
            "word 727 not in vocabulary\n",
            "word 738 not in vocabulary\n",
            "word 739 not in vocabulary\n",
            "word 752 not in vocabulary\n",
            "word 768 not in vocabulary\n",
            "word 770 not in vocabulary\n",
            "word 772 not in vocabulary\n",
            "word 773 not in vocabulary\n",
            "word 777 not in vocabulary\n",
            "word 794 not in vocabulary\n",
            "word 795 not in vocabulary\n",
            "word 797 not in vocabulary\n",
            "word 812 not in vocabulary\n",
            "word 816 not in vocabulary\n",
            "word 819 not in vocabulary\n",
            "word 822 not in vocabulary\n",
            "word 825 not in vocabulary\n",
            "word 845 not in vocabulary\n",
            "word 855 not in vocabulary\n",
            "word 856 not in vocabulary\n",
            "word 857 not in vocabulary\n",
            "word 871 not in vocabulary\n",
            "word 873 not in vocabulary\n",
            "word 890 not in vocabulary\n",
            "word 894 not in vocabulary\n",
            "word 979 not in vocabulary\n",
            "word 983 not in vocabulary\n",
            "word 1001 not in vocabulary\n",
            "word 1045 not in vocabulary\n",
            "word 1052 not in vocabulary\n",
            "word 1065 not in vocabulary\n",
            "word 1075 not in vocabulary\n",
            "word 1106 not in vocabulary\n",
            "word 1108 not in vocabulary\n",
            "word 1109 not in vocabulary\n",
            "word 1110 not in vocabulary\n",
            "word 1122 not in vocabulary\n",
            "word 1137 not in vocabulary\n",
            "word 1140 not in vocabulary\n",
            "word 1141 not in vocabulary\n",
            "word 1143 not in vocabulary\n",
            "word 1146 not in vocabulary\n",
            "word 1155 not in vocabulary\n",
            "word 1156 not in vocabulary\n",
            "word 1157 not in vocabulary\n",
            "word 1158 not in vocabulary\n",
            "word 1159 not in vocabulary\n",
            "word 1166 not in vocabulary\n",
            "word 1308 not in vocabulary\n",
            "word 1309 not in vocabulary\n",
            "word 1314 not in vocabulary\n",
            "word 1318 not in vocabulary\n",
            "word 1319 not in vocabulary\n",
            "word 1368 not in vocabulary\n",
            "word 1400 not in vocabulary\n",
            "word 1424 not in vocabulary\n",
            "word 1443 not in vocabulary\n",
            "word 1448 not in vocabulary\n",
            "word 1462 not in vocabulary\n",
            "word 1467 not in vocabulary\n",
            "word 1524 not in vocabulary\n",
            "word 1557 not in vocabulary\n",
            "word 1559 not in vocabulary\n",
            "word 1568 not in vocabulary\n",
            "word 1577 not in vocabulary\n",
            "word 1578 not in vocabulary\n",
            "word 1628 not in vocabulary\n",
            "word 1697 not in vocabulary\n",
            "word 1698 not in vocabulary\n",
            "word 1705 not in vocabulary\n",
            "word 1706 not in vocabulary\n",
            "word 1708 not in vocabulary\n",
            "word 1710 not in vocabulary\n",
            "word 1716 not in vocabulary\n",
            "word 1723 not in vocabulary\n",
            "word 1738 not in vocabulary\n",
            "word 1740 not in vocabulary\n",
            "word 1742 not in vocabulary\n",
            "word 1757 not in vocabulary\n",
            "word 1765 not in vocabulary\n",
            "word 1768 not in vocabulary\n",
            "word 1774 not in vocabulary\n",
            "word 1776 not in vocabulary\n",
            "word 1781 not in vocabulary\n",
            "word 1789 not in vocabulary\n",
            "word 1819 not in vocabulary\n",
            "word 1847 not in vocabulary\n",
            "word 2030 not in vocabulary\n",
            "word 2199 not in vocabulary\n",
            "word 2216 not in vocabulary\n",
            "word 2220 not in vocabulary\n",
            "word 2222 not in vocabulary\n",
            "word 2224 not in vocabulary\n",
            "word 2225 not in vocabulary\n",
            "word 2228 not in vocabulary\n",
            "word 2229 not in vocabulary\n",
            "word 2230 not in vocabulary\n",
            "word 2270 not in vocabulary\n",
            "word 2274 not in vocabulary\n",
            "word 2319 not in vocabulary\n",
            "word 2489 not in vocabulary\n",
            "word 2508 not in vocabulary\n",
            "word 2547 not in vocabulary\n",
            "word 2564 not in vocabulary\n",
            "word 2588 not in vocabulary\n",
            "word 2595 not in vocabulary\n",
            "word 2601 not in vocabulary\n",
            "word 2603 not in vocabulary\n",
            "word 2604 not in vocabulary\n",
            "word 2680 not in vocabulary\n",
            "word 2684 not in vocabulary\n",
            "word 2698 not in vocabulary\n",
            "word 2832 not in vocabulary\n",
            "word 2838 not in vocabulary\n",
            "word 2910 not in vocabulary\n",
            "word 2954 not in vocabulary\n",
            "word 2957 not in vocabulary\n",
            "word 2958 not in vocabulary\n",
            "word 2980 not in vocabulary\n",
            "word 3009 not in vocabulary\n",
            "word 3023 not in vocabulary\n",
            "word 3059 not in vocabulary\n",
            "word 3080 not in vocabulary\n",
            "word 3170 not in vocabulary\n",
            "word 3191 not in vocabulary\n",
            "word 3193 not in vocabulary\n",
            "word 3195 not in vocabulary\n",
            "word 3226 not in vocabulary\n",
            "word 3227 not in vocabulary\n",
            "word 3231 not in vocabulary\n",
            "word 3234 not in vocabulary\n",
            "word 3278 not in vocabulary\n",
            "word 3279 not in vocabulary\n",
            "word 3332 not in vocabulary\n",
            "word 3348 not in vocabulary\n",
            "word 3356 not in vocabulary\n",
            "word 3369 not in vocabulary\n",
            "word 3383 not in vocabulary\n",
            "word 3411 not in vocabulary\n",
            "word 3455 not in vocabulary\n",
            "word 3541 not in vocabulary\n",
            "word 3558 not in vocabulary\n",
            "word 3560 not in vocabulary\n",
            "word 3561 not in vocabulary\n",
            "word 3582 not in vocabulary\n",
            "word 3583 not in vocabulary\n",
            "word 3589 not in vocabulary\n",
            "word 3630 not in vocabulary\n",
            "word 3650 not in vocabulary\n",
            "word 3750 not in vocabulary\n",
            "word 3829 not in vocabulary\n",
            "word 3856 not in vocabulary\n",
            "word 3907 not in vocabulary\n"
          ]
        }
      ]
    },
    {
      "cell_type": "code",
      "metadata": {
        "id": "iSLclcjjBdTq"
      },
      "source": [
        ""
      ],
      "execution_count": 26,
      "outputs": []
    },
    {
      "cell_type": "markdown",
      "metadata": {
        "id": "QMmyuJ-gRm-a"
      },
      "source": [
        "## Step 2. 탐색적으로 다양한 추천 후보군 생성"
      ]
    },
    {
      "cell_type": "markdown",
      "metadata": {
        "id": "DpndYXP6Rxi9"
      },
      "source": [
        "### 문제 8. EDA & 전처리 - 평균 평점 기반 Popular 후보군 생성"
      ]
    },
    {
      "cell_type": "code",
      "metadata": {
        "id": "e6fSZzk6R1Ku"
      },
      "source": [
        "# 일정 count 이상이면서 평균 rating이 높은 순서대로 Popular 후보군 생성 (movie_id에 groupby 적용)"
      ],
      "execution_count": 27,
      "outputs": []
    },
    {
      "cell_type": "code",
      "metadata": {
        "id": "0iZmFT_ydCZZ",
        "colab": {
          "base_uri": "https://localhost:8080/",
          "height": 238
        },
        "outputId": "17899280-20c7-4275-ccc4-11c1464f0e12"
      },
      "source": [
        "# 다양한 추천 후보군 생성후 기술적인 방법으로 순서 재정렬\n",
        "\n",
        "#인기도 기반으로 -> 기준: 평균점수\n",
        "\n",
        "mean_ratings = rating_df.groupby('movie_id')['rating'].agg(['mean', 'count']) #일정 횟수 이상으로만 평가된 것만 뽑음\n",
        "mean_ratings.head()"
      ],
      "execution_count": 28,
      "outputs": [
        {
          "output_type": "execute_result",
          "data": {
            "text/html": [
              "<div>\n",
              "<style scoped>\n",
              "    .dataframe tbody tr th:only-of-type {\n",
              "        vertical-align: middle;\n",
              "    }\n",
              "\n",
              "    .dataframe tbody tr th {\n",
              "        vertical-align: top;\n",
              "    }\n",
              "\n",
              "    .dataframe thead th {\n",
              "        text-align: right;\n",
              "    }\n",
              "</style>\n",
              "<table border=\"1\" class=\"dataframe\">\n",
              "  <thead>\n",
              "    <tr style=\"text-align: right;\">\n",
              "      <th></th>\n",
              "      <th>mean</th>\n",
              "      <th>count</th>\n",
              "    </tr>\n",
              "    <tr>\n",
              "      <th>movie_id</th>\n",
              "      <th></th>\n",
              "      <th></th>\n",
              "    </tr>\n",
              "  </thead>\n",
              "  <tbody>\n",
              "    <tr>\n",
              "      <th>1</th>\n",
              "      <td>4.146846</td>\n",
              "      <td>2077</td>\n",
              "    </tr>\n",
              "    <tr>\n",
              "      <th>2</th>\n",
              "      <td>3.201141</td>\n",
              "      <td>701</td>\n",
              "    </tr>\n",
              "    <tr>\n",
              "      <th>3</th>\n",
              "      <td>3.016736</td>\n",
              "      <td>478</td>\n",
              "    </tr>\n",
              "    <tr>\n",
              "      <th>4</th>\n",
              "      <td>2.729412</td>\n",
              "      <td>170</td>\n",
              "    </tr>\n",
              "    <tr>\n",
              "      <th>5</th>\n",
              "      <td>3.006757</td>\n",
              "      <td>296</td>\n",
              "    </tr>\n",
              "  </tbody>\n",
              "</table>\n",
              "</div>"
            ],
            "text/plain": [
              "              mean  count\n",
              "movie_id                 \n",
              "1         4.146846   2077\n",
              "2         3.201141    701\n",
              "3         3.016736    478\n",
              "4         2.729412    170\n",
              "5         3.006757    296"
            ]
          },
          "metadata": {},
          "execution_count": 28
        }
      ]
    },
    {
      "cell_type": "code",
      "metadata": {
        "colab": {
          "base_uri": "https://localhost:8080/"
        },
        "id": "TnPHrqxx65DC",
        "outputId": "79ecd386-59f7-4451-8e4c-cab07af0d836"
      },
      "source": [
        "mean_ratings['count'].value_counts()"
      ],
      "execution_count": 29,
      "outputs": [
        {
          "output_type": "execute_result",
          "data": {
            "text/plain": [
              "1       114\n",
              "2        89\n",
              "4        45\n",
              "3        42\n",
              "5        39\n",
              "       ... \n",
              "1568      1\n",
              "1548      1\n",
              "1546      1\n",
              "1522      1\n",
              "1995      1\n",
              "Name: count, Length: 924, dtype: int64"
            ]
          },
          "metadata": {},
          "execution_count": 29
        }
      ]
    },
    {
      "cell_type": "code",
      "metadata": {
        "colab": {
          "base_uri": "https://localhost:8080/",
          "height": 283
        },
        "id": "gxC0zN-V65KU",
        "outputId": "e9bd9e24-f1f6-4cfc-c2e3-b48f91c834ce"
      },
      "source": [
        "mean_ratings['count'].value_counts().hist(bins = 100) #최소 카운트를 뭘로할지 한번 해본다"
      ],
      "execution_count": 30,
      "outputs": [
        {
          "output_type": "execute_result",
          "data": {
            "text/plain": [
              "<matplotlib.axes._subplots.AxesSubplot at 0x7f65d1fe3e50>"
            ]
          },
          "metadata": {},
          "execution_count": 30
        },
        {
          "output_type": "display_data",
          "data": {
            "image/png": "[encoded data removed]",
            "text/plain": [
              "<Figure size 432x288 with 1 Axes>"
            ]
          },
          "metadata": {
            "needs_background": "light"
          }
        }
      ]
    },
    {
      "cell_type": "code",
      "metadata": {
        "id": "bIB0N31t65Pt"
      },
      "source": [
        ""
      ],
      "execution_count": 30,
      "outputs": []
    },
    {
      "cell_type": "code",
      "metadata": {
        "id": "mqZXfXLm65Yf"
      },
      "source": [
        ""
      ],
      "execution_count": 30,
      "outputs": []
    },
    {
      "cell_type": "code",
      "metadata": {
        "id": "h3S5gvne7X_2"
      },
      "source": [
        ""
      ],
      "execution_count": 30,
      "outputs": []
    },
    {
      "cell_type": "markdown",
      "metadata": {
        "id": "K3YJ-yVPRxlf"
      },
      "source": [
        "### 문제 9. EDA & 전처리 - Popular 후보군 생성 결과 확인"
      ]
    },
    {
      "cell_type": "markdown",
      "metadata": {
        "id": "SL8yugcIguJu"
      },
      "source": [
        ""
      ]
    },
    {
      "cell_type": "code",
      "metadata": {
        "colab": {
          "base_uri": "https://localhost:8080/"
        },
        "id": "JIrAbku-7YeF",
        "outputId": "7cc8298d-c532-4546-e4dd-d3f774f3df94"
      },
      "source": [
        "mean_ratings[mean_ratings['count']>10]['mean'].sort_values(ascending=False) #최소 10명이상이 평가한것중 평균점수가 높은순서대로"
      ],
      "execution_count": 31,
      "outputs": [
        {
          "output_type": "execute_result",
          "data": {
            "text/plain": [
              "movie_id\n",
              "2905    4.608696\n",
              "2019    4.560510\n",
              "318     4.554558\n",
              "858     4.524966\n",
              "745     4.520548\n",
              "          ...   \n",
              "3573    1.461538\n",
              "1323    1.372093\n",
              "1739    1.361702\n",
              "1495    1.318182\n",
              "3574    1.058824\n",
              "Name: mean, Length: 3233, dtype: float64"
            ]
          },
          "metadata": {},
          "execution_count": 31
        }
      ]
    },
    {
      "cell_type": "code",
      "metadata": {
        "id": "nEJ880oiSE_n",
        "colab": {
          "base_uri": "https://localhost:8080/"
        },
        "outputId": "f8096173-7776-48fb-e6a7-7a17b026a07e"
      },
      "source": [
        "# 생성 결과를 popular_movie_list 변수에 할당\n",
        "mean_ratings[mean_ratings['count']>10]['mean'].sort_values(ascending=False)[:20]\n",
        "# ex.\n",
        "# [4.608695652173913,\n",
        "#  4.560509554140127,\n",
        "#  4.554557700942973,\n",
        "#  4.524966261808367,\n",
        "#  4.52054794520548,\n",
        "#  4.517106001121705,\n",
        "#  4.510416666666667,\n",
        "#  4.507936507936508,\n",
        "#  4.491489361702127,\n",
        "#  4.477724741447892]"
      ],
      "execution_count": 32,
      "outputs": [
        {
          "output_type": "execute_result",
          "data": {
            "text/plain": [
              "movie_id\n",
              "2905    4.608696\n",
              "2019    4.560510\n",
              "318     4.554558\n",
              "858     4.524966\n",
              "745     4.520548\n",
              "50      4.517106\n",
              "527     4.510417\n",
              "1148    4.507937\n",
              "922     4.491489\n",
              "1198    4.477725\n",
              "904     4.476190\n",
              "1178    4.473913\n",
              "260     4.453694\n",
              "1212    4.452083\n",
              "750     4.449890\n",
              "3338    4.444444\n",
              "720     4.426941\n",
              "1207    4.425647\n",
              "3435    4.415608\n",
              "912     4.412822\n",
              "Name: mean, dtype: float64"
            ]
          },
          "metadata": {},
          "execution_count": 32
        }
      ]
    },
    {
      "cell_type": "code",
      "metadata": {
        "colab": {
          "base_uri": "https://localhost:8080/"
        },
        "id": "wBv3KRqe7iuH",
        "outputId": "0bfa1c92-33dc-41ea-bd03-d7c877684ece"
      },
      "source": [
        "popular_movie_list = mean_ratings[mean_ratings['count']>10]['mean'].sort_values(ascending=False).index[:10].tolist()\n",
        "popular_movie_list"
      ],
      "execution_count": 33,
      "outputs": [
        {
          "output_type": "execute_result",
          "data": {
            "text/plain": [
              "[2905, 2019, 318, 858, 745, 50, 527, 1148, 922, 1198]"
            ]
          },
          "metadata": {},
          "execution_count": 33
        }
      ]
    },
    {
      "cell_type": "markdown",
      "metadata": {
        "id": "JZn3DyH0RxoF"
      },
      "source": [
        "### 문제 10. EDA & 전처리 - 장르 & 연도 기준 Meta2Item 후보군 생성"
      ]
    },
    {
      "cell_type": "code",
      "metadata": {
        "id": "HHiF8D9fMu5x",
        "colab": {
          "base_uri": "https://localhost:8080/",
          "height": 423
        },
        "outputId": "9d1b7b38-c5aa-4636-a89e-33961a2bac23"
      },
      "source": [
        "# 장르 & 연도를 meta로 하는, meta별 상위 10개씩 popular list 추출\n",
        "movie_df = pd.merge(mean_ratings, movie_df, on = 'movie_id')\n",
        "#위에서 추출된 영화들의 메타데이터만 봅아 데이터프레임 뽑음\n",
        "movie_df\n"
      ],
      "execution_count": 34,
      "outputs": [
        {
          "output_type": "execute_result",
          "data": {
            "text/html": [
              "<div>\n",
              "<style scoped>\n",
              "    .dataframe tbody tr th:only-of-type {\n",
              "        vertical-align: middle;\n",
              "    }\n",
              "\n",
              "    .dataframe tbody tr th {\n",
              "        vertical-align: top;\n",
              "    }\n",
              "\n",
              "    .dataframe thead th {\n",
              "        text-align: right;\n",
              "    }\n",
              "</style>\n",
              "<table border=\"1\" class=\"dataframe\">\n",
              "  <thead>\n",
              "    <tr style=\"text-align: right;\">\n",
              "      <th></th>\n",
              "      <th>movie_id</th>\n",
              "      <th>mean</th>\n",
              "      <th>count</th>\n",
              "      <th>title</th>\n",
              "      <th>genre</th>\n",
              "      <th>decade</th>\n",
              "      <th>main_genre</th>\n",
              "    </tr>\n",
              "  </thead>\n",
              "  <tbody>\n",
              "    <tr>\n",
              "      <th>0</th>\n",
              "      <td>1</td>\n",
              "      <td>4.146846</td>\n",
              "      <td>2077</td>\n",
              "      <td>Toy Story (1995)</td>\n",
              "      <td>Animation|Children's|Comedy</td>\n",
              "      <td>1990</td>\n",
              "      <td>Animation</td>\n",
              "    </tr>\n",
              "    <tr>\n",
              "      <th>1</th>\n",
              "      <td>2</td>\n",
              "      <td>3.201141</td>\n",
              "      <td>701</td>\n",
              "      <td>Jumanji (1995)</td>\n",
              "      <td>Adventure|Children's|Fantasy</td>\n",
              "      <td>1990</td>\n",
              "      <td>Adventure</td>\n",
              "    </tr>\n",
              "    <tr>\n",
              "      <th>2</th>\n",
              "      <td>3</td>\n",
              "      <td>3.016736</td>\n",
              "      <td>478</td>\n",
              "      <td>Grumpier Old Men (1995)</td>\n",
              "      <td>Comedy|Romance</td>\n",
              "      <td>1990</td>\n",
              "      <td>Comedy</td>\n",
              "    </tr>\n",
              "    <tr>\n",
              "      <th>3</th>\n",
              "      <td>4</td>\n",
              "      <td>2.729412</td>\n",
              "      <td>170</td>\n",
              "      <td>Waiting to Exhale (1995)</td>\n",
              "      <td>Comedy|Drama</td>\n",
              "      <td>1990</td>\n",
              "      <td>Comedy</td>\n",
              "    </tr>\n",
              "    <tr>\n",
              "      <th>4</th>\n",
              "      <td>5</td>\n",
              "      <td>3.006757</td>\n",
              "      <td>296</td>\n",
              "      <td>Father of the Bride Part II (1995)</td>\n",
              "      <td>Comedy</td>\n",
              "      <td>1990</td>\n",
              "      <td>Comedy</td>\n",
              "    </tr>\n",
              "    <tr>\n",
              "      <th>...</th>\n",
              "      <td>...</td>\n",
              "      <td>...</td>\n",
              "      <td>...</td>\n",
              "      <td>...</td>\n",
              "      <td>...</td>\n",
              "      <td>...</td>\n",
              "      <td>...</td>\n",
              "    </tr>\n",
              "    <tr>\n",
              "      <th>3701</th>\n",
              "      <td>3948</td>\n",
              "      <td>3.635731</td>\n",
              "      <td>862</td>\n",
              "      <td>Meet the Parents (2000)</td>\n",
              "      <td>Comedy</td>\n",
              "      <td>2000</td>\n",
              "      <td>Comedy</td>\n",
              "    </tr>\n",
              "    <tr>\n",
              "      <th>3702</th>\n",
              "      <td>3949</td>\n",
              "      <td>4.115132</td>\n",
              "      <td>304</td>\n",
              "      <td>Requiem for a Dream (2000)</td>\n",
              "      <td>Drama</td>\n",
              "      <td>2000</td>\n",
              "      <td>Drama</td>\n",
              "    </tr>\n",
              "    <tr>\n",
              "      <th>3703</th>\n",
              "      <td>3950</td>\n",
              "      <td>3.666667</td>\n",
              "      <td>54</td>\n",
              "      <td>Tigerland (2000)</td>\n",
              "      <td>Drama</td>\n",
              "      <td>2000</td>\n",
              "      <td>Drama</td>\n",
              "    </tr>\n",
              "    <tr>\n",
              "      <th>3704</th>\n",
              "      <td>3951</td>\n",
              "      <td>3.900000</td>\n",
              "      <td>40</td>\n",
              "      <td>Two Family House (2000)</td>\n",
              "      <td>Drama</td>\n",
              "      <td>2000</td>\n",
              "      <td>Drama</td>\n",
              "    </tr>\n",
              "    <tr>\n",
              "      <th>3705</th>\n",
              "      <td>3952</td>\n",
              "      <td>3.780928</td>\n",
              "      <td>388</td>\n",
              "      <td>Contender, The (2000)</td>\n",
              "      <td>Drama|Thriller</td>\n",
              "      <td>2000</td>\n",
              "      <td>Drama</td>\n",
              "    </tr>\n",
              "  </tbody>\n",
              "</table>\n",
              "<p>3706 rows × 7 columns</p>\n",
              "</div>"
            ],
            "text/plain": [
              "      movie_id      mean  count  ...                         genre decade main_genre\n",
              "0            1  4.146846   2077  ...   Animation|Children's|Comedy   1990  Animation\n",
              "1            2  3.201141    701  ...  Adventure|Children's|Fantasy   1990  Adventure\n",
              "2            3  3.016736    478  ...                Comedy|Romance   1990     Comedy\n",
              "3            4  2.729412    170  ...                  Comedy|Drama   1990     Comedy\n",
              "4            5  3.006757    296  ...                        Comedy   1990     Comedy\n",
              "...        ...       ...    ...  ...                           ...    ...        ...\n",
              "3701      3948  3.635731    862  ...                        Comedy   2000     Comedy\n",
              "3702      3949  4.115132    304  ...                         Drama   2000      Drama\n",
              "3703      3950  3.666667     54  ...                         Drama   2000      Drama\n",
              "3704      3951  3.900000     40  ...                         Drama   2000      Drama\n",
              "3705      3952  3.780928    388  ...                Drama|Thriller   2000      Drama\n",
              "\n",
              "[3706 rows x 7 columns]"
            ]
          },
          "metadata": {},
          "execution_count": 34
        }
      ]
    },
    {
      "cell_type": "code",
      "metadata": {
        "id": "OWr57J8E8EWQ"
      },
      "source": [
        "# 장르&연도를 meta로 하여, meta별 상위 10개의 평점 높은 영화\n",
        "def get_meta_popular_list(x, k):\n",
        "  movie_id_list = x.sort_values(by=['mean'], ascending=False)['movie_id'].tolist()\n",
        "  return movie_id_list[:k]\n",
        "\n",
        "genre_popular = movie_df.groupby('main_genre').apply(lambda x: get_meta_popular_list(x, k=10))\n",
        "year_popular = movie_df.groupby('decade').apply(lambda x: get_meta_popular_list(x, k=10))"
      ],
      "execution_count": 35,
      "outputs": []
    },
    {
      "cell_type": "code",
      "metadata": {
        "colab": {
          "base_uri": "https://localhost:8080/"
        },
        "id": "7J_rLvdt74gB",
        "outputId": "b77d2a57-4885-464c-9cd7-f6156cce3d46"
      },
      "source": [
        "\n",
        "genre_popular.head()\n"
      ],
      "execution_count": 36,
      "outputs": [
        {
          "output_type": "execute_result",
          "data": {
            "text/plain": [
              "main_genre\n",
              "Action        [2905, 2019, 858, 1198, 260, 1221, 2028, 2571,...\n",
              "Adventure     [3172, 1204, 1262, 3470, 1254, 919, 1303, 1259...\n",
              "Animation     [745, 1148, 720, 1223, 3429, 3114, 1, 741, 276...\n",
              "Children's    [1097, 1028, 34, 262, 3396, 755, 531, 3397, 55...\n",
              "Comedy        [1830, 3233, 3607, 3030, 3307, 3022, 1136, 341...\n",
              "dtype: object"
            ]
          },
          "metadata": {},
          "execution_count": 36
        }
      ]
    },
    {
      "cell_type": "code",
      "metadata": {
        "colab": {
          "base_uri": "https://localhost:8080/"
        },
        "id": "ai7O1vO09CRr",
        "outputId": "d1ae49ff-855d-48af-d588-adfcdd1954bc"
      },
      "source": [
        "year_popular.head()"
      ],
      "execution_count": 37,
      "outputs": [
        {
          "output_type": "execute_result",
          "data": {
            "text/plain": [
              "decade\n",
              "1910                                   [3132, 2821, 2823]\n",
              "1920    [3517, 3022, 3629, 2010, 3232, 1348, 3742, 330...\n",
              "1930    [3382, 3307, 3134, 1260, 905, 919, 954, 950, 3...\n",
              "1940    [3656, 1212, 3435, 912, 913, 923, 3089, 1284, ...\n",
              "1950    [3172, 2019, 922, 904, 1178, 670, 668, 1250, 9...\n",
              "dtype: object"
            ]
          },
          "metadata": {},
          "execution_count": 37
        }
      ]
    },
    {
      "cell_type": "markdown",
      "metadata": {
        "id": "71YJM0PGRxqo"
      },
      "source": [
        "### 문제 11. EDA & 전처리 - Meta 후보군 생성 결과 확인"
      ]
    },
    {
      "cell_type": "code",
      "metadata": {
        "colab": {
          "base_uri": "https://localhost:8080/"
        },
        "id": "bkinC1k79Vl_",
        "outputId": "24b24b96-fa7e-4441-d719-9f7058a09b07"
      },
      "source": [
        "genre_popular_dict =  genre_popular.to_dict()\n",
        "genre_popular_dict"
      ],
      "execution_count": 38,
      "outputs": [
        {
          "output_type": "execute_result",
          "data": {
            "text/plain": [
              "{'Action': [2905, 2019, 858, 1198, 260, 1221, 2028, 2571, 1197, 1233],\n",
              " 'Adventure': [3172, 1204, 1262, 3470, 1254, 919, 1303, 1259, 29, 1931],\n",
              " 'Animation': [745, 1148, 720, 1223, 3429, 3114, 1, 741, 2761, 1023],\n",
              " \"Children's\": [1097, 1028, 34, 262, 3396, 755, 531, 3397, 551, 1012],\n",
              " 'Comedy': [1830, 3233, 3607, 3030, 3307, 3022, 1136, 3410, 2324, 1234],\n",
              " 'Crime': [3656, 50, 3517, 3435, 1260, 296, 1213, 1945, 608, 1617],\n",
              " 'Documentary': [3881, 787, 3338, 2930, 128, 1147, 3679, 363, 1189, 2859],\n",
              " 'Drama': [3382, 989, 3245, 53, 2503, 318, 527, 578, 2480, 439],\n",
              " 'Fantasy': [792, 2021],\n",
              " 'Film-Noir': [922, 913, 1252, 1267, 1284, 2186, 930, 541, 2203, 2066],\n",
              " 'Horror': [3280, 1219, 1258, 1348, 2648, 1997, 2664, 1340, 1333, 2644],\n",
              " 'Musical': [899, 914, 1947, 2565, 3606, 1035, 3545, 900, 3675, 2971],\n",
              " 'Mystery': [904, 1212, 903, 950, 906, 1086, 2206, 1625, 931, 2467],\n",
              " 'Romance': [928, 28, 932, 2708, 2721, 1684, 803, 2833, 3368, 976],\n",
              " 'Sci-Fi': [750, 1199, 2010, 1206, 1301, 2660, 1921, 3658, 3032, 2009],\n",
              " 'Thriller': [2762, 3634, 965, 3849, 2819, 1249, 1076, 2983, 3075, 3728],\n",
              " 'War': [1927, 632, 2670, 1450, 3339, 2669, 3066, 3670, 665, 760],\n",
              " 'Western': [1283, 1266, 599, 3365, 3508, 1209, 3681, 714, 2921, 553]}"
            ]
          },
          "metadata": {},
          "execution_count": 38
        }
      ]
    },
    {
      "cell_type": "code",
      "metadata": {
        "colab": {
          "base_uri": "https://localhost:8080/"
        },
        "id": "MfOfjcoF9eKO",
        "outputId": "c2ba17b8-3d90-4e5b-e20a-bfbf15a349d3"
      },
      "source": [
        "year_popular_dict =  genre_popular.to_dict()\n",
        "year_popular_dict"
      ],
      "execution_count": 39,
      "outputs": [
        {
          "output_type": "execute_result",
          "data": {
            "text/plain": [
              "{'Action': [2905, 2019, 858, 1198, 260, 1221, 2028, 2571, 1197, 1233],\n",
              " 'Adventure': [3172, 1204, 1262, 3470, 1254, 919, 1303, 1259, 29, 1931],\n",
              " 'Animation': [745, 1148, 720, 1223, 3429, 3114, 1, 741, 2761, 1023],\n",
              " \"Children's\": [1097, 1028, 34, 262, 3396, 755, 531, 3397, 551, 1012],\n",
              " 'Comedy': [1830, 3233, 3607, 3030, 3307, 3022, 1136, 3410, 2324, 1234],\n",
              " 'Crime': [3656, 50, 3517, 3435, 1260, 296, 1213, 1945, 608, 1617],\n",
              " 'Documentary': [3881, 787, 3338, 2930, 128, 1147, 3679, 363, 1189, 2859],\n",
              " 'Drama': [3382, 989, 3245, 53, 2503, 318, 527, 578, 2480, 439],\n",
              " 'Fantasy': [792, 2021],\n",
              " 'Film-Noir': [922, 913, 1252, 1267, 1284, 2186, 930, 541, 2203, 2066],\n",
              " 'Horror': [3280, 1219, 1258, 1348, 2648, 1997, 2664, 1340, 1333, 2644],\n",
              " 'Musical': [899, 914, 1947, 2565, 3606, 1035, 3545, 900, 3675, 2971],\n",
              " 'Mystery': [904, 1212, 903, 950, 906, 1086, 2206, 1625, 931, 2467],\n",
              " 'Romance': [928, 28, 932, 2708, 2721, 1684, 803, 2833, 3368, 976],\n",
              " 'Sci-Fi': [750, 1199, 2010, 1206, 1301, 2660, 1921, 3658, 3032, 2009],\n",
              " 'Thriller': [2762, 3634, 965, 3849, 2819, 1249, 1076, 2983, 3075, 3728],\n",
              " 'War': [1927, 632, 2670, 1450, 3339, 2669, 3066, 3670, 665, 760],\n",
              " 'Western': [1283, 1266, 599, 3365, 3508, 1209, 3681, 714, 2921, 553]}"
            ]
          },
          "metadata": {},
          "execution_count": 39
        }
      ]
    },
    {
      "cell_type": "code",
      "metadata": {
        "id": "rupwEwUjM5OO"
      },
      "source": [
        "# 위 결과 확인\n",
        "# ex.\n",
        "# 연도별 popular list - {'1910': [3132, 2821, 2823], '1920': [3517, 3022, 3629, 2010], ....}"
      ],
      "execution_count": 40,
      "outputs": []
    },
    {
      "cell_type": "markdown",
      "metadata": {
        "id": "73JbBkvIW8GC"
      },
      "source": [
        "## Step 3. Point-wise 데이터셋 생성"
      ]
    },
    {
      "cell_type": "markdown",
      "metadata": {
        "id": "lV3VxxCLqN7Y"
      },
      "source": [
        "#### Ranking Model\n",
        "\n",
        "    [랭킹 모델의 형태와 역할]\n",
        "    1. Binary Classification을 학습하는 Regressor가 가장 대표적인 예\n",
        "    2. y=1은 User가 Item을 시청(혹은 구매 등)한 경우 -> **Ground Truth**\n",
        "    3. f(x_ui) = X_u + X_i + b -> **X_u는 User의 여러가지 정보를 벡터로 나타낸 것, 그리고 X_i는 아이템의 여러가지 정보를 벡터로 나타낸 것**\n",
        "    4. NDCG, AUC, Top@Precision... 등을 기준으로 모델을 학습 (랭킹 학습 방식인 Point-wise, Pair-wise 등을 기준으로 각각 다름)\n",
        "\n",
        "![point-wise](https://raw.githubusercontent.com/yoonkt200/FastCampusDataset/master/images/point-wise.png)"
      ]
    },
    {
      "cell_type": "markdown",
      "metadata": {
        "id": "hVZlWklUE3p9"
      },
      "source": [
        "### 문제 12. EDA & 전처리 - 특정 시간 기준 데이터셋 분리"
      ]
    },
    {
      "cell_type": "code",
      "metadata": {
        "id": "d8FubZ-SFTFc",
        "colab": {
          "base_uri": "https://localhost:8080/",
          "height": 296
        },
        "outputId": "1d873da9-1c38-404d-91ff-f5439e793e89"
      },
      "source": [
        "# 데이터셋을 8:2로 나눌 수 있는 시간을 기준으로 데이터셋을 train,test로 분리\n",
        "rating_df['time'].hist(bins = 100)"
      ],
      "execution_count": 41,
      "outputs": [
        {
          "output_type": "execute_result",
          "data": {
            "text/plain": [
              "<matplotlib.axes._subplots.AxesSubplot at 0x7f65d1b92650>"
            ]
          },
          "metadata": {},
          "execution_count": 41
        },
        {
          "output_type": "display_data",
          "data": {
            "image/png": "[encoded data removed]",
            "text/plain": [
              "<Figure size 432x288 with 1 Axes>"
            ]
          },
          "metadata": {
            "needs_background": "light"
          }
        }
      ]
    },
    {
      "cell_type": "code",
      "metadata": {
        "colab": {
          "base_uri": "https://localhost:8080/"
        },
        "id": "bR19G5_uIL8a",
        "outputId": "8ad8aae4-8e0a-4217-a81e-41126bcbb9be"
      },
      "source": [
        "rating_df['time'].quantile( q = 0.8, interpolation = 'nearest')\n",
        "#0.8로 나누는 유닉스시간을 알아봄"
      ],
      "execution_count": 42,
      "outputs": [
        {
          "output_type": "execute_result",
          "data": {
            "text/plain": [
              "975768738"
            ]
          },
          "metadata": {},
          "execution_count": 42
        }
      ]
    },
    {
      "cell_type": "code",
      "metadata": {
        "id": "0tJndEQNIcZZ"
      },
      "source": [
        "train_df = rating_df[rating_df['time'] < 975768738]\n",
        "test_df = rating_df[rating_df['time'] >= 975768738] #위의 시간을 기준으로하면 8대2로 데이터 분리 가능"
      ],
      "execution_count": 43,
      "outputs": []
    },
    {
      "cell_type": "markdown",
      "metadata": {
        "id": "VZRzhB4vUVAp"
      },
      "source": [
        "### 문제 13. User Profiling - 유저 속성 EDA (gender, age, occupation, zipcode)"
      ]
    },
    {
      "cell_type": "markdown",
      "metadata": {
        "id": "0wrVCz5BGvjW"
      },
      "source": [
        "##### 1) Gender"
      ]
    },
    {
      "cell_type": "code",
      "metadata": {
        "id": "xEWUofnlZg7s",
        "colab": {
          "base_uri": "https://localhost:8080/",
          "height": 206
        },
        "outputId": "a6341ae9-39cd-4f73-f793-b52eb414810b"
      },
      "source": [
        "# gender 피처 탐색\n",
        "user_df.head() #user_df의 내용보기"
      ],
      "execution_count": 44,
      "outputs": [
        {
          "output_type": "execute_result",
          "data": {
            "text/html": [
              "<div>\n",
              "<style scoped>\n",
              "    .dataframe tbody tr th:only-of-type {\n",
              "        vertical-align: middle;\n",
              "    }\n",
              "\n",
              "    .dataframe tbody tr th {\n",
              "        vertical-align: top;\n",
              "    }\n",
              "\n",
              "    .dataframe thead th {\n",
              "        text-align: right;\n",
              "    }\n",
              "</style>\n",
              "<table border=\"1\" class=\"dataframe\">\n",
              "  <thead>\n",
              "    <tr style=\"text-align: right;\">\n",
              "      <th></th>\n",
              "      <th>user_id</th>\n",
              "      <th>gender</th>\n",
              "      <th>age</th>\n",
              "      <th>occupation</th>\n",
              "      <th>zipcode</th>\n",
              "    </tr>\n",
              "  </thead>\n",
              "  <tbody>\n",
              "    <tr>\n",
              "      <th>0</th>\n",
              "      <td>1</td>\n",
              "      <td>F</td>\n",
              "      <td>1</td>\n",
              "      <td>10</td>\n",
              "      <td>48067</td>\n",
              "    </tr>\n",
              "    <tr>\n",
              "      <th>1</th>\n",
              "      <td>2</td>\n",
              "      <td>M</td>\n",
              "      <td>56</td>\n",
              "      <td>16</td>\n",
              "      <td>70072</td>\n",
              "    </tr>\n",
              "    <tr>\n",
              "      <th>2</th>\n",
              "      <td>3</td>\n",
              "      <td>M</td>\n",
              "      <td>25</td>\n",
              "      <td>15</td>\n",
              "      <td>55117</td>\n",
              "    </tr>\n",
              "    <tr>\n",
              "      <th>3</th>\n",
              "      <td>4</td>\n",
              "      <td>M</td>\n",
              "      <td>45</td>\n",
              "      <td>7</td>\n",
              "      <td>02460</td>\n",
              "    </tr>\n",
              "    <tr>\n",
              "      <th>4</th>\n",
              "      <td>5</td>\n",
              "      <td>M</td>\n",
              "      <td>25</td>\n",
              "      <td>20</td>\n",
              "      <td>55455</td>\n",
              "    </tr>\n",
              "  </tbody>\n",
              "</table>\n",
              "</div>"
            ],
            "text/plain": [
              "   user_id gender  age  occupation zipcode\n",
              "0        1      F    1          10   48067\n",
              "1        2      M   56          16   70072\n",
              "2        3      M   25          15   55117\n",
              "3        4      M   45           7   02460\n",
              "4        5      M   25          20   55455"
            ]
          },
          "metadata": {},
          "execution_count": 44
        }
      ]
    },
    {
      "cell_type": "code",
      "metadata": {
        "colab": {
          "base_uri": "https://localhost:8080/",
          "height": 339
        },
        "id": "BrIb-lLcI3-S",
        "outputId": "85d52ac2-cb6a-4c51-bcbb-4f9f1954fa0d"
      },
      "source": [
        "gender = user_df['gender'].value_counts()\n",
        "sns.barplot(gender.index, gender.values)"
      ],
      "execution_count": 45,
      "outputs": [
        {
          "output_type": "stream",
          "name": "stderr",
          "text": [
            "/usr/local/lib/python3.7/dist-packages/seaborn/_decorators.py:43: FutureWarning: Pass the following variables as keyword args: x, y. From version 0.12, the only valid positional argument will be `data`, and passing other arguments without an explicit keyword will result in an error or misinterpretation.\n",
            "  FutureWarning\n"
          ]
        },
        {
          "output_type": "execute_result",
          "data": {
            "text/plain": [
              "<matplotlib.axes._subplots.AxesSubplot at 0x7f65d1a32a90>"
            ]
          },
          "metadata": {},
          "execution_count": 45
        },
        {
          "output_type": "display_data",
          "data": {
            "image/png": "[encoded data removed]",
            "text/plain": [
              "<Figure size 432x288 with 1 Axes>"
            ]
          },
          "metadata": {
            "needs_background": "light"
          }
        }
      ]
    },
    {
      "cell_type": "markdown",
      "metadata": {
        "id": "D7VRqrpkG14k"
      },
      "source": [
        "#### 2) Age"
      ]
    },
    {
      "cell_type": "code",
      "metadata": {
        "id": "XUoR8H0CDDPo",
        "colab": {
          "base_uri": "https://localhost:8080/",
          "height": 283
        },
        "outputId": "b168fd39-1c95-4381-e34a-8f7ecd5e15c7"
      },
      "source": [
        "# age 피처 탐색\n",
        "user_df['age'].hist(bins = 'auto') #타일이 그닥 여러개는 아님(빽빽하지 않음) -> value_counts로 본다"
      ],
      "execution_count": 46,
      "outputs": [
        {
          "output_type": "execute_result",
          "data": {
            "text/plain": [
              "<matplotlib.axes._subplots.AxesSubplot at 0x7f65d1998d50>"
            ]
          },
          "metadata": {},
          "execution_count": 46
        },
        {
          "output_type": "display_data",
          "data": {
            "image/png": "[encoded data removed]",
            "text/plain": [
              "<Figure size 432x288 with 1 Axes>"
            ]
          },
          "metadata": {
            "needs_background": "light"
          }
        }
      ]
    },
    {
      "cell_type": "code",
      "metadata": {
        "colab": {
          "base_uri": "https://localhost:8080/"
        },
        "id": "avURXttrJZWT",
        "outputId": "a17e886e-5aaf-4ef1-d4f6-94587cf6f9bf"
      },
      "source": [
        "user_df['age'].value_counts() #나이가 뭉쳐서 있음. 1은 잘못된거 같음"
      ],
      "execution_count": 47,
      "outputs": [
        {
          "output_type": "execute_result",
          "data": {
            "text/plain": [
              "25    2096\n",
              "35    1193\n",
              "18    1103\n",
              "45     550\n",
              "50     496\n",
              "56     380\n",
              "1      222\n",
              "Name: age, dtype: int64"
            ]
          },
          "metadata": {},
          "execution_count": 47
        }
      ]
    },
    {
      "cell_type": "code",
      "metadata": {
        "id": "CqTRoOXLH4L-",
        "colab": {
          "base_uri": "https://localhost:8080/"
        },
        "outputId": "b2525e4a-c4e5-48e7-c0f6-eb0feb4f626d"
      },
      "source": [
        "# age 피처 bucketize\n",
        "def age_bucketize(age):\n",
        "    if age == 1:\n",
        "        return 'outlier'\n",
        "    else:\n",
        "        return str(age)[0] + \"0\" #10대, 20대, .. 이런식으로 만들어줌\n",
        "\n",
        "\n",
        "user_df['age_bucket'] = user_df['age'].apply(lambda x: age_bucketize(x))\n",
        "user_df['age_bucket'].value_counts()"
      ],
      "execution_count": 48,
      "outputs": [
        {
          "output_type": "execute_result",
          "data": {
            "text/plain": [
              "20         2096\n",
              "30         1193\n",
              "10         1103\n",
              "50          876\n",
              "40          550\n",
              "outlier     222\n",
              "Name: age_bucket, dtype: int64"
            ]
          },
          "metadata": {},
          "execution_count": 48
        }
      ]
    },
    {
      "cell_type": "markdown",
      "metadata": {
        "id": "uBDIwD-GG6Qf"
      },
      "source": [
        "#### 3) Occupation"
      ]
    },
    {
      "cell_type": "code",
      "metadata": {
        "id": "6T_jdIECDDZw",
        "colab": {
          "base_uri": "https://localhost:8080/"
        },
        "outputId": "67f081d8-7c83-400a-a9dd-dada00a17b64"
      },
      "source": [
        "# occupation 피처 탐색\n",
        "user_df['occupation'].value_counts()"
      ],
      "execution_count": 49,
      "outputs": [
        {
          "output_type": "execute_result",
          "data": {
            "text/plain": [
              "4     759\n",
              "0     711\n",
              "7     679\n",
              "1     528\n",
              "17    502\n",
              "12    388\n",
              "14    302\n",
              "20    281\n",
              "2     267\n",
              "16    241\n",
              "6     236\n",
              "10    195\n",
              "3     173\n",
              "15    144\n",
              "13    142\n",
              "11    129\n",
              "5     112\n",
              "9      92\n",
              "19     72\n",
              "18     70\n",
              "8      17\n",
              "Name: occupation, dtype: int64"
            ]
          },
          "metadata": {},
          "execution_count": 49
        }
      ]
    },
    {
      "cell_type": "code",
      "metadata": {
        "colab": {
          "base_uri": "https://localhost:8080/",
          "height": 286
        },
        "id": "NKxPuzisKKl8",
        "outputId": "c72c350b-cbfe-4ee9-8276-e337d7dc07be"
      },
      "source": [
        "user_df['occupation'].value_counts().plot(kind = 'bar') #꽤 고루게 분포 -> 학습에 바로 쓸 수있어 보임 (내용을 파악하는건 당장 중요하진 않음)"
      ],
      "execution_count": 50,
      "outputs": [
        {
          "output_type": "execute_result",
          "data": {
            "text/plain": [
              "<matplotlib.axes._subplots.AxesSubplot at 0x7f65fa9a2e10>"
            ]
          },
          "metadata": {},
          "execution_count": 50
        },
        {
          "output_type": "display_data",
          "data": {
            "image/png": "[encoded data removed]",
            "text/plain": [
              "<Figure size 432x288 with 1 Axes>"
            ]
          },
          "metadata": {
            "needs_background": "light"
          }
        }
      ]
    },
    {
      "cell_type": "markdown",
      "metadata": {
        "id": "81MD-1OQG976"
      },
      "source": [
        "#### 4) Zipcode"
      ]
    },
    {
      "cell_type": "code",
      "metadata": {
        "id": "zwadmLV4Do2j",
        "colab": {
          "base_uri": "https://localhost:8080/"
        },
        "outputId": "22338018-c4a5-43d8-e366-784c2dd7c02a"
      },
      "source": [
        "# zipcode 피처 탐색\n",
        "user_df['zipcode'].value_counts()"
      ],
      "execution_count": 51,
      "outputs": [
        {
          "output_type": "execute_result",
          "data": {
            "text/plain": [
              "48104    19\n",
              "22903    18\n",
              "94110    17\n",
              "55104    17\n",
              "55105    16\n",
              "         ..\n",
              "01886     1\n",
              "11228     1\n",
              "39211     1\n",
              "70748     1\n",
              "02542     1\n",
              "Name: zipcode, Length: 3439, dtype: int64"
            ]
          },
          "metadata": {},
          "execution_count": 51
        }
      ]
    },
    {
      "cell_type": "code",
      "metadata": {
        "id": "klv7TkNVKq0q"
      },
      "source": [
        "# user_df['zipcode'].value_counts().plot(kind = 'bar')\n",
        "#여러개로 퍼져있음 -> 그닥 안중요할수도? (지역 특색(날씨등)을 고려할수도있겠지만 너무 작은 데이터라 그렇게까지 안봐도 될듯), uniform distribution이라 쓰기도 어려움"
      ],
      "execution_count": 52,
      "outputs": []
    },
    {
      "cell_type": "markdown",
      "metadata": {
        "id": "QvguJidV2djG"
      },
      "source": [
        "### 문제 14. User Profiling - 유저 속성별 피쳐맵 생성"
      ]
    },
    {
      "cell_type": "code",
      "metadata": {
        "colab": {
          "base_uri": "https://localhost:8080/",
          "height": 206
        },
        "id": "-i0LCdt1K3h3",
        "outputId": "d36a903f-18a7-4649-84f2-3cf01f0a59f8"
      },
      "source": [
        "user_df.head() #gender, age_bucket, occpution 정도만 써도 될듯"
      ],
      "execution_count": 53,
      "outputs": [
        {
          "output_type": "execute_result",
          "data": {
            "text/html": [
              "<div>\n",
              "<style scoped>\n",
              "    .dataframe tbody tr th:only-of-type {\n",
              "        vertical-align: middle;\n",
              "    }\n",
              "\n",
              "    .dataframe tbody tr th {\n",
              "        vertical-align: top;\n",
              "    }\n",
              "\n",
              "    .dataframe thead th {\n",
              "        text-align: right;\n",
              "    }\n",
              "</style>\n",
              "<table border=\"1\" class=\"dataframe\">\n",
              "  <thead>\n",
              "    <tr style=\"text-align: right;\">\n",
              "      <th></th>\n",
              "      <th>user_id</th>\n",
              "      <th>gender</th>\n",
              "      <th>age</th>\n",
              "      <th>occupation</th>\n",
              "      <th>zipcode</th>\n",
              "      <th>age_bucket</th>\n",
              "    </tr>\n",
              "  </thead>\n",
              "  <tbody>\n",
              "    <tr>\n",
              "      <th>0</th>\n",
              "      <td>1</td>\n",
              "      <td>F</td>\n",
              "      <td>1</td>\n",
              "      <td>10</td>\n",
              "      <td>48067</td>\n",
              "      <td>outlier</td>\n",
              "    </tr>\n",
              "    <tr>\n",
              "      <th>1</th>\n",
              "      <td>2</td>\n",
              "      <td>M</td>\n",
              "      <td>56</td>\n",
              "      <td>16</td>\n",
              "      <td>70072</td>\n",
              "      <td>50</td>\n",
              "    </tr>\n",
              "    <tr>\n",
              "      <th>2</th>\n",
              "      <td>3</td>\n",
              "      <td>M</td>\n",
              "      <td>25</td>\n",
              "      <td>15</td>\n",
              "      <td>55117</td>\n",
              "      <td>20</td>\n",
              "    </tr>\n",
              "    <tr>\n",
              "      <th>3</th>\n",
              "      <td>4</td>\n",
              "      <td>M</td>\n",
              "      <td>45</td>\n",
              "      <td>7</td>\n",
              "      <td>02460</td>\n",
              "      <td>40</td>\n",
              "    </tr>\n",
              "    <tr>\n",
              "      <th>4</th>\n",
              "      <td>5</td>\n",
              "      <td>M</td>\n",
              "      <td>25</td>\n",
              "      <td>20</td>\n",
              "      <td>55455</td>\n",
              "      <td>20</td>\n",
              "    </tr>\n",
              "  </tbody>\n",
              "</table>\n",
              "</div>"
            ],
            "text/plain": [
              "   user_id gender  age  occupation zipcode age_bucket\n",
              "0        1      F    1          10   48067    outlier\n",
              "1        2      M   56          16   70072         50\n",
              "2        3      M   25          15   55117         20\n",
              "3        4      M   45           7   02460         40\n",
              "4        5      M   25          20   55455         20"
            ]
          },
          "metadata": {},
          "execution_count": 53
        }
      ]
    },
    {
      "cell_type": "markdown",
      "metadata": {
        "id": "yLff1k3iJdLJ"
      },
      "source": [
        "#### 1) Gender"
      ]
    },
    {
      "cell_type": "code",
      "metadata": {
        "id": "Vn4wnq7JIpkD"
      },
      "source": [
        "# gender 피처맵 생성\n",
        "gender_list = user_df['gender'].unique()\n",
        "gender_index = {}\n",
        "for idx, gender in enumerate(gender_list): #index를 자체를 딕셔너리로 해주기위해 enumerate를 함 -> 각 카테고리별로 숫자 부여\n",
        "  gender_index[gender] = idx + 1\n",
        "\n",
        "# index 자체를 표현한다는 의미 -> 카테고리별로 숫자값을 줌 ex) {'F': 1, 'M': 2}"
      ],
      "execution_count": 54,
      "outputs": []
    },
    {
      "cell_type": "code",
      "metadata": {
        "colab": {
          "base_uri": "https://localhost:8080/"
        },
        "id": "zNRy7AMULroJ",
        "outputId": "e16aab94-8da8-4a25-8a5b-3e35b373120c"
      },
      "source": [
        "gender_index"
      ],
      "execution_count": 55,
      "outputs": [
        {
          "output_type": "execute_result",
          "data": {
            "text/plain": [
              "{'F': 1, 'M': 2}"
            ]
          },
          "metadata": {},
          "execution_count": 55
        }
      ]
    },
    {
      "cell_type": "markdown",
      "metadata": {
        "id": "hbniNcJKJgF5"
      },
      "source": [
        "#### 2) Age"
      ]
    },
    {
      "cell_type": "code",
      "metadata": {
        "id": "00eY0KeAJho_"
      },
      "source": [
        "# age 피처맵 생성\n",
        "\n",
        "age_list = user_df['age_bucket'].unique()\n",
        "age_index = {}\n",
        "for idx, age in enumerate(age_list): #index를 자체를 딕셔너리로 해주기위해 enumerate를 함 \n",
        "  age_index[age] = idx + 1\n",
        "\n",
        "\n",
        "# ex.\n",
        "# {'10': 6, '20': 3, '30': 5, '40': 4, '50': 2, 'outlier': 1}"
      ],
      "execution_count": 56,
      "outputs": []
    },
    {
      "cell_type": "code",
      "metadata": {
        "colab": {
          "base_uri": "https://localhost:8080/"
        },
        "id": "hhc-VBdXLs7O",
        "outputId": "ffde0269-4911-49fd-b036-95e560158809"
      },
      "source": [
        "age_index"
      ],
      "execution_count": 57,
      "outputs": [
        {
          "output_type": "execute_result",
          "data": {
            "text/plain": [
              "{'10': 6, '20': 3, '30': 5, '40': 4, '50': 2, 'outlier': 1}"
            ]
          },
          "metadata": {},
          "execution_count": 57
        }
      ]
    },
    {
      "cell_type": "markdown",
      "metadata": {
        "id": "xX2nMlvPKXws"
      },
      "source": [
        "#### 3) Occupation"
      ]
    },
    {
      "cell_type": "code",
      "metadata": {
        "id": "ugHi1hrIKXVB"
      },
      "source": [
        "# occupation 피처맵 생성\n",
        "\n",
        "occupation_list = user_df['occupation'].unique()\n",
        "occupation_index = {}\n",
        "for idx, occupation in enumerate(occupation_list): #index를 자체를 딕셔너리로 해주기위해 enumerate를 함\n",
        "  occupation_index[occupation] = idx + 1\n",
        "\n",
        "# ex.\n",
        "# {0: 10,\n",
        "#  1: 7,\n",
        "#  2: 17,\n",
        "#  3: 11,\n",
        "#  4: 13,\n",
        "#  ...}"
      ],
      "execution_count": 58,
      "outputs": []
    },
    {
      "cell_type": "code",
      "metadata": {
        "colab": {
          "base_uri": "https://localhost:8080/"
        },
        "id": "etbktykRL2b-",
        "outputId": "4b87563f-fb6d-4002-e095-08a94d9bacfe"
      },
      "source": [
        "occupation_index"
      ],
      "execution_count": 59,
      "outputs": [
        {
          "output_type": "execute_result",
          "data": {
            "text/plain": [
              "{0: 10,\n",
              " 1: 7,\n",
              " 2: 17,\n",
              " 3: 11,\n",
              " 4: 13,\n",
              " 5: 19,\n",
              " 6: 21,\n",
              " 7: 4,\n",
              " 8: 15,\n",
              " 9: 6,\n",
              " 10: 1,\n",
              " 11: 14,\n",
              " 12: 8,\n",
              " 13: 20,\n",
              " 14: 12,\n",
              " 15: 3,\n",
              " 16: 2,\n",
              " 17: 9,\n",
              " 18: 18,\n",
              " 19: 16,\n",
              " 20: 5}"
            ]
          },
          "metadata": {},
          "execution_count": 59
        }
      ]
    },
    {
      "cell_type": "markdown",
      "metadata": {
        "id": "LsrXLeWVUVnk"
      },
      "source": [
        "### 문제 15. Item Profiling - 영화 속성별 피쳐맵 생성 (장르, 년도)"
      ]
    },
    {
      "cell_type": "code",
      "metadata": {
        "colab": {
          "base_uri": "https://localhost:8080/",
          "height": 423
        },
        "id": "Y99mlgtgTzh9",
        "outputId": "906bf3ff-c262-413a-bd3e-af29262d5dd6"
      },
      "source": [
        "movie_df #이 데이터로 함"
      ],
      "execution_count": 60,
      "outputs": [
        {
          "output_type": "execute_result",
          "data": {
            "text/html": [
              "<div>\n",
              "<style scoped>\n",
              "    .dataframe tbody tr th:only-of-type {\n",
              "        vertical-align: middle;\n",
              "    }\n",
              "\n",
              "    .dataframe tbody tr th {\n",
              "        vertical-align: top;\n",
              "    }\n",
              "\n",
              "    .dataframe thead th {\n",
              "        text-align: right;\n",
              "    }\n",
              "</style>\n",
              "<table border=\"1\" class=\"dataframe\">\n",
              "  <thead>\n",
              "    <tr style=\"text-align: right;\">\n",
              "      <th></th>\n",
              "      <th>movie_id</th>\n",
              "      <th>mean</th>\n",
              "      <th>count</th>\n",
              "      <th>title</th>\n",
              "      <th>genre</th>\n",
              "      <th>decade</th>\n",
              "      <th>main_genre</th>\n",
              "    </tr>\n",
              "  </thead>\n",
              "  <tbody>\n",
              "    <tr>\n",
              "      <th>0</th>\n",
              "      <td>1</td>\n",
              "      <td>4.146846</td>\n",
              "      <td>2077</td>\n",
              "      <td>Toy Story (1995)</td>\n",
              "      <td>Animation|Children's|Comedy</td>\n",
              "      <td>1990</td>\n",
              "      <td>Animation</td>\n",
              "    </tr>\n",
              "    <tr>\n",
              "      <th>1</th>\n",
              "      <td>2</td>\n",
              "      <td>3.201141</td>\n",
              "      <td>701</td>\n",
              "      <td>Jumanji (1995)</td>\n",
              "      <td>Adventure|Children's|Fantasy</td>\n",
              "      <td>1990</td>\n",
              "      <td>Adventure</td>\n",
              "    </tr>\n",
              "    <tr>\n",
              "      <th>2</th>\n",
              "      <td>3</td>\n",
              "      <td>3.016736</td>\n",
              "      <td>478</td>\n",
              "      <td>Grumpier Old Men (1995)</td>\n",
              "      <td>Comedy|Romance</td>\n",
              "      <td>1990</td>\n",
              "      <td>Comedy</td>\n",
              "    </tr>\n",
              "    <tr>\n",
              "      <th>3</th>\n",
              "      <td>4</td>\n",
              "      <td>2.729412</td>\n",
              "      <td>170</td>\n",
              "      <td>Waiting to Exhale (1995)</td>\n",
              "      <td>Comedy|Drama</td>\n",
              "      <td>1990</td>\n",
              "      <td>Comedy</td>\n",
              "    </tr>\n",
              "    <tr>\n",
              "      <th>4</th>\n",
              "      <td>5</td>\n",
              "      <td>3.006757</td>\n",
              "      <td>296</td>\n",
              "      <td>Father of the Bride Part II (1995)</td>\n",
              "      <td>Comedy</td>\n",
              "      <td>1990</td>\n",
              "      <td>Comedy</td>\n",
              "    </tr>\n",
              "    <tr>\n",
              "      <th>...</th>\n",
              "      <td>...</td>\n",
              "      <td>...</td>\n",
              "      <td>...</td>\n",
              "      <td>...</td>\n",
              "      <td>...</td>\n",
              "      <td>...</td>\n",
              "      <td>...</td>\n",
              "    </tr>\n",
              "    <tr>\n",
              "      <th>3701</th>\n",
              "      <td>3948</td>\n",
              "      <td>3.635731</td>\n",
              "      <td>862</td>\n",
              "      <td>Meet the Parents (2000)</td>\n",
              "      <td>Comedy</td>\n",
              "      <td>2000</td>\n",
              "      <td>Comedy</td>\n",
              "    </tr>\n",
              "    <tr>\n",
              "      <th>3702</th>\n",
              "      <td>3949</td>\n",
              "      <td>4.115132</td>\n",
              "      <td>304</td>\n",
              "      <td>Requiem for a Dream (2000)</td>\n",
              "      <td>Drama</td>\n",
              "      <td>2000</td>\n",
              "      <td>Drama</td>\n",
              "    </tr>\n",
              "    <tr>\n",
              "      <th>3703</th>\n",
              "      <td>3950</td>\n",
              "      <td>3.666667</td>\n",
              "      <td>54</td>\n",
              "      <td>Tigerland (2000)</td>\n",
              "      <td>Drama</td>\n",
              "      <td>2000</td>\n",
              "      <td>Drama</td>\n",
              "    </tr>\n",
              "    <tr>\n",
              "      <th>3704</th>\n",
              "      <td>3951</td>\n",
              "      <td>3.900000</td>\n",
              "      <td>40</td>\n",
              "      <td>Two Family House (2000)</td>\n",
              "      <td>Drama</td>\n",
              "      <td>2000</td>\n",
              "      <td>Drama</td>\n",
              "    </tr>\n",
              "    <tr>\n",
              "      <th>3705</th>\n",
              "      <td>3952</td>\n",
              "      <td>3.780928</td>\n",
              "      <td>388</td>\n",
              "      <td>Contender, The (2000)</td>\n",
              "      <td>Drama|Thriller</td>\n",
              "      <td>2000</td>\n",
              "      <td>Drama</td>\n",
              "    </tr>\n",
              "  </tbody>\n",
              "</table>\n",
              "<p>3706 rows × 7 columns</p>\n",
              "</div>"
            ],
            "text/plain": [
              "      movie_id      mean  count  ...                         genre decade main_genre\n",
              "0            1  4.146846   2077  ...   Animation|Children's|Comedy   1990  Animation\n",
              "1            2  3.201141    701  ...  Adventure|Children's|Fantasy   1990  Adventure\n",
              "2            3  3.016736    478  ...                Comedy|Romance   1990     Comedy\n",
              "3            4  2.729412    170  ...                  Comedy|Drama   1990     Comedy\n",
              "4            5  3.006757    296  ...                        Comedy   1990     Comedy\n",
              "...        ...       ...    ...  ...                           ...    ...        ...\n",
              "3701      3948  3.635731    862  ...                        Comedy   2000     Comedy\n",
              "3702      3949  4.115132    304  ...                         Drama   2000      Drama\n",
              "3703      3950  3.666667     54  ...                         Drama   2000      Drama\n",
              "3704      3951  3.900000     40  ...                         Drama   2000      Drama\n",
              "3705      3952  3.780928    388  ...                Drama|Thriller   2000      Drama\n",
              "\n",
              "[3706 rows x 7 columns]"
            ]
          },
          "metadata": {},
          "execution_count": 60
        }
      ]
    },
    {
      "cell_type": "markdown",
      "metadata": {
        "id": "fYvAd8npNcXG"
      },
      "source": [
        "#### 1) Genre"
      ]
    },
    {
      "cell_type": "code",
      "metadata": {
        "id": "he9mfzhZNauV"
      },
      "source": [
        "# genre 피처맵 생성\n",
        "\n",
        "genre_list = movie_df['main_genre'].unique()\n",
        "genre_index = {}\n",
        "for idx, genre in enumerate(genre_list):  # 각 카테고리별로 숫자 부여\n",
        "  genre_index[genre] = idx + 1\n",
        "\n",
        "# ex.\n",
        "# {'Action': 4,\n",
        "#  'Adventure': 2,\n",
        "#  'Animation': 1,\n",
        "#  \"Children's\": 9,\n",
        "#  'Comedy': 3,\n",
        "#  'Crime': 7,\n",
        "#  'Documentary': 10,\n",
        "#  'Drama': 5,\n",
        "#  'Fantasy': 17,\n",
        "#  'Film-Noir': 15,\n",
        "#  'Horror': 12,\n",
        "#  'Musical': 18,\n",
        "#  'Mystery': 14,\n",
        "#  'Romance': 8,\n",
        "#  'Sci-Fi': 11,\n",
        "#  'Thriller': 6,\n",
        "#  'War': 16,\n",
        "#  'Western': 13}"
      ],
      "execution_count": 61,
      "outputs": []
    },
    {
      "cell_type": "code",
      "metadata": {
        "colab": {
          "base_uri": "https://localhost:8080/"
        },
        "id": "eZ3UnB6RUNhN",
        "outputId": "7409835e-cdef-4912-b433-6b0fae014227"
      },
      "source": [
        "genre_list"
      ],
      "execution_count": 62,
      "outputs": [
        {
          "output_type": "execute_result",
          "data": {
            "text/plain": [
              "array(['Animation', 'Adventure', 'Comedy', 'Action', 'Drama', 'Thriller',\n",
              "       'Crime', 'Romance', \"Children's\", 'Documentary', 'Sci-Fi',\n",
              "       'Horror', 'Western', 'Mystery', 'Film-Noir', 'War', 'Fantasy',\n",
              "       'Musical'], dtype=object)"
            ]
          },
          "metadata": {},
          "execution_count": 62
        }
      ]
    },
    {
      "cell_type": "markdown",
      "metadata": {
        "id": "ilOx4ajqNeov"
      },
      "source": [
        "#### 2) Year"
      ]
    },
    {
      "cell_type": "code",
      "metadata": {
        "id": "DXWDPGAsNg4p"
      },
      "source": [
        "# year 피처맵 생성\n",
        "year_list = movie_df['decade'].unique()\n",
        "year_index = {}\n",
        "for idx, year in enumerate(year_list):\n",
        "  year_index[year] = idx + 1"
      ],
      "execution_count": 63,
      "outputs": []
    },
    {
      "cell_type": "code",
      "metadata": {
        "colab": {
          "base_uri": "https://localhost:8080/"
        },
        "id": "4k2sFTAKUMRi",
        "outputId": "60649f5e-f28c-413d-cae4-bd9e0cfada72"
      },
      "source": [
        "year_list"
      ],
      "execution_count": 64,
      "outputs": [
        {
          "output_type": "execute_result",
          "data": {
            "text/plain": [
              "array(['1990', '1970', '1980', '1960', '1930', '1940', '1950', '1920',\n",
              "       '1910', '2000'], dtype=object)"
            ]
          },
          "metadata": {},
          "execution_count": 64
        }
      ]
    },
    {
      "cell_type": "markdown",
      "metadata": {
        "id": "b7sO7lrxUV9l"
      },
      "source": [
        "### 문제 16. Context Profiling - 특정 시간 기준 유저 행동 EDA (시청한 영화 정보, 시청한 영화 점수 분포)"
      ]
    },
    {
      "cell_type": "code",
      "metadata": {
        "colab": {
          "base_uri": "https://localhost:8080/",
          "height": 206
        },
        "id": "eEAOHhibUV-F",
        "outputId": "2df3e33b-5d5f-4b34-a583-4d9749a08088"
      },
      "source": [
        "# 위에서 만든 feature map이 시간을 잘 고려한것인지 확인해본다\n",
        "train_df.head()"
      ],
      "execution_count": 65,
      "outputs": [
        {
          "output_type": "execute_result",
          "data": {
            "text/html": [
              "<div>\n",
              "<style scoped>\n",
              "    .dataframe tbody tr th:only-of-type {\n",
              "        vertical-align: middle;\n",
              "    }\n",
              "\n",
              "    .dataframe tbody tr th {\n",
              "        vertical-align: top;\n",
              "    }\n",
              "\n",
              "    .dataframe thead th {\n",
              "        text-align: right;\n",
              "    }\n",
              "</style>\n",
              "<table border=\"1\" class=\"dataframe\">\n",
              "  <thead>\n",
              "    <tr style=\"text-align: right;\">\n",
              "      <th></th>\n",
              "      <th>user_id</th>\n",
              "      <th>movie_id</th>\n",
              "      <th>rating</th>\n",
              "      <th>time</th>\n",
              "    </tr>\n",
              "  </thead>\n",
              "  <tbody>\n",
              "    <tr>\n",
              "      <th>94507</th>\n",
              "      <td>635</td>\n",
              "      <td>1251</td>\n",
              "      <td>4</td>\n",
              "      <td>975768620</td>\n",
              "    </tr>\n",
              "    <tr>\n",
              "      <th>94513</th>\n",
              "      <td>635</td>\n",
              "      <td>3948</td>\n",
              "      <td>4</td>\n",
              "      <td>975768294</td>\n",
              "    </tr>\n",
              "    <tr>\n",
              "      <th>94518</th>\n",
              "      <td>635</td>\n",
              "      <td>1270</td>\n",
              "      <td>4</td>\n",
              "      <td>975768106</td>\n",
              "    </tr>\n",
              "    <tr>\n",
              "      <th>94519</th>\n",
              "      <td>635</td>\n",
              "      <td>1279</td>\n",
              "      <td>5</td>\n",
              "      <td>975768520</td>\n",
              "    </tr>\n",
              "    <tr>\n",
              "      <th>94522</th>\n",
              "      <td>635</td>\n",
              "      <td>1286</td>\n",
              "      <td>4</td>\n",
              "      <td>975768106</td>\n",
              "    </tr>\n",
              "  </tbody>\n",
              "</table>\n",
              "</div>"
            ],
            "text/plain": [
              "       user_id  movie_id  rating       time\n",
              "94507      635      1251       4  975768620\n",
              "94513      635      3948       4  975768294\n",
              "94518      635      1270       4  975768106\n",
              "94519      635      1279       5  975768520\n",
              "94522      635      1286       4  975768106"
            ]
          },
          "metadata": {},
          "execution_count": 65
        }
      ]
    },
    {
      "cell_type": "code",
      "metadata": {
        "colab": {
          "base_uri": "https://localhost:8080/",
          "height": 206
        },
        "id": "qJw0yFYpUncC",
        "outputId": "f61ff69c-95f6-4650-93c0-3f9bcdd53ec9"
      },
      "source": [
        "train_df = pd.merge(train_df, movie_df, on='movie_id')\n",
        "train_df = pd.merge(train_df, user_df, on='user_id')\n",
        "train_df.head() #train_df에 유저와 item이 병합된 형태로 만들어짐"
      ],
      "execution_count": 66,
      "outputs": [
        {
          "output_type": "execute_result",
          "data": {
            "text/html": [
              "<div>\n",
              "<style scoped>\n",
              "    .dataframe tbody tr th:only-of-type {\n",
              "        vertical-align: middle;\n",
              "    }\n",
              "\n",
              "    .dataframe tbody tr th {\n",
              "        vertical-align: top;\n",
              "    }\n",
              "\n",
              "    .dataframe thead th {\n",
              "        text-align: right;\n",
              "    }\n",
              "</style>\n",
              "<table border=\"1\" class=\"dataframe\">\n",
              "  <thead>\n",
              "    <tr style=\"text-align: right;\">\n",
              "      <th></th>\n",
              "      <th>user_id</th>\n",
              "      <th>movie_id</th>\n",
              "      <th>rating</th>\n",
              "      <th>time</th>\n",
              "      <th>mean</th>\n",
              "      <th>count</th>\n",
              "      <th>title</th>\n",
              "      <th>genre</th>\n",
              "      <th>decade</th>\n",
              "      <th>main_genre</th>\n",
              "      <th>gender</th>\n",
              "      <th>age</th>\n",
              "      <th>occupation</th>\n",
              "      <th>zipcode</th>\n",
              "      <th>age_bucket</th>\n",
              "    </tr>\n",
              "  </thead>\n",
              "  <tbody>\n",
              "    <tr>\n",
              "      <th>0</th>\n",
              "      <td>635</td>\n",
              "      <td>1251</td>\n",
              "      <td>4</td>\n",
              "      <td>975768620</td>\n",
              "      <td>4.105263</td>\n",
              "      <td>228</td>\n",
              "      <td>8 1/2 (1963)</td>\n",
              "      <td>Drama</td>\n",
              "      <td>1960</td>\n",
              "      <td>Drama</td>\n",
              "      <td>M</td>\n",
              "      <td>56</td>\n",
              "      <td>17</td>\n",
              "      <td>33785</td>\n",
              "      <td>50</td>\n",
              "    </tr>\n",
              "    <tr>\n",
              "      <th>1</th>\n",
              "      <td>635</td>\n",
              "      <td>3948</td>\n",
              "      <td>4</td>\n",
              "      <td>975768294</td>\n",
              "      <td>3.635731</td>\n",
              "      <td>862</td>\n",
              "      <td>Meet the Parents (2000)</td>\n",
              "      <td>Comedy</td>\n",
              "      <td>2000</td>\n",
              "      <td>Comedy</td>\n",
              "      <td>M</td>\n",
              "      <td>56</td>\n",
              "      <td>17</td>\n",
              "      <td>33785</td>\n",
              "      <td>50</td>\n",
              "    </tr>\n",
              "    <tr>\n",
              "      <th>2</th>\n",
              "      <td>635</td>\n",
              "      <td>1270</td>\n",
              "      <td>4</td>\n",
              "      <td>975768106</td>\n",
              "      <td>3.990321</td>\n",
              "      <td>2583</td>\n",
              "      <td>Back to the Future (1985)</td>\n",
              "      <td>Comedy|Sci-Fi</td>\n",
              "      <td>1980</td>\n",
              "      <td>Comedy</td>\n",
              "      <td>M</td>\n",
              "      <td>56</td>\n",
              "      <td>17</td>\n",
              "      <td>33785</td>\n",
              "      <td>50</td>\n",
              "    </tr>\n",
              "    <tr>\n",
              "      <th>3</th>\n",
              "      <td>635</td>\n",
              "      <td>1279</td>\n",
              "      <td>5</td>\n",
              "      <td>975768520</td>\n",
              "      <td>3.747423</td>\n",
              "      <td>194</td>\n",
              "      <td>Night on Earth (1991)</td>\n",
              "      <td>Comedy|Drama</td>\n",
              "      <td>1990</td>\n",
              "      <td>Comedy</td>\n",
              "      <td>M</td>\n",
              "      <td>56</td>\n",
              "      <td>17</td>\n",
              "      <td>33785</td>\n",
              "      <td>50</td>\n",
              "    </tr>\n",
              "    <tr>\n",
              "      <th>4</th>\n",
              "      <td>635</td>\n",
              "      <td>1286</td>\n",
              "      <td>4</td>\n",
              "      <td>975768106</td>\n",
              "      <td>3.585965</td>\n",
              "      <td>285</td>\n",
              "      <td>Somewhere in Time (1980)</td>\n",
              "      <td>Drama|Romance</td>\n",
              "      <td>1980</td>\n",
              "      <td>Drama</td>\n",
              "      <td>M</td>\n",
              "      <td>56</td>\n",
              "      <td>17</td>\n",
              "      <td>33785</td>\n",
              "      <td>50</td>\n",
              "    </tr>\n",
              "  </tbody>\n",
              "</table>\n",
              "</div>"
            ],
            "text/plain": [
              "   user_id  movie_id  rating       time  ...  age  occupation zipcode age_bucket\n",
              "0      635      1251       4  975768620  ...   56          17   33785         50\n",
              "1      635      3948       4  975768294  ...   56          17   33785         50\n",
              "2      635      1270       4  975768106  ...   56          17   33785         50\n",
              "3      635      1279       5  975768520  ...   56          17   33785         50\n",
              "4      635      1286       4  975768106  ...   56          17   33785         50\n",
              "\n",
              "[5 rows x 15 columns]"
            ]
          },
          "metadata": {},
          "execution_count": 66
        }
      ]
    },
    {
      "cell_type": "code",
      "metadata": {
        "colab": {
          "base_uri": "https://localhost:8080/",
          "height": 339
        },
        "id": "qp_QywmeU4Ka",
        "outputId": "c91098fc-b258-43d0-be15-1ec880482033"
      },
      "source": [
        "# 위에서 만든 시청한 영화 정보 탐색(movie_df)과 train_df의 분포가 얼마나 차이나는지 한번 봐본다 - > 다르면 feature 맵을 다르게 해줘야한다\n",
        "released_year_area = train_df['decade'].value_counts().sort_index()\n",
        "sns.barplot(released_year_area.index, released_year_area.values) #큰차이는 없어보인다"
      ],
      "execution_count": 67,
      "outputs": [
        {
          "output_type": "stream",
          "name": "stderr",
          "text": [
            "/usr/local/lib/python3.7/dist-packages/seaborn/_decorators.py:43: FutureWarning: Pass the following variables as keyword args: x, y. From version 0.12, the only valid positional argument will be `data`, and passing other arguments without an explicit keyword will result in an error or misinterpretation.\n",
            "  FutureWarning\n"
          ]
        },
        {
          "output_type": "execute_result",
          "data": {
            "text/plain": [
              "<matplotlib.axes._subplots.AxesSubplot at 0x7f65dbbb2310>"
            ]
          },
          "metadata": {},
          "execution_count": 67
        },
        {
          "output_type": "display_data",
          "data": {
            "image/png": "[encoded data removed]",
            "text/plain": [
              "<Figure size 432x288 with 1 Axes>"
            ]
          },
          "metadata": {
            "needs_background": "light"
          }
        }
      ]
    },
    {
      "cell_type": "code",
      "metadata": {
        "colab": {
          "base_uri": "https://localhost:8080/",
          "height": 283
        },
        "id": "STkQbK6wWl05",
        "outputId": "9efa9108-a5bb-4019-961a-b2750770b513"
      },
      "source": [
        "train_df['rating'].hist()\n",
        "#이것도 movie_df로 햇을때 와 비슷\n",
        "#위에서 했던 방법으로 학습을 준비시켜도 될듯하다"
      ],
      "execution_count": 68,
      "outputs": [
        {
          "output_type": "execute_result",
          "data": {
            "text/plain": [
              "<matplotlib.axes._subplots.AxesSubplot at 0x7f65d170d550>"
            ]
          },
          "metadata": {},
          "execution_count": 68
        },
        {
          "output_type": "display_data",
          "data": {
            "image/png": "[encoded data removed]",
            "text/plain": [
              "<Figure size 432x288 with 1 Axes>"
            ]
          },
          "metadata": {
            "needs_background": "light"
          }
        }
      ]
    },
    {
      "cell_type": "code",
      "metadata": {
        "id": "8q-I18yAPOx5",
        "colab": {
          "base_uri": "https://localhost:8080/"
        },
        "outputId": "a0a1d8cb-f4dc-4e45-b5e7-963bec0b5a56"
      },
      "source": [
        "# 시간 기준으로 분리한 데이터셋 EDA\n",
        "train_df['main_genre'].value_counts()"
      ],
      "execution_count": 69,
      "outputs": [
        {
          "output_type": "execute_result",
          "data": {
            "text/plain": [
              "Comedy         219077\n",
              "Action         210721\n",
              "Drama          163949\n",
              "Horror          36100\n",
              "Adventure       35315\n",
              "Crime           30569\n",
              "Animation       29121\n",
              "Children's      17088\n",
              "Thriller        13974\n",
              "Sci-Fi           9144\n",
              "Mystery          8229\n",
              "Film-Noir        7742\n",
              "Musical          5600\n",
              "Documentary      5283\n",
              "Western          4654\n",
              "Romance          2122\n",
              "War               809\n",
              "Fantasy           667\n",
              "Name: main_genre, dtype: int64"
            ]
          },
          "metadata": {},
          "execution_count": 69
        }
      ]
    },
    {
      "cell_type": "code",
      "metadata": {
        "id": "7qNVXOfekRoG"
      },
      "source": [
        "train_df = train_df"
      ],
      "execution_count": 70,
      "outputs": []
    },
    {
      "cell_type": "markdown",
      "metadata": {
        "id": "j9A14Tq_20M8"
      },
      "source": [
        "### 문제 17. Feature Mapping - Profiling 피처맵 맵핑"
      ]
    },
    {
      "cell_type": "code",
      "metadata": {
        "id": "XCZ1LZsDf9zj"
      },
      "source": [
        "# profile 완료된 경과로 피처맵 맵핑\n",
        "train_df = train_df[['user_id', 'movie_id', 'rating', 'decade', 'main_genre', 'gender', 'occupation', 'age_bucket']]\n",
        "train_df['decade'] = train_df['decade'].apply(lambda x: year_index[x])\n",
        "train_df['main_genre'] = train_df['main_genre'].apply(lambda x: genre_index[x])\n",
        "train_df['gender'] = train_df['gender'].apply(lambda x: gender_index[x])\n",
        "train_df['occupation'] = train_df['occupation'].apply(lambda x: occupation_index[x])\n",
        "train_df['age_bucket'] = train_df['age_bucket'].apply(lambda x: age_index[x])\n",
        "# ex.\n",
        "# \tuser_id\tmovie_id\trating\treleased_year_area\tmain_genre\tgender\toccupation\tage_bucket\n",
        "# 0\t635\t1251\t4\t4\t5\t2\t9\t2\n",
        "# 1\t635\t3948\t4\t10\t3\t2\t9\t2\n",
        "# 2\t635\t1270\t4\t3\t3\t2\t9\t2\n",
        "# 3\t635\t1279\t5\t1\t3\t2\t9\t2\n",
        "# 4\t635\t1286\t4\t3\t5\t2\t9\t2"
      ],
      "execution_count": 71,
      "outputs": []
    },
    {
      "cell_type": "code",
      "metadata": {
        "colab": {
          "base_uri": "https://localhost:8080/",
          "height": 423
        },
        "id": "ue_TrhHqXGyM",
        "outputId": "8ed41a20-3f4c-4eea-e7d8-a16839db9030"
      },
      "source": [
        "train_df"
      ],
      "execution_count": 72,
      "outputs": [
        {
          "output_type": "execute_result",
          "data": {
            "text/html": [
              "<div>\n",
              "<style scoped>\n",
              "    .dataframe tbody tr th:only-of-type {\n",
              "        vertical-align: middle;\n",
              "    }\n",
              "\n",
              "    .dataframe tbody tr th {\n",
              "        vertical-align: top;\n",
              "    }\n",
              "\n",
              "    .dataframe thead th {\n",
              "        text-align: right;\n",
              "    }\n",
              "</style>\n",
              "<table border=\"1\" class=\"dataframe\">\n",
              "  <thead>\n",
              "    <tr style=\"text-align: right;\">\n",
              "      <th></th>\n",
              "      <th>user_id</th>\n",
              "      <th>movie_id</th>\n",
              "      <th>rating</th>\n",
              "      <th>decade</th>\n",
              "      <th>main_genre</th>\n",
              "      <th>gender</th>\n",
              "      <th>occupation</th>\n",
              "      <th>age_bucket</th>\n",
              "    </tr>\n",
              "  </thead>\n",
              "  <tbody>\n",
              "    <tr>\n",
              "      <th>0</th>\n",
              "      <td>635</td>\n",
              "      <td>1251</td>\n",
              "      <td>4</td>\n",
              "      <td>4</td>\n",
              "      <td>5</td>\n",
              "      <td>2</td>\n",
              "      <td>9</td>\n",
              "      <td>2</td>\n",
              "    </tr>\n",
              "    <tr>\n",
              "      <th>1</th>\n",
              "      <td>635</td>\n",
              "      <td>3948</td>\n",
              "      <td>4</td>\n",
              "      <td>10</td>\n",
              "      <td>3</td>\n",
              "      <td>2</td>\n",
              "      <td>9</td>\n",
              "      <td>2</td>\n",
              "    </tr>\n",
              "    <tr>\n",
              "      <th>2</th>\n",
              "      <td>635</td>\n",
              "      <td>1270</td>\n",
              "      <td>4</td>\n",
              "      <td>3</td>\n",
              "      <td>3</td>\n",
              "      <td>2</td>\n",
              "      <td>9</td>\n",
              "      <td>2</td>\n",
              "    </tr>\n",
              "    <tr>\n",
              "      <th>3</th>\n",
              "      <td>635</td>\n",
              "      <td>1279</td>\n",
              "      <td>5</td>\n",
              "      <td>1</td>\n",
              "      <td>3</td>\n",
              "      <td>2</td>\n",
              "      <td>9</td>\n",
              "      <td>2</td>\n",
              "    </tr>\n",
              "    <tr>\n",
              "      <th>4</th>\n",
              "      <td>635</td>\n",
              "      <td>1286</td>\n",
              "      <td>4</td>\n",
              "      <td>3</td>\n",
              "      <td>5</td>\n",
              "      <td>2</td>\n",
              "      <td>9</td>\n",
              "      <td>2</td>\n",
              "    </tr>\n",
              "    <tr>\n",
              "      <th>...</th>\n",
              "      <td>...</td>\n",
              "      <td>...</td>\n",
              "      <td>...</td>\n",
              "      <td>...</td>\n",
              "      <td>...</td>\n",
              "      <td>...</td>\n",
              "      <td>...</td>\n",
              "      <td>...</td>\n",
              "    </tr>\n",
              "    <tr>\n",
              "      <th>800159</th>\n",
              "      <td>4528</td>\n",
              "      <td>912</td>\n",
              "      <td>4</td>\n",
              "      <td>6</td>\n",
              "      <td>5</td>\n",
              "      <td>2</td>\n",
              "      <td>12</td>\n",
              "      <td>3</td>\n",
              "    </tr>\n",
              "    <tr>\n",
              "      <th>800160</th>\n",
              "      <td>4528</td>\n",
              "      <td>2395</td>\n",
              "      <td>4</td>\n",
              "      <td>1</td>\n",
              "      <td>3</td>\n",
              "      <td>2</td>\n",
              "      <td>12</td>\n",
              "      <td>3</td>\n",
              "    </tr>\n",
              "    <tr>\n",
              "      <th>800161</th>\n",
              "      <td>4528</td>\n",
              "      <td>2599</td>\n",
              "      <td>5</td>\n",
              "      <td>1</td>\n",
              "      <td>3</td>\n",
              "      <td>2</td>\n",
              "      <td>12</td>\n",
              "      <td>3</td>\n",
              "    </tr>\n",
              "    <tr>\n",
              "      <th>800162</th>\n",
              "      <td>3326</td>\n",
              "      <td>912</td>\n",
              "      <td>4</td>\n",
              "      <td>6</td>\n",
              "      <td>5</td>\n",
              "      <td>2</td>\n",
              "      <td>4</td>\n",
              "      <td>4</td>\n",
              "    </tr>\n",
              "    <tr>\n",
              "      <th>800163</th>\n",
              "      <td>3326</td>\n",
              "      <td>3819</td>\n",
              "      <td>4</td>\n",
              "      <td>3</td>\n",
              "      <td>3</td>\n",
              "      <td>2</td>\n",
              "      <td>4</td>\n",
              "      <td>4</td>\n",
              "    </tr>\n",
              "  </tbody>\n",
              "</table>\n",
              "<p>800164 rows × 8 columns</p>\n",
              "</div>"
            ],
            "text/plain": [
              "        user_id  movie_id  rating  ...  gender  occupation  age_bucket\n",
              "0           635      1251       4  ...       2           9           2\n",
              "1           635      3948       4  ...       2           9           2\n",
              "2           635      1270       4  ...       2           9           2\n",
              "3           635      1279       5  ...       2           9           2\n",
              "4           635      1286       4  ...       2           9           2\n",
              "...         ...       ...     ...  ...     ...         ...         ...\n",
              "800159     4528       912       4  ...       2          12           3\n",
              "800160     4528      2395       4  ...       2          12           3\n",
              "800161     4528      2599       5  ...       2          12           3\n",
              "800162     3326       912       4  ...       2           4           4\n",
              "800163     3326      3819       4  ...       2           4           4\n",
              "\n",
              "[800164 rows x 8 columns]"
            ]
          },
          "metadata": {},
          "execution_count": 72
        }
      ]
    },
    {
      "cell_type": "code",
      "metadata": {
        "colab": {
          "base_uri": "https://localhost:8080/",
          "height": 423
        },
        "id": "6_LlJ12Lj2RP",
        "outputId": "27986222-b3c2-494c-bb2e-71dfe87b791a"
      },
      "source": [
        "test_df = pd.merge(test_df, movie_df, on='movie_id')\n",
        "test_df = pd.merge(test_df, user_df, on='user_id')\n",
        "\n",
        "test_df = test_df[['user_id', 'movie_id', 'rating', 'decade', 'main_genre', 'gender', 'occupation', 'age_bucket']]\n",
        "test_df['decade'] = test_df['decade'].apply(lambda x: year_index[x])\n",
        "test_df['main_genre'] = test_df['main_genre'].apply(lambda x: genre_index[x])\n",
        "test_df['gender'] = test_df['gender'].apply(lambda x: gender_index[x])\n",
        "test_df['occupation'] = test_df['occupation'].apply(lambda x: occupation_index[x])\n",
        "test_df['age_bucket'] = test_df['age_bucket'].apply(lambda x: age_index[x])\n",
        "\n",
        "test_df"
      ],
      "execution_count": 73,
      "outputs": [
        {
          "output_type": "execute_result",
          "data": {
            "text/html": [
              "<div>\n",
              "<style scoped>\n",
              "    .dataframe tbody tr th:only-of-type {\n",
              "        vertical-align: middle;\n",
              "    }\n",
              "\n",
              "    .dataframe tbody tr th {\n",
              "        vertical-align: top;\n",
              "    }\n",
              "\n",
              "    .dataframe thead th {\n",
              "        text-align: right;\n",
              "    }\n",
              "</style>\n",
              "<table border=\"1\" class=\"dataframe\">\n",
              "  <thead>\n",
              "    <tr style=\"text-align: right;\">\n",
              "      <th></th>\n",
              "      <th>user_id</th>\n",
              "      <th>movie_id</th>\n",
              "      <th>rating</th>\n",
              "      <th>decade</th>\n",
              "      <th>main_genre</th>\n",
              "      <th>gender</th>\n",
              "      <th>occupation</th>\n",
              "      <th>age_bucket</th>\n",
              "    </tr>\n",
              "  </thead>\n",
              "  <tbody>\n",
              "    <tr>\n",
              "      <th>0</th>\n",
              "      <td>1</td>\n",
              "      <td>1193</td>\n",
              "      <td>5</td>\n",
              "      <td>2</td>\n",
              "      <td>5</td>\n",
              "      <td>1</td>\n",
              "      <td>1</td>\n",
              "      <td>1</td>\n",
              "    </tr>\n",
              "    <tr>\n",
              "      <th>1</th>\n",
              "      <td>1</td>\n",
              "      <td>661</td>\n",
              "      <td>3</td>\n",
              "      <td>1</td>\n",
              "      <td>1</td>\n",
              "      <td>1</td>\n",
              "      <td>1</td>\n",
              "      <td>1</td>\n",
              "    </tr>\n",
              "    <tr>\n",
              "      <th>2</th>\n",
              "      <td>1</td>\n",
              "      <td>914</td>\n",
              "      <td>3</td>\n",
              "      <td>4</td>\n",
              "      <td>18</td>\n",
              "      <td>1</td>\n",
              "      <td>1</td>\n",
              "      <td>1</td>\n",
              "    </tr>\n",
              "    <tr>\n",
              "      <th>3</th>\n",
              "      <td>1</td>\n",
              "      <td>3408</td>\n",
              "      <td>4</td>\n",
              "      <td>10</td>\n",
              "      <td>5</td>\n",
              "      <td>1</td>\n",
              "      <td>1</td>\n",
              "      <td>1</td>\n",
              "    </tr>\n",
              "    <tr>\n",
              "      <th>4</th>\n",
              "      <td>1</td>\n",
              "      <td>2355</td>\n",
              "      <td>5</td>\n",
              "      <td>1</td>\n",
              "      <td>1</td>\n",
              "      <td>1</td>\n",
              "      <td>1</td>\n",
              "      <td>1</td>\n",
              "    </tr>\n",
              "    <tr>\n",
              "      <th>...</th>\n",
              "      <td>...</td>\n",
              "      <td>...</td>\n",
              "      <td>...</td>\n",
              "      <td>...</td>\n",
              "      <td>...</td>\n",
              "      <td>...</td>\n",
              "      <td>...</td>\n",
              "      <td>...</td>\n",
              "    </tr>\n",
              "    <tr>\n",
              "      <th>200040</th>\n",
              "      <td>3453</td>\n",
              "      <td>3158</td>\n",
              "      <td>2</td>\n",
              "      <td>1</td>\n",
              "      <td>5</td>\n",
              "      <td>2</td>\n",
              "      <td>4</td>\n",
              "      <td>5</td>\n",
              "    </tr>\n",
              "    <tr>\n",
              "      <th>200041</th>\n",
              "      <td>3453</td>\n",
              "      <td>2293</td>\n",
              "      <td>3</td>\n",
              "      <td>1</td>\n",
              "      <td>5</td>\n",
              "      <td>2</td>\n",
              "      <td>4</td>\n",
              "      <td>5</td>\n",
              "    </tr>\n",
              "    <tr>\n",
              "      <th>200042</th>\n",
              "      <td>3453</td>\n",
              "      <td>2275</td>\n",
              "      <td>1</td>\n",
              "      <td>1</td>\n",
              "      <td>4</td>\n",
              "      <td>2</td>\n",
              "      <td>4</td>\n",
              "      <td>5</td>\n",
              "    </tr>\n",
              "    <tr>\n",
              "      <th>200043</th>\n",
              "      <td>3072</td>\n",
              "      <td>1455</td>\n",
              "      <td>4</td>\n",
              "      <td>1</td>\n",
              "      <td>3</td>\n",
              "      <td>2</td>\n",
              "      <td>7</td>\n",
              "      <td>2</td>\n",
              "    </tr>\n",
              "    <tr>\n",
              "      <th>200044</th>\n",
              "      <td>4738</td>\n",
              "      <td>2914</td>\n",
              "      <td>5</td>\n",
              "      <td>1</td>\n",
              "      <td>3</td>\n",
              "      <td>2</td>\n",
              "      <td>7</td>\n",
              "      <td>2</td>\n",
              "    </tr>\n",
              "  </tbody>\n",
              "</table>\n",
              "<p>200045 rows × 8 columns</p>\n",
              "</div>"
            ],
            "text/plain": [
              "        user_id  movie_id  rating  ...  gender  occupation  age_bucket\n",
              "0             1      1193       5  ...       1           1           1\n",
              "1             1       661       3  ...       1           1           1\n",
              "2             1       914       3  ...       1           1           1\n",
              "3             1      3408       4  ...       1           1           1\n",
              "4             1      2355       5  ...       1           1           1\n",
              "...         ...       ...     ...  ...     ...         ...         ...\n",
              "200040     3453      3158       2  ...       2           4           5\n",
              "200041     3453      2293       3  ...       2           4           5\n",
              "200042     3453      2275       1  ...       2           4           5\n",
              "200043     3072      1455       4  ...       2           7           2\n",
              "200044     4738      2914       5  ...       2           7           2\n",
              "\n",
              "[200045 rows x 8 columns]"
            ]
          },
          "metadata": {},
          "execution_count": 73
        }
      ]
    },
    {
      "cell_type": "markdown",
      "metadata": {
        "id": "zRZWztHgUWfx"
      },
      "source": [
        "### 문제 18. Binary Transformation - 평가 점수 기준으로 (0,1) 변환"
      ]
    },
    {
      "cell_type": "code",
      "metadata": {
        "id": "GNGfIPSMkaNj"
      },
      "source": [
        "# regression 데이터 셋을 만들듯 point wise 데이터 셋을 만듬\n",
        "# => y값 설정이 중요 => 랭킹모델 기준점에 따라 y값 설정이 다름 ( ex) 시청 여부에 따라 0 또는 1 로 준다)\n",
        "# => 여기서는 본 기록 또는 rating에 따라 나눌수도 있을것 같다"
      ],
      "execution_count": 74,
      "outputs": []
    },
    {
      "cell_type": "code",
      "metadata": {
        "id": "nhI2X1BiiPZf",
        "colab": {
          "base_uri": "https://localhost:8080/",
          "height": 206
        },
        "outputId": "7c113623-7c74-4b44-f90b-7c7e2f2a54b6"
      },
      "source": [
        "# rating이 4점 이상인 경우 1, 3점 이하인 경우 0으로 변환 (높게 평가: 1 , 낮게평가: 0)\n",
        "train_df['y'] = train_df['rating'].apply(lambda x: 1 if x >= 4 else 0)\n",
        "train_df.sample(10).head()\n",
        "\n",
        "#이제 Regression을 수행가능\n",
        "#근데 우리의 목적은 회귀를 하는게 아닌 Factorization Machine 알고리즘을 통해 Raking machine 이라는 알고리즘을 만들것임\n",
        "#그래도 Input과 output을 넣고 빼는건 로지스틱 회귀랑 다를게 없다 -> 알고리즘만 다른 것"
      ],
      "execution_count": 75,
      "outputs": [
        {
          "output_type": "execute_result",
          "data": {
            "text/html": [
              "<div>\n",
              "<style scoped>\n",
              "    .dataframe tbody tr th:only-of-type {\n",
              "        vertical-align: middle;\n",
              "    }\n",
              "\n",
              "    .dataframe tbody tr th {\n",
              "        vertical-align: top;\n",
              "    }\n",
              "\n",
              "    .dataframe thead th {\n",
              "        text-align: right;\n",
              "    }\n",
              "</style>\n",
              "<table border=\"1\" class=\"dataframe\">\n",
              "  <thead>\n",
              "    <tr style=\"text-align: right;\">\n",
              "      <th></th>\n",
              "      <th>user_id</th>\n",
              "      <th>movie_id</th>\n",
              "      <th>rating</th>\n",
              "      <th>decade</th>\n",
              "      <th>main_genre</th>\n",
              "      <th>gender</th>\n",
              "      <th>occupation</th>\n",
              "      <th>age_bucket</th>\n",
              "      <th>y</th>\n",
              "    </tr>\n",
              "  </thead>\n",
              "  <tbody>\n",
              "    <tr>\n",
              "      <th>34632</th>\n",
              "      <td>3841</td>\n",
              "      <td>1209</td>\n",
              "      <td>5</td>\n",
              "      <td>4</td>\n",
              "      <td>13</td>\n",
              "      <td>2</td>\n",
              "      <td>18</td>\n",
              "      <td>4</td>\n",
              "      <td>1</td>\n",
              "    </tr>\n",
              "    <tr>\n",
              "      <th>249221</th>\n",
              "      <td>2537</td>\n",
              "      <td>296</td>\n",
              "      <td>5</td>\n",
              "      <td>1</td>\n",
              "      <td>7</td>\n",
              "      <td>2</td>\n",
              "      <td>14</td>\n",
              "      <td>5</td>\n",
              "      <td>1</td>\n",
              "    </tr>\n",
              "    <tr>\n",
              "      <th>670769</th>\n",
              "      <td>3822</td>\n",
              "      <td>2580</td>\n",
              "      <td>3</td>\n",
              "      <td>1</td>\n",
              "      <td>7</td>\n",
              "      <td>2</td>\n",
              "      <td>5</td>\n",
              "      <td>4</td>\n",
              "      <td>0</td>\n",
              "    </tr>\n",
              "    <tr>\n",
              "      <th>777288</th>\n",
              "      <td>4793</td>\n",
              "      <td>1676</td>\n",
              "      <td>4</td>\n",
              "      <td>1</td>\n",
              "      <td>4</td>\n",
              "      <td>1</td>\n",
              "      <td>21</td>\n",
              "      <td>3</td>\n",
              "      <td>1</td>\n",
              "    </tr>\n",
              "    <tr>\n",
              "      <th>332225</th>\n",
              "      <td>3589</td>\n",
              "      <td>1772</td>\n",
              "      <td>1</td>\n",
              "      <td>1</td>\n",
              "      <td>4</td>\n",
              "      <td>1</td>\n",
              "      <td>10</td>\n",
              "      <td>4</td>\n",
              "      <td>0</td>\n",
              "    </tr>\n",
              "  </tbody>\n",
              "</table>\n",
              "</div>"
            ],
            "text/plain": [
              "        user_id  movie_id  rating  decade  ...  gender  occupation  age_bucket  y\n",
              "34632      3841      1209       5       4  ...       2          18           4  1\n",
              "249221     2537       296       5       1  ...       2          14           5  1\n",
              "670769     3822      2580       3       1  ...       2           5           4  0\n",
              "777288     4793      1676       4       1  ...       1          21           3  1\n",
              "332225     3589      1772       1       1  ...       1          10           4  0\n",
              "\n",
              "[5 rows x 9 columns]"
            ]
          },
          "metadata": {},
          "execution_count": 75
        }
      ]
    },
    {
      "cell_type": "code",
      "metadata": {
        "id": "KnPx-JhkMMal"
      },
      "source": [
        "test_df['y'] = test_df['rating'].apply(lambda x: 1 if x >= 4 else 0)"
      ],
      "execution_count": 76,
      "outputs": []
    },
    {
      "cell_type": "markdown",
      "metadata": {
        "id": "ehw9UI3CUWwW"
      },
      "source": [
        "### 문제 19. Feature Vector 생성 - libsvm 포맷의 데이터셋 생성\n"
      ]
    },
    {
      "cell_type": "markdown",
      "metadata": {
        "id": "d9RAAZo2jcaq"
      },
      "source": [
        "#### Sparse Vector in Linear Model\n",
        "\n",
        "    [libsvm]\n",
        "    1. sparse vector를 표현하기에 적합\n",
        "    2. 용량을 크게 차지 않하고 sparse vector 표현 가능\n",
        "\n",
        "    [Sparse Vector]\n",
        "    1. 0, 1로 값을 표현하는 벡터가 매우 희소한 상황 (대부분이 0임)\n",
        "    2. 아래 그림에서 3002개의 벡터 중, 1이 등장하는 벡터는 단 두개\n",
        "    3. Linear Model에서 Sparse 하다는 것은 이러한 상황을 의미\n",
        "    4. OneHot encoding 형식\n",
        "\n",
        "![sparse](https://raw.githubusercontent.com/yoonkt200/FastCampusDataset/master/images/sparse.png)\n",
        "\n",
        "----\n",
        "\n",
        "    [Linear Model]\n",
        "    1. 입력 특성에 대한 선형 함수를 만들어 예측을 수행하는 모델\n",
        "    2. y = a1x1 + a2x2... 같은 방정식이라고 생각할 수 있음\n",
        "    3. 일반적인 랭킹 모델은 Linear Model로 마지막 추론을 하게 되어있음\n",
        "    4. x1, x2...가 바로 Sparse Vector를 의미함\n",
        "\n",
        "----\n",
        "\n",
        "    [libsvm 포맷]\n",
        "    1. \"index\":\"value\" 형태로 sparse vector를 표현하는 형태\n",
        "    2. 위 그림을 표현하면, \"1:1 3001:1\" 이 됨. (one hot encoding의 고지식함을 좀 개선 해준 느낌)"
      ]
    },
    {
      "cell_type": "code",
      "metadata": {
        "id": "z0YeF1ZiSg8F"
      },
      "source": [
        "# libsvm 포맷의 데이터셋 생성\n",
        "col_len_dict = {'user_id': len(train_df['user_id'].unique()),\n",
        "                'movie_id': len(train_df['movie_id'].unique()),\n",
        "                'decade': len(train_df['decade'].unique()), \n",
        "                'main_genre': len(train_df['main_genre'].unique()), \n",
        "                'gender': len(train_df['gender'].unique()), \n",
        "                'occupation': len(train_df['occupation'].unique()),\n",
        "                'age_bucket': len(train_df['age_bucket'].unique())} #카테고리별로 무수히 긴 벡터에 0,1 을 때려 넣는게 아닌\n",
        "                # 딕셔너리를 통해 각 카테고리별 인덱스를 넣어놓는 형식\n",
        "col_accum_index_dict = {} #위에있는 각 점수를 축척한 값. -> 개별 sparse 벡터가 딕셔너리 형태 좌표값으로 있는건데.\n",
        "#그걸 모두 뭉쳤을때 하나의 벡터로 표현하기위해 각 sparse vector가 어느 위치에 있는지 알려주기위해 값들을 누적해서 표현해줌 \n",
        "cumulative = 0\n",
        "for key, value in col_len_dict.items():\n",
        "    col_accum_index_dict[key] = cumulative\n",
        "    cumulative = cumulative + value"
      ],
      "execution_count": 77,
      "outputs": []
    },
    {
      "cell_type": "code",
      "metadata": {
        "colab": {
          "base_uri": "https://localhost:8080/"
        },
        "id": "0hkni9KCnO9w",
        "outputId": "ee4280b4-419f-460e-a87b-a30d46079745"
      },
      "source": [
        "col_len_dict"
      ],
      "execution_count": 78,
      "outputs": [
        {
          "output_type": "execute_result",
          "data": {
            "text/plain": [
              "{'age_bucket': 6,\n",
              " 'decade': 10,\n",
              " 'gender': 2,\n",
              " 'main_genre': 18,\n",
              " 'movie_id': 3662,\n",
              " 'occupation': 21,\n",
              " 'user_id': 5400}"
            ]
          },
          "metadata": {},
          "execution_count": 78
        }
      ]
    },
    {
      "cell_type": "code",
      "metadata": {
        "colab": {
          "base_uri": "https://localhost:8080/"
        },
        "id": "IXLwOLOfoCl1",
        "outputId": "6b952b4e-0dde-43db-f457-ec34455ff04d"
      },
      "source": [
        "col_accum_index_dict"
      ],
      "execution_count": 79,
      "outputs": [
        {
          "output_type": "execute_result",
          "data": {
            "text/plain": [
              "{'age_bucket': 9113,\n",
              " 'decade': 9062,\n",
              " 'gender': 9090,\n",
              " 'main_genre': 9072,\n",
              " 'movie_id': 5400,\n",
              " 'occupation': 9092,\n",
              " 'user_id': 0}"
            ]
          },
          "metadata": {},
          "execution_count": 79
        }
      ]
    },
    {
      "cell_type": "code",
      "metadata": {
        "id": "9sRBaYdNHqN5",
        "colab": {
          "base_uri": "https://localhost:8080/"
        },
        "outputId": "893e628f-abfb-45d3-f827-7d39a298de62"
      },
      "source": [
        "# ex. 1 634:1 6650:1 9065:1 9076:1 9091:1 9100:1 9114:1\n",
        "\n",
        "for idx, row in train_df.iterrows(): #libsvm 표현했을때 특정유저의 특정movie에 대한 특정 feacture을 sparse vector로 만들어줌\n",
        "  vec = []\n",
        "  label = row['y']\n",
        "  vec.append(str(label))\n",
        "  row = row.drop(labels=['rating'])\n",
        "  row = row.drop(labels=['y'])\n",
        "  for key, value in row.items():\n",
        "    col_idx = col_accum_index_dict[key] + value - 1 #libsvm 표현했을때 특정유저의 특정movie에 대한 특정 feacture의 값에 대한 index. Value는 1이다\n",
        "    vec.append(str(col_idx) + \":\" + str(1))\n",
        "  print(\"%s\\n\" % \" \".join(vec))\n",
        "  break "
      ],
      "execution_count": 80,
      "outputs": [
        {
          "output_type": "stream",
          "name": "stdout",
          "text": [
            "1 634:1 6650:1 9065:1 9076:1 9091:1 9100:1 9114:1\n",
            "\n"
          ]
        }
      ]
    },
    {
      "cell_type": "code",
      "metadata": {
        "colab": {
          "base_uri": "https://localhost:8080/",
          "height": 423
        },
        "id": "Pvq_pluBoxq3",
        "outputId": "b86fed67-c3c0-4123-e5c3-60d90fe28b16"
      },
      "source": [
        "train_df"
      ],
      "execution_count": 81,
      "outputs": [
        {
          "output_type": "execute_result",
          "data": {
            "text/html": [
              "<div>\n",
              "<style scoped>\n",
              "    .dataframe tbody tr th:only-of-type {\n",
              "        vertical-align: middle;\n",
              "    }\n",
              "\n",
              "    .dataframe tbody tr th {\n",
              "        vertical-align: top;\n",
              "    }\n",
              "\n",
              "    .dataframe thead th {\n",
              "        text-align: right;\n",
              "    }\n",
              "</style>\n",
              "<table border=\"1\" class=\"dataframe\">\n",
              "  <thead>\n",
              "    <tr style=\"text-align: right;\">\n",
              "      <th></th>\n",
              "      <th>user_id</th>\n",
              "      <th>movie_id</th>\n",
              "      <th>rating</th>\n",
              "      <th>decade</th>\n",
              "      <th>main_genre</th>\n",
              "      <th>gender</th>\n",
              "      <th>occupation</th>\n",
              "      <th>age_bucket</th>\n",
              "      <th>y</th>\n",
              "    </tr>\n",
              "  </thead>\n",
              "  <tbody>\n",
              "    <tr>\n",
              "      <th>0</th>\n",
              "      <td>635</td>\n",
              "      <td>1251</td>\n",
              "      <td>4</td>\n",
              "      <td>4</td>\n",
              "      <td>5</td>\n",
              "      <td>2</td>\n",
              "      <td>9</td>\n",
              "      <td>2</td>\n",
              "      <td>1</td>\n",
              "    </tr>\n",
              "    <tr>\n",
              "      <th>1</th>\n",
              "      <td>635</td>\n",
              "      <td>3948</td>\n",
              "      <td>4</td>\n",
              "      <td>10</td>\n",
              "      <td>3</td>\n",
              "      <td>2</td>\n",
              "      <td>9</td>\n",
              "      <td>2</td>\n",
              "      <td>1</td>\n",
              "    </tr>\n",
              "    <tr>\n",
              "      <th>2</th>\n",
              "      <td>635</td>\n",
              "      <td>1270</td>\n",
              "      <td>4</td>\n",
              "      <td>3</td>\n",
              "      <td>3</td>\n",
              "      <td>2</td>\n",
              "      <td>9</td>\n",
              "      <td>2</td>\n",
              "      <td>1</td>\n",
              "    </tr>\n",
              "    <tr>\n",
              "      <th>3</th>\n",
              "      <td>635</td>\n",
              "      <td>1279</td>\n",
              "      <td>5</td>\n",
              "      <td>1</td>\n",
              "      <td>3</td>\n",
              "      <td>2</td>\n",
              "      <td>9</td>\n",
              "      <td>2</td>\n",
              "      <td>1</td>\n",
              "    </tr>\n",
              "    <tr>\n",
              "      <th>4</th>\n",
              "      <td>635</td>\n",
              "      <td>1286</td>\n",
              "      <td>4</td>\n",
              "      <td>3</td>\n",
              "      <td>5</td>\n",
              "      <td>2</td>\n",
              "      <td>9</td>\n",
              "      <td>2</td>\n",
              "      <td>1</td>\n",
              "    </tr>\n",
              "    <tr>\n",
              "      <th>...</th>\n",
              "      <td>...</td>\n",
              "      <td>...</td>\n",
              "      <td>...</td>\n",
              "      <td>...</td>\n",
              "      <td>...</td>\n",
              "      <td>...</td>\n",
              "      <td>...</td>\n",
              "      <td>...</td>\n",
              "      <td>...</td>\n",
              "    </tr>\n",
              "    <tr>\n",
              "      <th>800159</th>\n",
              "      <td>4528</td>\n",
              "      <td>912</td>\n",
              "      <td>4</td>\n",
              "      <td>6</td>\n",
              "      <td>5</td>\n",
              "      <td>2</td>\n",
              "      <td>12</td>\n",
              "      <td>3</td>\n",
              "      <td>1</td>\n",
              "    </tr>\n",
              "    <tr>\n",
              "      <th>800160</th>\n",
              "      <td>4528</td>\n",
              "      <td>2395</td>\n",
              "      <td>4</td>\n",
              "      <td>1</td>\n",
              "      <td>3</td>\n",
              "      <td>2</td>\n",
              "      <td>12</td>\n",
              "      <td>3</td>\n",
              "      <td>1</td>\n",
              "    </tr>\n",
              "    <tr>\n",
              "      <th>800161</th>\n",
              "      <td>4528</td>\n",
              "      <td>2599</td>\n",
              "      <td>5</td>\n",
              "      <td>1</td>\n",
              "      <td>3</td>\n",
              "      <td>2</td>\n",
              "      <td>12</td>\n",
              "      <td>3</td>\n",
              "      <td>1</td>\n",
              "    </tr>\n",
              "    <tr>\n",
              "      <th>800162</th>\n",
              "      <td>3326</td>\n",
              "      <td>912</td>\n",
              "      <td>4</td>\n",
              "      <td>6</td>\n",
              "      <td>5</td>\n",
              "      <td>2</td>\n",
              "      <td>4</td>\n",
              "      <td>4</td>\n",
              "      <td>1</td>\n",
              "    </tr>\n",
              "    <tr>\n",
              "      <th>800163</th>\n",
              "      <td>3326</td>\n",
              "      <td>3819</td>\n",
              "      <td>4</td>\n",
              "      <td>3</td>\n",
              "      <td>3</td>\n",
              "      <td>2</td>\n",
              "      <td>4</td>\n",
              "      <td>4</td>\n",
              "      <td>1</td>\n",
              "    </tr>\n",
              "  </tbody>\n",
              "</table>\n",
              "<p>800164 rows × 9 columns</p>\n",
              "</div>"
            ],
            "text/plain": [
              "        user_id  movie_id  rating  decade  ...  gender  occupation  age_bucket  y\n",
              "0           635      1251       4       4  ...       2           9           2  1\n",
              "1           635      3948       4      10  ...       2           9           2  1\n",
              "2           635      1270       4       3  ...       2           9           2  1\n",
              "3           635      1279       5       1  ...       2           9           2  1\n",
              "4           635      1286       4       3  ...       2           9           2  1\n",
              "...         ...       ...     ...     ...  ...     ...         ...         ... ..\n",
              "800159     4528       912       4       6  ...       2          12           3  1\n",
              "800160     4528      2395       4       1  ...       2          12           3  1\n",
              "800161     4528      2599       5       1  ...       2          12           3  1\n",
              "800162     3326       912       4       6  ...       2           4           4  1\n",
              "800163     3326      3819       4       3  ...       2           4           4  1\n",
              "\n",
              "[800164 rows x 9 columns]"
            ]
          },
          "metadata": {},
          "execution_count": 81
        }
      ]
    },
    {
      "cell_type": "markdown",
      "metadata": {
        "id": "O8HR6_qZXC3Q"
      },
      "source": [
        "## Step 4. 추천 랭킹 모델링 (Factorization Machine)"
      ]
    },
    {
      "cell_type": "markdown",
      "metadata": {
        "id": "KLhrv-y-Re8_"
      },
      "source": [
        "#### Factorization Machine\n",
        "\n",
        "![equation](https://img1.daumcdn.net/thumb/R1280x0/?scode=mtistory2&fname=https%3A%2F%2Fblog.kakaocdn.net%2Fdn%2FbRP7gn%2FbtqDw3LQxDB%2FXmWK8heUckUWpHx379UCM1%2Fimg.png)\n",
        "\n",
        "    \n",
        "    위에 식 : Regression + MF 의 꼴\n",
        "    [랭킹 모델의 형태와 역할]\n",
        "    1. Linear Regression, SVM등 선형분류 모형처럼 동작하는 General predictor\n",
        "    2. 변수 간의 모든 pair-wise interaction을 계산하는 알고리즘\n",
        "    3. General predictor의 장점 + MF 알고리즘이 가지는 의미 단위 해석(latent factor)의 장점\n",
        "    4. sparse한 데이터셋을 가지고 있을 때 적합"
      ]
    },
    {
      "cell_type": "markdown",
      "metadata": {
        "id": "QzKVcaHcUXBs"
      },
      "source": [
        "### 문제 20. 학습 데이터 생성 - 특정 시간 기준 Train/Test 데이터셋 생성"
      ]
    },
    {
      "cell_type": "code",
      "metadata": {
        "colab": {
          "base_uri": "https://localhost:8080/"
        },
        "id": "l3cZ-gom6t6C",
        "outputId": "bf953f8a-905b-47e6-e8b3-16a271c1fbfd"
      },
      "source": [
        "!pip install xlearn #C++기반 파이썬 라이브러리라 쓰기가 쉽지는 않다"
      ],
      "execution_count": 82,
      "outputs": [
        {
          "output_type": "stream",
          "name": "stdout",
          "text": [
            "Collecting xlearn\n",
            "  Downloading xlearn-0.40a1.tar.gz (4.9 MB)\n",
            "\u001b[K     |████████████████████████████████| 4.9 MB 6.8 MB/s \n",
            "\u001b[?25hBuilding wheels for collected packages: xlearn\n",
            "  Building wheel for xlearn (setup.py) ... \u001b[?25l\u001b[?25hdone\n",
            "  Created wheel for xlearn: filename=xlearn-0.40a1-py3-none-any.whl size=229986 sha256=f7696b73d45b70128ad9d71b397ab3a11647f548c6114c5c18208d0647ccac62\n",
            "  Stored in directory: /root/.cache/pip/wheels/1e/6d/eb/256faaf8142a9363431e2dc3f6a3d1c9080f526a1e5475049d\n",
            "Successfully built xlearn\n",
            "Installing collected packages: xlearn\n",
            "Successfully installed xlearn-0.40a1\n"
          ]
        }
      ]
    },
    {
      "cell_type": "code",
      "metadata": {
        "id": "39sdm7NtU3Jp"
      },
      "source": [
        "#libsvm 포멧으로 된 pointwise 데이터 셋 생성 -> 오래걸림\n",
        "txt_file = open('train.txt', 'w')\n",
        "for idx, row in train_df.iterrows():\n",
        "  vec = []\n",
        "  label = row['y']\n",
        "  vec.append(str(label))\n",
        "  row = row.drop(labels=['rating'])\n",
        "  row = row.drop(labels=['y'])\n",
        "  for key, value in row.items():\n",
        "    col_idx = col_accum_index_dict[key] + value - 1\n",
        "    vec.append(str(col_idx) + \":\" + str(1))\n",
        "  txt_file.write(\"%s\\n\" % \" \".join(vec))\n",
        "txt_file.close()"
      ],
      "execution_count": 83,
      "outputs": []
    },
    {
      "cell_type": "code",
      "metadata": {
        "id": "4ze4w4IyRr70"
      },
      "source": [
        "txt_file = open('test.txt', 'w')\n",
        "for idx, row in test_df.iterrows():\n",
        "  vec = []\n",
        "  label = row['y']\n",
        "  vec.append(str(label))\n",
        "  row = row.drop(labels=['rating'])\n",
        "  row = row.drop(labels=['y'])\n",
        "  for key, value in row.items():\n",
        "    col_idx = col_accum_index_dict[key] + value - 1\n",
        "    vec.append(str(col_idx) + \":\" + str(1))\n",
        "  txt_file.write(\"%s\\n\" % \" \".join(vec))\n",
        "txt_file.close()"
      ],
      "execution_count": 84,
      "outputs": []
    },
    {
      "cell_type": "markdown",
      "metadata": {
        "id": "9cFSVpqMUXRk"
      },
      "source": [
        "### 문제 21. 모델링 - FM Binary Classification 모델 학습"
      ]
    },
    {
      "cell_type": "code",
      "metadata": {
        "id": "YXevmmxSU6cs"
      },
      "source": [
        "import numpy as np\n",
        "from sklearn.metrics import roc_auc_score\n",
        "\n",
        "\n",
        "class FactorizationMachine():\n",
        "    \"\"\"\n",
        "    This Class is implementation of this paper : https://www.csie.ntu.edu.tw/~b97053/paper/Rendle2010FM.pdf\n",
        "    Just a example of FM Algorithm, not for production.\n",
        "    -----\n",
        "    Only simple methods are available.\n",
        "    e.g 1 : batch training, adagrad optimizer, parallel training are not supported.\n",
        "    e.g 2 : simple optimizer Stochastic Gradient Descent with L2 Regularization.\n",
        "    e.g 3 : using titanic dataset on local memory.\n",
        "    \"\"\"\n",
        "    def __init__(self, k, lr, l2_reg, l2_lambda, epoch, early_stop_window, train_data, valid_data):\n",
        "        \"\"\"\n",
        "        :param k: number of latent vector\n",
        "        :param lr: learning rate\n",
        "        :param l2_reg: bool parameter for L2 regularization\n",
        "        :param l2_lambda: lambda of L2 regularization\n",
        "        :param epoch: training epoch\n",
        "        :param train_data: path of train data\n",
        "        :param valid_data: path of valid data\n",
        "        \"\"\"\n",
        "        self._k = k\n",
        "        self._lr = lr\n",
        "        self._l2_reg = l2_reg\n",
        "        self._l2_lambda = l2_lambda\n",
        "        self._epoch = epoch\n",
        "        self._early_stop_window = early_stop_window\n",
        "        self._train_file_path = train_data\n",
        "        self._valid_file_path = valid_data\n",
        "        self._valid_loss_list = []\n",
        "\n",
        "    def _load_dataset(self):\n",
        "        \"\"\"\n",
        "        1. load dataset to memory from train/valid path\n",
        "        2. find max index in dataset for w's vector size\n",
        "        \"\"\"\n",
        "        # load data\n",
        "        train_file = open(self._train_file_path, 'r')\n",
        "        valid_file = open(self._valid_file_path, 'r')\n",
        "        self._train_data = train_file.read().split('\\n')\n",
        "        self._valid_data = valid_file.read().split('\\n')\n",
        "        train_file.close()\n",
        "        valid_file.close()\n",
        "\n",
        "        # find max index\n",
        "        self.feature_max_index = 0\n",
        "        print(\"Start to init FM vectors.\")\n",
        "        for row in self._train_data:\n",
        "            for element in row.split(\" \")[1:]:\n",
        "                index = int(element.split(\":\")[0])\n",
        "                if self.feature_max_index < index:\n",
        "                    self.feature_max_index = index\n",
        "\n",
        "        for row in self._valid_data:\n",
        "            for element in row.split(\" \")[1:]:\n",
        "                index = int(element.split(\":\")[0])\n",
        "                if self.feature_max_index < index:\n",
        "                    self.feature_max_index = index\n",
        "\n",
        "        # init FM vectors\n",
        "        self._init_vectors()\n",
        "        print(\"Finish init FM vectors.\")\n",
        "\n",
        "    def _init_vectors(self):\n",
        "        \"\"\"\n",
        "        1. initialize FM vectors\n",
        "        2. Conduct naive transformation libsvm format txt data to numpy training sample.\n",
        "        \"\"\"\n",
        "        self.w = np.random.randn(self.feature_max_index+1)\n",
        "        self.v = np.random.randn(self.feature_max_index+1, self._k)\n",
        "        self.train_x_data = []\n",
        "        self.train_y_data = np.zeros((len(self._train_data)-1))\n",
        "        self.valid_x_data = []\n",
        "        self.valid_y_data = np.zeros((len(self._valid_data)-1))\n",
        "\n",
        "        # make numpy dataset\n",
        "        for n, row in enumerate(self._train_data):\n",
        "            element = row.split(\" \")\n",
        "            if len(element) > 1:\n",
        "              self.train_y_data[n] = int(element[0])\n",
        "              self.train_x_data.append([np.array([int(pair.split(\":\")[0]) for pair in element[1:]]),\n",
        "                                        np.array([int(pair.split(\":\")[1]) for pair in element[1:]])])\n",
        "\n",
        "        for n, row in enumerate(self._valid_data):\n",
        "            element = row.split(\" \")\n",
        "            if len(element) > 1:\n",
        "              self.valid_y_data[n] = int(element[0])\n",
        "              self.valid_x_data.append([np.array([int(pair.split(\":\")[0]) for pair in element[1:]]),\n",
        "                                        np.array([int(pair.split(\":\")[1]) for pair in element[1:]])])\n",
        "\n",
        "    def train(self):\n",
        "        \"\"\"\n",
        "        Train FM model by Gradient Descent with L2 regularization\n",
        "        \"\"\"\n",
        "        self._load_dataset()\n",
        "        for epoch_num in range(1, self._epoch):\n",
        "            train_y_hat = self.predict(data=self.train_x_data)\n",
        "            valid_y_hat = self.predict(data=self.valid_x_data)\n",
        "            train_loss = self._get_loss(y_data=self.train_y_data, y_hat=train_y_hat)\n",
        "            valid_loss = self._get_loss(y_data=self.valid_y_data, y_hat=valid_y_hat)\n",
        "            train_auc = roc_auc_score(self.train_y_data, train_y_hat)\n",
        "            valid_auc = roc_auc_score(self.valid_y_data, valid_y_hat)\n",
        "            self._print_learning_info(epoch=epoch_num, train_loss=train_loss, valid_loss=valid_loss,\n",
        "                                      train_auc=train_auc, valid_auc=valid_auc)\n",
        "            if self._check_early_stop(valid_loss=valid_loss):\n",
        "                print(\"Early stop at epoch:\", epoch_num)\n",
        "                return 0\n",
        "\n",
        "            self._stochastic_gradient_descent(self.train_x_data, self.train_y_data)\n",
        "\n",
        "    def predict(self, data):\n",
        "        \"\"\"\n",
        "        Implementation of FM model's equation on O(kmd)\n",
        "        -----\n",
        "        Numpy array shape : (n, [index of md], [value of md])\n",
        "        md : none-zero feature\n",
        "        \"\"\"\n",
        "        num_data = len(data)\n",
        "        scores = np.zeros(num_data)\n",
        "        for n in range(num_data):\n",
        "            feat_idx = data[n][0]\n",
        "            val = data[n][1]\n",
        "\n",
        "            # linear feature score\n",
        "            linear_feature_score = np.sum(self.w[feat_idx] * val)\n",
        "\n",
        "            # factorized feature score\n",
        "            vx = self.v[feat_idx] * (val.reshape(-1, 1))\n",
        "            cross_sum = np.sum(vx, axis=0)\n",
        "            square_sum = np.sum(vx * vx, axis=0)\n",
        "            cross_feature_score = 0.5 * np.sum(np.square(cross_sum) - square_sum)\n",
        "\n",
        "            # Model's equation\n",
        "            scores[n] = linear_feature_score + cross_feature_score\n",
        "\n",
        "        # Sigmoid transformation for binary classification\n",
        "        scores = 1.0 / (1.0 + np.exp(-scores))\n",
        "        return scores\n",
        "\n",
        "    def _get_loss(self, y_data, y_hat):\n",
        "        \"\"\"\n",
        "        Calculate loss with L2 regularization (two type of coeficient - w,v)\n",
        "        \"\"\"\n",
        "        l2_norm = 0\n",
        "        if self._l2_reg:\n",
        "            w_norm = np.sqrt(np.sum(np.square(self.w)))\n",
        "            v_norm = np.sqrt(np.sum(np.square(self.v)))\n",
        "            l2_norm = self._l2_lambda * (w_norm + v_norm)\n",
        "        return -1 * np.sum( (y_data * np.log(y_hat)) + ((1 - y_data) * np.log(1 - y_hat)) ) + l2_norm\n",
        "\n",
        "    def _check_early_stop(self, valid_loss):\n",
        "        self._valid_loss_list.append(valid_loss)\n",
        "        if len(self._valid_loss_list) > 5:\n",
        "            prev_loss = self._valid_loss_list[len(self._valid_loss_list) - self._early_stop_window]\n",
        "            curr_loss = valid_loss\n",
        "            if prev_loss < curr_loss:\n",
        "                return True\n",
        "        return False\n",
        "\n",
        "    def _print_learning_info(self, epoch, train_loss, valid_loss, train_auc, valid_auc):\n",
        "        print(\"epoch:\", epoch, \"||\", \"train_loss:\", train_loss, \"||\", \"valid_loss:\", valid_loss,\n",
        "              \"||\", \"Train AUC:\", train_auc, \"||\", \"Test AUC:\", valid_auc)\n",
        "\n",
        "\n",
        "    def _stochastic_gradient_descent(self, x_data, y_data):\n",
        "        \"\"\"\n",
        "        Update each coefs (w, v) by Gradient Descent\n",
        "        \"\"\"\n",
        "        for data, y in zip(x_data, y_data):\n",
        "            feat_idx = data[0]\n",
        "            val = data[1]\n",
        "            vx = self.v[feat_idx] * (val.reshape(-1, 1))\n",
        "\n",
        "            # linear feature score\n",
        "            linear_feature_score = np.sum(self.w[feat_idx] * val)\n",
        "\n",
        "            # factorized feature score\n",
        "            vx = self.v[feat_idx] * (val.reshape(-1, 1))\n",
        "            cross_sum = np.sum(vx, axis=0)\n",
        "            square_sum = np.sum(vx * vx, axis=0)\n",
        "            cross_feature_score = 0.5 * np.sum(np.square(cross_sum) - square_sum)\n",
        "\n",
        "            # Model's equation\n",
        "            score = linear_feature_score + cross_feature_score\n",
        "            y_hat = 1.0 / (1.0 + np.exp(-score))\n",
        "            cost = y_hat - y\n",
        "\n",
        "            if self._l2_reg:\n",
        "                self.w[feat_idx] = self.w[feat_idx] - cost * self._lr * (val + self._l2_lambda * self.w[feat_idx])\n",
        "                self.v[feat_idx] = self.v[feat_idx] - cost * self._lr * ((sum(vx) * (val.reshape(-1, 1)) - (vx * (val.reshape(-1, 1)))) + self._l2_lambda * self.v[feat_idx])\n",
        "            else:\n",
        "                self.w[feat_idx] = self.w[feat_idx] - cost * self._lr * val\n",
        "                self.v[feat_idx] = self.v[feat_idx] - cost * self._lr * (sum(vx) * (val.reshape(-1, 1)) - (vx * (val.reshape(-1, 1))))"
      ],
      "execution_count": 85,
      "outputs": []
    },
    {
      "cell_type": "markdown",
      "metadata": {
        "id": "eKYA0QAKUXfP"
      },
      "source": [
        "### 문제 22. 모델링 - AUC 평가"
      ]
    },
    {
      "cell_type": "code",
      "metadata": {
        "id": "BelH_I93nBlC",
        "colab": {
          "base_uri": "https://localhost:8080/"
        },
        "outputId": "1a34e331-94ae-4cce-d48d-77cb759a7dbe"
      },
      "source": [
        "fm = FactorizationMachine(k=4,#MF에서 Latent Factor의 dimension\n",
        "                          lr=0.005, #Learning rating\n",
        "                          l2_reg=True, #그 외 정규화\n",
        "                          l2_lambda=0.0002, #그 외 정규화\n",
        "                          epoch=30,\n",
        "                          early_stop_window=3, #3번째 반복부터 큰차이 없으면 학습 중단\n",
        "                          train_data='./train.txt',\n",
        "                          valid_data='./test.txt')\n",
        "fm.train() #학습"
      ],
      "execution_count": 86,
      "outputs": [
        {
          "output_type": "stream",
          "name": "stdout",
          "text": [
            "Start to init FM vectors.\n",
            "Finish init FM vectors.\n"
          ]
        },
        {
          "output_type": "stream",
          "name": "stderr",
          "text": [
            "/usr/local/lib/python3.7/dist-packages/ipykernel_launcher.py:152: RuntimeWarning: divide by zero encountered in log\n",
            "/usr/local/lib/python3.7/dist-packages/ipykernel_launcher.py:152: RuntimeWarning: invalid value encountered in multiply\n"
          ]
        },
        {
          "output_type": "stream",
          "name": "stdout",
          "text": [
            "epoch: 1 || train_loss: nan || valid_loss: nan || Train AUC: 0.5100424009980989 || Test AUC: 0.5010525882722041\n",
            "epoch: 2 || train_loss: 720877.8362513419 || valid_loss: 191916.362728194 || Train AUC: 0.5812973397410671 || Test AUC: 0.5693143066981977\n",
            "epoch: 3 || train_loss: 635424.2204112269 || valid_loss: 173910.28381607638 || Train AUC: 0.6201278665363212 || Test AUC: 0.5954364431192856\n",
            "epoch: 4 || train_loss: 592034.7502461477 || valid_loss: 164763.36046088365 || Train AUC: 0.6463385397802334 || Test AUC: 0.6123403548264823\n",
            "epoch: 5 || train_loss: 565269.2386099118 || valid_loss: 159192.0232042998 || Train AUC: 0.6653273047345123 || Test AUC: 0.6241555883545051\n",
            "epoch: 6 || train_loss: 546727.9721931381 || valid_loss: 155413.1101261122 || Train AUC: 0.6798307321742209 || Test AUC: 0.6328570793465638\n",
            "epoch: 7 || train_loss: 533010.883747893 || valid_loss: 152682.2820435763 || Train AUC: 0.691290678773948 || Test AUC: 0.6395179862705053\n",
            "epoch: 8 || train_loss: 522461.2235378049 || valid_loss: 150631.48918165627 || Train AUC: 0.7005429964502887 || Test AUC: 0.6447738732940388\n",
            "epoch: 9 || train_loss: 514128.8870061379 || valid_loss: 149051.44027349364 || Train AUC: 0.7081343984375632 || Test AUC: 0.6490149532089988\n",
            "epoch: 10 || train_loss: 507407.3153541237 || valid_loss: 147810.47799551173 || Train AUC: 0.7144496510971272 || Test AUC: 0.6525000243479061\n",
            "epoch: 11 || train_loss: 501885.4241057568 || valid_loss: 146820.4831699499 || Train AUC: 0.7197719534665777 || Test AUC: 0.655404926509333\n",
            "epoch: 12 || train_loss: 497275.05131371215 || valid_loss: 146020.19426814548 || Train AUC: 0.724311228889557 || Test AUC: 0.657859299761137\n",
            "epoch: 13 || train_loss: 493369.2767197972 || valid_loss: 145365.649670297 || Train AUC: 0.7282271366218833 || Test AUC: 0.65995312409686\n",
            "epoch: 14 || train_loss: 490016.39970167744 || valid_loss: 144824.35772749918 || Train AUC: 0.7316406361594032 || Test AUC: 0.6617599029164699\n",
            "epoch: 15 || train_loss: 487103.10143444565 || valid_loss: 144371.75549509423 || Train AUC: 0.7346458525495598 || Test AUC: 0.6633344758346933\n",
            "epoch: 16 || train_loss: 484543.3386597998 || valid_loss: 143989.0381772362 || Train AUC: 0.7373152304676189 || Test AUC: 0.6647194944081819\n",
            "epoch: 17 || train_loss: 482270.91362061276 || valid_loss: 143661.7589962368 || Train AUC: 0.7397075609465333 || Test AUC: 0.6659521298344768\n",
            "epoch: 18 || train_loss: 480234.40295707114 || valid_loss: 143378.85307365432 || Train AUC: 0.741868556650763 || Test AUC: 0.6670576325381343\n",
            "epoch: 19 || train_loss: 478393.5796144872 || valid_loss: 143131.90049027922 || Train AUC: 0.7438346817458781 || Test AUC: 0.6680562462697951\n",
            "epoch: 20 || train_loss: 476716.7788135761 || valid_loss: 142914.53431429 || Train AUC: 0.7456364925583283 || Test AUC: 0.6689661921808475\n",
            "epoch: 21 || train_loss: 475178.8881489022 || valid_loss: 142721.95045391572 || Train AUC: 0.747297470904023 || Test AUC: 0.6698004948890817\n",
            "epoch: 22 || train_loss: 473759.7906447638 || valid_loss: 142550.50393474477 || Train AUC: 0.7488375081517683 || Test AUC: 0.6705672344410575\n",
            "epoch: 23 || train_loss: 472443.1676121211 || valid_loss: 142397.38760053692 || Train AUC: 0.7502729457024856 || Test AUC: 0.6712766640714536\n",
            "epoch: 24 || train_loss: 471215.59613567125 || valid_loss: 142260.3890506372 || Train AUC: 0.7516176326441202 || Test AUC: 0.6719352226720187\n",
            "epoch: 25 || train_loss: 470065.88007602957 || valid_loss: 142137.71587876062 || Train AUC: 0.7528825650324149 || Test AUC: 0.6725466263579049\n",
            "epoch: 26 || train_loss: 468984.555097843 || valid_loss: 142027.87432375312 || Train AUC: 0.7540776433641783 || Test AUC: 0.6731174985023693\n",
            "epoch: 27 || train_loss: 467963.5171069879 || valid_loss: 141929.58578943874 || Train AUC: 0.7552109730215697 || Test AUC: 0.67365143974204\n",
            "epoch: 28 || train_loss: 466995.7383297689 || valid_loss: 141841.72892994955 || Train AUC: 0.7562900389253346 || Test AUC: 0.6741546624765153\n",
            "epoch: 29 || train_loss: 466075.0502331024 || valid_loss: 141763.29960784072 || Train AUC: 0.7573213563142679 || Test AUC: 0.6746271575730476\n"
          ]
        }
      ]
    },
    {
      "cell_type": "markdown",
      "metadata": {
        "id": "m-yLXYyOUXuA"
      },
      "source": [
        "## Step 5. 모의 추천 시스템 구축"
      ]
    },
    {
      "cell_type": "markdown",
      "metadata": {
        "id": "1kmxsj7jS4vV"
      },
      "source": [
        "### 문제 23. 추천 결과 평가 - 특정 시간 기준 유저별 시청 목록 추출 (Train/Test과 동일 기준)"
      ]
    },
    {
      "cell_type": "code",
      "metadata": {
        "id": "ujM6U-G6ESS8"
      },
      "source": [
        "# train 데이터셋에서 유처 시청 목록 추출\n",
        "def get_movie_list_sort_by_time(x):\n",
        "  return x.sort_values(['time'])['movie_id'].tolist()\n",
        "\n",
        "train_user_watch_list = rating_df[rating_df['time'] < 975768738].groupby('user_id')[['movie_id', 'time']].apply(lambda x: get_movie_list_sort_by_time(x))"
      ],
      "execution_count": 87,
      "outputs": []
    },
    {
      "cell_type": "markdown",
      "metadata": {
        "id": "173B_mtnUX7d"
      },
      "source": [
        "### 문제 24. 추천 결과 평가 - Train 데이터 기반 유저별 추천 후보군 생성"
      ]
    },
    {
      "cell_type": "markdown",
      "metadata": {
        "id": "z_3VC8ow5ZCR"
      },
      "source": [
        "#### 1) 최근 시청한 3개 영화의 연관 영화 목록 추출"
      ]
    },
    {
      "cell_type": "code",
      "metadata": {
        "id": "zu4R0ImhDd9i",
        "colab": {
          "base_uri": "https://localhost:8080/",
          "height": 206
        },
        "outputId": "d57ffeb2-bf36-4691-98ee-543998949d06"
      },
      "source": [
        "# train 데이터셋으로만 m2v 모델 학습\n",
        "m2v_train_df = pd.merge(rating_df[rating_df['time'] < 975768738], movie_df, on='movie_id')\n",
        "m2v_train_df.head()\n",
        "# 각 영화 아이디별 연관 영화 추천 목록 리스트"
      ],
      "execution_count": 88,
      "outputs": [
        {
          "output_type": "execute_result",
          "data": {
            "text/html": [
              "<div>\n",
              "<style scoped>\n",
              "    .dataframe tbody tr th:only-of-type {\n",
              "        vertical-align: middle;\n",
              "    }\n",
              "\n",
              "    .dataframe tbody tr th {\n",
              "        vertical-align: top;\n",
              "    }\n",
              "\n",
              "    .dataframe thead th {\n",
              "        text-align: right;\n",
              "    }\n",
              "</style>\n",
              "<table border=\"1\" class=\"dataframe\">\n",
              "  <thead>\n",
              "    <tr style=\"text-align: right;\">\n",
              "      <th></th>\n",
              "      <th>user_id</th>\n",
              "      <th>movie_id</th>\n",
              "      <th>rating</th>\n",
              "      <th>time</th>\n",
              "      <th>mean</th>\n",
              "      <th>count</th>\n",
              "      <th>title</th>\n",
              "      <th>genre</th>\n",
              "      <th>decade</th>\n",
              "      <th>main_genre</th>\n",
              "    </tr>\n",
              "  </thead>\n",
              "  <tbody>\n",
              "    <tr>\n",
              "      <th>0</th>\n",
              "      <td>635</td>\n",
              "      <td>1251</td>\n",
              "      <td>4</td>\n",
              "      <td>975768620</td>\n",
              "      <td>4.105263</td>\n",
              "      <td>228</td>\n",
              "      <td>8 1/2 (1963)</td>\n",
              "      <td>Drama</td>\n",
              "      <td>1960</td>\n",
              "      <td>Drama</td>\n",
              "    </tr>\n",
              "    <tr>\n",
              "      <th>1</th>\n",
              "      <td>673</td>\n",
              "      <td>1251</td>\n",
              "      <td>5</td>\n",
              "      <td>975623211</td>\n",
              "      <td>4.105263</td>\n",
              "      <td>228</td>\n",
              "      <td>8 1/2 (1963)</td>\n",
              "      <td>Drama</td>\n",
              "      <td>1960</td>\n",
              "      <td>Drama</td>\n",
              "    </tr>\n",
              "    <tr>\n",
              "      <th>2</th>\n",
              "      <td>711</td>\n",
              "      <td>1251</td>\n",
              "      <td>5</td>\n",
              "      <td>975621446</td>\n",
              "      <td>4.105263</td>\n",
              "      <td>228</td>\n",
              "      <td>8 1/2 (1963)</td>\n",
              "      <td>Drama</td>\n",
              "      <td>1960</td>\n",
              "      <td>Drama</td>\n",
              "    </tr>\n",
              "    <tr>\n",
              "      <th>3</th>\n",
              "      <td>737</td>\n",
              "      <td>1251</td>\n",
              "      <td>5</td>\n",
              "      <td>975481404</td>\n",
              "      <td>4.105263</td>\n",
              "      <td>228</td>\n",
              "      <td>8 1/2 (1963)</td>\n",
              "      <td>Drama</td>\n",
              "      <td>1960</td>\n",
              "      <td>Drama</td>\n",
              "    </tr>\n",
              "    <tr>\n",
              "      <th>4</th>\n",
              "      <td>829</td>\n",
              "      <td>1251</td>\n",
              "      <td>5</td>\n",
              "      <td>975369343</td>\n",
              "      <td>4.105263</td>\n",
              "      <td>228</td>\n",
              "      <td>8 1/2 (1963)</td>\n",
              "      <td>Drama</td>\n",
              "      <td>1960</td>\n",
              "      <td>Drama</td>\n",
              "    </tr>\n",
              "  </tbody>\n",
              "</table>\n",
              "</div>"
            ],
            "text/plain": [
              "   user_id  movie_id  rating       time  ...         title  genre decade main_genre\n",
              "0      635      1251       4  975768620  ...  8 1/2 (1963)  Drama   1960      Drama\n",
              "1      673      1251       5  975623211  ...  8 1/2 (1963)  Drama   1960      Drama\n",
              "2      711      1251       5  975621446  ...  8 1/2 (1963)  Drama   1960      Drama\n",
              "3      737      1251       5  975481404  ...  8 1/2 (1963)  Drama   1960      Drama\n",
              "4      829      1251       5  975369343  ...  8 1/2 (1963)  Drama   1960      Drama\n",
              "\n",
              "[5 rows x 10 columns]"
            ]
          },
          "metadata": {},
          "execution_count": 88
        }
      ]
    },
    {
      "cell_type": "code",
      "metadata": {
        "id": "xyNOg48JT4HD"
      },
      "source": [
        "movie_meta_dict = m2v_train_df.set_index('movie_id')[['decade', 'main_genre']].to_dict()\n",
        "# 각 영화 별로 연대,장르를 메타 데이터로 한 딕셔너리 생성"
      ],
      "execution_count": 90,
      "outputs": []
    },
    {
      "cell_type": "code",
      "metadata": {
        "id": "niAfdiveU_8r"
      },
      "source": [
        "#movie2vec을 학습할수 있도록 하는 데이터 셋 생성\n",
        "model = Word2Vec(movie2vec_dataset,\n",
        "                 size=100, #100차원\n",
        "                 window=6,  # 주변 word의 윈도우\n",
        "                 sg=1,  # skip-gram OR cbow\n",
        "                 hs=0,  # hierarchical softmax OR negative sampling\n",
        "                 negative=20,  # negative sampling 파라미터\n",
        "                 min_count=1,  # word의 등장 최소 횟수\n",
        "                 iter=20)"
      ],
      "execution_count": 97,
      "outputs": []
    },
    {
      "cell_type": "code",
      "metadata": {
        "id": "j1iVb1-XUVVw"
      },
      "source": [
        "movie2vec_dataset = []\n",
        "for movie_list in train_user_watch_list:\n",
        "  meta_list = []\n",
        "  for movie_id in movie_list:\n",
        "    word_meta_1 = \"movie_id:\" + str(movie_id)\n",
        "    word_meta_2 = \"year:\" + movie_meta_dict['decade'][movie_id]\n",
        "    word_meta_3 = \"genre:\" + movie_meta_dict['main_genre'][movie_id]\n",
        "    meta_list.append(word_meta_1)\n",
        "    meta_list.append(word_meta_2)\n",
        "    meta_list.append(word_meta_3)\n",
        "  movie2vec_dataset.append(meta_list)"
      ],
      "execution_count": 91,
      "outputs": []
    },
    {
      "cell_type": "code",
      "metadata": {
        "id": "lTP0FlCKVrGD"
      },
      "source": [
        ""
      ],
      "execution_count": 91,
      "outputs": []
    },
    {
      "cell_type": "code",
      "metadata": {
        "id": "B4EZnSNgFgh9"
      },
      "source": [
        "#최근 본 영화를 기준으로 movie2vec을 통해 알아낸 유사 영화중 top k개를 뽑아냄\n",
        "def get_recent_movie_list_sort_by_time(x, k):\n",
        "  return x.sort_values(['time'])['movie_id'].tolist()[-k:]\n",
        "\n",
        "recent_user_watch_list = rating_df[rating_df['time'] < 975768738].groupby('user_id')[['movie_id', 'time']].apply(lambda x: get_recent_movie_list_sort_by_time(x, 3))"
      ],
      "execution_count": 92,
      "outputs": []
    },
    {
      "cell_type": "code",
      "metadata": {
        "id": "4mZkXef6HI08"
      },
      "source": [
        "# 영화별 연관 영화 (item2item) k개씩 추출\n",
        "\n",
        "item2item = {}\n",
        "\n",
        "# 영화별 연관 영화 k개씩 추출\n",
        "k = 10\n",
        "not_in_count = 0\n",
        "for movie_id in movie_df['movie_id'].values:\n",
        "  item2item[movie_id] = []\n",
        "  try:\n",
        "    sim_list = model.wv.most_similar(\"movie_id:\" + str(movie_id), topn=k+10)\n",
        "    for movie_tup in sim_list:\n",
        "      tup_info = movie_tup[0].split(\":\")\n",
        "      if (tup_info[0] == \"movie_id\") and (len(item2item[movie_id]) < 10):\n",
        "        item2item[movie_id].append(tup_info[1])\n",
        "  except:\n",
        "    not_in_count += 1\n",
        "    print(\"word\", str(movie_id) ,\"not in vocabulary\")\n"
      ],
      "execution_count": 93,
      "outputs": []
    },
    {
      "cell_type": "code",
      "metadata": {
        "id": "T61ngWjdWen4",
        "colab": {
          "base_uri": "https://localhost:8080/"
        },
        "outputId": "2990aa2f-d15f-4af3-d949-d68a56420a8a"
      },
      "source": [
        "print(\"total:\", not_in_count)"
      ],
      "execution_count": 94,
      "outputs": [
        {
          "output_type": "stream",
          "name": "stdout",
          "text": [
            "total: 0\n"
          ]
        }
      ]
    },
    {
      "cell_type": "code",
      "metadata": {
        "id": "Q5nqjZncWgE7"
      },
      "source": [
        "#각 유저마다 최근 시청한 3개의 영화를 기준으로 영화 하나당 5개씩 similar movie들을 추천해준다\n",
        "def get_similar_items(x, k):\n",
        "  similar_items = []\n",
        "  for movie_id in x:\n",
        "    if movie_id in item2item:\n",
        "      similar_items.append(item2item[movie_id][:k])\n",
        "  return [item for items in similar_items for item in items]\n",
        "\n",
        "recent_watch_similar_items = recent_user_watch_list.apply(lambda x: get_similar_items(x, 5))"
      ],
      "execution_count": 95,
      "outputs": []
    },
    {
      "cell_type": "code",
      "metadata": {
        "id": "X_FU75mZWi1D",
        "colab": {
          "base_uri": "https://localhost:8080/"
        },
        "outputId": "0f693e51-ece1-4266-a136-2ec18f79dc85"
      },
      "source": [
        "recent_watch_similar_items"
      ],
      "execution_count": 96,
      "outputs": [
        {
          "output_type": "execute_result",
          "data": {
            "text/plain": [
              "user_id\n",
              "635     [1454, 1642, 3120, 2295, 2447, 3163, 3006, 308...\n",
              "636     [379, 442, 748, 2393, 435, 1320, 1762, 196, 44...\n",
              "637     [2478, 368, 1379, 2401, 303, 2788, 1080, 1136,...\n",
              "638     [2403, 2989, 2990, 3197, 2376, 1967, 2005, 216...\n",
              "639     [2396, 2959, 3006, 3185, 2692, 3429, 1148, 122...\n",
              "                              ...                        \n",
              "6036    [2448, 519, 3664, 66, 880, 692, 1882, 546, 393...\n",
              "6037    [1375, 2105, 3698, 3704, 2613, 2901, 2554, 255...\n",
              "6038    [1362, 2932, 3201, 3152, 3069, 2395, 3114, 284...\n",
              "6039    [1262, 1254, 2905, 919, 3470, 2186, 2727, 2203...\n",
              "6040    [3754, 3784, 3799, 3615, 3618, 1965, 3814, 117...\n",
              "Length: 5400, dtype: object"
            ]
          },
          "metadata": {},
          "execution_count": 96
        }
      ]
    },
    {
      "cell_type": "markdown",
      "metadata": {
        "id": "3ujTR8-5KiIB"
      },
      "source": [
        "#### 2) 평점 기반 인기 영화"
      ]
    },
    {
      "cell_type": "code",
      "metadata": {
        "id": "TkXcbtCItGF8"
      },
      "source": [
        "# EDA에서 추출한 내용. 평점기반 인기영화도 추출해본다\n",
        "# 평점 높은 상위 10개의 영화 추출\n",
        "mean_ratings = rating_df[rating_df['time'] < 975768738].groupby('movie_id')['rating'].agg(['mean', 'count'])"
      ],
      "execution_count": 99,
      "outputs": []
    },
    {
      "cell_type": "markdown",
      "metadata": {
        "id": "w9Fl6b6UKn8n"
      },
      "source": [
        "#### 3) 장르, 연도별 인기 영화"
      ]
    },
    {
      "cell_type": "code",
      "metadata": {
        "id": "sJLdfNWJKnnr"
      },
      "source": [
        "# 장르&연도를 meta로 하여, meta별 상위 10개의 평점 높은 영화 리스트 추출\n",
        "popular_movie_list = mean_ratings[mean_ratings['count']>10]['mean'].sort_values(ascending=False).index[:10].tolist()"
      ],
      "execution_count": 100,
      "outputs": []
    },
    {
      "cell_type": "code",
      "metadata": {
        "colab": {
          "base_uri": "https://localhost:8080/",
          "height": 206
        },
        "id": "0679eglMth0u",
        "outputId": "98860ec1-d2a8-482c-f1eb-603a5b9a288f"
      },
      "source": [
        "merge_df = pd.merge(mean_ratings, movie_df, on='movie_id')\n",
        "merge_df.head()"
      ],
      "execution_count": 101,
      "outputs": [
        {
          "output_type": "execute_result",
          "data": {
            "text/html": [
              "<div>\n",
              "<style scoped>\n",
              "    .dataframe tbody tr th:only-of-type {\n",
              "        vertical-align: middle;\n",
              "    }\n",
              "\n",
              "    .dataframe tbody tr th {\n",
              "        vertical-align: top;\n",
              "    }\n",
              "\n",
              "    .dataframe thead th {\n",
              "        text-align: right;\n",
              "    }\n",
              "</style>\n",
              "<table border=\"1\" class=\"dataframe\">\n",
              "  <thead>\n",
              "    <tr style=\"text-align: right;\">\n",
              "      <th></th>\n",
              "      <th>movie_id</th>\n",
              "      <th>mean_x</th>\n",
              "      <th>count_x</th>\n",
              "      <th>mean_y</th>\n",
              "      <th>count_y</th>\n",
              "      <th>title</th>\n",
              "      <th>genre</th>\n",
              "      <th>decade</th>\n",
              "      <th>main_genre</th>\n",
              "    </tr>\n",
              "  </thead>\n",
              "  <tbody>\n",
              "    <tr>\n",
              "      <th>0</th>\n",
              "      <td>1</td>\n",
              "      <td>4.145714</td>\n",
              "      <td>1750</td>\n",
              "      <td>4.146846</td>\n",
              "      <td>2077</td>\n",
              "      <td>Toy Story (1995)</td>\n",
              "      <td>Animation|Children's|Comedy</td>\n",
              "      <td>1990</td>\n",
              "      <td>Animation</td>\n",
              "    </tr>\n",
              "    <tr>\n",
              "      <th>1</th>\n",
              "      <td>2</td>\n",
              "      <td>3.197880</td>\n",
              "      <td>566</td>\n",
              "      <td>3.201141</td>\n",
              "      <td>701</td>\n",
              "      <td>Jumanji (1995)</td>\n",
              "      <td>Adventure|Children's|Fantasy</td>\n",
              "      <td>1990</td>\n",
              "      <td>Adventure</td>\n",
              "    </tr>\n",
              "    <tr>\n",
              "      <th>2</th>\n",
              "      <td>3</td>\n",
              "      <td>3.023560</td>\n",
              "      <td>382</td>\n",
              "      <td>3.016736</td>\n",
              "      <td>478</td>\n",
              "      <td>Grumpier Old Men (1995)</td>\n",
              "      <td>Comedy|Romance</td>\n",
              "      <td>1990</td>\n",
              "      <td>Comedy</td>\n",
              "    </tr>\n",
              "    <tr>\n",
              "      <th>3</th>\n",
              "      <td>4</td>\n",
              "      <td>2.701493</td>\n",
              "      <td>134</td>\n",
              "      <td>2.729412</td>\n",
              "      <td>170</td>\n",
              "      <td>Waiting to Exhale (1995)</td>\n",
              "      <td>Comedy|Drama</td>\n",
              "      <td>1990</td>\n",
              "      <td>Comedy</td>\n",
              "    </tr>\n",
              "    <tr>\n",
              "      <th>4</th>\n",
              "      <td>5</td>\n",
              "      <td>2.995781</td>\n",
              "      <td>237</td>\n",
              "      <td>3.006757</td>\n",
              "      <td>296</td>\n",
              "      <td>Father of the Bride Part II (1995)</td>\n",
              "      <td>Comedy</td>\n",
              "      <td>1990</td>\n",
              "      <td>Comedy</td>\n",
              "    </tr>\n",
              "  </tbody>\n",
              "</table>\n",
              "</div>"
            ],
            "text/plain": [
              "   movie_id    mean_x  count_x  ...                         genre  decade main_genre\n",
              "0         1  4.145714     1750  ...   Animation|Children's|Comedy    1990  Animation\n",
              "1         2  3.197880      566  ...  Adventure|Children's|Fantasy    1990  Adventure\n",
              "2         3  3.023560      382  ...                Comedy|Romance    1990     Comedy\n",
              "3         4  2.701493      134  ...                  Comedy|Drama    1990     Comedy\n",
              "4         5  2.995781      237  ...                        Comedy    1990     Comedy\n",
              "\n",
              "[5 rows x 9 columns]"
            ]
          },
          "metadata": {},
          "execution_count": 101
        }
      ]
    },
    {
      "cell_type": "code",
      "metadata": {
        "id": "Rr80_1Yvtjll"
      },
      "source": [
        "# 장르&연도를 meta로 하여, meta별 상위 10개의 평점 높은 영화\n",
        "def get_meta_popular_list(x, k):\n",
        "  movie_id_list = x.sort_values(by=['mean_x'], ascending=False)['movie_id'].tolist()\n",
        "  return movie_id_list[:k]\n",
        "\n",
        "genre_popular = merge_df.groupby('main_genre').apply(lambda x: get_meta_popular_list(x, k=10))\n",
        "year_popular = merge_df.groupby('decade').apply(lambda x: get_meta_popular_list(x, k=10))"
      ],
      "execution_count": 107,
      "outputs": []
    },
    {
      "cell_type": "markdown",
      "metadata": {
        "id": "A1Ys2cgbLWAg"
      },
      "source": [
        "#### 4) 4개 추천 후보군 병합"
      ]
    },
    {
      "cell_type": "code",
      "metadata": {
        "id": "mOccCiAPLaYb",
        "colab": {
          "base_uri": "https://localhost:8080/"
        },
        "outputId": "4eb8cd5e-d94e-4b30-f21e-bf822f1eec1b"
      },
      "source": [
        "# 위에서 추출한 후보군들을 하나로 병합\n",
        "recent_watch_similar_items.apply(lambda x: x.extend(popular_movie_list))"
      ],
      "execution_count": 103,
      "outputs": [
        {
          "output_type": "execute_result",
          "data": {
            "text/plain": [
              "user_id\n",
              "635     None\n",
              "636     None\n",
              "637     None\n",
              "638     None\n",
              "639     None\n",
              "        ... \n",
              "6036    None\n",
              "6037    None\n",
              "6038    None\n",
              "6039    None\n",
              "6040    None\n",
              "Length: 5400, dtype: object"
            ]
          },
          "metadata": {},
          "execution_count": 103
        }
      ]
    },
    {
      "cell_type": "markdown",
      "metadata": {
        "id": "ThXkF9teOzkL"
      },
      "source": [
        "##### 유저별 선호 장르/연도 파악"
      ]
    },
    {
      "cell_type": "code",
      "metadata": {
        "id": "GU_ITvvxPbiM",
        "colab": {
          "base_uri": "https://localhost:8080/"
        },
        "outputId": "063401f1-ea53-499d-8931-ce18ef656266"
      },
      "source": [
        "# 1. 유저별 시청 히스토리를 기준으로 선호하는 장르/연도 지정\n",
        "# 2. 선호하는 장르/연도의 인기 리스트 추출\n",
        "train_user_watch_list"
      ],
      "execution_count": 104,
      "outputs": [
        {
          "output_type": "execute_result",
          "data": {
            "text/plain": [
              "user_id\n",
              "635     [2294, 480, 920, 3614, 1270, 1286, 3528, 3948,...\n",
              "636     [2123, 1721, 110, 1210, 2193, 1197, 2746, 3693...\n",
              "637     [908, 1376, 2792, 2085, 1203, 924, 1019, 965, ...\n",
              "638     [1210, 1978, 2716, 2617, 788, 2555, 2532, 3555...\n",
              "639     [2028, 2944, 1961, 1363, 2634, 1198, 2571, 589...\n",
              "                              ...                        \n",
              "6036    [1721, 2376, 3438, 2428, 1883, 2492, 2827, 268...\n",
              "6037    [1882, 2028, 1267, 702, 3508, 562, 3148, 858, ...\n",
              "6038    [920, 3396, 1210, 2146, 356, 1387, 1079, 1148,...\n",
              "6039    [111, 282, 2067, 930, 1230, 3133, 3022, 947, 3...\n",
              "6040    [858, 2384, 593, 2019, 1961, 573, 3111, 3505, ...\n",
              "Length: 5400, dtype: object"
            ]
          },
          "metadata": {},
          "execution_count": 104
        }
      ]
    },
    {
      "cell_type": "markdown",
      "metadata": {
        "id": "WTCAXtCZSay5"
      },
      "source": [
        "##### 최종 병합"
      ]
    },
    {
      "cell_type": "code",
      "metadata": {
        "id": "nE6su4uuvLa9"
      },
      "source": [
        "movie_dict = merge_df[['movie_id', 'decade', 'main_genre']].to_dict()"
      ],
      "execution_count": 108,
      "outputs": []
    },
    {
      "cell_type": "code",
      "metadata": {
        "id": "_dQRCaGauIla"
      },
      "source": [
        "from collections import Counter \n",
        "\n",
        "def most_frequent(x): #기준별로 시청된 횟수를 카운트 한다\n",
        "    occurence_count = Counter(x) \n",
        "    return occurence_count.most_common(1)[0][0] \n",
        "\n",
        "def get_items_by_prefer_meta(x):\n",
        "  year_list = []\n",
        "  genre_list = []\n",
        "  for movie_id in x: #movie dictionary의 정보들을 가지고 \n",
        "    if movie_id in movie_dict['decade']:\n",
        "      year_list.append(movie_dict['decade'][movie_id])\n",
        "    if movie_id in movie_dict['main_genre']:\n",
        "      genre_list.append(movie_dict['main_genre'][movie_id])\n",
        "    #가장 많이 시청된 영화의 연대, 장르들을 골라낸다\n",
        "  prefer_year = most_frequent(year_list)\n",
        "  prefer_genre = most_frequent(genre_list)\n",
        "  return year_popular[prefer_year] + genre_popular[prefer_genre]\n",
        "\n",
        "#여러요소들에대한 시청 횟수에 대한 결과를 담는다\n",
        "items_by_prefer_meta = train_user_watch_list.apply(lambda x: get_items_by_prefer_meta(x)) "
      ],
      "execution_count": 112,
      "outputs": []
    },
    {
      "cell_type": "code",
      "metadata": {
        "id": "vyU2AW0HuLJk"
      },
      "source": [
        ""
      ],
      "execution_count": 115,
      "outputs": []
    },
    {
      "cell_type": "code",
      "metadata": {
        "colab": {
          "base_uri": "https://localhost:8080/"
        },
        "id": "MpNP2v3iuNSC",
        "outputId": "c68bd45f-a182-4dc6-f2d3-0e64abe32702"
      },
      "source": [
        "items_by_prefer_meta.sample(10) #연도,장르,선호도등을 기반으로 각 유저별로 넣는다 -> 비슷한 양상을 띄는게 많을수 있다"
      ],
      "execution_count": 116,
      "outputs": [
        {
          "output_type": "execute_result",
          "data": {
            "text/plain": [
              "user_id\n",
              "838     [989, 1471, 2964, 1830, 787, 53, 1664, 2503, 2...\n",
              "1080    [989, 1471, 2964, 1830, 787, 53, 1664, 2503, 2...\n",
              "2569    [989, 1471, 2964, 1830, 787, 53, 1664, 2503, 2...\n",
              "1290    [989, 1471, 2964, 1830, 787, 53, 1664, 2503, 2...\n",
              "2864    [989, 1471, 2964, 1830, 787, 53, 1664, 2503, 2...\n",
              "4389    [989, 1471, 2964, 1830, 787, 53, 1664, 2503, 2...\n",
              "5848    [989, 1471, 2964, 1830, 787, 53, 1664, 2503, 2...\n",
              "4590    [989, 1471, 2964, 1830, 787, 53, 1664, 2503, 2...\n",
              "2548    [989, 1471, 2964, 1830, 787, 53, 1664, 2503, 2...\n",
              "5889    [989, 1471, 2964, 1830, 787, 53, 1664, 2503, 2...\n",
              "dtype: object"
            ]
          },
          "metadata": {},
          "execution_count": 116
        }
      ]
    },
    {
      "cell_type": "code",
      "metadata": {
        "id": "4xhfeqZYu3-y"
      },
      "source": [
        "#최종 병합\n",
        "merged_candidates = recent_watch_similar_items + items_by_prefer_meta"
      ],
      "execution_count": 118,
      "outputs": []
    },
    {
      "cell_type": "code",
      "metadata": {
        "id": "yfcfclkFuPdq"
      },
      "source": [
        "recommendations = merged_candidates.apply(lambda x: set(x)) #중복되는 영화 아이디를 빼줌"
      ],
      "execution_count": 119,
      "outputs": []
    },
    {
      "cell_type": "code",
      "metadata": {
        "colab": {
          "base_uri": "https://localhost:8080/"
        },
        "id": "LyROG7xyu6TF",
        "outputId": "66b5493a-43ed-42a0-9c24-9751ad2c6582"
      },
      "source": [
        "recommendations"
      ],
      "execution_count": 120,
      "outputs": [
        {
          "output_type": "execute_result",
          "data": {
            "text/plain": [
              "user_id\n",
              "635     {1664, 3006, 2444, 527, 787, 2964, 922, 1178, ...\n",
              "636     {1664, 379, 2444, 196, 527, 787, 2964, 435, 92...\n",
              "637     {1664, 2444, 527, 2478, 787, 2964, 922, 1178, ...\n",
              "638     {1664, 2005, 2444, 2376, 653, 527, 787, 2964, ...\n",
              "639     {1664, 3006, 2444, 527, 86, 787, 2964, 745, 12...\n",
              "                              ...                        \n",
              "6036    {1664, 880, 3664, 2444, 527, 787, 2964, 922, 1...\n",
              "6037    {1664, 2444, 196, 527, 2498, 787, 2964, 922, 1...\n",
              "6038    {1664, 2841, 1362, 3114, 2444, 2395, 527, 787,...\n",
              "6039    {1664, 1303, 2203, 919, 2444, 527, 787, 2964, ...\n",
              "6040    {1664, 2444, 527, 3799, 3461, 3296, 1148, 2964...\n",
              "Length: 5400, dtype: object"
            ]
          },
          "metadata": {},
          "execution_count": 120
        }
      ]
    },
    {
      "cell_type": "markdown",
      "metadata": {
        "id": "qvQbBlxeS9wD"
      },
      "source": [
        "### 문제 25. 추천 결과 평가 - 랭킹 모델로 추천 후보군 K개 정렬"
      ]
    },
    {
      "cell_type": "markdown",
      "metadata": {
        "id": "423FEDAmW0di"
      },
      "source": [
        "#### predict 가능한 포맷으로 변경\n",
        "- ex) [[array([31, 55, 66, 77]), array([1, 1, 1, 1])]]"
      ]
    },
    {
      "cell_type": "code",
      "metadata": {
        "id": "Y0nfEYKwjwtw",
        "colab": {
          "base_uri": "https://localhost:8080/",
          "height": 206
        },
        "outputId": "bc77e849-eab6-4768-84ac-0e7ca3d2e77e"
      },
      "source": [
        "movie_df['decade'] = movie_df['decade'].apply(lambda x: year_index[x])\n",
        "movie_df['main_genre'] = movie_df['main_genre'].apply(lambda x: genre_index[x])\n",
        "movie_df = movie_df[['movie_id', 'decade', 'main_genre']]\n",
        "movie_df.head()"
      ],
      "execution_count": 122,
      "outputs": [
        {
          "output_type": "execute_result",
          "data": {
            "text/html": [
              "<div>\n",
              "<style scoped>\n",
              "    .dataframe tbody tr th:only-of-type {\n",
              "        vertical-align: middle;\n",
              "    }\n",
              "\n",
              "    .dataframe tbody tr th {\n",
              "        vertical-align: top;\n",
              "    }\n",
              "\n",
              "    .dataframe thead th {\n",
              "        text-align: right;\n",
              "    }\n",
              "</style>\n",
              "<table border=\"1\" class=\"dataframe\">\n",
              "  <thead>\n",
              "    <tr style=\"text-align: right;\">\n",
              "      <th></th>\n",
              "      <th>movie_id</th>\n",
              "      <th>decade</th>\n",
              "      <th>main_genre</th>\n",
              "    </tr>\n",
              "  </thead>\n",
              "  <tbody>\n",
              "    <tr>\n",
              "      <th>0</th>\n",
              "      <td>1</td>\n",
              "      <td>1</td>\n",
              "      <td>1</td>\n",
              "    </tr>\n",
              "    <tr>\n",
              "      <th>1</th>\n",
              "      <td>2</td>\n",
              "      <td>1</td>\n",
              "      <td>2</td>\n",
              "    </tr>\n",
              "    <tr>\n",
              "      <th>2</th>\n",
              "      <td>3</td>\n",
              "      <td>1</td>\n",
              "      <td>3</td>\n",
              "    </tr>\n",
              "    <tr>\n",
              "      <th>3</th>\n",
              "      <td>4</td>\n",
              "      <td>1</td>\n",
              "      <td>3</td>\n",
              "    </tr>\n",
              "    <tr>\n",
              "      <th>4</th>\n",
              "      <td>5</td>\n",
              "      <td>1</td>\n",
              "      <td>3</td>\n",
              "    </tr>\n",
              "  </tbody>\n",
              "</table>\n",
              "</div>"
            ],
            "text/plain": [
              "   movie_id  decade  main_genre\n",
              "0         1       1           1\n",
              "1         2       1           2\n",
              "2         3       1           3\n",
              "3         4       1           3\n",
              "4         5       1           3"
            ]
          },
          "metadata": {},
          "execution_count": 122
        }
      ]
    },
    {
      "cell_type": "code",
      "metadata": {
        "id": "ddjlIbvYgWaf",
        "colab": {
          "base_uri": "https://localhost:8080/",
          "height": 206
        },
        "outputId": "f61eedad-d065-4c71-8aaa-b19675d1e6b6"
      },
      "source": [
        "user_df['gender'] = user_df['gender'].apply(lambda x: gender_index[x])\n",
        "user_df['occupation'] = user_df['occupation'].apply(lambda x: occupation_index[x])\n",
        "user_df['age_bucket'] = user_df['age_bucket'].apply(lambda x: age_index[x])\n",
        "user_df = user_df[['user_id', 'gender', 'age_bucket', 'occupation']]\n",
        "user_df.head()"
      ],
      "execution_count": 123,
      "outputs": [
        {
          "output_type": "execute_result",
          "data": {
            "text/html": [
              "<div>\n",
              "<style scoped>\n",
              "    .dataframe tbody tr th:only-of-type {\n",
              "        vertical-align: middle;\n",
              "    }\n",
              "\n",
              "    .dataframe tbody tr th {\n",
              "        vertical-align: top;\n",
              "    }\n",
              "\n",
              "    .dataframe thead th {\n",
              "        text-align: right;\n",
              "    }\n",
              "</style>\n",
              "<table border=\"1\" class=\"dataframe\">\n",
              "  <thead>\n",
              "    <tr style=\"text-align: right;\">\n",
              "      <th></th>\n",
              "      <th>user_id</th>\n",
              "      <th>gender</th>\n",
              "      <th>age_bucket</th>\n",
              "      <th>occupation</th>\n",
              "    </tr>\n",
              "  </thead>\n",
              "  <tbody>\n",
              "    <tr>\n",
              "      <th>0</th>\n",
              "      <td>1</td>\n",
              "      <td>1</td>\n",
              "      <td>1</td>\n",
              "      <td>1</td>\n",
              "    </tr>\n",
              "    <tr>\n",
              "      <th>1</th>\n",
              "      <td>2</td>\n",
              "      <td>2</td>\n",
              "      <td>2</td>\n",
              "      <td>2</td>\n",
              "    </tr>\n",
              "    <tr>\n",
              "      <th>2</th>\n",
              "      <td>3</td>\n",
              "      <td>2</td>\n",
              "      <td>3</td>\n",
              "      <td>3</td>\n",
              "    </tr>\n",
              "    <tr>\n",
              "      <th>3</th>\n",
              "      <td>4</td>\n",
              "      <td>2</td>\n",
              "      <td>4</td>\n",
              "      <td>4</td>\n",
              "    </tr>\n",
              "    <tr>\n",
              "      <th>4</th>\n",
              "      <td>5</td>\n",
              "      <td>2</td>\n",
              "      <td>3</td>\n",
              "      <td>5</td>\n",
              "    </tr>\n",
              "  </tbody>\n",
              "</table>\n",
              "</div>"
            ],
            "text/plain": [
              "   user_id  gender  age_bucket  occupation\n",
              "0        1       1           1           1\n",
              "1        2       2           2           2\n",
              "2        3       2           3           3\n",
              "3        4       2           4           4\n",
              "4        5       2           3           5"
            ]
          },
          "metadata": {},
          "execution_count": 123
        }
      ]
    },
    {
      "cell_type": "code",
      "metadata": {
        "id": "xa5mb4WjgWdT",
        "colab": {
          "base_uri": "https://localhost:8080/",
          "height": 54
        },
        "outputId": "86871fee-2d62-4402-c598-20ce4fca4b42"
      },
      "source": [
        "movie_index_dict = movie_df.set_index('movie_id')[['decade', 'main_genre']].to_dict()\n",
        "str(movie_index_dict)[:300]"
      ],
      "execution_count": 124,
      "outputs": [
        {
          "output_type": "execute_result",
          "data": {
            "application/vnd.google.colaboratory.intrinsic+json": {
              "type": "string"
            },
            "text/plain": [
              "\"{'decade': {1: 1, 2: 1, 3: 1, 4: 1, 5: 1, 6: 1, 7: 1, 8: 1, 9: 1, 10: 1, 11: 1, 12: 1, 13: 1, 14: 1, 15: 1, 16: 1, 17: 1, 18: 1, 19: 1, 20: 1, 21: 1, 22: 1, 23: 1, 24: 1, 25: 1, 26: 1, 27: 1, 28: 1, 29: 1, 30: 1, 31: 1, 32: 1, 33: 1, 34: 1, 35: 1, 36: 1, 37: 1, 38: 1, 39: 1, 40: 1, 41: 1, 42: 1, 43:\""
            ]
          },
          "metadata": {},
          "execution_count": 124
        }
      ]
    },
    {
      "cell_type": "code",
      "metadata": {
        "colab": {
          "base_uri": "https://localhost:8080/",
          "height": 54
        },
        "id": "pOTkTZ1-xEuZ",
        "outputId": "69f62deb-1e3c-446d-f178-391c16d57f3d"
      },
      "source": [
        "user_index_dict = user_df.set_index('user_id')[['gender', 'age_bucket', 'occupation']].to_dict()\n",
        "str(user_index_dict)[:300]"
      ],
      "execution_count": 125,
      "outputs": [
        {
          "output_type": "execute_result",
          "data": {
            "application/vnd.google.colaboratory.intrinsic+json": {
              "type": "string"
            },
            "text/plain": [
              "\"{'gender': {1: 1, 2: 2, 3: 2, 4: 2, 5: 2, 6: 1, 7: 2, 8: 2, 9: 2, 10: 1, 11: 1, 12: 2, 13: 2, 14: 2, 15: 2, 16: 1, 17: 2, 18: 1, 19: 2, 20: 2, 21: 2, 22: 2, 23: 2, 24: 1, 25: 2, 26: 2, 27: 2, 28: 1, 29: 2, 30: 1, 31: 2, 32: 1, 33: 2, 34: 1, 35: 2, 36: 2, 37: 1, 38: 1, 39: 2, 40: 2, 41: 1, 42: 2, 43:\""
            ]
          },
          "metadata": {},
          "execution_count": 125
        }
      ]
    },
    {
      "cell_type": "code",
      "metadata": {
        "id": "9WCeKDNzxHW_"
      },
      "source": [
        "txt_file = open('train.txt', 'w')\n",
        "for idx, row in train_df.iterrows():\n",
        "  vec = []\n",
        "  label = row['y']\n",
        "  vec.append(str(label))\n",
        "  row = row.drop(labels=['rating'])\n",
        "  row = row.drop(labels=['y'])\n",
        "  for key, value in row.items():\n",
        "    col_idx = col_accum_index_dict[key] + value - 1\n",
        "    vec.append(str(col_idx) + \":\" + str(1))\n",
        "  txt_file.write(\"%s\\n\" % \" \".join(vec))\n",
        "txt_file.close()"
      ],
      "execution_count": 126,
      "outputs": []
    },
    {
      "cell_type": "code",
      "metadata": {
        "colab": {
          "base_uri": "https://localhost:8080/"
        },
        "id": "NFhCxZEKxHrq",
        "outputId": "a44bd222-a66a-4af5-c397-2b1eba2a3ed4"
      },
      "source": [
        "col_accum_index_dict"
      ],
      "execution_count": 127,
      "outputs": [
        {
          "output_type": "execute_result",
          "data": {
            "text/plain": [
              "{'age_bucket': 9113,\n",
              " 'decade': 9062,\n",
              " 'gender': 9090,\n",
              " 'main_genre': 9072,\n",
              " 'movie_id': 5400,\n",
              " 'occupation': 9092,\n",
              " 'user_id': 0}"
            ]
          },
          "metadata": {},
          "execution_count": 127
        }
      ]
    },
    {
      "cell_type": "code",
      "metadata": {
        "id": "tEjmm5AmxIb2"
      },
      "source": [
        "def make_libsvm_row(uid, mid):\n",
        "  row = []\n",
        "  user_id = str(col_accum_index_dict['user_id'] + uid - 1) + \":\" + str(1)\n",
        "  gender = str(col_accum_index_dict['gender'] + user_index_dict['gender'][uid] - 1) + \":\" + str(1)\n",
        "  age_bucket = str(col_accum_index_dict['age_bucket'] + user_index_dict['age_bucket'][uid] - 1) + \":\" + str(1)\n",
        "  occupation = str(col_accum_index_dict['occupation'] + user_index_dict['occupation'][uid] - 1) + \":\" + str(1)\n",
        "  movie_id = str(col_accum_index_dict['movie_id'] + int(mid) - 1) + \":\" + str(1)\n",
        "  released_year_area = str(col_accum_index_dict['decade'] + movie_index_dict['decade'][int(mid)] - 1) + \":\" + str(1)\n",
        "  main_genre = str(col_accum_index_dict['main_genre'] + movie_index_dict['main_genre'][int(mid)] - 1) + \":\" + str(1)\n",
        "  return \" \".join([user_id, gender, age_bucket, occupation, movie_id, released_year_area, main_genre])\n",
        "\n",
        "# make vector list\n",
        "vector_list = []\n",
        "uid_mid_list = []\n",
        "for uid, movie_set in recommendations.iteritems():\n",
        "  for mid in movie_set:\n",
        "    x_feature = []\n",
        "    libsvm_row = make_libsvm_row(uid, mid)\n",
        "    element = libsvm_row.split(\" \")\n",
        "    vector_list.append([np.array([int(pair.split(\":\")[0]) for pair in element]), np.array([int(pair.split(\":\")[1]) for pair in element])])\n",
        "    uid_mid_list.append((uid, mid))"
      ],
      "execution_count": 130,
      "outputs": []
    },
    {
      "cell_type": "code",
      "metadata": {
        "colab": {
          "base_uri": "https://localhost:8080/"
        },
        "id": "RLwyV84qxMzo",
        "outputId": "41a73e5d-5449-4850-a904-cabf7b1e1d23"
      },
      "source": [
        "vector_list[0]"
      ],
      "execution_count": 131,
      "outputs": [
        {
          "output_type": "execute_result",
          "data": {
            "text/plain": [
              "[array([ 634, 9091, 9114, 9100, 7063, 9062, 9076]),\n",
              " array([1, 1, 1, 1, 1, 1, 1])]"
            ]
          },
          "metadata": {},
          "execution_count": 131
        }
      ]
    },
    {
      "cell_type": "code",
      "metadata": {
        "colab": {
          "base_uri": "https://localhost:8080/"
        },
        "id": "XoAaDARWxOc_",
        "outputId": "964f4200-e861-49c7-f8a8-cc908aac2bbd"
      },
      "source": [
        "uid_mid_list[0]"
      ],
      "execution_count": 132,
      "outputs": [
        {
          "output_type": "execute_result",
          "data": {
            "text/plain": [
              "(635, 1664)"
            ]
          },
          "metadata": {},
          "execution_count": 132
        }
      ]
    },
    {
      "cell_type": "code",
      "metadata": {
        "id": "Z8ayHbSNxQei"
      },
      "source": [
        "predict_results = fm.predict(vector_list)"
      ],
      "execution_count": 133,
      "outputs": []
    },
    {
      "cell_type": "code",
      "metadata": {
        "colab": {
          "base_uri": "https://localhost:8080/"
        },
        "id": "1XtN_stYxRSl",
        "outputId": "9d0275d3-cbed-4e83-c8f0-805b13d3d183"
      },
      "source": [
        "predict_results"
      ],
      "execution_count": 134,
      "outputs": [
        {
          "output_type": "execute_result",
          "data": {
            "text/plain": [
              "array([0.81244344, 0.96589237, 0.79277376, ..., 0.54846691, 0.98691733,\n",
              "       0.88929929])"
            ]
          },
          "metadata": {},
          "execution_count": 134
        }
      ]
    },
    {
      "cell_type": "markdown",
      "metadata": {
        "id": "sE39eppIfIwv"
      },
      "source": [
        "#### 후보군 정렬"
      ]
    },
    {
      "cell_type": "code",
      "metadata": {
        "id": "jNl8FX_hfPq4"
      },
      "source": [
        "# 유저별 추천 후보군 재정렬\n",
        "# ex. \n",
        "# {635: {1664: 0.49089334810703084, 3498: 0.7017178066091346, 2444: 0.3960630484760756...}, ...}\n",
        "# -> {userid: {movieid: score...}...}\n",
        "user_recommendation_dict = {}\n",
        "for watch_prob, uid_mid in zip(predict_results, uid_mid_list):\n",
        "  uid, mid = int(uid_mid[0]), int(uid_mid[1])\n",
        "  if uid not in user_recommendation_dict:\n",
        "    user_recommendation_dict[uid] = {}\n",
        "    user_recommendation_dict[uid][mid] = watch_prob\n",
        "  else:\n",
        "    if mid not in user_recommendation_dict[uid]:\n",
        "      user_recommendation_dict[uid][mid] = watch_prob"
      ],
      "execution_count": 135,
      "outputs": []
    },
    {
      "cell_type": "code",
      "metadata": {
        "id": "LsDmD9kriLsy",
        "colab": {
          "base_uri": "https://localhost:8080/",
          "height": 127
        },
        "outputId": "0f0f5866-dcec-4a0f-bac8-69337bdf9127"
      },
      "source": [
        "str(user_recommendation_dict)[:2000]"
      ],
      "execution_count": 136,
      "outputs": [
        {
          "output_type": "execute_result",
          "data": {
            "application/vnd.google.colaboratory.intrinsic+json": {
              "type": "string"
            },
            "text/plain": [
              "'{635: {1664: 0.8124434358126789, 3006: 0.9658923684880096, 2444: 0.7927737592319747, 527: 0.9574901136366264, 787: 0.7619118017611191, 2964: 0.8634441519791617, 922: 0.9593927920398702, 1178: 0.9609865924101019, 3078: 0.23651440836320733, 2866: 0.6657850042045262, 1830: 0.6115475064122469, 2447: 0.5930040655546439, 3498: 0.5932459637437434, 3194: 0.8747205930033994, 3183: 0.9833882293472034, 3163: 0.8666415893193411, 50: 0.9087548725793889, 53: 0.5902491862569519, 3382: 0.29768729434729824, 318: 0.9660868482904349, 1471: 0.96728027022164, 3522: 0.9729200361228407, 2503: 0.938576090800318, 1454: 0.9906318824825354, 3120: 0.262651813798276, 3083: 0.9413262924254915, 2905: 0.9908853556820313, 858: 0.9489101341675915, 989: 0.7934339722696444, 2019: 0.9777634119339319, 745: 0.9523106088317743, 2295: 0.8144081089467761, 2930: 0.9901762711038998, 3135: 0.8796348662103188, 1161: 0.9120457332927573, 1148: 0.9618620724772866, 1642: 0.4801636927644762}, 636: {1664: 0.781824465705036, 379: 0.2205265154457351, 2444: 0.832621245493402, 196: 0.36796006267010734, 527: 0.9749148479001897, 787: 0.8908255760352973, 2964: 0.7982361667829528, 435: 0.39624320899506044, 922: 0.8983370276783508, 1178: 0.9857620569240505, 1762: 0.13687562676517157, 3326: 0.2521160469300559, 1830: 0.9238981988708785, 50: 0.8131481384925766, 53: 0.7996067754420607, 3382: 0.4658137470236561, 1320: 0.5112182404251988, 318: 0.9585367171113672, 3324: 0.26808270308411414, 1471: 0.9342889478232498, 3522: 0.9908260212034861, 2503: 0.6224151079947172, 442: 0.37789219688112474, 3051: 0.3164125676580681, 2889: 0.5433286194190731, 2905: 0.9483962754077456, 858: 0.9465905332640947, 748: 0.4452170756326092, 989: 0.9734525169803201, 512: 0.613479338249092, 2019: 0.9878463941561124, 2393: 0.6248442213430027, 745: 0.9533965450751891, 2930: 0.3375002291807406, 3180: 0.2613939804270757, 1148: 0.9744405962656583}, 637: {1664: 0.36905813078846883, 2444: 0.6758527175290973, 527: 0.9318237151312837, 2478: 0.43751225705481944, 787:'"
            ]
          },
          "metadata": {},
          "execution_count": 136
        }
      ]
    },
    {
      "cell_type": "markdown",
      "metadata": {
        "id": "SHPb32edTELY"
      },
      "source": [
        "## Step 6. 추천 결과 평가"
      ]
    },
    {
      "cell_type": "markdown",
      "metadata": {
        "id": "uGheYASLTGT8"
      },
      "source": [
        "### 문제 26. 추천 결과 평가 - 추천 후보군과 Test 데이터간의 MAP@K 계산"
      ]
    },
    {
      "cell_type": "code",
      "metadata": {
        "id": "ESaTx28EwRpW"
      },
      "source": [
        "# 4점 이상을 준 test 시청 리스트 추출하여 MAP 계산\n",
        "# 이게 train_df\n",
        "user_actual_watch_list = rating_df[(rating_df['time'] < 975768738) & (rating_df['rating'] >= 4)].groupby('user_id')['movie_id'].apply(lambda x: x.tolist())"
      ],
      "execution_count": 137,
      "outputs": []
    },
    {
      "cell_type": "code",
      "metadata": {
        "id": "jHERzxFe3UCh"
      },
      "source": [
        "# 유저 635번의 추천 후보군중 탑 10개\n",
        "estimated_list = user_recommendation_dict[635].copy()\n",
        "sorted_list = sorted(estimated_list.items(), key=lambda t : t[1], reverse=True)\n",
        "top_k_list = [tup[0] for tup in sorted_list][:10]"
      ],
      "execution_count": 138,
      "outputs": []
    },
    {
      "cell_type": "code",
      "metadata": {
        "colab": {
          "base_uri": "https://localhost:8080/"
        },
        "id": "p-dJmwXg3VrL",
        "outputId": "a34cc931-ae0a-4d45-b9cf-9daaa6878d07"
      },
      "source": [
        "user_metric = []\n",
        "\n",
        "# 유저별 k개의 선호 리스트 추출\n",
        "k = 3\n",
        "for user in user_recommendation_dict:\n",
        "  try:\n",
        "    estimated_list = user_recommendation_dict[user].copy()\n",
        "    sorted_list = sorted(estimated_list.items(), key=lambda t : t[1], reverse=True)\n",
        "    top_k_list = [tup[0] for tup in sorted_list][:k]\n",
        "    user_metric.append((user, top_k_list, user_actual_watch_list[user]))\n",
        "  except:\n",
        "    print(\"list index out of range, exclude user \" + str(user))"
      ],
      "execution_count": 139,
      "outputs": [
        {
          "output_type": "stream",
          "name": "stdout",
          "text": [
            "list index out of range, exclude user 1160\n",
            "list index out of range, exclude user 3598\n",
            "list index out of range, exclude user 4467\n",
            "list index out of range, exclude user 4486\n"
          ]
        }
      ]
    },
    {
      "cell_type": "code",
      "metadata": {
        "id": "2f-5bsT-3WrB"
      },
      "source": [
        "def get_map(user_list):\n",
        "  precision_list = []\n",
        "  for user in user_list:\n",
        "    predictive_values = user[1]\n",
        "    actual_values = set(user[2])\n",
        "    tp = [pv for pv in predictive_values if pv in actual_values]\n",
        "    precision = len(tp) / len(predictive_values)\n",
        "    precision_list.append(precision)\n",
        "  return sum(precision_list) / len(precision_list)"
      ],
      "execution_count": 140,
      "outputs": []
    },
    {
      "cell_type": "code",
      "metadata": {
        "colab": {
          "base_uri": "https://localhost:8080/"
        },
        "id": "IcvETdEG3YWb",
        "outputId": "5a4cbe50-79d1-4b15-de84-75650e35cbb2"
      },
      "source": [
        "get_map(user_metric)"
      ],
      "execution_count": 141,
      "outputs": [
        {
          "output_type": "execute_result",
          "data": {
            "text/plain": [
              "0.04503335804299495"
            ]
          },
          "metadata": {},
          "execution_count": 141
        }
      ]
    },
    {
      "cell_type": "code",
      "metadata": {
        "id": "5yiqthk03ZhC"
      },
      "source": [
        "def get_map_topk(k):\n",
        "  user_metric = []\n",
        "  for user in user_recommendation_dict:\n",
        "    try:\n",
        "      estimated_list = user_recommendation_dict[user].copy()\n",
        "      sorted_list = sorted(estimated_list.items(), key=lambda t : t[1], reverse=True)\n",
        "      top_k_list = [tup[0] for tup in sorted_list][:k]\n",
        "      user_metric.append((user, top_k_list, user_actual_watch_list[user]))\n",
        "    except:\n",
        "      print(\"list index out of range, exclude user \" + str(user))\n",
        "  \n",
        "  precision_list = []\n",
        "  for user in user_metric:\n",
        "    predictive_values = user[1]\n",
        "    actual_values = set(user[2])\n",
        "    tp = [pv for pv in predictive_values if pv in actual_values]\n",
        "    precision = len(tp) / len(predictive_values)\n",
        "    precision_list.append(precision)\n",
        "  return sum(precision_list) / len(precision_list)"
      ],
      "execution_count": 142,
      "outputs": []
    },
    {
      "cell_type": "code",
      "metadata": {
        "colab": {
          "base_uri": "https://localhost:8080/"
        },
        "id": "3VJfFDru3aoK",
        "outputId": "5aeff5af-9bc7-4877-986a-92119261bbcb"
      },
      "source": [
        "k_param_list = range(1,30)\n",
        "map_list = []\n",
        "for k in k_param_list:    \n",
        "  map_list.append(get_map_topk(k))"
      ],
      "execution_count": 143,
      "outputs": [
        {
          "output_type": "stream",
          "name": "stdout",
          "text": [
            "list index out of range, exclude user 1160\n",
            "list index out of range, exclude user 3598\n",
            "list index out of range, exclude user 4467\n",
            "list index out of range, exclude user 4486\n",
            "list index out of range, exclude user 1160\n",
            "list index out of range, exclude user 3598\n",
            "list index out of range, exclude user 4467\n",
            "list index out of range, exclude user 4486\n",
            "list index out of range, exclude user 1160\n",
            "list index out of range, exclude user 3598\n",
            "list index out of range, exclude user 4467\n",
            "list index out of range, exclude user 4486\n",
            "list index out of range, exclude user 1160\n",
            "list index out of range, exclude user 3598\n",
            "list index out of range, exclude user 4467\n",
            "list index out of range, exclude user 4486\n",
            "list index out of range, exclude user 1160\n",
            "list index out of range, exclude user 3598\n",
            "list index out of range, exclude user 4467\n",
            "list index out of range, exclude user 4486\n",
            "list index out of range, exclude user 1160\n",
            "list index out of range, exclude user 3598\n",
            "list index out of range, exclude user 4467\n",
            "list index out of range, exclude user 4486\n",
            "list index out of range, exclude user 1160\n",
            "list index out of range, exclude user 3598\n",
            "list index out of range, exclude user 4467\n",
            "list index out of range, exclude user 4486\n",
            "list index out of range, exclude user 1160\n",
            "list index out of range, exclude user 3598\n",
            "list index out of range, exclude user 4467\n",
            "list index out of range, exclude user 4486\n",
            "list index out of range, exclude user 1160\n",
            "list index out of range, exclude user 3598\n",
            "list index out of range, exclude user 4467\n",
            "list index out of range, exclude user 4486\n",
            "list index out of range, exclude user 1160\n",
            "list index out of range, exclude user 3598\n",
            "list index out of range, exclude user 4467\n",
            "list index out of range, exclude user 4486\n",
            "list index out of range, exclude user 1160\n",
            "list index out of range, exclude user 3598\n",
            "list index out of range, exclude user 4467\n",
            "list index out of range, exclude user 4486\n",
            "list index out of range, exclude user 1160\n",
            "list index out of range, exclude user 3598\n",
            "list index out of range, exclude user 4467\n",
            "list index out of range, exclude user 4486\n",
            "list index out of range, exclude user 1160\n",
            "list index out of range, exclude user 3598\n",
            "list index out of range, exclude user 4467\n",
            "list index out of range, exclude user 4486\n",
            "list index out of range, exclude user 1160\n",
            "list index out of range, exclude user 3598\n",
            "list index out of range, exclude user 4467\n",
            "list index out of range, exclude user 4486\n",
            "list index out of range, exclude user 1160\n",
            "list index out of range, exclude user 3598\n",
            "list index out of range, exclude user 4467\n",
            "list index out of range, exclude user 4486\n",
            "list index out of range, exclude user 1160\n",
            "list index out of range, exclude user 3598\n",
            "list index out of range, exclude user 4467\n",
            "list index out of range, exclude user 4486\n",
            "list index out of range, exclude user 1160\n",
            "list index out of range, exclude user 3598\n",
            "list index out of range, exclude user 4467\n",
            "list index out of range, exclude user 4486\n",
            "list index out of range, exclude user 1160\n",
            "list index out of range, exclude user 3598\n",
            "list index out of range, exclude user 4467\n",
            "list index out of range, exclude user 4486\n",
            "list index out of range, exclude user 1160\n",
            "list index out of range, exclude user 3598\n",
            "list index out of range, exclude user 4467\n",
            "list index out of range, exclude user 4486\n",
            "list index out of range, exclude user 1160\n",
            "list index out of range, exclude user 3598\n",
            "list index out of range, exclude user 4467\n",
            "list index out of range, exclude user 4486\n",
            "list index out of range, exclude user 1160\n",
            "list index out of range, exclude user 3598\n",
            "list index out of range, exclude user 4467\n",
            "list index out of range, exclude user 4486\n",
            "list index out of range, exclude user 1160\n",
            "list index out of range, exclude user 3598\n",
            "list index out of range, exclude user 4467\n",
            "list index out of range, exclude user 4486\n",
            "list index out of range, exclude user 1160\n",
            "list index out of range, exclude user 3598\n",
            "list index out of range, exclude user 4467\n",
            "list index out of range, exclude user 4486\n",
            "list index out of range, exclude user 1160\n",
            "list index out of range, exclude user 3598\n",
            "list index out of range, exclude user 4467\n",
            "list index out of range, exclude user 4486\n",
            "list index out of range, exclude user 1160\n",
            "list index out of range, exclude user 3598\n",
            "list index out of range, exclude user 4467\n",
            "list index out of range, exclude user 4486\n",
            "list index out of range, exclude user 1160\n",
            "list index out of range, exclude user 3598\n",
            "list index out of range, exclude user 4467\n",
            "list index out of range, exclude user 4486\n",
            "list index out of range, exclude user 1160\n",
            "list index out of range, exclude user 3598\n",
            "list index out of range, exclude user 4467\n",
            "list index out of range, exclude user 4486\n",
            "list index out of range, exclude user 1160\n",
            "list index out of range, exclude user 3598\n",
            "list index out of range, exclude user 4467\n",
            "list index out of range, exclude user 4486\n",
            "list index out of range, exclude user 1160\n",
            "list index out of range, exclude user 3598\n",
            "list index out of range, exclude user 4467\n",
            "list index out of range, exclude user 4486\n"
          ]
        }
      ]
    },
    {
      "cell_type": "code",
      "metadata": {
        "id": "2GJ8e-4f3bu2"
      },
      "source": [
        ""
      ],
      "execution_count": 143,
      "outputs": []
    },
    {
      "cell_type": "code",
      "metadata": {
        "id": "O8Ujbvnt8Twn"
      },
      "source": [
        "# 아래 그래프처럼 map@k 시각화"
      ],
      "execution_count": 144,
      "outputs": []
    },
    {
      "cell_type": "code",
      "metadata": {
        "id": "WmI2tVRxyohC",
        "colab": {
          "base_uri": "https://localhost:8080/",
          "height": 298
        },
        "outputId": "3b7fcdb1-fc34-4c9d-d591-a7d7d971823a"
      },
      "source": [
        "import matplotlib.pyplot as plt\n",
        "plt.plot(k_param_list, map_list)\n",
        "plt.title('MAP by top k recommendation')\n",
        "plt.ylabel('MAP', fontsize=12)\n",
        "plt.xlabel('k', fontsize=12)\n",
        "plt.show()\n",
        "#상위 15개정도까지 추천해주는게 좋은것 같다\n",
        "#15개정도 추천햇을때 10개중 하나는 맞춘다"
      ],
      "execution_count": 147,
      "outputs": [
        {
          "output_type": "display_data",
          "data": {
            "image/png": "[encoded data removed]",
            "text/plain": [
              "<Figure size 432x288 with 1 Axes>"
            ]
          },
          "metadata": {
            "needs_background": "light"
          }
        }
      ]
    },
    {
      "cell_type": "code",
      "metadata": {
        "id": "pvkDFN3o3jQO"
      },
      "source": [
        ""
      ],
      "execution_count": null,
      "outputs": []
    }
  ]
}