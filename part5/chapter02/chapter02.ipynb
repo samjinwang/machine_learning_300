{
  "nbformat": 4,
  "nbformat_minor": 0,
  "metadata": {
    "colab": {
      "name": "[실습] Chapter 02_Embedding _ Ranking 기반 영화 추천 모델.ipynb",
      "provenance": [],
      "collapsed_sections": []
    },
    "kernelspec": {
      "display_name": "Python 3",
      "language": "python",
      "name": "python3"
    },
    "language_info": {
      "codemirror_mode": {
        "name": "ipython",
        "version": 3
      },
      "file_extension": ".py",
      "mimetype": "text/x-python",
      "name": "python",
      "nbconvert_exporter": "python",
      "pygments_lexer": "ipython3",
      "version": "3.7.7"
    }
  },
  "cells": [
    {
      "cell_type": "markdown",
      "metadata": {
        "id": "NqqLNJZjfi8U"
      },
      "source": [
        "# 주제 : 추천 시스템 - 영화 데이터셋과 Embedding & Ranking 알고리즘으로 추천시스템 만들기\n",
        "----------\n",
        "\n",
        "## 실습 가이드\n",
        "    1. 데이터를 다운로드하여 Colab에 불러옵니다.\n",
        "    2. 필요한 라이브러리는 모두 코드로 작성되어 있습니다.\n",
        "    3. 코드는 위에서부터 아래로 순서대로 실행합니다.\n",
        "    4. 전체 문제 구성은 좌측 첫 번째 아이콘을 통해 확인할 수 있습니다.\n",
        "    \n",
        "    \n",
        "## 데이터 소개\n",
        "    - 이번 주제도 마찬가지로 MovieLens Dataset을 사용합니다.\n",
        "    - 같은 데이터라도 상황과 데이터의 크기에 따라 다양한 추천 방법을 활용할 수 있어야 합니다.\n",
        "    - 파일은 세 개 이며, 각각의 컬럼은 아래와 같습니다.\n",
        "    \n",
        "    1. ratings.dat\n",
        "    user_id : 영화를 시청한 사용자 아이디\n",
        "    movie_id : 영화의 아이디\n",
        "    rating : 사용자가 영화를 평가한 점수\n",
        "    time : 사용자가 영화를 시청한 시간\n",
        "    \n",
        "    2. movies.dat\n",
        "    movie_id : 영화의 아이디\n",
        "    title : 영화 제목\n",
        "    genre : 영화 장르\n",
        "\n",
        "    3. users.dat\n",
        "    user_id : 사용자 아이디\n",
        "    gender : 사용자 성별\n",
        "    age : 사용자 나이\n",
        "    occupation : 사용자 직업코드\n",
        "    zipcode : 사용자 거주코드\n",
        "\n",
        "    \n",
        "- 데이터 출처: https://grouplens.org/datasets/movielens/\n",
        "\n",
        "\n",
        "## 최종 목표\n",
        "    - Large-Scale 에서 적용 가능한 추천시스템 구조 이해\n",
        "    - Word2Vec 기반의 임베딩 모델 이해\n",
        "    - EDA로 수행할 수 있는 다양한 인사이트 활용\n",
        "    - Point-wise 모델링에 대한 이해\n",
        "    - Factorization Machine 알고리즘에 대한 이해\n",
        "    - ML에 활용할 수 있는 데이터 변환 능력 습득\n",
        "    - 모델의 추천 결과를 평가하는 방법에 대한 연습\n",
        "\n",
        "- 출제자 : 윤기태 강사\n",
        "---"
      ]
    },
    {
      "cell_type": "markdown",
      "metadata": {
        "id": "z3ImE3b9W1bu"
      },
      "source": [
        "## Step 1. Word2Vec 알고리즘 기반 추천 후보군 생성"
      ]
    },
    {
      "cell_type": "markdown",
      "metadata": {
        "id": "80IuPq2yozGm"
      },
      "source": [
        "#### Rating Matrix 기반 추천시스템의 한계\n",
        "\n",
        "    [Memory Based Recommendations]\n",
        "    1. 만약 유저, 영화의 수가 3000이 아니라 3천만 개 라면?\n",
        "    2. Matrix의 크기는 30,000,000 X 30,000,000\n",
        "    3. 연산량 자체도 문제가 되지만, Extreme Sparse 벡터가 되면서 정확도 역시 현저하게 떨어지게 됨\n",
        "    4. 차원축소, ALS 등의 방법으로 어느정도 극복할 수 있지만, 근본적인 해결책이 되지는 못함\n",
        "\n",
        "- Recommendation in Large Scale System\n",
        "  - Architecture\n",
        "  ![recsys_architecture](https://img1.daumcdn.net/thumb/R1280x0/?scode=mtistory2&fname=https%3A%2F%2Fblog.kakaocdn.net%2Fdn%2F30pCp%2Fbtqv7PV6365%2FCkl5dwvSoQF3RdneCIzGr1%2Fimg.png)\n",
        "  - 데이터 수집과 처리 단계를 제외하면, 추천시스템은 다음과 같은 레이어로 구분되는 추세\n",
        "    - `Generate Candidates` : 수백, 수천만개의 Item 중, 후보가 될 만한 Item을 추출. 여기에 CF 등의 방법을 사용할 수도 있지만, 일반적으로는 연산량이 작은 여러 개의 전략(시나리오)들을 합쳐서 coverage 자체를 확보하는 역할을 함. 예를 들면 인기도가 높은 Item, 연관성이 높은 Item 등을 별개의 전략으로 추출하는 것.\n",
        "    - `Intention Predict` : User의 Context에 기반하여 Candidates를 한 번 더 좁혀주는 역할. 반드시 필요한 단계는 아니며, Candidates를 추렸음에도 여전히 Large Scale 문제를 가지고 있는 경우에 필터링의 역할로 사용할 수 있음.\n",
        "    - `Personalized Ranking` : 일반적으로 추천시스템에서 추천이 잘 되었는지를 평가하는 지표는 CTR, CVR 같은 지표. 이 지표들을 Maximize 할 수 있는 방법으로 개인화 모델을 학습. 일반적인 Classifier를 생각해도 무방하며, 학습 데이터셋을 잘 구축하는 것이 좋은 추천 랭킹모델을 만드는 것.\n",
        "\n",
        "![recsys_architecture2](https://img1.daumcdn.net/thumb/R1280x0/?scode=mtistory2&fname=https%3A%2F%2Fblog.kakaocdn.net%2Fdn%2FUsbKo%2Fbtqv7PBN46z%2Fd4m5pf7lrKs1CqxzkROY81%2Fimg.png)\n",
        "\n",
        "\n",
        "-----"
      ]
    },
    {
      "cell_type": "markdown",
      "metadata": {
        "id": "fP3kOoWly9U4"
      },
      "source": [
        "#### Word2Vec 기반의 Movie2Vec 만들기\n",
        "\n",
        "    [Word2Vec]\n",
        "    1. 임베딩(Embedding) 방법론 중 가장 대중적이고 성능이 좋은 방법\n",
        "    2. 같은 문장 내, 혹은 비슷한 위치에 등장하는 단어들은 유사한 의미를 가지고 있을 것이라는 가정.\n",
        "    3. 원래는 단어를 벡터로 표현하는 방법으로 고안되었지만, word2vec의 메커니즘을 다양하게 활용할 수 있음\n",
        "    4. Word2Vec은 중심 단어와 주변 단어와의 연관성을 학습하여 벡터로 표현함.\n",
        "      - 예시 문장 : \"역시 성공은 고난을 동반 말없이 등산을 등반하는 것처럼\"\n",
        "      - 만약 \"성공\"이라는 단어를 중심 단어로 활용한다면, [역시, _, 고난을, 동반] 이러한 주변 단어를 가지고 중심에 있는 단어의 벡터를 학습할 수 있게 됨. (Skip-gram 방식. CBOW는 반대)\n",
        "\n",
        "![skipgram](http://i.imgur.com/TupGxMl.png)\n",
        "\n",
        "    [학습 원리]\n",
        "    1. 단어셋의 크기를 dim으로 하는 input/output 벡터를 활용하여 softmax classification\n",
        "    2. 따라서 아래 함수를 최소화 하는 것을 목표로 하는 network를 학습하게 됨\n",
        "\n",
        "![function](https://raw.githubusercontent.com/yoonkt200/FastCampusDataset/master/images/function.png)\n",
        "\n",
        "    [벡터 표현]\n",
        "    1. 학습된 네트워크의 hidden layer (projection layer)에 단어의 벡터가 표현됨\n",
        "    2. 이를 lookup 이라고 함\n",
        "\n",
        "![lookup](https://raw.githubusercontent.com/yoonkt200/FastCampusDataset/master/images/lookup.png)\n",
        "\n",
        "-----\n",
        "\n",
        "    [영화의 벡터 표현]\n",
        "    1. word2vec 방법에서 word를 item으로 치환하면, item2vec으로 활용할 수 있음 (많은 추천시스템에서 활용하는 방법)\n",
        "    2. 단, 이 방법은 데이터의 meta-data가 하나의 축으로 이루어진 단어에서와 달리, 영화처럼 multi-axis meta-data를 가진 데이터에서는 완전한 표현이라고 볼 수 없음 (ex. 장르, 감독 등등의 정보)\n",
        "    3. 또한 item2vec 메커니즘을 추천시스템에 활용하면 필연적으로 cold-start 문제가 발생할 수 있음\n",
        "    4. `Cold-start Problem` : 새로운 유저나 새로운 아이템을 대상으로 추천하게 될 때, 기존 학습모델에서는 등장한 적 없는 데이터이기 때문에 추천 대상으로 포함되기 어려운 현상\n",
        "    5. 임베딩 기반 추천에서 cold-start를 극복하는 방법은 여러가지가 있지만, 그 중에서 가장 적용하기 간단하면서도 중요한 개념을 담고 있는 meta-prod2vec을 활용\n",
        "    6. 자세한 내용 : https://arxiv.org/pdf/1607.07326.pdf\n",
        "\n",
        "![meta-prod2vec](https://image.slidesharecdn.com/metaprod2vec-161007133531/95/metaprod2vec-simple-product-embeddings-with-sideinformation-36-638.jpg?cb=1475847427)"
      ]
    },
    {
      "cell_type": "markdown",
      "metadata": {
        "id": "OxCZryRrfi8Y"
      },
      "source": [
        "### 문제 1. 데이터 불러오기"
      ]
    },
    {
      "cell_type": "code",
      "metadata": {
        "id": "anUepBeJfi8V"
      },
      "source": [
        "import pandas as pd\n",
        "\n",
        "rating_url = 'https://raw.githubusercontent.com/yoonkt200/python-data-analysis/master/data/ml-1m/ratings.dat'\n",
        "rating_df = pd.io.parsers.read_csv(rating_url, names=['user_id', 'movie_id', 'rating', 'time'], delimiter='::', engine ='python')\n",
        "\n",
        "movie_url = 'https://raw.githubusercontent.com/yoonkt200/python-data-analysis/master/data/ml-1m/movies.dat'\n",
        "movie_df = pd.io.parsers.read_csv(movie_url, names=['movie_id', 'title', 'genre'], delimiter='::', engine ='python', encoding='ISO-8859-1')\n",
        "\n",
        "user_url = 'https://raw.githubusercontent.com/yoonkt200/python-data-analysis/master/data/ml-1m/users.dat'\n",
        "user_df = pd.io.parsers.read_csv(user_url, names=['user_id', 'gender', 'age', 'occupation', 'zipcode'], delimiter='::', engine ='python')"
      ],
      "execution_count": 1,
      "outputs": []
    },
    {
      "cell_type": "markdown",
      "metadata": {
        "id": "O6EUoRG3fi8Z"
      },
      "source": [
        "### 문제 2. EDA & 전처리 - 사용자별 시청 목록 추출"
      ]
    },
    {
      "cell_type": "code",
      "metadata": {
        "id": "q_thuiGNlQ0e"
      },
      "source": [
        "# groupby, apply 함수로 사용자별 시청 목록 추출\n",
        "def get_recent_movie_list_sort_by_time(x):\n",
        "  return x.sort_values(['time'])['movie_id'].tolist() #시청 시간별로 사용자별 시청목록 추출\n",
        "\n",
        "user_watch_list = rating_df.groupby('user_id')[['movie_id','time']].apply(lambda x: get_recent_movie_list_sort_by_time(x))"
      ],
      "execution_count": 2,
      "outputs": []
    },
    {
      "cell_type": "code",
      "metadata": {
        "colab": {
          "base_uri": "https://localhost:8080/"
        },
        "id": "CzMwlyeBNO4Y",
        "outputId": "46988974-e41e-46b5-986e-081f7b2a891d"
      },
      "source": [
        "user_watch_list"
      ],
      "execution_count": 3,
      "outputs": [
        {
          "output_type": "execute_result",
          "data": {
            "text/plain": [
              "user_id\n",
              "1       [3186, 1721, 1022, 1270, 2340, 1836, 3408, 120...\n",
              "2       [1198, 1217, 1210, 2717, 1293, 2943, 1225, 119...\n",
              "3       [593, 2858, 3534, 1968, 1961, 1431, 1266, 1378...\n",
              "4       [1210, 1097, 3468, 3527, 480, 260, 1196, 1198,...\n",
              "5       [2717, 919, 908, 356, 1250, 2188, 2858, 1127, ...\n",
              "                              ...                        \n",
              "6036    [1721, 2376, 3438, 2428, 1883, 2492, 2827, 268...\n",
              "6037    [1882, 2028, 1267, 702, 3508, 562, 3148, 858, ...\n",
              "6038    [920, 3396, 1210, 2146, 356, 1387, 1079, 1148,...\n",
              "6039    [111, 282, 2067, 930, 1230, 3133, 3022, 947, 3...\n",
              "6040    [858, 2384, 593, 1961, 2019, 573, 3111, 3505, ...\n",
              "Length: 6040, dtype: object"
            ]
          },
          "metadata": {},
          "execution_count": 3
        }
      ]
    },
    {
      "cell_type": "code",
      "metadata": {
        "colab": {
          "base_uri": "https://localhost:8080/"
        },
        "id": "s0Qfmy0iNTKh",
        "outputId": "1fc35f03-fbba-4f1c-db79-42361b9fd6e5"
      },
      "source": [
        "rating_df['movie_id'].value_counts()"
      ],
      "execution_count": 4,
      "outputs": [
        {
          "output_type": "execute_result",
          "data": {
            "text/plain": [
              "2858    3428\n",
              "260     2991\n",
              "1196    2990\n",
              "1210    2883\n",
              "480     2672\n",
              "        ... \n",
              "3323       1\n",
              "624        1\n",
              "763        1\n",
              "2484       1\n",
              "133        1\n",
              "Name: movie_id, Length: 3706, dtype: int64"
            ]
          },
          "metadata": {},
          "execution_count": 4
        }
      ]
    },
    {
      "cell_type": "code",
      "metadata": {
        "colab": {
          "base_uri": "https://localhost:8080/",
          "height": 283
        },
        "id": "rhPtLzj2NbH6",
        "outputId": "abb253ed-ffa3-4b40-eb71-c95e3275aefb"
      },
      "source": [
        "rating_df['movie_id'].value_counts().hist(bins = 100)"
      ],
      "execution_count": 5,
      "outputs": [
        {
          "output_type": "execute_result",
          "data": {
            "text/plain": [
              "<matplotlib.axes._subplots.AxesSubplot at 0x7f91e81d11d0>"
            ]
          },
          "metadata": {},
          "execution_count": 5
        },
        {
          "output_type": "display_data",
          "data": {
            "image/png": "[encoded data removed]",
            "text/plain": [
              "<Figure size 432x288 with 1 Axes>"
            ]
          },
          "metadata": {
            "needs_background": "light"
          }
        }
      ]
    },
    {
      "cell_type": "markdown",
      "metadata": {
        "id": "VMdnS_mJfi8i"
      },
      "source": [
        "### 문제 3. EDA & 전처리 - 영화 개봉년도 피쳐 생성"
      ]
    },
    {
      "cell_type": "code",
      "metadata": {
        "colab": {
          "base_uri": "https://localhost:8080/",
          "height": 206
        },
        "id": "_IWsz3v1fi8g",
        "outputId": "93dcba5e-1108-42fc-dc5c-386795f0828f"
      },
      "source": [
        "movie_df.head()"
      ],
      "execution_count": 6,
      "outputs": [
        {
          "output_type": "execute_result",
          "data": {
            "text/html": [
              "<div>\n",
              "<style scoped>\n",
              "    .dataframe tbody tr th:only-of-type {\n",
              "        vertical-align: middle;\n",
              "    }\n",
              "\n",
              "    .dataframe tbody tr th {\n",
              "        vertical-align: top;\n",
              "    }\n",
              "\n",
              "    .dataframe thead th {\n",
              "        text-align: right;\n",
              "    }\n",
              "</style>\n",
              "<table border=\"1\" class=\"dataframe\">\n",
              "  <thead>\n",
              "    <tr style=\"text-align: right;\">\n",
              "      <th></th>\n",
              "      <th>movie_id</th>\n",
              "      <th>title</th>\n",
              "      <th>genre</th>\n",
              "    </tr>\n",
              "  </thead>\n",
              "  <tbody>\n",
              "    <tr>\n",
              "      <th>0</th>\n",
              "      <td>1</td>\n",
              "      <td>Toy Story (1995)</td>\n",
              "      <td>Animation|Children's|Comedy</td>\n",
              "    </tr>\n",
              "    <tr>\n",
              "      <th>1</th>\n",
              "      <td>2</td>\n",
              "      <td>Jumanji (1995)</td>\n",
              "      <td>Adventure|Children's|Fantasy</td>\n",
              "    </tr>\n",
              "    <tr>\n",
              "      <th>2</th>\n",
              "      <td>3</td>\n",
              "      <td>Grumpier Old Men (1995)</td>\n",
              "      <td>Comedy|Romance</td>\n",
              "    </tr>\n",
              "    <tr>\n",
              "      <th>3</th>\n",
              "      <td>4</td>\n",
              "      <td>Waiting to Exhale (1995)</td>\n",
              "      <td>Comedy|Drama</td>\n",
              "    </tr>\n",
              "    <tr>\n",
              "      <th>4</th>\n",
              "      <td>5</td>\n",
              "      <td>Father of the Bride Part II (1995)</td>\n",
              "      <td>Comedy</td>\n",
              "    </tr>\n",
              "  </tbody>\n",
              "</table>\n",
              "</div>"
            ],
            "text/plain": [
              "   movie_id                               title                         genre\n",
              "0         1                    Toy Story (1995)   Animation|Children's|Comedy\n",
              "1         2                      Jumanji (1995)  Adventure|Children's|Fantasy\n",
              "2         3             Grumpier Old Men (1995)                Comedy|Romance\n",
              "3         4            Waiting to Exhale (1995)                  Comedy|Drama\n",
              "4         5  Father of the Bride Part II (1995)                        Comedy"
            ]
          },
          "metadata": {},
          "execution_count": 6
        }
      ]
    },
    {
      "cell_type": "code",
      "metadata": {
        "id": "XZkIJUvWqraa"
      },
      "source": [
        "# title 피처에서 개봉 년도 (ex. 1990, 2000...) 분리\n",
        "movie_df['decade'] = movie_df['title'].apply(lambda x : x[-5:-2] + '0')"
      ],
      "execution_count": 7,
      "outputs": []
    },
    {
      "cell_type": "code",
      "metadata": {
        "colab": {
          "base_uri": "https://localhost:8080/",
          "height": 206
        },
        "id": "kpiOrdaeNxip",
        "outputId": "9d2fa763-4e21-4120-b4b0-2712087f0e55"
      },
      "source": [
        "movie_df.head()"
      ],
      "execution_count": 8,
      "outputs": [
        {
          "output_type": "execute_result",
          "data": {
            "text/html": [
              "<div>\n",
              "<style scoped>\n",
              "    .dataframe tbody tr th:only-of-type {\n",
              "        vertical-align: middle;\n",
              "    }\n",
              "\n",
              "    .dataframe tbody tr th {\n",
              "        vertical-align: top;\n",
              "    }\n",
              "\n",
              "    .dataframe thead th {\n",
              "        text-align: right;\n",
              "    }\n",
              "</style>\n",
              "<table border=\"1\" class=\"dataframe\">\n",
              "  <thead>\n",
              "    <tr style=\"text-align: right;\">\n",
              "      <th></th>\n",
              "      <th>movie_id</th>\n",
              "      <th>title</th>\n",
              "      <th>genre</th>\n",
              "      <th>decade</th>\n",
              "    </tr>\n",
              "  </thead>\n",
              "  <tbody>\n",
              "    <tr>\n",
              "      <th>0</th>\n",
              "      <td>1</td>\n",
              "      <td>Toy Story (1995)</td>\n",
              "      <td>Animation|Children's|Comedy</td>\n",
              "      <td>1990</td>\n",
              "    </tr>\n",
              "    <tr>\n",
              "      <th>1</th>\n",
              "      <td>2</td>\n",
              "      <td>Jumanji (1995)</td>\n",
              "      <td>Adventure|Children's|Fantasy</td>\n",
              "      <td>1990</td>\n",
              "    </tr>\n",
              "    <tr>\n",
              "      <th>2</th>\n",
              "      <td>3</td>\n",
              "      <td>Grumpier Old Men (1995)</td>\n",
              "      <td>Comedy|Romance</td>\n",
              "      <td>1990</td>\n",
              "    </tr>\n",
              "    <tr>\n",
              "      <th>3</th>\n",
              "      <td>4</td>\n",
              "      <td>Waiting to Exhale (1995)</td>\n",
              "      <td>Comedy|Drama</td>\n",
              "      <td>1990</td>\n",
              "    </tr>\n",
              "    <tr>\n",
              "      <th>4</th>\n",
              "      <td>5</td>\n",
              "      <td>Father of the Bride Part II (1995)</td>\n",
              "      <td>Comedy</td>\n",
              "      <td>1990</td>\n",
              "    </tr>\n",
              "  </tbody>\n",
              "</table>\n",
              "</div>"
            ],
            "text/plain": [
              "   movie_id  ... decade\n",
              "0         1  ...   1990\n",
              "1         2  ...   1990\n",
              "2         3  ...   1990\n",
              "3         4  ...   1990\n",
              "4         5  ...   1990\n",
              "\n",
              "[5 rows x 4 columns]"
            ]
          },
          "metadata": {},
          "execution_count": 8
        }
      ]
    },
    {
      "cell_type": "code",
      "metadata": {
        "id": "2Os1pLHsPJY_"
      },
      "source": [
        ""
      ],
      "execution_count": 8,
      "outputs": []
    },
    {
      "cell_type": "code",
      "metadata": {
        "id": "gOi0_th5smr8"
      },
      "source": [
        "import seaborn as sns\n",
        "\n",
        "# sns.barplot으로 개봉 년도별 영화 갯수 시각화\n",
        "released_year_area = movie_df['decade'].value_counts().sort_index()"
      ],
      "execution_count": 9,
      "outputs": []
    },
    {
      "cell_type": "code",
      "metadata": {
        "colab": {
          "base_uri": "https://localhost:8080/",
          "height": 339
        },
        "id": "GR_t9VaZWsUM",
        "outputId": "e2c84401-d63e-4e0f-c18e-8b1d074ed6bc"
      },
      "source": [
        "sns.barplot(released_year_area.index, released_year_area.values)"
      ],
      "execution_count": 10,
      "outputs": [
        {
          "output_type": "stream",
          "name": "stderr",
          "text": [
            "/usr/local/lib/python3.7/dist-packages/seaborn/_decorators.py:43: FutureWarning: Pass the following variables as keyword args: x, y. From version 0.12, the only valid positional argument will be `data`, and passing other arguments without an explicit keyword will result in an error or misinterpretation.\n",
            "  FutureWarning\n"
          ]
        },
        {
          "output_type": "execute_result",
          "data": {
            "text/plain": [
              "<matplotlib.axes._subplots.AxesSubplot at 0x7f91d4246e10>"
            ]
          },
          "metadata": {},
          "execution_count": 10
        },
        {
          "output_type": "display_data",
          "data": {
            "image/png": "[encoded data removed]",
            "text/plain": [
              "<Figure size 432x288 with 1 Axes>"
            ]
          },
          "metadata": {
            "needs_background": "light"
          }
        }
      ]
    },
    {
      "cell_type": "markdown",
      "metadata": {
        "id": "kU-ADcR81zRo"
      },
      "source": [
        "### 문제 4. EDA & 전처리 - 영화 장르 피쳐 생성"
      ]
    },
    {
      "cell_type": "code",
      "metadata": {
        "colab": {
          "base_uri": "https://localhost:8080/"
        },
        "id": "DcLGYDO6134D",
        "outputId": "5b33fa07-85b5-47e0-e544-9756f955fed3"
      },
      "source": [
        "movie_df['genre'].value_counts()"
      ],
      "execution_count": 11,
      "outputs": [
        {
          "output_type": "execute_result",
          "data": {
            "text/plain": [
              "Drama                                  843\n",
              "Comedy                                 521\n",
              "Horror                                 178\n",
              "Comedy|Drama                           162\n",
              "Comedy|Romance                         142\n",
              "                                      ... \n",
              "Action|Adventure|Animation               1\n",
              "Action|Adventure|Crime|Drama             1\n",
              "Adventure|Musical                        1\n",
              "Action|Crime|Mystery                     1\n",
              "Action|Comedy|Crime|Horror|Thriller      1\n",
              "Name: genre, Length: 301, dtype: int64"
            ]
          },
          "metadata": {},
          "execution_count": 11
        }
      ]
    },
    {
      "cell_type": "code",
      "metadata": {
        "colab": {
          "base_uri": "https://localhost:8080/",
          "height": 283
        },
        "id": "WLanYnuGXFnc",
        "outputId": "0288030a-463f-4a17-f1c2-438022f2725f"
      },
      "source": [
        "movie_df['genre'].value_counts().hist(bins = 100)"
      ],
      "execution_count": 12,
      "outputs": [
        {
          "output_type": "execute_result",
          "data": {
            "text/plain": [
              "<matplotlib.axes._subplots.AxesSubplot at 0x7f91d418f810>"
            ]
          },
          "metadata": {},
          "execution_count": 12
        },
        {
          "output_type": "display_data",
          "data": {
            "image/png": "[encoded data removed]",
            "text/plain": [
              "<Figure size 432x288 with 1 Axes>"
            ]
          },
          "metadata": {
            "needs_background": "light"
          }
        }
      ]
    },
    {
      "cell_type": "code",
      "metadata": {
        "id": "8_A_F15zuTgo"
      },
      "source": [
        "# genre 피처에서 영화의 대표 장르 추출\n",
        "movie_df['main_genre'] = movie_df['genre'].apply(lambda x: x.split('|')[0])"
      ],
      "execution_count": 13,
      "outputs": []
    },
    {
      "cell_type": "code",
      "metadata": {
        "colab": {
          "base_uri": "https://localhost:8080/",
          "height": 423
        },
        "id": "Sfk21FGxcc_P",
        "outputId": "6d7f7168-3158-4568-906f-1015923d0b43"
      },
      "source": [
        "movie_df"
      ],
      "execution_count": 14,
      "outputs": [
        {
          "output_type": "execute_result",
          "data": {
            "text/html": [
              "<div>\n",
              "<style scoped>\n",
              "    .dataframe tbody tr th:only-of-type {\n",
              "        vertical-align: middle;\n",
              "    }\n",
              "\n",
              "    .dataframe tbody tr th {\n",
              "        vertical-align: top;\n",
              "    }\n",
              "\n",
              "    .dataframe thead th {\n",
              "        text-align: right;\n",
              "    }\n",
              "</style>\n",
              "<table border=\"1\" class=\"dataframe\">\n",
              "  <thead>\n",
              "    <tr style=\"text-align: right;\">\n",
              "      <th></th>\n",
              "      <th>movie_id</th>\n",
              "      <th>title</th>\n",
              "      <th>genre</th>\n",
              "      <th>decade</th>\n",
              "      <th>main_genre</th>\n",
              "    </tr>\n",
              "  </thead>\n",
              "  <tbody>\n",
              "    <tr>\n",
              "      <th>0</th>\n",
              "      <td>1</td>\n",
              "      <td>Toy Story (1995)</td>\n",
              "      <td>Animation|Children's|Comedy</td>\n",
              "      <td>1990</td>\n",
              "      <td>Animation</td>\n",
              "    </tr>\n",
              "    <tr>\n",
              "      <th>1</th>\n",
              "      <td>2</td>\n",
              "      <td>Jumanji (1995)</td>\n",
              "      <td>Adventure|Children's|Fantasy</td>\n",
              "      <td>1990</td>\n",
              "      <td>Adventure</td>\n",
              "    </tr>\n",
              "    <tr>\n",
              "      <th>2</th>\n",
              "      <td>3</td>\n",
              "      <td>Grumpier Old Men (1995)</td>\n",
              "      <td>Comedy|Romance</td>\n",
              "      <td>1990</td>\n",
              "      <td>Comedy</td>\n",
              "    </tr>\n",
              "    <tr>\n",
              "      <th>3</th>\n",
              "      <td>4</td>\n",
              "      <td>Waiting to Exhale (1995)</td>\n",
              "      <td>Comedy|Drama</td>\n",
              "      <td>1990</td>\n",
              "      <td>Comedy</td>\n",
              "    </tr>\n",
              "    <tr>\n",
              "      <th>4</th>\n",
              "      <td>5</td>\n",
              "      <td>Father of the Bride Part II (1995)</td>\n",
              "      <td>Comedy</td>\n",
              "      <td>1990</td>\n",
              "      <td>Comedy</td>\n",
              "    </tr>\n",
              "    <tr>\n",
              "      <th>...</th>\n",
              "      <td>...</td>\n",
              "      <td>...</td>\n",
              "      <td>...</td>\n",
              "      <td>...</td>\n",
              "      <td>...</td>\n",
              "    </tr>\n",
              "    <tr>\n",
              "      <th>3878</th>\n",
              "      <td>3948</td>\n",
              "      <td>Meet the Parents (2000)</td>\n",
              "      <td>Comedy</td>\n",
              "      <td>2000</td>\n",
              "      <td>Comedy</td>\n",
              "    </tr>\n",
              "    <tr>\n",
              "      <th>3879</th>\n",
              "      <td>3949</td>\n",
              "      <td>Requiem for a Dream (2000)</td>\n",
              "      <td>Drama</td>\n",
              "      <td>2000</td>\n",
              "      <td>Drama</td>\n",
              "    </tr>\n",
              "    <tr>\n",
              "      <th>3880</th>\n",
              "      <td>3950</td>\n",
              "      <td>Tigerland (2000)</td>\n",
              "      <td>Drama</td>\n",
              "      <td>2000</td>\n",
              "      <td>Drama</td>\n",
              "    </tr>\n",
              "    <tr>\n",
              "      <th>3881</th>\n",
              "      <td>3951</td>\n",
              "      <td>Two Family House (2000)</td>\n",
              "      <td>Drama</td>\n",
              "      <td>2000</td>\n",
              "      <td>Drama</td>\n",
              "    </tr>\n",
              "    <tr>\n",
              "      <th>3882</th>\n",
              "      <td>3952</td>\n",
              "      <td>Contender, The (2000)</td>\n",
              "      <td>Drama|Thriller</td>\n",
              "      <td>2000</td>\n",
              "      <td>Drama</td>\n",
              "    </tr>\n",
              "  </tbody>\n",
              "</table>\n",
              "<p>3883 rows × 5 columns</p>\n",
              "</div>"
            ],
            "text/plain": [
              "      movie_id                               title  ... decade main_genre\n",
              "0            1                    Toy Story (1995)  ...   1990  Animation\n",
              "1            2                      Jumanji (1995)  ...   1990  Adventure\n",
              "2            3             Grumpier Old Men (1995)  ...   1990     Comedy\n",
              "3            4            Waiting to Exhale (1995)  ...   1990     Comedy\n",
              "4            5  Father of the Bride Part II (1995)  ...   1990     Comedy\n",
              "...        ...                                 ...  ...    ...        ...\n",
              "3878      3948             Meet the Parents (2000)  ...   2000     Comedy\n",
              "3879      3949          Requiem for a Dream (2000)  ...   2000      Drama\n",
              "3880      3950                    Tigerland (2000)  ...   2000      Drama\n",
              "3881      3951             Two Family House (2000)  ...   2000      Drama\n",
              "3882      3952               Contender, The (2000)  ...   2000      Drama\n",
              "\n",
              "[3883 rows x 5 columns]"
            ]
          },
          "metadata": {},
          "execution_count": 14
        }
      ]
    },
    {
      "cell_type": "code",
      "metadata": {
        "id": "vufDlDEeub0A",
        "colab": {
          "base_uri": "https://localhost:8080/"
        },
        "outputId": "31c31c78-12cb-462e-a0d5-f0f5adfe4302"
      },
      "source": [
        "movie_df['main_genre'].value_counts()"
      ],
      "execution_count": 15,
      "outputs": [
        {
          "output_type": "execute_result",
          "data": {
            "text/plain": [
              "Drama          1176\n",
              "Comedy         1024\n",
              "Action          503\n",
              "Horror          262\n",
              "Adventure       155\n",
              "Crime           131\n",
              "Documentary     123\n",
              "Thriller        101\n",
              "Animation        90\n",
              "Children's       89\n",
              "Romance          50\n",
              "Sci-Fi           46\n",
              "Mystery          36\n",
              "Western          33\n",
              "Musical          25\n",
              "Film-Noir        25\n",
              "War              12\n",
              "Fantasy           2\n",
              "Name: main_genre, dtype: int64"
            ]
          },
          "metadata": {},
          "execution_count": 15
        }
      ]
    },
    {
      "cell_type": "markdown",
      "metadata": {
        "id": "nFu61UX8UI_Y"
      },
      "source": [
        "### 문제 5. Embedding - EDA 결과를 활용하여 Movie2Vec 학습"
      ]
    },
    {
      "cell_type": "code",
      "metadata": {
        "colab": {
          "base_uri": "https://localhost:8080/",
          "height": 206
        },
        "id": "XzK3cR10zJ5S",
        "outputId": "8c5102b7-bac8-4f60-fd65-2b67a2299b0a"
      },
      "source": [
        "movie_df.head()"
      ],
      "execution_count": 16,
      "outputs": [
        {
          "output_type": "execute_result",
          "data": {
            "text/html": [
              "<div>\n",
              "<style scoped>\n",
              "    .dataframe tbody tr th:only-of-type {\n",
              "        vertical-align: middle;\n",
              "    }\n",
              "\n",
              "    .dataframe tbody tr th {\n",
              "        vertical-align: top;\n",
              "    }\n",
              "\n",
              "    .dataframe thead th {\n",
              "        text-align: right;\n",
              "    }\n",
              "</style>\n",
              "<table border=\"1\" class=\"dataframe\">\n",
              "  <thead>\n",
              "    <tr style=\"text-align: right;\">\n",
              "      <th></th>\n",
              "      <th>movie_id</th>\n",
              "      <th>title</th>\n",
              "      <th>genre</th>\n",
              "      <th>decade</th>\n",
              "      <th>main_genre</th>\n",
              "    </tr>\n",
              "  </thead>\n",
              "  <tbody>\n",
              "    <tr>\n",
              "      <th>0</th>\n",
              "      <td>1</td>\n",
              "      <td>Toy Story (1995)</td>\n",
              "      <td>Animation|Children's|Comedy</td>\n",
              "      <td>1990</td>\n",
              "      <td>Animation</td>\n",
              "    </tr>\n",
              "    <tr>\n",
              "      <th>1</th>\n",
              "      <td>2</td>\n",
              "      <td>Jumanji (1995)</td>\n",
              "      <td>Adventure|Children's|Fantasy</td>\n",
              "      <td>1990</td>\n",
              "      <td>Adventure</td>\n",
              "    </tr>\n",
              "    <tr>\n",
              "      <th>2</th>\n",
              "      <td>3</td>\n",
              "      <td>Grumpier Old Men (1995)</td>\n",
              "      <td>Comedy|Romance</td>\n",
              "      <td>1990</td>\n",
              "      <td>Comedy</td>\n",
              "    </tr>\n",
              "    <tr>\n",
              "      <th>3</th>\n",
              "      <td>4</td>\n",
              "      <td>Waiting to Exhale (1995)</td>\n",
              "      <td>Comedy|Drama</td>\n",
              "      <td>1990</td>\n",
              "      <td>Comedy</td>\n",
              "    </tr>\n",
              "    <tr>\n",
              "      <th>4</th>\n",
              "      <td>5</td>\n",
              "      <td>Father of the Bride Part II (1995)</td>\n",
              "      <td>Comedy</td>\n",
              "      <td>1990</td>\n",
              "      <td>Comedy</td>\n",
              "    </tr>\n",
              "  </tbody>\n",
              "</table>\n",
              "</div>"
            ],
            "text/plain": [
              "   movie_id                               title  ... decade main_genre\n",
              "0         1                    Toy Story (1995)  ...   1990  Animation\n",
              "1         2                      Jumanji (1995)  ...   1990  Adventure\n",
              "2         3             Grumpier Old Men (1995)  ...   1990     Comedy\n",
              "3         4            Waiting to Exhale (1995)  ...   1990     Comedy\n",
              "4         5  Father of the Bride Part II (1995)  ...   1990     Comedy\n",
              "\n",
              "[5 rows x 5 columns]"
            ]
          },
          "metadata": {},
          "execution_count": 16
        }
      ]
    },
    {
      "cell_type": "code",
      "metadata": {
        "id": "fYa5fBjQUTP5"
      },
      "source": [
        "movie_meta_dict = movie_df.set_index('movie_id')[['decade', 'main_genre']].to_dict()\n",
        "\n",
        "# ex.\n",
        "# {'main_genre': {1: 'Animation',\n",
        "#   2: 'Adventure',\n",
        "#   3: 'Comedy',\n",
        "#   4: 'Comedy',\n",
        "#   5: 'Comedy',\n",
        "#   ...\n",
        "#   'released_year_area': {...},\n",
        "#   ...\n",
        "# }"
      ],
      "execution_count": 17,
      "outputs": []
    },
    {
      "cell_type": "code",
      "metadata": {
        "colab": {
          "base_uri": "https://localhost:8080/"
        },
        "id": "SlHaDHHSXyFz",
        "outputId": "b03bf1f6-4599-442d-acc3-82234d623a08"
      },
      "source": [
        "movie_meta_dict"
      ],
      "execution_count": 18,
      "outputs": [
        {
          "output_type": "execute_result",
          "data": {
            "text/plain": [
              "{'decade': {1: '1990',\n",
              "  2: '1990',\n",
              "  3: '1990',\n",
              "  4: '1990',\n",
              "  5: '1990',\n",
              "  6: '1990',\n",
              "  7: '1990',\n",
              "  8: '1990',\n",
              "  9: '1990',\n",
              "  10: '1990',\n",
              "  11: '1990',\n",
              "  12: '1990',\n",
              "  13: '1990',\n",
              "  14: '1990',\n",
              "  15: '1990',\n",
              "  16: '1990',\n",
              "  17: '1990',\n",
              "  18: '1990',\n",
              "  19: '1990',\n",
              "  20: '1990',\n",
              "  21: '1990',\n",
              "  22: '1990',\n",
              "  23: '1990',\n",
              "  24: '1990',\n",
              "  25: '1990',\n",
              "  26: '1990',\n",
              "  27: '1990',\n",
              "  28: '1990',\n",
              "  29: '1990',\n",
              "  30: '1990',\n",
              "  31: '1990',\n",
              "  32: '1990',\n",
              "  33: '1990',\n",
              "  34: '1990',\n",
              "  35: '1990',\n",
              "  36: '1990',\n",
              "  37: '1990',\n",
              "  38: '1990',\n",
              "  39: '1990',\n",
              "  40: '1990',\n",
              "  41: '1990',\n",
              "  42: '1990',\n",
              "  43: '1990',\n",
              "  44: '1990',\n",
              "  45: '1990',\n",
              "  46: '1990',\n",
              "  47: '1990',\n",
              "  48: '1990',\n",
              "  49: '1990',\n",
              "  50: '1990',\n",
              "  51: '1990',\n",
              "  52: '1990',\n",
              "  53: '1990',\n",
              "  54: '1990',\n",
              "  55: '1990',\n",
              "  56: '1990',\n",
              "  57: '1990',\n",
              "  58: '1990',\n",
              "  59: '1990',\n",
              "  60: '1990',\n",
              "  61: '1990',\n",
              "  62: '1990',\n",
              "  63: '1990',\n",
              "  64: '1990',\n",
              "  65: '1990',\n",
              "  66: '1990',\n",
              "  67: '1990',\n",
              "  68: '1990',\n",
              "  69: '1990',\n",
              "  70: '1990',\n",
              "  71: '1990',\n",
              "  72: '1990',\n",
              "  73: '1990',\n",
              "  74: '1990',\n",
              "  75: '1990',\n",
              "  76: '1990',\n",
              "  77: '1990',\n",
              "  78: '1990',\n",
              "  79: '1990',\n",
              "  80: '1990',\n",
              "  81: '1990',\n",
              "  82: '1990',\n",
              "  83: '1990',\n",
              "  84: '1990',\n",
              "  85: '1990',\n",
              "  86: '1990',\n",
              "  87: '1990',\n",
              "  88: '1990',\n",
              "  89: '1990',\n",
              "  90: '1990',\n",
              "  92: '1990',\n",
              "  93: '1990',\n",
              "  94: '1990',\n",
              "  95: '1990',\n",
              "  96: '1990',\n",
              "  97: '1990',\n",
              "  98: '1990',\n",
              "  99: '1990',\n",
              "  100: '1990',\n",
              "  101: '1990',\n",
              "  102: '1990',\n",
              "  103: '1990',\n",
              "  104: '1990',\n",
              "  105: '1990',\n",
              "  106: '1990',\n",
              "  107: '1990',\n",
              "  108: '1990',\n",
              "  109: '1990',\n",
              "  110: '1990',\n",
              "  111: '1970',\n",
              "  112: '1990',\n",
              "  113: '1990',\n",
              "  114: '1990',\n",
              "  115: '1990',\n",
              "  116: '1990',\n",
              "  117: '1990',\n",
              "  118: '1990',\n",
              "  119: '1990',\n",
              "  120: '1990',\n",
              "  121: '1990',\n",
              "  122: '1990',\n",
              "  123: '1990',\n",
              "  124: '1990',\n",
              "  125: '1990',\n",
              "  126: '1990',\n",
              "  127: '1990',\n",
              "  128: '1990',\n",
              "  129: '1990',\n",
              "  130: '1990',\n",
              "  131: '1990',\n",
              "  132: '1990',\n",
              "  133: '1990',\n",
              "  134: '1990',\n",
              "  135: '1990',\n",
              "  136: '1990',\n",
              "  137: '1990',\n",
              "  138: '1990',\n",
              "  139: '1990',\n",
              "  140: '1990',\n",
              "  141: '1990',\n",
              "  142: '1980',\n",
              "  143: '1990',\n",
              "  144: '1990',\n",
              "  145: '1990',\n",
              "  146: '1990',\n",
              "  147: '1990',\n",
              "  148: '1990',\n",
              "  149: '1990',\n",
              "  150: '1990',\n",
              "  151: '1990',\n",
              "  152: '1990',\n",
              "  153: '1990',\n",
              "  154: '1960',\n",
              "  155: '1990',\n",
              "  156: '1990',\n",
              "  157: '1990',\n",
              "  158: '1990',\n",
              "  159: '1990',\n",
              "  160: '1990',\n",
              "  161: '1990',\n",
              "  162: '1990',\n",
              "  163: '1990',\n",
              "  164: '1990',\n",
              "  165: '1990',\n",
              "  166: '1990',\n",
              "  167: '1990',\n",
              "  168: '1990',\n",
              "  169: '1990',\n",
              "  170: '1990',\n",
              "  171: '1990',\n",
              "  172: '1990',\n",
              "  173: '1990',\n",
              "  174: '1990',\n",
              "  175: '1990',\n",
              "  176: '1990',\n",
              "  177: '1990',\n",
              "  178: '1990',\n",
              "  179: '1990',\n",
              "  180: '1990',\n",
              "  181: '1990',\n",
              "  182: '1990',\n",
              "  183: '1990',\n",
              "  184: '1990',\n",
              "  185: '1990',\n",
              "  186: '1990',\n",
              "  187: '1990',\n",
              "  188: '1990',\n",
              "  189: '1990',\n",
              "  190: '1990',\n",
              "  191: '1990',\n",
              "  192: '1990',\n",
              "  193: '1990',\n",
              "  194: '1990',\n",
              "  195: '1990',\n",
              "  196: '1990',\n",
              "  197: '1990',\n",
              "  198: '1990',\n",
              "  199: '1960',\n",
              "  200: '1990',\n",
              "  201: '1990',\n",
              "  202: '1990',\n",
              "  203: '1990',\n",
              "  204: '1990',\n",
              "  205: '1990',\n",
              "  206: '1990',\n",
              "  207: '1990',\n",
              "  208: '1990',\n",
              "  209: '1990',\n",
              "  210: '1990',\n",
              "  211: '1990',\n",
              "  212: '1990',\n",
              "  213: '1990',\n",
              "  214: '1990',\n",
              "  215: '1990',\n",
              "  216: '1990',\n",
              "  217: '1990',\n",
              "  218: '1990',\n",
              "  219: '1990',\n",
              "  220: '1990',\n",
              "  222: '1990',\n",
              "  223: '1990',\n",
              "  224: '1990',\n",
              "  225: '1990',\n",
              "  226: '1990',\n",
              "  227: '1990',\n",
              "  228: '1990',\n",
              "  229: '1990',\n",
              "  230: '1990',\n",
              "  231: '1990',\n",
              "  232: '1990',\n",
              "  233: '1990',\n",
              "  234: '1990',\n",
              "  235: '1990',\n",
              "  236: '1990',\n",
              "  237: '1990',\n",
              "  238: '1990',\n",
              "  239: '1990',\n",
              "  240: '1990',\n",
              "  241: '1990',\n",
              "  242: '1990',\n",
              "  243: '1990',\n",
              "  244: '1990',\n",
              "  245: '1990',\n",
              "  246: '1990',\n",
              "  247: '1990',\n",
              "  248: '1990',\n",
              "  249: '1990',\n",
              "  250: '1990',\n",
              "  251: '1990',\n",
              "  252: '1990',\n",
              "  253: '1990',\n",
              "  254: '1990',\n",
              "  255: '1990',\n",
              "  256: '1990',\n",
              "  257: '1990',\n",
              "  258: '1990',\n",
              "  259: '1990',\n",
              "  260: '1970',\n",
              "  261: '1990',\n",
              "  262: '1990',\n",
              "  263: '1990',\n",
              "  264: '1990',\n",
              "  265: '1990',\n",
              "  266: '1990',\n",
              "  267: '1990',\n",
              "  268: '1990',\n",
              "  269: '1990',\n",
              "  270: '1990',\n",
              "  271: '1990',\n",
              "  272: '1990',\n",
              "  273: '1990',\n",
              "  274: '1990',\n",
              "  275: '1990',\n",
              "  276: '1990',\n",
              "  277: '1990',\n",
              "  278: '1990',\n",
              "  279: '1990',\n",
              "  280: '1990',\n",
              "  281: '1990',\n",
              "  282: '1990',\n",
              "  283: '1990',\n",
              "  284: '1990',\n",
              "  285: '1990',\n",
              "  286: '1990',\n",
              "  287: '1990',\n",
              "  288: '1990',\n",
              "  289: '1990',\n",
              "  290: '1990',\n",
              "  291: '1990',\n",
              "  292: '1990',\n",
              "  293: '1990',\n",
              "  294: '1990',\n",
              "  295: '1990',\n",
              "  296: '1990',\n",
              "  297: '1990',\n",
              "  298: '1990',\n",
              "  299: '1990',\n",
              "  300: '1990',\n",
              "  301: '1990',\n",
              "  302: '1990',\n",
              "  303: '1990',\n",
              "  304: '1990',\n",
              "  305: '1990',\n",
              "  306: '1990',\n",
              "  307: '1990',\n",
              "  308: '1990',\n",
              "  309: '1990',\n",
              "  310: '1990',\n",
              "  311: '1990',\n",
              "  312: '1990',\n",
              "  313: '1990',\n",
              "  314: '1990',\n",
              "  315: '1990',\n",
              "  316: '1990',\n",
              "  317: '1990',\n",
              "  318: '1990',\n",
              "  319: '1990',\n",
              "  320: '1990',\n",
              "  321: '1990',\n",
              "  322: '1990',\n",
              "  324: '1990',\n",
              "  325: '1990',\n",
              "  326: '1990',\n",
              "  327: '1990',\n",
              "  328: '1990',\n",
              "  329: '1990',\n",
              "  330: '1990',\n",
              "  331: '1990',\n",
              "  332: '1990',\n",
              "  333: '1990',\n",
              "  334: '1990',\n",
              "  335: '1990',\n",
              "  336: '1990',\n",
              "  337: '1990',\n",
              "  338: '1990',\n",
              "  339: '1990',\n",
              "  340: '1990',\n",
              "  341: '1990',\n",
              "  342: '1990',\n",
              "  343: '1990',\n",
              "  344: '1990',\n",
              "  345: '1990',\n",
              "  346: '1990',\n",
              "  347: '1990',\n",
              "  348: '1990',\n",
              "  349: '1990',\n",
              "  350: '1990',\n",
              "  351: '1990',\n",
              "  352: '1990',\n",
              "  353: '1990',\n",
              "  354: '1990',\n",
              "  355: '1990',\n",
              "  356: '1990',\n",
              "  357: '1990',\n",
              "  358: '1990',\n",
              "  359: '1990',\n",
              "  360: '1990',\n",
              "  361: '1990',\n",
              "  362: '1990',\n",
              "  363: '1990',\n",
              "  364: '1990',\n",
              "  365: '1990',\n",
              "  366: '1990',\n",
              "  367: '1990',\n",
              "  368: '1990',\n",
              "  369: '1990',\n",
              "  370: '1990',\n",
              "  371: '1990',\n",
              "  372: '1990',\n",
              "  373: '1990',\n",
              "  374: '1990',\n",
              "  375: '1990',\n",
              "  376: '1990',\n",
              "  377: '1990',\n",
              "  378: '1990',\n",
              "  379: '1990',\n",
              "  380: '1990',\n",
              "  381: '1990',\n",
              "  382: '1990',\n",
              "  383: '1990',\n",
              "  384: '1990',\n",
              "  385: '1990',\n",
              "  386: '1990',\n",
              "  387: '1990',\n",
              "  388: '1990',\n",
              "  389: '1990',\n",
              "  390: '1960',\n",
              "  391: '1990',\n",
              "  392: '1990',\n",
              "  393: '1990',\n",
              "  394: '1990',\n",
              "  395: '1990',\n",
              "  396: '1990',\n",
              "  397: '1990',\n",
              "  398: '1990',\n",
              "  399: '1990',\n",
              "  400: '1990',\n",
              "  401: '1990',\n",
              "  402: '1990',\n",
              "  403: '1990',\n",
              "  404: '1990',\n",
              "  405: '1990',\n",
              "  406: '1990',\n",
              "  407: '1990',\n",
              "  408: '1990',\n",
              "  409: '1990',\n",
              "  410: '1990',\n",
              "  411: '1990',\n",
              "  412: '1990',\n",
              "  413: '1990',\n",
              "  414: '1990',\n",
              "  415: '1990',\n",
              "  416: '1990',\n",
              "  417: '1990',\n",
              "  418: '1990',\n",
              "  419: '1990',\n",
              "  420: '1990',\n",
              "  421: '1990',\n",
              "  422: '1990',\n",
              "  423: '1990',\n",
              "  424: '1990',\n",
              "  425: '1990',\n",
              "  426: '1990',\n",
              "  427: '1990',\n",
              "  428: '1990',\n",
              "  429: '1990',\n",
              "  430: '1990',\n",
              "  431: '1990',\n",
              "  432: '1990',\n",
              "  433: '1990',\n",
              "  434: '1990',\n",
              "  435: '1990',\n",
              "  436: '1990',\n",
              "  437: '1990',\n",
              "  438: '1990',\n",
              "  439: '1990',\n",
              "  440: '1990',\n",
              "  441: '1990',\n",
              "  442: '1990',\n",
              "  443: '1990',\n",
              "  444: '1990',\n",
              "  445: '1990',\n",
              "  446: '1990',\n",
              "  447: '1990',\n",
              "  448: '1990',\n",
              "  449: '1990',\n",
              "  450: '1990',\n",
              "  451: '1990',\n",
              "  452: '1990',\n",
              "  453: '1990',\n",
              "  454: '1990',\n",
              "  455: '1990',\n",
              "  456: '1990',\n",
              "  457: '1990',\n",
              "  458: '1990',\n",
              "  459: '1990',\n",
              "  460: '1990',\n",
              "  461: '1990',\n",
              "  462: '1990',\n",
              "  463: '1990',\n",
              "  464: '1990',\n",
              "  465: '1990',\n",
              "  466: '1990',\n",
              "  467: '1990',\n",
              "  468: '1990',\n",
              "  469: '1990',\n",
              "  470: '1990',\n",
              "  471: '1990',\n",
              "  472: '1990',\n",
              "  473: '1990',\n",
              "  474: '1990',\n",
              "  475: '1990',\n",
              "  476: '1990',\n",
              "  477: '1990',\n",
              "  478: '1990',\n",
              "  479: '1990',\n",
              "  480: '1990',\n",
              "  481: '1990',\n",
              "  482: '1990',\n",
              "  483: '1990',\n",
              "  484: '1990',\n",
              "  485: '1990',\n",
              "  486: '1990',\n",
              "  487: '1990',\n",
              "  488: '1990',\n",
              "  489: '1990',\n",
              "  490: '1990',\n",
              "  491: '1990',\n",
              "  492: '1990',\n",
              "  493: '1990',\n",
              "  494: '1990',\n",
              "  495: '1970',\n",
              "  496: '1990',\n",
              "  497: '1990',\n",
              "  498: '1990',\n",
              "  499: '1990',\n",
              "  500: '1990',\n",
              "  501: '1990',\n",
              "  502: '1990',\n",
              "  503: '1990',\n",
              "  504: '1990',\n",
              "  505: '1990',\n",
              "  506: '1990',\n",
              "  507: '1990',\n",
              "  508: '1990',\n",
              "  509: '1990',\n",
              "  510: '1990',\n",
              "  511: '1990',\n",
              "  512: '1990',\n",
              "  513: '1990',\n",
              "  514: '1990',\n",
              "  515: '1990',\n",
              "  516: '1990',\n",
              "  517: '1990',\n",
              "  518: '1990',\n",
              "  519: '1990',\n",
              "  520: '1990',\n",
              "  521: '1990',\n",
              "  522: '1990',\n",
              "  523: '1990',\n",
              "  524: '1990',\n",
              "  525: '1990',\n",
              "  526: '1990',\n",
              "  527: '1990',\n",
              "  528: '1990',\n",
              "  529: '1990',\n",
              "  530: '1990',\n",
              "  531: '1990',\n",
              "  532: '1990',\n",
              "  533: '1990',\n",
              "  534: '1990',\n",
              "  535: '1990',\n",
              "  536: '1990',\n",
              "  537: '1990',\n",
              "  538: '1990',\n",
              "  539: '1990',\n",
              "  540: '1990',\n",
              "  541: '1980',\n",
              "  542: '1990',\n",
              "  543: '1990',\n",
              "  544: '1990',\n",
              "  545: '1990',\n",
              "  546: '1990',\n",
              "  547: '1990',\n",
              "  548: '1990',\n",
              "  549: '1990',\n",
              "  550: '1990',\n",
              "  551: '1990',\n",
              "  552: '1990',\n",
              "  553: '1990',\n",
              "  554: '1990',\n",
              "  555: '1990',\n",
              "  556: '1990',\n",
              "  557: '1960',\n",
              "  558: '1990',\n",
              "  559: '1990',\n",
              "  560: '1990',\n",
              "  561: '1990',\n",
              "  562: '1990',\n",
              "  563: '1990',\n",
              "  564: '1990',\n",
              "  565: '1990',\n",
              "  566: '1990',\n",
              "  567: '1990',\n",
              "  568: '1990',\n",
              "  569: '1990',\n",
              "  570: '1990',\n",
              "  571: '1990',\n",
              "  572: '1990',\n",
              "  573: '1990',\n",
              "  574: '1990',\n",
              "  575: '1990',\n",
              "  576: '1990',\n",
              "  577: '1990',\n",
              "  578: '1990',\n",
              "  579: '1990',\n",
              "  580: '1990',\n",
              "  581: '1990',\n",
              "  582: '1990',\n",
              "  583: '1990',\n",
              "  584: '1990',\n",
              "  585: '1990',\n",
              "  586: '1990',\n",
              "  587: '1990',\n",
              "  588: '1990',\n",
              "  589: '1990',\n",
              "  590: '1990',\n",
              "  591: '1990',\n",
              "  592: '1980',\n",
              "  593: '1990',\n",
              "  594: '1930',\n",
              "  595: '1990',\n",
              "  596: '1940',\n",
              "  597: '1990',\n",
              "  598: '1990',\n",
              "  599: '1960',\n",
              "  600: '1990',\n",
              "  601: '1990',\n",
              "  602: '1990',\n",
              "  603: '1990',\n",
              "  604: '1990',\n",
              "  605: '1990',\n",
              "  606: '1990',\n",
              "  607: '1990',\n",
              "  608: '1990',\n",
              "  609: '1990',\n",
              "  610: '1980',\n",
              "  611: '1990',\n",
              "  612: '1990',\n",
              "  613: '1990',\n",
              "  614: '1990',\n",
              "  615: '1970',\n",
              "  616: '1970',\n",
              "  617: '1990',\n",
              "  618: '1990',\n",
              "  619: '1990',\n",
              "  620: '1990',\n",
              "  621: '1990',\n",
              "  623: '1990',\n",
              "  624: '1990',\n",
              "  625: '1990',\n",
              "  626: '1990',\n",
              "  627: '1990',\n",
              "  628: '1990',\n",
              "  629: '1990',\n",
              "  630: '1990',\n",
              "  631: '1990',\n",
              "  632: '1990',\n",
              "  633: '1990',\n",
              "  634: '1990',\n",
              "  635: '1990',\n",
              "  636: '1990',\n",
              "  637: '1990',\n",
              "  638: '1990',\n",
              "  639: '1990',\n",
              "  640: '1990',\n",
              "  641: '1990',\n",
              "  642: '1990',\n",
              "  643: '1990',\n",
              "  644: '1990',\n",
              "  645: '1990',\n",
              "  647: '1990',\n",
              "  648: '1990',\n",
              "  649: '1990',\n",
              "  650: '1990',\n",
              "  651: '1990',\n",
              "  652: '1990',\n",
              "  653: '1990',\n",
              "  654: '1990',\n",
              "  655: '1990',\n",
              "  656: '1990',\n",
              "  657: '1990',\n",
              "  658: '1990',\n",
              "  659: '1960',\n",
              "  660: '1990',\n",
              "  661: '1990',\n",
              "  662: '1990',\n",
              "  663: '1990',\n",
              "  664: '1990',\n",
              "  665: '1990',\n",
              "  666: '1990',\n",
              "  667: '1990',\n",
              "  668: '1950',\n",
              "  669: '1950',\n",
              "  670: '1950',\n",
              "  671: '1990',\n",
              "  672: '1990',\n",
              "  673: '1990',\n",
              "  674: '1960',\n",
              "  675: '1990',\n",
              "  676: '1990',\n",
              "  678: '1990',\n",
              "  679: '1990',\n",
              "  680: '1960',\n",
              "  681: '1980',\n",
              "  682: '1990',\n",
              "  683: '1990',\n",
              "  684: '1980',\n",
              "  685: '1990',\n",
              "  687: '1990',\n",
              "  688: '1990',\n",
              "  690: '1990',\n",
              "  691: '1990',\n",
              "  692: '1990',\n",
              "  693: '1990',\n",
              "  694: '1990',\n",
              "  695: '1990',\n",
              "  696: '1990',\n",
              "  697: '1990',\n",
              "  698: '1990',\n",
              "  699: '1990',\n",
              "  700: '1990',\n",
              "  701: '1990',\n",
              "  702: '1960',\n",
              "  703: '1990',\n",
              "  704: '1990',\n",
              "  705: '1990',\n",
              "  706: '1990',\n",
              "  707: '1990',\n",
              "  708: '1990',\n",
              "  709: '1980',\n",
              "  710: '1990',\n",
              "  711: '1990',\n",
              "  712: '1990',\n",
              "  713: '1990',\n",
              "  714: '1990',\n",
              "  715: '1990',\n",
              "  716: '1970',\n",
              "  717: '1990',\n",
              "  718: '1990',\n",
              "  719: '1990',\n",
              "  720: '1990',\n",
              "  721: '1990',\n",
              "  722: '1990',\n",
              "  723: '1980',\n",
              "  724: '1990',\n",
              "  725: '1990',\n",
              "  726: '1990',\n",
              "  727: '1990',\n",
              "  728: '1990',\n",
              "  729: '1990',\n",
              "  730: '1990',\n",
              "  731: '1990',\n",
              "  732: '1990',\n",
              "  733: '1990',\n",
              "  734: '1990',\n",
              "  735: '1990',\n",
              "  736: '1990',\n",
              "  737: '1990',\n",
              "  738: '1990',\n",
              "  739: '1990',\n",
              "  741: '1990',\n",
              "  742: '1990',\n",
              "  743: '1990',\n",
              "  744: '1990',\n",
              "  745: '1990',\n",
              "  746: '1940',\n",
              "  747: '1990',\n",
              "  748: '1990',\n",
              "  749: '1940',\n",
              "  750: '1960',\n",
              "  751: '1990',\n",
              "  752: '1990',\n",
              "  753: '1990',\n",
              "  754: '1990',\n",
              "  755: '1950',\n",
              "  756: '1990',\n",
              "  757: '1990',\n",
              "  758: '1990',\n",
              "  759: '1990',\n",
              "  760: '1990',\n",
              "  761: '1990',\n",
              "  762: '1990',\n",
              "  763: '1990',\n",
              "  764: '1990',\n",
              "  765: '1990',\n",
              "  766: '1990',\n",
              "  767: '1990',\n",
              "  768: '1990',\n",
              "  769: '1990',\n",
              "  770: '1940',\n",
              "  771: '1980',\n",
              "  772: '1990',\n",
              "  773: '1970',\n",
              "  774: '1980',\n",
              "  775: '1960',\n",
              "  776: '1990',\n",
              "  777: '1990',\n",
              "  778: '1990',\n",
              "  779: '1990',\n",
              "  780: '1990',\n",
              "  781: '1990',\n",
              "  782: '1990',\n",
              "  783: '1990',\n",
              "  784: '1990',\n",
              "  785: '1990',\n",
              "  786: '1990',\n",
              "  787: '1990',\n",
              "  788: '1990',\n",
              "  789: '1990',\n",
              "  790: '1990',\n",
              "  791: '1990',\n",
              "  792: '1980',\n",
              "  793: '1990',\n",
              "  794: '1990',\n",
              "  795: '1990',\n",
              "  796: '1970',\n",
              "  797: '1990',\n",
              "  798: '1990',\n",
              "  799: '1990',\n",
              "  800: '1990',\n",
              "  801: '1990',\n",
              "  802: '1990',\n",
              "  803: '1990',\n",
              "  804: '1990',\n",
              "  805: '1990',\n",
              "  806: '1990',\n",
              "  807: '1990',\n",
              "  808: '1990',\n",
              "  809: '1990',\n",
              "  810: '1990',\n",
              "  811: '1990',\n",
              "  812: '1990',\n",
              "  813: '1990',\n",
              "  814: '1990',\n",
              "  815: '1990',\n",
              "  816: '1990',\n",
              "  818: '1990',\n",
              "  819: '1990',\n",
              "  820: '1950',\n",
              "  821: '1990',\n",
              "  822: '1990',\n",
              "  823: '1960',\n",
              "  824: '1990',\n",
              "  825: '1990',\n",
              "  826: '1990',\n",
              "  827: '1990',\n",
              "  828: '1990',\n",
              "  829: '1990',\n",
              "  830: '1990',\n",
              "  831: '1990',\n",
              "  832: '1990',\n",
              "  833: '1990',\n",
              "  834: '1990',\n",
              "  835: '1990',\n",
              "  836: '1990',\n",
              "  837: '1990',\n",
              "  838: '1990',\n",
              "  839: '1990',\n",
              "  840: '1990',\n",
              "  841: '1950',\n",
              "  842: '1990',\n",
              "  843: '1990',\n",
              "  844: '1990',\n",
              "  845: '1990',\n",
              "  846: '1990',\n",
              "  847: '1990',\n",
              "  848: '1990',\n",
              "  849: '1990',\n",
              "  850: '1990',\n",
              "  851: '1990',\n",
              "  852: '1990',\n",
              "  853: '1990',\n",
              "  854: '1950',\n",
              "  855: '1990',\n",
              "  856: '1990',\n",
              "  857: '1940',\n",
              "  858: '1970',\n",
              "  859: '1990',\n",
              "  860: '1990',\n",
              "  861: '1990',\n",
              "  862: '1990',\n",
              "  863: '1990',\n",
              "  864: '1990',\n",
              "  865: '1990',\n",
              "  866: '1990',\n",
              "  867: '1990',\n",
              "  868: '1990',\n",
              "  869: '1990',\n",
              "  870: '1990',\n",
              "  871: '1990',\n",
              "  872: '1990',\n",
              "  873: '1970',\n",
              "  874: '1990',\n",
              "  875: '1990',\n",
              "  876: '1990',\n",
              "  877: '1990',\n",
              "  878: '1990',\n",
              "  879: '1990',\n",
              "  880: '1990',\n",
              "  881: '1990',\n",
              "  882: '1990',\n",
              "  884: '1990',\n",
              "  885: '1990',\n",
              "  886: '1990',\n",
              "  887: '1990',\n",
              "  888: '1990',\n",
              "  889: '1990',\n",
              "  890: '1980',\n",
              "  891: '1990',\n",
              "  892: '1990',\n",
              "  893: '1990',\n",
              "  894: '1930',\n",
              "  895: '1990',\n",
              "  896: '1990',\n",
              "  897: '1940',\n",
              "  898: '1940',\n",
              "  899: '1950',\n",
              "  900: '1950',\n",
              "  901: '1950',\n",
              "  902: '1960',\n",
              "  903: '1950',\n",
              "  904: '1950',\n",
              "  905: '1930',\n",
              "  906: '1940',\n",
              "  907: '1930',\n",
              "  908: '1950',\n",
              "  909: '1960',\n",
              "  910: '1950',\n",
              "  911: '1960',\n",
              "  912: '1940',\n",
              "  913: '1940',\n",
              "  914: '1960',\n",
              "  915: '1950',\n",
              "  916: '1950',\n",
              "  917: '1930',\n",
              "  918: '1940',\n",
              "  919: '1930',\n",
              "  920: '1930',\n",
              "  921: '1980',\n",
              "  922: '1950',\n",
              "  923: '1940',\n",
              "  924: '1960',\n",
              "  925: '1940',\n",
              "  926: '1950',\n",
              "  927: '1930',\n",
              "  928: '1940',\n",
              "  929: '1940',\n",
              "  930: '1940',\n",
              "  931: '1940',\n",
              "  932: '1950',\n",
              "  933: '1950',\n",
              "  934: '1950',\n",
              "  935: '1950',\n",
              "  936: '1930',\n",
              "  937: '1950',\n",
              "  938: '1950',\n",
              "  939: '1950',\n",
              "  940: '1930',\n",
              "  941: '1940',\n",
              "  942: '1940',\n",
              "  943: '1940',\n",
              "  944: '1930',\n",
              "  945: '1930',\n",
              "  946: '1940',\n",
              "  947: '1930',\n",
              "  948: '1950',\n",
              "  949: '1950',\n",
              "  950: '1930',\n",
              "  951: '1940',\n",
              "  952: '1950',\n",
              "  953: '1940',\n",
              "  954: '1930',\n",
              "  955: '1930',\n",
              "  956: '1940',\n",
              "  957: '1920',\n",
              "  958: '1940',\n",
              "  959: '1930',\n",
              "  960: '1940',\n",
              "  961: '1930',\n",
              "  962: '1930',\n",
              "  963: '1940',\n",
              "  964: '1940',\n",
              "  965: '1930',\n",
              "  966: '1940',\n",
              "  967: '1940',\n",
              "  968: '1960',\n",
              "  969: '1950',\n",
              "  970: '1950',\n",
              "  971: '1950',\n",
              "  972: '1950',\n",
              "  973: '1940',\n",
              "  974: '1930',\n",
              "  975: '1930',\n",
              "  976: '1930',\n",
              "  977: '1930',\n",
              "  978: '1930',\n",
              "  979: '1990',\n",
              "  980: '1980',\n",
              "  981: '1990',\n",
              "  982: '1950',\n",
              "  983: '1990',\n",
              "  984: '1990',\n",
              "  985: '1990',\n",
              "  986: '1990',\n",
              "  987: '1990',\n",
              "  988: '1990',\n",
              "  989: '1990',\n",
              "  990: '1990',\n",
              "  991: '1990',\n",
              "  992: '1990',\n",
              "  993: '1990',\n",
              "  994: '1990',\n",
              "  996: '1990',\n",
              "  997: '1990',\n",
              "  998: '1990',\n",
              "  999: '1990',\n",
              "  1000: '1990',\n",
              "  1001: '1980',\n",
              "  1002: '1990',\n",
              "  1003: '1990',\n",
              "  1004: '1990',\n",
              "  1005: '1990',\n",
              "  1006: '1990',\n",
              "  1007: '1970',\n",
              "  1008: '1950',\n",
              "  1009: '1970',\n",
              "  1010: '1960',\n",
              "  1011: '1970',\n",
              "  1012: '1950',\n",
              "  ...},\n",
              " 'main_genre': {1: 'Animation',\n",
              "  2: 'Adventure',\n",
              "  3: 'Comedy',\n",
              "  4: 'Comedy',\n",
              "  5: 'Comedy',\n",
              "  6: 'Action',\n",
              "  7: 'Comedy',\n",
              "  8: 'Adventure',\n",
              "  9: 'Action',\n",
              "  10: 'Action',\n",
              "  11: 'Comedy',\n",
              "  12: 'Comedy',\n",
              "  13: 'Animation',\n",
              "  14: 'Drama',\n",
              "  15: 'Action',\n",
              "  16: 'Drama',\n",
              "  17: 'Drama',\n",
              "  18: 'Thriller',\n",
              "  19: 'Comedy',\n",
              "  20: 'Action',\n",
              "  21: 'Action',\n",
              "  22: 'Crime',\n",
              "  23: 'Thriller',\n",
              "  24: 'Drama',\n",
              "  25: 'Drama',\n",
              "  26: 'Drama',\n",
              "  27: 'Drama',\n",
              "  28: 'Romance',\n",
              "  29: 'Adventure',\n",
              "  30: 'Drama',\n",
              "  31: 'Drama',\n",
              "  32: 'Drama',\n",
              "  33: 'Adventure',\n",
              "  34: \"Children's\",\n",
              "  35: 'Drama',\n",
              "  36: 'Drama',\n",
              "  37: 'Documentary',\n",
              "  38: 'Comedy',\n",
              "  39: 'Comedy',\n",
              "  40: 'Drama',\n",
              "  41: 'Drama',\n",
              "  42: 'Action',\n",
              "  43: 'Drama',\n",
              "  44: 'Action',\n",
              "  45: 'Comedy',\n",
              "  46: 'Drama',\n",
              "  47: 'Crime',\n",
              "  48: 'Animation',\n",
              "  49: 'Drama',\n",
              "  50: 'Crime',\n",
              "  51: 'Action',\n",
              "  52: 'Comedy',\n",
              "  53: 'Drama',\n",
              "  54: \"Children's\",\n",
              "  55: 'Drama',\n",
              "  56: 'Adventure',\n",
              "  57: 'Drama',\n",
              "  58: 'Drama',\n",
              "  59: 'Drama',\n",
              "  60: 'Adventure',\n",
              "  61: 'Drama',\n",
              "  62: 'Drama',\n",
              "  63: 'Comedy',\n",
              "  64: 'Comedy',\n",
              "  65: 'Comedy',\n",
              "  66: 'Sci-Fi',\n",
              "  67: 'Drama',\n",
              "  68: 'Comedy',\n",
              "  69: 'Comedy',\n",
              "  70: 'Action',\n",
              "  71: 'Action',\n",
              "  72: 'Comedy',\n",
              "  73: 'Drama',\n",
              "  74: 'Drama',\n",
              "  75: 'Comedy',\n",
              "  76: 'Sci-Fi',\n",
              "  77: 'Documentary',\n",
              "  78: 'Drama',\n",
              "  79: 'Drama',\n",
              "  80: 'Drama',\n",
              "  81: 'Crime',\n",
              "  82: 'Drama',\n",
              "  83: 'Drama',\n",
              "  84: 'Comedy',\n",
              "  85: 'Drama',\n",
              "  86: 'Adventure',\n",
              "  87: \"Children's\",\n",
              "  88: 'Comedy',\n",
              "  89: 'Action',\n",
              "  90: 'Drama',\n",
              "  92: 'Drama',\n",
              "  93: 'Comedy',\n",
              "  94: 'Drama',\n",
              "  95: 'Action',\n",
              "  96: 'Comedy',\n",
              "  97: 'Drama',\n",
              "  98: 'Action',\n",
              "  99: 'Documentary',\n",
              "  100: 'Drama',\n",
              "  101: 'Comedy',\n",
              "  102: 'Comedy',\n",
              "  103: 'Thriller',\n",
              "  104: 'Comedy',\n",
              "  105: 'Drama',\n",
              "  106: 'Comedy',\n",
              "  107: 'Adventure',\n",
              "  108: 'Documentary',\n",
              "  109: 'Comedy',\n",
              "  110: 'Action',\n",
              "  111: 'Drama',\n",
              "  112: 'Action',\n",
              "  113: 'Drama',\n",
              "  114: 'Drama',\n",
              "  115: 'Comedy',\n",
              "  116: 'Documentary',\n",
              "  117: 'Crime',\n",
              "  118: 'Comedy',\n",
              "  119: 'Comedy',\n",
              "  120: 'Drama',\n",
              "  121: 'Drama',\n",
              "  122: 'Comedy',\n",
              "  123: 'Drama',\n",
              "  124: 'Drama',\n",
              "  125: 'Comedy',\n",
              "  126: 'Adventure',\n",
              "  127: 'Drama',\n",
              "  128: 'Documentary',\n",
              "  129: 'Comedy',\n",
              "  130: 'Drama',\n",
              "  131: 'Drama',\n",
              "  132: 'Thriller',\n",
              "  133: 'Comedy',\n",
              "  134: 'Documentary',\n",
              "  135: 'Comedy',\n",
              "  136: 'Documentary',\n",
              "  137: 'Documentary',\n",
              "  138: 'Drama',\n",
              "  139: 'Action',\n",
              "  140: 'Drama',\n",
              "  141: 'Comedy',\n",
              "  142: 'Drama',\n",
              "  143: 'Drama',\n",
              "  144: 'Comedy',\n",
              "  145: 'Action',\n",
              "  146: 'Adventure',\n",
              "  147: 'Drama',\n",
              "  148: 'Drama',\n",
              "  149: 'Crime',\n",
              "  150: 'Drama',\n",
              "  151: 'Drama',\n",
              "  152: 'Horror',\n",
              "  153: 'Action',\n",
              "  154: 'Drama',\n",
              "  155: 'Drama',\n",
              "  156: 'Comedy',\n",
              "  157: 'Comedy',\n",
              "  158: 'Adventure',\n",
              "  159: 'Drama',\n",
              "  160: 'Action',\n",
              "  161: 'Drama',\n",
              "  162: 'Documentary',\n",
              "  163: 'Action',\n",
              "  164: 'Crime',\n",
              "  165: 'Action',\n",
              "  166: 'Comedy',\n",
              "  167: 'Drama',\n",
              "  168: 'Action',\n",
              "  169: 'Adventure',\n",
              "  170: 'Action',\n",
              "  171: 'Comedy',\n",
              "  172: 'Action',\n",
              "  173: 'Action',\n",
              "  174: 'Comedy',\n",
              "  175: 'Drama',\n",
              "  176: 'Comedy',\n",
              "  177: 'Horror',\n",
              "  178: 'Comedy',\n",
              "  179: 'Drama',\n",
              "  180: 'Comedy',\n",
              "  181: 'Action',\n",
              "  182: 'Drama',\n",
              "  183: 'Thriller',\n",
              "  184: 'Drama',\n",
              "  185: 'Sci-Fi',\n",
              "  186: 'Comedy',\n",
              "  187: 'Comedy',\n",
              "  188: 'Horror',\n",
              "  189: 'Comedy',\n",
              "  190: 'Thriller',\n",
              "  191: 'Drama',\n",
              "  192: 'Documentary',\n",
              "  193: 'Drama',\n",
              "  194: 'Drama',\n",
              "  195: 'Comedy',\n",
              "  196: 'Horror',\n",
              "  197: 'Drama',\n",
              "  198: 'Action',\n",
              "  199: 'Drama',\n",
              "  200: 'Thriller',\n",
              "  201: 'Drama',\n",
              "  202: 'Drama',\n",
              "  203: 'Comedy',\n",
              "  204: 'Action',\n",
              "  205: 'Comedy',\n",
              "  206: 'Documentary',\n",
              "  207: 'Drama',\n",
              "  208: 'Action',\n",
              "  209: 'Drama',\n",
              "  210: 'Western',\n",
              "  211: 'Drama',\n",
              "  212: 'Comedy',\n",
              "  213: 'Drama',\n",
              "  214: 'Drama',\n",
              "  215: 'Drama',\n",
              "  216: 'Comedy',\n",
              "  217: 'Drama',\n",
              "  218: 'Comedy',\n",
              "  219: 'Drama',\n",
              "  220: 'Horror',\n",
              "  222: 'Drama',\n",
              "  223: 'Comedy',\n",
              "  224: 'Comedy',\n",
              "  225: 'Drama',\n",
              "  226: 'Thriller',\n",
              "  227: 'Action',\n",
              "  228: 'Comedy',\n",
              "  229: 'Drama',\n",
              "  230: 'Drama',\n",
              "  231: 'Comedy',\n",
              "  232: 'Comedy',\n",
              "  233: 'Drama',\n",
              "  234: 'Comedy',\n",
              "  235: 'Comedy',\n",
              "  236: 'Comedy',\n",
              "  237: 'Comedy',\n",
              "  238: 'Adventure',\n",
              "  239: 'Animation',\n",
              "  240: 'Thriller',\n",
              "  241: \"Children's\",\n",
              "  242: 'Drama',\n",
              "  243: 'Comedy',\n",
              "  244: 'Animation',\n",
              "  245: 'Crime',\n",
              "  246: 'Documentary',\n",
              "  247: 'Drama',\n",
              "  248: 'Comedy',\n",
              "  249: 'Drama',\n",
              "  250: \"Children's\",\n",
              "  251: 'Action',\n",
              "  252: 'Comedy',\n",
              "  253: 'Drama',\n",
              "  254: 'Drama',\n",
              "  255: 'Comedy',\n",
              "  256: 'Comedy',\n",
              "  257: 'Mystery',\n",
              "  258: 'Adventure',\n",
              "  259: 'Crime',\n",
              "  260: 'Action',\n",
              "  261: 'Drama',\n",
              "  262: \"Children's\",\n",
              "  263: 'Drama',\n",
              "  264: 'Drama',\n",
              "  265: 'Drama',\n",
              "  266: 'Drama',\n",
              "  267: 'Comedy',\n",
              "  268: 'Drama',\n",
              "  269: 'Drama',\n",
              "  270: 'Drama',\n",
              "  271: 'Drama',\n",
              "  272: 'Drama',\n",
              "  273: 'Drama',\n",
              "  274: 'Comedy',\n",
              "  275: 'Comedy',\n",
              "  276: 'Comedy',\n",
              "  277: 'Drama',\n",
              "  278: 'Comedy',\n",
              "  279: 'Drama',\n",
              "  280: 'Drama',\n",
              "  281: 'Drama',\n",
              "  282: 'Drama',\n",
              "  283: 'Crime',\n",
              "  284: 'Action',\n",
              "  285: 'Drama',\n",
              "  286: 'Action',\n",
              "  287: 'Comedy',\n",
              "  288: 'Action',\n",
              "  289: 'Comedy',\n",
              "  290: 'Crime',\n",
              "  291: 'Thriller',\n",
              "  292: 'Action',\n",
              "  293: 'Crime',\n",
              "  294: 'Comedy',\n",
              "  295: 'Comedy',\n",
              "  296: 'Crime',\n",
              "  297: 'Drama',\n",
              "  298: 'Comedy',\n",
              "  299: 'Drama',\n",
              "  300: 'Drama',\n",
              "  301: 'Drama',\n",
              "  302: 'Drama',\n",
              "  303: 'Action',\n",
              "  304: 'Comedy',\n",
              "  305: 'Comedy',\n",
              "  306: 'Drama',\n",
              "  307: 'Drama',\n",
              "  308: 'Drama',\n",
              "  309: 'Drama',\n",
              "  310: 'Comedy',\n",
              "  311: 'Horror',\n",
              "  312: 'Comedy',\n",
              "  313: 'Animation',\n",
              "  314: 'Drama',\n",
              "  315: 'Action',\n",
              "  316: 'Action',\n",
              "  317: \"Children's\",\n",
              "  318: 'Drama',\n",
              "  319: 'Thriller',\n",
              "  320: 'Film-Noir',\n",
              "  321: 'Drama',\n",
              "  322: 'Comedy',\n",
              "  324: 'Comedy',\n",
              "  325: 'Comedy',\n",
              "  326: 'Drama',\n",
              "  327: 'Action',\n",
              "  328: 'Horror',\n",
              "  329: 'Action',\n",
              "  330: 'Comedy',\n",
              "  331: 'Drama',\n",
              "  332: 'Horror',\n",
              "  333: 'Comedy',\n",
              "  334: 'Drama',\n",
              "  335: 'Mystery',\n",
              "  336: 'Drama',\n",
              "  337: 'Drama',\n",
              "  338: 'Sci-Fi',\n",
              "  339: 'Comedy',\n",
              "  340: 'Adventure',\n",
              "  341: 'Drama',\n",
              "  342: 'Comedy',\n",
              "  343: \"Children's\",\n",
              "  344: 'Comedy',\n",
              "  345: 'Comedy',\n",
              "  346: 'Drama',\n",
              "  347: 'Drama',\n",
              "  348: 'Comedy',\n",
              "  349: 'Action',\n",
              "  350: 'Drama',\n",
              "  351: 'Comedy',\n",
              "  352: 'Comedy',\n",
              "  353: 'Action',\n",
              "  354: 'Drama',\n",
              "  355: \"Children's\",\n",
              "  356: 'Comedy',\n",
              "  357: 'Comedy',\n",
              "  358: 'Drama',\n",
              "  359: 'Comedy',\n",
              "  360: 'Action',\n",
              "  361: 'Drama',\n",
              "  362: 'Adventure',\n",
              "  363: 'Documentary',\n",
              "  364: 'Animation',\n",
              "  365: 'Drama',\n",
              "  366: 'Horror',\n",
              "  367: 'Comedy',\n",
              "  368: 'Action',\n",
              "  369: 'Drama',\n",
              "  370: 'Comedy',\n",
              "  371: 'Comedy',\n",
              "  372: 'Comedy',\n",
              "  373: 'Thriller',\n",
              "  374: \"Children's\",\n",
              "  375: 'Drama',\n",
              "  376: 'Action',\n",
              "  377: 'Action',\n",
              "  378: 'Comedy',\n",
              "  379: 'Action',\n",
              "  380: 'Action',\n",
              "  381: 'Drama',\n",
              "  382: 'Drama',\n",
              "  383: 'Western',\n",
              "  384: 'Action',\n",
              "  385: 'Drama',\n",
              "  386: 'Drama',\n",
              "  387: 'Action',\n",
              "  388: 'Drama',\n",
              "  389: 'Drama',\n",
              "  390: 'Action',\n",
              "  391: 'Crime',\n",
              "  392: 'Adventure',\n",
              "  393: 'Action',\n",
              "  394: 'Action',\n",
              "  395: 'Drama',\n",
              "  396: 'Drama',\n",
              "  397: 'Horror',\n",
              "  398: 'Documentary',\n",
              "  399: 'Drama',\n",
              "  400: 'Drama',\n",
              "  401: 'Action',\n",
              "  402: 'Comedy',\n",
              "  403: 'Comedy',\n",
              "  404: 'Documentary',\n",
              "  405: 'Action',\n",
              "  406: 'Drama',\n",
              "  407: 'Horror',\n",
              "  408: 'Drama',\n",
              "  409: 'Drama',\n",
              "  410: 'Comedy',\n",
              "  411: 'Comedy',\n",
              "  412: 'Drama',\n",
              "  413: 'Comedy',\n",
              "  414: 'Comedy',\n",
              "  415: 'Comedy',\n",
              "  416: 'Western',\n",
              "  417: 'Comedy',\n",
              "  418: 'Drama',\n",
              "  419: 'Comedy',\n",
              "  420: 'Action',\n",
              "  421: 'Adventure',\n",
              "  422: 'Thriller',\n",
              "  423: 'Action',\n",
              "  424: 'Drama',\n",
              "  425: 'Drama',\n",
              "  426: 'Horror',\n",
              "  427: 'Mystery',\n",
              "  428: 'Drama',\n",
              "  429: 'Comedy',\n",
              "  430: 'Drama',\n",
              "  431: 'Crime',\n",
              "  432: 'Comedy',\n",
              "  433: 'Comedy',\n",
              "  434: 'Action',\n",
              "  435: 'Comedy',\n",
              "  436: 'Drama',\n",
              "  437: 'Comedy',\n",
              "  438: 'Action',\n",
              "  439: 'Drama',\n",
              "  440: 'Comedy',\n",
              "  441: 'Comedy',\n",
              "  442: 'Action',\n",
              "  443: 'Documentary',\n",
              "  444: 'Comedy',\n",
              "  445: 'Comedy',\n",
              "  446: 'Drama',\n",
              "  447: 'Comedy',\n",
              "  448: 'Drama',\n",
              "  449: 'Comedy',\n",
              "  450: 'Comedy',\n",
              "  451: 'Drama',\n",
              "  452: 'Drama',\n",
              "  453: 'Comedy',\n",
              "  454: 'Drama',\n",
              "  455: 'Adventure',\n",
              "  456: 'Drama',\n",
              "  457: 'Action',\n",
              "  458: 'Drama',\n",
              "  459: 'Action',\n",
              "  460: 'Comedy',\n",
              "  461: 'Drama',\n",
              "  462: 'Action',\n",
              "  463: 'Crime',\n",
              "  464: 'Action',\n",
              "  465: 'Action',\n",
              "  466: 'Action',\n",
              "  467: 'Comedy',\n",
              "  468: 'Comedy',\n",
              "  469: 'Drama',\n",
              "  470: 'Comedy',\n",
              "  471: 'Comedy',\n",
              "  472: 'Comedy',\n",
              "  473: 'Comedy',\n",
              "  474: 'Action',\n",
              "  475: 'Drama',\n",
              "  476: 'Comedy',\n",
              "  477: 'Drama',\n",
              "  478: 'Comedy',\n",
              "  479: 'Action',\n",
              "  480: 'Action',\n",
              "  481: 'Drama',\n",
              "  482: 'Thriller',\n",
              "  483: 'Drama',\n",
              "  484: 'Adventure',\n",
              "  485: 'Action',\n",
              "  486: 'Comedy',\n",
              "  487: 'Comedy',\n",
              "  488: 'Drama',\n",
              "  489: 'Comedy',\n",
              "  490: 'Thriller',\n",
              "  491: 'Drama',\n",
              "  492: 'Comedy',\n",
              "  493: 'Action',\n",
              "  494: 'Action',\n",
              "  495: 'Drama',\n",
              "  496: 'Comedy',\n",
              "  497: 'Comedy',\n",
              "  498: 'Drama',\n",
              "  499: 'Comedy',\n",
              "  500: 'Comedy',\n",
              "  501: 'Drama',\n",
              "  502: 'Action',\n",
              "  503: 'Drama',\n",
              "  504: 'Action',\n",
              "  505: 'Comedy',\n",
              "  506: 'Drama',\n",
              "  507: 'Action',\n",
              "  508: 'Drama',\n",
              "  509: 'Drama',\n",
              "  510: 'Drama',\n",
              "  511: 'Action',\n",
              "  512: 'Horror',\n",
              "  513: 'Comedy',\n",
              "  514: 'Comedy',\n",
              "  515: 'Drama',\n",
              "  516: 'Comedy',\n",
              "  517: 'Action',\n",
              "  518: 'Comedy',\n",
              "  519: 'Sci-Fi',\n",
              "  520: 'Comedy',\n",
              "  521: 'Crime',\n",
              "  522: 'Action',\n",
              "  523: 'Drama',\n",
              "  524: 'Drama',\n",
              "  525: 'Drama',\n",
              "  526: 'Drama',\n",
              "  527: 'Drama',\n",
              "  528: 'Drama',\n",
              "  529: 'Drama',\n",
              "  530: 'Drama',\n",
              "  531: \"Children's\",\n",
              "  532: 'Comedy',\n",
              "  533: 'Action',\n",
              "  534: 'Drama',\n",
              "  535: 'Drama',\n",
              "  536: 'Drama',\n",
              "  537: 'Comedy',\n",
              "  538: 'Drama',\n",
              "  539: 'Comedy',\n",
              "  540: 'Thriller',\n",
              "  541: 'Film-Noir',\n",
              "  542: 'Comedy',\n",
              "  543: 'Comedy',\n",
              "  544: 'Action',\n",
              "  545: 'Drama',\n",
              "  546: 'Action',\n",
              "  547: 'Action',\n",
              "  548: 'Action',\n",
              "  549: 'Documentary',\n",
              "  550: 'Comedy',\n",
              "  551: \"Children's\",\n",
              "  552: 'Action',\n",
              "  553: 'Western',\n",
              "  554: 'Thriller',\n",
              "  555: 'Action',\n",
              "  556: 'Documentary',\n",
              "  557: 'Drama',\n",
              "  558: 'Action',\n",
              "  559: 'Comedy',\n",
              "  560: 'Drama',\n",
              "  561: 'Thriller',\n",
              "  562: 'Comedy',\n",
              "  563: 'Drama',\n",
              "  564: 'Comedy',\n",
              "  565: 'Horror',\n",
              "  566: 'Comedy',\n",
              "  567: 'Drama',\n",
              "  568: 'Comedy',\n",
              "  569: \"Children's\",\n",
              "  570: 'Comedy',\n",
              "  571: 'Drama',\n",
              "  572: 'Drama',\n",
              "  573: 'Drama',\n",
              "  574: 'Comedy',\n",
              "  575: \"Children's\",\n",
              "  576: 'Comedy',\n",
              "  577: 'Adventure',\n",
              "  578: 'Drama',\n",
              "  579: 'Thriller',\n",
              "  580: 'Drama',\n",
              "  581: 'Documentary',\n",
              "  582: 'Comedy',\n",
              "  583: 'Comedy',\n",
              "  584: 'Drama',\n",
              "  585: 'Comedy',\n",
              "  586: \"Children's\",\n",
              "  587: 'Comedy',\n",
              "  588: 'Animation',\n",
              "  589: 'Action',\n",
              "  590: 'Adventure',\n",
              "  591: 'Action',\n",
              "  592: 'Action',\n",
              "  593: 'Drama',\n",
              "  594: 'Animation',\n",
              "  595: 'Animation',\n",
              "  596: 'Animation',\n",
              "  597: 'Comedy',\n",
              "  598: 'Comedy',\n",
              "  599: 'Western',\n",
              "  600: 'Thriller',\n",
              "  601: 'Drama',\n",
              "  602: 'Documentary',\n",
              "  603: 'Comedy',\n",
              "  604: 'Documentary',\n",
              "  605: 'Drama',\n",
              "  606: 'Horror',\n",
              "  607: 'Drama',\n",
              "  608: 'Crime',\n",
              "  609: 'Adventure',\n",
              "  610: 'Action',\n",
              "  611: 'Action',\n",
              "  612: 'Comedy',\n",
              "  613: 'Drama',\n",
              "  614: 'Drama',\n",
              "  615: 'Drama',\n",
              "  616: 'Animation',\n",
              "  617: 'Drama',\n",
              "  618: 'Comedy',\n",
              "  619: 'Comedy',\n",
              "  620: 'Drama',\n",
              "  621: 'Drama',\n",
              "  623: 'Romance',\n",
              "  624: 'Action',\n",
              "  625: 'Drama',\n",
              "  626: 'Comedy',\n",
              "  627: 'Drama',\n",
              "  628: 'Drama',\n",
              "  629: 'Drama',\n",
              "  630: 'Drama',\n",
              "  631: 'Animation',\n",
              "  632: 'War',\n",
              "  633: 'Comedy',\n",
              "  634: 'Comedy',\n",
              "  635: 'Comedy',\n",
              "  636: 'Drama',\n",
              "  637: 'Comedy',\n",
              "  638: 'Romance',\n",
              "  639: 'Comedy',\n",
              "  640: 'Drama',\n",
              "  641: 'Comedy',\n",
              "  642: 'Drama',\n",
              "  643: 'Comedy',\n",
              "  644: 'Comedy',\n",
              "  645: 'Drama',\n",
              "  647: 'Drama',\n",
              "  648: 'Action',\n",
              "  649: 'Comedy',\n",
              "  650: 'Drama',\n",
              "  651: 'Comedy',\n",
              "  652: 'Mystery',\n",
              "  653: 'Action',\n",
              "  654: 'Drama',\n",
              "  655: 'Comedy',\n",
              "  656: 'Comedy',\n",
              "  657: 'Comedy',\n",
              "  658: 'Drama',\n",
              "  659: 'Crime',\n",
              "  660: 'Drama',\n",
              "  661: 'Animation',\n",
              "  662: 'Thriller',\n",
              "  663: 'Comedy',\n",
              "  664: 'Comedy',\n",
              "  665: 'War',\n",
              "  666: 'Drama',\n",
              "  667: 'Action',\n",
              "  668: 'Drama',\n",
              "  669: 'Drama',\n",
              "  670: 'Drama',\n",
              "  671: 'Comedy',\n",
              "  672: 'Drama',\n",
              "  673: 'Adventure',\n",
              "  674: 'Adventure',\n",
              "  675: 'Action',\n",
              "  676: 'Drama',\n",
              "  678: 'Drama',\n",
              "  679: 'Drama',\n",
              "  680: 'Sci-Fi',\n",
              "  681: 'Crime',\n",
              "  682: 'Documentary',\n",
              "  683: 'Documentary',\n",
              "  684: 'Drama',\n",
              "  685: 'Drama',\n",
              "  687: 'Drama',\n",
              "  688: 'Action',\n",
              "  690: 'Romance',\n",
              "  691: 'Comedy',\n",
              "  692: 'Action',\n",
              "  693: 'Drama',\n",
              "  694: 'Action',\n",
              "  695: 'Mystery',\n",
              "  696: 'Thriller',\n",
              "  697: 'Drama',\n",
              "  698: 'Drama',\n",
              "  699: 'Drama',\n",
              "  700: 'Comedy',\n",
              "  701: 'Drama',\n",
              "  702: 'Drama',\n",
              "  703: 'Drama',\n",
              "  704: 'Action',\n",
              "  705: 'Comedy',\n",
              "  706: 'Drama',\n",
              "  707: 'Crime',\n",
              "  708: 'Comedy',\n",
              "  709: 'Animation',\n",
              "  710: 'Comedy',\n",
              "  711: 'Adventure',\n",
              "  712: 'Drama',\n",
              "  713: 'Drama',\n",
              "  714: 'Western',\n",
              "  715: 'Drama',\n",
              "  716: 'Crime',\n",
              "  717: 'Comedy',\n",
              "  718: 'Comedy',\n",
              "  719: 'Comedy',\n",
              "  720: 'Animation',\n",
              "  721: 'Drama',\n",
              "  722: 'Documentary',\n",
              "  723: 'Drama',\n",
              "  724: 'Drama',\n",
              "  725: 'Comedy',\n",
              "  726: 'Drama',\n",
              "  727: 'Documentary',\n",
              "  728: 'Comedy',\n",
              "  729: 'Drama',\n",
              "  730: 'Drama',\n",
              "  731: 'Mystery',\n",
              "  732: 'Crime',\n",
              "  733: 'Action',\n",
              "  734: 'Comedy',\n",
              "  735: 'Comedy',\n",
              "  736: 'Action',\n",
              "  737: 'Action',\n",
              "  738: 'Drama',\n",
              "  739: 'Comedy',\n",
              "  741: 'Animation',\n",
              "  742: 'Horror',\n",
              "  743: 'Comedy',\n",
              "  744: 'Drama',\n",
              "  745: 'Animation',\n",
              "  746: 'Film-Noir',\n",
              "  747: 'Comedy',\n",
              "  748: 'Action',\n",
              "  749: 'Drama',\n",
              "  750: 'Sci-Fi',\n",
              "  751: 'Comedy',\n",
              "  752: 'Comedy',\n",
              "  753: 'Comedy',\n",
              "  754: 'Adventure',\n",
              "  755: \"Children's\",\n",
              "  756: 'Documentary',\n",
              "  757: 'Drama',\n",
              "  758: 'Drama',\n",
              "  759: 'Documentary',\n",
              "  760: 'War',\n",
              "  761: 'Adventure',\n",
              "  762: 'Comedy',\n",
              "  763: 'Drama',\n",
              "  764: 'Drama',\n",
              "  765: 'Comedy',\n",
              "  766: 'Drama',\n",
              "  767: 'Drama',\n",
              "  768: 'Drama',\n",
              "  769: 'Documentary',\n",
              "  770: 'Drama',\n",
              "  771: 'Comedy',\n",
              "  772: 'Comedy',\n",
              "  773: 'Drama',\n",
              "  774: 'Drama',\n",
              "  775: 'Horror',\n",
              "  776: 'Comedy',\n",
              "  777: 'War',\n",
              "  778: 'Drama',\n",
              "  779: 'Drama',\n",
              "  780: 'Action',\n",
              "  781: 'Drama',\n",
              "  782: 'Thriller',\n",
              "  783: 'Animation',\n",
              "  784: 'Comedy',\n",
              "  785: 'Comedy',\n",
              "  786: 'Action',\n",
              "  787: 'Documentary',\n",
              "  788: 'Comedy',\n",
              "  789: 'Drama',\n",
              "  790: 'Drama',\n",
              "  791: 'Documentary',\n",
              "  792: 'Fantasy',\n",
              "  793: 'Drama',\n",
              "  794: 'Comedy',\n",
              "  795: 'Drama',\n",
              "  796: 'Drama',\n",
              "  797: 'Comedy',\n",
              "  798: 'Action',\n",
              "  799: 'Comedy',\n",
              "  800: 'Drama',\n",
              "  801: \"Children's\",\n",
              "  802: 'Drama',\n",
              "  803: 'Romance',\n",
              "  804: 'Comedy',\n",
              "  805: 'Drama',\n",
              "  806: 'Drama',\n",
              "  807: 'Comedy',\n",
              "  808: 'Adventure',\n",
              "  809: 'Action',\n",
              "  810: \"Children's\",\n",
              "  811: 'Comedy',\n",
              "  812: 'Drama',\n",
              "  813: 'Comedy',\n",
              "  814: 'Drama',\n",
              "  815: 'Action',\n",
              "  816: 'Drama',\n",
              "  818: 'Comedy',\n",
              "  819: 'Comedy',\n",
              "  820: 'Drama',\n",
              "  821: 'Romance',\n",
              "  822: 'Drama',\n",
              "  823: 'Drama',\n",
              "  824: 'Drama',\n",
              "  825: 'Comedy',\n",
              "  826: 'Drama',\n",
              "  827: 'Drama',\n",
              "  828: 'Adventure',\n",
              "  829: 'Comedy',\n",
              "  830: 'Comedy',\n",
              "  831: 'Drama',\n",
              "  832: 'Drama',\n",
              "  833: 'Comedy',\n",
              "  834: 'Comedy',\n",
              "  835: 'Drama',\n",
              "  836: 'Action',\n",
              "  837: \"Children's\",\n",
              "  838: 'Comedy',\n",
              "  839: 'Action',\n",
              "  840: 'Comedy',\n",
              "  841: 'Horror',\n",
              "  842: 'Horror',\n",
              "  843: 'Drama',\n",
              "  844: 'Drama',\n",
              "  845: 'Drama',\n",
              "  846: 'Drama',\n",
              "  847: 'Comedy',\n",
              "  848: 'Drama',\n",
              "  849: 'Action',\n",
              "  850: 'Crime',\n",
              "  851: 'Drama',\n",
              "  852: 'Comedy',\n",
              "  853: 'Drama',\n",
              "  854: 'Drama',\n",
              "  855: 'Drama',\n",
              "  856: 'Comedy',\n",
              "  857: 'Drama',\n",
              "  858: 'Action',\n",
              "  859: 'Documentary',\n",
              "  860: 'Comedy',\n",
              "  861: 'Action',\n",
              "  862: 'Drama',\n",
              "  863: 'Comedy',\n",
              "  864: 'Comedy',\n",
              "  865: 'Drama',\n",
              "  866: 'Crime',\n",
              "  867: 'Comedy',\n",
              "  868: 'Comedy',\n",
              "  869: 'Crime',\n",
              "  870: 'Comedy',\n",
              "  871: 'Comedy',\n",
              "  872: 'Drama',\n",
              "  873: 'Drama',\n",
              "  874: 'Crime',\n",
              "  875: 'Drama',\n",
              "  876: 'Action',\n",
              "  877: 'Drama',\n",
              "  878: 'Drama',\n",
              "  879: 'Horror',\n",
              "  880: 'Sci-Fi',\n",
              "  881: \"Children's\",\n",
              "  882: 'Drama',\n",
              "  884: 'Drama',\n",
              "  885: \"Children's\",\n",
              "  886: 'Action',\n",
              "  887: 'Drama',\n",
              "  888: 'Animation',\n",
              "  889: 'Romance',\n",
              "  890: 'Thriller',\n",
              "  891: 'Horror',\n",
              "  892: 'Comedy',\n",
              "  893: 'Drama',\n",
              "  894: 'Romance',\n",
              "  895: 'Drama',\n",
              "  896: 'Drama',\n",
              "  897: 'Adventure',\n",
              "  898: 'Comedy',\n",
              "  899: 'Musical',\n",
              "  900: 'Musical',\n",
              "  901: 'Comedy',\n",
              "  902: 'Drama',\n",
              "  903: 'Mystery',\n",
              "  904: 'Mystery',\n",
              "  905: 'Comedy',\n",
              "  906: 'Mystery',\n",
              "  907: 'Comedy',\n",
              "  908: 'Drama',\n",
              "  909: 'Comedy',\n",
              "  910: 'Comedy',\n",
              "  911: 'Comedy',\n",
              "  912: 'Drama',\n",
              "  913: 'Film-Noir',\n",
              "  914: 'Musical',\n",
              "  915: 'Comedy',\n",
              "  916: 'Comedy',\n",
              "  917: \"Children's\",\n",
              "  918: 'Musical',\n",
              "  919: 'Adventure',\n",
              "  920: 'Drama',\n",
              "  921: 'Comedy',\n",
              "  922: 'Film-Noir',\n",
              "  923: 'Drama',\n",
              "  924: 'Drama',\n",
              "  925: 'Adventure',\n",
              "  926: 'Drama',\n",
              "  927: 'Comedy',\n",
              "  928: 'Romance',\n",
              "  929: 'Thriller',\n",
              "  930: 'Film-Noir',\n",
              "  931: 'Mystery',\n",
              "  932: 'Romance',\n",
              "  933: 'Comedy',\n",
              "  934: 'Comedy',\n",
              "  935: 'Comedy',\n",
              "  936: 'Comedy',\n",
              "  937: 'Comedy',\n",
              "  938: 'Musical',\n",
              "  939: 'Comedy',\n",
              "  940: 'Action',\n",
              "  941: 'Adventure',\n",
              "  942: 'Crime',\n",
              "  943: 'Drama',\n",
              "  944: 'Drama',\n",
              "  945: 'Comedy',\n",
              "  946: 'Comedy',\n",
              "  947: 'Comedy',\n",
              "  948: 'Drama',\n",
              "  949: 'Drama',\n",
              "  950: 'Mystery',\n",
              "  951: 'Comedy',\n",
              "  952: 'Adventure',\n",
              "  953: 'Drama',\n",
              "  954: 'Drama',\n",
              "  955: 'Comedy',\n",
              "  956: 'Drama',\n",
              "  957: 'Drama',\n",
              "  958: 'Comedy',\n",
              "  959: 'Drama',\n",
              "  960: 'Crime',\n",
              "  961: 'Drama',\n",
              "  962: 'Crime',\n",
              "  963: 'Musical',\n",
              "  964: 'Western',\n",
              "  965: 'Thriller',\n",
              "  966: 'Drama',\n",
              "  967: 'Western',\n",
              "  968: 'Horror',\n",
              "  969: 'Action',\n",
              "  970: 'Comedy',\n",
              "  971: 'Drama',\n",
              "  972: 'Drama',\n",
              "  973: 'Drama',\n",
              "  974: 'Drama',\n",
              "  975: 'Comedy',\n",
              "  976: 'Romance',\n",
              "  977: 'Mystery',\n",
              "  978: 'Drama',\n",
              "  979: 'Drama',\n",
              "  980: 'Action',\n",
              "  981: 'Drama',\n",
              "  982: 'Drama',\n",
              "  983: 'Romance',\n",
              "  984: 'Comedy',\n",
              "  985: 'Documentary',\n",
              "  986: 'Adventure',\n",
              "  987: 'Drama',\n",
              "  988: 'Comedy',\n",
              "  989: 'Drama',\n",
              "  990: 'Action',\n",
              "  991: 'Drama',\n",
              "  992: 'Thriller',\n",
              "  993: 'Drama',\n",
              "  994: 'Drama',\n",
              "  996: 'Action',\n",
              "  997: 'Drama',\n",
              "  998: 'Action',\n",
              "  999: 'Crime',\n",
              "  1000: 'Crime',\n",
              "  1001: 'Comedy',\n",
              "  1002: 'Comedy',\n",
              "  1003: 'Drama',\n",
              "  1004: 'Action',\n",
              "  1005: \"Children's\",\n",
              "  1006: 'Drama',\n",
              "  1007: \"Children's\",\n",
              "  1008: 'Western',\n",
              "  1009: 'Adventure',\n",
              "  1010: \"Children's\",\n",
              "  1011: 'Adventure',\n",
              "  1012: \"Children's\",\n",
              "  ...}}"
            ]
          },
          "metadata": {},
          "execution_count": 18
        }
      ]
    },
    {
      "cell_type": "code",
      "metadata": {
        "id": "4TEgooeckYOz"
      },
      "source": [
        "# Gensim을 활용한 meta-prod2vec을 학습할 수 있는 데이터셋 생성\n",
        "\n",
        "# ex. [['movie_id:3186', 'year:1990', 'genre:Drama', 'movie_id:1721', \n",
        "#       'year:1990', 'genre:Drama', 'movie_id:1022', 'year:1950', \n",
        "#       'genre:Animation', 'movie_id:1270', 'year:1980', 'genre:Comedy', 'movie_id:2340'...]]\n",
        "movie2vec_dataset = []\n",
        "for movie_list in user_watch_list:\n",
        "  meta_list = []\n",
        "  for movie_id in movie_list:\n",
        "    word_meta_1 = \"movie_id:\" + str(movie_id)\n",
        "    word_meta_2 = \"year:\" + movie_meta_dict['decade'][movie_id]\n",
        "    word_meta_3 = \"genre:\" + movie_meta_dict['main_genre'][movie_id]\n",
        "    meta_list.append(word_meta_1)\n",
        "    meta_list.append(word_meta_2)\n",
        "    meta_list.append(word_meta_3)\n",
        "  movie2vec_dataset.append(meta_list)"
      ],
      "execution_count": 19,
      "outputs": []
    },
    {
      "cell_type": "code",
      "metadata": {
        "id": "f4mZho05X_3P"
      },
      "source": [
        "# '역시 성공은 고난을 동반' -> ['역시','성공','고난','동반']\n",
        "# [movide_id: 1, genre:drama, ....]"
      ],
      "execution_count": 20,
      "outputs": []
    },
    {
      "cell_type": "code",
      "metadata": {
        "colab": {
          "base_uri": "https://localhost:8080/"
        },
        "id": "00y5G6p4YQ0v",
        "outputId": "6374419c-3375-4e66-d9f7-004900efa7df"
      },
      "source": [
        "movie2vec_dataset[1] #원래는 movie id로만 할걸, year와 genre라는 메타 정보를 더 활용하게 된다"
      ],
      "execution_count": 21,
      "outputs": [
        {
          "output_type": "execute_result",
          "data": {
            "text/plain": [
              "['movie_id:1198',\n",
              " 'year:1980',\n",
              " 'genre:Action',\n",
              " 'movie_id:1217',\n",
              " 'year:1980',\n",
              " 'genre:Drama',\n",
              " 'movie_id:1210',\n",
              " 'year:1980',\n",
              " 'genre:Action',\n",
              " 'movie_id:2717',\n",
              " 'year:1980',\n",
              " 'genre:Comedy',\n",
              " 'movie_id:1293',\n",
              " 'year:1980',\n",
              " 'genre:Drama',\n",
              " 'movie_id:2943',\n",
              " 'year:1990',\n",
              " 'genre:Drama',\n",
              " 'movie_id:1225',\n",
              " 'year:1980',\n",
              " 'genre:Drama',\n",
              " 'movie_id:1193',\n",
              " 'year:1970',\n",
              " 'genre:Drama',\n",
              " 'movie_id:318',\n",
              " 'year:1990',\n",
              " 'genre:Drama',\n",
              " 'movie_id:3030',\n",
              " 'year:1960',\n",
              " 'genre:Comedy',\n",
              " 'movie_id:2858',\n",
              " 'year:1990',\n",
              " 'genre:Comedy',\n",
              " 'movie_id:1213',\n",
              " 'year:1990',\n",
              " 'genre:Crime',\n",
              " 'movie_id:1945',\n",
              " 'year:1950',\n",
              " 'genre:Crime',\n",
              " 'movie_id:1207',\n",
              " 'year:1960',\n",
              " 'genre:Drama',\n",
              " 'movie_id:593',\n",
              " 'year:1990',\n",
              " 'genre:Drama',\n",
              " 'movie_id:3095',\n",
              " 'year:1940',\n",
              " 'genre:Drama',\n",
              " 'movie_id:515',\n",
              " 'year:1990',\n",
              " 'genre:Drama',\n",
              " 'movie_id:1873',\n",
              " 'year:1990',\n",
              " 'genre:Drama',\n",
              " 'movie_id:3468',\n",
              " 'year:1960',\n",
              " 'genre:Drama',\n",
              " 'movie_id:1090',\n",
              " 'year:1980',\n",
              " 'genre:Drama',\n",
              " 'movie_id:2501',\n",
              " 'year:1990',\n",
              " 'genre:Drama',\n",
              " 'movie_id:2067',\n",
              " 'year:1960',\n",
              " 'genre:Drama',\n",
              " 'movie_id:110',\n",
              " 'year:1990',\n",
              " 'genre:Action',\n",
              " 'movie_id:3035',\n",
              " 'year:1950',\n",
              " 'genre:Comedy',\n",
              " 'movie_id:3147',\n",
              " 'year:1990',\n",
              " 'genre:Drama',\n",
              " 'movie_id:1247',\n",
              " 'year:1960',\n",
              " 'genre:Drama',\n",
              " 'movie_id:3105',\n",
              " 'year:1990',\n",
              " 'genre:Drama',\n",
              " 'movie_id:1357',\n",
              " 'year:1990',\n",
              " 'genre:Drama',\n",
              " 'movie_id:1196',\n",
              " 'year:1980',\n",
              " 'genre:Action',\n",
              " 'movie_id:1957',\n",
              " 'year:1980',\n",
              " 'genre:Drama',\n",
              " 'movie_id:920',\n",
              " 'year:1930',\n",
              " 'genre:Drama',\n",
              " 'movie_id:1953',\n",
              " 'year:1970',\n",
              " 'genre:Action',\n",
              " 'movie_id:1084',\n",
              " 'year:1960',\n",
              " 'genre:Crime',\n",
              " 'movie_id:1962',\n",
              " 'year:1980',\n",
              " 'genre:Drama',\n",
              " 'movie_id:1834',\n",
              " 'year:1990',\n",
              " 'genre:Drama',\n",
              " 'movie_id:3735',\n",
              " 'year:1970',\n",
              " 'genre:Crime',\n",
              " 'movie_id:3654',\n",
              " 'year:1960',\n",
              " 'genre:Action',\n",
              " 'movie_id:3471',\n",
              " 'year:1970',\n",
              " 'genre:Drama',\n",
              " 'movie_id:1784',\n",
              " 'year:1990',\n",
              " 'genre:Comedy',\n",
              " 'movie_id:1259',\n",
              " 'year:1980',\n",
              " 'genre:Adventure',\n",
              " 'movie_id:1954',\n",
              " 'year:1970',\n",
              " 'genre:Action',\n",
              " 'movie_id:2728',\n",
              " 'year:1960',\n",
              " 'genre:Drama',\n",
              " 'movie_id:1968',\n",
              " 'year:1980',\n",
              " 'genre:Comedy',\n",
              " 'movie_id:902',\n",
              " 'year:1960',\n",
              " 'genre:Drama',\n",
              " 'movie_id:1103',\n",
              " 'year:1950',\n",
              " 'genre:Drama',\n",
              " 'movie_id:3451',\n",
              " 'year:1960',\n",
              " 'genre:Comedy',\n",
              " 'movie_id:3334',\n",
              " 'year:1940',\n",
              " 'genre:Crime',\n",
              " 'movie_id:2852',\n",
              " 'year:1980',\n",
              " 'genre:Drama',\n",
              " 'movie_id:3578',\n",
              " 'year:2000',\n",
              " 'genre:Action',\n",
              " 'movie_id:3068',\n",
              " 'year:1980',\n",
              " 'genre:Drama',\n",
              " 'movie_id:265',\n",
              " 'year:1990',\n",
              " 'genre:Drama',\n",
              " 'movie_id:2312',\n",
              " 'year:1980',\n",
              " 'genre:Drama',\n",
              " 'movie_id:590',\n",
              " 'year:1990',\n",
              " 'genre:Adventure',\n",
              " 'movie_id:3071',\n",
              " 'year:1980',\n",
              " 'genre:Drama',\n",
              " 'movie_id:1253',\n",
              " 'year:1950',\n",
              " 'genre:Drama',\n",
              " 'movie_id:1244',\n",
              " 'year:1970',\n",
              " 'genre:Comedy',\n",
              " 'movie_id:3699',\n",
              " 'year:1980',\n",
              " 'genre:Adventure',\n",
              " 'movie_id:1245',\n",
              " 'year:1990',\n",
              " 'genre:Drama',\n",
              " 'movie_id:1955',\n",
              " 'year:1970',\n",
              " 'genre:Drama',\n",
              " 'movie_id:2236',\n",
              " 'year:1990',\n",
              " 'genre:Drama',\n",
              " 'movie_id:3678',\n",
              " 'year:1950',\n",
              " 'genre:Drama',\n",
              " 'movie_id:982',\n",
              " 'year:1950',\n",
              " 'genre:Drama',\n",
              " 'movie_id:1442',\n",
              " 'year:1990',\n",
              " 'genre:Drama',\n",
              " 'movie_id:2268',\n",
              " 'year:1990',\n",
              " 'genre:Crime',\n",
              " 'movie_id:2194',\n",
              " 'year:1980',\n",
              " 'genre:Action',\n",
              " 'movie_id:3255',\n",
              " 'year:1990',\n",
              " 'genre:Comedy',\n",
              " 'movie_id:235',\n",
              " 'year:1990',\n",
              " 'genre:Comedy',\n",
              " 'movie_id:647',\n",
              " 'year:1990',\n",
              " 'genre:Drama',\n",
              " 'movie_id:1096',\n",
              " 'year:1980',\n",
              " 'genre:Drama',\n",
              " 'movie_id:498',\n",
              " 'year:1990',\n",
              " 'genre:Drama',\n",
              " 'movie_id:1246',\n",
              " 'year:1980',\n",
              " 'genre:Drama',\n",
              " 'movie_id:1124',\n",
              " 'year:1980',\n",
              " 'genre:Drama',\n",
              " 'movie_id:3893',\n",
              " 'year:2000',\n",
              " 'genre:Comedy',\n",
              " 'movie_id:1537',\n",
              " 'year:1990',\n",
              " 'genre:Comedy',\n",
              " 'movie_id:1188',\n",
              " 'year:1990',\n",
              " 'genre:Comedy',\n",
              " 'movie_id:2396',\n",
              " 'year:1990',\n",
              " 'genre:Comedy',\n",
              " 'movie_id:2321',\n",
              " 'year:1990',\n",
              " 'genre:Comedy',\n",
              " 'movie_id:2359',\n",
              " 'year:1990',\n",
              " 'genre:Comedy',\n",
              " 'movie_id:356',\n",
              " 'year:1990',\n",
              " 'genre:Comedy',\n",
              " 'movie_id:3809',\n",
              " 'year:1990',\n",
              " 'genre:Comedy',\n",
              " 'movie_id:3108',\n",
              " 'year:1990',\n",
              " 'genre:Comedy',\n",
              " 'movie_id:1265',\n",
              " 'year:1990',\n",
              " 'genre:Comedy',\n",
              " 'movie_id:2571',\n",
              " 'year:1990',\n",
              " 'genre:Action',\n",
              " 'movie_id:457',\n",
              " 'year:1990',\n",
              " 'genre:Action',\n",
              " 'movie_id:2028',\n",
              " 'year:1990',\n",
              " 'genre:Action',\n",
              " 'movie_id:589',\n",
              " 'year:1990',\n",
              " 'genre:Action',\n",
              " 'movie_id:380',\n",
              " 'year:1990',\n",
              " 'genre:Action',\n",
              " 'movie_id:3418',\n",
              " 'year:1990',\n",
              " 'genre:Action',\n",
              " 'movie_id:163',\n",
              " 'year:1990',\n",
              " 'genre:Action',\n",
              " 'movie_id:1610',\n",
              " 'year:1990',\n",
              " 'genre:Action',\n",
              " 'movie_id:2916',\n",
              " 'year:1990',\n",
              " 'genre:Action',\n",
              " 'movie_id:480',\n",
              " 'year:1990',\n",
              " 'genre:Action',\n",
              " 'movie_id:3256',\n",
              " 'year:1990',\n",
              " 'genre:Action',\n",
              " 'movie_id:1527',\n",
              " 'year:1990',\n",
              " 'genre:Action',\n",
              " 'movie_id:349',\n",
              " 'year:1990',\n",
              " 'genre:Action',\n",
              " 'movie_id:1408',\n",
              " 'year:1990',\n",
              " 'genre:Action',\n",
              " 'movie_id:21',\n",
              " 'year:1990',\n",
              " 'genre:Action',\n",
              " 'movie_id:2353',\n",
              " 'year:1990',\n",
              " 'genre:Action',\n",
              " 'movie_id:2006',\n",
              " 'year:1990',\n",
              " 'genre:Action',\n",
              " 'movie_id:2278',\n",
              " 'year:1990',\n",
              " 'genre:Action',\n",
              " 'movie_id:1370',\n",
              " 'year:1990',\n",
              " 'genre:Action',\n",
              " 'movie_id:2427',\n",
              " 'year:1990',\n",
              " 'genre:Action',\n",
              " 'movie_id:648',\n",
              " 'year:1990',\n",
              " 'genre:Action',\n",
              " 'movie_id:1372',\n",
              " 'year:1990',\n",
              " 'genre:Action',\n",
              " 'movie_id:1552',\n",
              " 'year:1990',\n",
              " 'genre:Action',\n",
              " 'movie_id:1792',\n",
              " 'year:1990',\n",
              " 'genre:Action',\n",
              " 'movie_id:2490',\n",
              " 'year:1990',\n",
              " 'genre:Action',\n",
              " 'movie_id:1385',\n",
              " 'year:1990',\n",
              " 'genre:Action',\n",
              " 'movie_id:780',\n",
              " 'year:1990',\n",
              " 'genre:Action',\n",
              " 'movie_id:165',\n",
              " 'year:1990',\n",
              " 'genre:Action',\n",
              " 'movie_id:2881',\n",
              " 'year:1990',\n",
              " 'genre:Action',\n",
              " 'movie_id:368',\n",
              " 'year:1990',\n",
              " 'genre:Action',\n",
              " 'movie_id:459',\n",
              " 'year:1990',\n",
              " 'genre:Action',\n",
              " 'movie_id:1801',\n",
              " 'year:1990',\n",
              " 'genre:Action',\n",
              " 'movie_id:3107',\n",
              " 'year:1990',\n",
              " 'genre:Action',\n",
              " 'movie_id:1597',\n",
              " 'year:1990',\n",
              " 'genre:Action',\n",
              " 'movie_id:442',\n",
              " 'year:1990',\n",
              " 'genre:Action',\n",
              " 'movie_id:1690',\n",
              " 'year:1990',\n",
              " 'genre:Action',\n",
              " 'movie_id:2628',\n",
              " 'year:1990',\n",
              " 'genre:Action',\n",
              " 'movie_id:3257',\n",
              " 'year:1990',\n",
              " 'genre:Action',\n",
              " 'movie_id:2002',\n",
              " 'year:1990',\n",
              " 'genre:Action',\n",
              " 'movie_id:736',\n",
              " 'year:1990',\n",
              " 'genre:Action',\n",
              " 'movie_id:292',\n",
              " 'year:1990',\n",
              " 'genre:Action',\n",
              " 'movie_id:2126',\n",
              " 'year:1990',\n",
              " 'genre:Action',\n",
              " 'movie_id:95',\n",
              " 'year:1990',\n",
              " 'genre:Action',\n",
              " 'movie_id:1687',\n",
              " 'year:1990',\n",
              " 'genre:Action',\n",
              " 'movie_id:434',\n",
              " 'year:1990',\n",
              " 'genre:Action',\n",
              " 'movie_id:1544',\n",
              " 'year:1990',\n",
              " 'genre:Action',\n",
              " 'movie_id:1917',\n",
              " 'year:1990',\n",
              " 'genre:Action']"
            ]
          },
          "metadata": {},
          "execution_count": 21
        }
      ]
    },
    {
      "cell_type": "code",
      "metadata": {
        "colab": {
          "base_uri": "https://localhost:8080/"
        },
        "id": "1bPzDPI-3v_D",
        "outputId": "9d8798ec-e7e5-4063-c481-93322516d1e1"
      },
      "source": [
        "!pip install gensim"
      ],
      "execution_count": 22,
      "outputs": [
        {
          "output_type": "stream",
          "name": "stdout",
          "text": [
            "Requirement already satisfied: gensim in /usr/local/lib/python3.7/dist-packages (3.6.0)\n",
            "Requirement already satisfied: scipy>=0.18.1 in /usr/local/lib/python3.7/dist-packages (from gensim) (1.4.1)\n",
            "Requirement already satisfied: numpy>=1.11.3 in /usr/local/lib/python3.7/dist-packages (from gensim) (1.19.5)\n",
            "Requirement already satisfied: six>=1.5.0 in /usr/local/lib/python3.7/dist-packages (from gensim) (1.15.0)\n",
            "Requirement already satisfied: smart-open>=1.2.1 in /usr/local/lib/python3.7/dist-packages (from gensim) (5.2.1)\n"
          ]
        }
      ]
    },
    {
      "cell_type": "code",
      "metadata": {
        "id": "AqEsApb-1wXe"
      },
      "source": [
        "from gensim.models import Word2Vec\n",
        "\n",
        "model = Word2Vec(movie2vec_dataset,\n",
        "                 size=100,\n",
        "                 window=6,  # 주변 word의 윈도우\n",
        "                 sg=1,  # skip-gram OR cbow\n",
        "                 hs=0,  # hierarchical softmax OR negative sampling\n",
        "                 negative=20,  # negative sampling 파라미터\n",
        "                 min_count=1,  # word의 등장 최소 횟수\n",
        "                 iter=1) #20"
      ],
      "execution_count": 37,
      "outputs": []
    },
    {
      "cell_type": "markdown",
      "metadata": {
        "id": "6SCUvPciUUpj"
      },
      "source": [
        "### 문제 6. Embedding - 일부 데이터로 Movie2Vec 학습 결과 확인"
      ]
    },
    {
      "cell_type": "code",
      "metadata": {
        "id": "-jubUDxCRi7r",
        "colab": {
          "base_uri": "https://localhost:8080/"
        },
        "outputId": "2376e994-87b4-46c4-db5f-a287af1678d2"
      },
      "source": [
        "# most_similar 함수로 학습 결과 확인\n",
        "model.wv.most_similar(\"movie_id:1\", topn=5) #1번영화 -> 토이스토리와 가장 유사한 벡터"
      ],
      "execution_count": 40,
      "outputs": [
        {
          "output_type": "execute_result",
          "data": {
            "text/plain": [
              "[('movie_id:1223', 0.9044589996337891),\n",
              " ('movie_id:3429', 0.8868853449821472),\n",
              " ('movie_id:3114', 0.8458936214447021),\n",
              " ('movie_id:3213', 0.8388711214065552),\n",
              " ('movie_id:34', 0.837963342666626)]"
            ]
          },
          "metadata": {},
          "execution_count": 40
        }
      ]
    },
    {
      "cell_type": "code",
      "metadata": {
        "id": "MP-rjcVd9Typ",
        "colab": {
          "base_uri": "https://localhost:8080/",
          "height": 206
        },
        "outputId": "e5404d5c-4b7f-4f52-9d5e-d791b105f871"
      },
      "source": [
        "movie_df[movie_df['movie_id'].isin([1223,3429,2324,2289,1537])] #비교적 잘 embedding이 되었음"
      ],
      "execution_count": 41,
      "outputs": [
        {
          "output_type": "execute_result",
          "data": {
            "text/html": [
              "<div>\n",
              "<style scoped>\n",
              "    .dataframe tbody tr th:only-of-type {\n",
              "        vertical-align: middle;\n",
              "    }\n",
              "\n",
              "    .dataframe tbody tr th {\n",
              "        vertical-align: top;\n",
              "    }\n",
              "\n",
              "    .dataframe thead th {\n",
              "        text-align: right;\n",
              "    }\n",
              "</style>\n",
              "<table border=\"1\" class=\"dataframe\">\n",
              "  <thead>\n",
              "    <tr style=\"text-align: right;\">\n",
              "      <th></th>\n",
              "      <th>movie_id</th>\n",
              "      <th>title</th>\n",
              "      <th>genre</th>\n",
              "      <th>decade</th>\n",
              "      <th>main_genre</th>\n",
              "    </tr>\n",
              "  </thead>\n",
              "  <tbody>\n",
              "    <tr>\n",
              "      <th>1205</th>\n",
              "      <td>1223</td>\n",
              "      <td>Grand Day Out, A (1992)</td>\n",
              "      <td>Animation|Comedy</td>\n",
              "      <td>1990</td>\n",
              "      <td>Animation</td>\n",
              "    </tr>\n",
              "    <tr>\n",
              "      <th>1499</th>\n",
              "      <td>1537</td>\n",
              "      <td>Shall We Dance? (Shall We Dansu?) (1996)</td>\n",
              "      <td>Comedy</td>\n",
              "      <td>1990</td>\n",
              "      <td>Comedy</td>\n",
              "    </tr>\n",
              "    <tr>\n",
              "      <th>2220</th>\n",
              "      <td>2289</td>\n",
              "      <td>Player, The (1992)</td>\n",
              "      <td>Comedy|Drama</td>\n",
              "      <td>1990</td>\n",
              "      <td>Comedy</td>\n",
              "    </tr>\n",
              "    <tr>\n",
              "      <th>2255</th>\n",
              "      <td>2324</td>\n",
              "      <td>Life Is Beautiful (La Vita è bella) (1997)</td>\n",
              "      <td>Comedy|Drama</td>\n",
              "      <td>1990</td>\n",
              "      <td>Comedy</td>\n",
              "    </tr>\n",
              "    <tr>\n",
              "      <th>3360</th>\n",
              "      <td>3429</td>\n",
              "      <td>Creature Comforts (1990)</td>\n",
              "      <td>Animation|Comedy</td>\n",
              "      <td>1990</td>\n",
              "      <td>Animation</td>\n",
              "    </tr>\n",
              "  </tbody>\n",
              "</table>\n",
              "</div>"
            ],
            "text/plain": [
              "      movie_id                                       title  ... decade main_genre\n",
              "1205      1223                     Grand Day Out, A (1992)  ...   1990  Animation\n",
              "1499      1537    Shall We Dance? (Shall We Dansu?) (1996)  ...   1990     Comedy\n",
              "2220      2289                          Player, The (1992)  ...   1990     Comedy\n",
              "2255      2324  Life Is Beautiful (La Vita è bella) (1997)  ...   1990     Comedy\n",
              "3360      3429                    Creature Comforts (1990)  ...   1990  Animation\n",
              "\n",
              "[5 rows x 5 columns]"
            ]
          },
          "metadata": {},
          "execution_count": 41
        }
      ]
    },
    {
      "cell_type": "markdown",
      "metadata": {
        "id": "sdgJnK6iRjm6"
      },
      "source": [
        "### 문제 7. EDA & 전처리 - Movie2Vec 모델로 Item2Item 후보군 생성"
      ]
    },
    {
      "cell_type": "code",
      "metadata": {
        "id": "IGxmZFbyRoBX",
        "colab": {
          "base_uri": "https://localhost:8080/"
        },
        "outputId": "c7b75538-4c9a-404a-b0a8-26b0cc71862d"
      },
      "source": [
        "item2item = {}\n",
        "\n",
        "# 영화별 연관 영화 k개씩 추출\n",
        "k = 10\n",
        "not_in_count = 0\n",
        "for movie_id in movie_df['movie_id'].values:\n",
        "  item2item[movie_id] = []\n",
        "  try:\n",
        "    sim_list = model.wv.most_similar(\"movie_id:\" + str(movie_id), topn=k+10) #+10 후보군이 10개가 안될때 채워줌(최소10개 채움)\n",
        "    for movie_tup in sim_list:\n",
        "      tup_info = movie_tup[0].split(\":\")\n",
        "      if (tup_info[0] == \"movie_id\") and (len(item2item[movie_id]) < 10):\n",
        "        item2item[movie_id].append(tup_info[1])\n",
        "  except: #word 2 vec 학습시 등장하지 않은 단어가 나올때 대비하기 위함\n",
        "    not_in_count += 1\n",
        "    print(\"word\", str(movie_id) ,\"not in vocabulary\")"
      ],
      "execution_count": 42,
      "outputs": [
        {
          "output_type": "stream",
          "name": "stdout",
          "text": [
            "word 51 not in vocabulary\n",
            "word 109 not in vocabulary\n",
            "word 115 not in vocabulary\n",
            "word 143 not in vocabulary\n",
            "word 284 not in vocabulary\n",
            "word 285 not in vocabulary\n",
            "word 395 not in vocabulary\n",
            "word 399 not in vocabulary\n",
            "word 400 not in vocabulary\n",
            "word 403 not in vocabulary\n",
            "word 604 not in vocabulary\n",
            "word 620 not in vocabulary\n",
            "word 625 not in vocabulary\n",
            "word 629 not in vocabulary\n",
            "word 636 not in vocabulary\n",
            "word 654 not in vocabulary\n",
            "word 675 not in vocabulary\n",
            "word 676 not in vocabulary\n",
            "word 683 not in vocabulary\n",
            "word 693 not in vocabulary\n",
            "word 699 not in vocabulary\n",
            "word 713 not in vocabulary\n",
            "word 721 not in vocabulary\n",
            "word 723 not in vocabulary\n",
            "word 727 not in vocabulary\n",
            "word 738 not in vocabulary\n",
            "word 739 not in vocabulary\n",
            "word 752 not in vocabulary\n",
            "word 768 not in vocabulary\n",
            "word 770 not in vocabulary\n",
            "word 772 not in vocabulary\n",
            "word 773 not in vocabulary\n",
            "word 777 not in vocabulary\n",
            "word 794 not in vocabulary\n",
            "word 795 not in vocabulary\n",
            "word 797 not in vocabulary\n",
            "word 812 not in vocabulary\n",
            "word 816 not in vocabulary\n",
            "word 819 not in vocabulary\n",
            "word 822 not in vocabulary\n",
            "word 825 not in vocabulary\n",
            "word 845 not in vocabulary\n",
            "word 855 not in vocabulary\n",
            "word 856 not in vocabulary\n",
            "word 857 not in vocabulary\n",
            "word 871 not in vocabulary\n",
            "word 873 not in vocabulary\n",
            "word 890 not in vocabulary\n",
            "word 894 not in vocabulary\n",
            "word 979 not in vocabulary\n",
            "word 983 not in vocabulary\n",
            "word 1001 not in vocabulary\n",
            "word 1045 not in vocabulary\n",
            "word 1052 not in vocabulary\n",
            "word 1065 not in vocabulary\n",
            "word 1075 not in vocabulary\n",
            "word 1106 not in vocabulary\n",
            "word 1108 not in vocabulary\n",
            "word 1109 not in vocabulary\n",
            "word 1110 not in vocabulary\n",
            "word 1122 not in vocabulary\n",
            "word 1137 not in vocabulary\n",
            "word 1140 not in vocabulary\n",
            "word 1141 not in vocabulary\n",
            "word 1143 not in vocabulary\n",
            "word 1146 not in vocabulary\n",
            "word 1155 not in vocabulary\n",
            "word 1156 not in vocabulary\n",
            "word 1157 not in vocabulary\n",
            "word 1158 not in vocabulary\n",
            "word 1159 not in vocabulary\n",
            "word 1166 not in vocabulary\n",
            "word 1308 not in vocabulary\n",
            "word 1309 not in vocabulary\n",
            "word 1314 not in vocabulary\n",
            "word 1318 not in vocabulary\n",
            "word 1319 not in vocabulary\n",
            "word 1368 not in vocabulary\n",
            "word 1400 not in vocabulary\n",
            "word 1424 not in vocabulary\n",
            "word 1443 not in vocabulary\n",
            "word 1448 not in vocabulary\n",
            "word 1462 not in vocabulary\n",
            "word 1467 not in vocabulary\n",
            "word 1524 not in vocabulary\n",
            "word 1557 not in vocabulary\n",
            "word 1559 not in vocabulary\n",
            "word 1568 not in vocabulary\n",
            "word 1577 not in vocabulary\n",
            "word 1578 not in vocabulary\n",
            "word 1628 not in vocabulary\n",
            "word 1697 not in vocabulary\n",
            "word 1698 not in vocabulary\n",
            "word 1705 not in vocabulary\n",
            "word 1706 not in vocabulary\n",
            "word 1708 not in vocabulary\n",
            "word 1710 not in vocabulary\n",
            "word 1716 not in vocabulary\n",
            "word 1723 not in vocabulary\n",
            "word 1738 not in vocabulary\n",
            "word 1740 not in vocabulary\n",
            "word 1742 not in vocabulary\n",
            "word 1757 not in vocabulary\n",
            "word 1765 not in vocabulary\n",
            "word 1768 not in vocabulary\n",
            "word 1774 not in vocabulary\n",
            "word 1776 not in vocabulary\n",
            "word 1781 not in vocabulary\n",
            "word 1789 not in vocabulary\n",
            "word 1819 not in vocabulary\n",
            "word 1847 not in vocabulary\n",
            "word 2030 not in vocabulary\n",
            "word 2199 not in vocabulary\n",
            "word 2216 not in vocabulary\n",
            "word 2220 not in vocabulary\n",
            "word 2222 not in vocabulary\n",
            "word 2224 not in vocabulary\n",
            "word 2225 not in vocabulary\n",
            "word 2228 not in vocabulary\n",
            "word 2229 not in vocabulary\n",
            "word 2230 not in vocabulary\n",
            "word 2270 not in vocabulary\n",
            "word 2274 not in vocabulary\n",
            "word 2319 not in vocabulary\n",
            "word 2489 not in vocabulary\n",
            "word 2508 not in vocabulary\n",
            "word 2547 not in vocabulary\n",
            "word 2564 not in vocabulary\n",
            "word 2588 not in vocabulary\n",
            "word 2595 not in vocabulary\n",
            "word 2601 not in vocabulary\n",
            "word 2603 not in vocabulary\n",
            "word 2604 not in vocabulary\n",
            "word 2680 not in vocabulary\n",
            "word 2684 not in vocabulary\n",
            "word 2698 not in vocabulary\n",
            "word 2832 not in vocabulary\n",
            "word 2838 not in vocabulary\n",
            "word 2910 not in vocabulary\n",
            "word 2954 not in vocabulary\n",
            "word 2957 not in vocabulary\n",
            "word 2958 not in vocabulary\n",
            "word 2980 not in vocabulary\n",
            "word 3009 not in vocabulary\n",
            "word 3023 not in vocabulary\n",
            "word 3059 not in vocabulary\n",
            "word 3080 not in vocabulary\n",
            "word 3170 not in vocabulary\n",
            "word 3191 not in vocabulary\n",
            "word 3193 not in vocabulary\n",
            "word 3195 not in vocabulary\n",
            "word 3226 not in vocabulary\n",
            "word 3227 not in vocabulary\n",
            "word 3231 not in vocabulary\n",
            "word 3234 not in vocabulary\n",
            "word 3278 not in vocabulary\n",
            "word 3279 not in vocabulary\n",
            "word 3332 not in vocabulary\n",
            "word 3348 not in vocabulary\n",
            "word 3356 not in vocabulary\n",
            "word 3369 not in vocabulary\n",
            "word 3383 not in vocabulary\n",
            "word 3411 not in vocabulary\n",
            "word 3455 not in vocabulary\n",
            "word 3541 not in vocabulary\n",
            "word 3558 not in vocabulary\n",
            "word 3560 not in vocabulary\n",
            "word 3561 not in vocabulary\n",
            "word 3582 not in vocabulary\n",
            "word 3583 not in vocabulary\n",
            "word 3589 not in vocabulary\n",
            "word 3630 not in vocabulary\n",
            "word 3650 not in vocabulary\n",
            "word 3750 not in vocabulary\n",
            "word 3829 not in vocabulary\n",
            "word 3856 not in vocabulary\n",
            "word 3907 not in vocabulary\n"
          ]
        }
      ]
    },
    {
      "cell_type": "code",
      "metadata": {
        "id": "iSLclcjjBdTq"
      },
      "source": [
        ""
      ],
      "execution_count": 42,
      "outputs": []
    },
    {
      "cell_type": "markdown",
      "metadata": {
        "id": "QMmyuJ-gRm-a"
      },
      "source": [
        "## Step 2. 탐색적으로 다양한 추천 후보군 생성"
      ]
    },
    {
      "cell_type": "markdown",
      "metadata": {
        "id": "DpndYXP6Rxi9"
      },
      "source": [
        "### 문제 8. EDA & 전처리 - 평균 평점 기반 Popular 후보군 생성"
      ]
    },
    {
      "cell_type": "code",
      "metadata": {
        "id": "e6fSZzk6R1Ku"
      },
      "source": [
        "# 일정 count 이상이면서 평균 rating이 높은 순서대로 Popular 후보군 생성 (movie_id에 groupby 적용)"
      ],
      "execution_count": 43,
      "outputs": []
    },
    {
      "cell_type": "code",
      "metadata": {
        "id": "0iZmFT_ydCZZ",
        "colab": {
          "base_uri": "https://localhost:8080/",
          "height": 238
        },
        "outputId": "37e1d0aa-f6f3-4ddd-cc67-0ed2d3ef7df0"
      },
      "source": [
        "# 다양한 추천 후보군 생성후 기술적인 방법으로 순서 재정렬\n",
        "\n",
        "#인기도 기반으로 -> 기준: 평균점수\n",
        "\n",
        "mean_ratings = rating_df.groupby('movie_id')['rating'].agg(['mean', 'count']) #일정 횟수 이상으로만 평가된 것만 뽑음\n",
        "mean_ratings.head()"
      ],
      "execution_count": 44,
      "outputs": [
        {
          "output_type": "execute_result",
          "data": {
            "text/html": [
              "<div>\n",
              "<style scoped>\n",
              "    .dataframe tbody tr th:only-of-type {\n",
              "        vertical-align: middle;\n",
              "    }\n",
              "\n",
              "    .dataframe tbody tr th {\n",
              "        vertical-align: top;\n",
              "    }\n",
              "\n",
              "    .dataframe thead th {\n",
              "        text-align: right;\n",
              "    }\n",
              "</style>\n",
              "<table border=\"1\" class=\"dataframe\">\n",
              "  <thead>\n",
              "    <tr style=\"text-align: right;\">\n",
              "      <th></th>\n",
              "      <th>mean</th>\n",
              "      <th>count</th>\n",
              "    </tr>\n",
              "    <tr>\n",
              "      <th>movie_id</th>\n",
              "      <th></th>\n",
              "      <th></th>\n",
              "    </tr>\n",
              "  </thead>\n",
              "  <tbody>\n",
              "    <tr>\n",
              "      <th>1</th>\n",
              "      <td>4.146846</td>\n",
              "      <td>2077</td>\n",
              "    </tr>\n",
              "    <tr>\n",
              "      <th>2</th>\n",
              "      <td>3.201141</td>\n",
              "      <td>701</td>\n",
              "    </tr>\n",
              "    <tr>\n",
              "      <th>3</th>\n",
              "      <td>3.016736</td>\n",
              "      <td>478</td>\n",
              "    </tr>\n",
              "    <tr>\n",
              "      <th>4</th>\n",
              "      <td>2.729412</td>\n",
              "      <td>170</td>\n",
              "    </tr>\n",
              "    <tr>\n",
              "      <th>5</th>\n",
              "      <td>3.006757</td>\n",
              "      <td>296</td>\n",
              "    </tr>\n",
              "  </tbody>\n",
              "</table>\n",
              "</div>"
            ],
            "text/plain": [
              "              mean  count\n",
              "movie_id                 \n",
              "1         4.146846   2077\n",
              "2         3.201141    701\n",
              "3         3.016736    478\n",
              "4         2.729412    170\n",
              "5         3.006757    296"
            ]
          },
          "metadata": {},
          "execution_count": 44
        }
      ]
    },
    {
      "cell_type": "code",
      "metadata": {
        "colab": {
          "base_uri": "https://localhost:8080/"
        },
        "id": "TnPHrqxx65DC",
        "outputId": "363b4e64-04ce-478c-d16b-032e97a24d2a"
      },
      "source": [
        "mean_ratings['count'].value_counts()"
      ],
      "execution_count": 45,
      "outputs": [
        {
          "output_type": "execute_result",
          "data": {
            "text/plain": [
              "1       114\n",
              "2        89\n",
              "4        45\n",
              "3        42\n",
              "5        39\n",
              "       ... \n",
              "1568      1\n",
              "1548      1\n",
              "1546      1\n",
              "1522      1\n",
              "1995      1\n",
              "Name: count, Length: 924, dtype: int64"
            ]
          },
          "metadata": {},
          "execution_count": 45
        }
      ]
    },
    {
      "cell_type": "code",
      "metadata": {
        "colab": {
          "base_uri": "https://localhost:8080/",
          "height": 283
        },
        "id": "gxC0zN-V65KU",
        "outputId": "f0c9e7c4-7696-4c2d-eeac-57136894bea2"
      },
      "source": [
        "mean_ratings['count'].value_counts().hist(bins = 100) #최소 카운트를 뭘로할지 한번 해본다"
      ],
      "execution_count": 46,
      "outputs": [
        {
          "output_type": "execute_result",
          "data": {
            "text/plain": [
              "<matplotlib.axes._subplots.AxesSubplot at 0x7f91c10cf0d0>"
            ]
          },
          "metadata": {},
          "execution_count": 46
        },
        {
          "output_type": "display_data",
          "data": {
            "image/png": "[encoded data removed]",
            "text/plain": [
              "<Figure size 432x288 with 1 Axes>"
            ]
          },
          "metadata": {
            "needs_background": "light"
          }
        }
      ]
    },
    {
      "cell_type": "code",
      "metadata": {
        "id": "bIB0N31t65Pt"
      },
      "source": [
        ""
      ],
      "execution_count": 46,
      "outputs": []
    },
    {
      "cell_type": "code",
      "metadata": {
        "id": "mqZXfXLm65Yf"
      },
      "source": [
        ""
      ],
      "execution_count": 46,
      "outputs": []
    },
    {
      "cell_type": "code",
      "metadata": {
        "id": "h3S5gvne7X_2"
      },
      "source": [
        ""
      ],
      "execution_count": 46,
      "outputs": []
    },
    {
      "cell_type": "markdown",
      "metadata": {
        "id": "K3YJ-yVPRxlf"
      },
      "source": [
        "### 문제 9. EDA & 전처리 - Popular 후보군 생성 결과 확인"
      ]
    },
    {
      "cell_type": "markdown",
      "metadata": {
        "id": "SL8yugcIguJu"
      },
      "source": [
        ""
      ]
    },
    {
      "cell_type": "code",
      "metadata": {
        "colab": {
          "base_uri": "https://localhost:8080/"
        },
        "id": "JIrAbku-7YeF",
        "outputId": "2de30081-f450-45f7-855f-8b8d9602eecd"
      },
      "source": [
        "mean_ratings[mean_ratings['count']>10]['mean'].sort_values(ascending=False) #최소 10명이상이 평가한것중 평균점수가 높은순서대로"
      ],
      "execution_count": 47,
      "outputs": [
        {
          "output_type": "execute_result",
          "data": {
            "text/plain": [
              "movie_id\n",
              "2905    4.608696\n",
              "2019    4.560510\n",
              "318     4.554558\n",
              "858     4.524966\n",
              "745     4.520548\n",
              "          ...   \n",
              "3573    1.461538\n",
              "1323    1.372093\n",
              "1739    1.361702\n",
              "1495    1.318182\n",
              "3574    1.058824\n",
              "Name: mean, Length: 3233, dtype: float64"
            ]
          },
          "metadata": {},
          "execution_count": 47
        }
      ]
    },
    {
      "cell_type": "code",
      "metadata": {
        "id": "nEJ880oiSE_n",
        "colab": {
          "base_uri": "https://localhost:8080/"
        },
        "outputId": "1c8eba6b-4050-4d84-92e6-65224ec66074"
      },
      "source": [
        "# 생성 결과를 popular_movie_list 변수에 할당\n",
        "mean_ratings[mean_ratings['count']>10]['mean'].sort_values(ascending=False)[:20]\n",
        "# ex.\n",
        "# [4.608695652173913,\n",
        "#  4.560509554140127,\n",
        "#  4.554557700942973,\n",
        "#  4.524966261808367,\n",
        "#  4.52054794520548,\n",
        "#  4.517106001121705,\n",
        "#  4.510416666666667,\n",
        "#  4.507936507936508,\n",
        "#  4.491489361702127,\n",
        "#  4.477724741447892]"
      ],
      "execution_count": 48,
      "outputs": [
        {
          "output_type": "execute_result",
          "data": {
            "text/plain": [
              "movie_id\n",
              "2905    4.608696\n",
              "2019    4.560510\n",
              "318     4.554558\n",
              "858     4.524966\n",
              "745     4.520548\n",
              "50      4.517106\n",
              "527     4.510417\n",
              "1148    4.507937\n",
              "922     4.491489\n",
              "1198    4.477725\n",
              "904     4.476190\n",
              "1178    4.473913\n",
              "260     4.453694\n",
              "1212    4.452083\n",
              "750     4.449890\n",
              "3338    4.444444\n",
              "720     4.426941\n",
              "1207    4.425647\n",
              "3435    4.415608\n",
              "912     4.412822\n",
              "Name: mean, dtype: float64"
            ]
          },
          "metadata": {},
          "execution_count": 48
        }
      ]
    },
    {
      "cell_type": "code",
      "metadata": {
        "colab": {
          "base_uri": "https://localhost:8080/"
        },
        "id": "wBv3KRqe7iuH",
        "outputId": "4360d07d-e260-46d3-964d-9c5ae8d7b0d7"
      },
      "source": [
        "popular_movie_list = mean_ratings[mean_ratings['count']>10]['mean'].sort_values(ascending=False).index[:10].tolist()\n",
        "popular_movie_list"
      ],
      "execution_count": 49,
      "outputs": [
        {
          "output_type": "execute_result",
          "data": {
            "text/plain": [
              "[2905, 2019, 318, 858, 745, 50, 527, 1148, 922, 1198]"
            ]
          },
          "metadata": {},
          "execution_count": 49
        }
      ]
    },
    {
      "cell_type": "markdown",
      "metadata": {
        "id": "JZn3DyH0RxoF"
      },
      "source": [
        "### 문제 10. EDA & 전처리 - 장르 & 연도 기준 Meta2Item 후보군 생성"
      ]
    },
    {
      "cell_type": "code",
      "metadata": {
        "id": "HHiF8D9fMu5x",
        "colab": {
          "base_uri": "https://localhost:8080/",
          "height": 423
        },
        "outputId": "fd97ed57-9df9-457f-d187-2276d88a6dc6"
      },
      "source": [
        "# 장르 & 연도를 meta로 하는, meta별 상위 10개씩 popular list 추출\n",
        "movie_df = pd.merge(mean_ratings, movie_df, on = 'movie_id')\n",
        "#위에서 추출된 영화들의 메타데이터만 봅아 데이터프레임 뽑음\n",
        "movie_df\n"
      ],
      "execution_count": 50,
      "outputs": [
        {
          "output_type": "execute_result",
          "data": {
            "text/html": [
              "<div>\n",
              "<style scoped>\n",
              "    .dataframe tbody tr th:only-of-type {\n",
              "        vertical-align: middle;\n",
              "    }\n",
              "\n",
              "    .dataframe tbody tr th {\n",
              "        vertical-align: top;\n",
              "    }\n",
              "\n",
              "    .dataframe thead th {\n",
              "        text-align: right;\n",
              "    }\n",
              "</style>\n",
              "<table border=\"1\" class=\"dataframe\">\n",
              "  <thead>\n",
              "    <tr style=\"text-align: right;\">\n",
              "      <th></th>\n",
              "      <th>movie_id</th>\n",
              "      <th>mean</th>\n",
              "      <th>count</th>\n",
              "      <th>title</th>\n",
              "      <th>genre</th>\n",
              "      <th>decade</th>\n",
              "      <th>main_genre</th>\n",
              "    </tr>\n",
              "  </thead>\n",
              "  <tbody>\n",
              "    <tr>\n",
              "      <th>0</th>\n",
              "      <td>1</td>\n",
              "      <td>4.146846</td>\n",
              "      <td>2077</td>\n",
              "      <td>Toy Story (1995)</td>\n",
              "      <td>Animation|Children's|Comedy</td>\n",
              "      <td>1990</td>\n",
              "      <td>Animation</td>\n",
              "    </tr>\n",
              "    <tr>\n",
              "      <th>1</th>\n",
              "      <td>2</td>\n",
              "      <td>3.201141</td>\n",
              "      <td>701</td>\n",
              "      <td>Jumanji (1995)</td>\n",
              "      <td>Adventure|Children's|Fantasy</td>\n",
              "      <td>1990</td>\n",
              "      <td>Adventure</td>\n",
              "    </tr>\n",
              "    <tr>\n",
              "      <th>2</th>\n",
              "      <td>3</td>\n",
              "      <td>3.016736</td>\n",
              "      <td>478</td>\n",
              "      <td>Grumpier Old Men (1995)</td>\n",
              "      <td>Comedy|Romance</td>\n",
              "      <td>1990</td>\n",
              "      <td>Comedy</td>\n",
              "    </tr>\n",
              "    <tr>\n",
              "      <th>3</th>\n",
              "      <td>4</td>\n",
              "      <td>2.729412</td>\n",
              "      <td>170</td>\n",
              "      <td>Waiting to Exhale (1995)</td>\n",
              "      <td>Comedy|Drama</td>\n",
              "      <td>1990</td>\n",
              "      <td>Comedy</td>\n",
              "    </tr>\n",
              "    <tr>\n",
              "      <th>4</th>\n",
              "      <td>5</td>\n",
              "      <td>3.006757</td>\n",
              "      <td>296</td>\n",
              "      <td>Father of the Bride Part II (1995)</td>\n",
              "      <td>Comedy</td>\n",
              "      <td>1990</td>\n",
              "      <td>Comedy</td>\n",
              "    </tr>\n",
              "    <tr>\n",
              "      <th>...</th>\n",
              "      <td>...</td>\n",
              "      <td>...</td>\n",
              "      <td>...</td>\n",
              "      <td>...</td>\n",
              "      <td>...</td>\n",
              "      <td>...</td>\n",
              "      <td>...</td>\n",
              "    </tr>\n",
              "    <tr>\n",
              "      <th>3701</th>\n",
              "      <td>3948</td>\n",
              "      <td>3.635731</td>\n",
              "      <td>862</td>\n",
              "      <td>Meet the Parents (2000)</td>\n",
              "      <td>Comedy</td>\n",
              "      <td>2000</td>\n",
              "      <td>Comedy</td>\n",
              "    </tr>\n",
              "    <tr>\n",
              "      <th>3702</th>\n",
              "      <td>3949</td>\n",
              "      <td>4.115132</td>\n",
              "      <td>304</td>\n",
              "      <td>Requiem for a Dream (2000)</td>\n",
              "      <td>Drama</td>\n",
              "      <td>2000</td>\n",
              "      <td>Drama</td>\n",
              "    </tr>\n",
              "    <tr>\n",
              "      <th>3703</th>\n",
              "      <td>3950</td>\n",
              "      <td>3.666667</td>\n",
              "      <td>54</td>\n",
              "      <td>Tigerland (2000)</td>\n",
              "      <td>Drama</td>\n",
              "      <td>2000</td>\n",
              "      <td>Drama</td>\n",
              "    </tr>\n",
              "    <tr>\n",
              "      <th>3704</th>\n",
              "      <td>3951</td>\n",
              "      <td>3.900000</td>\n",
              "      <td>40</td>\n",
              "      <td>Two Family House (2000)</td>\n",
              "      <td>Drama</td>\n",
              "      <td>2000</td>\n",
              "      <td>Drama</td>\n",
              "    </tr>\n",
              "    <tr>\n",
              "      <th>3705</th>\n",
              "      <td>3952</td>\n",
              "      <td>3.780928</td>\n",
              "      <td>388</td>\n",
              "      <td>Contender, The (2000)</td>\n",
              "      <td>Drama|Thriller</td>\n",
              "      <td>2000</td>\n",
              "      <td>Drama</td>\n",
              "    </tr>\n",
              "  </tbody>\n",
              "</table>\n",
              "<p>3706 rows × 7 columns</p>\n",
              "</div>"
            ],
            "text/plain": [
              "      movie_id      mean  count  ...                         genre decade main_genre\n",
              "0            1  4.146846   2077  ...   Animation|Children's|Comedy   1990  Animation\n",
              "1            2  3.201141    701  ...  Adventure|Children's|Fantasy   1990  Adventure\n",
              "2            3  3.016736    478  ...                Comedy|Romance   1990     Comedy\n",
              "3            4  2.729412    170  ...                  Comedy|Drama   1990     Comedy\n",
              "4            5  3.006757    296  ...                        Comedy   1990     Comedy\n",
              "...        ...       ...    ...  ...                           ...    ...        ...\n",
              "3701      3948  3.635731    862  ...                        Comedy   2000     Comedy\n",
              "3702      3949  4.115132    304  ...                         Drama   2000      Drama\n",
              "3703      3950  3.666667     54  ...                         Drama   2000      Drama\n",
              "3704      3951  3.900000     40  ...                         Drama   2000      Drama\n",
              "3705      3952  3.780928    388  ...                Drama|Thriller   2000      Drama\n",
              "\n",
              "[3706 rows x 7 columns]"
            ]
          },
          "metadata": {},
          "execution_count": 50
        }
      ]
    },
    {
      "cell_type": "code",
      "metadata": {
        "id": "OWr57J8E8EWQ"
      },
      "source": [
        "# 장르&연도를 meta로 하여, meta별 상위 10개의 평점 높은 영화\n",
        "def get_meta_popular_list(x, k):\n",
        "  movie_id_list = x.sort_values(by=['mean'], ascending=False)['movie_id'].tolist()\n",
        "  return movie_id_list[:k]\n",
        "\n",
        "genre_popular = movie_df.groupby('main_genre').apply(lambda x: get_meta_popular_list(x, k=10))\n",
        "year_popular = movie_df.groupby('decade').apply(lambda x: get_meta_popular_list(x, k=10))"
      ],
      "execution_count": 51,
      "outputs": []
    },
    {
      "cell_type": "code",
      "metadata": {
        "colab": {
          "base_uri": "https://localhost:8080/"
        },
        "id": "7J_rLvdt74gB",
        "outputId": "a52a966c-42c4-4116-973d-1b66f88ba6b8"
      },
      "source": [
        "\n",
        "genre_popular.head()\n"
      ],
      "execution_count": 52,
      "outputs": [
        {
          "output_type": "execute_result",
          "data": {
            "text/plain": [
              "main_genre\n",
              "Action        [2905, 2019, 858, 1198, 260, 1221, 2028, 2571,...\n",
              "Adventure     [3172, 1204, 1262, 3470, 1254, 919, 1303, 1259...\n",
              "Animation     [745, 1148, 720, 1223, 3429, 3114, 1, 741, 276...\n",
              "Children's    [1097, 1028, 34, 262, 3396, 755, 531, 3397, 55...\n",
              "Comedy        [1830, 3233, 3607, 3030, 3307, 3022, 1136, 341...\n",
              "dtype: object"
            ]
          },
          "metadata": {},
          "execution_count": 52
        }
      ]
    },
    {
      "cell_type": "code",
      "metadata": {
        "colab": {
          "base_uri": "https://localhost:8080/"
        },
        "id": "ai7O1vO09CRr",
        "outputId": "bc86fda6-c6ec-469b-f6d1-7a5b4a87f5e2"
      },
      "source": [
        "year_popular.head()"
      ],
      "execution_count": 53,
      "outputs": [
        {
          "output_type": "execute_result",
          "data": {
            "text/plain": [
              "decade\n",
              "1910                                   [3132, 2821, 2823]\n",
              "1920    [3517, 3022, 3629, 2010, 3232, 1348, 3742, 330...\n",
              "1930    [3382, 3307, 3134, 1260, 905, 919, 954, 950, 3...\n",
              "1940    [3656, 1212, 3435, 912, 913, 923, 3089, 1284, ...\n",
              "1950    [3172, 2019, 922, 904, 1178, 670, 668, 1250, 9...\n",
              "dtype: object"
            ]
          },
          "metadata": {},
          "execution_count": 53
        }
      ]
    },
    {
      "cell_type": "markdown",
      "metadata": {
        "id": "71YJM0PGRxqo"
      },
      "source": [
        "### 문제 11. EDA & 전처리 - Meta 후보군 생성 결과 확인"
      ]
    },
    {
      "cell_type": "code",
      "metadata": {
        "colab": {
          "base_uri": "https://localhost:8080/"
        },
        "id": "bkinC1k79Vl_",
        "outputId": "77eff301-efcc-4ad6-ce81-d68d39d7ac35"
      },
      "source": [
        "genre_popular_dict =  genre_popular.to_dict()\n",
        "genre_popular_dict"
      ],
      "execution_count": 54,
      "outputs": [
        {
          "output_type": "execute_result",
          "data": {
            "text/plain": [
              "{'Action': [2905, 2019, 858, 1198, 260, 1221, 2028, 2571, 1197, 1233],\n",
              " 'Adventure': [3172, 1204, 1262, 3470, 1254, 919, 1303, 1259, 29, 1931],\n",
              " 'Animation': [745, 1148, 720, 1223, 3429, 3114, 1, 741, 2761, 1023],\n",
              " \"Children's\": [1097, 1028, 34, 262, 3396, 755, 531, 3397, 551, 1012],\n",
              " 'Comedy': [1830, 3233, 3607, 3030, 3307, 3022, 1136, 3410, 2324, 1234],\n",
              " 'Crime': [3656, 50, 3517, 3435, 1260, 296, 1213, 1945, 608, 1617],\n",
              " 'Documentary': [3881, 787, 3338, 2930, 128, 1147, 3679, 363, 1189, 2859],\n",
              " 'Drama': [3382, 989, 3245, 53, 2503, 318, 527, 578, 2480, 439],\n",
              " 'Fantasy': [792, 2021],\n",
              " 'Film-Noir': [922, 913, 1252, 1267, 1284, 2186, 930, 541, 2203, 2066],\n",
              " 'Horror': [3280, 1219, 1258, 1348, 2648, 1997, 2664, 1340, 1333, 2644],\n",
              " 'Musical': [899, 914, 1947, 2565, 3606, 1035, 3545, 900, 3675, 2971],\n",
              " 'Mystery': [904, 1212, 903, 950, 906, 1086, 2206, 1625, 931, 2467],\n",
              " 'Romance': [928, 28, 932, 2708, 2721, 1684, 803, 2833, 3368, 976],\n",
              " 'Sci-Fi': [750, 1199, 2010, 1206, 1301, 2660, 1921, 3658, 3032, 2009],\n",
              " 'Thriller': [2762, 3634, 965, 3849, 2819, 1249, 1076, 2983, 3075, 3728],\n",
              " 'War': [1927, 632, 2670, 1450, 3339, 2669, 3066, 3670, 665, 760],\n",
              " 'Western': [1283, 1266, 599, 3365, 3508, 1209, 3681, 714, 2921, 553]}"
            ]
          },
          "metadata": {},
          "execution_count": 54
        }
      ]
    },
    {
      "cell_type": "code",
      "metadata": {
        "colab": {
          "base_uri": "https://localhost:8080/"
        },
        "id": "MfOfjcoF9eKO",
        "outputId": "b2a93073-6160-4798-f974-f5914a7be554"
      },
      "source": [
        "year_popular_dict =  genre_popular.to_dict()\n",
        "year_popular_dict"
      ],
      "execution_count": 55,
      "outputs": [
        {
          "output_type": "execute_result",
          "data": {
            "text/plain": [
              "{'Action': [2905, 2019, 858, 1198, 260, 1221, 2028, 2571, 1197, 1233],\n",
              " 'Adventure': [3172, 1204, 1262, 3470, 1254, 919, 1303, 1259, 29, 1931],\n",
              " 'Animation': [745, 1148, 720, 1223, 3429, 3114, 1, 741, 2761, 1023],\n",
              " \"Children's\": [1097, 1028, 34, 262, 3396, 755, 531, 3397, 551, 1012],\n",
              " 'Comedy': [1830, 3233, 3607, 3030, 3307, 3022, 1136, 3410, 2324, 1234],\n",
              " 'Crime': [3656, 50, 3517, 3435, 1260, 296, 1213, 1945, 608, 1617],\n",
              " 'Documentary': [3881, 787, 3338, 2930, 128, 1147, 3679, 363, 1189, 2859],\n",
              " 'Drama': [3382, 989, 3245, 53, 2503, 318, 527, 578, 2480, 439],\n",
              " 'Fantasy': [792, 2021],\n",
              " 'Film-Noir': [922, 913, 1252, 1267, 1284, 2186, 930, 541, 2203, 2066],\n",
              " 'Horror': [3280, 1219, 1258, 1348, 2648, 1997, 2664, 1340, 1333, 2644],\n",
              " 'Musical': [899, 914, 1947, 2565, 3606, 1035, 3545, 900, 3675, 2971],\n",
              " 'Mystery': [904, 1212, 903, 950, 906, 1086, 2206, 1625, 931, 2467],\n",
              " 'Romance': [928, 28, 932, 2708, 2721, 1684, 803, 2833, 3368, 976],\n",
              " 'Sci-Fi': [750, 1199, 2010, 1206, 1301, 2660, 1921, 3658, 3032, 2009],\n",
              " 'Thriller': [2762, 3634, 965, 3849, 2819, 1249, 1076, 2983, 3075, 3728],\n",
              " 'War': [1927, 632, 2670, 1450, 3339, 2669, 3066, 3670, 665, 760],\n",
              " 'Western': [1283, 1266, 599, 3365, 3508, 1209, 3681, 714, 2921, 553]}"
            ]
          },
          "metadata": {},
          "execution_count": 55
        }
      ]
    },
    {
      "cell_type": "code",
      "metadata": {
        "id": "rupwEwUjM5OO"
      },
      "source": [
        "# 위 결과 확인\n",
        "# ex.\n",
        "# 연도별 popular list - {'1910': [3132, 2821, 2823], '1920': [3517, 3022, 3629, 2010], ....}"
      ],
      "execution_count": 56,
      "outputs": []
    },
    {
      "cell_type": "markdown",
      "metadata": {
        "id": "73JbBkvIW8GC"
      },
      "source": [
        "## Step 3. Point-wise 데이터셋 생성"
      ]
    },
    {
      "cell_type": "markdown",
      "metadata": {
        "id": "lV3VxxCLqN7Y"
      },
      "source": [
        "#### Ranking Model\n",
        "\n",
        "    [랭킹 모델의 형태와 역할]\n",
        "    1. Binary Classification을 학습하는 Regressor가 가장 대표적인 예\n",
        "    2. y=1은 User가 Item을 시청(혹은 구매 등)한 경우 -> **Ground Truth**\n",
        "    3. f(x_ui) = X_u + X_i + b -> **X_u는 User의 여러가지 정보를 벡터로 나타낸 것, 그리고 X_i는 아이템의 여러가지 정보를 벡터로 나타낸 것**\n",
        "    4. NDCG, AUC, Top@Precision... 등을 기준으로 모델을 학습 (랭킹 학습 방식인 Point-wise, Pair-wise 등을 기준으로 각각 다름)\n",
        "\n",
        "![point-wise](https://raw.githubusercontent.com/yoonkt200/FastCampusDataset/master/images/point-wise.png)"
      ]
    },
    {
      "cell_type": "markdown",
      "metadata": {
        "id": "hVZlWklUE3p9"
      },
      "source": [
        "### 문제 12. EDA & 전처리 - 특정 시간 기준 데이터셋 분리"
      ]
    },
    {
      "cell_type": "code",
      "metadata": {
        "id": "d8FubZ-SFTFc",
        "colab": {
          "base_uri": "https://localhost:8080/",
          "height": 296
        },
        "outputId": "643e9109-fe7c-4daa-86fb-48ef1c12d196"
      },
      "source": [
        "# 데이터셋을 8:2로 나눌 수 있는 시간을 기준으로 데이터셋을 train,test로 분리\n",
        "rating_df['time'].hist(bins = 100)"
      ],
      "execution_count": 57,
      "outputs": [
        {
          "output_type": "execute_result",
          "data": {
            "text/plain": [
              "<matplotlib.axes._subplots.AxesSubplot at 0x7f91b714a310>"
            ]
          },
          "metadata": {},
          "execution_count": 57
        },
        {
          "output_type": "display_data",
          "data": {
            "image/png": "[encoded data removed]",
            "text/plain": [
              "<Figure size 432x288 with 1 Axes>"
            ]
          },
          "metadata": {
            "needs_background": "light"
          }
        }
      ]
    },
    {
      "cell_type": "code",
      "metadata": {
        "colab": {
          "base_uri": "https://localhost:8080/"
        },
        "id": "bR19G5_uIL8a",
        "outputId": "6efe1e38-a784-481b-d218-cba7da8910a9"
      },
      "source": [
        "rating_df['time'].quantile( q = 0.8, interpolation = 'nearest')\n",
        "#0.8로 나누는 유닉스시간을 알아봄"
      ],
      "execution_count": 58,
      "outputs": [
        {
          "output_type": "execute_result",
          "data": {
            "text/plain": [
              "975768738"
            ]
          },
          "metadata": {},
          "execution_count": 58
        }
      ]
    },
    {
      "cell_type": "code",
      "metadata": {
        "id": "0tJndEQNIcZZ"
      },
      "source": [
        "train_df = rating_df[rating_df['time'] < 975768738]\n",
        "test_df = rating_df[rating_df['time'] >= 975768738] #위의 시간을 기준으로하면 8대2로 데이터 분리 가능"
      ],
      "execution_count": 59,
      "outputs": []
    },
    {
      "cell_type": "markdown",
      "metadata": {
        "id": "VZRzhB4vUVAp"
      },
      "source": [
        "### 문제 13. User Profiling - 유저 속성 EDA (gender, age, occupation, zipcode)"
      ]
    },
    {
      "cell_type": "markdown",
      "metadata": {
        "id": "0wrVCz5BGvjW"
      },
      "source": [
        "##### 1) Gender"
      ]
    },
    {
      "cell_type": "code",
      "metadata": {
        "id": "xEWUofnlZg7s",
        "colab": {
          "base_uri": "https://localhost:8080/",
          "height": 206
        },
        "outputId": "a0f89baa-5c7c-4a01-e427-a94a415f2855"
      },
      "source": [
        "# gender 피처 탐색\n",
        "user_df.head() #user_df의 내용보기"
      ],
      "execution_count": 60,
      "outputs": [
        {
          "output_type": "execute_result",
          "data": {
            "text/html": [
              "<div>\n",
              "<style scoped>\n",
              "    .dataframe tbody tr th:only-of-type {\n",
              "        vertical-align: middle;\n",
              "    }\n",
              "\n",
              "    .dataframe tbody tr th {\n",
              "        vertical-align: top;\n",
              "    }\n",
              "\n",
              "    .dataframe thead th {\n",
              "        text-align: right;\n",
              "    }\n",
              "</style>\n",
              "<table border=\"1\" class=\"dataframe\">\n",
              "  <thead>\n",
              "    <tr style=\"text-align: right;\">\n",
              "      <th></th>\n",
              "      <th>user_id</th>\n",
              "      <th>gender</th>\n",
              "      <th>age</th>\n",
              "      <th>occupation</th>\n",
              "      <th>zipcode</th>\n",
              "    </tr>\n",
              "  </thead>\n",
              "  <tbody>\n",
              "    <tr>\n",
              "      <th>0</th>\n",
              "      <td>1</td>\n",
              "      <td>F</td>\n",
              "      <td>1</td>\n",
              "      <td>10</td>\n",
              "      <td>48067</td>\n",
              "    </tr>\n",
              "    <tr>\n",
              "      <th>1</th>\n",
              "      <td>2</td>\n",
              "      <td>M</td>\n",
              "      <td>56</td>\n",
              "      <td>16</td>\n",
              "      <td>70072</td>\n",
              "    </tr>\n",
              "    <tr>\n",
              "      <th>2</th>\n",
              "      <td>3</td>\n",
              "      <td>M</td>\n",
              "      <td>25</td>\n",
              "      <td>15</td>\n",
              "      <td>55117</td>\n",
              "    </tr>\n",
              "    <tr>\n",
              "      <th>3</th>\n",
              "      <td>4</td>\n",
              "      <td>M</td>\n",
              "      <td>45</td>\n",
              "      <td>7</td>\n",
              "      <td>02460</td>\n",
              "    </tr>\n",
              "    <tr>\n",
              "      <th>4</th>\n",
              "      <td>5</td>\n",
              "      <td>M</td>\n",
              "      <td>25</td>\n",
              "      <td>20</td>\n",
              "      <td>55455</td>\n",
              "    </tr>\n",
              "  </tbody>\n",
              "</table>\n",
              "</div>"
            ],
            "text/plain": [
              "   user_id gender  age  occupation zipcode\n",
              "0        1      F    1          10   48067\n",
              "1        2      M   56          16   70072\n",
              "2        3      M   25          15   55117\n",
              "3        4      M   45           7   02460\n",
              "4        5      M   25          20   55455"
            ]
          },
          "metadata": {},
          "execution_count": 60
        }
      ]
    },
    {
      "cell_type": "code",
      "metadata": {
        "colab": {
          "base_uri": "https://localhost:8080/",
          "height": 339
        },
        "id": "BrIb-lLcI3-S",
        "outputId": "8cceb2b3-408a-46cd-bc74-d220abe7232e"
      },
      "source": [
        "gender = user_df['gender'].value_counts()\n",
        "sns.barplot(gender.index, gender.values)"
      ],
      "execution_count": 61,
      "outputs": [
        {
          "output_type": "stream",
          "name": "stderr",
          "text": [
            "/usr/local/lib/python3.7/dist-packages/seaborn/_decorators.py:43: FutureWarning: Pass the following variables as keyword args: x, y. From version 0.12, the only valid positional argument will be `data`, and passing other arguments without an explicit keyword will result in an error or misinterpretation.\n",
            "  FutureWarning\n"
          ]
        },
        {
          "output_type": "execute_result",
          "data": {
            "text/plain": [
              "<matplotlib.axes._subplots.AxesSubplot at 0x7f91b7018390>"
            ]
          },
          "metadata": {},
          "execution_count": 61
        },
        {
          "output_type": "display_data",
          "data": {
            "image/png": "[encoded data removed]",
            "text/plain": [
              "<Figure size 432x288 with 1 Axes>"
            ]
          },
          "metadata": {
            "needs_background": "light"
          }
        }
      ]
    },
    {
      "cell_type": "markdown",
      "metadata": {
        "id": "D7VRqrpkG14k"
      },
      "source": [
        "#### 2) Age"
      ]
    },
    {
      "cell_type": "code",
      "metadata": {
        "id": "XUoR8H0CDDPo",
        "colab": {
          "base_uri": "https://localhost:8080/",
          "height": 283
        },
        "outputId": "ee87083e-c6c6-495a-ebd3-9bd0c23e7bc0"
      },
      "source": [
        "# age 피처 탐색\n",
        "user_df['age'].hist(bins = 'auto') #타일이 그닥 여러개는 아님(빽빽하지 않음) -> value_counts로 본다"
      ],
      "execution_count": 62,
      "outputs": [
        {
          "output_type": "execute_result",
          "data": {
            "text/plain": [
              "<matplotlib.axes._subplots.AxesSubplot at 0x7f91b6f34a90>"
            ]
          },
          "metadata": {},
          "execution_count": 62
        },
        {
          "output_type": "display_data",
          "data": {
            "image/png": "[encoded data removed]",
            "text/plain": [
              "<Figure size 432x288 with 1 Axes>"
            ]
          },
          "metadata": {
            "needs_background": "light"
          }
        }
      ]
    },
    {
      "cell_type": "code",
      "metadata": {
        "colab": {
          "base_uri": "https://localhost:8080/"
        },
        "id": "avURXttrJZWT",
        "outputId": "198a32ac-acec-407d-e71c-b27f3efaa055"
      },
      "source": [
        "user_df['age'].value_counts() #나이가 뭉쳐서 있음. 1은 잘못된거 같음"
      ],
      "execution_count": 63,
      "outputs": [
        {
          "output_type": "execute_result",
          "data": {
            "text/plain": [
              "25    2096\n",
              "35    1193\n",
              "18    1103\n",
              "45     550\n",
              "50     496\n",
              "56     380\n",
              "1      222\n",
              "Name: age, dtype: int64"
            ]
          },
          "metadata": {},
          "execution_count": 63
        }
      ]
    },
    {
      "cell_type": "code",
      "metadata": {
        "id": "CqTRoOXLH4L-",
        "colab": {
          "base_uri": "https://localhost:8080/"
        },
        "outputId": "01bcf8d5-20ff-4fb1-e391-c53894028774"
      },
      "source": [
        "# age 피처 bucketize\n",
        "def age_bucketize(age):\n",
        "    if age == 1:\n",
        "        return 'outlier'\n",
        "    else:\n",
        "        return str(age)[0] + \"0\" #10대, 20대, .. 이런식으로 만들어줌\n",
        "\n",
        "\n",
        "user_df['age_bucket'] = user_df['age'].apply(lambda x: age_bucketize(x))\n",
        "user_df['age_bucket'].value_counts()"
      ],
      "execution_count": 64,
      "outputs": [
        {
          "output_type": "execute_result",
          "data": {
            "text/plain": [
              "20         2096\n",
              "30         1193\n",
              "10         1103\n",
              "50          876\n",
              "40          550\n",
              "outlier     222\n",
              "Name: age_bucket, dtype: int64"
            ]
          },
          "metadata": {},
          "execution_count": 64
        }
      ]
    },
    {
      "cell_type": "markdown",
      "metadata": {
        "id": "uBDIwD-GG6Qf"
      },
      "source": [
        "#### 3) Occupation"
      ]
    },
    {
      "cell_type": "code",
      "metadata": {
        "id": "6T_jdIECDDZw",
        "colab": {
          "base_uri": "https://localhost:8080/"
        },
        "outputId": "feb79aa9-fb2b-489c-97de-85f7f1a13032"
      },
      "source": [
        "# occupation 피처 탐색\n",
        "user_df['occupation'].value_counts()"
      ],
      "execution_count": 65,
      "outputs": [
        {
          "output_type": "execute_result",
          "data": {
            "text/plain": [
              "4     759\n",
              "0     711\n",
              "7     679\n",
              "1     528\n",
              "17    502\n",
              "12    388\n",
              "14    302\n",
              "20    281\n",
              "2     267\n",
              "16    241\n",
              "6     236\n",
              "10    195\n",
              "3     173\n",
              "15    144\n",
              "13    142\n",
              "11    129\n",
              "5     112\n",
              "9      92\n",
              "19     72\n",
              "18     70\n",
              "8      17\n",
              "Name: occupation, dtype: int64"
            ]
          },
          "metadata": {},
          "execution_count": 65
        }
      ]
    },
    {
      "cell_type": "code",
      "metadata": {
        "colab": {
          "base_uri": "https://localhost:8080/",
          "height": 286
        },
        "id": "NKxPuzisKKl8",
        "outputId": "e24bdb85-af34-4ea2-f8dd-d6dc8fe76cb8"
      },
      "source": [
        "user_df['occupation'].value_counts().plot(kind = 'bar') #꽤 고루게 분포 -> 학습에 바로 쓸 수있어 보임 (내용을 파악하는건 당장 중요하진 않음)"
      ],
      "execution_count": 66,
      "outputs": [
        {
          "output_type": "execute_result",
          "data": {
            "text/plain": [
              "<matplotlib.axes._subplots.AxesSubplot at 0x7f91b7402a90>"
            ]
          },
          "metadata": {},
          "execution_count": 66
        },
        {
          "output_type": "display_data",
          "data": {
            "image/png": "[encoded data removed]",
            "text/plain": [
              "<Figure size 432x288 with 1 Axes>"
            ]
          },
          "metadata": {
            "needs_background": "light"
          }
        }
      ]
    },
    {
      "cell_type": "markdown",
      "metadata": {
        "id": "81MD-1OQG976"
      },
      "source": [
        "#### 4) Zipcode"
      ]
    },
    {
      "cell_type": "code",
      "metadata": {
        "id": "zwadmLV4Do2j",
        "colab": {
          "base_uri": "https://localhost:8080/"
        },
        "outputId": "4e3ee647-f942-4526-d6c1-5ba507d64c1a"
      },
      "source": [
        "# zipcode 피처 탐색\n",
        "user_df['zipcode'].value_counts()"
      ],
      "execution_count": 67,
      "outputs": [
        {
          "output_type": "execute_result",
          "data": {
            "text/plain": [
              "48104    19\n",
              "22903    18\n",
              "55104    17\n",
              "94110    17\n",
              "10025    16\n",
              "         ..\n",
              "11743     1\n",
              "19026     1\n",
              "97701     1\n",
              "92100     1\n",
              "73120     1\n",
              "Name: zipcode, Length: 3439, dtype: int64"
            ]
          },
          "metadata": {},
          "execution_count": 67
        }
      ]
    },
    {
      "cell_type": "code",
      "metadata": {
        "id": "klv7TkNVKq0q"
      },
      "source": [
        "# user_df['zipcode'].value_counts().plot(kind = 'bar')\n",
        "#여러개로 퍼져있음 -> 그닥 안중요할수도? (지역 특색(날씨등)을 고려할수도있겠지만 너무 작은 데이터라 그렇게까지 안봐도 될듯), uniform distribution이라 쓰기도 어려움"
      ],
      "execution_count": 68,
      "outputs": []
    },
    {
      "cell_type": "markdown",
      "metadata": {
        "id": "QvguJidV2djG"
      },
      "source": [
        "### 문제 14. User Profiling - 유저 속성별 피쳐맵 생성"
      ]
    },
    {
      "cell_type": "code",
      "metadata": {
        "colab": {
          "base_uri": "https://localhost:8080/",
          "height": 206
        },
        "id": "-i0LCdt1K3h3",
        "outputId": "eba35e39-81af-4650-bfab-d70bf7fe09d2"
      },
      "source": [
        "user_df.head() #gender, age_bucket, occpution 정도만 써도 될듯"
      ],
      "execution_count": 69,
      "outputs": [
        {
          "output_type": "execute_result",
          "data": {
            "text/html": [
              "<div>\n",
              "<style scoped>\n",
              "    .dataframe tbody tr th:only-of-type {\n",
              "        vertical-align: middle;\n",
              "    }\n",
              "\n",
              "    .dataframe tbody tr th {\n",
              "        vertical-align: top;\n",
              "    }\n",
              "\n",
              "    .dataframe thead th {\n",
              "        text-align: right;\n",
              "    }\n",
              "</style>\n",
              "<table border=\"1\" class=\"dataframe\">\n",
              "  <thead>\n",
              "    <tr style=\"text-align: right;\">\n",
              "      <th></th>\n",
              "      <th>user_id</th>\n",
              "      <th>gender</th>\n",
              "      <th>age</th>\n",
              "      <th>occupation</th>\n",
              "      <th>zipcode</th>\n",
              "      <th>age_bucket</th>\n",
              "    </tr>\n",
              "  </thead>\n",
              "  <tbody>\n",
              "    <tr>\n",
              "      <th>0</th>\n",
              "      <td>1</td>\n",
              "      <td>F</td>\n",
              "      <td>1</td>\n",
              "      <td>10</td>\n",
              "      <td>48067</td>\n",
              "      <td>outlier</td>\n",
              "    </tr>\n",
              "    <tr>\n",
              "      <th>1</th>\n",
              "      <td>2</td>\n",
              "      <td>M</td>\n",
              "      <td>56</td>\n",
              "      <td>16</td>\n",
              "      <td>70072</td>\n",
              "      <td>50</td>\n",
              "    </tr>\n",
              "    <tr>\n",
              "      <th>2</th>\n",
              "      <td>3</td>\n",
              "      <td>M</td>\n",
              "      <td>25</td>\n",
              "      <td>15</td>\n",
              "      <td>55117</td>\n",
              "      <td>20</td>\n",
              "    </tr>\n",
              "    <tr>\n",
              "      <th>3</th>\n",
              "      <td>4</td>\n",
              "      <td>M</td>\n",
              "      <td>45</td>\n",
              "      <td>7</td>\n",
              "      <td>02460</td>\n",
              "      <td>40</td>\n",
              "    </tr>\n",
              "    <tr>\n",
              "      <th>4</th>\n",
              "      <td>5</td>\n",
              "      <td>M</td>\n",
              "      <td>25</td>\n",
              "      <td>20</td>\n",
              "      <td>55455</td>\n",
              "      <td>20</td>\n",
              "    </tr>\n",
              "  </tbody>\n",
              "</table>\n",
              "</div>"
            ],
            "text/plain": [
              "   user_id gender  age  occupation zipcode age_bucket\n",
              "0        1      F    1          10   48067    outlier\n",
              "1        2      M   56          16   70072         50\n",
              "2        3      M   25          15   55117         20\n",
              "3        4      M   45           7   02460         40\n",
              "4        5      M   25          20   55455         20"
            ]
          },
          "metadata": {},
          "execution_count": 69
        }
      ]
    },
    {
      "cell_type": "markdown",
      "metadata": {
        "id": "yLff1k3iJdLJ"
      },
      "source": [
        "#### 1) Gender"
      ]
    },
    {
      "cell_type": "code",
      "metadata": {
        "id": "Vn4wnq7JIpkD"
      },
      "source": [
        "# gender 피처맵 생성\n",
        "gender_list = user_df['gender'].unique()\n",
        "gender_index = {}\n",
        "for idx, gender in enumerate(gender_list): #index를 자체를 딕셔너리로 해주기위해 enumerate를 함 -> 각 카테고리별로 숫자 부여\n",
        "  gender_index[gender] = idx + 1\n",
        "\n",
        "# index 자체를 표현한다는 의미 -> 카테고리별로 숫자값을 줌 ex) {'F': 1, 'M': 2}"
      ],
      "execution_count": 70,
      "outputs": []
    },
    {
      "cell_type": "code",
      "metadata": {
        "colab": {
          "base_uri": "https://localhost:8080/"
        },
        "id": "zNRy7AMULroJ",
        "outputId": "2613665d-bd26-43e0-833b-6e5e8a5eae58"
      },
      "source": [
        "gender_index"
      ],
      "execution_count": 71,
      "outputs": [
        {
          "output_type": "execute_result",
          "data": {
            "text/plain": [
              "{'F': 1, 'M': 2}"
            ]
          },
          "metadata": {},
          "execution_count": 71
        }
      ]
    },
    {
      "cell_type": "markdown",
      "metadata": {
        "id": "hbniNcJKJgF5"
      },
      "source": [
        "#### 2) Age"
      ]
    },
    {
      "cell_type": "code",
      "metadata": {
        "id": "00eY0KeAJho_"
      },
      "source": [
        "# age 피처맵 생성\n",
        "\n",
        "age_list = user_df['age_bucket'].unique()\n",
        "age_index = {}\n",
        "for idx, age in enumerate(age_list): #index를 자체를 딕셔너리로 해주기위해 enumerate를 함 \n",
        "  age_index[age] = idx + 1\n",
        "\n",
        "\n",
        "# ex.\n",
        "# {'10': 6, '20': 3, '30': 5, '40': 4, '50': 2, 'outlier': 1}"
      ],
      "execution_count": 72,
      "outputs": []
    },
    {
      "cell_type": "code",
      "metadata": {
        "colab": {
          "base_uri": "https://localhost:8080/"
        },
        "id": "hhc-VBdXLs7O",
        "outputId": "8cf9d7bc-49d1-4d86-ca2a-ec59ba26688c"
      },
      "source": [
        "age_index"
      ],
      "execution_count": 73,
      "outputs": [
        {
          "output_type": "execute_result",
          "data": {
            "text/plain": [
              "{'10': 6, '20': 3, '30': 5, '40': 4, '50': 2, 'outlier': 1}"
            ]
          },
          "metadata": {},
          "execution_count": 73
        }
      ]
    },
    {
      "cell_type": "markdown",
      "metadata": {
        "id": "xX2nMlvPKXws"
      },
      "source": [
        "#### 3) Occupation"
      ]
    },
    {
      "cell_type": "code",
      "metadata": {
        "id": "ugHi1hrIKXVB"
      },
      "source": [
        "# occupation 피처맵 생성\n",
        "\n",
        "occupation_list = user_df['occupation'].unique()\n",
        "occupation_index = {}\n",
        "for idx, occupation in enumerate(occupation_list): #index를 자체를 딕셔너리로 해주기위해 enumerate를 함\n",
        "  occupation_index[occupation] = idx + 1\n",
        "\n",
        "# ex.\n",
        "# {0: 10,\n",
        "#  1: 7,\n",
        "#  2: 17,\n",
        "#  3: 11,\n",
        "#  4: 13,\n",
        "#  ...}"
      ],
      "execution_count": 74,
      "outputs": []
    },
    {
      "cell_type": "code",
      "metadata": {
        "colab": {
          "base_uri": "https://localhost:8080/"
        },
        "id": "etbktykRL2b-",
        "outputId": "8881e3fc-fc4e-469b-cae5-f6d42d91b504"
      },
      "source": [
        "occupation_index"
      ],
      "execution_count": 75,
      "outputs": [
        {
          "output_type": "execute_result",
          "data": {
            "text/plain": [
              "{0: 10,\n",
              " 1: 7,\n",
              " 2: 17,\n",
              " 3: 11,\n",
              " 4: 13,\n",
              " 5: 19,\n",
              " 6: 21,\n",
              " 7: 4,\n",
              " 8: 15,\n",
              " 9: 6,\n",
              " 10: 1,\n",
              " 11: 14,\n",
              " 12: 8,\n",
              " 13: 20,\n",
              " 14: 12,\n",
              " 15: 3,\n",
              " 16: 2,\n",
              " 17: 9,\n",
              " 18: 18,\n",
              " 19: 16,\n",
              " 20: 5}"
            ]
          },
          "metadata": {},
          "execution_count": 75
        }
      ]
    },
    {
      "cell_type": "markdown",
      "metadata": {
        "id": "LsrXLeWVUVnk"
      },
      "source": [
        "### 문제 15. Item Profiling - 영화 속성별 피쳐맵 생성 (장르, 년도)"
      ]
    },
    {
      "cell_type": "code",
      "metadata": {
        "colab": {
          "base_uri": "https://localhost:8080/",
          "height": 423
        },
        "id": "Y99mlgtgTzh9",
        "outputId": "c4b7f573-d91e-490b-f1ee-1163f766f8a7"
      },
      "source": [
        "movie_df #이 데이터로 함"
      ],
      "execution_count": 76,
      "outputs": [
        {
          "output_type": "execute_result",
          "data": {
            "text/html": [
              "<div>\n",
              "<style scoped>\n",
              "    .dataframe tbody tr th:only-of-type {\n",
              "        vertical-align: middle;\n",
              "    }\n",
              "\n",
              "    .dataframe tbody tr th {\n",
              "        vertical-align: top;\n",
              "    }\n",
              "\n",
              "    .dataframe thead th {\n",
              "        text-align: right;\n",
              "    }\n",
              "</style>\n",
              "<table border=\"1\" class=\"dataframe\">\n",
              "  <thead>\n",
              "    <tr style=\"text-align: right;\">\n",
              "      <th></th>\n",
              "      <th>movie_id</th>\n",
              "      <th>mean</th>\n",
              "      <th>count</th>\n",
              "      <th>title</th>\n",
              "      <th>genre</th>\n",
              "      <th>decade</th>\n",
              "      <th>main_genre</th>\n",
              "    </tr>\n",
              "  </thead>\n",
              "  <tbody>\n",
              "    <tr>\n",
              "      <th>0</th>\n",
              "      <td>1</td>\n",
              "      <td>4.146846</td>\n",
              "      <td>2077</td>\n",
              "      <td>Toy Story (1995)</td>\n",
              "      <td>Animation|Children's|Comedy</td>\n",
              "      <td>1990</td>\n",
              "      <td>Animation</td>\n",
              "    </tr>\n",
              "    <tr>\n",
              "      <th>1</th>\n",
              "      <td>2</td>\n",
              "      <td>3.201141</td>\n",
              "      <td>701</td>\n",
              "      <td>Jumanji (1995)</td>\n",
              "      <td>Adventure|Children's|Fantasy</td>\n",
              "      <td>1990</td>\n",
              "      <td>Adventure</td>\n",
              "    </tr>\n",
              "    <tr>\n",
              "      <th>2</th>\n",
              "      <td>3</td>\n",
              "      <td>3.016736</td>\n",
              "      <td>478</td>\n",
              "      <td>Grumpier Old Men (1995)</td>\n",
              "      <td>Comedy|Romance</td>\n",
              "      <td>1990</td>\n",
              "      <td>Comedy</td>\n",
              "    </tr>\n",
              "    <tr>\n",
              "      <th>3</th>\n",
              "      <td>4</td>\n",
              "      <td>2.729412</td>\n",
              "      <td>170</td>\n",
              "      <td>Waiting to Exhale (1995)</td>\n",
              "      <td>Comedy|Drama</td>\n",
              "      <td>1990</td>\n",
              "      <td>Comedy</td>\n",
              "    </tr>\n",
              "    <tr>\n",
              "      <th>4</th>\n",
              "      <td>5</td>\n",
              "      <td>3.006757</td>\n",
              "      <td>296</td>\n",
              "      <td>Father of the Bride Part II (1995)</td>\n",
              "      <td>Comedy</td>\n",
              "      <td>1990</td>\n",
              "      <td>Comedy</td>\n",
              "    </tr>\n",
              "    <tr>\n",
              "      <th>...</th>\n",
              "      <td>...</td>\n",
              "      <td>...</td>\n",
              "      <td>...</td>\n",
              "      <td>...</td>\n",
              "      <td>...</td>\n",
              "      <td>...</td>\n",
              "      <td>...</td>\n",
              "    </tr>\n",
              "    <tr>\n",
              "      <th>3701</th>\n",
              "      <td>3948</td>\n",
              "      <td>3.635731</td>\n",
              "      <td>862</td>\n",
              "      <td>Meet the Parents (2000)</td>\n",
              "      <td>Comedy</td>\n",
              "      <td>2000</td>\n",
              "      <td>Comedy</td>\n",
              "    </tr>\n",
              "    <tr>\n",
              "      <th>3702</th>\n",
              "      <td>3949</td>\n",
              "      <td>4.115132</td>\n",
              "      <td>304</td>\n",
              "      <td>Requiem for a Dream (2000)</td>\n",
              "      <td>Drama</td>\n",
              "      <td>2000</td>\n",
              "      <td>Drama</td>\n",
              "    </tr>\n",
              "    <tr>\n",
              "      <th>3703</th>\n",
              "      <td>3950</td>\n",
              "      <td>3.666667</td>\n",
              "      <td>54</td>\n",
              "      <td>Tigerland (2000)</td>\n",
              "      <td>Drama</td>\n",
              "      <td>2000</td>\n",
              "      <td>Drama</td>\n",
              "    </tr>\n",
              "    <tr>\n",
              "      <th>3704</th>\n",
              "      <td>3951</td>\n",
              "      <td>3.900000</td>\n",
              "      <td>40</td>\n",
              "      <td>Two Family House (2000)</td>\n",
              "      <td>Drama</td>\n",
              "      <td>2000</td>\n",
              "      <td>Drama</td>\n",
              "    </tr>\n",
              "    <tr>\n",
              "      <th>3705</th>\n",
              "      <td>3952</td>\n",
              "      <td>3.780928</td>\n",
              "      <td>388</td>\n",
              "      <td>Contender, The (2000)</td>\n",
              "      <td>Drama|Thriller</td>\n",
              "      <td>2000</td>\n",
              "      <td>Drama</td>\n",
              "    </tr>\n",
              "  </tbody>\n",
              "</table>\n",
              "<p>3706 rows × 7 columns</p>\n",
              "</div>"
            ],
            "text/plain": [
              "      movie_id      mean  count  ...                         genre decade main_genre\n",
              "0            1  4.146846   2077  ...   Animation|Children's|Comedy   1990  Animation\n",
              "1            2  3.201141    701  ...  Adventure|Children's|Fantasy   1990  Adventure\n",
              "2            3  3.016736    478  ...                Comedy|Romance   1990     Comedy\n",
              "3            4  2.729412    170  ...                  Comedy|Drama   1990     Comedy\n",
              "4            5  3.006757    296  ...                        Comedy   1990     Comedy\n",
              "...        ...       ...    ...  ...                           ...    ...        ...\n",
              "3701      3948  3.635731    862  ...                        Comedy   2000     Comedy\n",
              "3702      3949  4.115132    304  ...                         Drama   2000      Drama\n",
              "3703      3950  3.666667     54  ...                         Drama   2000      Drama\n",
              "3704      3951  3.900000     40  ...                         Drama   2000      Drama\n",
              "3705      3952  3.780928    388  ...                Drama|Thriller   2000      Drama\n",
              "\n",
              "[3706 rows x 7 columns]"
            ]
          },
          "metadata": {},
          "execution_count": 76
        }
      ]
    },
    {
      "cell_type": "markdown",
      "metadata": {
        "id": "fYvAd8npNcXG"
      },
      "source": [
        "#### 1) Genre"
      ]
    },
    {
      "cell_type": "code",
      "metadata": {
        "id": "he9mfzhZNauV"
      },
      "source": [
        "# genre 피처맵 생성\n",
        "\n",
        "genre_list = movie_df['main_genre'].unique()\n",
        "genre_index = {}\n",
        "for idx, genre in enumerate(genre_list):  # 각 카테고리별로 숫자 부여\n",
        "  genre_index[genre] = idx + 1\n",
        "\n",
        "# ex.\n",
        "# {'Action': 4,\n",
        "#  'Adventure': 2,\n",
        "#  'Animation': 1,\n",
        "#  \"Children's\": 9,\n",
        "#  'Comedy': 3,\n",
        "#  'Crime': 7,\n",
        "#  'Documentary': 10,\n",
        "#  'Drama': 5,\n",
        "#  'Fantasy': 17,\n",
        "#  'Film-Noir': 15,\n",
        "#  'Horror': 12,\n",
        "#  'Musical': 18,\n",
        "#  'Mystery': 14,\n",
        "#  'Romance': 8,\n",
        "#  'Sci-Fi': 11,\n",
        "#  'Thriller': 6,\n",
        "#  'War': 16,\n",
        "#  'Western': 13}"
      ],
      "execution_count": 77,
      "outputs": []
    },
    {
      "cell_type": "code",
      "metadata": {
        "colab": {
          "base_uri": "https://localhost:8080/"
        },
        "id": "eZ3UnB6RUNhN",
        "outputId": "a4500ce3-12a4-4edd-a797-23280e1511fd"
      },
      "source": [
        "genre_list"
      ],
      "execution_count": 78,
      "outputs": [
        {
          "output_type": "execute_result",
          "data": {
            "text/plain": [
              "array(['Animation', 'Adventure', 'Comedy', 'Action', 'Drama', 'Thriller',\n",
              "       'Crime', 'Romance', \"Children's\", 'Documentary', 'Sci-Fi',\n",
              "       'Horror', 'Western', 'Mystery', 'Film-Noir', 'War', 'Fantasy',\n",
              "       'Musical'], dtype=object)"
            ]
          },
          "metadata": {},
          "execution_count": 78
        }
      ]
    },
    {
      "cell_type": "markdown",
      "metadata": {
        "id": "ilOx4ajqNeov"
      },
      "source": [
        "#### 2) Year"
      ]
    },
    {
      "cell_type": "code",
      "metadata": {
        "id": "DXWDPGAsNg4p"
      },
      "source": [
        "# year 피처맵 생성\n",
        "year_list = movie_df['decade'].unique()\n",
        "year_index = {}\n",
        "for idx, year in enumerate(year_list):\n",
        "  year_index[year] = idx + 1"
      ],
      "execution_count": 79,
      "outputs": []
    },
    {
      "cell_type": "code",
      "metadata": {
        "colab": {
          "base_uri": "https://localhost:8080/"
        },
        "id": "4k2sFTAKUMRi",
        "outputId": "0676bd84-625b-42c5-b3d4-9fdc8c37f024"
      },
      "source": [
        "year_list"
      ],
      "execution_count": 80,
      "outputs": [
        {
          "output_type": "execute_result",
          "data": {
            "text/plain": [
              "array(['1990', '1970', '1980', '1960', '1930', '1940', '1950', '1920',\n",
              "       '1910', '2000'], dtype=object)"
            ]
          },
          "metadata": {},
          "execution_count": 80
        }
      ]
    },
    {
      "cell_type": "markdown",
      "metadata": {
        "id": "b7sO7lrxUV9l"
      },
      "source": [
        "### 문제 16. Context Profiling - 특정 시간 기준 유저 행동 EDA (시청한 영화 정보, 시청한 영화 점수 분포)"
      ]
    },
    {
      "cell_type": "code",
      "metadata": {
        "colab": {
          "base_uri": "https://localhost:8080/",
          "height": 206
        },
        "id": "eEAOHhibUV-F",
        "outputId": "233009cd-cf39-4ccd-f4b4-9969936459dc"
      },
      "source": [
        "# 위에서 만든 feature map이 시간을 잘 고려한것인지 확인해본다\n",
        "train_df.head()"
      ],
      "execution_count": 81,
      "outputs": [
        {
          "output_type": "execute_result",
          "data": {
            "text/html": [
              "<div>\n",
              "<style scoped>\n",
              "    .dataframe tbody tr th:only-of-type {\n",
              "        vertical-align: middle;\n",
              "    }\n",
              "\n",
              "    .dataframe tbody tr th {\n",
              "        vertical-align: top;\n",
              "    }\n",
              "\n",
              "    .dataframe thead th {\n",
              "        text-align: right;\n",
              "    }\n",
              "</style>\n",
              "<table border=\"1\" class=\"dataframe\">\n",
              "  <thead>\n",
              "    <tr style=\"text-align: right;\">\n",
              "      <th></th>\n",
              "      <th>user_id</th>\n",
              "      <th>movie_id</th>\n",
              "      <th>rating</th>\n",
              "      <th>time</th>\n",
              "    </tr>\n",
              "  </thead>\n",
              "  <tbody>\n",
              "    <tr>\n",
              "      <th>94507</th>\n",
              "      <td>635</td>\n",
              "      <td>1251</td>\n",
              "      <td>4</td>\n",
              "      <td>975768620</td>\n",
              "    </tr>\n",
              "    <tr>\n",
              "      <th>94513</th>\n",
              "      <td>635</td>\n",
              "      <td>3948</td>\n",
              "      <td>4</td>\n",
              "      <td>975768294</td>\n",
              "    </tr>\n",
              "    <tr>\n",
              "      <th>94518</th>\n",
              "      <td>635</td>\n",
              "      <td>1270</td>\n",
              "      <td>4</td>\n",
              "      <td>975768106</td>\n",
              "    </tr>\n",
              "    <tr>\n",
              "      <th>94519</th>\n",
              "      <td>635</td>\n",
              "      <td>1279</td>\n",
              "      <td>5</td>\n",
              "      <td>975768520</td>\n",
              "    </tr>\n",
              "    <tr>\n",
              "      <th>94522</th>\n",
              "      <td>635</td>\n",
              "      <td>1286</td>\n",
              "      <td>4</td>\n",
              "      <td>975768106</td>\n",
              "    </tr>\n",
              "  </tbody>\n",
              "</table>\n",
              "</div>"
            ],
            "text/plain": [
              "       user_id  movie_id  rating       time\n",
              "94507      635      1251       4  975768620\n",
              "94513      635      3948       4  975768294\n",
              "94518      635      1270       4  975768106\n",
              "94519      635      1279       5  975768520\n",
              "94522      635      1286       4  975768106"
            ]
          },
          "metadata": {},
          "execution_count": 81
        }
      ]
    },
    {
      "cell_type": "code",
      "metadata": {
        "colab": {
          "base_uri": "https://localhost:8080/",
          "height": 206
        },
        "id": "qJw0yFYpUncC",
        "outputId": "fb69b7d3-9bd3-47d6-c41a-2fbadb7af180"
      },
      "source": [
        "train_df = pd.merge(train_df, movie_df, on='movie_id')\n",
        "train_df = pd.merge(train_df, user_df, on='user_id')\n",
        "train_df.head() #train_df에 유저와 item이 병합된 형태로 만들어짐"
      ],
      "execution_count": 82,
      "outputs": [
        {
          "output_type": "execute_result",
          "data": {
            "text/html": [
              "<div>\n",
              "<style scoped>\n",
              "    .dataframe tbody tr th:only-of-type {\n",
              "        vertical-align: middle;\n",
              "    }\n",
              "\n",
              "    .dataframe tbody tr th {\n",
              "        vertical-align: top;\n",
              "    }\n",
              "\n",
              "    .dataframe thead th {\n",
              "        text-align: right;\n",
              "    }\n",
              "</style>\n",
              "<table border=\"1\" class=\"dataframe\">\n",
              "  <thead>\n",
              "    <tr style=\"text-align: right;\">\n",
              "      <th></th>\n",
              "      <th>user_id</th>\n",
              "      <th>movie_id</th>\n",
              "      <th>rating</th>\n",
              "      <th>time</th>\n",
              "      <th>mean</th>\n",
              "      <th>count</th>\n",
              "      <th>title</th>\n",
              "      <th>genre</th>\n",
              "      <th>decade</th>\n",
              "      <th>main_genre</th>\n",
              "      <th>gender</th>\n",
              "      <th>age</th>\n",
              "      <th>occupation</th>\n",
              "      <th>zipcode</th>\n",
              "      <th>age_bucket</th>\n",
              "    </tr>\n",
              "  </thead>\n",
              "  <tbody>\n",
              "    <tr>\n",
              "      <th>0</th>\n",
              "      <td>635</td>\n",
              "      <td>1251</td>\n",
              "      <td>4</td>\n",
              "      <td>975768620</td>\n",
              "      <td>4.105263</td>\n",
              "      <td>228</td>\n",
              "      <td>8 1/2 (1963)</td>\n",
              "      <td>Drama</td>\n",
              "      <td>1960</td>\n",
              "      <td>Drama</td>\n",
              "      <td>M</td>\n",
              "      <td>56</td>\n",
              "      <td>17</td>\n",
              "      <td>33785</td>\n",
              "      <td>50</td>\n",
              "    </tr>\n",
              "    <tr>\n",
              "      <th>1</th>\n",
              "      <td>635</td>\n",
              "      <td>3948</td>\n",
              "      <td>4</td>\n",
              "      <td>975768294</td>\n",
              "      <td>3.635731</td>\n",
              "      <td>862</td>\n",
              "      <td>Meet the Parents (2000)</td>\n",
              "      <td>Comedy</td>\n",
              "      <td>2000</td>\n",
              "      <td>Comedy</td>\n",
              "      <td>M</td>\n",
              "      <td>56</td>\n",
              "      <td>17</td>\n",
              "      <td>33785</td>\n",
              "      <td>50</td>\n",
              "    </tr>\n",
              "    <tr>\n",
              "      <th>2</th>\n",
              "      <td>635</td>\n",
              "      <td>1270</td>\n",
              "      <td>4</td>\n",
              "      <td>975768106</td>\n",
              "      <td>3.990321</td>\n",
              "      <td>2583</td>\n",
              "      <td>Back to the Future (1985)</td>\n",
              "      <td>Comedy|Sci-Fi</td>\n",
              "      <td>1980</td>\n",
              "      <td>Comedy</td>\n",
              "      <td>M</td>\n",
              "      <td>56</td>\n",
              "      <td>17</td>\n",
              "      <td>33785</td>\n",
              "      <td>50</td>\n",
              "    </tr>\n",
              "    <tr>\n",
              "      <th>3</th>\n",
              "      <td>635</td>\n",
              "      <td>1279</td>\n",
              "      <td>5</td>\n",
              "      <td>975768520</td>\n",
              "      <td>3.747423</td>\n",
              "      <td>194</td>\n",
              "      <td>Night on Earth (1991)</td>\n",
              "      <td>Comedy|Drama</td>\n",
              "      <td>1990</td>\n",
              "      <td>Comedy</td>\n",
              "      <td>M</td>\n",
              "      <td>56</td>\n",
              "      <td>17</td>\n",
              "      <td>33785</td>\n",
              "      <td>50</td>\n",
              "    </tr>\n",
              "    <tr>\n",
              "      <th>4</th>\n",
              "      <td>635</td>\n",
              "      <td>1286</td>\n",
              "      <td>4</td>\n",
              "      <td>975768106</td>\n",
              "      <td>3.585965</td>\n",
              "      <td>285</td>\n",
              "      <td>Somewhere in Time (1980)</td>\n",
              "      <td>Drama|Romance</td>\n",
              "      <td>1980</td>\n",
              "      <td>Drama</td>\n",
              "      <td>M</td>\n",
              "      <td>56</td>\n",
              "      <td>17</td>\n",
              "      <td>33785</td>\n",
              "      <td>50</td>\n",
              "    </tr>\n",
              "  </tbody>\n",
              "</table>\n",
              "</div>"
            ],
            "text/plain": [
              "   user_id  movie_id  rating       time  ...  age  occupation zipcode age_bucket\n",
              "0      635      1251       4  975768620  ...   56          17   33785         50\n",
              "1      635      3948       4  975768294  ...   56          17   33785         50\n",
              "2      635      1270       4  975768106  ...   56          17   33785         50\n",
              "3      635      1279       5  975768520  ...   56          17   33785         50\n",
              "4      635      1286       4  975768106  ...   56          17   33785         50\n",
              "\n",
              "[5 rows x 15 columns]"
            ]
          },
          "metadata": {},
          "execution_count": 82
        }
      ]
    },
    {
      "cell_type": "code",
      "metadata": {
        "colab": {
          "base_uri": "https://localhost:8080/",
          "height": 339
        },
        "id": "qp_QywmeU4Ka",
        "outputId": "d099cd4e-4199-427e-e50a-8588dedd2ca2"
      },
      "source": [
        "# 위에서 만든 시청한 영화 정보 탐색(movie_df)과 train_df의 분포가 얼마나 차이나는지 한번 봐본다 - > 다르면 feature 맵을 다르게 해줘야한다\n",
        "released_year_area = train_df['decade'].value_counts().sort_index()\n",
        "sns.barplot(released_year_area.index, released_year_area.values) #큰차이는 없어보인다"
      ],
      "execution_count": 83,
      "outputs": [
        {
          "output_type": "stream",
          "name": "stderr",
          "text": [
            "/usr/local/lib/python3.7/dist-packages/seaborn/_decorators.py:43: FutureWarning: Pass the following variables as keyword args: x, y. From version 0.12, the only valid positional argument will be `data`, and passing other arguments without an explicit keyword will result in an error or misinterpretation.\n",
            "  FutureWarning\n"
          ]
        },
        {
          "output_type": "execute_result",
          "data": {
            "text/plain": [
              "<matplotlib.axes._subplots.AxesSubplot at 0x7f91b6da2850>"
            ]
          },
          "metadata": {},
          "execution_count": 83
        },
        {
          "output_type": "display_data",
          "data": {
            "image/png": "[encoded data removed]",
            "text/plain": [
              "<Figure size 432x288 with 1 Axes>"
            ]
          },
          "metadata": {
            "needs_background": "light"
          }
        }
      ]
    },
    {
      "cell_type": "code",
      "metadata": {
        "colab": {
          "base_uri": "https://localhost:8080/",
          "height": 283
        },
        "id": "STkQbK6wWl05",
        "outputId": "a2edf4e2-6d7d-4214-949f-645ed2369cb3"
      },
      "source": [
        "train_df['rating'].hist()\n",
        "#이것도 movie_df로 햇을때 와 비슷\n",
        "#위에서 했던 방법으로 학습을 준비시켜도 될듯하다"
      ],
      "execution_count": 84,
      "outputs": [
        {
          "output_type": "execute_result",
          "data": {
            "text/plain": [
              "<matplotlib.axes._subplots.AxesSubplot at 0x7f91b6c48050>"
            ]
          },
          "metadata": {},
          "execution_count": 84
        },
        {
          "output_type": "display_data",
          "data": {
            "image/png": "[encoded data removed]",
            "text/plain": [
              "<Figure size 432x288 with 1 Axes>"
            ]
          },
          "metadata": {
            "needs_background": "light"
          }
        }
      ]
    },
    {
      "cell_type": "code",
      "metadata": {
        "id": "8q-I18yAPOx5",
        "colab": {
          "base_uri": "https://localhost:8080/"
        },
        "outputId": "f40cf646-c3d4-4ef6-a8f4-90a3b93ebd73"
      },
      "source": [
        "# 시간 기준으로 분리한 데이터셋 EDA\n",
        "train_df['main_genre'].value_counts()"
      ],
      "execution_count": 85,
      "outputs": [
        {
          "output_type": "execute_result",
          "data": {
            "text/plain": [
              "Comedy         219077\n",
              "Action         210721\n",
              "Drama          163949\n",
              "Horror          36100\n",
              "Adventure       35315\n",
              "Crime           30569\n",
              "Animation       29121\n",
              "Children's      17088\n",
              "Thriller        13974\n",
              "Sci-Fi           9144\n",
              "Mystery          8229\n",
              "Film-Noir        7742\n",
              "Musical          5600\n",
              "Documentary      5283\n",
              "Western          4654\n",
              "Romance          2122\n",
              "War               809\n",
              "Fantasy           667\n",
              "Name: main_genre, dtype: int64"
            ]
          },
          "metadata": {},
          "execution_count": 85
        }
      ]
    },
    {
      "cell_type": "code",
      "metadata": {
        "id": "7qNVXOfekRoG"
      },
      "source": [
        "train_df = train_df"
      ],
      "execution_count": 86,
      "outputs": []
    },
    {
      "cell_type": "markdown",
      "metadata": {
        "id": "j9A14Tq_20M8"
      },
      "source": [
        "### 문제 17. Feature Mapping - Profiling 피처맵 맵핑"
      ]
    },
    {
      "cell_type": "code",
      "metadata": {
        "id": "XCZ1LZsDf9zj"
      },
      "source": [
        "# profile 완료된 경과로 피처맵 맵핑\n",
        "train_df = train_df[['user_id', 'movie_id', 'rating', 'decade', 'main_genre', 'gender', 'occupation', 'age_bucket']]\n",
        "train_df['decade'] = train_df['decade'].apply(lambda x: year_index[x])\n",
        "train_df['main_genre'] = train_df['main_genre'].apply(lambda x: genre_index[x])\n",
        "train_df['gender'] = train_df['gender'].apply(lambda x: gender_index[x])\n",
        "train_df['occupation'] = train_df['occupation'].apply(lambda x: occupation_index[x])\n",
        "train_df['age_bucket'] = train_df['age_bucket'].apply(lambda x: age_index[x])\n",
        "# ex.\n",
        "# \tuser_id\tmovie_id\trating\treleased_year_area\tmain_genre\tgender\toccupation\tage_bucket\n",
        "# 0\t635\t1251\t4\t4\t5\t2\t9\t2\n",
        "# 1\t635\t3948\t4\t10\t3\t2\t9\t2\n",
        "# 2\t635\t1270\t4\t3\t3\t2\t9\t2\n",
        "# 3\t635\t1279\t5\t1\t3\t2\t9\t2\n",
        "# 4\t635\t1286\t4\t3\t5\t2\t9\t2"
      ],
      "execution_count": 87,
      "outputs": []
    },
    {
      "cell_type": "code",
      "metadata": {
        "colab": {
          "base_uri": "https://localhost:8080/",
          "height": 423
        },
        "id": "ue_TrhHqXGyM",
        "outputId": "2a477da1-ca0f-4eaa-df0e-0ebed80d98cb"
      },
      "source": [
        "train_df"
      ],
      "execution_count": 88,
      "outputs": [
        {
          "output_type": "execute_result",
          "data": {
            "text/html": [
              "<div>\n",
              "<style scoped>\n",
              "    .dataframe tbody tr th:only-of-type {\n",
              "        vertical-align: middle;\n",
              "    }\n",
              "\n",
              "    .dataframe tbody tr th {\n",
              "        vertical-align: top;\n",
              "    }\n",
              "\n",
              "    .dataframe thead th {\n",
              "        text-align: right;\n",
              "    }\n",
              "</style>\n",
              "<table border=\"1\" class=\"dataframe\">\n",
              "  <thead>\n",
              "    <tr style=\"text-align: right;\">\n",
              "      <th></th>\n",
              "      <th>user_id</th>\n",
              "      <th>movie_id</th>\n",
              "      <th>rating</th>\n",
              "      <th>decade</th>\n",
              "      <th>main_genre</th>\n",
              "      <th>gender</th>\n",
              "      <th>occupation</th>\n",
              "      <th>age_bucket</th>\n",
              "    </tr>\n",
              "  </thead>\n",
              "  <tbody>\n",
              "    <tr>\n",
              "      <th>0</th>\n",
              "      <td>635</td>\n",
              "      <td>1251</td>\n",
              "      <td>4</td>\n",
              "      <td>4</td>\n",
              "      <td>5</td>\n",
              "      <td>2</td>\n",
              "      <td>9</td>\n",
              "      <td>2</td>\n",
              "    </tr>\n",
              "    <tr>\n",
              "      <th>1</th>\n",
              "      <td>635</td>\n",
              "      <td>3948</td>\n",
              "      <td>4</td>\n",
              "      <td>10</td>\n",
              "      <td>3</td>\n",
              "      <td>2</td>\n",
              "      <td>9</td>\n",
              "      <td>2</td>\n",
              "    </tr>\n",
              "    <tr>\n",
              "      <th>2</th>\n",
              "      <td>635</td>\n",
              "      <td>1270</td>\n",
              "      <td>4</td>\n",
              "      <td>3</td>\n",
              "      <td>3</td>\n",
              "      <td>2</td>\n",
              "      <td>9</td>\n",
              "      <td>2</td>\n",
              "    </tr>\n",
              "    <tr>\n",
              "      <th>3</th>\n",
              "      <td>635</td>\n",
              "      <td>1279</td>\n",
              "      <td>5</td>\n",
              "      <td>1</td>\n",
              "      <td>3</td>\n",
              "      <td>2</td>\n",
              "      <td>9</td>\n",
              "      <td>2</td>\n",
              "    </tr>\n",
              "    <tr>\n",
              "      <th>4</th>\n",
              "      <td>635</td>\n",
              "      <td>1286</td>\n",
              "      <td>4</td>\n",
              "      <td>3</td>\n",
              "      <td>5</td>\n",
              "      <td>2</td>\n",
              "      <td>9</td>\n",
              "      <td>2</td>\n",
              "    </tr>\n",
              "    <tr>\n",
              "      <th>...</th>\n",
              "      <td>...</td>\n",
              "      <td>...</td>\n",
              "      <td>...</td>\n",
              "      <td>...</td>\n",
              "      <td>...</td>\n",
              "      <td>...</td>\n",
              "      <td>...</td>\n",
              "      <td>...</td>\n",
              "    </tr>\n",
              "    <tr>\n",
              "      <th>800159</th>\n",
              "      <td>4528</td>\n",
              "      <td>912</td>\n",
              "      <td>4</td>\n",
              "      <td>6</td>\n",
              "      <td>5</td>\n",
              "      <td>2</td>\n",
              "      <td>12</td>\n",
              "      <td>3</td>\n",
              "    </tr>\n",
              "    <tr>\n",
              "      <th>800160</th>\n",
              "      <td>4528</td>\n",
              "      <td>2395</td>\n",
              "      <td>4</td>\n",
              "      <td>1</td>\n",
              "      <td>3</td>\n",
              "      <td>2</td>\n",
              "      <td>12</td>\n",
              "      <td>3</td>\n",
              "    </tr>\n",
              "    <tr>\n",
              "      <th>800161</th>\n",
              "      <td>4528</td>\n",
              "      <td>2599</td>\n",
              "      <td>5</td>\n",
              "      <td>1</td>\n",
              "      <td>3</td>\n",
              "      <td>2</td>\n",
              "      <td>12</td>\n",
              "      <td>3</td>\n",
              "    </tr>\n",
              "    <tr>\n",
              "      <th>800162</th>\n",
              "      <td>3326</td>\n",
              "      <td>912</td>\n",
              "      <td>4</td>\n",
              "      <td>6</td>\n",
              "      <td>5</td>\n",
              "      <td>2</td>\n",
              "      <td>4</td>\n",
              "      <td>4</td>\n",
              "    </tr>\n",
              "    <tr>\n",
              "      <th>800163</th>\n",
              "      <td>3326</td>\n",
              "      <td>3819</td>\n",
              "      <td>4</td>\n",
              "      <td>3</td>\n",
              "      <td>3</td>\n",
              "      <td>2</td>\n",
              "      <td>4</td>\n",
              "      <td>4</td>\n",
              "    </tr>\n",
              "  </tbody>\n",
              "</table>\n",
              "<p>800164 rows × 8 columns</p>\n",
              "</div>"
            ],
            "text/plain": [
              "        user_id  movie_id  rating  ...  gender  occupation  age_bucket\n",
              "0           635      1251       4  ...       2           9           2\n",
              "1           635      3948       4  ...       2           9           2\n",
              "2           635      1270       4  ...       2           9           2\n",
              "3           635      1279       5  ...       2           9           2\n",
              "4           635      1286       4  ...       2           9           2\n",
              "...         ...       ...     ...  ...     ...         ...         ...\n",
              "800159     4528       912       4  ...       2          12           3\n",
              "800160     4528      2395       4  ...       2          12           3\n",
              "800161     4528      2599       5  ...       2          12           3\n",
              "800162     3326       912       4  ...       2           4           4\n",
              "800163     3326      3819       4  ...       2           4           4\n",
              "\n",
              "[800164 rows x 8 columns]"
            ]
          },
          "metadata": {},
          "execution_count": 88
        }
      ]
    },
    {
      "cell_type": "code",
      "metadata": {
        "colab": {
          "base_uri": "https://localhost:8080/",
          "height": 533
        },
        "id": "6_LlJ12Lj2RP",
        "outputId": "c119b6ad-ed70-4215-d8b9-339382124353"
      },
      "source": [
        "test_df = pd.merge(test_df, movie_df, on='movie_id')\n",
        "test_df = pd.merge(test_df, user_df, on='user_id')\n",
        "\n",
        "test_df = test_df[['user_id', 'movie_id', 'rating', 'decade', 'main_genre', 'gender', 'occupation', 'age_bucket']]\n",
        "test_df['decade'] = test_df['decade'].apply(lambda x: year_index[x])\n",
        "test_df['main_genre'] = test_df['main_genre'].apply(lambda x: genre_index[x])\n",
        "test_df['gender'] = test_df['gender'].apply(lambda x: gender_index[x])\n",
        "test_df['occupation'] = test_df['occupation'].apply(lambda x: occupation_index[x])\n",
        "test_df['age_bucket'] = test_df['age_bucket'].apply(lambda x: age_index[x])\n",
        "\n",
        "test_df"
      ],
      "execution_count": 89,
      "outputs": [
        {
          "output_type": "stream",
          "name": "stderr",
          "text": [
            "/usr/local/lib/python3.7/dist-packages/ipykernel_launcher.py:5: SettingWithCopyWarning: \n",
            "A value is trying to be set on a copy of a slice from a DataFrame.\n",
            "Try using .loc[row_indexer,col_indexer] = value instead\n",
            "\n",
            "See the caveats in the documentation: https://pandas.pydata.org/pandas-docs/stable/user_guide/indexing.html#returning-a-view-versus-a-copy\n",
            "  \"\"\"\n"
          ]
        },
        {
          "output_type": "execute_result",
          "data": {
            "text/html": [
              "<div>\n",
              "<style scoped>\n",
              "    .dataframe tbody tr th:only-of-type {\n",
              "        vertical-align: middle;\n",
              "    }\n",
              "\n",
              "    .dataframe tbody tr th {\n",
              "        vertical-align: top;\n",
              "    }\n",
              "\n",
              "    .dataframe thead th {\n",
              "        text-align: right;\n",
              "    }\n",
              "</style>\n",
              "<table border=\"1\" class=\"dataframe\">\n",
              "  <thead>\n",
              "    <tr style=\"text-align: right;\">\n",
              "      <th></th>\n",
              "      <th>user_id</th>\n",
              "      <th>movie_id</th>\n",
              "      <th>rating</th>\n",
              "      <th>decade</th>\n",
              "      <th>main_genre</th>\n",
              "      <th>gender</th>\n",
              "      <th>occupation</th>\n",
              "      <th>age_bucket</th>\n",
              "    </tr>\n",
              "  </thead>\n",
              "  <tbody>\n",
              "    <tr>\n",
              "      <th>0</th>\n",
              "      <td>1</td>\n",
              "      <td>1193</td>\n",
              "      <td>5</td>\n",
              "      <td>2</td>\n",
              "      <td>5</td>\n",
              "      <td>1</td>\n",
              "      <td>1</td>\n",
              "      <td>1</td>\n",
              "    </tr>\n",
              "    <tr>\n",
              "      <th>1</th>\n",
              "      <td>1</td>\n",
              "      <td>661</td>\n",
              "      <td>3</td>\n",
              "      <td>1</td>\n",
              "      <td>1</td>\n",
              "      <td>1</td>\n",
              "      <td>1</td>\n",
              "      <td>1</td>\n",
              "    </tr>\n",
              "    <tr>\n",
              "      <th>2</th>\n",
              "      <td>1</td>\n",
              "      <td>914</td>\n",
              "      <td>3</td>\n",
              "      <td>4</td>\n",
              "      <td>18</td>\n",
              "      <td>1</td>\n",
              "      <td>1</td>\n",
              "      <td>1</td>\n",
              "    </tr>\n",
              "    <tr>\n",
              "      <th>3</th>\n",
              "      <td>1</td>\n",
              "      <td>3408</td>\n",
              "      <td>4</td>\n",
              "      <td>10</td>\n",
              "      <td>5</td>\n",
              "      <td>1</td>\n",
              "      <td>1</td>\n",
              "      <td>1</td>\n",
              "    </tr>\n",
              "    <tr>\n",
              "      <th>4</th>\n",
              "      <td>1</td>\n",
              "      <td>2355</td>\n",
              "      <td>5</td>\n",
              "      <td>1</td>\n",
              "      <td>1</td>\n",
              "      <td>1</td>\n",
              "      <td>1</td>\n",
              "      <td>1</td>\n",
              "    </tr>\n",
              "    <tr>\n",
              "      <th>...</th>\n",
              "      <td>...</td>\n",
              "      <td>...</td>\n",
              "      <td>...</td>\n",
              "      <td>...</td>\n",
              "      <td>...</td>\n",
              "      <td>...</td>\n",
              "      <td>...</td>\n",
              "      <td>...</td>\n",
              "    </tr>\n",
              "    <tr>\n",
              "      <th>200040</th>\n",
              "      <td>3453</td>\n",
              "      <td>3158</td>\n",
              "      <td>2</td>\n",
              "      <td>1</td>\n",
              "      <td>5</td>\n",
              "      <td>2</td>\n",
              "      <td>4</td>\n",
              "      <td>5</td>\n",
              "    </tr>\n",
              "    <tr>\n",
              "      <th>200041</th>\n",
              "      <td>3453</td>\n",
              "      <td>2293</td>\n",
              "      <td>3</td>\n",
              "      <td>1</td>\n",
              "      <td>5</td>\n",
              "      <td>2</td>\n",
              "      <td>4</td>\n",
              "      <td>5</td>\n",
              "    </tr>\n",
              "    <tr>\n",
              "      <th>200042</th>\n",
              "      <td>3453</td>\n",
              "      <td>2275</td>\n",
              "      <td>1</td>\n",
              "      <td>1</td>\n",
              "      <td>4</td>\n",
              "      <td>2</td>\n",
              "      <td>4</td>\n",
              "      <td>5</td>\n",
              "    </tr>\n",
              "    <tr>\n",
              "      <th>200043</th>\n",
              "      <td>3072</td>\n",
              "      <td>1455</td>\n",
              "      <td>4</td>\n",
              "      <td>1</td>\n",
              "      <td>3</td>\n",
              "      <td>2</td>\n",
              "      <td>7</td>\n",
              "      <td>2</td>\n",
              "    </tr>\n",
              "    <tr>\n",
              "      <th>200044</th>\n",
              "      <td>4738</td>\n",
              "      <td>2914</td>\n",
              "      <td>5</td>\n",
              "      <td>1</td>\n",
              "      <td>3</td>\n",
              "      <td>2</td>\n",
              "      <td>7</td>\n",
              "      <td>2</td>\n",
              "    </tr>\n",
              "  </tbody>\n",
              "</table>\n",
              "<p>200045 rows × 8 columns</p>\n",
              "</div>"
            ],
            "text/plain": [
              "        user_id  movie_id  rating  ...  gender  occupation  age_bucket\n",
              "0             1      1193       5  ...       1           1           1\n",
              "1             1       661       3  ...       1           1           1\n",
              "2             1       914       3  ...       1           1           1\n",
              "3             1      3408       4  ...       1           1           1\n",
              "4             1      2355       5  ...       1           1           1\n",
              "...         ...       ...     ...  ...     ...         ...         ...\n",
              "200040     3453      3158       2  ...       2           4           5\n",
              "200041     3453      2293       3  ...       2           4           5\n",
              "200042     3453      2275       1  ...       2           4           5\n",
              "200043     3072      1455       4  ...       2           7           2\n",
              "200044     4738      2914       5  ...       2           7           2\n",
              "\n",
              "[200045 rows x 8 columns]"
            ]
          },
          "metadata": {},
          "execution_count": 89
        }
      ]
    },
    {
      "cell_type": "markdown",
      "metadata": {
        "id": "zRZWztHgUWfx"
      },
      "source": [
        "### 문제 18. Binary Transformation - 평가 점수 기준으로 (0,1) 변환"
      ]
    },
    {
      "cell_type": "code",
      "metadata": {
        "id": "GNGfIPSMkaNj"
      },
      "source": [
        "# regression 데이터 셋을 만들듯 point wise 데이터 셋을 만듬\n",
        "# => y값 설정이 중요 => 랭킹모델 기준점에 따라 y값 설정이 다름 ( ex) 시청 여부에 따라 0 또는 1 로 준다)\n",
        "# => 여기서는 본 기록 또는 rating에 따라 나눌수도 있을것 같다"
      ],
      "execution_count": null,
      "outputs": []
    },
    {
      "cell_type": "code",
      "metadata": {
        "id": "nhI2X1BiiPZf",
        "colab": {
          "base_uri": "https://localhost:8080/",
          "height": 206
        },
        "outputId": "4e13f52b-2e97-47b7-99b5-838b8e0acb77"
      },
      "source": [
        "# rating이 4점 이상인 경우 1, 3점 이하인 경우 0으로 변환 (높게 평가: 1 , 낮게평가: 0)\n",
        "train_df['y'] = train_df['rating'].apply(lambda x: 1 if x >= 4 else 0)\n",
        "train_df.sample(10).head()\n",
        "\n",
        "#이제 Regression을 수행가능\n",
        "#근데 우리의 목적은 회귀를 하는게 아닌 Factorization Machine 알고리즘을 통해 Raking machine 이라는 알고리즘을 만들것임\n",
        "#그래도 Input과 output을 넣고 빼는건 로지스틱 회귀랑 다를게 없다 -> 알고리즘만 다른 것"
      ],
      "execution_count": 90,
      "outputs": [
        {
          "output_type": "execute_result",
          "data": {
            "text/html": [
              "<div>\n",
              "<style scoped>\n",
              "    .dataframe tbody tr th:only-of-type {\n",
              "        vertical-align: middle;\n",
              "    }\n",
              "\n",
              "    .dataframe tbody tr th {\n",
              "        vertical-align: top;\n",
              "    }\n",
              "\n",
              "    .dataframe thead th {\n",
              "        text-align: right;\n",
              "    }\n",
              "</style>\n",
              "<table border=\"1\" class=\"dataframe\">\n",
              "  <thead>\n",
              "    <tr style=\"text-align: right;\">\n",
              "      <th></th>\n",
              "      <th>user_id</th>\n",
              "      <th>movie_id</th>\n",
              "      <th>rating</th>\n",
              "      <th>decade</th>\n",
              "      <th>main_genre</th>\n",
              "      <th>gender</th>\n",
              "      <th>occupation</th>\n",
              "      <th>age_bucket</th>\n",
              "      <th>y</th>\n",
              "    </tr>\n",
              "  </thead>\n",
              "  <tbody>\n",
              "    <tr>\n",
              "      <th>725582</th>\n",
              "      <td>2347</td>\n",
              "      <td>3555</td>\n",
              "      <td>4</td>\n",
              "      <td>10</td>\n",
              "      <td>4</td>\n",
              "      <td>2</td>\n",
              "      <td>7</td>\n",
              "      <td>5</td>\n",
              "      <td>1</td>\n",
              "    </tr>\n",
              "    <tr>\n",
              "      <th>710453</th>\n",
              "      <td>5792</td>\n",
              "      <td>2693</td>\n",
              "      <td>5</td>\n",
              "      <td>1</td>\n",
              "      <td>10</td>\n",
              "      <td>2</td>\n",
              "      <td>9</td>\n",
              "      <td>3</td>\n",
              "      <td>1</td>\n",
              "    </tr>\n",
              "    <tr>\n",
              "      <th>466794</th>\n",
              "      <td>5011</td>\n",
              "      <td>32</td>\n",
              "      <td>4</td>\n",
              "      <td>1</td>\n",
              "      <td>5</td>\n",
              "      <td>2</td>\n",
              "      <td>13</td>\n",
              "      <td>6</td>\n",
              "      <td>1</td>\n",
              "    </tr>\n",
              "    <tr>\n",
              "      <th>258965</th>\n",
              "      <td>2737</td>\n",
              "      <td>1580</td>\n",
              "      <td>3</td>\n",
              "      <td>1</td>\n",
              "      <td>4</td>\n",
              "      <td>2</td>\n",
              "      <td>11</td>\n",
              "      <td>3</td>\n",
              "      <td>0</td>\n",
              "    </tr>\n",
              "    <tr>\n",
              "      <th>349987</th>\n",
              "      <td>3759</td>\n",
              "      <td>333</td>\n",
              "      <td>5</td>\n",
              "      <td>1</td>\n",
              "      <td>3</td>\n",
              "      <td>2</td>\n",
              "      <td>21</td>\n",
              "      <td>5</td>\n",
              "      <td>1</td>\n",
              "    </tr>\n",
              "  </tbody>\n",
              "</table>\n",
              "</div>"
            ],
            "text/plain": [
              "        user_id  movie_id  rating  decade  ...  gender  occupation  age_bucket  y\n",
              "725582     2347      3555       4      10  ...       2           7           5  1\n",
              "710453     5792      2693       5       1  ...       2           9           3  1\n",
              "466794     5011        32       4       1  ...       2          13           6  1\n",
              "258965     2737      1580       3       1  ...       2          11           3  0\n",
              "349987     3759       333       5       1  ...       2          21           5  1\n",
              "\n",
              "[5 rows x 9 columns]"
            ]
          },
          "metadata": {},
          "execution_count": 90
        }
      ]
    },
    {
      "cell_type": "markdown",
      "metadata": {
        "id": "ehw9UI3CUWwW"
      },
      "source": [
        "### 문제 19. Feature Vector 생성 - libsvm 포맷의 데이터셋 생성\n"
      ]
    },
    {
      "cell_type": "markdown",
      "metadata": {
        "id": "d9RAAZo2jcaq"
      },
      "source": [
        "#### Sparse Vector in Linear Model\n",
        "\n",
        "    [libsvm]\n",
        "    1. sparse vector를 표현하기에 적합\n",
        "    2. 용량을 크게 차지 않하고 sparse vector 표현 가능\n",
        "\n",
        "    [Sparse Vector]\n",
        "    1. 0, 1로 값을 표현하는 벡터가 매우 희소한 상황 (대부분이 0임)\n",
        "    2. 아래 그림에서 3002개의 벡터 중, 1이 등장하는 벡터는 단 두개\n",
        "    3. Linear Model에서 Sparse 하다는 것은 이러한 상황을 의미\n",
        "    4. OneHot encoding 형식\n",
        "\n",
        "![sparse](https://raw.githubusercontent.com/yoonkt200/FastCampusDataset/master/images/sparse.png)\n",
        "\n",
        "----\n",
        "\n",
        "    [Linear Model]\n",
        "    1. 입력 특성에 대한 선형 함수를 만들어 예측을 수행하는 모델\n",
        "    2. y = a1x1 + a2x2... 같은 방정식이라고 생각할 수 있음\n",
        "    3. 일반적인 랭킹 모델은 Linear Model로 마지막 추론을 하게 되어있음\n",
        "    4. x1, x2...가 바로 Sparse Vector를 의미함\n",
        "\n",
        "----\n",
        "\n",
        "    [libsvm 포맷]\n",
        "    1. \"index\":\"value\" 형태로 sparse vector를 표현하는 형태\n",
        "    2. 위 그림을 표현하면, \"1:1 3001:1\" 이 됨. (one hot encoding의 고지식함을 좀 개선 해준 느낌)"
      ]
    },
    {
      "cell_type": "code",
      "metadata": {
        "id": "z0YeF1ZiSg8F"
      },
      "source": [
        "# libsvm 포맷의 데이터셋 생성\n",
        "col_len_dict = {'user_id': len(train_df['user_id'].unique()),\n",
        "                'movie_id': len(train_df['movie_id'].unique()),\n",
        "                'decade': len(train_df['decade'].unique()), \n",
        "                'main_genre': len(train_df['main_genre'].unique()), \n",
        "                'gender': len(train_df['gender'].unique()), \n",
        "                'occupation': len(train_df['occupation'].unique()),\n",
        "                'age_bucket': len(train_df['age_bucket'].unique())} #카테고리별로 무수히 긴 벡터에 0,1 을 때려 넣는게 아닌\n",
        "                # 딕셔너리를 통해 각 카테고리별 인덱스를 넣어놓는 형식\n",
        "col_accum_index_dict = {} #위에있는 각 점수를 축척한 값. -> 개별 sparse 벡터가 딕셔너리 형태 좌표값으로 있는건데.\n",
        "#그걸 모두 뭉쳤을때 하나의 벡터로 표현하기위해 각 sparse vector가 어느 위치에 있는지 알려주기위해 값들을 누적해서 표현해줌 \n",
        "cumulative = 0\n",
        "for key, value in col_len_dict.items():\n",
        "    col_accum_index_dict[key] = cumulative\n",
        "    cumulative = cumulative + value"
      ],
      "execution_count": 93,
      "outputs": []
    },
    {
      "cell_type": "code",
      "metadata": {
        "colab": {
          "base_uri": "https://localhost:8080/"
        },
        "id": "0hkni9KCnO9w",
        "outputId": "3a6c3d37-b1c4-4be2-d2c7-5ad9a6a9b416"
      },
      "source": [
        "col_len_dict"
      ],
      "execution_count": 94,
      "outputs": [
        {
          "output_type": "execute_result",
          "data": {
            "text/plain": [
              "{'age_bucket': 6,\n",
              " 'decade': 10,\n",
              " 'gender': 2,\n",
              " 'main_genre': 18,\n",
              " 'movie_id': 3662,\n",
              " 'occupation': 21,\n",
              " 'user_id': 5400}"
            ]
          },
          "metadata": {},
          "execution_count": 94
        }
      ]
    },
    {
      "cell_type": "code",
      "metadata": {
        "colab": {
          "base_uri": "https://localhost:8080/"
        },
        "id": "IXLwOLOfoCl1",
        "outputId": "6b111912-148a-4f13-aad8-f4795a25279d"
      },
      "source": [
        "col_accum_index_dict"
      ],
      "execution_count": 95,
      "outputs": [
        {
          "output_type": "execute_result",
          "data": {
            "text/plain": [
              "{'age_bucket': 9113,\n",
              " 'decade': 9062,\n",
              " 'gender': 9090,\n",
              " 'main_genre': 9072,\n",
              " 'movie_id': 5400,\n",
              " 'occupation': 9092,\n",
              " 'user_id': 0}"
            ]
          },
          "metadata": {},
          "execution_count": 95
        }
      ]
    },
    {
      "cell_type": "code",
      "metadata": {
        "id": "9sRBaYdNHqN5",
        "colab": {
          "base_uri": "https://localhost:8080/"
        },
        "outputId": "c8dea1f3-ea39-439b-efa6-88c67d1773ab"
      },
      "source": [
        "# ex. 1 634:1 6650:1 9065:1 9076:1 9091:1 9100:1 9114:1\n",
        "\n",
        "for idx, row in train_df.iterrows(): #libsvm 표현했을때 특정유저의 특정movie에 대한 특정 feacture을 sparse vector로 만들어줌\n",
        "  vec = []\n",
        "  label = row['y']\n",
        "  vec.append(str(label))\n",
        "  row = row.drop(labels=['rating'])\n",
        "  row = row.drop(labels=['y'])\n",
        "  for key, value in row.items():\n",
        "    col_idx = col_accum_index_dict[key] + value - 1 #libsvm 표현했을때 특정유저의 특정movie에 대한 특정 feacture의 값에 대한 index. Value는 1이다\n",
        "    vec.append(str(col_idx) + \":\" + str(1))\n",
        "  print(\"%s\\n\" % \" \".join(vec))\n",
        "  break "
      ],
      "execution_count": 96,
      "outputs": [
        {
          "output_type": "stream",
          "name": "stdout",
          "text": [
            "1 634:1 6650:1 9065:1 9076:1 9091:1 9100:1 9114:1\n",
            "\n"
          ]
        }
      ]
    },
    {
      "cell_type": "code",
      "metadata": {
        "colab": {
          "base_uri": "https://localhost:8080/",
          "height": 423
        },
        "id": "Pvq_pluBoxq3",
        "outputId": "590746cd-440c-4440-e2ff-00eb39db24cc"
      },
      "source": [
        "train_df"
      ],
      "execution_count": 97,
      "outputs": [
        {
          "output_type": "execute_result",
          "data": {
            "text/html": [
              "<div>\n",
              "<style scoped>\n",
              "    .dataframe tbody tr th:only-of-type {\n",
              "        vertical-align: middle;\n",
              "    }\n",
              "\n",
              "    .dataframe tbody tr th {\n",
              "        vertical-align: top;\n",
              "    }\n",
              "\n",
              "    .dataframe thead th {\n",
              "        text-align: right;\n",
              "    }\n",
              "</style>\n",
              "<table border=\"1\" class=\"dataframe\">\n",
              "  <thead>\n",
              "    <tr style=\"text-align: right;\">\n",
              "      <th></th>\n",
              "      <th>user_id</th>\n",
              "      <th>movie_id</th>\n",
              "      <th>rating</th>\n",
              "      <th>decade</th>\n",
              "      <th>main_genre</th>\n",
              "      <th>gender</th>\n",
              "      <th>occupation</th>\n",
              "      <th>age_bucket</th>\n",
              "      <th>y</th>\n",
              "    </tr>\n",
              "  </thead>\n",
              "  <tbody>\n",
              "    <tr>\n",
              "      <th>0</th>\n",
              "      <td>635</td>\n",
              "      <td>1251</td>\n",
              "      <td>4</td>\n",
              "      <td>4</td>\n",
              "      <td>5</td>\n",
              "      <td>2</td>\n",
              "      <td>9</td>\n",
              "      <td>2</td>\n",
              "      <td>1</td>\n",
              "    </tr>\n",
              "    <tr>\n",
              "      <th>1</th>\n",
              "      <td>635</td>\n",
              "      <td>3948</td>\n",
              "      <td>4</td>\n",
              "      <td>10</td>\n",
              "      <td>3</td>\n",
              "      <td>2</td>\n",
              "      <td>9</td>\n",
              "      <td>2</td>\n",
              "      <td>1</td>\n",
              "    </tr>\n",
              "    <tr>\n",
              "      <th>2</th>\n",
              "      <td>635</td>\n",
              "      <td>1270</td>\n",
              "      <td>4</td>\n",
              "      <td>3</td>\n",
              "      <td>3</td>\n",
              "      <td>2</td>\n",
              "      <td>9</td>\n",
              "      <td>2</td>\n",
              "      <td>1</td>\n",
              "    </tr>\n",
              "    <tr>\n",
              "      <th>3</th>\n",
              "      <td>635</td>\n",
              "      <td>1279</td>\n",
              "      <td>5</td>\n",
              "      <td>1</td>\n",
              "      <td>3</td>\n",
              "      <td>2</td>\n",
              "      <td>9</td>\n",
              "      <td>2</td>\n",
              "      <td>1</td>\n",
              "    </tr>\n",
              "    <tr>\n",
              "      <th>4</th>\n",
              "      <td>635</td>\n",
              "      <td>1286</td>\n",
              "      <td>4</td>\n",
              "      <td>3</td>\n",
              "      <td>5</td>\n",
              "      <td>2</td>\n",
              "      <td>9</td>\n",
              "      <td>2</td>\n",
              "      <td>1</td>\n",
              "    </tr>\n",
              "    <tr>\n",
              "      <th>...</th>\n",
              "      <td>...</td>\n",
              "      <td>...</td>\n",
              "      <td>...</td>\n",
              "      <td>...</td>\n",
              "      <td>...</td>\n",
              "      <td>...</td>\n",
              "      <td>...</td>\n",
              "      <td>...</td>\n",
              "      <td>...</td>\n",
              "    </tr>\n",
              "    <tr>\n",
              "      <th>800159</th>\n",
              "      <td>4528</td>\n",
              "      <td>912</td>\n",
              "      <td>4</td>\n",
              "      <td>6</td>\n",
              "      <td>5</td>\n",
              "      <td>2</td>\n",
              "      <td>12</td>\n",
              "      <td>3</td>\n",
              "      <td>1</td>\n",
              "    </tr>\n",
              "    <tr>\n",
              "      <th>800160</th>\n",
              "      <td>4528</td>\n",
              "      <td>2395</td>\n",
              "      <td>4</td>\n",
              "      <td>1</td>\n",
              "      <td>3</td>\n",
              "      <td>2</td>\n",
              "      <td>12</td>\n",
              "      <td>3</td>\n",
              "      <td>1</td>\n",
              "    </tr>\n",
              "    <tr>\n",
              "      <th>800161</th>\n",
              "      <td>4528</td>\n",
              "      <td>2599</td>\n",
              "      <td>5</td>\n",
              "      <td>1</td>\n",
              "      <td>3</td>\n",
              "      <td>2</td>\n",
              "      <td>12</td>\n",
              "      <td>3</td>\n",
              "      <td>1</td>\n",
              "    </tr>\n",
              "    <tr>\n",
              "      <th>800162</th>\n",
              "      <td>3326</td>\n",
              "      <td>912</td>\n",
              "      <td>4</td>\n",
              "      <td>6</td>\n",
              "      <td>5</td>\n",
              "      <td>2</td>\n",
              "      <td>4</td>\n",
              "      <td>4</td>\n",
              "      <td>1</td>\n",
              "    </tr>\n",
              "    <tr>\n",
              "      <th>800163</th>\n",
              "      <td>3326</td>\n",
              "      <td>3819</td>\n",
              "      <td>4</td>\n",
              "      <td>3</td>\n",
              "      <td>3</td>\n",
              "      <td>2</td>\n",
              "      <td>4</td>\n",
              "      <td>4</td>\n",
              "      <td>1</td>\n",
              "    </tr>\n",
              "  </tbody>\n",
              "</table>\n",
              "<p>800164 rows × 9 columns</p>\n",
              "</div>"
            ],
            "text/plain": [
              "        user_id  movie_id  rating  decade  ...  gender  occupation  age_bucket  y\n",
              "0           635      1251       4       4  ...       2           9           2  1\n",
              "1           635      3948       4      10  ...       2           9           2  1\n",
              "2           635      1270       4       3  ...       2           9           2  1\n",
              "3           635      1279       5       1  ...       2           9           2  1\n",
              "4           635      1286       4       3  ...       2           9           2  1\n",
              "...         ...       ...     ...     ...  ...     ...         ...         ... ..\n",
              "800159     4528       912       4       6  ...       2          12           3  1\n",
              "800160     4528      2395       4       1  ...       2          12           3  1\n",
              "800161     4528      2599       5       1  ...       2          12           3  1\n",
              "800162     3326       912       4       6  ...       2           4           4  1\n",
              "800163     3326      3819       4       3  ...       2           4           4  1\n",
              "\n",
              "[800164 rows x 9 columns]"
            ]
          },
          "metadata": {},
          "execution_count": 97
        }
      ]
    },
    {
      "cell_type": "markdown",
      "metadata": {
        "id": "O8HR6_qZXC3Q"
      },
      "source": [
        "## Step 4. 추천 랭킹 모델링 (Factorization Machine)"
      ]
    },
    {
      "cell_type": "markdown",
      "metadata": {
        "id": "KLhrv-y-Re8_"
      },
      "source": [
        "#### Factorization Machine\n",
        "\n",
        "![equation](https://img1.daumcdn.net/thumb/R1280x0/?scode=mtistory2&fname=https%3A%2F%2Fblog.kakaocdn.net%2Fdn%2FbRP7gn%2FbtqDw3LQxDB%2FXmWK8heUckUWpHx379UCM1%2Fimg.png)\n",
        "\n",
        "    \n",
        "    위에 식 : Regression + MF 의 꼴\n",
        "    [랭킹 모델의 형태와 역할]\n",
        "    1. Linear Regression, SVM처럼 동작하는 General predictor\n",
        "    2. 변수 간의 모든 pair-wise interaction을 계산하는 알고리즘\n",
        "    3. General predictor의 장점 + MF 알고리즘이 가지는 의미 단위 해석(latent factor)의 장점\n",
        "    4. sparse한 데이터셋을 가지고 있을 때 적합"
      ]
    },
    {
      "cell_type": "markdown",
      "metadata": {
        "id": "QzKVcaHcUXBs"
      },
      "source": [
        "### 문제 20. 학습 데이터 생성 - 특정 시간 기준 Train/Test 데이터셋 생성"
      ]
    },
    {
      "cell_type": "code",
      "metadata": {
        "colab": {
          "base_uri": "https://localhost:8080/"
        },
        "id": "l3cZ-gom6t6C",
        "outputId": "52d72109-24ef-4a8a-c88f-bb8bae5f66b6"
      },
      "source": [
        "!pip install xlearn #파이썬 기반 C++라이브러리라 쓰기가 쉽지는 않다"
      ],
      "execution_count": 98,
      "outputs": [
        {
          "output_type": "stream",
          "name": "stdout",
          "text": [
            "Collecting xlearn\n",
            "  Downloading xlearn-0.40a1.tar.gz (4.9 MB)\n",
            "\u001b[K     |████████████████████████████████| 4.9 MB 4.0 MB/s \n",
            "\u001b[?25hBuilding wheels for collected packages: xlearn\n",
            "  Building wheel for xlearn (setup.py) ... \u001b[?25l\u001b[?25hdone\n",
            "  Created wheel for xlearn: filename=xlearn-0.40a1-py3-none-any.whl size=229989 sha256=d9c924e5e9e66919d1b4442341f86a499fbd14811a50d645457b1959d505a823\n",
            "  Stored in directory: /root/.cache/pip/wheels/1e/6d/eb/256faaf8142a9363431e2dc3f6a3d1c9080f526a1e5475049d\n",
            "Successfully built xlearn\n",
            "Installing collected packages: xlearn\n",
            "Successfully installed xlearn-0.40a1\n"
          ]
        }
      ]
    },
    {
      "cell_type": "code",
      "metadata": {
        "id": "39sdm7NtU3Jp"
      },
      "source": [
        "txt_file = open('train.txt', 'w')\n",
        "for idx, row in train_df.iterrows():\n",
        "  vec = []\n",
        "  label = row['y']\n",
        "  vec.append(str(label))\n",
        "  row = row.drop(labels=['rating'])\n",
        "  row = row.drop(labels=['y'])\n",
        "  for key, value in row.items():\n",
        "    col_idx = col_accum_index_dict[key] + value - 1\n",
        "    vec.append(str(col_idx) + \":\" + str(1))\n",
        "  txt_file.write(\"%s\\n\" % \" \".join(vec))\n",
        "txt_file.close()"
      ],
      "execution_count": null,
      "outputs": []
    },
    {
      "cell_type": "code",
      "metadata": {
        "id": "4ze4w4IyRr70"
      },
      "source": [
        "txt_file = open('test.txt', 'w')\n",
        "for idx, row in test_df.iterrows():\n",
        "  vec = []\n",
        "  label = row['y']\n",
        "  vec.append(str(label))\n",
        "  row = row.drop(labels=['rating'])\n",
        "  row = row.drop(labels=['y'])\n",
        "  for key, value in row.items():\n",
        "    col_idx = col_accum_index_dict[key] + value - 1\n",
        "    vec.append(str(col_idx) + \":\" + str(1))\n",
        "  txt_file.write(\"%s\\n\" % \" \".join(vec))\n",
        "txt_file.close()"
      ],
      "execution_count": null,
      "outputs": []
    },
    {
      "cell_type": "markdown",
      "metadata": {
        "id": "9cFSVpqMUXRk"
      },
      "source": [
        "### 문제 21. 모델링 - FM Binary Classification 모델 학습"
      ]
    },
    {
      "cell_type": "code",
      "metadata": {
        "id": "YXevmmxSU6cs"
      },
      "source": [
        "import numpy as np\n",
        "from sklearn.metrics import roc_auc_score\n",
        "\n",
        "\n",
        "class FactorizationMachine():\n",
        "    \"\"\"\n",
        "    This Class is implementation of this paper : https://www.csie.ntu.edu.tw/~b97053/paper/Rendle2010FM.pdf\n",
        "    Just a example of FM Algorithm, not for production.\n",
        "    -----\n",
        "    Only simple methods are available.\n",
        "    e.g 1 : batch training, adagrad optimizer, parallel training are not supported.\n",
        "    e.g 2 : simple optimizer Stochastic Gradient Descent with L2 Regularization.\n",
        "    e.g 3 : using titanic dataset on local memory.\n",
        "    \"\"\"\n",
        "    def __init__(self, k, lr, l2_reg, l2_lambda, epoch, early_stop_window, train_data, valid_data):\n",
        "        \"\"\"\n",
        "        :param k: number of latent vector\n",
        "        :param lr: learning rate\n",
        "        :param l2_reg: bool parameter for L2 regularization\n",
        "        :param l2_lambda: lambda of L2 regularization\n",
        "        :param epoch: training epoch\n",
        "        :param train_data: path of train data\n",
        "        :param valid_data: path of valid data\n",
        "        \"\"\"\n",
        "        self._k = k\n",
        "        self._lr = lr\n",
        "        self._l2_reg = l2_reg\n",
        "        self._l2_lambda = l2_lambda\n",
        "        self._epoch = epoch\n",
        "        self._early_stop_window = early_stop_window\n",
        "        self._train_file_path = train_data\n",
        "        self._valid_file_path = valid_data\n",
        "        self._valid_loss_list = []\n",
        "\n",
        "    def _load_dataset(self):\n",
        "        \"\"\"\n",
        "        1. load dataset to memory from train/valid path\n",
        "        2. find max index in dataset for w's vector size\n",
        "        \"\"\"\n",
        "        # load data\n",
        "        train_file = open(self._train_file_path, 'r')\n",
        "        valid_file = open(self._valid_file_path, 'r')\n",
        "        self._train_data = train_file.read().split('\\n')\n",
        "        self._valid_data = valid_file.read().split('\\n')\n",
        "        train_file.close()\n",
        "        valid_file.close()\n",
        "\n",
        "        # find max index\n",
        "        self.feature_max_index = 0\n",
        "        print(\"Start to init FM vectors.\")\n",
        "        for row in self._train_data:\n",
        "            for element in row.split(\" \")[1:]:\n",
        "                index = int(element.split(\":\")[0])\n",
        "                if self.feature_max_index < index:\n",
        "                    self.feature_max_index = index\n",
        "\n",
        "        for row in self._valid_data:\n",
        "            for element in row.split(\" \")[1:]:\n",
        "                index = int(element.split(\":\")[0])\n",
        "                if self.feature_max_index < index:\n",
        "                    self.feature_max_index = index\n",
        "\n",
        "        # init FM vectors\n",
        "        self._init_vectors()\n",
        "        print(\"Finish init FM vectors.\")\n",
        "\n",
        "    def _init_vectors(self):\n",
        "        \"\"\"\n",
        "        1. initialize FM vectors\n",
        "        2. Conduct naive transformation libsvm format txt data to numpy training sample.\n",
        "        \"\"\"\n",
        "        self.w = np.random.randn(self.feature_max_index+1)\n",
        "        self.v = np.random.randn(self.feature_max_index+1, self._k)\n",
        "        self.train_x_data = []\n",
        "        self.train_y_data = np.zeros((len(self._train_data)-1))\n",
        "        self.valid_x_data = []\n",
        "        self.valid_y_data = np.zeros((len(self._valid_data)-1))\n",
        "\n",
        "        # make numpy dataset\n",
        "        for n, row in enumerate(self._train_data):\n",
        "            element = row.split(\" \")\n",
        "            if len(element) > 1:\n",
        "              self.train_y_data[n] = int(element[0])\n",
        "              self.train_x_data.append([np.array([int(pair.split(\":\")[0]) for pair in element[1:]]),\n",
        "                                        np.array([int(pair.split(\":\")[1]) for pair in element[1:]])])\n",
        "\n",
        "        for n, row in enumerate(self._valid_data):\n",
        "            element = row.split(\" \")\n",
        "            if len(element) > 1:\n",
        "              self.valid_y_data[n] = int(element[0])\n",
        "              self.valid_x_data.append([np.array([int(pair.split(\":\")[0]) for pair in element[1:]]),\n",
        "                                        np.array([int(pair.split(\":\")[1]) for pair in element[1:]])])\n",
        "\n",
        "    def train(self):\n",
        "        \"\"\"\n",
        "        Train FM model by Gradient Descent with L2 regularization\n",
        "        \"\"\"\n",
        "        self._load_dataset()\n",
        "        for epoch_num in range(1, self._epoch):\n",
        "            train_y_hat = self.predict(data=self.train_x_data)\n",
        "            valid_y_hat = self.predict(data=self.valid_x_data)\n",
        "            train_loss = self._get_loss(y_data=self.train_y_data, y_hat=train_y_hat)\n",
        "            valid_loss = self._get_loss(y_data=self.valid_y_data, y_hat=valid_y_hat)\n",
        "            train_auc = roc_auc_score(self.train_y_data, train_y_hat)\n",
        "            valid_auc = roc_auc_score(self.valid_y_data, valid_y_hat)\n",
        "            self._print_learning_info(epoch=epoch_num, train_loss=train_loss, valid_loss=valid_loss,\n",
        "                                      train_auc=train_auc, valid_auc=valid_auc)\n",
        "            if self._check_early_stop(valid_loss=valid_loss):\n",
        "                print(\"Early stop at epoch:\", epoch_num)\n",
        "                return 0\n",
        "\n",
        "            self._stochastic_gradient_descent(self.train_x_data, self.train_y_data)\n",
        "\n",
        "    def predict(self, data):\n",
        "        \"\"\"\n",
        "        Implementation of FM model's equation on O(kmd)\n",
        "        -----\n",
        "        Numpy array shape : (n, [index of md], [value of md])\n",
        "        md : none-zero feature\n",
        "        \"\"\"\n",
        "        num_data = len(data)\n",
        "        scores = np.zeros(num_data)\n",
        "        for n in range(num_data):\n",
        "            feat_idx = data[n][0]\n",
        "            val = data[n][1]\n",
        "\n",
        "            # linear feature score\n",
        "            linear_feature_score = np.sum(self.w[feat_idx] * val)\n",
        "\n",
        "            # factorized feature score\n",
        "            vx = self.v[feat_idx] * (val.reshape(-1, 1))\n",
        "            cross_sum = np.sum(vx, axis=0)\n",
        "            square_sum = np.sum(vx * vx, axis=0)\n",
        "            cross_feature_score = 0.5 * np.sum(np.square(cross_sum) - square_sum)\n",
        "\n",
        "            # Model's equation\n",
        "            scores[n] = linear_feature_score + cross_feature_score\n",
        "\n",
        "        # Sigmoid transformation for binary classification\n",
        "        scores = 1.0 / (1.0 + np.exp(-scores))\n",
        "        return scores\n",
        "\n",
        "    def _get_loss(self, y_data, y_hat):\n",
        "        \"\"\"\n",
        "        Calculate loss with L2 regularization (two type of coeficient - w,v)\n",
        "        \"\"\"\n",
        "        l2_norm = 0\n",
        "        if self._l2_reg:\n",
        "            w_norm = np.sqrt(np.sum(np.square(self.w)))\n",
        "            v_norm = np.sqrt(np.sum(np.square(self.v)))\n",
        "            l2_norm = self._l2_lambda * (w_norm + v_norm)\n",
        "        return -1 * np.sum( (y_data * np.log(y_hat)) + ((1 - y_data) * np.log(1 - y_hat)) ) + l2_norm\n",
        "\n",
        "    def _check_early_stop(self, valid_loss):\n",
        "        self._valid_loss_list.append(valid_loss)\n",
        "        if len(self._valid_loss_list) > 5:\n",
        "            prev_loss = self._valid_loss_list[len(self._valid_loss_list) - self._early_stop_window]\n",
        "            curr_loss = valid_loss\n",
        "            if prev_loss < curr_loss:\n",
        "                return True\n",
        "        return False\n",
        "\n",
        "    def _print_learning_info(self, epoch, train_loss, valid_loss, train_auc, valid_auc):\n",
        "        print(\"epoch:\", epoch, \"||\", \"train_loss:\", train_loss, \"||\", \"valid_loss:\", valid_loss,\n",
        "              \"||\", \"Train AUC:\", train_auc, \"||\", \"Test AUC:\", valid_auc)\n",
        "\n",
        "\n",
        "    def _stochastic_gradient_descent(self, x_data, y_data):\n",
        "        \"\"\"\n",
        "        Update each coefs (w, v) by Gradient Descent\n",
        "        \"\"\"\n",
        "        for data, y in zip(x_data, y_data):\n",
        "            feat_idx = data[0]\n",
        "            val = data[1]\n",
        "            vx = self.v[feat_idx] * (val.reshape(-1, 1))\n",
        "\n",
        "            # linear feature score\n",
        "            linear_feature_score = np.sum(self.w[feat_idx] * val)\n",
        "\n",
        "            # factorized feature score\n",
        "            vx = self.v[feat_idx] * (val.reshape(-1, 1))\n",
        "            cross_sum = np.sum(vx, axis=0)\n",
        "            square_sum = np.sum(vx * vx, axis=0)\n",
        "            cross_feature_score = 0.5 * np.sum(np.square(cross_sum) - square_sum)\n",
        "\n",
        "            # Model's equation\n",
        "            score = linear_feature_score + cross_feature_score\n",
        "            y_hat = 1.0 / (1.0 + np.exp(-score))\n",
        "            cost = y_hat - y\n",
        "\n",
        "            if self._l2_reg:\n",
        "                self.w[feat_idx] = self.w[feat_idx] - cost * self._lr * (val + self._l2_lambda * self.w[feat_idx])\n",
        "                self.v[feat_idx] = self.v[feat_idx] - cost * self._lr * ((sum(vx) * (val.reshape(-1, 1)) - (vx * (val.reshape(-1, 1)))) + self._l2_lambda * self.v[feat_idx])\n",
        "            else:\n",
        "                self.w[feat_idx] = self.w[feat_idx] - cost * self._lr * val\n",
        "                self.v[feat_idx] = self.v[feat_idx] - cost * self._lr * (sum(vx) * (val.reshape(-1, 1)) - (vx * (val.reshape(-1, 1))))"
      ],
      "execution_count": null,
      "outputs": []
    },
    {
      "cell_type": "markdown",
      "metadata": {
        "id": "eKYA0QAKUXfP"
      },
      "source": [
        "### 문제 22. 모델링 - AUC 평가"
      ]
    },
    {
      "cell_type": "code",
      "metadata": {
        "id": "BelH_I93nBlC",
        "colab": {
          "base_uri": "https://localhost:8080/"
        },
        "outputId": "ed12591c-b6bc-4760-c5fb-5963d19c02d8"
      },
      "source": [
        "fm = FactorizationMachine(k=4,#MF에서 Latent Factor의 dimension\n",
        "                          lr=0.005, #Learning rating\n",
        "                          l2_reg=True, #그 외 정규화\n",
        "                          l2_lambda=0.0002, #그 외 정규화\n",
        "                          epoch=30,\n",
        "                          early_stop_window=3, #3번째 반복부터 큰차이 없으면 학습 중단\n",
        "                          train_data='./train.txt',\n",
        "                          valid_data='./test.txt')\n",
        "fm.train()"
      ],
      "execution_count": null,
      "outputs": [
        {
          "output_type": "stream",
          "text": [
            "Start to init FM vectors.\n",
            "Finish init FM vectors.\n"
          ],
          "name": "stdout"
        },
        {
          "output_type": "stream",
          "text": [
            "/usr/local/lib/python3.6/dist-packages/ipykernel_launcher.py:152: RuntimeWarning: divide by zero encountered in log\n",
            "/usr/local/lib/python3.6/dist-packages/ipykernel_launcher.py:152: RuntimeWarning: invalid value encountered in multiply\n"
          ],
          "name": "stderr"
        },
        {
          "output_type": "stream",
          "text": [
            "epoch: 1 || train_loss: nan || valid_loss: nan || Train AUC: 0.4921103729117869 || Test AUC: 0.49304915298621127\n",
            "epoch: 2 || train_loss: 736900.2836016961 || valid_loss: 198644.74687446197 || Train AUC: 0.5800798753509125 || Test AUC: 0.5619787034050658\n",
            "epoch: 3 || train_loss: 651009.9312976537 || valid_loss: 180090.75890737606 || Train AUC: 0.6170377247586235 || Test AUC: 0.5872701632247662\n",
            "epoch: 4 || train_loss: 605023.7906217531 || valid_loss: 169998.84888488898 || Train AUC: 0.6425698141531598 || Test AUC: 0.6041856323230529\n",
            "epoch: 5 || train_loss: 576017.5491097918 || valid_loss: 163575.5639834436 || Train AUC: 0.6614054044251164 || Test AUC: 0.6166846867487699\n",
            "epoch: 6 || train_loss: 555887.8108497746 || valid_loss: 159121.3592374289 || Train AUC: 0.6759621226758684 || Test AUC: 0.6264261366402801\n",
            "epoch: 7 || train_loss: 541028.4093140943 || valid_loss: 155872.33083542256 || Train AUC: 0.6875697318401519 || Test AUC: 0.634224237309259\n",
            "epoch: 8 || train_loss: 529556.0962632183 || valid_loss: 153410.5791362925 || Train AUC: 0.6970478273957991 || Test AUC: 0.640583545581711\n",
            "epoch: 9 || train_loss: 520392.7994923586 || valid_loss: 151484.37900942547 || Train AUC: 0.7049339823068209 || Test AUC: 0.6458456482520428\n",
            "epoch: 10 || train_loss: 512882.2335284191 || valid_loss: 149934.75143550636 || Train AUC: 0.7115981180091674 || Test AUC: 0.6502620196962721\n",
            "epoch: 11 || train_loss: 506602.6437924827 || valid_loss: 148658.16287764962 || Train AUC: 0.7173020233713663 || Test AUC: 0.6540199024561956\n",
            "epoch: 12 || train_loss: 501268.8965244307 || valid_loss: 147585.3942050374 || Train AUC: 0.7222376701997938 || Test AUC: 0.6572556094927172\n",
            "epoch: 13 || train_loss: 496679.42976295965 || valid_loss: 146668.91468987166 || Train AUC: 0.7265503627329477 || Test AUC: 0.660072267998942\n",
            "epoch: 14 || train_loss: 492686.43030737306 || valid_loss: 145875.17003499676 || Train AUC: 0.7303528001885679 || Test AUC: 0.662548345226313\n",
            "epoch: 15 || train_loss: 489178.30362302455 || valid_loss: 145179.80201035453 || Train AUC: 0.7337321513382349 || Test AUC: 0.6647453220224107\n",
            "epoch: 16 || train_loss: 486068.9098659161 || valid_loss: 144564.65736258053 || Train AUC: 0.7367596622777405 || Test AUC: 0.6667063528538753\n",
            "epoch: 17 || train_loss: 483290.6547013685 || valid_loss: 144015.9049259066 || Train AUC: 0.73949100582059 || Test AUC: 0.6684695438072158\n",
            "epoch: 18 || train_loss: 480789.8377139825 || valid_loss: 143522.83537113035 || Train AUC: 0.7419723247205365 || Test AUC: 0.6700651167690872\n",
            "epoch: 19 || train_loss: 478523.37531079294 || valid_loss: 143077.07299033145 || Train AUC: 0.7442415573131379 || Test AUC: 0.6715149723735633\n",
            "epoch: 20 || train_loss: 476456.4049609758 || valid_loss: 142672.03132923538 || Train AUC: 0.7463289338426067 || Test AUC: 0.672837193157213\n",
            "epoch: 21 || train_loss: 474560.4861116522 || valid_loss: 142302.5139314887 || Train AUC: 0.7482595989885975 || Test AUC: 0.6740498502914085\n",
            "epoch: 22 || train_loss: 472812.22584629 || valid_loss: 141964.40662111205 || Train AUC: 0.7500547265917545 || Test AUC: 0.6751638885628002\n",
            "epoch: 23 || train_loss: 471192.21992970037 || valid_loss: 141654.43423156763 || Train AUC: 0.7517313401332746 || Test AUC: 0.6761886356527969\n",
            "epoch: 24 || train_loss: 469684.23490307183 || valid_loss: 141369.9678675115 || Train AUC: 0.753303738373396 || Test AUC: 0.677134818887172\n",
            "epoch: 25 || train_loss: 468274.5762768101 || valid_loss: 141108.8737867128 || Train AUC: 0.7547843152045111 || Test AUC: 0.6780070337632327\n",
            "epoch: 26 || train_loss: 466951.59906238917 || valid_loss: 140869.39607028564 || Train AUC: 0.7561834795639356 || Test AUC: 0.6788128214954086\n",
            "epoch: 27 || train_loss: 465705.32497594226 || valid_loss: 140650.06534563776 || Train AUC: 0.7575098887387297 || Test AUC: 0.6795571266549288\n",
            "epoch: 28 || train_loss: 464527.13849524106 || valid_loss: 140449.62637381622 || Train AUC: 0.7587714398599181 || Test AUC: 0.6802441917076544\n",
            "epoch: 29 || train_loss: 463409.542218049 || valid_loss: 140266.9785891072 || Train AUC: 0.7599752054906321 || Test AUC: 0.6808788156082214\n"
          ],
          "name": "stdout"
        }
      ]
    },
    {
      "cell_type": "markdown",
      "metadata": {
        "id": "m-yLXYyOUXuA"
      },
      "source": [
        "## Step 5. 모의 추천 시스템 구축"
      ]
    },
    {
      "cell_type": "markdown",
      "metadata": {
        "id": "1kmxsj7jS4vV"
      },
      "source": [
        "### 문제 23. 추천 결과 평가 - 특정 시간 기준 유저별 시청 목록 추출 (Train/Test과 동일 기준)"
      ]
    },
    {
      "cell_type": "code",
      "metadata": {
        "id": "ujM6U-G6ESS8"
      },
      "source": [
        "# train 데이터셋에서 유저 시청 목록 추출"
      ],
      "execution_count": null,
      "outputs": []
    },
    {
      "cell_type": "markdown",
      "metadata": {
        "id": "173B_mtnUX7d"
      },
      "source": [
        "### 문제 24. 추천 결과 평가 - Train 데이터 기반 유저별 추천 후보군 생성"
      ]
    },
    {
      "cell_type": "markdown",
      "metadata": {
        "id": "z_3VC8ow5ZCR"
      },
      "source": [
        "#### 1) 최근 시청한 3개 영화의 연관 영화 목록 추출"
      ]
    },
    {
      "cell_type": "code",
      "metadata": {
        "id": "zu4R0ImhDd9i"
      },
      "source": [
        "# train 데이터셋으로만 m2v 모델 학습"
      ],
      "execution_count": null,
      "outputs": []
    },
    {
      "cell_type": "code",
      "metadata": {
        "id": "niAfdiveU_8r"
      },
      "source": [
        "model = Word2Vec(movie2vec_dataset,\n",
        "                 size=100,\n",
        "                 window=6,  # 주변 word의 윈도우\n",
        "                 sg=1,  # skip-gram OR cbow\n",
        "                 hs=0,  # hierarchical softmax OR negative sampling\n",
        "                 negative=20,  # negative sampling 파라미터\n",
        "                 min_count=1,  # word의 등장 최소 횟수\n",
        "                 iter=20)"
      ],
      "execution_count": null,
      "outputs": []
    },
    {
      "cell_type": "code",
      "metadata": {
        "id": "B4EZnSNgFgh9"
      },
      "source": [
        "# 유저별 최근 시청한 3개 영화 추출\n",
        "recent_user_watch_list = rating_df[rating_df['time'] < 975768738].groupby('user_id')[['movie_id', 'time']].apply(lambda x : get_recent_movie_list_sort_by_time(x, 3))"
      ],
      "execution_count": null,
      "outputs": []
    },
    {
      "cell_type": "code",
      "metadata": {
        "id": "4mZkXef6HI08"
      },
      "source": [
        "# 영화별 연관 영화 (item2item) k개씩 추출"
      ],
      "execution_count": null,
      "outputs": []
    },
    {
      "cell_type": "markdown",
      "metadata": {
        "id": "3ujTR8-5KiIB"
      },
      "source": [
        "#### 2) 평점 기반 인기 영화"
      ]
    },
    {
      "cell_type": "code",
      "metadata": {
        "id": "TkXcbtCItGF8"
      },
      "source": [
        "# 평점 높은 상위 10개의 영화 추출"
      ],
      "execution_count": null,
      "outputs": []
    },
    {
      "cell_type": "markdown",
      "metadata": {
        "id": "w9Fl6b6UKn8n"
      },
      "source": [
        "#### 3) 장르, 연도별 인기 영화"
      ]
    },
    {
      "cell_type": "code",
      "metadata": {
        "id": "sJLdfNWJKnnr"
      },
      "source": [
        "# 장르&연도를 meta로 하여, meta별 상위 10개의 평점 높은 영화 리스트 추출"
      ],
      "execution_count": null,
      "outputs": []
    },
    {
      "cell_type": "markdown",
      "metadata": {
        "id": "A1Ys2cgbLWAg"
      },
      "source": [
        "#### 4) 4개 추천 후보군 병합"
      ]
    },
    {
      "cell_type": "code",
      "metadata": {
        "id": "mOccCiAPLaYb"
      },
      "source": [
        "# 위에서 추출한 후보군들을 하나로 병합"
      ],
      "execution_count": null,
      "outputs": []
    },
    {
      "cell_type": "markdown",
      "metadata": {
        "id": "ThXkF9teOzkL"
      },
      "source": [
        "##### 유저별 선호 장르/연도 파악"
      ]
    },
    {
      "cell_type": "code",
      "metadata": {
        "id": "GU_ITvvxPbiM"
      },
      "source": [
        "# 1. 유저별 시청 히스토리를 기준으로 선호하는 장르/연도 지정\n",
        "# 2. 선호하는 장르/연도의 인기 리스트 추출"
      ],
      "execution_count": null,
      "outputs": []
    },
    {
      "cell_type": "markdown",
      "metadata": {
        "id": "WTCAXtCZSay5"
      },
      "source": [
        "##### 최종 병합"
      ]
    },
    {
      "cell_type": "code",
      "metadata": {
        "id": "nE6su4uuvLa9"
      },
      "source": [
        ""
      ],
      "execution_count": null,
      "outputs": []
    },
    {
      "cell_type": "markdown",
      "metadata": {
        "id": "qvQbBlxeS9wD"
      },
      "source": [
        "### 문제 25. 추천 결과 평가 - 랭킹 모델로 추천 후보군 K개 정렬"
      ]
    },
    {
      "cell_type": "markdown",
      "metadata": {
        "id": "423FEDAmW0di"
      },
      "source": [
        "#### predict 가능한 포맷으로 변경\n",
        "- ex) [[array([31, 55, 66, 77]), array([1, 1, 1, 1])]]"
      ]
    },
    {
      "cell_type": "code",
      "metadata": {
        "id": "Y0nfEYKwjwtw"
      },
      "source": [
        ""
      ],
      "execution_count": null,
      "outputs": []
    },
    {
      "cell_type": "code",
      "metadata": {
        "id": "ddjlIbvYgWaf"
      },
      "source": [
        ""
      ],
      "execution_count": null,
      "outputs": []
    },
    {
      "cell_type": "code",
      "metadata": {
        "id": "xa5mb4WjgWdT"
      },
      "source": [
        ""
      ],
      "execution_count": null,
      "outputs": []
    },
    {
      "cell_type": "markdown",
      "metadata": {
        "id": "sE39eppIfIwv"
      },
      "source": [
        "#### 후보군 정렬"
      ]
    },
    {
      "cell_type": "code",
      "metadata": {
        "id": "jNl8FX_hfPq4"
      },
      "source": [
        "# 유저별 추천 후보군 재정렬\n",
        "# ex. \n",
        "# {635: {1664: 0.49089334810703084, 3498: 0.7017178066091346, 2444: 0.3960630484760756...}, ...}\n",
        "# -> {userid: {movieid: score...}...}"
      ],
      "execution_count": null,
      "outputs": []
    },
    {
      "cell_type": "code",
      "metadata": {
        "id": "LsDmD9kriLsy",
        "colab": {
          "base_uri": "https://localhost:8080/",
          "height": 103
        },
        "outputId": "b9f2a3e3-b70d-45e9-b83f-7ec973e00843"
      },
      "source": [
        "str(user_recommendation_dict)[:2000]"
      ],
      "execution_count": null,
      "outputs": [
        {
          "output_type": "execute_result",
          "data": {
            "application/vnd.google.colaboratory.intrinsic+json": {
              "type": "string"
            },
            "text/plain": [
              "'{635: {1664: 0.49089334810703084, 3498: 0.7017178066091346, 2444: 0.3960630484760756, 3152: 0.9267421332219103, 527: 0.906818420614163, 787: 0.8598210292115226, 2964: 0.49588669638145944, 922: 0.982938255727678, 1178: 0.9484776307851908, 1041: 0.8669462244704258, 537: 0.549539598898913, 1701: 0.8241026949792277, 1830: 0.16538777379886402, 372: 0.40789551375524885, 50: 0.9608472119143907, 2908: 0.8413125456347317, 53: 0.40820096414145074, 3382: 0.9968718349209549, 318: 0.912371092519536, 1471: 0.8704239191580381, 3006: 0.8130977243189997, 3522: 0.781827773625932, 2503: 0.6881686870074593, 2610: 0.9471364810657155, 1955: 0.7705156756575101, 2905: 0.8373731467801648, 858: 0.9526282013504191, 989: 0.1534201482163519, 371: 0.5308118956903058, 2019: 0.9851106898334485, 3201: 0.7831165743484206, 745: 0.9605919071180541, 2930: 0.9943506643249671, 1476: 0.6154292429949801, 1148: 0.9551935409057166, 3163: 0.7549520403458307}, 636: {1664: 0.9969645379579196, 2977: 0.39311269548383027, 466: 0.3561161179138224, 2444: 0.9497407962119908, 1762: 0.13427362867081133, 3146: 0.30124938578183846, 527: 0.9552889370389953, 787: 0.9583230736383349, 2964: 0.8383208743761764, 922: 0.9763335941818866, 1178: 0.8661635222007678, 379: 0.6058716894681772, 442: 0.6043344648202376, 1830: 0.9881795448276919, 50: 0.9766793142892624, 53: 0.9719690680849682, 3382: 0.9998692011464098, 196: 0.39610568439341287, 318: 0.9380225412547604, 1471: 0.8666744038177431, 3326: 0.6248576362373083, 3522: 0.10390601948906227, 2503: 0.9462347853198093, 435: 0.6896573108522145, 332: 0.4354207370496189, 2905: 0.9211134786173443, 3180: 0.020027753344978756, 858: 0.9619828740618135, 989: 0.08412842399652949, 2525: 0.5138511236112588, 780: 0.6769360452351423, 2019: 0.976205616680101, 745: 0.9420676708374995, 1676: 0.5699376392017544, 2930: 0.9944958536932457, 1320: 0.5288169857527165, 1148: 0.9451463876173282}, 637: {1664: 0.9601895646931214, 368: 0.6424317784137946, 2476: 0.4335441401750167, 2444: 0.95065552610112, 527: '"
            ]
          },
          "metadata": {
            "tags": []
          },
          "execution_count": 154
        }
      ]
    },
    {
      "cell_type": "markdown",
      "metadata": {
        "id": "SHPb32edTELY"
      },
      "source": [
        "## Step 6. 추천 결과 평가"
      ]
    },
    {
      "cell_type": "markdown",
      "metadata": {
        "id": "uGheYASLTGT8"
      },
      "source": [
        "### 문제 26. 추천 결과 평가 - 추천 후보군과 Test 데이터간의 MAP@K 계산"
      ]
    },
    {
      "cell_type": "code",
      "metadata": {
        "id": "ESaTx28EwRpW"
      },
      "source": [
        "# 4점 이상을 준 test 시청 리스트 추출하여 MAP 계산"
      ],
      "execution_count": null,
      "outputs": []
    },
    {
      "cell_type": "code",
      "metadata": {
        "id": "O8Ujbvnt8Twn",
        "colab": {
          "base_uri": "https://localhost:8080/",
          "height": 298
        },
        "outputId": "a6e6381b-13d2-43f2-a5f8-db2fcc332c1e"
      },
      "source": [
        "# 아래 그래프처럼 map@k 시각화"
      ],
      "execution_count": null,
      "outputs": [
        {
          "output_type": "display_data",
          "data": {
            "image/png": "[encoded data removed]",
            "text/plain": [
              "<Figure size 432x288 with 1 Axes>"
            ]
          },
          "metadata": {
            "tags": [],
            "needs_background": "light"
          }
        }
      ]
    },
    {
      "cell_type": "code",
      "metadata": {
        "id": "WmI2tVRxyohC"
      },
      "source": [
        ""
      ],
      "execution_count": null,
      "outputs": []
    }
  ]
}